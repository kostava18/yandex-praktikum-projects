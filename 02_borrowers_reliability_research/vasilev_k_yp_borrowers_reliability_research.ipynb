{
 "cells": [
  {
   "cell_type": "markdown",
   "id": "742fd974",
   "metadata": {},
   "source": [
    "# Исследование надежности заемщиков\n",
    "\n",
    "**Описание проекта**\n",
    "\n",
    "Наш заказчик — кредитный отдел банка. Заказчик строит модель кредитного скоринга — специальной системы, которая оценивает способность потенциального заёмщика вернуть кредит банку. Нам необходимо на основании статистики о платёжеспособности клиентов определить, влияет ли семейное положение и количество детей клиента на факт погашения кредита в срок, чтобы учесть эти выводы в модели.\n",
    "\n",
    "**Цели и задачи проекта**\n",
    "\n",
    "Цель проекта - опеределить как влияет семейное положение и количество детей заемщика на факт погашения кредита в срок.\n",
    "\n",
    "Задачи проекта:\n",
    "1. Провести загрузку и предобработку даннных  \n",
    "2. Декомпозировать исходный датафрейм и категоризировать отдельные параметры  \n",
    "3. Оценить влияние различных факторов на просрочку по кредиту"
   ]
  },
  {
   "cell_type": "markdown",
   "id": "23a60bc0",
   "metadata": {},
   "source": [
    "# Содержание\n",
    "1. [Обзор данных](#start)<a id='start2'></a> \n",
    "2. [Заполнение пропусков](#step2)  \n",
    "3. [Проверка данных на аномалии и исправления](#step3)     \n",
    "4. [Изменение типов данных](#step4)  \n",
    "5. [Удаление дубликатов](#step5)  \n",
    "6. [Формирование дополнительных датафреймов словарей, декомпозиция исходного датафрейма](#step6)  \n",
    "7. [Категоризация дохода](#step7)  \n",
    "8. [Категоризация целей кредита](#step8)  \n",
    "9. [Оценка зависимости просрочки от различных факторов](#step9)  \n",
    "10. [Ответы на вопросы](#step10)  \n",
    "11. [Общий вывод](#step11)  "
   ]
  },
  {
   "cell_type": "markdown",
   "id": "9b74cc85",
   "metadata": {},
   "source": [
    "## [Обзор данных](#start2)\n",
    "<a id=\"start\"></a>"
   ]
  },
  {
   "cell_type": "code",
   "execution_count": null,
   "id": "43ad592b",
   "metadata": {},
   "outputs": [],
   "source": [
    "import pandas as pd"
   ]
  },
  {
   "cell_type": "code",
   "execution_count": 1,
   "id": "e0ec25f2",
   "metadata": {},
   "outputs": [
    {
     "data": {
      "text/html": [
       "<div>\n",
       "<style scoped>\n",
       "    .dataframe tbody tr th:only-of-type {\n",
       "        vertical-align: middle;\n",
       "    }\n",
       "\n",
       "    .dataframe tbody tr th {\n",
       "        vertical-align: top;\n",
       "    }\n",
       "\n",
       "    .dataframe thead th {\n",
       "        text-align: right;\n",
       "    }\n",
       "</style>\n",
       "<table border=\"1\" class=\"dataframe\">\n",
       "  <thead>\n",
       "    <tr style=\"text-align: right;\">\n",
       "      <th></th>\n",
       "      <th>children</th>\n",
       "      <th>days_employed</th>\n",
       "      <th>dob_years</th>\n",
       "      <th>education</th>\n",
       "      <th>education_id</th>\n",
       "      <th>family_status</th>\n",
       "      <th>family_status_id</th>\n",
       "      <th>gender</th>\n",
       "      <th>income_type</th>\n",
       "      <th>debt</th>\n",
       "      <th>total_income</th>\n",
       "      <th>purpose</th>\n",
       "    </tr>\n",
       "  </thead>\n",
       "  <tbody>\n",
       "    <tr>\n",
       "      <th>0</th>\n",
       "      <td>1</td>\n",
       "      <td>-8437.673028</td>\n",
       "      <td>42</td>\n",
       "      <td>высшее</td>\n",
       "      <td>0</td>\n",
       "      <td>женат / замужем</td>\n",
       "      <td>0</td>\n",
       "      <td>F</td>\n",
       "      <td>сотрудник</td>\n",
       "      <td>0</td>\n",
       "      <td>253875.639453</td>\n",
       "      <td>покупка жилья</td>\n",
       "    </tr>\n",
       "    <tr>\n",
       "      <th>1</th>\n",
       "      <td>1</td>\n",
       "      <td>-4024.803754</td>\n",
       "      <td>36</td>\n",
       "      <td>среднее</td>\n",
       "      <td>1</td>\n",
       "      <td>женат / замужем</td>\n",
       "      <td>0</td>\n",
       "      <td>F</td>\n",
       "      <td>сотрудник</td>\n",
       "      <td>0</td>\n",
       "      <td>112080.014102</td>\n",
       "      <td>приобретение автомобиля</td>\n",
       "    </tr>\n",
       "    <tr>\n",
       "      <th>2</th>\n",
       "      <td>0</td>\n",
       "      <td>-5623.422610</td>\n",
       "      <td>33</td>\n",
       "      <td>Среднее</td>\n",
       "      <td>1</td>\n",
       "      <td>женат / замужем</td>\n",
       "      <td>0</td>\n",
       "      <td>M</td>\n",
       "      <td>сотрудник</td>\n",
       "      <td>0</td>\n",
       "      <td>145885.952297</td>\n",
       "      <td>покупка жилья</td>\n",
       "    </tr>\n",
       "    <tr>\n",
       "      <th>3</th>\n",
       "      <td>3</td>\n",
       "      <td>-4124.747207</td>\n",
       "      <td>32</td>\n",
       "      <td>среднее</td>\n",
       "      <td>1</td>\n",
       "      <td>женат / замужем</td>\n",
       "      <td>0</td>\n",
       "      <td>M</td>\n",
       "      <td>сотрудник</td>\n",
       "      <td>0</td>\n",
       "      <td>267628.550329</td>\n",
       "      <td>дополнительное образование</td>\n",
       "    </tr>\n",
       "    <tr>\n",
       "      <th>4</th>\n",
       "      <td>0</td>\n",
       "      <td>340266.072047</td>\n",
       "      <td>53</td>\n",
       "      <td>среднее</td>\n",
       "      <td>1</td>\n",
       "      <td>гражданский брак</td>\n",
       "      <td>1</td>\n",
       "      <td>F</td>\n",
       "      <td>пенсионер</td>\n",
       "      <td>0</td>\n",
       "      <td>158616.077870</td>\n",
       "      <td>сыграть свадьбу</td>\n",
       "    </tr>\n",
       "    <tr>\n",
       "      <th>5</th>\n",
       "      <td>0</td>\n",
       "      <td>-926.185831</td>\n",
       "      <td>27</td>\n",
       "      <td>высшее</td>\n",
       "      <td>0</td>\n",
       "      <td>гражданский брак</td>\n",
       "      <td>1</td>\n",
       "      <td>M</td>\n",
       "      <td>компаньон</td>\n",
       "      <td>0</td>\n",
       "      <td>255763.565419</td>\n",
       "      <td>покупка жилья</td>\n",
       "    </tr>\n",
       "    <tr>\n",
       "      <th>6</th>\n",
       "      <td>0</td>\n",
       "      <td>-2879.202052</td>\n",
       "      <td>43</td>\n",
       "      <td>высшее</td>\n",
       "      <td>0</td>\n",
       "      <td>женат / замужем</td>\n",
       "      <td>0</td>\n",
       "      <td>F</td>\n",
       "      <td>компаньон</td>\n",
       "      <td>0</td>\n",
       "      <td>240525.971920</td>\n",
       "      <td>операции с жильем</td>\n",
       "    </tr>\n",
       "    <tr>\n",
       "      <th>7</th>\n",
       "      <td>0</td>\n",
       "      <td>-152.779569</td>\n",
       "      <td>50</td>\n",
       "      <td>СРЕДНЕЕ</td>\n",
       "      <td>1</td>\n",
       "      <td>женат / замужем</td>\n",
       "      <td>0</td>\n",
       "      <td>M</td>\n",
       "      <td>сотрудник</td>\n",
       "      <td>0</td>\n",
       "      <td>135823.934197</td>\n",
       "      <td>образование</td>\n",
       "    </tr>\n",
       "    <tr>\n",
       "      <th>8</th>\n",
       "      <td>2</td>\n",
       "      <td>-6929.865299</td>\n",
       "      <td>35</td>\n",
       "      <td>ВЫСШЕЕ</td>\n",
       "      <td>0</td>\n",
       "      <td>гражданский брак</td>\n",
       "      <td>1</td>\n",
       "      <td>F</td>\n",
       "      <td>сотрудник</td>\n",
       "      <td>0</td>\n",
       "      <td>95856.832424</td>\n",
       "      <td>на проведение свадьбы</td>\n",
       "    </tr>\n",
       "    <tr>\n",
       "      <th>9</th>\n",
       "      <td>0</td>\n",
       "      <td>-2188.756445</td>\n",
       "      <td>41</td>\n",
       "      <td>среднее</td>\n",
       "      <td>1</td>\n",
       "      <td>женат / замужем</td>\n",
       "      <td>0</td>\n",
       "      <td>M</td>\n",
       "      <td>сотрудник</td>\n",
       "      <td>0</td>\n",
       "      <td>144425.938277</td>\n",
       "      <td>покупка жилья для семьи</td>\n",
       "    </tr>\n",
       "  </tbody>\n",
       "</table>\n",
       "</div>"
      ],
      "text/plain": [
       "   children  days_employed  dob_years education  education_id  \\\n",
       "0         1   -8437.673028         42    высшее             0   \n",
       "1         1   -4024.803754         36   среднее             1   \n",
       "2         0   -5623.422610         33   Среднее             1   \n",
       "3         3   -4124.747207         32   среднее             1   \n",
       "4         0  340266.072047         53   среднее             1   \n",
       "5         0    -926.185831         27    высшее             0   \n",
       "6         0   -2879.202052         43    высшее             0   \n",
       "7         0    -152.779569         50   СРЕДНЕЕ             1   \n",
       "8         2   -6929.865299         35    ВЫСШЕЕ             0   \n",
       "9         0   -2188.756445         41   среднее             1   \n",
       "\n",
       "      family_status  family_status_id gender income_type  debt   total_income  \\\n",
       "0   женат / замужем                 0      F   сотрудник     0  253875.639453   \n",
       "1   женат / замужем                 0      F   сотрудник     0  112080.014102   \n",
       "2   женат / замужем                 0      M   сотрудник     0  145885.952297   \n",
       "3   женат / замужем                 0      M   сотрудник     0  267628.550329   \n",
       "4  гражданский брак                 1      F   пенсионер     0  158616.077870   \n",
       "5  гражданский брак                 1      M   компаньон     0  255763.565419   \n",
       "6   женат / замужем                 0      F   компаньон     0  240525.971920   \n",
       "7   женат / замужем                 0      M   сотрудник     0  135823.934197   \n",
       "8  гражданский брак                 1      F   сотрудник     0   95856.832424   \n",
       "9   женат / замужем                 0      M   сотрудник     0  144425.938277   \n",
       "\n",
       "                      purpose  \n",
       "0               покупка жилья  \n",
       "1     приобретение автомобиля  \n",
       "2               покупка жилья  \n",
       "3  дополнительное образование  \n",
       "4             сыграть свадьбу  \n",
       "5               покупка жилья  \n",
       "6           операции с жильем  \n",
       "7                 образование  \n",
       "8       на проведение свадьбы  \n",
       "9     покупка жилья для семьи  "
      ]
     },
     "execution_count": 1,
     "metadata": {},
     "output_type": "execute_result"
    }
   ],
   "source": [
    "# выведем начало таблицы, чтобы посмотреть на данные и провести первичную оценку состава датафрейма\n",
    "df.head(10) "
   ]
  },
  {
   "cell_type": "markdown",
   "id": "b2571732",
   "metadata": {},
   "source": [
    "**Выводы по итогам оценки состава датафрейма:**\n",
    "1. В колонке `days_employed` большинство значений записано с минусом. При этом встречаются положительные значения. Отрицательных значений больше, кажется, что положительные - это аномалии. Но количество дней не может быть отрицательным, поэтому, скорее всего, нам нужно менять отрицательные значения на положительные. \n",
    "2. Еще странно, что количество дней записано в дробном формате.\n",
    "3. В колонке `eduacation` одни и те же значения записаны разным регистром. Это может привести к ошибкам при анализе. Необходимо это исправить.\n",
    "4. Парные колонки `education` / `education_id` и `family_status` / `family_status_id` внутри себя несут одинаковый смысл. Целесообразно выделить их в отдельные датафреймы.\n",
    "5. В колонке `purpose` имеются неявные дубликаты, например, покупка жилья / операции с жильем / покупка жилья для семьи и сыграть свадьбу / на проведение свадьбы. Необходимо это исправить."
   ]
  },
  {
   "cell_type": "code",
   "execution_count": 2,
   "id": "f7320952",
   "metadata": {},
   "outputs": [
    {
     "name": "stdout",
     "output_type": "stream",
     "text": [
      "<class 'pandas.core.frame.DataFrame'>\n",
      "RangeIndex: 21525 entries, 0 to 21524\n",
      "Data columns (total 12 columns):\n",
      " #   Column            Non-Null Count  Dtype  \n",
      "---  ------            --------------  -----  \n",
      " 0   children          21525 non-null  int64  \n",
      " 1   days_employed     19351 non-null  float64\n",
      " 2   dob_years         21525 non-null  int64  \n",
      " 3   education         21525 non-null  object \n",
      " 4   education_id      21525 non-null  int64  \n",
      " 5   family_status     21525 non-null  object \n",
      " 6   family_status_id  21525 non-null  int64  \n",
      " 7   gender            21525 non-null  object \n",
      " 8   income_type       21525 non-null  object \n",
      " 9   debt              21525 non-null  int64  \n",
      " 10  total_income      19351 non-null  float64\n",
      " 11  purpose           21525 non-null  object \n",
      "dtypes: float64(2), int64(5), object(5)\n",
      "memory usage: 2.0+ MB\n"
     ]
    }
   ],
   "source": [
    "# используем метод для просмотра структуры датафрейма\n",
    "df.info() "
   ]
  },
  {
   "cell_type": "markdown",
   "id": "f62b88a8",
   "metadata": {},
   "source": [
    "**Выводы по итогам оценки структуры датафрейма:**\n",
    "1. Объем датафрейма существенный, руками не перебрать.\n",
    "2. Названия колонок понятные и записаны корректно - в змеином регистре.\n",
    "3. В колонках `days_employed` и `total_income` имеются пропуски. Причем их количество совпадает. Будем разбираться.\n"
   ]
  },
  {
   "cell_type": "markdown",
   "id": "76f40ef5",
   "metadata": {},
   "source": [
    "## [Заполнение пропусков](#start2)\n",
    "<a id=\"step2\"></a>"
   ]
  },
  {
   "cell_type": "markdown",
   "id": "f70e641a",
   "metadata": {},
   "source": [
    "Проанализируем столбец `total_income` на предмет пропусков и их замены:\n",
    "- посмотрим, в каких строках встречаются пропуски\n",
    "- посчитаем количество строк с пропусками и их долю в общем количестве строк\n",
    "- оценим, как пропуски влияют на качество данных\n",
    "- решим, что делать с пропусками: удалить или заменить на какое-либо значение"
   ]
  },
  {
   "cell_type": "code",
   "execution_count": 3,
   "id": "ef08f585",
   "metadata": {},
   "outputs": [
    {
     "data": {
      "text/html": [
       "<div>\n",
       "<style scoped>\n",
       "    .dataframe tbody tr th:only-of-type {\n",
       "        vertical-align: middle;\n",
       "    }\n",
       "\n",
       "    .dataframe tbody tr th {\n",
       "        vertical-align: top;\n",
       "    }\n",
       "\n",
       "    .dataframe thead th {\n",
       "        text-align: right;\n",
       "    }\n",
       "</style>\n",
       "<table border=\"1\" class=\"dataframe\">\n",
       "  <thead>\n",
       "    <tr style=\"text-align: right;\">\n",
       "      <th></th>\n",
       "      <th>children</th>\n",
       "      <th>days_employed</th>\n",
       "      <th>dob_years</th>\n",
       "      <th>education</th>\n",
       "      <th>education_id</th>\n",
       "      <th>family_status</th>\n",
       "      <th>family_status_id</th>\n",
       "      <th>gender</th>\n",
       "      <th>income_type</th>\n",
       "      <th>debt</th>\n",
       "      <th>total_income</th>\n",
       "      <th>purpose</th>\n",
       "    </tr>\n",
       "  </thead>\n",
       "  <tbody>\n",
       "    <tr>\n",
       "      <th>12</th>\n",
       "      <td>0</td>\n",
       "      <td>NaN</td>\n",
       "      <td>65</td>\n",
       "      <td>среднее</td>\n",
       "      <td>1</td>\n",
       "      <td>гражданский брак</td>\n",
       "      <td>1</td>\n",
       "      <td>M</td>\n",
       "      <td>пенсионер</td>\n",
       "      <td>0</td>\n",
       "      <td>NaN</td>\n",
       "      <td>сыграть свадьбу</td>\n",
       "    </tr>\n",
       "    <tr>\n",
       "      <th>26</th>\n",
       "      <td>0</td>\n",
       "      <td>NaN</td>\n",
       "      <td>41</td>\n",
       "      <td>среднее</td>\n",
       "      <td>1</td>\n",
       "      <td>женат / замужем</td>\n",
       "      <td>0</td>\n",
       "      <td>M</td>\n",
       "      <td>госслужащий</td>\n",
       "      <td>0</td>\n",
       "      <td>NaN</td>\n",
       "      <td>образование</td>\n",
       "    </tr>\n",
       "    <tr>\n",
       "      <th>29</th>\n",
       "      <td>0</td>\n",
       "      <td>NaN</td>\n",
       "      <td>63</td>\n",
       "      <td>среднее</td>\n",
       "      <td>1</td>\n",
       "      <td>Не женат / не замужем</td>\n",
       "      <td>4</td>\n",
       "      <td>F</td>\n",
       "      <td>пенсионер</td>\n",
       "      <td>0</td>\n",
       "      <td>NaN</td>\n",
       "      <td>строительство жилой недвижимости</td>\n",
       "    </tr>\n",
       "    <tr>\n",
       "      <th>41</th>\n",
       "      <td>0</td>\n",
       "      <td>NaN</td>\n",
       "      <td>50</td>\n",
       "      <td>среднее</td>\n",
       "      <td>1</td>\n",
       "      <td>женат / замужем</td>\n",
       "      <td>0</td>\n",
       "      <td>F</td>\n",
       "      <td>госслужащий</td>\n",
       "      <td>0</td>\n",
       "      <td>NaN</td>\n",
       "      <td>сделка с подержанным автомобилем</td>\n",
       "    </tr>\n",
       "    <tr>\n",
       "      <th>55</th>\n",
       "      <td>0</td>\n",
       "      <td>NaN</td>\n",
       "      <td>54</td>\n",
       "      <td>среднее</td>\n",
       "      <td>1</td>\n",
       "      <td>гражданский брак</td>\n",
       "      <td>1</td>\n",
       "      <td>F</td>\n",
       "      <td>пенсионер</td>\n",
       "      <td>1</td>\n",
       "      <td>NaN</td>\n",
       "      <td>сыграть свадьбу</td>\n",
       "    </tr>\n",
       "    <tr>\n",
       "      <th>65</th>\n",
       "      <td>0</td>\n",
       "      <td>NaN</td>\n",
       "      <td>21</td>\n",
       "      <td>среднее</td>\n",
       "      <td>1</td>\n",
       "      <td>Не женат / не замужем</td>\n",
       "      <td>4</td>\n",
       "      <td>M</td>\n",
       "      <td>компаньон</td>\n",
       "      <td>0</td>\n",
       "      <td>NaN</td>\n",
       "      <td>операции с коммерческой недвижимостью</td>\n",
       "    </tr>\n",
       "    <tr>\n",
       "      <th>67</th>\n",
       "      <td>0</td>\n",
       "      <td>NaN</td>\n",
       "      <td>52</td>\n",
       "      <td>высшее</td>\n",
       "      <td>0</td>\n",
       "      <td>женат / замужем</td>\n",
       "      <td>0</td>\n",
       "      <td>F</td>\n",
       "      <td>пенсионер</td>\n",
       "      <td>0</td>\n",
       "      <td>NaN</td>\n",
       "      <td>покупка жилья для семьи</td>\n",
       "    </tr>\n",
       "    <tr>\n",
       "      <th>72</th>\n",
       "      <td>1</td>\n",
       "      <td>NaN</td>\n",
       "      <td>32</td>\n",
       "      <td>высшее</td>\n",
       "      <td>0</td>\n",
       "      <td>женат / замужем</td>\n",
       "      <td>0</td>\n",
       "      <td>M</td>\n",
       "      <td>госслужащий</td>\n",
       "      <td>0</td>\n",
       "      <td>NaN</td>\n",
       "      <td>операции с коммерческой недвижимостью</td>\n",
       "    </tr>\n",
       "    <tr>\n",
       "      <th>82</th>\n",
       "      <td>2</td>\n",
       "      <td>NaN</td>\n",
       "      <td>50</td>\n",
       "      <td>высшее</td>\n",
       "      <td>0</td>\n",
       "      <td>женат / замужем</td>\n",
       "      <td>0</td>\n",
       "      <td>F</td>\n",
       "      <td>сотрудник</td>\n",
       "      <td>0</td>\n",
       "      <td>NaN</td>\n",
       "      <td>жилье</td>\n",
       "    </tr>\n",
       "    <tr>\n",
       "      <th>83</th>\n",
       "      <td>0</td>\n",
       "      <td>NaN</td>\n",
       "      <td>52</td>\n",
       "      <td>среднее</td>\n",
       "      <td>1</td>\n",
       "      <td>женат / замужем</td>\n",
       "      <td>0</td>\n",
       "      <td>M</td>\n",
       "      <td>сотрудник</td>\n",
       "      <td>0</td>\n",
       "      <td>NaN</td>\n",
       "      <td>жилье</td>\n",
       "    </tr>\n",
       "  </tbody>\n",
       "</table>\n",
       "</div>"
      ],
      "text/plain": [
       "    children  days_employed  dob_years education  education_id  \\\n",
       "12         0            NaN         65   среднее             1   \n",
       "26         0            NaN         41   среднее             1   \n",
       "29         0            NaN         63   среднее             1   \n",
       "41         0            NaN         50   среднее             1   \n",
       "55         0            NaN         54   среднее             1   \n",
       "65         0            NaN         21   среднее             1   \n",
       "67         0            NaN         52    высшее             0   \n",
       "72         1            NaN         32    высшее             0   \n",
       "82         2            NaN         50    высшее             0   \n",
       "83         0            NaN         52   среднее             1   \n",
       "\n",
       "            family_status  family_status_id gender  income_type  debt  \\\n",
       "12       гражданский брак                 1      M    пенсионер     0   \n",
       "26        женат / замужем                 0      M  госслужащий     0   \n",
       "29  Не женат / не замужем                 4      F    пенсионер     0   \n",
       "41        женат / замужем                 0      F  госслужащий     0   \n",
       "55       гражданский брак                 1      F    пенсионер     1   \n",
       "65  Не женат / не замужем                 4      M    компаньон     0   \n",
       "67        женат / замужем                 0      F    пенсионер     0   \n",
       "72        женат / замужем                 0      M  госслужащий     0   \n",
       "82        женат / замужем                 0      F    сотрудник     0   \n",
       "83        женат / замужем                 0      M    сотрудник     0   \n",
       "\n",
       "    total_income                                purpose  \n",
       "12           NaN                        сыграть свадьбу  \n",
       "26           NaN                            образование  \n",
       "29           NaN       строительство жилой недвижимости  \n",
       "41           NaN       сделка с подержанным автомобилем  \n",
       "55           NaN                        сыграть свадьбу  \n",
       "65           NaN  операции с коммерческой недвижимостью  \n",
       "67           NaN                покупка жилья для семьи  \n",
       "72           NaN  операции с коммерческой недвижимостью  \n",
       "82           NaN                                  жилье  \n",
       "83           NaN                                  жилье  "
      ]
     },
     "execution_count": 3,
     "metadata": {},
     "output_type": "execute_result"
    }
   ],
   "source": [
    "# смотрим, в каких строках встречаются пропуски\n",
    "df[df['total_income'].isna()].head(10) "
   ]
  },
  {
   "cell_type": "code",
   "execution_count": 4,
   "id": "7696d4d3",
   "metadata": {},
   "outputs": [
    {
     "data": {
      "text/plain": [
       "2174"
      ]
     },
     "metadata": {},
     "output_type": "display_data"
    },
    {
     "data": {
      "text/plain": [
       "21525"
      ]
     },
     "metadata": {},
     "output_type": "display_data"
    },
    {
     "data": {
      "text/plain": [
       "0.10099883855981417"
      ]
     },
     "execution_count": 4,
     "metadata": {},
     "output_type": "execute_result"
    }
   ],
   "source": [
    "# считаем долю пропусков\n",
    "\n",
    "# количество пропусков (строка для самопроверки)\n",
    "display(len(df[df['total_income'].isna()])) \n",
    "\n",
    "# общее количество строк (строка для самопроверки)\n",
    "display(len(df['total_income'])) \n",
    "\n",
    "# доля пропусков\n",
    "len(df[df['total_income'].isna()])/len(df['total_income']) "
   ]
  },
  {
   "cell_type": "markdown",
   "id": "d469d890",
   "metadata": {},
   "source": [
    "**Вывод:**\n",
    "\n",
    "Доля пропусков в колонке `total income` 10%. Это много. Удаление строк с пропусками в этой колонке может ухудшить результы работы с данными. Поэтому правильнее заменить пропуски.\n",
    "\n",
    "Так как колонка содержит количественные значения, то менять пропуски надо либо на среднее значение, либо на медианное. По сравнению с медианой, среднее значение смещено в сторону самых часто встречающихся значений. Медиана исключает эту проблему и позволяет выбрать среднее всего диапазона доступных значений. Поэтому для замены пропусков выбираем медиану."
   ]
  },
  {
   "cell_type": "code",
   "execution_count": 5,
   "id": "86ffa31f",
   "metadata": {},
   "outputs": [
    {
     "data": {
      "text/plain": [
       "0"
      ]
     },
     "execution_count": 5,
     "metadata": {},
     "output_type": "execute_result"
    }
   ],
   "source": [
    "# меняем пропуски на медиану колонки\n",
    "df['total_income'] = df['total_income'].fillna(value=df['total_income'].median()) \n",
    "\n",
    "# количество пропусков после замены (строка для самопроверки)\n",
    "len(df[df['total_income'].isna()])"
   ]
  },
  {
   "cell_type": "markdown",
   "id": "7e16d904",
   "metadata": {},
   "source": [
    "## [Проверка данных на аномалии и исправления](#start2)\n",
    "<a id=\"step3\"></a>"
   ]
  },
  {
   "cell_type": "markdown",
   "id": "4125c021",
   "metadata": {},
   "source": [
    "Проанализируем столбец `days_employed` на предмет аномалий.\n",
    "- определим, в чем заключается аномалия\n",
    "- попробуем объяснить причину аномалии\n",
    "- устраним аномалии\n",
    "- т.к. в колонке есть пропуски, заполним их медианой по столбцу, аналогично предыдущему этапу"
   ]
  },
  {
   "cell_type": "markdown",
   "id": "9a290f53",
   "metadata": {},
   "source": [
    "В колонке `days_employed` встречаются отрицательные значения. Количество дней не может быть отрицаельным, поэтому можем считать это аномалией. Попробуем определить причины возникновения аномалии."
   ]
  },
  {
   "cell_type": "code",
   "execution_count": 6,
   "id": "e72028da",
   "metadata": {},
   "outputs": [
    {
     "data": {
      "text/plain": [
       "15906"
      ]
     },
     "metadata": {},
     "output_type": "display_data"
    },
    {
     "data": {
      "text/plain": [
       "21525"
      ]
     },
     "metadata": {},
     "output_type": "display_data"
    },
    {
     "data": {
      "text/plain": [
       "0.7389547038327526"
      ]
     },
     "execution_count": 6,
     "metadata": {},
     "output_type": "execute_result"
    }
   ],
   "source": [
    "# посчитаем долю отрицательных значений в колонке `days_employed`\n",
    "\n",
    "# количество отрицательных значений в колонке (строка для самопроверки)\n",
    "display(len(df[df['days_employed'] <= 0]))\n",
    "\n",
    "# общее количество значений в колонке (строка для самопроверки)\n",
    "display(len(df['days_employed']))\n",
    "\n",
    "len(df[df['days_employed'] <= 0]) / len(df['days_employed'])"
   ]
  },
  {
   "cell_type": "markdown",
   "id": "d5e64407",
   "metadata": {},
   "source": [
    "**Вывод:**\n",
    "\n",
    "Почти 3/4 всех значений в колонке отрицательные. Если количество дней рассчитывается автоматически, как разница между датами, то, возможно, при заполнении даты путали местами."
   ]
  },
  {
   "cell_type": "code",
   "execution_count": 7,
   "id": "041415f2",
   "metadata": {},
   "outputs": [
    {
     "data": {
      "text/plain": [
       "0"
      ]
     },
     "metadata": {},
     "output_type": "display_data"
    }
   ],
   "source": [
    "# исправим аномалии - заменим отрицательные значения на положительные\n",
    "df['days_employed'] = df['days_employed'].loc[df['days_employed'] <= 0] * (-1)\n",
    "\n",
    "# количество отрицательных значений в колонке (строка для самопроверки)\n",
    "display(len(df[df['days_employed'] <= 0]))"
   ]
  },
  {
   "cell_type": "code",
   "execution_count": 8,
   "id": "383f9283",
   "metadata": {},
   "outputs": [
    {
     "data": {
      "text/plain": [
       "0"
      ]
     },
     "execution_count": 8,
     "metadata": {},
     "output_type": "execute_result"
    }
   ],
   "source": [
    "# заполним пропуски медианным значением\n",
    "df['days_employed'] = df['days_employed'].fillna(value=df['days_employed'].median()) \n",
    "\n",
    "# количество пропусков после замены (строка для самопроверки)\n",
    "len(df[df['days_employed'].isna()])"
   ]
  },
  {
   "cell_type": "code",
   "execution_count": 9,
   "id": "5905db18",
   "metadata": {
    "scrolled": true
   },
   "outputs": [
    {
     "name": "stdout",
     "output_type": "stream",
     "text": [
      "<class 'pandas.core.frame.DataFrame'>\n",
      "RangeIndex: 21525 entries, 0 to 21524\n",
      "Data columns (total 12 columns):\n",
      " #   Column            Non-Null Count  Dtype  \n",
      "---  ------            --------------  -----  \n",
      " 0   children          21525 non-null  int64  \n",
      " 1   days_employed     21525 non-null  float64\n",
      " 2   dob_years         21525 non-null  int64  \n",
      " 3   education         21525 non-null  object \n",
      " 4   education_id      21525 non-null  int64  \n",
      " 5   family_status     21525 non-null  object \n",
      " 6   family_status_id  21525 non-null  int64  \n",
      " 7   gender            21525 non-null  object \n",
      " 8   income_type       21525 non-null  object \n",
      " 9   debt              21525 non-null  int64  \n",
      " 10  total_income      21525 non-null  float64\n",
      " 11  purpose           21525 non-null  object \n",
      "dtypes: float64(2), int64(5), object(5)\n",
      "memory usage: 2.0+ MB\n"
     ]
    }
   ],
   "source": [
    "# еще раз проверим результат замены пропусков\n",
    "df.info()"
   ]
  },
  {
   "cell_type": "code",
   "execution_count": 10,
   "id": "b8f9c6f9",
   "metadata": {},
   "outputs": [
    {
     "data": {
      "text/plain": [
       " 0     14149\n",
       " 1      4818\n",
       " 2      2055\n",
       " 3       330\n",
       " 20       76\n",
       "-1        47\n",
       " 4        41\n",
       " 5         9\n",
       "Name: children, dtype: int64"
      ]
     },
     "metadata": {},
     "output_type": "display_data"
    },
    {
     "data": {
      "text/plain": [
       "35    617\n",
       "40    609\n",
       "41    607\n",
       "34    603\n",
       "38    598\n",
       "42    597\n",
       "33    581\n",
       "39    573\n",
       "31    560\n",
       "36    555\n",
       "44    547\n",
       "29    545\n",
       "30    540\n",
       "48    538\n",
       "37    537\n",
       "50    514\n",
       "43    513\n",
       "32    510\n",
       "49    508\n",
       "28    503\n",
       "45    497\n",
       "27    493\n",
       "56    487\n",
       "52    484\n",
       "47    480\n",
       "54    479\n",
       "46    475\n",
       "58    461\n",
       "57    460\n",
       "53    459\n",
       "51    448\n",
       "59    444\n",
       "55    443\n",
       "26    408\n",
       "60    377\n",
       "25    357\n",
       "61    355\n",
       "62    352\n",
       "63    269\n",
       "64    265\n",
       "24    264\n",
       "23    254\n",
       "65    194\n",
       "66    183\n",
       "22    183\n",
       "67    167\n",
       "21    111\n",
       "0     101\n",
       "68     99\n",
       "69     85\n",
       "70     65\n",
       "71     58\n",
       "20     51\n",
       "72     33\n",
       "19     14\n",
       "73      8\n",
       "74      6\n",
       "75      1\n",
       "Name: dob_years, dtype: int64"
      ]
     },
     "metadata": {},
     "output_type": "display_data"
    },
    {
     "data": {
      "text/plain": [
       "F      14236\n",
       "M       7288\n",
       "XNA        1\n",
       "Name: gender, dtype: int64"
      ]
     },
     "metadata": {},
     "output_type": "display_data"
    },
    {
     "data": {
      "text/plain": [
       "сотрудник          11119\n",
       "компаньон           5085\n",
       "пенсионер           3856\n",
       "госслужащий         1459\n",
       "предприниматель        2\n",
       "безработный            2\n",
       "в декрете              1\n",
       "студент                1\n",
       "Name: income_type, dtype: int64"
      ]
     },
     "metadata": {},
     "output_type": "display_data"
    }
   ],
   "source": [
    "# проверим наличие аномалий в других колонках\n",
    "display(df['children'].value_counts())\n",
    "display(df['dob_years'].value_counts())\n",
    "display(df['gender'].value_counts())\n",
    "display(df['income_type'].value_counts())"
   ]
  },
  {
   "cell_type": "markdown",
   "id": "ab9d6345",
   "metadata": {},
   "source": [
    "Осмотр данных показал, что аномалии есть почти во всех выбранных колонках:\n",
    "- в колонке `children` есть отрицательные значения и значения 20. Скорее всего это ошибки. Мы не знаем природу этих ошибок, чтобы правильно выбрать значение для замены, хоть и похоже, что это опечатки. Т.к. их не много, мы проигнорируем их в дальнейшем анализе.\n",
    "- в колонке `dob_years` есть нулевые значения. По сути это пропуски. Заменим их а среднее значение. Выбираем именно среднее, а не медиану, потому что средняя отражает наиболее активный возраст, когда люди могут и берут кредиты.\n",
    "- в колонке `gender` есть нулевое значение. Т.к. оно одно и не влияет на общий результат, мы его пропустим.\n",
    "- в колонке `income_type` кажется, что всё в порядке."
   ]
  },
  {
   "cell_type": "code",
   "execution_count": 11,
   "id": "861bc8cf",
   "metadata": {},
   "outputs": [
    {
     "data": {
      "text/plain": [
       "35    617\n",
       "43    614\n",
       "40    609\n",
       "41    607\n",
       "34    603\n",
       "38    598\n",
       "42    597\n",
       "33    581\n",
       "39    573\n",
       "31    560\n",
       "36    555\n",
       "44    547\n",
       "29    545\n",
       "30    540\n",
       "48    538\n",
       "37    537\n",
       "50    514\n",
       "32    510\n",
       "49    508\n",
       "28    503\n",
       "45    497\n",
       "27    493\n",
       "56    487\n",
       "52    484\n",
       "47    480\n",
       "54    479\n",
       "46    475\n",
       "58    461\n",
       "57    460\n",
       "53    459\n",
       "51    448\n",
       "59    444\n",
       "55    443\n",
       "26    408\n",
       "60    377\n",
       "25    357\n",
       "61    355\n",
       "62    352\n",
       "63    269\n",
       "64    265\n",
       "24    264\n",
       "23    254\n",
       "65    194\n",
       "22    183\n",
       "66    183\n",
       "67    167\n",
       "21    111\n",
       "68     99\n",
       "69     85\n",
       "70     65\n",
       "71     58\n",
       "20     51\n",
       "72     33\n",
       "19     14\n",
       "73      8\n",
       "74      6\n",
       "75      1\n",
       "Name: dob_years, dtype: int64"
      ]
     },
     "execution_count": 11,
     "metadata": {},
     "output_type": "execute_result"
    }
   ],
   "source": [
    "# заменим нулевые значения на среднюю в колонке dob_years\n",
    "df['dob_years'] = df['dob_years'].replace(0, df['dob_years'].mean())\n",
    "\n",
    "# переведем возраст в тип int. Хотел с делать одной строкой в строке выше, но вот так - df['dob_years'] = df['dob_years'].replace(0, df['dob_years'].mean().astype(int)) - не сработало\n",
    "df['dob_years'] = df['dob_years'].astype(int) \n",
    "\n",
    "# проверим, что получилось\n",
    "df['dob_years'].value_counts()"
   ]
  },
  {
   "cell_type": "markdown",
   "id": "3acb683d",
   "metadata": {},
   "source": [
    "## [Изменение типов данных](#start2)\n",
    "<a id=\"step4\"></a>"
   ]
  },
  {
   "cell_type": "markdown",
   "id": "cb212b85",
   "metadata": {},
   "source": [
    "Пока не совсем понимаю, что нам это даст, но в соответствии с инструкцией к проекту, заменим тип значений в колонке `total_income` c дробного на целочисленный."
   ]
  },
  {
   "cell_type": "code",
   "execution_count": 12,
   "id": "cdc82717",
   "metadata": {},
   "outputs": [
    {
     "name": "stdout",
     "output_type": "stream",
     "text": [
      "<class 'pandas.core.frame.DataFrame'>\n",
      "RangeIndex: 21525 entries, 0 to 21524\n",
      "Data columns (total 12 columns):\n",
      " #   Column            Non-Null Count  Dtype  \n",
      "---  ------            --------------  -----  \n",
      " 0   children          21525 non-null  int64  \n",
      " 1   days_employed     21525 non-null  float64\n",
      " 2   dob_years         21525 non-null  int64  \n",
      " 3   education         21525 non-null  object \n",
      " 4   education_id      21525 non-null  int64  \n",
      " 5   family_status     21525 non-null  object \n",
      " 6   family_status_id  21525 non-null  int64  \n",
      " 7   gender            21525 non-null  object \n",
      " 8   income_type       21525 non-null  object \n",
      " 9   debt              21525 non-null  int64  \n",
      " 10  total_income      21525 non-null  int64  \n",
      " 11  purpose           21525 non-null  object \n",
      "dtypes: float64(1), int64(6), object(5)\n",
      "memory usage: 2.0+ MB\n"
     ]
    }
   ],
   "source": [
    "df['total_income'] = df['total_income'].astype(int)\n",
    "\n",
    "# проверим, что получилось\n",
    "df.info()"
   ]
  },
  {
   "cell_type": "markdown",
   "id": "f3882c9c",
   "metadata": {},
   "source": [
    "## [Удаление дубликатов](#start2)\n",
    "<a id=\"step5\"></a>"
   ]
  },
  {
   "cell_type": "markdown",
   "id": "07d6efda",
   "metadata": {},
   "source": [
    "Проведем работу с дубликатами:\n",
    "- найдем и обработаем неявные дубликаты\n",
    "- удалим явные дубликаты\n",
    "- поясним, как выбирали метод для поиска и удаления дубликатов в данных\n",
    "- приведем возможные причины появления дубликатов"
   ]
  },
  {
   "cell_type": "code",
   "execution_count": 13,
   "id": "f78e26f3",
   "metadata": {},
   "outputs": [
    {
     "data": {
      "text/plain": [
       "54"
      ]
     },
     "execution_count": 13,
     "metadata": {},
     "output_type": "execute_result"
    }
   ],
   "source": [
    "# определим количество дубликатов методом duplicated\n",
    "df.duplicated().sum()"
   ]
  },
  {
   "cell_type": "code",
   "execution_count": 14,
   "id": "eae777ce",
   "metadata": {},
   "outputs": [
    {
     "data": {
      "text/plain": [
       "array(['высшее', 'среднее', 'неоконченное высшее', 'начальное',\n",
       "       'ученая степень'], dtype=object)"
      ]
     },
     "execution_count": 14,
     "metadata": {},
     "output_type": "execute_result"
    }
   ],
   "source": [
    "# переведем все значения колонки `education` в нижний регистр\n",
    "df['education'] = df['education'].str.lower()\n",
    "\n",
    "# посмотрим, что получилось\n",
    "df['education'].unique()"
   ]
  },
  {
   "cell_type": "code",
   "execution_count": 15,
   "id": "730f55e9",
   "metadata": {},
   "outputs": [
    {
     "data": {
      "text/plain": [
       "array(['женат / замужем', 'гражданский брак', 'вдовец / вдова',\n",
       "       'в разводе', 'не женат / не замужем'], dtype=object)"
      ]
     },
     "metadata": {},
     "output_type": "display_data"
    },
    {
     "data": {
      "text/plain": [
       "array(['сотрудник', 'пенсионер', 'компаньон', 'госслужащий',\n",
       "       'безработный', 'предприниматель', 'студент', 'в декрете'],\n",
       "      dtype=object)"
      ]
     },
     "metadata": {},
     "output_type": "display_data"
    },
    {
     "data": {
      "text/plain": [
       "array(['покупка жилья', 'приобретение автомобиля',\n",
       "       'дополнительное образование', 'сыграть свадьбу',\n",
       "       'операции с жильем', 'образование', 'на проведение свадьбы',\n",
       "       'покупка жилья для семьи', 'покупка недвижимости',\n",
       "       'покупка коммерческой недвижимости', 'покупка жилой недвижимости',\n",
       "       'строительство собственной недвижимости', 'недвижимость',\n",
       "       'строительство недвижимости', 'на покупку подержанного автомобиля',\n",
       "       'на покупку своего автомобиля',\n",
       "       'операции с коммерческой недвижимостью',\n",
       "       'строительство жилой недвижимости', 'жилье',\n",
       "       'операции со своей недвижимостью', 'автомобили',\n",
       "       'заняться образованием', 'сделка с подержанным автомобилем',\n",
       "       'получение образования', 'автомобиль', 'свадьба',\n",
       "       'получение дополнительного образования', 'покупка своего жилья',\n",
       "       'операции с недвижимостью', 'получение высшего образования',\n",
       "       'свой автомобиль', 'сделка с автомобилем',\n",
       "       'профильное образование', 'высшее образование',\n",
       "       'покупка жилья для сдачи', 'на покупку автомобиля', 'ремонт жилью',\n",
       "       'заняться высшим образованием'], dtype=object)"
      ]
     },
     "metadata": {},
     "output_type": "display_data"
    }
   ],
   "source": [
    "# повторим то же самое с другими колонками типа строка\n",
    "df['family_status'] = df['family_status'].str.lower()\n",
    "df['income_type'] = df['income_type'].str.lower()\n",
    "df['purpose'] = df['purpose'].str.lower()\n",
    "\n",
    "# и посмотрим, что получилось\n",
    "display(df['family_status'].unique())\n",
    "display(df['income_type'].unique())\n",
    "display(df['purpose'].unique())"
   ]
  },
  {
   "cell_type": "code",
   "execution_count": 16,
   "id": "87b80ec0",
   "metadata": {},
   "outputs": [
    {
     "data": {
      "text/plain": [
       "71"
      ]
     },
     "metadata": {},
     "output_type": "display_data"
    },
    {
     "data": {
      "text/plain": [
       "0"
      ]
     },
     "metadata": {},
     "output_type": "display_data"
    },
    {
     "name": "stdout",
     "output_type": "stream",
     "text": [
      "<class 'pandas.core.frame.DataFrame'>\n",
      "RangeIndex: 21454 entries, 0 to 21453\n",
      "Data columns (total 12 columns):\n",
      " #   Column            Non-Null Count  Dtype  \n",
      "---  ------            --------------  -----  \n",
      " 0   children          21454 non-null  int64  \n",
      " 1   days_employed     21454 non-null  float64\n",
      " 2   dob_years         21454 non-null  int64  \n",
      " 3   education         21454 non-null  object \n",
      " 4   education_id      21454 non-null  int64  \n",
      " 5   family_status     21454 non-null  object \n",
      " 6   family_status_id  21454 non-null  int64  \n",
      " 7   gender            21454 non-null  object \n",
      " 8   income_type       21454 non-null  object \n",
      " 9   debt              21454 non-null  int64  \n",
      " 10  total_income      21454 non-null  int64  \n",
      " 11  purpose           21454 non-null  object \n",
      "dtypes: float64(1), int64(6), object(5)\n",
      "memory usage: 2.0+ MB\n"
     ]
    }
   ],
   "source": [
    "# проверим, как изменилось количество дубликатов после обработки неявных дубликатов\n",
    "display(df.duplicated().sum())\n",
    "\n",
    "# удалим дубликаты со сбросом индексов\n",
    "df = df.drop_duplicates().reset_index(drop=True)\n",
    "\n",
    "# проверим, что получилось\n",
    "display(df.duplicated().sum())\n",
    "df.info()"
   ]
  },
  {
   "cell_type": "markdown",
   "id": "05fd9b4e",
   "metadata": {},
   "source": [
    "**Выводы:**\n",
    "\n",
    "На данном шаге, при поиске и удалении дубликатов мы использовали метод `duplicated`, потому что, в отличеи от метода `value_counts` его можно применить сразу ко всему датафрейму.\n",
    "\n",
    "Одной из причин появления дубликатов могли стать повторные записи с целью исправить регистр в некоторых колонках."
   ]
  },
  {
   "cell_type": "markdown",
   "id": "9a733bb0",
   "metadata": {},
   "source": [
    "## [Формирование дополнительных датафреймов словарей, декомпозиция исходного датафрейма](#start2)\n",
    "<a id=\"step6\"></a>"
   ]
  },
  {
   "cell_type": "markdown",
   "id": "977ff5e9",
   "metadata": {},
   "source": [
    "Обработаем исходный датафрейм, сделаем его легче для обработки:\n",
    "- выделим связанные столбцы в отдельные словари\n",
    "- оставим в исходном датафрейме только идентификаторы значений в выделенных столбцах\n",
    "- удалим из исходного датафрейма столбцы, не являющиеся идентификаторами"
   ]
  },
  {
   "cell_type": "code",
   "execution_count": 17,
   "id": "7b87b8cb",
   "metadata": {},
   "outputs": [
    {
     "data": {
      "text/plain": [
       "среднее                15172\n",
       "высшее                  5250\n",
       "неоконченное высшее      744\n",
       "начальное                282\n",
       "ученая степень             6\n",
       "Name: education, dtype: int64"
      ]
     },
     "metadata": {},
     "output_type": "display_data"
    },
    {
     "data": {
      "text/plain": [
       "женат / замужем          12339\n",
       "гражданский брак          4151\n",
       "не женат / не замужем     2810\n",
       "в разводе                 1195\n",
       "вдовец / вдова             959\n",
       "Name: family_status, dtype: int64"
      ]
     },
     "metadata": {},
     "output_type": "display_data"
    },
    {
     "data": {
      "text/html": [
       "<div>\n",
       "<style scoped>\n",
       "    .dataframe tbody tr th:only-of-type {\n",
       "        vertical-align: middle;\n",
       "    }\n",
       "\n",
       "    .dataframe tbody tr th {\n",
       "        vertical-align: top;\n",
       "    }\n",
       "\n",
       "    .dataframe thead th {\n",
       "        text-align: right;\n",
       "    }\n",
       "</style>\n",
       "<table border=\"1\" class=\"dataframe\">\n",
       "  <thead>\n",
       "    <tr style=\"text-align: right;\">\n",
       "      <th></th>\n",
       "      <th>education_id</th>\n",
       "      <th>education</th>\n",
       "    </tr>\n",
       "  </thead>\n",
       "  <tbody>\n",
       "    <tr>\n",
       "      <th>0</th>\n",
       "      <td>0</td>\n",
       "      <td>высшее</td>\n",
       "    </tr>\n",
       "    <tr>\n",
       "      <th>1</th>\n",
       "      <td>1</td>\n",
       "      <td>среднее</td>\n",
       "    </tr>\n",
       "    <tr>\n",
       "      <th>2</th>\n",
       "      <td>2</td>\n",
       "      <td>неоконченное высшее</td>\n",
       "    </tr>\n",
       "    <tr>\n",
       "      <th>3</th>\n",
       "      <td>3</td>\n",
       "      <td>начальное</td>\n",
       "    </tr>\n",
       "    <tr>\n",
       "      <th>4</th>\n",
       "      <td>4</td>\n",
       "      <td>ученая степень</td>\n",
       "    </tr>\n",
       "  </tbody>\n",
       "</table>\n",
       "</div>"
      ],
      "text/plain": [
       "   education_id            education\n",
       "0             0               высшее\n",
       "1             1              среднее\n",
       "2             2  неоконченное высшее\n",
       "3             3            начальное\n",
       "4             4       ученая степень"
      ]
     },
     "metadata": {},
     "output_type": "display_data"
    },
    {
     "data": {
      "text/html": [
       "<div>\n",
       "<style scoped>\n",
       "    .dataframe tbody tr th:only-of-type {\n",
       "        vertical-align: middle;\n",
       "    }\n",
       "\n",
       "    .dataframe tbody tr th {\n",
       "        vertical-align: top;\n",
       "    }\n",
       "\n",
       "    .dataframe thead th {\n",
       "        text-align: right;\n",
       "    }\n",
       "</style>\n",
       "<table border=\"1\" class=\"dataframe\">\n",
       "  <thead>\n",
       "    <tr style=\"text-align: right;\">\n",
       "      <th></th>\n",
       "      <th>family_status_id</th>\n",
       "      <th>family_status</th>\n",
       "    </tr>\n",
       "  </thead>\n",
       "  <tbody>\n",
       "    <tr>\n",
       "      <th>0</th>\n",
       "      <td>0</td>\n",
       "      <td>женат / замужем</td>\n",
       "    </tr>\n",
       "    <tr>\n",
       "      <th>1</th>\n",
       "      <td>1</td>\n",
       "      <td>гражданский брак</td>\n",
       "    </tr>\n",
       "    <tr>\n",
       "      <th>2</th>\n",
       "      <td>2</td>\n",
       "      <td>вдовец / вдова</td>\n",
       "    </tr>\n",
       "    <tr>\n",
       "      <th>3</th>\n",
       "      <td>3</td>\n",
       "      <td>в разводе</td>\n",
       "    </tr>\n",
       "    <tr>\n",
       "      <th>4</th>\n",
       "      <td>4</td>\n",
       "      <td>не женат / не замужем</td>\n",
       "    </tr>\n",
       "  </tbody>\n",
       "</table>\n",
       "</div>"
      ],
      "text/plain": [
       "   family_status_id          family_status\n",
       "0                 0        женат / замужем\n",
       "1                 1       гражданский брак\n",
       "2                 2         вдовец / вдова\n",
       "3                 3              в разводе\n",
       "4                 4  не женат / не замужем"
      ]
     },
     "metadata": {},
     "output_type": "display_data"
    },
    {
     "data": {
      "text/html": [
       "<div>\n",
       "<style scoped>\n",
       "    .dataframe tbody tr th:only-of-type {\n",
       "        vertical-align: middle;\n",
       "    }\n",
       "\n",
       "    .dataframe tbody tr th {\n",
       "        vertical-align: top;\n",
       "    }\n",
       "\n",
       "    .dataframe thead th {\n",
       "        text-align: right;\n",
       "    }\n",
       "</style>\n",
       "<table border=\"1\" class=\"dataframe\">\n",
       "  <thead>\n",
       "    <tr style=\"text-align: right;\">\n",
       "      <th></th>\n",
       "      <th>children</th>\n",
       "      <th>days_employed</th>\n",
       "      <th>dob_years</th>\n",
       "      <th>education_id</th>\n",
       "      <th>family_status_id</th>\n",
       "      <th>gender</th>\n",
       "      <th>income_type</th>\n",
       "      <th>debt</th>\n",
       "      <th>total_income</th>\n",
       "      <th>purpose</th>\n",
       "    </tr>\n",
       "  </thead>\n",
       "  <tbody>\n",
       "    <tr>\n",
       "      <th>0</th>\n",
       "      <td>1</td>\n",
       "      <td>8437.673028</td>\n",
       "      <td>42</td>\n",
       "      <td>0</td>\n",
       "      <td>0</td>\n",
       "      <td>F</td>\n",
       "      <td>сотрудник</td>\n",
       "      <td>0</td>\n",
       "      <td>253875</td>\n",
       "      <td>покупка жилья</td>\n",
       "    </tr>\n",
       "    <tr>\n",
       "      <th>1</th>\n",
       "      <td>1</td>\n",
       "      <td>4024.803754</td>\n",
       "      <td>36</td>\n",
       "      <td>1</td>\n",
       "      <td>0</td>\n",
       "      <td>F</td>\n",
       "      <td>сотрудник</td>\n",
       "      <td>0</td>\n",
       "      <td>112080</td>\n",
       "      <td>приобретение автомобиля</td>\n",
       "    </tr>\n",
       "    <tr>\n",
       "      <th>2</th>\n",
       "      <td>0</td>\n",
       "      <td>5623.422610</td>\n",
       "      <td>33</td>\n",
       "      <td>1</td>\n",
       "      <td>0</td>\n",
       "      <td>M</td>\n",
       "      <td>сотрудник</td>\n",
       "      <td>0</td>\n",
       "      <td>145885</td>\n",
       "      <td>покупка жилья</td>\n",
       "    </tr>\n",
       "    <tr>\n",
       "      <th>3</th>\n",
       "      <td>3</td>\n",
       "      <td>4124.747207</td>\n",
       "      <td>32</td>\n",
       "      <td>1</td>\n",
       "      <td>0</td>\n",
       "      <td>M</td>\n",
       "      <td>сотрудник</td>\n",
       "      <td>0</td>\n",
       "      <td>267628</td>\n",
       "      <td>дополнительное образование</td>\n",
       "    </tr>\n",
       "    <tr>\n",
       "      <th>4</th>\n",
       "      <td>0</td>\n",
       "      <td>1630.019381</td>\n",
       "      <td>53</td>\n",
       "      <td>1</td>\n",
       "      <td>1</td>\n",
       "      <td>F</td>\n",
       "      <td>пенсионер</td>\n",
       "      <td>0</td>\n",
       "      <td>158616</td>\n",
       "      <td>сыграть свадьбу</td>\n",
       "    </tr>\n",
       "    <tr>\n",
       "      <th>5</th>\n",
       "      <td>0</td>\n",
       "      <td>926.185831</td>\n",
       "      <td>27</td>\n",
       "      <td>0</td>\n",
       "      <td>1</td>\n",
       "      <td>M</td>\n",
       "      <td>компаньон</td>\n",
       "      <td>0</td>\n",
       "      <td>255763</td>\n",
       "      <td>покупка жилья</td>\n",
       "    </tr>\n",
       "    <tr>\n",
       "      <th>6</th>\n",
       "      <td>0</td>\n",
       "      <td>2879.202052</td>\n",
       "      <td>43</td>\n",
       "      <td>0</td>\n",
       "      <td>0</td>\n",
       "      <td>F</td>\n",
       "      <td>компаньон</td>\n",
       "      <td>0</td>\n",
       "      <td>240525</td>\n",
       "      <td>операции с жильем</td>\n",
       "    </tr>\n",
       "    <tr>\n",
       "      <th>7</th>\n",
       "      <td>0</td>\n",
       "      <td>152.779569</td>\n",
       "      <td>50</td>\n",
       "      <td>1</td>\n",
       "      <td>0</td>\n",
       "      <td>M</td>\n",
       "      <td>сотрудник</td>\n",
       "      <td>0</td>\n",
       "      <td>135823</td>\n",
       "      <td>образование</td>\n",
       "    </tr>\n",
       "    <tr>\n",
       "      <th>8</th>\n",
       "      <td>2</td>\n",
       "      <td>6929.865299</td>\n",
       "      <td>35</td>\n",
       "      <td>0</td>\n",
       "      <td>1</td>\n",
       "      <td>F</td>\n",
       "      <td>сотрудник</td>\n",
       "      <td>0</td>\n",
       "      <td>95856</td>\n",
       "      <td>на проведение свадьбы</td>\n",
       "    </tr>\n",
       "    <tr>\n",
       "      <th>9</th>\n",
       "      <td>0</td>\n",
       "      <td>2188.756445</td>\n",
       "      <td>41</td>\n",
       "      <td>1</td>\n",
       "      <td>0</td>\n",
       "      <td>M</td>\n",
       "      <td>сотрудник</td>\n",
       "      <td>0</td>\n",
       "      <td>144425</td>\n",
       "      <td>покупка жилья для семьи</td>\n",
       "    </tr>\n",
       "  </tbody>\n",
       "</table>\n",
       "</div>"
      ],
      "text/plain": [
       "   children  days_employed  dob_years  education_id  family_status_id gender  \\\n",
       "0         1    8437.673028         42             0                 0      F   \n",
       "1         1    4024.803754         36             1                 0      F   \n",
       "2         0    5623.422610         33             1                 0      M   \n",
       "3         3    4124.747207         32             1                 0      M   \n",
       "4         0    1630.019381         53             1                 1      F   \n",
       "5         0     926.185831         27             0                 1      M   \n",
       "6         0    2879.202052         43             0                 0      F   \n",
       "7         0     152.779569         50             1                 0      M   \n",
       "8         2    6929.865299         35             0                 1      F   \n",
       "9         0    2188.756445         41             1                 0      M   \n",
       "\n",
       "  income_type  debt  total_income                     purpose  \n",
       "0   сотрудник     0        253875               покупка жилья  \n",
       "1   сотрудник     0        112080     приобретение автомобиля  \n",
       "2   сотрудник     0        145885               покупка жилья  \n",
       "3   сотрудник     0        267628  дополнительное образование  \n",
       "4   пенсионер     0        158616             сыграть свадьбу  \n",
       "5   компаньон     0        255763               покупка жилья  \n",
       "6   компаньон     0        240525           операции с жильем  \n",
       "7   сотрудник     0        135823                 образование  \n",
       "8   сотрудник     0         95856       на проведение свадьбы  \n",
       "9   сотрудник     0        144425     покупка жилья для семьи  "
      ]
     },
     "execution_count": 17,
     "metadata": {},
     "output_type": "execute_result"
    }
   ],
   "source": [
    "# проверим уникальные значения в колонках education и family_status\n",
    "display(df['education'].value_counts())\n",
    "display(df['family_status'].value_counts())\n",
    "\n",
    "# создадим новую таблицу без колонок education и family_status. Можно перезаписать исходный датафрейм, но для подстраховки мы создадим новый.\n",
    "df_stat = df[['children', 'days_employed', 'dob_years', 'education_id', 'family_status_id', 'gender', 'income_type', 'debt', 'total_income', 'purpose']]\n",
    "\n",
    "# создадим списоки-словари для значений education и family_status\n",
    "education_dict = df[['education_id', 'education']]\n",
    "family_status_dict = df[['family_status_id', 'family_status']]\n",
    "\n",
    "# удалим дубликаты в словарях\n",
    "education_dict = education_dict.drop_duplicates().reset_index(drop=True)\n",
    "family_status_dict = family_status_dict.drop_duplicates().reset_index(drop=True)\n",
    "\n",
    "# проверим, что получилось\n",
    "display(education_dict)\n",
    "display(family_status_dict)\n",
    "df_stat.head(10)"
   ]
  },
  {
   "cell_type": "markdown",
   "id": "7e06df7f",
   "metadata": {},
   "source": [
    "## [Категоризация дохода](#start2)\n",
    "<a id=\"step7\"></a>"
   ]
  },
  {
   "cell_type": "markdown",
   "id": "6599bf55",
   "metadata": {},
   "source": [
    "Категоризируем доход:\n",
    "- определим группы дохода и создадим групповую кодировку (уже есть в инструкции к проекту)\n",
    "- создадим функцию для присвоения кода каждой категории\n",
    "- добавим в основной датафрейм колонку с кодом группы дохода"
   ]
  },
  {
   "cell_type": "code",
   "execution_count": 18,
   "id": "229513f2",
   "metadata": {},
   "outputs": [
    {
     "name": "stdout",
     "output_type": "stream",
     "text": [
      "EBA\n",
      "© WALL-E\n"
     ]
    }
   ],
   "source": [
    "# создадим функицию для присвоения кода каждой категории\n",
    "def total_income_group(total_income):\n",
    "    if total_income <= 30000:\n",
    "        return 'E'\n",
    "    if total_income <= 50000:\n",
    "        return 'D'\n",
    "    if total_income <= 200000:\n",
    "        return 'C'\n",
    "    if total_income <= 1000000:\n",
    "        return 'B'\n",
    "    else:\n",
    "        return 'A'\n",
    "\n",
    "# проверим, что получилось\n",
    "print(total_income_group(20000), total_income_group(900000), total_income_group(10000000), sep='')\n",
    "print('© WALL-E')"
   ]
  },
  {
   "cell_type": "code",
   "execution_count": 19,
   "id": "ac9cbf74",
   "metadata": {},
   "outputs": [
    {
     "name": "stderr",
     "output_type": "stream",
     "text": [
      "/tmp/ipykernel_195/830421318.py:2: SettingWithCopyWarning: \n",
      "A value is trying to be set on a copy of a slice from a DataFrame.\n",
      "Try using .loc[row_indexer,col_indexer] = value instead\n",
      "\n",
      "See the caveats in the documentation: https://pandas.pydata.org/pandas-docs/stable/user_guide/indexing.html#returning-a-view-versus-a-copy\n",
      "  df_stat['total_income_category'] = df_stat['total_income'].apply(total_income_group)\n"
     ]
    },
    {
     "data": {
      "text/html": [
       "<div>\n",
       "<style scoped>\n",
       "    .dataframe tbody tr th:only-of-type {\n",
       "        vertical-align: middle;\n",
       "    }\n",
       "\n",
       "    .dataframe tbody tr th {\n",
       "        vertical-align: top;\n",
       "    }\n",
       "\n",
       "    .dataframe thead th {\n",
       "        text-align: right;\n",
       "    }\n",
       "</style>\n",
       "<table border=\"1\" class=\"dataframe\">\n",
       "  <thead>\n",
       "    <tr style=\"text-align: right;\">\n",
       "      <th></th>\n",
       "      <th>children</th>\n",
       "      <th>days_employed</th>\n",
       "      <th>dob_years</th>\n",
       "      <th>education_id</th>\n",
       "      <th>family_status_id</th>\n",
       "      <th>gender</th>\n",
       "      <th>income_type</th>\n",
       "      <th>debt</th>\n",
       "      <th>total_income</th>\n",
       "      <th>purpose</th>\n",
       "      <th>total_income_category</th>\n",
       "    </tr>\n",
       "  </thead>\n",
       "  <tbody>\n",
       "    <tr>\n",
       "      <th>0</th>\n",
       "      <td>1</td>\n",
       "      <td>8437.673028</td>\n",
       "      <td>42</td>\n",
       "      <td>0</td>\n",
       "      <td>0</td>\n",
       "      <td>F</td>\n",
       "      <td>сотрудник</td>\n",
       "      <td>0</td>\n",
       "      <td>253875</td>\n",
       "      <td>покупка жилья</td>\n",
       "      <td>B</td>\n",
       "    </tr>\n",
       "    <tr>\n",
       "      <th>1</th>\n",
       "      <td>1</td>\n",
       "      <td>4024.803754</td>\n",
       "      <td>36</td>\n",
       "      <td>1</td>\n",
       "      <td>0</td>\n",
       "      <td>F</td>\n",
       "      <td>сотрудник</td>\n",
       "      <td>0</td>\n",
       "      <td>112080</td>\n",
       "      <td>приобретение автомобиля</td>\n",
       "      <td>C</td>\n",
       "    </tr>\n",
       "    <tr>\n",
       "      <th>2</th>\n",
       "      <td>0</td>\n",
       "      <td>5623.422610</td>\n",
       "      <td>33</td>\n",
       "      <td>1</td>\n",
       "      <td>0</td>\n",
       "      <td>M</td>\n",
       "      <td>сотрудник</td>\n",
       "      <td>0</td>\n",
       "      <td>145885</td>\n",
       "      <td>покупка жилья</td>\n",
       "      <td>C</td>\n",
       "    </tr>\n",
       "    <tr>\n",
       "      <th>3</th>\n",
       "      <td>3</td>\n",
       "      <td>4124.747207</td>\n",
       "      <td>32</td>\n",
       "      <td>1</td>\n",
       "      <td>0</td>\n",
       "      <td>M</td>\n",
       "      <td>сотрудник</td>\n",
       "      <td>0</td>\n",
       "      <td>267628</td>\n",
       "      <td>дополнительное образование</td>\n",
       "      <td>B</td>\n",
       "    </tr>\n",
       "    <tr>\n",
       "      <th>4</th>\n",
       "      <td>0</td>\n",
       "      <td>1630.019381</td>\n",
       "      <td>53</td>\n",
       "      <td>1</td>\n",
       "      <td>1</td>\n",
       "      <td>F</td>\n",
       "      <td>пенсионер</td>\n",
       "      <td>0</td>\n",
       "      <td>158616</td>\n",
       "      <td>сыграть свадьбу</td>\n",
       "      <td>C</td>\n",
       "    </tr>\n",
       "  </tbody>\n",
       "</table>\n",
       "</div>"
      ],
      "text/plain": [
       "   children  days_employed  dob_years  education_id  family_status_id gender  \\\n",
       "0         1    8437.673028         42             0                 0      F   \n",
       "1         1    4024.803754         36             1                 0      F   \n",
       "2         0    5623.422610         33             1                 0      M   \n",
       "3         3    4124.747207         32             1                 0      M   \n",
       "4         0    1630.019381         53             1                 1      F   \n",
       "\n",
       "  income_type  debt  total_income                     purpose  \\\n",
       "0   сотрудник     0        253875               покупка жилья   \n",
       "1   сотрудник     0        112080     приобретение автомобиля   \n",
       "2   сотрудник     0        145885               покупка жилья   \n",
       "3   сотрудник     0        267628  дополнительное образование   \n",
       "4   пенсионер     0        158616             сыграть свадьбу   \n",
       "\n",
       "  total_income_category  \n",
       "0                     B  \n",
       "1                     C  \n",
       "2                     C  \n",
       "3                     B  \n",
       "4                     C  "
      ]
     },
     "execution_count": 19,
     "metadata": {},
     "output_type": "execute_result"
    }
   ],
   "source": [
    "# добавим в основной датафрейм колонку с кодом группы дохода\n",
    "df_stat['total_income_category'] = df_stat['total_income'].apply(total_income_group)\n",
    "\n",
    "# проверим, что получилось\n",
    "df_stat.head()"
   ]
  },
  {
   "cell_type": "markdown",
   "id": "dcc2bac3",
   "metadata": {},
   "source": [
    "## [Категоризация целей кредита](#start2)\n",
    "<a id=\"step8\"></a>"
   ]
  },
  {
   "cell_type": "markdown",
   "id": "1c1d344e",
   "metadata": {},
   "source": [
    "Категоризируем цель кредита:\n",
    "\n",
    "- создадим функцию для категоризации каждой цели\n",
    "- добавим в основной датафрейм колонку с категорией"
   ]
  },
  {
   "cell_type": "code",
   "execution_count": 20,
   "id": "23605fc4",
   "metadata": {
    "scrolled": false
   },
   "outputs": [
    {
     "data": {
      "text/plain": [
       "свадьба                                   791\n",
       "на проведение свадьбы                     768\n",
       "сыграть свадьбу                           765\n",
       "операции с недвижимостью                  675\n",
       "покупка коммерческой недвижимости         661\n",
       "операции с жильем                         652\n",
       "покупка жилья для сдачи                   651\n",
       "операции с коммерческой недвижимостью     650\n",
       "жилье                                     646\n",
       "покупка жилья                             646\n",
       "покупка жилья для семьи                   638\n",
       "строительство собственной недвижимости    635\n",
       "недвижимость                              633\n",
       "операции со своей недвижимостью           627\n",
       "строительство жилой недвижимости          624\n",
       "покупка недвижимости                      621\n",
       "покупка своего жилья                      620\n",
       "строительство недвижимости                619\n",
       "ремонт жилью                              607\n",
       "покупка жилой недвижимости                606\n",
       "на покупку своего автомобиля              505\n",
       "заняться высшим образованием              496\n",
       "автомобиль                                494\n",
       "сделка с подержанным автомобилем          486\n",
       "свой автомобиль                           478\n",
       "на покупку подержанного автомобиля        478\n",
       "автомобили                                478\n",
       "на покупку автомобиля                     471\n",
       "приобретение автомобиля                   461\n",
       "дополнительное образование                460\n",
       "сделка с автомобилем                      455\n",
       "высшее образование                        452\n",
       "образование                               447\n",
       "получение дополнительного образования     446\n",
       "получение образования                     442\n",
       "профильное образование                    436\n",
       "получение высшего образования             426\n",
       "заняться образованием                     408\n",
       "Name: purpose, dtype: int64"
      ]
     },
     "metadata": {},
     "output_type": "display_data"
    },
    {
     "data": {
      "text/plain": [
       "операции с недвижимостью    10811\n",
       "операции с автомобилем       4306\n",
       "получение образования        4013\n",
       "проведение свадьбы           2324\n",
       "Name: purpose_category, dtype: int64"
      ]
     },
     "metadata": {},
     "output_type": "display_data"
    },
    {
     "name": "stdout",
     "output_type": "stream",
     "text": [
      "<class 'pandas.core.frame.DataFrame'>\n",
      "RangeIndex: 21454 entries, 0 to 21453\n",
      "Data columns (total 12 columns):\n",
      " #   Column                 Non-Null Count  Dtype  \n",
      "---  ------                 --------------  -----  \n",
      " 0   children               21454 non-null  int64  \n",
      " 1   days_employed          21454 non-null  float64\n",
      " 2   dob_years              21454 non-null  int64  \n",
      " 3   education_id           21454 non-null  int64  \n",
      " 4   family_status_id       21454 non-null  int64  \n",
      " 5   gender                 21454 non-null  object \n",
      " 6   income_type            21454 non-null  object \n",
      " 7   debt                   21454 non-null  int64  \n",
      " 8   total_income           21454 non-null  int64  \n",
      " 9   purpose                21454 non-null  object \n",
      " 10  total_income_category  21454 non-null  object \n",
      " 11  purpose_category       21454 non-null  object \n",
      "dtypes: float64(1), int64(6), object(5)\n",
      "memory usage: 2.0+ MB\n"
     ]
    }
   ],
   "source": [
    "# посмотрим на имеющиеся значения целей кредита\n",
    "display(df['purpose'].value_counts())\n",
    "\n",
    "# создадим функцию для присвоения категоризации\n",
    "def porpose_group(purpose):\n",
    "    if 'авто' in purpose:\n",
    "        return 'операции с автомобилем'\n",
    "    if 'жиль' in purpose or 'недвиж' in purpose:\n",
    "        return 'операции с недвижимостью'\n",
    "    if 'свадь' in purpose:\n",
    "        return 'проведение свадьбы'\n",
    "    if 'образ' in purpose:\n",
    "        return 'получение образования'\n",
    "    \n",
    "# добавим в основной датафрейм колонку с новыми категориями цели кредита\n",
    "df_stat['purpose_category'] = df_stat['purpose'].apply(porpose_group)\n",
    "\n",
    "# проверим, что получилось\n",
    "display(df_stat['purpose_category'].value_counts())\n",
    "df_stat.info()"
   ]
  },
  {
   "cell_type": "markdown",
   "id": "e2c7983f",
   "metadata": {},
   "source": [
    "## [Оценка зависимости просрочки от различных факторов](#start2)\n",
    "<a id=\"step9\"></a>"
   ]
  },
  {
   "cell_type": "code",
   "execution_count": 21,
   "id": "bd296b10",
   "metadata": {},
   "outputs": [
    {
     "data": {
      "text/html": [
       "<div>\n",
       "<style scoped>\n",
       "    .dataframe tbody tr th:only-of-type {\n",
       "        vertical-align: middle;\n",
       "    }\n",
       "\n",
       "    .dataframe tbody tr th {\n",
       "        vertical-align: top;\n",
       "    }\n",
       "\n",
       "    .dataframe thead tr th {\n",
       "        text-align: left;\n",
       "    }\n",
       "\n",
       "    .dataframe thead tr:last-of-type th {\n",
       "        text-align: right;\n",
       "    }\n",
       "</style>\n",
       "<table border=\"1\" class=\"dataframe\">\n",
       "  <thead>\n",
       "    <tr>\n",
       "      <th></th>\n",
       "      <th>sum</th>\n",
       "      <th>count</th>\n",
       "      <th>mean</th>\n",
       "    </tr>\n",
       "    <tr>\n",
       "      <th></th>\n",
       "      <th>debt</th>\n",
       "      <th>debt</th>\n",
       "      <th>debt</th>\n",
       "    </tr>\n",
       "    <tr>\n",
       "      <th>children</th>\n",
       "      <th></th>\n",
       "      <th></th>\n",
       "      <th></th>\n",
       "    </tr>\n",
       "  </thead>\n",
       "  <tbody>\n",
       "    <tr>\n",
       "      <th>20</th>\n",
       "      <td>8</td>\n",
       "      <td>76</td>\n",
       "      <td>0.105263</td>\n",
       "    </tr>\n",
       "    <tr>\n",
       "      <th>4</th>\n",
       "      <td>4</td>\n",
       "      <td>41</td>\n",
       "      <td>0.097561</td>\n",
       "    </tr>\n",
       "    <tr>\n",
       "      <th>2</th>\n",
       "      <td>194</td>\n",
       "      <td>2052</td>\n",
       "      <td>0.094542</td>\n",
       "    </tr>\n",
       "    <tr>\n",
       "      <th>1</th>\n",
       "      <td>444</td>\n",
       "      <td>4808</td>\n",
       "      <td>0.092346</td>\n",
       "    </tr>\n",
       "    <tr>\n",
       "      <th>3</th>\n",
       "      <td>27</td>\n",
       "      <td>330</td>\n",
       "      <td>0.081818</td>\n",
       "    </tr>\n",
       "    <tr>\n",
       "      <th>0</th>\n",
       "      <td>1063</td>\n",
       "      <td>14091</td>\n",
       "      <td>0.075438</td>\n",
       "    </tr>\n",
       "    <tr>\n",
       "      <th>-1</th>\n",
       "      <td>1</td>\n",
       "      <td>47</td>\n",
       "      <td>0.021277</td>\n",
       "    </tr>\n",
       "    <tr>\n",
       "      <th>5</th>\n",
       "      <td>0</td>\n",
       "      <td>9</td>\n",
       "      <td>0.000000</td>\n",
       "    </tr>\n",
       "  </tbody>\n",
       "</table>\n",
       "</div>"
      ],
      "text/plain": [
       "           sum  count      mean\n",
       "          debt   debt      debt\n",
       "children                       \n",
       " 20          8     76  0.105263\n",
       " 4           4     41  0.097561\n",
       " 2         194   2052  0.094542\n",
       " 1         444   4808  0.092346\n",
       " 3          27    330  0.081818\n",
       " 0        1063  14091  0.075438\n",
       "-1           1     47  0.021277\n",
       " 5           0      9  0.000000"
      ]
     },
     "execution_count": 21,
     "metadata": {},
     "output_type": "execute_result"
    }
   ],
   "source": [
    "# оценим зависимость между количеством детей и возвратом кредита в срок, посчитаем долю просрочек по долгу для каждой категории\n",
    "df_stat_children = pd.pivot_table(\n",
    "    df_stat, \n",
    "    index = 'children', \n",
    "    values = 'debt', \n",
    "    aggfunc = ['sum', 'count', 'mean']\n",
    ").sort_values(by=('mean', 'debt'), ascending=False)\n",
    "df_stat_children"
   ]
  },
  {
   "cell_type": "code",
   "execution_count": 22,
   "id": "62867be8",
   "metadata": {},
   "outputs": [
    {
     "data": {
      "text/html": [
       "<div>\n",
       "<style scoped>\n",
       "    .dataframe tbody tr th:only-of-type {\n",
       "        vertical-align: middle;\n",
       "    }\n",
       "\n",
       "    .dataframe tbody tr th {\n",
       "        vertical-align: top;\n",
       "    }\n",
       "\n",
       "    .dataframe thead tr th {\n",
       "        text-align: left;\n",
       "    }\n",
       "\n",
       "    .dataframe thead tr:last-of-type th {\n",
       "        text-align: right;\n",
       "    }\n",
       "</style>\n",
       "<table border=\"1\" class=\"dataframe\">\n",
       "  <thead>\n",
       "    <tr>\n",
       "      <th></th>\n",
       "      <th>sum</th>\n",
       "      <th>count</th>\n",
       "      <th>conversion</th>\n",
       "    </tr>\n",
       "    <tr>\n",
       "      <th></th>\n",
       "      <th>debt</th>\n",
       "      <th>debt</th>\n",
       "      <th></th>\n",
       "    </tr>\n",
       "    <tr>\n",
       "      <th>family_status_id</th>\n",
       "      <th></th>\n",
       "      <th></th>\n",
       "      <th></th>\n",
       "    </tr>\n",
       "  </thead>\n",
       "  <tbody>\n",
       "    <tr>\n",
       "      <th>4</th>\n",
       "      <td>274</td>\n",
       "      <td>2810</td>\n",
       "      <td>0.097509</td>\n",
       "    </tr>\n",
       "    <tr>\n",
       "      <th>1</th>\n",
       "      <td>388</td>\n",
       "      <td>4151</td>\n",
       "      <td>0.093471</td>\n",
       "    </tr>\n",
       "    <tr>\n",
       "      <th>0</th>\n",
       "      <td>931</td>\n",
       "      <td>12339</td>\n",
       "      <td>0.075452</td>\n",
       "    </tr>\n",
       "    <tr>\n",
       "      <th>3</th>\n",
       "      <td>85</td>\n",
       "      <td>1195</td>\n",
       "      <td>0.071130</td>\n",
       "    </tr>\n",
       "    <tr>\n",
       "      <th>2</th>\n",
       "      <td>63</td>\n",
       "      <td>959</td>\n",
       "      <td>0.065693</td>\n",
       "    </tr>\n",
       "  </tbody>\n",
       "</table>\n",
       "</div>"
      ],
      "text/plain": [
       "                  sum  count conversion\n",
       "                 debt   debt           \n",
       "family_status_id                       \n",
       "4                 274   2810   0.097509\n",
       "1                 388   4151   0.093471\n",
       "0                 931  12339   0.075452\n",
       "3                  85   1195   0.071130\n",
       "2                  63    959   0.065693"
      ]
     },
     "execution_count": 22,
     "metadata": {},
     "output_type": "execute_result"
    }
   ],
   "source": [
    "# оценим зависимость между семейным статусом и возвратом кредита в срок, посчитаем долю просрочек по долгу для каждой категории\n",
    "df_stat_family_status = pd.pivot_table(df_stat, index = ['family_status_id'], values = ['debt'], aggfunc = ['sum', 'count'])\n",
    "df_stat_family_status['conversion'] = df_stat_family_status['sum'] / df_stat_family_status['count']\n",
    "df_stat_family_status.sort_values(by='conversion', ascending=False)"
   ]
  },
  {
   "cell_type": "code",
   "execution_count": 23,
   "id": "d4cbd463",
   "metadata": {},
   "outputs": [
    {
     "data": {
      "text/html": [
       "<div>\n",
       "<style scoped>\n",
       "    .dataframe tbody tr th:only-of-type {\n",
       "        vertical-align: middle;\n",
       "    }\n",
       "\n",
       "    .dataframe tbody tr th {\n",
       "        vertical-align: top;\n",
       "    }\n",
       "\n",
       "    .dataframe thead tr th {\n",
       "        text-align: left;\n",
       "    }\n",
       "\n",
       "    .dataframe thead tr:last-of-type th {\n",
       "        text-align: right;\n",
       "    }\n",
       "</style>\n",
       "<table border=\"1\" class=\"dataframe\">\n",
       "  <thead>\n",
       "    <tr>\n",
       "      <th></th>\n",
       "      <th>sum</th>\n",
       "      <th>count</th>\n",
       "      <th>conversion</th>\n",
       "    </tr>\n",
       "    <tr>\n",
       "      <th></th>\n",
       "      <th>debt</th>\n",
       "      <th>debt</th>\n",
       "      <th></th>\n",
       "    </tr>\n",
       "    <tr>\n",
       "      <th>total_income_category</th>\n",
       "      <th></th>\n",
       "      <th></th>\n",
       "      <th></th>\n",
       "    </tr>\n",
       "  </thead>\n",
       "  <tbody>\n",
       "    <tr>\n",
       "      <th>E</th>\n",
       "      <td>2</td>\n",
       "      <td>22</td>\n",
       "      <td>0.090909</td>\n",
       "    </tr>\n",
       "    <tr>\n",
       "      <th>C</th>\n",
       "      <td>1360</td>\n",
       "      <td>16016</td>\n",
       "      <td>0.084915</td>\n",
       "    </tr>\n",
       "    <tr>\n",
       "      <th>A</th>\n",
       "      <td>2</td>\n",
       "      <td>25</td>\n",
       "      <td>0.080000</td>\n",
       "    </tr>\n",
       "    <tr>\n",
       "      <th>B</th>\n",
       "      <td>356</td>\n",
       "      <td>5041</td>\n",
       "      <td>0.070621</td>\n",
       "    </tr>\n",
       "    <tr>\n",
       "      <th>D</th>\n",
       "      <td>21</td>\n",
       "      <td>350</td>\n",
       "      <td>0.060000</td>\n",
       "    </tr>\n",
       "  </tbody>\n",
       "</table>\n",
       "</div>"
      ],
      "text/plain": [
       "                        sum  count conversion\n",
       "                       debt   debt           \n",
       "total_income_category                        \n",
       "E                         2     22   0.090909\n",
       "C                      1360  16016   0.084915\n",
       "A                         2     25   0.080000\n",
       "B                       356   5041   0.070621\n",
       "D                        21    350   0.060000"
      ]
     },
     "execution_count": 23,
     "metadata": {},
     "output_type": "execute_result"
    }
   ],
   "source": [
    "# оценим зависимость между уровнем дохода и возвратом кредита в срок, посчитаем долю просрочек по долгу для каждой категории\n",
    "df_stat_total_income = pd.pivot_table(df_stat, index = ['total_income_category'], values = ['debt'], aggfunc = ['sum', 'count'])\n",
    "df_stat_total_income['conversion'] = df_stat_total_income['sum'] / df_stat_total_income['count']\n",
    "df_stat_total_income.sort_values(by='conversion', ascending=False)"
   ]
  },
  {
   "cell_type": "code",
   "execution_count": 24,
   "id": "de988eec",
   "metadata": {},
   "outputs": [
    {
     "data": {
      "text/html": [
       "<div>\n",
       "<style scoped>\n",
       "    .dataframe tbody tr th:only-of-type {\n",
       "        vertical-align: middle;\n",
       "    }\n",
       "\n",
       "    .dataframe tbody tr th {\n",
       "        vertical-align: top;\n",
       "    }\n",
       "\n",
       "    .dataframe thead tr th {\n",
       "        text-align: left;\n",
       "    }\n",
       "\n",
       "    .dataframe thead tr:last-of-type th {\n",
       "        text-align: right;\n",
       "    }\n",
       "</style>\n",
       "<table border=\"1\" class=\"dataframe\">\n",
       "  <thead>\n",
       "    <tr>\n",
       "      <th></th>\n",
       "      <th>sum</th>\n",
       "      <th>count</th>\n",
       "      <th>conversion</th>\n",
       "    </tr>\n",
       "    <tr>\n",
       "      <th></th>\n",
       "      <th>debt</th>\n",
       "      <th>debt</th>\n",
       "      <th></th>\n",
       "    </tr>\n",
       "    <tr>\n",
       "      <th>purpose_category</th>\n",
       "      <th></th>\n",
       "      <th></th>\n",
       "      <th></th>\n",
       "    </tr>\n",
       "  </thead>\n",
       "  <tbody>\n",
       "    <tr>\n",
       "      <th>операции с автомобилем</th>\n",
       "      <td>403</td>\n",
       "      <td>4306</td>\n",
       "      <td>0.093590</td>\n",
       "    </tr>\n",
       "    <tr>\n",
       "      <th>получение образования</th>\n",
       "      <td>370</td>\n",
       "      <td>4013</td>\n",
       "      <td>0.092200</td>\n",
       "    </tr>\n",
       "    <tr>\n",
       "      <th>проведение свадьбы</th>\n",
       "      <td>186</td>\n",
       "      <td>2324</td>\n",
       "      <td>0.080034</td>\n",
       "    </tr>\n",
       "    <tr>\n",
       "      <th>операции с недвижимостью</th>\n",
       "      <td>782</td>\n",
       "      <td>10811</td>\n",
       "      <td>0.072334</td>\n",
       "    </tr>\n",
       "  </tbody>\n",
       "</table>\n",
       "</div>"
      ],
      "text/plain": [
       "                          sum  count conversion\n",
       "                         debt   debt           \n",
       "purpose_category                               \n",
       "операции с автомобилем    403   4306   0.093590\n",
       "получение образования     370   4013   0.092200\n",
       "проведение свадьбы        186   2324   0.080034\n",
       "операции с недвижимостью  782  10811   0.072334"
      ]
     },
     "execution_count": 24,
     "metadata": {},
     "output_type": "execute_result"
    }
   ],
   "source": [
    "# оценим зависимость между целью кредита и возвратом кредита в срок, посчитаем долю просрочек по долгу для каждой категории\n",
    "df_stat_purpose = pd.pivot_table(df_stat, index = ['purpose_category'], values = ['debt'], aggfunc = ['sum', 'count'])\n",
    "df_stat_purpose['conversion'] = df_stat_purpose['sum'] / df_stat_purpose['count']\n",
    "df_stat_purpose.sort_values(by='conversion', ascending=False)"
   ]
  },
  {
   "cell_type": "markdown",
   "id": "5b0108cc",
   "metadata": {},
   "source": [
    "## [Ответы на вопросы](#start2)\n",
    "<a id=\"step10\"></a>"
   ]
  },
  {
   "cell_type": "markdown",
   "id": "1e75d2e8",
   "metadata": {},
   "source": [
    "**Вопрос 1:**\n",
    "\n",
    "Есть ли зависимость между количеством детей и возвратом кредита в срок?"
   ]
  },
  {
   "cell_type": "markdown",
   "id": "7ad94628",
   "metadata": {},
   "source": [
    "**Вывод 1:**\n",
    "\n",
    "Зависимость риска просрочки от количества детей не линейная, но однозначно можно сказать, что наличие детей этот риск увеличивает."
   ]
  },
  {
   "cell_type": "markdown",
   "id": "56a3a3cd",
   "metadata": {},
   "source": [
    "**Вопрос 2:**\n",
    "\n",
    "Есть ли зависимость между семейным положением и возвратом кредита в срок?"
   ]
  },
  {
   "cell_type": "markdown",
   "id": "9bc14d01",
   "metadata": {},
   "source": [
    "**Вывод 2:**\n",
    "\n",
    "Самая высокая доля просрочек у людей состоящих в гражданском браке и одиноких (не женат/не замужем). Скорее всего, что два этих множества пересекаются. Таким образом, одинокие люди и люди, не регистрирующие свои отношения, несут высоки риск просрочки."
   ]
  },
  {
   "cell_type": "markdown",
   "id": "3f47e884",
   "metadata": {},
   "source": [
    "**Вопрос 3:**\n",
    "\n",
    "Есть ли зависимость между уровнем дохода и возвратом кредита в срок?"
   ]
  },
  {
   "cell_type": "markdown",
   "id": "816acac7",
   "metadata": {},
   "source": [
    "**Вывод 3:**\n",
    "\n",
    "Самая высокая доля просрочек у заемщиков с минимальным доходом. Это выглядит логично, хотя таких замщиков очень мало. Скорее всего они не проходят по параметрам банка для выдачи кредитов.\n",
    "\n",
    "Вторая по просрочкам - категория заемщиков со средним доходом. Это самая массовая категория. Для более эффективного риск-менеджемента было бы правильно разбить ее на подкатегории и посмотреть по каждой долю просрочки. Потому что заемщик с зарплатой 55 000 руб. может быть очень далеко по платежеспособности, социальному статусу и присущим рискам от заемщика с зарплатой 190 000 руб."
   ]
  },
  {
   "cell_type": "markdown",
   "id": "7a6a3b81",
   "metadata": {},
   "source": [
    "**Вопрос 4:**\n",
    "\n",
    "Как разные цели кредита влияют на его возврат в срок?"
   ]
  },
  {
   "cell_type": "markdown",
   "id": "da10bad4",
   "metadata": {},
   "source": [
    "**Вывод 4:**\n",
    "\n",
    "Самая высокая доля просрочек по автокредитам и на образовательные цели. Вероятно, заемщик по автокредиту чаще может поддаться эмоциям при покупке авто и не рассчитать свои финансовые возможности. При займе на образовательные цели есть риск, что заемщик не успеет конвертировать свое образование в трудоустройство и зарплату и соответственно вернуть долг."
   ]
  },
  {
   "cell_type": "markdown",
   "id": "ece5be1e",
   "metadata": {},
   "source": [
    "## [Общий вывод](#start2)\n",
    "<a id=\"step11\"></a>"
   ]
  },
  {
   "cell_type": "markdown",
   "id": "b3d86c62",
   "metadata": {},
   "source": [
    "Заказчик поставил задачу разобраться, влияет ли семейное положение и количество детей клиента на факт погашения кредита в срок. По итогам исследования можно сделать вывод, что да, оба этих фактора имеют влияние.\n",
    "\n",
    "Портрет наиболее надежного заемщика - это человек, состоящий в браке и не имеющий детей.\n",
    "Наименее надежный заемщик - это человек, никогда ранее не регистрировавший брак и имеющий несколько детей.\n",
    "\n",
    "Кроме того, в процессе анализа мы выяснили, что целесообразно рассмотреть и другие факторы для включения в скоринг-модель. Например, доход заемщика и цель кредита. \n",
    "\n",
    "Доход замщика является важнейшим фактором оценки его платежеспособности, но необходимо очень внимательно подходить к его категоризации и оценке. Скорее всего, понадобится отдельный более глубокий анализ. \n",
    "\n",
    "Напротив, цель кредита имеет относительно прозрачную взаимосвязь с риском возврата."
   ]
  }
 ],
 "metadata": {
  "ExecuteTimeLog": [
   {
    "duration": 470,
    "start_time": "2022-04-30T12:10:41.890Z"
   },
   {
    "duration": 20,
    "start_time": "2022-04-30T12:13:03.064Z"
   },
   {
    "duration": 107,
    "start_time": "2022-04-30T12:39:48.300Z"
   },
   {
    "duration": 15,
    "start_time": "2022-04-30T12:39:53.992Z"
   },
   {
    "duration": 61,
    "start_time": "2022-04-30T12:48:38.067Z"
   },
   {
    "duration": 90,
    "start_time": "2022-04-30T13:11:21.794Z"
   },
   {
    "duration": 155,
    "start_time": "2022-04-30T16:17:34.424Z"
   },
   {
    "duration": 70,
    "start_time": "2022-04-30T16:18:31.822Z"
   },
   {
    "duration": 9,
    "start_time": "2022-04-30T16:18:56.264Z"
   },
   {
    "duration": 8,
    "start_time": "2022-04-30T16:19:46.066Z"
   },
   {
    "duration": 9,
    "start_time": "2022-04-30T16:20:26.470Z"
   },
   {
    "duration": 10,
    "start_time": "2022-04-30T16:31:30.546Z"
   },
   {
    "duration": 618,
    "start_time": "2022-04-30T16:31:46.323Z"
   },
   {
    "duration": 24,
    "start_time": "2022-04-30T16:31:46.945Z"
   },
   {
    "duration": 22,
    "start_time": "2022-04-30T16:31:46.972Z"
   },
   {
    "duration": 23,
    "start_time": "2022-04-30T16:32:07.468Z"
   },
   {
    "duration": 36,
    "start_time": "2022-04-30T16:33:01.982Z"
   },
   {
    "duration": 56,
    "start_time": "2022-04-30T16:39:17.461Z"
   },
   {
    "duration": 15,
    "start_time": "2022-04-30T16:40:03.326Z"
   },
   {
    "duration": 10,
    "start_time": "2022-04-30T16:44:45.358Z"
   },
   {
    "duration": 12,
    "start_time": "2022-04-30T16:46:18.714Z"
   },
   {
    "duration": 9,
    "start_time": "2022-04-30T16:46:51.527Z"
   },
   {
    "duration": 20,
    "start_time": "2022-04-30T16:54:40.893Z"
   },
   {
    "duration": 11,
    "start_time": "2022-04-30T16:54:55.031Z"
   },
   {
    "duration": 22,
    "start_time": "2022-04-30T16:55:02.533Z"
   },
   {
    "duration": 6,
    "start_time": "2022-04-30T16:58:28.738Z"
   },
   {
    "duration": 22,
    "start_time": "2022-04-30T17:01:15.367Z"
   },
   {
    "duration": 194,
    "start_time": "2022-04-30T17:01:36.147Z"
   },
   {
    "duration": 7,
    "start_time": "2022-04-30T17:02:44.448Z"
   },
   {
    "duration": 40,
    "start_time": "2022-04-30T17:02:53.575Z"
   },
   {
    "duration": 21,
    "start_time": "2022-04-30T17:08:37.682Z"
   },
   {
    "duration": 1129,
    "start_time": "2022-04-30T17:09:09.473Z"
   },
   {
    "duration": 23,
    "start_time": "2022-04-30T17:09:24.994Z"
   },
   {
    "duration": 14,
    "start_time": "2022-04-30T17:09:39.664Z"
   },
   {
    "duration": 35,
    "start_time": "2022-04-30T17:10:29.761Z"
   },
   {
    "duration": 12,
    "start_time": "2022-04-30T17:15:07.175Z"
   },
   {
    "duration": 30,
    "start_time": "2022-04-30T17:15:36.794Z"
   },
   {
    "duration": 12,
    "start_time": "2022-04-30T17:16:53.366Z"
   },
   {
    "duration": 9,
    "start_time": "2022-04-30T17:16:57.364Z"
   },
   {
    "duration": 6,
    "start_time": "2022-04-30T17:17:25.560Z"
   },
   {
    "duration": 7,
    "start_time": "2022-04-30T17:17:43.171Z"
   },
   {
    "duration": 9,
    "start_time": "2022-04-30T17:18:34.098Z"
   },
   {
    "duration": 9,
    "start_time": "2022-04-30T17:23:58.079Z"
   },
   {
    "duration": 11,
    "start_time": "2022-04-30T17:25:29.291Z"
   },
   {
    "duration": 14,
    "start_time": "2022-04-30T17:25:51.040Z"
   },
   {
    "duration": 17,
    "start_time": "2022-04-30T17:43:35.086Z"
   },
   {
    "duration": 29,
    "start_time": "2022-04-30T17:45:12.283Z"
   },
   {
    "duration": 6,
    "start_time": "2022-04-30T17:45:40.257Z"
   },
   {
    "duration": 16,
    "start_time": "2022-04-30T17:46:36.873Z"
   },
   {
    "duration": 14,
    "start_time": "2022-04-30T17:46:54.364Z"
   },
   {
    "duration": 95,
    "start_time": "2022-04-30T17:47:04.343Z"
   },
   {
    "duration": 22,
    "start_time": "2022-04-30T17:47:04.441Z"
   },
   {
    "duration": 22,
    "start_time": "2022-04-30T17:47:04.465Z"
   },
   {
    "duration": 47,
    "start_time": "2022-04-30T17:47:04.490Z"
   },
   {
    "duration": 15,
    "start_time": "2022-04-30T17:47:34.873Z"
   },
   {
    "duration": 15,
    "start_time": "2022-04-30T17:47:48.835Z"
   },
   {
    "duration": 16,
    "start_time": "2022-04-30T17:49:50.442Z"
   },
   {
    "duration": 14,
    "start_time": "2022-04-30T17:50:55.652Z"
   },
   {
    "duration": 16,
    "start_time": "2022-04-30T17:51:16.263Z"
   },
   {
    "duration": 6,
    "start_time": "2022-04-30T17:58:48.081Z"
   },
   {
    "duration": 9,
    "start_time": "2022-04-30T17:59:06.301Z"
   },
   {
    "duration": 14,
    "start_time": "2022-04-30T17:59:58.420Z"
   },
   {
    "duration": 13,
    "start_time": "2022-04-30T18:00:34.555Z"
   },
   {
    "duration": 9,
    "start_time": "2022-04-30T18:00:49.957Z"
   },
   {
    "duration": 16,
    "start_time": "2022-04-30T18:03:23.318Z"
   },
   {
    "duration": 177,
    "start_time": "2022-04-30T18:04:17.463Z"
   },
   {
    "duration": 138,
    "start_time": "2022-04-30T18:06:13.689Z"
   },
   {
    "duration": 15,
    "start_time": "2022-04-30T18:08:21.681Z"
   },
   {
    "duration": 90,
    "start_time": "2022-04-30T18:08:58.908Z"
   },
   {
    "duration": 42,
    "start_time": "2022-04-30T18:08:59.001Z"
   },
   {
    "duration": 24,
    "start_time": "2022-04-30T18:08:59.047Z"
   },
   {
    "duration": 61,
    "start_time": "2022-04-30T18:08:59.073Z"
   },
   {
    "duration": 11,
    "start_time": "2022-04-30T18:08:59.139Z"
   },
   {
    "duration": 52,
    "start_time": "2022-05-01T16:09:45.664Z"
   },
   {
    "duration": 504,
    "start_time": "2022-05-01T16:10:07.514Z"
   },
   {
    "duration": 18,
    "start_time": "2022-05-01T16:10:08.020Z"
   },
   {
    "duration": 17,
    "start_time": "2022-05-01T16:10:08.040Z"
   },
   {
    "duration": 12,
    "start_time": "2022-05-01T16:10:08.059Z"
   },
   {
    "duration": 8,
    "start_time": "2022-05-01T16:10:10.746Z"
   },
   {
    "duration": 9,
    "start_time": "2022-05-01T16:10:42.538Z"
   },
   {
    "duration": 41,
    "start_time": "2022-05-01T16:12:07.176Z"
   },
   {
    "duration": 7,
    "start_time": "2022-05-01T16:12:25.179Z"
   },
   {
    "duration": 10,
    "start_time": "2022-05-01T16:13:02.274Z"
   },
   {
    "duration": 12,
    "start_time": "2022-05-01T16:13:18.879Z"
   },
   {
    "duration": 142,
    "start_time": "2022-05-01T16:22:58.420Z"
   },
   {
    "duration": 1864,
    "start_time": "2022-05-01T16:25:24.022Z"
   },
   {
    "duration": 84,
    "start_time": "2022-05-01T16:25:51.866Z"
   },
   {
    "duration": 17,
    "start_time": "2022-05-01T16:25:51.953Z"
   },
   {
    "duration": 17,
    "start_time": "2022-05-01T16:25:51.972Z"
   },
   {
    "duration": 46,
    "start_time": "2022-05-01T16:25:51.991Z"
   },
   {
    "duration": 9,
    "start_time": "2022-05-01T16:25:52.040Z"
   },
   {
    "duration": 13,
    "start_time": "2022-05-01T16:25:52.051Z"
   },
   {
    "duration": 13,
    "start_time": "2022-05-01T16:25:54.573Z"
   },
   {
    "duration": 6,
    "start_time": "2022-05-01T16:32:45.296Z"
   },
   {
    "duration": 8,
    "start_time": "2022-05-01T16:33:11.968Z"
   },
   {
    "duration": 7,
    "start_time": "2022-05-01T16:33:44.109Z"
   },
   {
    "duration": 7,
    "start_time": "2022-05-01T16:36:08.907Z"
   },
   {
    "duration": 15,
    "start_time": "2022-05-01T16:37:26.195Z"
   },
   {
    "duration": 67,
    "start_time": "2022-05-01T16:38:08.950Z"
   },
   {
    "duration": 15,
    "start_time": "2022-05-01T16:38:09.019Z"
   },
   {
    "duration": 14,
    "start_time": "2022-05-01T16:38:09.036Z"
   },
   {
    "duration": 10,
    "start_time": "2022-05-01T16:38:09.052Z"
   },
   {
    "duration": 7,
    "start_time": "2022-05-01T16:38:09.064Z"
   },
   {
    "duration": 11,
    "start_time": "2022-05-01T16:38:09.072Z"
   },
   {
    "duration": 8,
    "start_time": "2022-05-01T16:38:09.134Z"
   },
   {
    "duration": 7,
    "start_time": "2022-05-01T16:38:09.143Z"
   },
   {
    "duration": 16,
    "start_time": "2022-05-01T16:38:12.578Z"
   },
   {
    "duration": 5,
    "start_time": "2022-05-01T16:44:49.678Z"
   },
   {
    "duration": 3,
    "start_time": "2022-05-01T16:46:48.775Z"
   },
   {
    "duration": 18,
    "start_time": "2022-05-01T16:47:17.274Z"
   },
   {
    "duration": 5,
    "start_time": "2022-05-01T17:09:17.592Z"
   },
   {
    "duration": 5,
    "start_time": "2022-05-01T17:14:06.028Z"
   },
   {
    "duration": 15,
    "start_time": "2022-05-01T17:15:17.266Z"
   },
   {
    "duration": 17,
    "start_time": "2022-05-01T17:15:23.789Z"
   },
   {
    "duration": 17,
    "start_time": "2022-05-01T17:15:40.535Z"
   },
   {
    "duration": 15,
    "start_time": "2022-05-01T17:16:50.460Z"
   },
   {
    "duration": 16,
    "start_time": "2022-05-01T17:17:44.492Z"
   },
   {
    "duration": 36,
    "start_time": "2022-05-01T17:20:06.556Z"
   },
   {
    "duration": 56,
    "start_time": "2022-05-01T17:21:09.347Z"
   },
   {
    "duration": 21,
    "start_time": "2022-05-01T17:31:22.468Z"
   },
   {
    "duration": 19,
    "start_time": "2022-05-01T17:33:06.066Z"
   },
   {
    "duration": 69,
    "start_time": "2022-05-01T17:33:13.355Z"
   },
   {
    "duration": 14,
    "start_time": "2022-05-01T17:33:13.426Z"
   },
   {
    "duration": 13,
    "start_time": "2022-05-01T17:33:13.442Z"
   },
   {
    "duration": 9,
    "start_time": "2022-05-01T17:33:13.458Z"
   },
   {
    "duration": 15,
    "start_time": "2022-05-01T17:33:13.469Z"
   },
   {
    "duration": 48,
    "start_time": "2022-05-01T17:33:13.486Z"
   },
   {
    "duration": 8,
    "start_time": "2022-05-01T17:33:13.535Z"
   },
   {
    "duration": 7,
    "start_time": "2022-05-01T17:33:13.544Z"
   },
   {
    "duration": 15,
    "start_time": "2022-05-01T17:33:13.552Z"
   },
   {
    "duration": 15,
    "start_time": "2022-05-01T17:33:13.569Z"
   },
   {
    "duration": 59,
    "start_time": "2022-05-01T17:33:13.585Z"
   },
   {
    "duration": 15,
    "start_time": "2022-05-01T17:33:13.645Z"
   },
   {
    "duration": 74,
    "start_time": "2022-05-01T17:33:13.661Z"
   },
   {
    "duration": 64,
    "start_time": "2022-05-01T17:41:53.126Z"
   },
   {
    "duration": 71,
    "start_time": "2022-05-02T04:16:52.766Z"
   },
   {
    "duration": 7,
    "start_time": "2022-05-02T04:17:24.978Z"
   },
   {
    "duration": 491,
    "start_time": "2022-05-02T04:17:39.527Z"
   },
   {
    "duration": 16,
    "start_time": "2022-05-02T04:17:40.020Z"
   },
   {
    "duration": 38,
    "start_time": "2022-05-02T04:17:40.038Z"
   },
   {
    "duration": 10,
    "start_time": "2022-05-02T04:17:40.078Z"
   },
   {
    "duration": 7,
    "start_time": "2022-05-02T04:17:40.090Z"
   },
   {
    "duration": 11,
    "start_time": "2022-05-02T04:17:40.099Z"
   },
   {
    "duration": 9,
    "start_time": "2022-05-02T04:17:40.112Z"
   },
   {
    "duration": 11,
    "start_time": "2022-05-02T04:17:40.154Z"
   },
   {
    "duration": 25,
    "start_time": "2022-05-02T04:17:40.167Z"
   },
   {
    "duration": 15,
    "start_time": "2022-05-02T04:17:40.194Z"
   },
   {
    "duration": 52,
    "start_time": "2022-05-02T04:17:40.211Z"
   },
   {
    "duration": 22,
    "start_time": "2022-05-02T04:17:40.265Z"
   },
   {
    "duration": 82,
    "start_time": "2022-05-02T04:17:40.289Z"
   },
   {
    "duration": 139,
    "start_time": "2022-05-02T04:17:40.375Z"
   },
   {
    "duration": 12,
    "start_time": "2022-05-02T04:17:43.180Z"
   },
   {
    "duration": 44,
    "start_time": "2022-05-02T04:21:10.659Z"
   },
   {
    "duration": 2052,
    "start_time": "2022-05-02T04:26:51.727Z"
   },
   {
    "duration": 16,
    "start_time": "2022-05-02T04:27:22.972Z"
   },
   {
    "duration": 36,
    "start_time": "2022-05-02T04:33:22.714Z"
   },
   {
    "duration": 77,
    "start_time": "2022-05-02T08:59:03.890Z"
   },
   {
    "duration": 14,
    "start_time": "2022-05-02T08:59:03.971Z"
   },
   {
    "duration": 14,
    "start_time": "2022-05-02T08:59:03.987Z"
   },
   {
    "duration": 9,
    "start_time": "2022-05-02T08:59:04.003Z"
   },
   {
    "duration": 7,
    "start_time": "2022-05-02T08:59:04.014Z"
   },
   {
    "duration": 49,
    "start_time": "2022-05-02T08:59:04.022Z"
   },
   {
    "duration": 7,
    "start_time": "2022-05-02T08:59:04.073Z"
   },
   {
    "duration": 6,
    "start_time": "2022-05-02T08:59:04.082Z"
   },
   {
    "duration": 21,
    "start_time": "2022-05-02T08:59:04.090Z"
   },
   {
    "duration": 65,
    "start_time": "2022-05-02T08:59:04.113Z"
   },
   {
    "duration": 26,
    "start_time": "2022-05-02T08:59:04.180Z"
   },
   {
    "duration": 24,
    "start_time": "2022-05-02T08:59:04.207Z"
   },
   {
    "duration": 122,
    "start_time": "2022-05-02T08:59:04.233Z"
   },
   {
    "duration": 67,
    "start_time": "2022-05-02T08:59:04.359Z"
   },
   {
    "duration": 53,
    "start_time": "2022-05-02T08:59:15.155Z"
   },
   {
    "duration": 3,
    "start_time": "2022-05-02T09:21:38.976Z"
   },
   {
    "duration": 5,
    "start_time": "2022-05-02T09:23:36.729Z"
   },
   {
    "duration": 5,
    "start_time": "2022-05-02T09:23:52.389Z"
   },
   {
    "duration": 7,
    "start_time": "2022-05-02T09:25:31.158Z"
   },
   {
    "duration": 9,
    "start_time": "2022-05-02T09:27:31.814Z"
   },
   {
    "duration": 4,
    "start_time": "2022-05-02T09:28:27.848Z"
   },
   {
    "duration": 4,
    "start_time": "2022-05-02T09:31:15.888Z"
   },
   {
    "duration": 5,
    "start_time": "2022-05-02T09:31:41.611Z"
   },
   {
    "duration": 2016,
    "start_time": "2022-05-02T09:32:13.237Z"
   },
   {
    "duration": 75,
    "start_time": "2022-05-02T09:32:19.280Z"
   },
   {
    "duration": 15,
    "start_time": "2022-05-02T09:32:19.357Z"
   },
   {
    "duration": 14,
    "start_time": "2022-05-02T09:32:19.373Z"
   },
   {
    "duration": 19,
    "start_time": "2022-05-02T09:32:19.388Z"
   },
   {
    "duration": 6,
    "start_time": "2022-05-02T09:32:19.409Z"
   },
   {
    "duration": 39,
    "start_time": "2022-05-02T09:32:19.417Z"
   },
   {
    "duration": 10,
    "start_time": "2022-05-02T09:32:19.458Z"
   },
   {
    "duration": 10,
    "start_time": "2022-05-02T09:32:19.471Z"
   },
   {
    "duration": 15,
    "start_time": "2022-05-02T09:32:19.483Z"
   },
   {
    "duration": 67,
    "start_time": "2022-05-02T09:32:19.500Z"
   },
   {
    "duration": 19,
    "start_time": "2022-05-02T09:32:19.569Z"
   },
   {
    "duration": 14,
    "start_time": "2022-05-02T09:32:19.590Z"
   },
   {
    "duration": 82,
    "start_time": "2022-05-02T09:32:19.605Z"
   },
   {
    "duration": 120,
    "start_time": "2022-05-02T09:32:19.690Z"
   },
   {
    "duration": 60,
    "start_time": "2022-05-02T09:32:19.812Z"
   },
   {
    "duration": 5,
    "start_time": "2022-05-02T09:32:19.874Z"
   },
   {
    "duration": 6,
    "start_time": "2022-05-02T09:32:28.208Z"
   },
   {
    "duration": 1753,
    "start_time": "2022-05-02T09:32:30.128Z"
   },
   {
    "duration": 20,
    "start_time": "2022-05-02T09:33:08.646Z"
   },
   {
    "duration": 17,
    "start_time": "2022-05-02T09:33:54.302Z"
   },
   {
    "duration": 25,
    "start_time": "2022-05-02T09:38:14.498Z"
   },
   {
    "duration": 18,
    "start_time": "2022-05-02T09:38:37.645Z"
   },
   {
    "duration": 11,
    "start_time": "2022-05-02T09:52:30.892Z"
   },
   {
    "duration": 109,
    "start_time": "2022-05-02T09:57:28.159Z"
   },
   {
    "duration": 186,
    "start_time": "2022-05-02T10:11:02.918Z"
   },
   {
    "duration": 7,
    "start_time": "2022-05-02T10:11:33.702Z"
   },
   {
    "duration": 464,
    "start_time": "2022-05-02T10:13:21.611Z"
   },
   {
    "duration": 33,
    "start_time": "2022-05-02T10:13:44.100Z"
   },
   {
    "duration": 22,
    "start_time": "2022-05-02T10:15:35.966Z"
   },
   {
    "duration": 21,
    "start_time": "2022-05-02T10:29:37.834Z"
   },
   {
    "duration": 121,
    "start_time": "2022-05-02T10:33:19.432Z"
   },
   {
    "duration": 22,
    "start_time": "2022-05-02T10:33:40.850Z"
   },
   {
    "duration": 25,
    "start_time": "2022-05-02T10:40:43.811Z"
   },
   {
    "duration": 19,
    "start_time": "2022-05-02T10:43:24.736Z"
   },
   {
    "duration": 20,
    "start_time": "2022-05-02T10:43:40.293Z"
   },
   {
    "duration": 19,
    "start_time": "2022-05-02T10:44:33.704Z"
   },
   {
    "duration": 19,
    "start_time": "2022-05-02T10:45:30.635Z"
   },
   {
    "duration": 30,
    "start_time": "2022-05-02T10:46:41.130Z"
   },
   {
    "duration": 482,
    "start_time": "2022-05-02T10:51:11.251Z"
   },
   {
    "duration": 468,
    "start_time": "2022-05-02T10:51:37.342Z"
   },
   {
    "duration": 29,
    "start_time": "2022-05-02T10:51:48.128Z"
   },
   {
    "duration": 30,
    "start_time": "2022-05-02T10:52:08.566Z"
   },
   {
    "duration": 30,
    "start_time": "2022-05-02T10:58:59.540Z"
   },
   {
    "duration": 47,
    "start_time": "2022-05-02T10:59:37.945Z"
   },
   {
    "duration": 19,
    "start_time": "2022-05-02T11:08:57.020Z"
   },
   {
    "duration": 14,
    "start_time": "2022-05-02T11:11:18.447Z"
   },
   {
    "duration": 13,
    "start_time": "2022-05-02T11:15:30.742Z"
   },
   {
    "duration": 21,
    "start_time": "2022-05-02T11:15:45.012Z"
   },
   {
    "duration": 20,
    "start_time": "2022-05-02T11:15:56.138Z"
   },
   {
    "duration": 16,
    "start_time": "2022-05-02T11:20:51.099Z"
   },
   {
    "duration": 13,
    "start_time": "2022-05-02T11:21:54.681Z"
   },
   {
    "duration": 4,
    "start_time": "2022-05-02T11:24:14.643Z"
   },
   {
    "duration": 18,
    "start_time": "2022-05-02T11:24:21.415Z"
   },
   {
    "duration": 43,
    "start_time": "2022-05-03T08:22:13.328Z"
   },
   {
    "duration": 487,
    "start_time": "2022-05-03T08:22:31.671Z"
   },
   {
    "duration": 14,
    "start_time": "2022-05-03T08:22:32.159Z"
   },
   {
    "duration": 30,
    "start_time": "2022-05-03T08:22:32.174Z"
   },
   {
    "duration": 10,
    "start_time": "2022-05-03T08:22:32.206Z"
   },
   {
    "duration": 13,
    "start_time": "2022-05-03T08:22:32.218Z"
   },
   {
    "duration": 18,
    "start_time": "2022-05-03T08:22:32.233Z"
   },
   {
    "duration": 6,
    "start_time": "2022-05-03T08:22:32.252Z"
   },
   {
    "duration": 41,
    "start_time": "2022-05-03T08:22:32.260Z"
   },
   {
    "duration": 16,
    "start_time": "2022-05-03T08:22:32.302Z"
   },
   {
    "duration": 66,
    "start_time": "2022-05-03T08:29:22.706Z"
   },
   {
    "duration": 19,
    "start_time": "2022-05-03T08:29:22.773Z"
   },
   {
    "duration": 21,
    "start_time": "2022-05-03T08:29:22.793Z"
   },
   {
    "duration": 9,
    "start_time": "2022-05-03T08:29:22.816Z"
   },
   {
    "duration": 6,
    "start_time": "2022-05-03T08:29:22.827Z"
   },
   {
    "duration": 11,
    "start_time": "2022-05-03T08:29:22.834Z"
   },
   {
    "duration": 56,
    "start_time": "2022-05-03T08:29:22.847Z"
   },
   {
    "duration": 8,
    "start_time": "2022-05-03T08:29:22.904Z"
   },
   {
    "duration": 14,
    "start_time": "2022-05-03T08:29:22.914Z"
   },
   {
    "duration": 4,
    "start_time": "2022-05-03T08:29:22.931Z"
   },
   {
    "duration": 15,
    "start_time": "2022-05-03T08:29:22.937Z"
   },
   {
    "duration": 57,
    "start_time": "2022-05-03T08:29:22.953Z"
   },
   {
    "duration": 14,
    "start_time": "2022-05-03T08:29:23.011Z"
   },
   {
    "duration": 74,
    "start_time": "2022-05-03T08:29:23.027Z"
   },
   {
    "duration": 62,
    "start_time": "2022-05-03T08:29:23.103Z"
   },
   {
    "duration": 62,
    "start_time": "2022-05-03T08:29:23.167Z"
   },
   {
    "duration": 5,
    "start_time": "2022-05-03T08:29:23.230Z"
   },
   {
    "duration": 22,
    "start_time": "2022-05-03T08:29:23.237Z"
   },
   {
    "duration": 83,
    "start_time": "2022-05-03T08:29:23.261Z"
   },
   {
    "duration": 28,
    "start_time": "2022-05-03T08:29:23.346Z"
   },
   {
    "duration": 19,
    "start_time": "2022-05-03T08:32:30.810Z"
   },
   {
    "duration": 39,
    "start_time": "2022-05-03T08:55:53.473Z"
   },
   {
    "duration": 7,
    "start_time": "2022-05-03T08:56:06.683Z"
   },
   {
    "duration": 6,
    "start_time": "2022-05-03T08:56:44.728Z"
   },
   {
    "duration": 7,
    "start_time": "2022-05-03T08:57:12.637Z"
   },
   {
    "duration": 11,
    "start_time": "2022-05-03T08:57:23.724Z"
   },
   {
    "duration": 212,
    "start_time": "2022-05-03T09:01:32.665Z"
   },
   {
    "duration": 9,
    "start_time": "2022-05-03T09:02:06.678Z"
   },
   {
    "duration": 10,
    "start_time": "2022-05-03T09:02:29.864Z"
   },
   {
    "duration": 10,
    "start_time": "2022-05-03T09:08:53.277Z"
   },
   {
    "duration": 11,
    "start_time": "2022-05-03T09:09:36.081Z"
   },
   {
    "duration": 11,
    "start_time": "2022-05-03T09:11:48.978Z"
   },
   {
    "duration": 10,
    "start_time": "2022-05-03T09:12:10.970Z"
   },
   {
    "duration": 7,
    "start_time": "2022-05-03T09:12:50.730Z"
   },
   {
    "duration": 77,
    "start_time": "2022-05-03T11:24:43.166Z"
   },
   {
    "duration": 12,
    "start_time": "2022-05-03T11:24:43.245Z"
   },
   {
    "duration": 11,
    "start_time": "2022-05-03T11:24:43.259Z"
   },
   {
    "duration": 10,
    "start_time": "2022-05-03T11:24:43.301Z"
   },
   {
    "duration": 5,
    "start_time": "2022-05-03T11:24:43.312Z"
   },
   {
    "duration": 13,
    "start_time": "2022-05-03T11:24:43.319Z"
   },
   {
    "duration": 10,
    "start_time": "2022-05-03T11:24:43.333Z"
   },
   {
    "duration": 56,
    "start_time": "2022-05-03T11:24:43.345Z"
   },
   {
    "duration": 14,
    "start_time": "2022-05-03T11:24:43.403Z"
   },
   {
    "duration": 15,
    "start_time": "2022-05-03T11:24:43.419Z"
   },
   {
    "duration": 11,
    "start_time": "2022-05-03T11:24:43.435Z"
   },
   {
    "duration": 59,
    "start_time": "2022-05-03T11:24:43.447Z"
   },
   {
    "duration": 15,
    "start_time": "2022-05-03T11:24:43.507Z"
   },
   {
    "duration": 13,
    "start_time": "2022-05-03T11:24:43.523Z"
   },
   {
    "duration": 76,
    "start_time": "2022-05-03T11:24:43.538Z"
   },
   {
    "duration": 86,
    "start_time": "2022-05-03T11:24:43.616Z"
   },
   {
    "duration": 42,
    "start_time": "2022-05-03T11:24:43.704Z"
   },
   {
    "duration": 5,
    "start_time": "2022-05-03T11:24:43.748Z"
   },
   {
    "duration": 59,
    "start_time": "2022-05-03T11:24:43.755Z"
   },
   {
    "duration": 33,
    "start_time": "2022-05-03T11:24:43.816Z"
   },
   {
    "duration": 53,
    "start_time": "2022-05-03T11:24:43.850Z"
   },
   {
    "duration": 23,
    "start_time": "2022-05-03T11:41:15.795Z"
   },
   {
    "duration": 27,
    "start_time": "2022-05-03T11:41:37.865Z"
   },
   {
    "duration": 20,
    "start_time": "2022-05-03T11:49:42.719Z"
   },
   {
    "duration": 22,
    "start_time": "2022-05-03T11:59:49.690Z"
   },
   {
    "duration": 20,
    "start_time": "2022-05-03T12:01:22.655Z"
   },
   {
    "duration": 22,
    "start_time": "2022-05-03T12:02:01.542Z"
   },
   {
    "duration": 33,
    "start_time": "2022-05-03T12:16:09.901Z"
   },
   {
    "duration": 25,
    "start_time": "2022-05-03T12:26:07.420Z"
   },
   {
    "duration": 25,
    "start_time": "2022-05-03T12:29:11.006Z"
   },
   {
    "duration": 27,
    "start_time": "2022-05-03T12:29:18.541Z"
   },
   {
    "duration": 31,
    "start_time": "2022-05-03T12:30:13.170Z"
   },
   {
    "duration": 21,
    "start_time": "2022-05-03T12:30:13.203Z"
   },
   {
    "duration": 20,
    "start_time": "2022-05-03T12:30:13.226Z"
   },
   {
    "duration": 68,
    "start_time": "2022-05-03T12:30:13.248Z"
   },
   {
    "duration": 24,
    "start_time": "2022-05-03T12:30:13.317Z"
   },
   {
    "duration": 67,
    "start_time": "2022-05-03T12:47:29.622Z"
   },
   {
    "duration": 12,
    "start_time": "2022-05-03T12:47:29.691Z"
   },
   {
    "duration": 14,
    "start_time": "2022-05-03T12:47:29.704Z"
   },
   {
    "duration": 8,
    "start_time": "2022-05-03T12:47:29.720Z"
   },
   {
    "duration": 5,
    "start_time": "2022-05-03T12:47:29.730Z"
   },
   {
    "duration": 64,
    "start_time": "2022-05-03T12:47:29.737Z"
   },
   {
    "duration": 7,
    "start_time": "2022-05-03T12:47:29.803Z"
   },
   {
    "duration": 6,
    "start_time": "2022-05-03T12:47:29.811Z"
   },
   {
    "duration": 14,
    "start_time": "2022-05-03T12:47:29.819Z"
   },
   {
    "duration": 71,
    "start_time": "2022-05-03T12:47:29.836Z"
   },
   {
    "duration": 11,
    "start_time": "2022-05-03T12:47:29.908Z"
   },
   {
    "duration": 15,
    "start_time": "2022-05-03T12:47:29.920Z"
   },
   {
    "duration": 72,
    "start_time": "2022-05-03T12:47:29.937Z"
   },
   {
    "duration": 15,
    "start_time": "2022-05-03T12:47:30.011Z"
   },
   {
    "duration": 96,
    "start_time": "2022-05-03T12:47:30.028Z"
   },
   {
    "duration": 88,
    "start_time": "2022-05-03T12:47:30.125Z"
   },
   {
    "duration": 42,
    "start_time": "2022-05-03T12:47:30.214Z"
   },
   {
    "duration": 5,
    "start_time": "2022-05-03T12:47:30.257Z"
   },
   {
    "duration": 16,
    "start_time": "2022-05-03T12:47:30.300Z"
   },
   {
    "duration": 42,
    "start_time": "2022-05-03T12:47:30.317Z"
   },
   {
    "duration": 60,
    "start_time": "2022-05-03T12:47:30.361Z"
   },
   {
    "duration": 22,
    "start_time": "2022-05-03T12:47:30.422Z"
   },
   {
    "duration": 56,
    "start_time": "2022-05-03T12:47:30.445Z"
   },
   {
    "duration": 26,
    "start_time": "2022-05-03T12:47:30.503Z"
   },
   {
    "duration": 65,
    "start_time": "2022-05-03T13:04:56.810Z"
   },
   {
    "duration": 23,
    "start_time": "2022-05-03T13:04:56.877Z"
   },
   {
    "duration": 12,
    "start_time": "2022-05-03T13:04:56.902Z"
   },
   {
    "duration": 8,
    "start_time": "2022-05-03T13:04:56.916Z"
   },
   {
    "duration": 6,
    "start_time": "2022-05-03T13:04:56.927Z"
   },
   {
    "duration": 11,
    "start_time": "2022-05-03T13:04:56.935Z"
   },
   {
    "duration": 57,
    "start_time": "2022-05-03T13:04:56.948Z"
   },
   {
    "duration": 6,
    "start_time": "2022-05-03T13:04:57.007Z"
   },
   {
    "duration": 13,
    "start_time": "2022-05-03T13:04:57.015Z"
   },
   {
    "duration": 14,
    "start_time": "2022-05-03T13:04:57.029Z"
   },
   {
    "duration": 12,
    "start_time": "2022-05-03T13:04:57.100Z"
   },
   {
    "duration": 16,
    "start_time": "2022-05-03T13:04:57.114Z"
   },
   {
    "duration": 84,
    "start_time": "2022-05-03T13:04:57.132Z"
   },
   {
    "duration": 14,
    "start_time": "2022-05-03T13:04:57.218Z"
   },
   {
    "duration": 68,
    "start_time": "2022-05-03T13:04:57.233Z"
   },
   {
    "duration": 58,
    "start_time": "2022-05-03T13:04:57.302Z"
   },
   {
    "duration": 65,
    "start_time": "2022-05-03T13:04:57.362Z"
   },
   {
    "duration": 4,
    "start_time": "2022-05-03T13:04:57.428Z"
   },
   {
    "duration": 21,
    "start_time": "2022-05-03T13:04:57.434Z"
   },
   {
    "duration": 68,
    "start_time": "2022-05-03T13:04:57.456Z"
   },
   {
    "duration": 22,
    "start_time": "2022-05-03T13:04:57.525Z"
   },
   {
    "duration": 60,
    "start_time": "2022-05-03T13:04:57.548Z"
   },
   {
    "duration": 22,
    "start_time": "2022-05-03T13:04:57.609Z"
   },
   {
    "duration": 23,
    "start_time": "2022-05-03T13:04:57.633Z"
   },
   {
    "duration": 568,
    "start_time": "2022-05-06T12:10:01.484Z"
   },
   {
    "duration": 17,
    "start_time": "2022-05-06T12:10:02.294Z"
   },
   {
    "duration": 17,
    "start_time": "2022-05-06T12:10:04.433Z"
   },
   {
    "duration": 7,
    "start_time": "2022-05-06T12:10:43.760Z"
   },
   {
    "duration": 13,
    "start_time": "2022-05-06T12:10:46.149Z"
   },
   {
    "duration": 9,
    "start_time": "2022-05-06T12:11:20.150Z"
   },
   {
    "duration": 15,
    "start_time": "2022-05-06T12:11:29.595Z"
   },
   {
    "duration": 8,
    "start_time": "2022-05-06T12:11:47.986Z"
   },
   {
    "duration": 153,
    "start_time": "2022-05-06T12:12:04.131Z"
   },
   {
    "duration": 567,
    "start_time": "2022-12-18T08:30:46.138Z"
   },
   {
    "duration": 16,
    "start_time": "2022-12-18T08:30:46.707Z"
   },
   {
    "duration": 14,
    "start_time": "2022-12-18T08:30:46.725Z"
   },
   {
    "duration": 12,
    "start_time": "2022-12-18T08:30:46.740Z"
   },
   {
    "duration": 9,
    "start_time": "2022-12-18T08:30:46.754Z"
   },
   {
    "duration": 13,
    "start_time": "2022-12-18T08:30:46.764Z"
   },
   {
    "duration": 49,
    "start_time": "2022-12-18T08:30:46.779Z"
   },
   {
    "duration": 8,
    "start_time": "2022-12-18T08:30:46.829Z"
   },
   {
    "duration": 16,
    "start_time": "2022-12-18T08:30:46.839Z"
   },
   {
    "duration": 18,
    "start_time": "2022-12-18T08:30:46.856Z"
   },
   {
    "duration": 57,
    "start_time": "2022-12-18T08:30:46.875Z"
   },
   {
    "duration": 24,
    "start_time": "2022-12-18T08:30:46.935Z"
   },
   {
    "duration": 26,
    "start_time": "2022-12-18T08:30:46.961Z"
   },
   {
    "duration": 26,
    "start_time": "2022-12-18T08:30:47.022Z"
   },
   {
    "duration": 94,
    "start_time": "2022-12-18T08:30:47.049Z"
   },
   {
    "duration": 99,
    "start_time": "2022-12-18T08:30:47.146Z"
   },
   {
    "duration": 46,
    "start_time": "2022-12-18T08:30:47.247Z"
   },
   {
    "duration": 30,
    "start_time": "2022-12-18T08:30:47.294Z"
   },
   {
    "duration": 17,
    "start_time": "2022-12-18T08:30:47.326Z"
   },
   {
    "duration": 33,
    "start_time": "2022-12-18T08:30:47.345Z"
   },
   {
    "duration": 73,
    "start_time": "2022-12-18T08:30:47.380Z"
   },
   {
    "duration": 110,
    "start_time": "2022-12-18T08:30:47.454Z"
   },
   {
    "duration": 0,
    "start_time": "2022-12-18T08:30:47.566Z"
   },
   {
    "duration": 0,
    "start_time": "2022-12-18T08:30:47.568Z"
   },
   {
    "duration": 0,
    "start_time": "2022-12-18T08:30:47.569Z"
   },
   {
    "duration": 496,
    "start_time": "2022-12-18T08:31:30.275Z"
   },
   {
    "duration": 15,
    "start_time": "2022-12-18T08:31:30.773Z"
   },
   {
    "duration": 52,
    "start_time": "2022-12-18T08:31:30.790Z"
   },
   {
    "duration": 19,
    "start_time": "2022-12-18T08:31:30.844Z"
   },
   {
    "duration": 25,
    "start_time": "2022-12-18T08:31:30.867Z"
   },
   {
    "duration": 12,
    "start_time": "2022-12-18T08:31:30.894Z"
   },
   {
    "duration": 16,
    "start_time": "2022-12-18T08:31:30.907Z"
   },
   {
    "duration": 8,
    "start_time": "2022-12-18T08:31:30.926Z"
   },
   {
    "duration": 28,
    "start_time": "2022-12-18T08:31:30.936Z"
   },
   {
    "duration": 16,
    "start_time": "2022-12-18T08:31:30.966Z"
   },
   {
    "duration": 45,
    "start_time": "2022-12-18T08:31:30.984Z"
   },
   {
    "duration": 14,
    "start_time": "2022-12-18T08:31:31.030Z"
   },
   {
    "duration": 43,
    "start_time": "2022-12-18T08:31:31.046Z"
   },
   {
    "duration": 17,
    "start_time": "2022-12-18T08:31:31.092Z"
   },
   {
    "duration": 66,
    "start_time": "2022-12-18T08:31:31.110Z"
   },
   {
    "duration": 86,
    "start_time": "2022-12-18T08:31:31.178Z"
   },
   {
    "duration": 63,
    "start_time": "2022-12-18T08:31:31.265Z"
   },
   {
    "duration": 7,
    "start_time": "2022-12-18T08:31:31.330Z"
   },
   {
    "duration": 33,
    "start_time": "2022-12-18T08:31:31.339Z"
   },
   {
    "duration": 61,
    "start_time": "2022-12-18T08:31:31.373Z"
   },
   {
    "duration": 37,
    "start_time": "2022-12-18T08:31:31.436Z"
   },
   {
    "duration": 2,
    "start_time": "2022-12-18T08:31:31.475Z"
   },
   {
    "duration": 47,
    "start_time": "2022-12-18T08:31:31.479Z"
   },
   {
    "duration": 26,
    "start_time": "2022-12-18T08:31:31.527Z"
   },
   {
    "duration": 29,
    "start_time": "2022-12-18T08:31:31.555Z"
   },
   {
    "duration": 501,
    "start_time": "2022-12-18T08:35:11.694Z"
   },
   {
    "duration": 15,
    "start_time": "2022-12-18T08:35:12.196Z"
   },
   {
    "duration": 14,
    "start_time": "2022-12-18T08:35:12.212Z"
   },
   {
    "duration": 9,
    "start_time": "2022-12-18T08:35:12.227Z"
   },
   {
    "duration": 7,
    "start_time": "2022-12-18T08:35:12.238Z"
   },
   {
    "duration": 10,
    "start_time": "2022-12-18T08:35:12.246Z"
   },
   {
    "duration": 6,
    "start_time": "2022-12-18T08:35:12.258Z"
   },
   {
    "duration": 8,
    "start_time": "2022-12-18T08:35:12.266Z"
   },
   {
    "duration": 61,
    "start_time": "2022-12-18T08:35:12.276Z"
   },
   {
    "duration": 14,
    "start_time": "2022-12-18T08:35:12.339Z"
   },
   {
    "duration": 12,
    "start_time": "2022-12-18T08:35:12.355Z"
   },
   {
    "duration": 16,
    "start_time": "2022-12-18T08:35:12.368Z"
   },
   {
    "duration": 18,
    "start_time": "2022-12-18T08:35:12.423Z"
   },
   {
    "duration": 16,
    "start_time": "2022-12-18T08:35:12.443Z"
   },
   {
    "duration": 74,
    "start_time": "2022-12-18T08:35:12.460Z"
   },
   {
    "duration": 88,
    "start_time": "2022-12-18T08:35:12.536Z"
   },
   {
    "duration": 43,
    "start_time": "2022-12-18T08:35:12.625Z"
   },
   {
    "duration": 6,
    "start_time": "2022-12-18T08:35:12.669Z"
   },
   {
    "duration": 55,
    "start_time": "2022-12-18T08:35:12.677Z"
   },
   {
    "duration": 33,
    "start_time": "2022-12-18T08:35:12.733Z"
   },
   {
    "duration": 56,
    "start_time": "2022-12-18T08:35:12.768Z"
   },
   {
    "duration": 3,
    "start_time": "2022-12-18T08:35:12.825Z"
   },
   {
    "duration": 24,
    "start_time": "2022-12-18T08:35:12.830Z"
   },
   {
    "duration": 25,
    "start_time": "2022-12-18T08:35:12.856Z"
   },
   {
    "duration": 58,
    "start_time": "2022-12-18T08:35:12.883Z"
   },
   {
    "duration": 429,
    "start_time": "2022-12-18T08:37:43.177Z"
   },
   {
    "duration": 15,
    "start_time": "2022-12-18T08:37:43.608Z"
   },
   {
    "duration": 15,
    "start_time": "2022-12-18T08:37:43.624Z"
   },
   {
    "duration": 10,
    "start_time": "2022-12-18T08:37:43.640Z"
   },
   {
    "duration": 8,
    "start_time": "2022-12-18T08:37:43.652Z"
   },
   {
    "duration": 13,
    "start_time": "2022-12-18T08:37:43.662Z"
   },
   {
    "duration": 51,
    "start_time": "2022-12-18T08:37:43.677Z"
   },
   {
    "duration": 6,
    "start_time": "2022-12-18T08:37:43.730Z"
   },
   {
    "duration": 16,
    "start_time": "2022-12-18T08:37:43.738Z"
   },
   {
    "duration": 16,
    "start_time": "2022-12-18T08:37:43.758Z"
   },
   {
    "duration": 15,
    "start_time": "2022-12-18T08:37:43.822Z"
   },
   {
    "duration": 15,
    "start_time": "2022-12-18T08:37:43.839Z"
   },
   {
    "duration": 17,
    "start_time": "2022-12-18T08:37:43.855Z"
   },
   {
    "duration": 49,
    "start_time": "2022-12-18T08:37:43.874Z"
   },
   {
    "duration": 46,
    "start_time": "2022-12-18T08:37:43.924Z"
   },
   {
    "duration": 93,
    "start_time": "2022-12-18T08:37:43.972Z"
   },
   {
    "duration": 70,
    "start_time": "2022-12-18T08:37:44.067Z"
   },
   {
    "duration": 7,
    "start_time": "2022-12-18T08:37:44.139Z"
   },
   {
    "duration": 22,
    "start_time": "2022-12-18T08:37:44.148Z"
   },
   {
    "duration": 78,
    "start_time": "2022-12-18T08:37:44.172Z"
   },
   {
    "duration": 42,
    "start_time": "2022-12-18T08:37:44.252Z"
   },
   {
    "duration": 3,
    "start_time": "2022-12-18T08:37:44.295Z"
   },
   {
    "duration": 47,
    "start_time": "2022-12-18T08:37:44.299Z"
   },
   {
    "duration": 27,
    "start_time": "2022-12-18T08:37:44.348Z"
   },
   {
    "duration": 55,
    "start_time": "2022-12-18T08:37:44.376Z"
   },
   {
    "duration": 84,
    "start_time": "2022-12-18T08:42:08.177Z"
   },
   {
    "duration": 21,
    "start_time": "2022-12-18T08:42:26.128Z"
   },
   {
    "duration": 25,
    "start_time": "2022-12-18T08:42:39.252Z"
   },
   {
    "duration": 24,
    "start_time": "2022-12-18T08:44:13.540Z"
   },
   {
    "duration": 29,
    "start_time": "2022-12-18T09:09:47.647Z"
   },
   {
    "duration": 29,
    "start_time": "2022-12-18T09:14:47.553Z"
   },
   {
    "duration": 32,
    "start_time": "2022-12-18T09:15:04.620Z"
   },
   {
    "duration": 28,
    "start_time": "2022-12-18T09:24:02.725Z"
   },
   {
    "duration": 28,
    "start_time": "2022-12-18T09:24:21.873Z"
   },
   {
    "duration": 455,
    "start_time": "2022-12-18T09:25:26.884Z"
   },
   {
    "duration": 15,
    "start_time": "2022-12-18T09:25:27.341Z"
   },
   {
    "duration": 16,
    "start_time": "2022-12-18T09:25:27.362Z"
   },
   {
    "duration": 46,
    "start_time": "2022-12-18T09:25:27.380Z"
   },
   {
    "duration": 7,
    "start_time": "2022-12-18T09:25:27.428Z"
   },
   {
    "duration": 17,
    "start_time": "2022-12-18T09:25:27.437Z"
   },
   {
    "duration": 8,
    "start_time": "2022-12-18T09:25:27.456Z"
   },
   {
    "duration": 6,
    "start_time": "2022-12-18T09:25:27.466Z"
   },
   {
    "duration": 55,
    "start_time": "2022-12-18T09:25:27.476Z"
   },
   {
    "duration": 16,
    "start_time": "2022-12-18T09:25:27.533Z"
   },
   {
    "duration": 13,
    "start_time": "2022-12-18T09:25:27.550Z"
   },
   {
    "duration": 15,
    "start_time": "2022-12-18T09:25:27.564Z"
   },
   {
    "duration": 42,
    "start_time": "2022-12-18T09:25:27.581Z"
   },
   {
    "duration": 17,
    "start_time": "2022-12-18T09:25:27.625Z"
   },
   {
    "duration": 47,
    "start_time": "2022-12-18T09:25:27.643Z"
   },
   {
    "duration": 77,
    "start_time": "2022-12-18T09:25:27.692Z"
   },
   {
    "duration": 40,
    "start_time": "2022-12-18T09:25:27.770Z"
   },
   {
    "duration": 5,
    "start_time": "2022-12-18T09:25:27.822Z"
   },
   {
    "duration": 21,
    "start_time": "2022-12-18T09:25:27.829Z"
   },
   {
    "duration": 75,
    "start_time": "2022-12-18T09:25:27.852Z"
   },
   {
    "duration": 30,
    "start_time": "2022-12-18T09:25:27.929Z"
   },
   {
    "duration": 3,
    "start_time": "2022-12-18T09:25:27.961Z"
   },
   {
    "duration": 58,
    "start_time": "2022-12-18T09:25:27.965Z"
   },
   {
    "duration": 30,
    "start_time": "2022-12-18T09:25:28.024Z"
   },
   {
    "duration": 81,
    "start_time": "2022-12-18T09:25:28.055Z"
   },
   {
    "duration": 485,
    "start_time": "2022-12-18T09:25:57.117Z"
   },
   {
    "duration": 14,
    "start_time": "2022-12-18T09:25:57.604Z"
   },
   {
    "duration": 14,
    "start_time": "2022-12-18T09:25:57.619Z"
   },
   {
    "duration": 9,
    "start_time": "2022-12-18T09:25:57.635Z"
   },
   {
    "duration": 8,
    "start_time": "2022-12-18T09:25:57.645Z"
   },
   {
    "duration": 11,
    "start_time": "2022-12-18T09:25:57.654Z"
   },
   {
    "duration": 8,
    "start_time": "2022-12-18T09:25:57.666Z"
   },
   {
    "duration": 53,
    "start_time": "2022-12-18T09:25:57.675Z"
   },
   {
    "duration": 16,
    "start_time": "2022-12-18T09:25:57.729Z"
   },
   {
    "duration": 16,
    "start_time": "2022-12-18T09:25:57.748Z"
   },
   {
    "duration": 14,
    "start_time": "2022-12-18T09:25:57.766Z"
   },
   {
    "duration": 20,
    "start_time": "2022-12-18T09:25:57.821Z"
   },
   {
    "duration": 18,
    "start_time": "2022-12-18T09:25:57.844Z"
   },
   {
    "duration": 16,
    "start_time": "2022-12-18T09:25:57.865Z"
   },
   {
    "duration": 81,
    "start_time": "2022-12-18T09:25:57.883Z"
   },
   {
    "duration": 85,
    "start_time": "2022-12-18T09:25:57.965Z"
   },
   {
    "duration": 38,
    "start_time": "2022-12-18T09:25:58.052Z"
   },
   {
    "duration": 32,
    "start_time": "2022-12-18T09:25:58.092Z"
   },
   {
    "duration": 25,
    "start_time": "2022-12-18T09:25:58.126Z"
   },
   {
    "duration": 30,
    "start_time": "2022-12-18T09:25:58.152Z"
   },
   {
    "duration": 56,
    "start_time": "2022-12-18T09:25:58.184Z"
   },
   {
    "duration": 24,
    "start_time": "2022-12-18T09:25:58.242Z"
   },
   {
    "duration": 26,
    "start_time": "2022-12-18T09:25:58.267Z"
   },
   {
    "duration": 51,
    "start_time": "2022-12-18T09:25:58.295Z"
   }
  ],
  "kernelspec": {
   "display_name": "Python 3 (ipykernel)",
   "language": "python",
   "name": "python3"
  },
  "language_info": {
   "codemirror_mode": {
    "name": "ipython",
    "version": 3
   },
   "file_extension": ".py",
   "mimetype": "text/x-python",
   "name": "python",
   "nbconvert_exporter": "python",
   "pygments_lexer": "ipython3",
   "version": "3.9.13"
  },
  "toc": {
   "base_numbering": 1,
   "nav_menu": {},
   "number_sections": true,
   "sideBar": true,
   "skip_h1_title": true,
   "title_cell": "Table of Contents",
   "title_sidebar": "Contents",
   "toc_cell": false,
   "toc_position": {},
   "toc_section_display": true,
   "toc_window_display": false
  }
 },
 "nbformat": 4,
 "nbformat_minor": 5
}
