{
 "cells": [
  {
   "cell_type": "markdown",
   "metadata": {},
   "source": [
    "# Определение перспективного тарифа для телеком-компании\n",
    "\n",
    "Вы аналитик компании «Мегалайн» — федерального оператора сотовой связи. Клиентам предлагают два тарифных плана: «Смарт» и «Ультра». Чтобы скорректировать рекламный бюджет, коммерческий департамент хочет понять, какой тариф приносит больше денег.\n",
    "\n",
    "Вам предстоит сделать предварительный анализ тарифов на небольшой выборке клиентов. В вашем распоряжении данные 500 пользователей «Мегалайна»: кто они, откуда, каким тарифом пользуются, сколько звонков и сообщений каждый отправил за 2018 год. Нужно проанализировать поведение клиентов и сделать вывод — какой тариф лучше.\n",
    "\n",
    "**Цели и задачи проекта**\n",
    "\n",
    "Цель - определить наиболее выгодный для компании тариф, который следует развивать и продвигать.\n",
    "\n",
    "Задачи проекта:\n",
    "- проанализировать данные об использовании тарифов на выборке из 500 клиентов\n",
    "- определить существенные отличия между пользователями внутри выборки\n",
    "- изучить особенности использования каждого тарифа\n",
    "- оценить размер выручки, которую приносит каждый тариф"
   ]
  },
  {
   "cell_type": "markdown",
   "metadata": {},
   "source": [
    "**Осноные этапы выполнения проекта:**\n",
    "- провести предобработку имеющихся данных на предмет ошибок, пропусков, дубликатов, рассчитать дополнительные показатели\n",
    "- проанализировать данные с использование статистических и графических методов\n",
    "- сформулировать и проверить гипотезы относительно исследуемых тарифов\n",
    "- сделать общий вывод и подвести итоги проекта"
   ]
  },
  {
   "cell_type": "markdown",
   "metadata": {},
   "source": [
    "**Дополнительная информация**\n",
    "\n",
    "**Описание тарифов**\n",
    "\n",
    "1) Тариф «Смарт»\n",
    "   - Ежемесячная плата: 550 рублей\n",
    "   - Включено 500 минут разговора, 50 сообщений и 15 Гб интернет-трафика\n",
    "   - Стоимость услуг сверх тарифного пакета:\n",
    "        - минута разговора: 3 рубля\n",
    "        - сообщение: 3 рубля\n",
    "        - 1 Гб интернет-трафика: 200 рублей\n",
    "\n",
    "2) Тариф «Ультра»\n",
    "   - Ежемесячная плата: 1950 рублей\n",
    "   - Включено 3000 минут разговора, 1000 сообщений и 30 Гб интернет-трафика\n",
    "   - Стоимость услуг сверх тарифного пакета:\n",
    "        - минута разговора: 1 рубль\n",
    "        - сообщение: 1 рубль\n",
    "        - 1 Гб интернет-трафика: 150 рублей\n"
   ]
  },
  {
   "cell_type": "markdown",
   "metadata": {},
   "source": [
    "# Содержание\n",
    "\n",
    "1. [Открытие данных](#start)<a id=\"start2\"></a> \n",
    "2. [Предобработка данных](#preprocessing)  \n",
    "    2.1. [Анализ данных на предмет ошибок](#preanalisys)  \n",
    "    2.2. [Изменение типов данных](#types)  \n",
    "    2.3. [Добавление расчетных значений](#derivatives)  \n",
    "      2.3.1. [Расчет потребленных услуг](#derivatives1)  \n",
    "      2.3.2. [Расчет выручки](#derivatives2)\n",
    "3. [Анализ данных](#analisys)  \n",
    "    3.1. [Анализ звонков](#calls_analisys)  \n",
    "    3.2. [Анализ сообщений](#messages_analisys)  \n",
    "    3.3. [Анализ трафика](#traffic_analisys)  \n",
    "4. [Проверка гипотез](#hypothesys)  \n",
    "    4.1. [Проверка гипотезы 1](#hypothesys1)  \n",
    "    4.1. [Проверка гипотезы 2](#hypothesys2)\n",
    "5. [Общий вывод](#conclusion)  "
   ]
  },
  {
   "cell_type": "markdown",
   "metadata": {},
   "source": [
    "## [Открытие данных](#start2)\n",
    "<a id=\"start\"></a>"
   ]
  },
  {
   "cell_type": "code",
   "execution_count": 1,
   "metadata": {},
   "outputs": [],
   "source": [
    "# импортируем библиотеки для работы с данными\n",
    "import pandas as pd\n",
    "import numpy as np\n",
    "from scipy import stats as st\n",
    "import matplotlib.pyplot as plt"
   ]
  },
  {
   "cell_type": "code",
   "execution_count": 2,
   "metadata": {},
   "outputs": [
    {
     "data": {
      "text/html": [
       "<div>\n",
       "<style scoped>\n",
       "    .dataframe tbody tr th:only-of-type {\n",
       "        vertical-align: middle;\n",
       "    }\n",
       "\n",
       "    .dataframe tbody tr th {\n",
       "        vertical-align: top;\n",
       "    }\n",
       "\n",
       "    .dataframe thead th {\n",
       "        text-align: right;\n",
       "    }\n",
       "</style>\n",
       "<table border=\"1\" class=\"dataframe\">\n",
       "  <thead>\n",
       "    <tr style=\"text-align: right;\">\n",
       "      <th></th>\n",
       "      <th>user_id</th>\n",
       "      <th>age</th>\n",
       "      <th>churn_date</th>\n",
       "      <th>city</th>\n",
       "      <th>first_name</th>\n",
       "      <th>last_name</th>\n",
       "      <th>reg_date</th>\n",
       "      <th>tariff</th>\n",
       "    </tr>\n",
       "  </thead>\n",
       "  <tbody>\n",
       "    <tr>\n",
       "      <th>0</th>\n",
       "      <td>1000</td>\n",
       "      <td>52</td>\n",
       "      <td>NaN</td>\n",
       "      <td>Краснодар</td>\n",
       "      <td>Рафаил</td>\n",
       "      <td>Верещагин</td>\n",
       "      <td>2018-05-25</td>\n",
       "      <td>ultra</td>\n",
       "    </tr>\n",
       "    <tr>\n",
       "      <th>1</th>\n",
       "      <td>1001</td>\n",
       "      <td>41</td>\n",
       "      <td>NaN</td>\n",
       "      <td>Москва</td>\n",
       "      <td>Иван</td>\n",
       "      <td>Ежов</td>\n",
       "      <td>2018-11-01</td>\n",
       "      <td>smart</td>\n",
       "    </tr>\n",
       "    <tr>\n",
       "      <th>2</th>\n",
       "      <td>1002</td>\n",
       "      <td>59</td>\n",
       "      <td>NaN</td>\n",
       "      <td>Стерлитамак</td>\n",
       "      <td>Евгений</td>\n",
       "      <td>Абрамович</td>\n",
       "      <td>2018-06-17</td>\n",
       "      <td>smart</td>\n",
       "    </tr>\n",
       "    <tr>\n",
       "      <th>3</th>\n",
       "      <td>1003</td>\n",
       "      <td>23</td>\n",
       "      <td>NaN</td>\n",
       "      <td>Москва</td>\n",
       "      <td>Белла</td>\n",
       "      <td>Белякова</td>\n",
       "      <td>2018-08-17</td>\n",
       "      <td>ultra</td>\n",
       "    </tr>\n",
       "    <tr>\n",
       "      <th>4</th>\n",
       "      <td>1004</td>\n",
       "      <td>68</td>\n",
       "      <td>NaN</td>\n",
       "      <td>Новокузнецк</td>\n",
       "      <td>Татьяна</td>\n",
       "      <td>Авдеенко</td>\n",
       "      <td>2018-05-14</td>\n",
       "      <td>ultra</td>\n",
       "    </tr>\n",
       "  </tbody>\n",
       "</table>\n",
       "</div>"
      ],
      "text/plain": [
       "   user_id  age churn_date         city first_name  last_name    reg_date  \\\n",
       "0     1000   52        NaN    Краснодар     Рафаил  Верещагин  2018-05-25   \n",
       "1     1001   41        NaN       Москва       Иван       Ежов  2018-11-01   \n",
       "2     1002   59        NaN  Стерлитамак    Евгений  Абрамович  2018-06-17   \n",
       "3     1003   23        NaN       Москва      Белла   Белякова  2018-08-17   \n",
       "4     1004   68        NaN  Новокузнецк    Татьяна   Авдеенко  2018-05-14   \n",
       "\n",
       "  tariff  \n",
       "0  ultra  \n",
       "1  smart  \n",
       "2  smart  \n",
       "3  ultra  \n",
       "4  ultra  "
      ]
     },
     "metadata": {},
     "output_type": "display_data"
    },
    {
     "data": {
      "text/html": [
       "<div>\n",
       "<style scoped>\n",
       "    .dataframe tbody tr th:only-of-type {\n",
       "        vertical-align: middle;\n",
       "    }\n",
       "\n",
       "    .dataframe tbody tr th {\n",
       "        vertical-align: top;\n",
       "    }\n",
       "\n",
       "    .dataframe thead th {\n",
       "        text-align: right;\n",
       "    }\n",
       "</style>\n",
       "<table border=\"1\" class=\"dataframe\">\n",
       "  <thead>\n",
       "    <tr style=\"text-align: right;\">\n",
       "      <th></th>\n",
       "      <th>id</th>\n",
       "      <th>call_date</th>\n",
       "      <th>duration</th>\n",
       "      <th>user_id</th>\n",
       "    </tr>\n",
       "  </thead>\n",
       "  <tbody>\n",
       "    <tr>\n",
       "      <th>0</th>\n",
       "      <td>1000_0</td>\n",
       "      <td>2018-07-25</td>\n",
       "      <td>0.00</td>\n",
       "      <td>1000</td>\n",
       "    </tr>\n",
       "    <tr>\n",
       "      <th>1</th>\n",
       "      <td>1000_1</td>\n",
       "      <td>2018-08-17</td>\n",
       "      <td>0.00</td>\n",
       "      <td>1000</td>\n",
       "    </tr>\n",
       "    <tr>\n",
       "      <th>2</th>\n",
       "      <td>1000_2</td>\n",
       "      <td>2018-06-11</td>\n",
       "      <td>2.85</td>\n",
       "      <td>1000</td>\n",
       "    </tr>\n",
       "    <tr>\n",
       "      <th>3</th>\n",
       "      <td>1000_3</td>\n",
       "      <td>2018-09-21</td>\n",
       "      <td>13.80</td>\n",
       "      <td>1000</td>\n",
       "    </tr>\n",
       "    <tr>\n",
       "      <th>4</th>\n",
       "      <td>1000_4</td>\n",
       "      <td>2018-12-15</td>\n",
       "      <td>5.18</td>\n",
       "      <td>1000</td>\n",
       "    </tr>\n",
       "  </tbody>\n",
       "</table>\n",
       "</div>"
      ],
      "text/plain": [
       "       id   call_date  duration  user_id\n",
       "0  1000_0  2018-07-25      0.00     1000\n",
       "1  1000_1  2018-08-17      0.00     1000\n",
       "2  1000_2  2018-06-11      2.85     1000\n",
       "3  1000_3  2018-09-21     13.80     1000\n",
       "4  1000_4  2018-12-15      5.18     1000"
      ]
     },
     "metadata": {},
     "output_type": "display_data"
    },
    {
     "data": {
      "text/html": [
       "<div>\n",
       "<style scoped>\n",
       "    .dataframe tbody tr th:only-of-type {\n",
       "        vertical-align: middle;\n",
       "    }\n",
       "\n",
       "    .dataframe tbody tr th {\n",
       "        vertical-align: top;\n",
       "    }\n",
       "\n",
       "    .dataframe thead th {\n",
       "        text-align: right;\n",
       "    }\n",
       "</style>\n",
       "<table border=\"1\" class=\"dataframe\">\n",
       "  <thead>\n",
       "    <tr style=\"text-align: right;\">\n",
       "      <th></th>\n",
       "      <th>id</th>\n",
       "      <th>message_date</th>\n",
       "      <th>user_id</th>\n",
       "    </tr>\n",
       "  </thead>\n",
       "  <tbody>\n",
       "    <tr>\n",
       "      <th>0</th>\n",
       "      <td>1000_0</td>\n",
       "      <td>2018-06-27</td>\n",
       "      <td>1000</td>\n",
       "    </tr>\n",
       "    <tr>\n",
       "      <th>1</th>\n",
       "      <td>1000_1</td>\n",
       "      <td>2018-10-08</td>\n",
       "      <td>1000</td>\n",
       "    </tr>\n",
       "    <tr>\n",
       "      <th>2</th>\n",
       "      <td>1000_2</td>\n",
       "      <td>2018-08-04</td>\n",
       "      <td>1000</td>\n",
       "    </tr>\n",
       "    <tr>\n",
       "      <th>3</th>\n",
       "      <td>1000_3</td>\n",
       "      <td>2018-06-16</td>\n",
       "      <td>1000</td>\n",
       "    </tr>\n",
       "    <tr>\n",
       "      <th>4</th>\n",
       "      <td>1000_4</td>\n",
       "      <td>2018-12-05</td>\n",
       "      <td>1000</td>\n",
       "    </tr>\n",
       "  </tbody>\n",
       "</table>\n",
       "</div>"
      ],
      "text/plain": [
       "       id message_date  user_id\n",
       "0  1000_0   2018-06-27     1000\n",
       "1  1000_1   2018-10-08     1000\n",
       "2  1000_2   2018-08-04     1000\n",
       "3  1000_3   2018-06-16     1000\n",
       "4  1000_4   2018-12-05     1000"
      ]
     },
     "metadata": {},
     "output_type": "display_data"
    },
    {
     "data": {
      "text/html": [
       "<div>\n",
       "<style scoped>\n",
       "    .dataframe tbody tr th:only-of-type {\n",
       "        vertical-align: middle;\n",
       "    }\n",
       "\n",
       "    .dataframe tbody tr th {\n",
       "        vertical-align: top;\n",
       "    }\n",
       "\n",
       "    .dataframe thead th {\n",
       "        text-align: right;\n",
       "    }\n",
       "</style>\n",
       "<table border=\"1\" class=\"dataframe\">\n",
       "  <thead>\n",
       "    <tr style=\"text-align: right;\">\n",
       "      <th></th>\n",
       "      <th>Unnamed: 0</th>\n",
       "      <th>id</th>\n",
       "      <th>mb_used</th>\n",
       "      <th>session_date</th>\n",
       "      <th>user_id</th>\n",
       "    </tr>\n",
       "  </thead>\n",
       "  <tbody>\n",
       "    <tr>\n",
       "      <th>0</th>\n",
       "      <td>0</td>\n",
       "      <td>1000_0</td>\n",
       "      <td>112.95</td>\n",
       "      <td>2018-11-25</td>\n",
       "      <td>1000</td>\n",
       "    </tr>\n",
       "    <tr>\n",
       "      <th>1</th>\n",
       "      <td>1</td>\n",
       "      <td>1000_1</td>\n",
       "      <td>1052.81</td>\n",
       "      <td>2018-09-07</td>\n",
       "      <td>1000</td>\n",
       "    </tr>\n",
       "    <tr>\n",
       "      <th>2</th>\n",
       "      <td>2</td>\n",
       "      <td>1000_2</td>\n",
       "      <td>1197.26</td>\n",
       "      <td>2018-06-25</td>\n",
       "      <td>1000</td>\n",
       "    </tr>\n",
       "    <tr>\n",
       "      <th>3</th>\n",
       "      <td>3</td>\n",
       "      <td>1000_3</td>\n",
       "      <td>550.27</td>\n",
       "      <td>2018-08-22</td>\n",
       "      <td>1000</td>\n",
       "    </tr>\n",
       "    <tr>\n",
       "      <th>4</th>\n",
       "      <td>4</td>\n",
       "      <td>1000_4</td>\n",
       "      <td>302.56</td>\n",
       "      <td>2018-09-24</td>\n",
       "      <td>1000</td>\n",
       "    </tr>\n",
       "  </tbody>\n",
       "</table>\n",
       "</div>"
      ],
      "text/plain": [
       "   Unnamed: 0      id  mb_used session_date  user_id\n",
       "0           0  1000_0   112.95   2018-11-25     1000\n",
       "1           1  1000_1  1052.81   2018-09-07     1000\n",
       "2           2  1000_2  1197.26   2018-06-25     1000\n",
       "3           3  1000_3   550.27   2018-08-22     1000\n",
       "4           4  1000_4   302.56   2018-09-24     1000"
      ]
     },
     "metadata": {},
     "output_type": "display_data"
    },
    {
     "data": {
      "text/html": [
       "<div>\n",
       "<style scoped>\n",
       "    .dataframe tbody tr th:only-of-type {\n",
       "        vertical-align: middle;\n",
       "    }\n",
       "\n",
       "    .dataframe tbody tr th {\n",
       "        vertical-align: top;\n",
       "    }\n",
       "\n",
       "    .dataframe thead th {\n",
       "        text-align: right;\n",
       "    }\n",
       "</style>\n",
       "<table border=\"1\" class=\"dataframe\">\n",
       "  <thead>\n",
       "    <tr style=\"text-align: right;\">\n",
       "      <th></th>\n",
       "      <th>messages_included</th>\n",
       "      <th>mb_per_month_included</th>\n",
       "      <th>minutes_included</th>\n",
       "      <th>rub_monthly_fee</th>\n",
       "      <th>rub_per_gb</th>\n",
       "      <th>rub_per_message</th>\n",
       "      <th>rub_per_minute</th>\n",
       "      <th>tariff_name</th>\n",
       "    </tr>\n",
       "  </thead>\n",
       "  <tbody>\n",
       "    <tr>\n",
       "      <th>0</th>\n",
       "      <td>50</td>\n",
       "      <td>15360</td>\n",
       "      <td>500</td>\n",
       "      <td>550</td>\n",
       "      <td>200</td>\n",
       "      <td>3</td>\n",
       "      <td>3</td>\n",
       "      <td>smart</td>\n",
       "    </tr>\n",
       "    <tr>\n",
       "      <th>1</th>\n",
       "      <td>1000</td>\n",
       "      <td>30720</td>\n",
       "      <td>3000</td>\n",
       "      <td>1950</td>\n",
       "      <td>150</td>\n",
       "      <td>1</td>\n",
       "      <td>1</td>\n",
       "      <td>ultra</td>\n",
       "    </tr>\n",
       "  </tbody>\n",
       "</table>\n",
       "</div>"
      ],
      "text/plain": [
       "   messages_included  mb_per_month_included  minutes_included  \\\n",
       "0                 50                  15360               500   \n",
       "1               1000                  30720              3000   \n",
       "\n",
       "   rub_monthly_fee  rub_per_gb  rub_per_message  rub_per_minute tariff_name  \n",
       "0              550         200                3               3       smart  \n",
       "1             1950         150                1               1       ultra  "
      ]
     },
     "metadata": {},
     "output_type": "display_data"
    }
   ],
   "source": [
    "# прочитаем каждый файл по отдельности и выведем на экран для проверки\n",
    "# воспользуемся конструкцией try-except, чтобы обнаружить ошибки, если они возникнут при чтении\n",
    "try:\n",
    "    users = pd.read_csv()\n",
    "    display(users.head())\n",
    "except:\n",
    "    display(f'При чтении файла возникла ошибка.')\n",
    "    \n",
    "try:\n",
    "    calls = pd.read_csv()\n",
    "    display(calls.head())\n",
    "except:\n",
    "    display(f'При чтении файла возникла ошибка.')\n",
    "    \n",
    "try:\n",
    "    messages = pd.read_csv()\n",
    "    display(messages.head())\n",
    "except:\n",
    "    display(f'При чтении файла возникла ошибка.')\n",
    "    \n",
    "try:\n",
    "    internet = pd.read_csv()\n",
    "    display(internet.head())\n",
    "except:\n",
    "    display(f'При чтении файла возникла ошибка.')\n",
    "    \n",
    "try:\n",
    "    tariffs = pd.read_csv()\n",
    "    display(tariffs.head())\n",
    "except:\n",
    "    display(f'При чтении файла возникла ошибка.')"
   ]
  },
  {
   "cell_type": "markdown",
   "metadata": {},
   "source": [
    "## [Предобработка данных](#start2)\n",
    "<a id=\"preprocessing\"></a>"
   ]
  },
  {
   "cell_type": "markdown",
   "metadata": {},
   "source": [
    "### [Анализ данных на предмет ошибок](#start2)\n",
    "<a id=\"preanalisys\"></a>"
   ]
  },
  {
   "cell_type": "code",
   "execution_count": 4,
   "metadata": {},
   "outputs": [
    {
     "name": "stdout",
     "output_type": "stream",
     "text": [
      "<class 'pandas.core.frame.DataFrame'>\n",
      "RangeIndex: 500 entries, 0 to 499\n",
      "Data columns (total 8 columns):\n",
      " #   Column      Non-Null Count  Dtype \n",
      "---  ------      --------------  ----- \n",
      " 0   user_id     500 non-null    int64 \n",
      " 1   age         500 non-null    int64 \n",
      " 2   churn_date  38 non-null     object\n",
      " 3   city        500 non-null    object\n",
      " 4   first_name  500 non-null    object\n",
      " 5   last_name   500 non-null    object\n",
      " 6   reg_date    500 non-null    object\n",
      " 7   tariff      500 non-null    object\n",
      "dtypes: int64(2), object(6)\n",
      "memory usage: 31.4+ KB\n"
     ]
    }
   ],
   "source": [
    "# проанализируем данные в таблице users\n",
    "users.info()"
   ]
  },
  {
   "cell_type": "markdown",
   "metadata": {},
   "source": [
    "**Ошибки в таблице:** `users`\n",
    "\n",
    "1. Пропуски в таблице отсутствуют. Колонка `churn_date` не считается в соответствии с условиями проекта.\n",
    "2. В колонке `churn_date` и `reg_date` тип данных следует заменить на `datetime64`."
   ]
  },
  {
   "cell_type": "code",
   "execution_count": 5,
   "metadata": {},
   "outputs": [
    {
     "name": "stdout",
     "output_type": "stream",
     "text": [
      "<class 'pandas.core.frame.DataFrame'>\n",
      "RangeIndex: 202607 entries, 0 to 202606\n",
      "Data columns (total 4 columns):\n",
      " #   Column     Non-Null Count   Dtype  \n",
      "---  ------     --------------   -----  \n",
      " 0   id         202607 non-null  object \n",
      " 1   call_date  202607 non-null  object \n",
      " 2   duration   202607 non-null  float64\n",
      " 3   user_id    202607 non-null  int64  \n",
      "dtypes: float64(1), int64(1), object(2)\n",
      "memory usage: 6.2+ MB\n"
     ]
    }
   ],
   "source": [
    "# проанализируем данные в таблице calls\n",
    "calls.info()"
   ]
  },
  {
   "cell_type": "markdown",
   "metadata": {},
   "source": [
    "**Ошибки в таблице:** `calls`\n",
    "\n",
    "1. Пропуски в таблице отсутствуют.\n",
    "2. В колонке `call_date` тип данных следует заменить на `datetime64`.\n",
    "3. В колонке `duration` тип данных следует заменить на `int64` и округлить до минут в большую сторону в соответствии с условиями проекта.\n",
    "4. В колонке `duration` присутствуют нулевые значения. Из условий задачи мы знаем, что это не ошибка. Это значит, что звонок был пропущен. Мы не будем удалять эти значения и оставим их как есть."
   ]
  },
  {
   "cell_type": "code",
   "execution_count": 6,
   "metadata": {},
   "outputs": [
    {
     "name": "stdout",
     "output_type": "stream",
     "text": [
      "<class 'pandas.core.frame.DataFrame'>\n",
      "RangeIndex: 123036 entries, 0 to 123035\n",
      "Data columns (total 3 columns):\n",
      " #   Column        Non-Null Count   Dtype \n",
      "---  ------        --------------   ----- \n",
      " 0   id            123036 non-null  object\n",
      " 1   message_date  123036 non-null  object\n",
      " 2   user_id       123036 non-null  int64 \n",
      "dtypes: int64(1), object(2)\n",
      "memory usage: 2.8+ MB\n"
     ]
    }
   ],
   "source": [
    "# проанализируем данные в таблице messages\n",
    "messages.info()"
   ]
  },
  {
   "cell_type": "markdown",
   "metadata": {},
   "source": [
    "**Ошибки в таблице:** `messages`\n",
    "\n",
    "1. Пропуски в таблице отсутствуют.\n",
    "2. В колонке `message_date` тип данных следует заменить на `datetime64`."
   ]
  },
  {
   "cell_type": "code",
   "execution_count": 7,
   "metadata": {},
   "outputs": [
    {
     "name": "stdout",
     "output_type": "stream",
     "text": [
      "<class 'pandas.core.frame.DataFrame'>\n",
      "RangeIndex: 149396 entries, 0 to 149395\n",
      "Data columns (total 5 columns):\n",
      " #   Column        Non-Null Count   Dtype  \n",
      "---  ------        --------------   -----  \n",
      " 0   Unnamed: 0    149396 non-null  int64  \n",
      " 1   id            149396 non-null  object \n",
      " 2   mb_used       149396 non-null  float64\n",
      " 3   session_date  149396 non-null  object \n",
      " 4   user_id       149396 non-null  int64  \n",
      "dtypes: float64(1), int64(2), object(2)\n",
      "memory usage: 5.7+ MB\n"
     ]
    }
   ],
   "source": [
    "# проанализируем данные в таблице internet\n",
    "internet.info()"
   ]
  },
  {
   "cell_type": "markdown",
   "metadata": {},
   "source": [
    "**Ошибки в таблице:** `internet`\n",
    "\n",
    "1. Пропуски в таблице отсутствуют.\n",
    "2. В колонке `session_date` тип данных следует заменить на `datetime64`.\n",
    "3. Колонка `Unnamed: 0`, судя по всему, лишняя и можно ее удалить."
   ]
  },
  {
   "cell_type": "code",
   "execution_count": 8,
   "metadata": {},
   "outputs": [
    {
     "name": "stdout",
     "output_type": "stream",
     "text": [
      "<class 'pandas.core.frame.DataFrame'>\n",
      "RangeIndex: 2 entries, 0 to 1\n",
      "Data columns (total 8 columns):\n",
      " #   Column                 Non-Null Count  Dtype \n",
      "---  ------                 --------------  ----- \n",
      " 0   messages_included      2 non-null      int64 \n",
      " 1   mb_per_month_included  2 non-null      int64 \n",
      " 2   minutes_included       2 non-null      int64 \n",
      " 3   rub_monthly_fee        2 non-null      int64 \n",
      " 4   rub_per_gb             2 non-null      int64 \n",
      " 5   rub_per_message        2 non-null      int64 \n",
      " 6   rub_per_minute         2 non-null      int64 \n",
      " 7   tariff_name            2 non-null      object\n",
      "dtypes: int64(7), object(1)\n",
      "memory usage: 256.0+ bytes\n"
     ]
    }
   ],
   "source": [
    "# проанализируем данные в таблице tariffs\n",
    "tariffs.info()"
   ]
  },
  {
   "cell_type": "markdown",
   "metadata": {},
   "source": [
    "**Ошибки в таблице:** `tariffs`\n",
    "\n",
    "1. Пропуски в таблице отсутствуют."
   ]
  },
  {
   "cell_type": "markdown",
   "metadata": {},
   "source": [
    "### [Изменение типов данных](#start2)\n",
    "<a id=\"types\"></a>"
   ]
  },
  {
   "cell_type": "code",
   "execution_count": 9,
   "metadata": {},
   "outputs": [
    {
     "name": "stdout",
     "output_type": "stream",
     "text": [
      "<class 'pandas.core.frame.DataFrame'>\n",
      "RangeIndex: 500 entries, 0 to 499\n",
      "Data columns (total 8 columns):\n",
      " #   Column      Non-Null Count  Dtype         \n",
      "---  ------      --------------  -----         \n",
      " 0   user_id     500 non-null    int64         \n",
      " 1   age         500 non-null    int64         \n",
      " 2   churn_date  38 non-null     datetime64[ns]\n",
      " 3   city        500 non-null    object        \n",
      " 4   first_name  500 non-null    object        \n",
      " 5   last_name   500 non-null    object        \n",
      " 6   reg_date    500 non-null    datetime64[ns]\n",
      " 7   tariff      500 non-null    object        \n",
      "dtypes: datetime64[ns](2), int64(2), object(4)\n",
      "memory usage: 31.4+ KB\n"
     ]
    }
   ],
   "source": [
    "# заменим тип данных в колонках churn_date и reg_date таблицы users\n",
    "users['churn_date'] = pd.to_datetime(users['churn_date'], format='%Y-%m-%d')\n",
    "users['reg_date'] = pd.to_datetime(users['reg_date'], format='%Y-%m-%d')\n",
    "\n",
    "# проверим результат\n",
    "users.info()"
   ]
  },
  {
   "cell_type": "code",
   "execution_count": 10,
   "metadata": {},
   "outputs": [
    {
     "name": "stdout",
     "output_type": "stream",
     "text": [
      "<class 'pandas.core.frame.DataFrame'>\n",
      "RangeIndex: 202607 entries, 0 to 202606\n",
      "Data columns (total 5 columns):\n",
      " #   Column            Non-Null Count   Dtype         \n",
      "---  ------            --------------   -----         \n",
      " 0   id                202607 non-null  object        \n",
      " 1   call_date         202607 non-null  datetime64[ns]\n",
      " 2   duration          202607 non-null  float64       \n",
      " 3   user_id           202607 non-null  int64         \n",
      " 4   duration_rounded  202607 non-null  int64         \n",
      "dtypes: datetime64[ns](1), float64(1), int64(2), object(1)\n",
      "memory usage: 7.7+ MB\n"
     ]
    },
    {
     "data": {
      "text/html": [
       "<div>\n",
       "<style scoped>\n",
       "    .dataframe tbody tr th:only-of-type {\n",
       "        vertical-align: middle;\n",
       "    }\n",
       "\n",
       "    .dataframe tbody tr th {\n",
       "        vertical-align: top;\n",
       "    }\n",
       "\n",
       "    .dataframe thead th {\n",
       "        text-align: right;\n",
       "    }\n",
       "</style>\n",
       "<table border=\"1\" class=\"dataframe\">\n",
       "  <thead>\n",
       "    <tr style=\"text-align: right;\">\n",
       "      <th></th>\n",
       "      <th>id</th>\n",
       "      <th>call_date</th>\n",
       "      <th>duration</th>\n",
       "      <th>user_id</th>\n",
       "      <th>duration_rounded</th>\n",
       "    </tr>\n",
       "  </thead>\n",
       "  <tbody>\n",
       "    <tr>\n",
       "      <th>0</th>\n",
       "      <td>1000_0</td>\n",
       "      <td>2018-07-25</td>\n",
       "      <td>0.00</td>\n",
       "      <td>1000</td>\n",
       "      <td>0</td>\n",
       "    </tr>\n",
       "    <tr>\n",
       "      <th>1</th>\n",
       "      <td>1000_1</td>\n",
       "      <td>2018-08-17</td>\n",
       "      <td>0.00</td>\n",
       "      <td>1000</td>\n",
       "      <td>0</td>\n",
       "    </tr>\n",
       "    <tr>\n",
       "      <th>2</th>\n",
       "      <td>1000_2</td>\n",
       "      <td>2018-06-11</td>\n",
       "      <td>2.85</td>\n",
       "      <td>1000</td>\n",
       "      <td>3</td>\n",
       "    </tr>\n",
       "    <tr>\n",
       "      <th>3</th>\n",
       "      <td>1000_3</td>\n",
       "      <td>2018-09-21</td>\n",
       "      <td>13.80</td>\n",
       "      <td>1000</td>\n",
       "      <td>14</td>\n",
       "    </tr>\n",
       "    <tr>\n",
       "      <th>4</th>\n",
       "      <td>1000_4</td>\n",
       "      <td>2018-12-15</td>\n",
       "      <td>5.18</td>\n",
       "      <td>1000</td>\n",
       "      <td>6</td>\n",
       "    </tr>\n",
       "  </tbody>\n",
       "</table>\n",
       "</div>"
      ],
      "text/plain": [
       "       id  call_date  duration  user_id  duration_rounded\n",
       "0  1000_0 2018-07-25      0.00     1000                 0\n",
       "1  1000_1 2018-08-17      0.00     1000                 0\n",
       "2  1000_2 2018-06-11      2.85     1000                 3\n",
       "3  1000_3 2018-09-21     13.80     1000                14\n",
       "4  1000_4 2018-12-15      5.18     1000                 6"
      ]
     },
     "execution_count": 10,
     "metadata": {},
     "output_type": "execute_result"
    }
   ],
   "source": [
    "# заменим тип данных в колонке call_date таблицы calls\n",
    "calls['call_date'] = pd.to_datetime(calls['call_date'], format='%Y-%m-%d')\n",
    "\n",
    "# в колонке duration заменим тип данных на `int64` и округлим до минут в большую сторону\n",
    "calls['duration_rounded'] = np.ceil(calls['duration']).astype('int64')\n",
    "\n",
    "# проверим результат\n",
    "calls.info()\n",
    "calls.head()"
   ]
  },
  {
   "cell_type": "code",
   "execution_count": 11,
   "metadata": {},
   "outputs": [
    {
     "name": "stdout",
     "output_type": "stream",
     "text": [
      "<class 'pandas.core.frame.DataFrame'>\n",
      "RangeIndex: 123036 entries, 0 to 123035\n",
      "Data columns (total 3 columns):\n",
      " #   Column        Non-Null Count   Dtype         \n",
      "---  ------        --------------   -----         \n",
      " 0   id            123036 non-null  object        \n",
      " 1   message_date  123036 non-null  datetime64[ns]\n",
      " 2   user_id       123036 non-null  int64         \n",
      "dtypes: datetime64[ns](1), int64(1), object(1)\n",
      "memory usage: 2.8+ MB\n"
     ]
    }
   ],
   "source": [
    "# заменим тип данных в колонке message_date таблицы messages\n",
    "messages['message_date'] = pd.to_datetime(messages['message_date'], format='%Y-%m-%d')\n",
    "\n",
    "# проверим результат\n",
    "messages.info()"
   ]
  },
  {
   "cell_type": "code",
   "execution_count": 12,
   "metadata": {},
   "outputs": [
    {
     "name": "stdout",
     "output_type": "stream",
     "text": [
      "<class 'pandas.core.frame.DataFrame'>\n",
      "RangeIndex: 149396 entries, 0 to 149395\n",
      "Data columns (total 4 columns):\n",
      " #   Column        Non-Null Count   Dtype         \n",
      "---  ------        --------------   -----         \n",
      " 0   id            149396 non-null  object        \n",
      " 1   mb_used       149396 non-null  float64       \n",
      " 2   session_date  149396 non-null  datetime64[ns]\n",
      " 3   user_id       149396 non-null  int64         \n",
      "dtypes: datetime64[ns](1), float64(1), int64(1), object(1)\n",
      "memory usage: 4.6+ MB\n"
     ]
    }
   ],
   "source": [
    "# заменим тип данных в колонке session_date таблицы internet\n",
    "internet['session_date'] = pd.to_datetime(internet['session_date'], format='%Y-%m-%d')\n",
    "\n",
    "# удалим ненужную колонку Unnamed: 0\n",
    "internet = internet.drop(columns = ['Unnamed: 0'], axis = 1)\n",
    "\n",
    "# проверим результат\n",
    "internet.info()"
   ]
  },
  {
   "cell_type": "markdown",
   "metadata": {},
   "source": [
    "### [Добавление расчетных значений](#start2)\n",
    "<a id=\"derivatives\"></a>"
   ]
  },
  {
   "cell_type": "markdown",
   "metadata": {},
   "source": [
    "Для каждого пользователя посчитаем:\n",
    "1) количество сделанных звонков и израсходованных минут разговора по месяцам\n",
    "\n",
    "2) количество отправленных сообщений по месяцам\n",
    "\n",
    "3) объем израсходованного интернет-трафика по месяцам\n",
    "\n",
    "4) помесячную выручку с каждого пользователя"
   ]
  },
  {
   "cell_type": "markdown",
   "metadata": {},
   "source": [
    "#### [Расчет потребленных услуг](#start2)\n",
    "<a id=\"derivatives1\"></a>"
   ]
  },
  {
   "cell_type": "code",
   "execution_count": 13,
   "metadata": {},
   "outputs": [
    {
     "data": {
      "text/html": [
       "<div>\n",
       "<style scoped>\n",
       "    .dataframe tbody tr th:only-of-type {\n",
       "        vertical-align: middle;\n",
       "    }\n",
       "\n",
       "    .dataframe tbody tr th {\n",
       "        vertical-align: top;\n",
       "    }\n",
       "\n",
       "    .dataframe thead th {\n",
       "        text-align: right;\n",
       "    }\n",
       "</style>\n",
       "<table border=\"1\" class=\"dataframe\">\n",
       "  <thead>\n",
       "    <tr style=\"text-align: right;\">\n",
       "      <th></th>\n",
       "      <th>user_id</th>\n",
       "      <th>month</th>\n",
       "      <th>calls_count</th>\n",
       "      <th>minutes_used</th>\n",
       "    </tr>\n",
       "  </thead>\n",
       "  <tbody>\n",
       "    <tr>\n",
       "      <th>0</th>\n",
       "      <td>1000</td>\n",
       "      <td>5</td>\n",
       "      <td>22</td>\n",
       "      <td>159</td>\n",
       "    </tr>\n",
       "    <tr>\n",
       "      <th>1</th>\n",
       "      <td>1000</td>\n",
       "      <td>6</td>\n",
       "      <td>43</td>\n",
       "      <td>172</td>\n",
       "    </tr>\n",
       "    <tr>\n",
       "      <th>2</th>\n",
       "      <td>1000</td>\n",
       "      <td>7</td>\n",
       "      <td>47</td>\n",
       "      <td>340</td>\n",
       "    </tr>\n",
       "    <tr>\n",
       "      <th>3</th>\n",
       "      <td>1000</td>\n",
       "      <td>8</td>\n",
       "      <td>52</td>\n",
       "      <td>408</td>\n",
       "    </tr>\n",
       "    <tr>\n",
       "      <th>4</th>\n",
       "      <td>1000</td>\n",
       "      <td>9</td>\n",
       "      <td>58</td>\n",
       "      <td>466</td>\n",
       "    </tr>\n",
       "  </tbody>\n",
       "</table>\n",
       "</div>"
      ],
      "text/plain": [
       "   user_id  month  calls_count  minutes_used\n",
       "0     1000      5           22           159\n",
       "1     1000      6           43           172\n",
       "2     1000      7           47           340\n",
       "3     1000      8           52           408\n",
       "4     1000      9           58           466"
      ]
     },
     "execution_count": 13,
     "metadata": {},
     "output_type": "execute_result"
    }
   ],
   "source": [
    "# рассчитаем количество сделанных звонков и израсходованных минут разговора по месяцам\n",
    "# выделим месяц каждого звонка, чтобы иметь возможность группировать данные помесячно\n",
    "calls['month'] = calls['call_date'].dt.month\n",
    "\n",
    "# создадим сводную таблицу и добавим колонки с расчетными показателями\n",
    "calls_grouped = calls.groupby(['user_id', 'month'])['duration_rounded'].agg(['count', 'sum']).reset_index()\n",
    "\n",
    "# переименуем колонки\n",
    "calls_grouped = calls_grouped.rename(columns = {'count': 'calls_count', 'sum': 'minutes_used'})\n",
    "\n",
    "# проверим, что получилось\n",
    "calls_grouped.head()"
   ]
  },
  {
   "cell_type": "code",
   "execution_count": 14,
   "metadata": {},
   "outputs": [
    {
     "data": {
      "text/html": [
       "<div>\n",
       "<style scoped>\n",
       "    .dataframe tbody tr th:only-of-type {\n",
       "        vertical-align: middle;\n",
       "    }\n",
       "\n",
       "    .dataframe tbody tr th {\n",
       "        vertical-align: top;\n",
       "    }\n",
       "\n",
       "    .dataframe thead th {\n",
       "        text-align: right;\n",
       "    }\n",
       "</style>\n",
       "<table border=\"1\" class=\"dataframe\">\n",
       "  <thead>\n",
       "    <tr style=\"text-align: right;\">\n",
       "      <th></th>\n",
       "      <th>user_id</th>\n",
       "      <th>month</th>\n",
       "      <th>messages_used</th>\n",
       "    </tr>\n",
       "  </thead>\n",
       "  <tbody>\n",
       "    <tr>\n",
       "      <th>0</th>\n",
       "      <td>1000</td>\n",
       "      <td>5</td>\n",
       "      <td>22</td>\n",
       "    </tr>\n",
       "    <tr>\n",
       "      <th>1</th>\n",
       "      <td>1000</td>\n",
       "      <td>6</td>\n",
       "      <td>60</td>\n",
       "    </tr>\n",
       "    <tr>\n",
       "      <th>2</th>\n",
       "      <td>1000</td>\n",
       "      <td>7</td>\n",
       "      <td>75</td>\n",
       "    </tr>\n",
       "    <tr>\n",
       "      <th>3</th>\n",
       "      <td>1000</td>\n",
       "      <td>8</td>\n",
       "      <td>81</td>\n",
       "    </tr>\n",
       "    <tr>\n",
       "      <th>4</th>\n",
       "      <td>1000</td>\n",
       "      <td>9</td>\n",
       "      <td>57</td>\n",
       "    </tr>\n",
       "  </tbody>\n",
       "</table>\n",
       "</div>"
      ],
      "text/plain": [
       "   user_id  month  messages_used\n",
       "0     1000      5             22\n",
       "1     1000      6             60\n",
       "2     1000      7             75\n",
       "3     1000      8             81\n",
       "4     1000      9             57"
      ]
     },
     "execution_count": 14,
     "metadata": {},
     "output_type": "execute_result"
    }
   ],
   "source": [
    "# рассчитаем количество отправленных сообщений по месяцам\n",
    "# выделим месяц каждого сообщения, чтобы иметь возможность группировать данные помесячно\n",
    "messages['month'] = messages['message_date'].dt.month\n",
    "\n",
    "# создадим сводную таблицу и добавим колонки с расчетными показателями\n",
    "messages_grouped = messages.groupby(['user_id', 'month'])['id'].agg(['count']).reset_index()\n",
    "\n",
    "# переименуем колонки\n",
    "messages_grouped = messages_grouped.rename(columns = {'count': 'messages_used'})\n",
    "\n",
    "# проверим, что получилось\n",
    "messages_grouped.head()"
   ]
  },
  {
   "cell_type": "code",
   "execution_count": 15,
   "metadata": {},
   "outputs": [
    {
     "data": {
      "text/html": [
       "<div>\n",
       "<style scoped>\n",
       "    .dataframe tbody tr th:only-of-type {\n",
       "        vertical-align: middle;\n",
       "    }\n",
       "\n",
       "    .dataframe tbody tr th {\n",
       "        vertical-align: top;\n",
       "    }\n",
       "\n",
       "    .dataframe thead th {\n",
       "        text-align: right;\n",
       "    }\n",
       "</style>\n",
       "<table border=\"1\" class=\"dataframe\">\n",
       "  <thead>\n",
       "    <tr style=\"text-align: right;\">\n",
       "      <th></th>\n",
       "      <th>user_id</th>\n",
       "      <th>month</th>\n",
       "      <th>mb_used</th>\n",
       "      <th>gb_used</th>\n",
       "      <th>gb_used_rounded</th>\n",
       "    </tr>\n",
       "  </thead>\n",
       "  <tbody>\n",
       "    <tr>\n",
       "      <th>0</th>\n",
       "      <td>1000</td>\n",
       "      <td>5</td>\n",
       "      <td>2253.49</td>\n",
       "      <td>2.200674</td>\n",
       "      <td>3</td>\n",
       "    </tr>\n",
       "    <tr>\n",
       "      <th>1</th>\n",
       "      <td>1000</td>\n",
       "      <td>6</td>\n",
       "      <td>23233.77</td>\n",
       "      <td>22.689229</td>\n",
       "      <td>23</td>\n",
       "    </tr>\n",
       "    <tr>\n",
       "      <th>2</th>\n",
       "      <td>1000</td>\n",
       "      <td>7</td>\n",
       "      <td>14003.64</td>\n",
       "      <td>13.675430</td>\n",
       "      <td>14</td>\n",
       "    </tr>\n",
       "    <tr>\n",
       "      <th>3</th>\n",
       "      <td>1000</td>\n",
       "      <td>8</td>\n",
       "      <td>14055.93</td>\n",
       "      <td>13.726494</td>\n",
       "      <td>14</td>\n",
       "    </tr>\n",
       "    <tr>\n",
       "      <th>4</th>\n",
       "      <td>1000</td>\n",
       "      <td>9</td>\n",
       "      <td>14568.91</td>\n",
       "      <td>14.227451</td>\n",
       "      <td>15</td>\n",
       "    </tr>\n",
       "  </tbody>\n",
       "</table>\n",
       "</div>"
      ],
      "text/plain": [
       "   user_id  month   mb_used    gb_used  gb_used_rounded\n",
       "0     1000      5   2253.49   2.200674                3\n",
       "1     1000      6  23233.77  22.689229               23\n",
       "2     1000      7  14003.64  13.675430               14\n",
       "3     1000      8  14055.93  13.726494               14\n",
       "4     1000      9  14568.91  14.227451               15"
      ]
     },
     "execution_count": 15,
     "metadata": {},
     "output_type": "execute_result"
    }
   ],
   "source": [
    "# рассчитаем объем израсходованного интернет-трафика по месяцам\n",
    "# выделим месяц, чтобы иметь возможность группировать данные помесячно\n",
    "internet['month'] = internet['session_date'].dt.month\n",
    "\n",
    "# создадим сводную таблицу и добавим колонки с расчетными показателями\n",
    "internet_grouped = internet.groupby(['user_id', 'month'])['mb_used'].agg(['sum']).reset_index()\n",
    "\n",
    "# переименуем колонки\n",
    "internet_grouped = internet_grouped.rename(columns = {'sum': 'mb_used'})\n",
    "\n",
    "# округлим израсходованный траффик в соответствии с условиями\n",
    "internet_grouped['gb_used'] = internet_grouped['mb_used'] / 1024 \n",
    "internet_grouped['gb_used_rounded'] = np.ceil(internet_grouped['gb_used']).astype('int64')\n",
    "\n",
    "# проверим, что получилось\n",
    "internet_grouped.head()"
   ]
  },
  {
   "cell_type": "markdown",
   "metadata": {},
   "source": [
    "#### [Расчет выручки](#start2)\n",
    "<a id=\"derivatives2\"></a>"
   ]
  },
  {
   "cell_type": "markdown",
   "metadata": {},
   "source": [
    "Рассчитаем помесячную выручку с каждого пользователя. Для этого:\n",
    "1. Объединим ранее созданные таблицы `calls_grouped`, `messages_grouped`, `internet_grouped` по колонкам `user_id` и `month`.\n",
    "2. Добавим в объединенную таблицу информацию по пользователям и тарифам.\n",
    "3. Рассчитаем выручку по каждой строке объединенной таблицы.\n",
    "\n",
    "Для объединения таблиц в п.1 используем метод `merge()` последовательно для каждой пары таблиц. Знаем, что есть альтернативный метод `join()`, который позволяет объединять сразу несколько таблиц. Но чтобы иметь возможность пошагово проверять результат, мы будем использовать `merge()`."
   ]
  },
  {
   "cell_type": "code",
   "execution_count": 16,
   "metadata": {},
   "outputs": [
    {
     "data": {
      "text/html": [
       "<div>\n",
       "<style scoped>\n",
       "    .dataframe tbody tr th:only-of-type {\n",
       "        vertical-align: middle;\n",
       "    }\n",
       "\n",
       "    .dataframe tbody tr th {\n",
       "        vertical-align: top;\n",
       "    }\n",
       "\n",
       "    .dataframe thead th {\n",
       "        text-align: right;\n",
       "    }\n",
       "</style>\n",
       "<table border=\"1\" class=\"dataframe\">\n",
       "  <thead>\n",
       "    <tr style=\"text-align: right;\">\n",
       "      <th></th>\n",
       "      <th>user_id</th>\n",
       "      <th>month</th>\n",
       "      <th>calls_count</th>\n",
       "      <th>minutes_used</th>\n",
       "      <th>messages_used</th>\n",
       "    </tr>\n",
       "  </thead>\n",
       "  <tbody>\n",
       "    <tr>\n",
       "      <th>0</th>\n",
       "      <td>1000</td>\n",
       "      <td>5</td>\n",
       "      <td>22.0</td>\n",
       "      <td>159.0</td>\n",
       "      <td>22.0</td>\n",
       "    </tr>\n",
       "    <tr>\n",
       "      <th>1</th>\n",
       "      <td>1000</td>\n",
       "      <td>6</td>\n",
       "      <td>43.0</td>\n",
       "      <td>172.0</td>\n",
       "      <td>60.0</td>\n",
       "    </tr>\n",
       "    <tr>\n",
       "      <th>2</th>\n",
       "      <td>1000</td>\n",
       "      <td>7</td>\n",
       "      <td>47.0</td>\n",
       "      <td>340.0</td>\n",
       "      <td>75.0</td>\n",
       "    </tr>\n",
       "    <tr>\n",
       "      <th>3</th>\n",
       "      <td>1000</td>\n",
       "      <td>8</td>\n",
       "      <td>52.0</td>\n",
       "      <td>408.0</td>\n",
       "      <td>81.0</td>\n",
       "    </tr>\n",
       "    <tr>\n",
       "      <th>4</th>\n",
       "      <td>1000</td>\n",
       "      <td>9</td>\n",
       "      <td>58.0</td>\n",
       "      <td>466.0</td>\n",
       "      <td>57.0</td>\n",
       "    </tr>\n",
       "  </tbody>\n",
       "</table>\n",
       "</div>"
      ],
      "text/plain": [
       "   user_id  month  calls_count  minutes_used  messages_used\n",
       "0     1000      5         22.0         159.0           22.0\n",
       "1     1000      6         43.0         172.0           60.0\n",
       "2     1000      7         47.0         340.0           75.0\n",
       "3     1000      8         52.0         408.0           81.0\n",
       "4     1000      9         58.0         466.0           57.0"
      ]
     },
     "metadata": {},
     "output_type": "display_data"
    },
    {
     "name": "stdout",
     "output_type": "stream",
     "text": [
      "<class 'pandas.core.frame.DataFrame'>\n",
      "RangeIndex: 3214 entries, 0 to 3213\n",
      "Data columns (total 8 columns):\n",
      " #   Column           Non-Null Count  Dtype  \n",
      "---  ------           --------------  -----  \n",
      " 0   user_id          3214 non-null   int64  \n",
      " 1   month            3214 non-null   int64  \n",
      " 2   calls_count      3174 non-null   float64\n",
      " 3   minutes_used     3174 non-null   float64\n",
      " 4   messages_used    2717 non-null   float64\n",
      " 5   mb_used          3203 non-null   float64\n",
      " 6   gb_used          3203 non-null   float64\n",
      " 7   gb_used_rounded  3203 non-null   float64\n",
      "dtypes: float64(6), int64(2)\n",
      "memory usage: 201.0 KB\n"
     ]
    },
    {
     "data": {
      "text/plain": [
       "None"
      ]
     },
     "metadata": {},
     "output_type": "display_data"
    },
    {
     "data": {
      "text/html": [
       "<div>\n",
       "<style scoped>\n",
       "    .dataframe tbody tr th:only-of-type {\n",
       "        vertical-align: middle;\n",
       "    }\n",
       "\n",
       "    .dataframe tbody tr th {\n",
       "        vertical-align: top;\n",
       "    }\n",
       "\n",
       "    .dataframe thead th {\n",
       "        text-align: right;\n",
       "    }\n",
       "</style>\n",
       "<table border=\"1\" class=\"dataframe\">\n",
       "  <thead>\n",
       "    <tr style=\"text-align: right;\">\n",
       "      <th></th>\n",
       "      <th>user_id</th>\n",
       "      <th>month</th>\n",
       "      <th>calls_count</th>\n",
       "      <th>minutes_used</th>\n",
       "      <th>messages_used</th>\n",
       "      <th>mb_used</th>\n",
       "      <th>gb_used</th>\n",
       "      <th>gb_used_rounded</th>\n",
       "    </tr>\n",
       "  </thead>\n",
       "  <tbody>\n",
       "    <tr>\n",
       "      <th>0</th>\n",
       "      <td>1000</td>\n",
       "      <td>5</td>\n",
       "      <td>22.0</td>\n",
       "      <td>159.0</td>\n",
       "      <td>22.0</td>\n",
       "      <td>2253.49</td>\n",
       "      <td>2.200674</td>\n",
       "      <td>3.0</td>\n",
       "    </tr>\n",
       "    <tr>\n",
       "      <th>1</th>\n",
       "      <td>1000</td>\n",
       "      <td>6</td>\n",
       "      <td>43.0</td>\n",
       "      <td>172.0</td>\n",
       "      <td>60.0</td>\n",
       "      <td>23233.77</td>\n",
       "      <td>22.689229</td>\n",
       "      <td>23.0</td>\n",
       "    </tr>\n",
       "    <tr>\n",
       "      <th>2</th>\n",
       "      <td>1000</td>\n",
       "      <td>7</td>\n",
       "      <td>47.0</td>\n",
       "      <td>340.0</td>\n",
       "      <td>75.0</td>\n",
       "      <td>14003.64</td>\n",
       "      <td>13.675430</td>\n",
       "      <td>14.0</td>\n",
       "    </tr>\n",
       "    <tr>\n",
       "      <th>3</th>\n",
       "      <td>1000</td>\n",
       "      <td>8</td>\n",
       "      <td>52.0</td>\n",
       "      <td>408.0</td>\n",
       "      <td>81.0</td>\n",
       "      <td>14055.93</td>\n",
       "      <td>13.726494</td>\n",
       "      <td>14.0</td>\n",
       "    </tr>\n",
       "    <tr>\n",
       "      <th>4</th>\n",
       "      <td>1000</td>\n",
       "      <td>9</td>\n",
       "      <td>58.0</td>\n",
       "      <td>466.0</td>\n",
       "      <td>57.0</td>\n",
       "      <td>14568.91</td>\n",
       "      <td>14.227451</td>\n",
       "      <td>15.0</td>\n",
       "    </tr>\n",
       "  </tbody>\n",
       "</table>\n",
       "</div>"
      ],
      "text/plain": [
       "   user_id  month  calls_count  minutes_used  messages_used   mb_used  \\\n",
       "0     1000      5         22.0         159.0           22.0   2253.49   \n",
       "1     1000      6         43.0         172.0           60.0  23233.77   \n",
       "2     1000      7         47.0         340.0           75.0  14003.64   \n",
       "3     1000      8         52.0         408.0           81.0  14055.93   \n",
       "4     1000      9         58.0         466.0           57.0  14568.91   \n",
       "\n",
       "     gb_used  gb_used_rounded  \n",
       "0   2.200674              3.0  \n",
       "1  22.689229             23.0  \n",
       "2  13.675430             14.0  \n",
       "3  13.726494             14.0  \n",
       "4  14.227451             15.0  "
      ]
     },
     "execution_count": 16,
     "metadata": {},
     "output_type": "execute_result"
    }
   ],
   "source": [
    "# объединим ранее созданные таблицы и запишем в новую переменную\n",
    "# последовательно для каждой пары таблиц используем метод merge\n",
    "agg_data = calls_grouped.merge(messages_grouped, on = ('user_id', 'month'), how = 'outer').reset_index(drop=True)\n",
    "\n",
    "# промежуточная проверка результата\n",
    "display(agg_data.head())\n",
    "\n",
    "agg_data = agg_data.merge(internet_grouped, on = ('user_id', 'month'), how = 'outer').reset_index(drop=True)\n",
    "\n",
    "# проверка результата\n",
    "display(agg_data.info())\n",
    "agg_data.head()"
   ]
  },
  {
   "cell_type": "code",
   "execution_count": 17,
   "metadata": {},
   "outputs": [
    {
     "data": {
      "text/html": [
       "<div>\n",
       "<style scoped>\n",
       "    .dataframe tbody tr th:only-of-type {\n",
       "        vertical-align: middle;\n",
       "    }\n",
       "\n",
       "    .dataframe tbody tr th {\n",
       "        vertical-align: top;\n",
       "    }\n",
       "\n",
       "    .dataframe thead th {\n",
       "        text-align: right;\n",
       "    }\n",
       "</style>\n",
       "<table border=\"1\" class=\"dataframe\">\n",
       "  <thead>\n",
       "    <tr style=\"text-align: right;\">\n",
       "      <th></th>\n",
       "      <th>user_id</th>\n",
       "      <th>month</th>\n",
       "      <th>calls_count</th>\n",
       "      <th>minutes_used</th>\n",
       "      <th>messages_used</th>\n",
       "      <th>mb_used</th>\n",
       "      <th>gb_used</th>\n",
       "      <th>gb_used_rounded</th>\n",
       "      <th>age</th>\n",
       "      <th>churn_date</th>\n",
       "      <th>city</th>\n",
       "      <th>first_name</th>\n",
       "      <th>last_name</th>\n",
       "      <th>reg_date</th>\n",
       "      <th>tariff</th>\n",
       "    </tr>\n",
       "  </thead>\n",
       "  <tbody>\n",
       "    <tr>\n",
       "      <th>0</th>\n",
       "      <td>1000</td>\n",
       "      <td>5</td>\n",
       "      <td>22.0</td>\n",
       "      <td>159.0</td>\n",
       "      <td>22.0</td>\n",
       "      <td>2253.49</td>\n",
       "      <td>2.200674</td>\n",
       "      <td>3.0</td>\n",
       "      <td>52</td>\n",
       "      <td>NaT</td>\n",
       "      <td>Краснодар</td>\n",
       "      <td>Рафаил</td>\n",
       "      <td>Верещагин</td>\n",
       "      <td>2018-05-25</td>\n",
       "      <td>ultra</td>\n",
       "    </tr>\n",
       "    <tr>\n",
       "      <th>1</th>\n",
       "      <td>1000</td>\n",
       "      <td>6</td>\n",
       "      <td>43.0</td>\n",
       "      <td>172.0</td>\n",
       "      <td>60.0</td>\n",
       "      <td>23233.77</td>\n",
       "      <td>22.689229</td>\n",
       "      <td>23.0</td>\n",
       "      <td>52</td>\n",
       "      <td>NaT</td>\n",
       "      <td>Краснодар</td>\n",
       "      <td>Рафаил</td>\n",
       "      <td>Верещагин</td>\n",
       "      <td>2018-05-25</td>\n",
       "      <td>ultra</td>\n",
       "    </tr>\n",
       "    <tr>\n",
       "      <th>2</th>\n",
       "      <td>1000</td>\n",
       "      <td>7</td>\n",
       "      <td>47.0</td>\n",
       "      <td>340.0</td>\n",
       "      <td>75.0</td>\n",
       "      <td>14003.64</td>\n",
       "      <td>13.675430</td>\n",
       "      <td>14.0</td>\n",
       "      <td>52</td>\n",
       "      <td>NaT</td>\n",
       "      <td>Краснодар</td>\n",
       "      <td>Рафаил</td>\n",
       "      <td>Верещагин</td>\n",
       "      <td>2018-05-25</td>\n",
       "      <td>ultra</td>\n",
       "    </tr>\n",
       "    <tr>\n",
       "      <th>3</th>\n",
       "      <td>1000</td>\n",
       "      <td>8</td>\n",
       "      <td>52.0</td>\n",
       "      <td>408.0</td>\n",
       "      <td>81.0</td>\n",
       "      <td>14055.93</td>\n",
       "      <td>13.726494</td>\n",
       "      <td>14.0</td>\n",
       "      <td>52</td>\n",
       "      <td>NaT</td>\n",
       "      <td>Краснодар</td>\n",
       "      <td>Рафаил</td>\n",
       "      <td>Верещагин</td>\n",
       "      <td>2018-05-25</td>\n",
       "      <td>ultra</td>\n",
       "    </tr>\n",
       "    <tr>\n",
       "      <th>4</th>\n",
       "      <td>1000</td>\n",
       "      <td>9</td>\n",
       "      <td>58.0</td>\n",
       "      <td>466.0</td>\n",
       "      <td>57.0</td>\n",
       "      <td>14568.91</td>\n",
       "      <td>14.227451</td>\n",
       "      <td>15.0</td>\n",
       "      <td>52</td>\n",
       "      <td>NaT</td>\n",
       "      <td>Краснодар</td>\n",
       "      <td>Рафаил</td>\n",
       "      <td>Верещагин</td>\n",
       "      <td>2018-05-25</td>\n",
       "      <td>ultra</td>\n",
       "    </tr>\n",
       "  </tbody>\n",
       "</table>\n",
       "</div>"
      ],
      "text/plain": [
       "   user_id  month  calls_count  minutes_used  messages_used   mb_used  \\\n",
       "0     1000      5         22.0         159.0           22.0   2253.49   \n",
       "1     1000      6         43.0         172.0           60.0  23233.77   \n",
       "2     1000      7         47.0         340.0           75.0  14003.64   \n",
       "3     1000      8         52.0         408.0           81.0  14055.93   \n",
       "4     1000      9         58.0         466.0           57.0  14568.91   \n",
       "\n",
       "     gb_used  gb_used_rounded  age churn_date       city first_name  \\\n",
       "0   2.200674              3.0   52        NaT  Краснодар     Рафаил   \n",
       "1  22.689229             23.0   52        NaT  Краснодар     Рафаил   \n",
       "2  13.675430             14.0   52        NaT  Краснодар     Рафаил   \n",
       "3  13.726494             14.0   52        NaT  Краснодар     Рафаил   \n",
       "4  14.227451             15.0   52        NaT  Краснодар     Рафаил   \n",
       "\n",
       "   last_name   reg_date tariff  \n",
       "0  Верещагин 2018-05-25  ultra  \n",
       "1  Верещагин 2018-05-25  ultra  \n",
       "2  Верещагин 2018-05-25  ultra  \n",
       "3  Верещагин 2018-05-25  ultra  \n",
       "4  Верещагин 2018-05-25  ultra  "
      ]
     },
     "metadata": {},
     "output_type": "display_data"
    },
    {
     "name": "stdout",
     "output_type": "stream",
     "text": [
      "<class 'pandas.core.frame.DataFrame'>\n",
      "RangeIndex: 3214 entries, 0 to 3213\n",
      "Data columns (total 23 columns):\n",
      " #   Column                 Non-Null Count  Dtype         \n",
      "---  ------                 --------------  -----         \n",
      " 0   user_id                3214 non-null   int64         \n",
      " 1   month                  3214 non-null   int64         \n",
      " 2   calls_count            3174 non-null   float64       \n",
      " 3   minutes_used           3174 non-null   float64       \n",
      " 4   messages_used          2717 non-null   float64       \n",
      " 5   mb_used                3203 non-null   float64       \n",
      " 6   gb_used                3203 non-null   float64       \n",
      " 7   gb_used_rounded        3203 non-null   float64       \n",
      " 8   age                    3214 non-null   int64         \n",
      " 9   churn_date             187 non-null    datetime64[ns]\n",
      " 10  city                   3214 non-null   object        \n",
      " 11  first_name             3214 non-null   object        \n",
      " 12  last_name              3214 non-null   object        \n",
      " 13  reg_date               3214 non-null   datetime64[ns]\n",
      " 14  tariff                 3214 non-null   object        \n",
      " 15  messages_included      3214 non-null   int64         \n",
      " 16  mb_per_month_included  3214 non-null   int64         \n",
      " 17  minutes_included       3214 non-null   int64         \n",
      " 18  rub_monthly_fee        3214 non-null   int64         \n",
      " 19  rub_per_gb             3214 non-null   int64         \n",
      " 20  rub_per_message        3214 non-null   int64         \n",
      " 21  rub_per_minute         3214 non-null   int64         \n",
      " 22  tariff_name            3214 non-null   object        \n",
      "dtypes: datetime64[ns](2), float64(6), int64(10), object(5)\n",
      "memory usage: 577.6+ KB\n"
     ]
    },
    {
     "data": {
      "text/plain": [
       "None"
      ]
     },
     "metadata": {},
     "output_type": "display_data"
    },
    {
     "data": {
      "text/html": [
       "<div>\n",
       "<style scoped>\n",
       "    .dataframe tbody tr th:only-of-type {\n",
       "        vertical-align: middle;\n",
       "    }\n",
       "\n",
       "    .dataframe tbody tr th {\n",
       "        vertical-align: top;\n",
       "    }\n",
       "\n",
       "    .dataframe thead th {\n",
       "        text-align: right;\n",
       "    }\n",
       "</style>\n",
       "<table border=\"1\" class=\"dataframe\">\n",
       "  <thead>\n",
       "    <tr style=\"text-align: right;\">\n",
       "      <th></th>\n",
       "      <th>user_id</th>\n",
       "      <th>month</th>\n",
       "      <th>calls_count</th>\n",
       "      <th>minutes_used</th>\n",
       "      <th>messages_used</th>\n",
       "      <th>mb_used</th>\n",
       "      <th>gb_used</th>\n",
       "      <th>gb_used_rounded</th>\n",
       "      <th>age</th>\n",
       "      <th>churn_date</th>\n",
       "      <th>...</th>\n",
       "      <th>reg_date</th>\n",
       "      <th>tariff</th>\n",
       "      <th>messages_included</th>\n",
       "      <th>mb_per_month_included</th>\n",
       "      <th>minutes_included</th>\n",
       "      <th>rub_monthly_fee</th>\n",
       "      <th>rub_per_gb</th>\n",
       "      <th>rub_per_message</th>\n",
       "      <th>rub_per_minute</th>\n",
       "      <th>tariff_name</th>\n",
       "    </tr>\n",
       "  </thead>\n",
       "  <tbody>\n",
       "    <tr>\n",
       "      <th>0</th>\n",
       "      <td>1000</td>\n",
       "      <td>5</td>\n",
       "      <td>22.0</td>\n",
       "      <td>159.0</td>\n",
       "      <td>22.0</td>\n",
       "      <td>2253.49</td>\n",
       "      <td>2.200674</td>\n",
       "      <td>3.0</td>\n",
       "      <td>52</td>\n",
       "      <td>NaT</td>\n",
       "      <td>...</td>\n",
       "      <td>2018-05-25</td>\n",
       "      <td>ultra</td>\n",
       "      <td>1000</td>\n",
       "      <td>30720</td>\n",
       "      <td>3000</td>\n",
       "      <td>1950</td>\n",
       "      <td>150</td>\n",
       "      <td>1</td>\n",
       "      <td>1</td>\n",
       "      <td>ultra</td>\n",
       "    </tr>\n",
       "    <tr>\n",
       "      <th>1</th>\n",
       "      <td>1000</td>\n",
       "      <td>6</td>\n",
       "      <td>43.0</td>\n",
       "      <td>172.0</td>\n",
       "      <td>60.0</td>\n",
       "      <td>23233.77</td>\n",
       "      <td>22.689229</td>\n",
       "      <td>23.0</td>\n",
       "      <td>52</td>\n",
       "      <td>NaT</td>\n",
       "      <td>...</td>\n",
       "      <td>2018-05-25</td>\n",
       "      <td>ultra</td>\n",
       "      <td>1000</td>\n",
       "      <td>30720</td>\n",
       "      <td>3000</td>\n",
       "      <td>1950</td>\n",
       "      <td>150</td>\n",
       "      <td>1</td>\n",
       "      <td>1</td>\n",
       "      <td>ultra</td>\n",
       "    </tr>\n",
       "    <tr>\n",
       "      <th>2</th>\n",
       "      <td>1000</td>\n",
       "      <td>7</td>\n",
       "      <td>47.0</td>\n",
       "      <td>340.0</td>\n",
       "      <td>75.0</td>\n",
       "      <td>14003.64</td>\n",
       "      <td>13.675430</td>\n",
       "      <td>14.0</td>\n",
       "      <td>52</td>\n",
       "      <td>NaT</td>\n",
       "      <td>...</td>\n",
       "      <td>2018-05-25</td>\n",
       "      <td>ultra</td>\n",
       "      <td>1000</td>\n",
       "      <td>30720</td>\n",
       "      <td>3000</td>\n",
       "      <td>1950</td>\n",
       "      <td>150</td>\n",
       "      <td>1</td>\n",
       "      <td>1</td>\n",
       "      <td>ultra</td>\n",
       "    </tr>\n",
       "    <tr>\n",
       "      <th>3</th>\n",
       "      <td>1000</td>\n",
       "      <td>8</td>\n",
       "      <td>52.0</td>\n",
       "      <td>408.0</td>\n",
       "      <td>81.0</td>\n",
       "      <td>14055.93</td>\n",
       "      <td>13.726494</td>\n",
       "      <td>14.0</td>\n",
       "      <td>52</td>\n",
       "      <td>NaT</td>\n",
       "      <td>...</td>\n",
       "      <td>2018-05-25</td>\n",
       "      <td>ultra</td>\n",
       "      <td>1000</td>\n",
       "      <td>30720</td>\n",
       "      <td>3000</td>\n",
       "      <td>1950</td>\n",
       "      <td>150</td>\n",
       "      <td>1</td>\n",
       "      <td>1</td>\n",
       "      <td>ultra</td>\n",
       "    </tr>\n",
       "    <tr>\n",
       "      <th>4</th>\n",
       "      <td>1000</td>\n",
       "      <td>9</td>\n",
       "      <td>58.0</td>\n",
       "      <td>466.0</td>\n",
       "      <td>57.0</td>\n",
       "      <td>14568.91</td>\n",
       "      <td>14.227451</td>\n",
       "      <td>15.0</td>\n",
       "      <td>52</td>\n",
       "      <td>NaT</td>\n",
       "      <td>...</td>\n",
       "      <td>2018-05-25</td>\n",
       "      <td>ultra</td>\n",
       "      <td>1000</td>\n",
       "      <td>30720</td>\n",
       "      <td>3000</td>\n",
       "      <td>1950</td>\n",
       "      <td>150</td>\n",
       "      <td>1</td>\n",
       "      <td>1</td>\n",
       "      <td>ultra</td>\n",
       "    </tr>\n",
       "  </tbody>\n",
       "</table>\n",
       "<p>5 rows × 23 columns</p>\n",
       "</div>"
      ],
      "text/plain": [
       "   user_id  month  calls_count  minutes_used  messages_used   mb_used  \\\n",
       "0     1000      5         22.0         159.0           22.0   2253.49   \n",
       "1     1000      6         43.0         172.0           60.0  23233.77   \n",
       "2     1000      7         47.0         340.0           75.0  14003.64   \n",
       "3     1000      8         52.0         408.0           81.0  14055.93   \n",
       "4     1000      9         58.0         466.0           57.0  14568.91   \n",
       "\n",
       "     gb_used  gb_used_rounded  age churn_date  ...   reg_date tariff  \\\n",
       "0   2.200674              3.0   52        NaT  ... 2018-05-25  ultra   \n",
       "1  22.689229             23.0   52        NaT  ... 2018-05-25  ultra   \n",
       "2  13.675430             14.0   52        NaT  ... 2018-05-25  ultra   \n",
       "3  13.726494             14.0   52        NaT  ... 2018-05-25  ultra   \n",
       "4  14.227451             15.0   52        NaT  ... 2018-05-25  ultra   \n",
       "\n",
       "  messages_included mb_per_month_included minutes_included  rub_monthly_fee  \\\n",
       "0              1000                 30720             3000             1950   \n",
       "1              1000                 30720             3000             1950   \n",
       "2              1000                 30720             3000             1950   \n",
       "3              1000                 30720             3000             1950   \n",
       "4              1000                 30720             3000             1950   \n",
       "\n",
       "   rub_per_gb  rub_per_message  rub_per_minute  tariff_name  \n",
       "0         150                1               1        ultra  \n",
       "1         150                1               1        ultra  \n",
       "2         150                1               1        ultra  \n",
       "3         150                1               1        ultra  \n",
       "4         150                1               1        ultra  \n",
       "\n",
       "[5 rows x 23 columns]"
      ]
     },
     "execution_count": 17,
     "metadata": {},
     "output_type": "execute_result"
    }
   ],
   "source": [
    "# добавим в объединенную таблицу информацию по пользователям и тарифам из соответствующих датасетов\n",
    "agg_data = agg_data.merge(users, on = 'user_id').reset_index(drop=True)\n",
    "\n",
    "# промежуточная проверка результата\n",
    "display(agg_data.head())\n",
    "\n",
    "agg_data = agg_data.merge(tariffs, left_on='tariff', right_on='tariff_name').reset_index(drop=True)\n",
    "\n",
    "# проверка результата\n",
    "display(agg_data.info())\n",
    "agg_data.head()"
   ]
  },
  {
   "cell_type": "code",
   "execution_count": 18,
   "metadata": {},
   "outputs": [
    {
     "data": {
      "text/plain": [
       "15.0    2229\n",
       "30.0     985\n",
       "Name: gb_per_month_included, dtype: int64"
      ]
     },
     "execution_count": 18,
     "metadata": {},
     "output_type": "execute_result"
    }
   ],
   "source": [
    "# для удобства дальнейших расчетов добавим колонку \n",
    "# с размером интернет-трафика, включенного в тариф, в Гб\n",
    "agg_data['gb_per_month_included'] = agg_data['mb_per_month_included'] / 1024 \n",
    "\n",
    "# проверим, что получилось\n",
    "agg_data['gb_per_month_included'].value_counts()"
   ]
  },
  {
   "cell_type": "code",
   "execution_count": 19,
   "metadata": {},
   "outputs": [
    {
     "name": "stdout",
     "output_type": "stream",
     "text": [
      "<class 'pandas.core.frame.DataFrame'>\n",
      "RangeIndex: 3214 entries, 0 to 3213\n",
      "Data columns (total 24 columns):\n",
      " #   Column                 Non-Null Count  Dtype         \n",
      "---  ------                 --------------  -----         \n",
      " 0   user_id                3214 non-null   int64         \n",
      " 1   month                  3214 non-null   int64         \n",
      " 2   calls_count            3174 non-null   float64       \n",
      " 3   minutes_used           3174 non-null   float64       \n",
      " 4   messages_used          2717 non-null   float64       \n",
      " 5   mb_used                3203 non-null   float64       \n",
      " 6   gb_used                3203 non-null   float64       \n",
      " 7   gb_used_rounded        3203 non-null   float64       \n",
      " 8   age                    3214 non-null   int64         \n",
      " 9   churn_date             187 non-null    datetime64[ns]\n",
      " 10  city                   3214 non-null   object        \n",
      " 11  first_name             3214 non-null   object        \n",
      " 12  last_name              3214 non-null   object        \n",
      " 13  reg_date               3214 non-null   datetime64[ns]\n",
      " 14  tariff                 3214 non-null   object        \n",
      " 15  messages_included      3214 non-null   int64         \n",
      " 16  mb_per_month_included  3214 non-null   int64         \n",
      " 17  minutes_included       3214 non-null   int64         \n",
      " 18  rub_monthly_fee        3214 non-null   int64         \n",
      " 19  rub_per_gb             3214 non-null   int64         \n",
      " 20  rub_per_message        3214 non-null   int64         \n",
      " 21  rub_per_minute         3214 non-null   int64         \n",
      " 22  tariff_name            3214 non-null   object        \n",
      " 23  gb_per_month_included  3214 non-null   float64       \n",
      "dtypes: datetime64[ns](2), float64(7), int64(10), object(5)\n",
      "memory usage: 602.8+ KB\n"
     ]
    },
    {
     "data": {
      "text/plain": [
       "None"
      ]
     },
     "metadata": {},
     "output_type": "display_data"
    },
    {
     "name": "stdout",
     "output_type": "stream",
     "text": [
      "<class 'pandas.core.frame.DataFrame'>\n",
      "RangeIndex: 3214 entries, 0 to 3213\n",
      "Data columns (total 24 columns):\n",
      " #   Column                 Non-Null Count  Dtype         \n",
      "---  ------                 --------------  -----         \n",
      " 0   user_id                3214 non-null   int64         \n",
      " 1   month                  3214 non-null   int64         \n",
      " 2   calls_count            3214 non-null   int64         \n",
      " 3   minutes_used           3214 non-null   int64         \n",
      " 4   messages_used          3214 non-null   int64         \n",
      " 5   mb_used                3203 non-null   float64       \n",
      " 6   gb_used                3203 non-null   float64       \n",
      " 7   gb_used_rounded        3214 non-null   int64         \n",
      " 8   age                    3214 non-null   int64         \n",
      " 9   churn_date             187 non-null    datetime64[ns]\n",
      " 10  city                   3214 non-null   object        \n",
      " 11  first_name             3214 non-null   object        \n",
      " 12  last_name              3214 non-null   object        \n",
      " 13  reg_date               3214 non-null   datetime64[ns]\n",
      " 14  tariff                 3214 non-null   object        \n",
      " 15  messages_included      3214 non-null   int64         \n",
      " 16  mb_per_month_included  3214 non-null   int64         \n",
      " 17  minutes_included       3214 non-null   int64         \n",
      " 18  rub_monthly_fee        3214 non-null   int64         \n",
      " 19  rub_per_gb             3214 non-null   int64         \n",
      " 20  rub_per_message        3214 non-null   int64         \n",
      " 21  rub_per_minute         3214 non-null   int64         \n",
      " 22  tariff_name            3214 non-null   object        \n",
      " 23  gb_per_month_included  3214 non-null   int64         \n",
      "dtypes: datetime64[ns](2), float64(2), int64(15), object(5)\n",
      "memory usage: 602.8+ KB\n"
     ]
    }
   ],
   "source": [
    "# некоторые колонки после объединения изменили тип данных на дробный и получили пропуски\n",
    "# вернем им целочисленный тип данных перед этим заменив пропуски на 0\n",
    "display(agg_data.info())\n",
    "\n",
    "# создадим список колонок, над которыми нужно выполнить преобразования\n",
    "columns = ['calls_count', 'minutes_used', 'messages_used', 'gb_used_rounded', 'gb_per_month_included']\n",
    "\n",
    "# циклом пройдемся по списку колонок и выполним преобразования\n",
    "for column in columns:\n",
    "    agg_data[column] = agg_data[column].fillna(0).astype('int64')\n",
    "\n",
    "# проверим результат\n",
    "agg_data.info()"
   ]
  },
  {
   "cell_type": "code",
   "execution_count": 20,
   "metadata": {},
   "outputs": [
    {
     "data": {
      "text/html": [
       "<div>\n",
       "<style scoped>\n",
       "    .dataframe tbody tr th:only-of-type {\n",
       "        vertical-align: middle;\n",
       "    }\n",
       "\n",
       "    .dataframe tbody tr th {\n",
       "        vertical-align: top;\n",
       "    }\n",
       "\n",
       "    .dataframe thead th {\n",
       "        text-align: right;\n",
       "    }\n",
       "</style>\n",
       "<table border=\"1\" class=\"dataframe\">\n",
       "  <thead>\n",
       "    <tr style=\"text-align: right;\">\n",
       "      <th></th>\n",
       "      <th>user_id</th>\n",
       "      <th>month</th>\n",
       "      <th>calls_count</th>\n",
       "      <th>minutes_used</th>\n",
       "      <th>messages_used</th>\n",
       "      <th>mb_used</th>\n",
       "      <th>gb_used</th>\n",
       "      <th>gb_used_rounded</th>\n",
       "      <th>age</th>\n",
       "      <th>churn_date</th>\n",
       "      <th>...</th>\n",
       "      <th>messages_included</th>\n",
       "      <th>mb_per_month_included</th>\n",
       "      <th>minutes_included</th>\n",
       "      <th>rub_monthly_fee</th>\n",
       "      <th>rub_per_gb</th>\n",
       "      <th>rub_per_message</th>\n",
       "      <th>rub_per_minute</th>\n",
       "      <th>tariff_name</th>\n",
       "      <th>gb_per_month_included</th>\n",
       "      <th>calls_revenue</th>\n",
       "    </tr>\n",
       "  </thead>\n",
       "  <tbody>\n",
       "    <tr>\n",
       "      <th>3204</th>\n",
       "      <td>1498</td>\n",
       "      <td>10</td>\n",
       "      <td>41</td>\n",
       "      <td>247</td>\n",
       "      <td>42</td>\n",
       "      <td>20579.36</td>\n",
       "      <td>20.097031</td>\n",
       "      <td>21</td>\n",
       "      <td>68</td>\n",
       "      <td>2018-10-25</td>\n",
       "      <td>...</td>\n",
       "      <td>50</td>\n",
       "      <td>15360</td>\n",
       "      <td>500</td>\n",
       "      <td>550</td>\n",
       "      <td>200</td>\n",
       "      <td>3</td>\n",
       "      <td>3</td>\n",
       "      <td>smart</td>\n",
       "      <td>15</td>\n",
       "      <td>0</td>\n",
       "    </tr>\n",
       "    <tr>\n",
       "      <th>3205</th>\n",
       "      <td>1499</td>\n",
       "      <td>9</td>\n",
       "      <td>9</td>\n",
       "      <td>70</td>\n",
       "      <td>11</td>\n",
       "      <td>1845.75</td>\n",
       "      <td>1.802490</td>\n",
       "      <td>2</td>\n",
       "      <td>35</td>\n",
       "      <td>NaT</td>\n",
       "      <td>...</td>\n",
       "      <td>50</td>\n",
       "      <td>15360</td>\n",
       "      <td>500</td>\n",
       "      <td>550</td>\n",
       "      <td>200</td>\n",
       "      <td>3</td>\n",
       "      <td>3</td>\n",
       "      <td>smart</td>\n",
       "      <td>15</td>\n",
       "      <td>0</td>\n",
       "    </tr>\n",
       "    <tr>\n",
       "      <th>3206</th>\n",
       "      <td>1499</td>\n",
       "      <td>10</td>\n",
       "      <td>68</td>\n",
       "      <td>449</td>\n",
       "      <td>48</td>\n",
       "      <td>17788.51</td>\n",
       "      <td>17.371592</td>\n",
       "      <td>18</td>\n",
       "      <td>35</td>\n",
       "      <td>NaT</td>\n",
       "      <td>...</td>\n",
       "      <td>50</td>\n",
       "      <td>15360</td>\n",
       "      <td>500</td>\n",
       "      <td>550</td>\n",
       "      <td>200</td>\n",
       "      <td>3</td>\n",
       "      <td>3</td>\n",
       "      <td>smart</td>\n",
       "      <td>15</td>\n",
       "      <td>0</td>\n",
       "    </tr>\n",
       "    <tr>\n",
       "      <th>3207</th>\n",
       "      <td>1499</td>\n",
       "      <td>11</td>\n",
       "      <td>74</td>\n",
       "      <td>612</td>\n",
       "      <td>59</td>\n",
       "      <td>17963.31</td>\n",
       "      <td>17.542295</td>\n",
       "      <td>18</td>\n",
       "      <td>35</td>\n",
       "      <td>NaT</td>\n",
       "      <td>...</td>\n",
       "      <td>50</td>\n",
       "      <td>15360</td>\n",
       "      <td>500</td>\n",
       "      <td>550</td>\n",
       "      <td>200</td>\n",
       "      <td>3</td>\n",
       "      <td>3</td>\n",
       "      <td>smart</td>\n",
       "      <td>15</td>\n",
       "      <td>336</td>\n",
       "    </tr>\n",
       "    <tr>\n",
       "      <th>3208</th>\n",
       "      <td>1499</td>\n",
       "      <td>12</td>\n",
       "      <td>69</td>\n",
       "      <td>492</td>\n",
       "      <td>66</td>\n",
       "      <td>13055.58</td>\n",
       "      <td>12.749590</td>\n",
       "      <td>13</td>\n",
       "      <td>35</td>\n",
       "      <td>NaT</td>\n",
       "      <td>...</td>\n",
       "      <td>50</td>\n",
       "      <td>15360</td>\n",
       "      <td>500</td>\n",
       "      <td>550</td>\n",
       "      <td>200</td>\n",
       "      <td>3</td>\n",
       "      <td>3</td>\n",
       "      <td>smart</td>\n",
       "      <td>15</td>\n",
       "      <td>0</td>\n",
       "    </tr>\n",
       "    <tr>\n",
       "      <th>3209</th>\n",
       "      <td>1489</td>\n",
       "      <td>8</td>\n",
       "      <td>0</td>\n",
       "      <td>0</td>\n",
       "      <td>17</td>\n",
       "      <td>11050.56</td>\n",
       "      <td>10.791562</td>\n",
       "      <td>11</td>\n",
       "      <td>35</td>\n",
       "      <td>NaT</td>\n",
       "      <td>...</td>\n",
       "      <td>50</td>\n",
       "      <td>15360</td>\n",
       "      <td>500</td>\n",
       "      <td>550</td>\n",
       "      <td>200</td>\n",
       "      <td>3</td>\n",
       "      <td>3</td>\n",
       "      <td>smart</td>\n",
       "      <td>15</td>\n",
       "      <td>0</td>\n",
       "    </tr>\n",
       "    <tr>\n",
       "      <th>3210</th>\n",
       "      <td>1489</td>\n",
       "      <td>9</td>\n",
       "      <td>0</td>\n",
       "      <td>0</td>\n",
       "      <td>32</td>\n",
       "      <td>17206.30</td>\n",
       "      <td>16.803027</td>\n",
       "      <td>17</td>\n",
       "      <td>35</td>\n",
       "      <td>NaT</td>\n",
       "      <td>...</td>\n",
       "      <td>50</td>\n",
       "      <td>15360</td>\n",
       "      <td>500</td>\n",
       "      <td>550</td>\n",
       "      <td>200</td>\n",
       "      <td>3</td>\n",
       "      <td>3</td>\n",
       "      <td>smart</td>\n",
       "      <td>15</td>\n",
       "      <td>0</td>\n",
       "    </tr>\n",
       "    <tr>\n",
       "      <th>3211</th>\n",
       "      <td>1489</td>\n",
       "      <td>10</td>\n",
       "      <td>0</td>\n",
       "      <td>0</td>\n",
       "      <td>21</td>\n",
       "      <td>19559.44</td>\n",
       "      <td>19.101016</td>\n",
       "      <td>20</td>\n",
       "      <td>35</td>\n",
       "      <td>NaT</td>\n",
       "      <td>...</td>\n",
       "      <td>50</td>\n",
       "      <td>15360</td>\n",
       "      <td>500</td>\n",
       "      <td>550</td>\n",
       "      <td>200</td>\n",
       "      <td>3</td>\n",
       "      <td>3</td>\n",
       "      <td>smart</td>\n",
       "      <td>15</td>\n",
       "      <td>0</td>\n",
       "    </tr>\n",
       "    <tr>\n",
       "      <th>3212</th>\n",
       "      <td>1489</td>\n",
       "      <td>11</td>\n",
       "      <td>0</td>\n",
       "      <td>0</td>\n",
       "      <td>20</td>\n",
       "      <td>17491.56</td>\n",
       "      <td>17.081602</td>\n",
       "      <td>18</td>\n",
       "      <td>35</td>\n",
       "      <td>NaT</td>\n",
       "      <td>...</td>\n",
       "      <td>50</td>\n",
       "      <td>15360</td>\n",
       "      <td>500</td>\n",
       "      <td>550</td>\n",
       "      <td>200</td>\n",
       "      <td>3</td>\n",
       "      <td>3</td>\n",
       "      <td>smart</td>\n",
       "      <td>15</td>\n",
       "      <td>0</td>\n",
       "    </tr>\n",
       "    <tr>\n",
       "      <th>3213</th>\n",
       "      <td>1489</td>\n",
       "      <td>12</td>\n",
       "      <td>0</td>\n",
       "      <td>0</td>\n",
       "      <td>35</td>\n",
       "      <td>17322.51</td>\n",
       "      <td>16.916514</td>\n",
       "      <td>17</td>\n",
       "      <td>35</td>\n",
       "      <td>NaT</td>\n",
       "      <td>...</td>\n",
       "      <td>50</td>\n",
       "      <td>15360</td>\n",
       "      <td>500</td>\n",
       "      <td>550</td>\n",
       "      <td>200</td>\n",
       "      <td>3</td>\n",
       "      <td>3</td>\n",
       "      <td>smart</td>\n",
       "      <td>15</td>\n",
       "      <td>0</td>\n",
       "    </tr>\n",
       "  </tbody>\n",
       "</table>\n",
       "<p>10 rows × 25 columns</p>\n",
       "</div>"
      ],
      "text/plain": [
       "      user_id  month  calls_count  minutes_used  messages_used   mb_used  \\\n",
       "3204     1498     10           41           247             42  20579.36   \n",
       "3205     1499      9            9            70             11   1845.75   \n",
       "3206     1499     10           68           449             48  17788.51   \n",
       "3207     1499     11           74           612             59  17963.31   \n",
       "3208     1499     12           69           492             66  13055.58   \n",
       "3209     1489      8            0             0             17  11050.56   \n",
       "3210     1489      9            0             0             32  17206.30   \n",
       "3211     1489     10            0             0             21  19559.44   \n",
       "3212     1489     11            0             0             20  17491.56   \n",
       "3213     1489     12            0             0             35  17322.51   \n",
       "\n",
       "        gb_used  gb_used_rounded  age churn_date  ... messages_included  \\\n",
       "3204  20.097031               21   68 2018-10-25  ...                50   \n",
       "3205   1.802490                2   35        NaT  ...                50   \n",
       "3206  17.371592               18   35        NaT  ...                50   \n",
       "3207  17.542295               18   35        NaT  ...                50   \n",
       "3208  12.749590               13   35        NaT  ...                50   \n",
       "3209  10.791562               11   35        NaT  ...                50   \n",
       "3210  16.803027               17   35        NaT  ...                50   \n",
       "3211  19.101016               20   35        NaT  ...                50   \n",
       "3212  17.081602               18   35        NaT  ...                50   \n",
       "3213  16.916514               17   35        NaT  ...                50   \n",
       "\n",
       "     mb_per_month_included minutes_included rub_monthly_fee rub_per_gb  \\\n",
       "3204                 15360              500             550        200   \n",
       "3205                 15360              500             550        200   \n",
       "3206                 15360              500             550        200   \n",
       "3207                 15360              500             550        200   \n",
       "3208                 15360              500             550        200   \n",
       "3209                 15360              500             550        200   \n",
       "3210                 15360              500             550        200   \n",
       "3211                 15360              500             550        200   \n",
       "3212                 15360              500             550        200   \n",
       "3213                 15360              500             550        200   \n",
       "\n",
       "      rub_per_message  rub_per_minute  tariff_name  gb_per_month_included  \\\n",
       "3204                3               3        smart                     15   \n",
       "3205                3               3        smart                     15   \n",
       "3206                3               3        smart                     15   \n",
       "3207                3               3        smart                     15   \n",
       "3208                3               3        smart                     15   \n",
       "3209                3               3        smart                     15   \n",
       "3210                3               3        smart                     15   \n",
       "3211                3               3        smart                     15   \n",
       "3212                3               3        smart                     15   \n",
       "3213                3               3        smart                     15   \n",
       "\n",
       "      calls_revenue  \n",
       "3204              0  \n",
       "3205              0  \n",
       "3206              0  \n",
       "3207            336  \n",
       "3208              0  \n",
       "3209              0  \n",
       "3210              0  \n",
       "3211              0  \n",
       "3212              0  \n",
       "3213              0  \n",
       "\n",
       "[10 rows x 25 columns]"
      ]
     },
     "metadata": {},
     "output_type": "display_data"
    }
   ],
   "source": [
    "# рассчитаем выручку по каждому пользователю в разрезе месяцов:\n",
    "# вычтем бесплатный лимит из суммарного количества звонков / сообщений / интернет-трафика\n",
    "# остаток умножим на значение из тарифного плана\n",
    "\n",
    "# создадим колонку для расчета дополнительной выручки по каждому виду услуг, без учета абонентской платы за тариф\n",
    "agg_data['calls_revenue'] = 0\n",
    "\n",
    "for i in range(len(agg_data['user_id'])): # создадим цикл для обработки каждой строки датасета по индексу\n",
    "    if (agg_data.loc[i,'minutes_used'] - agg_data.loc[i,'minutes_included']) > 0: # если абонент превысил бесплатный лимит по минутам\n",
    "        agg_data.loc[i,'calls_revenue'] = (\n",
    "            (agg_data.loc[i,'minutes_used'] - \n",
    "             agg_data.loc[i,'minutes_included']) * \n",
    "            agg_data.loc[i,'rub_per_minute']\n",
    "        ) # сумму услуг, превышающую лимит, умножим на ставку из тарифа\n",
    "    else:\n",
    "        agg_data.loc[i,'calls_revenue'] = 0 # если превышения нет, то дополнительной платы не будет\n",
    "\n",
    "# проверим результат\n",
    "display(agg_data.tail(10))"
   ]
  },
  {
   "cell_type": "code",
   "execution_count": 21,
   "metadata": {},
   "outputs": [
    {
     "data": {
      "text/html": [
       "<div>\n",
       "<style scoped>\n",
       "    .dataframe tbody tr th:only-of-type {\n",
       "        vertical-align: middle;\n",
       "    }\n",
       "\n",
       "    .dataframe tbody tr th {\n",
       "        vertical-align: top;\n",
       "    }\n",
       "\n",
       "    .dataframe thead th {\n",
       "        text-align: right;\n",
       "    }\n",
       "</style>\n",
       "<table border=\"1\" class=\"dataframe\">\n",
       "  <thead>\n",
       "    <tr style=\"text-align: right;\">\n",
       "      <th></th>\n",
       "      <th>user_id</th>\n",
       "      <th>month</th>\n",
       "      <th>calls_count</th>\n",
       "      <th>minutes_used</th>\n",
       "      <th>messages_used</th>\n",
       "      <th>mb_used</th>\n",
       "      <th>gb_used</th>\n",
       "      <th>gb_used_rounded</th>\n",
       "      <th>age</th>\n",
       "      <th>churn_date</th>\n",
       "      <th>...</th>\n",
       "      <th>mb_per_month_included</th>\n",
       "      <th>minutes_included</th>\n",
       "      <th>rub_monthly_fee</th>\n",
       "      <th>rub_per_gb</th>\n",
       "      <th>rub_per_message</th>\n",
       "      <th>rub_per_minute</th>\n",
       "      <th>tariff_name</th>\n",
       "      <th>gb_per_month_included</th>\n",
       "      <th>calls_revenue</th>\n",
       "      <th>messages_revenue</th>\n",
       "    </tr>\n",
       "  </thead>\n",
       "  <tbody>\n",
       "    <tr>\n",
       "      <th>3204</th>\n",
       "      <td>1498</td>\n",
       "      <td>10</td>\n",
       "      <td>41</td>\n",
       "      <td>247</td>\n",
       "      <td>42</td>\n",
       "      <td>20579.36</td>\n",
       "      <td>20.097031</td>\n",
       "      <td>21</td>\n",
       "      <td>68</td>\n",
       "      <td>2018-10-25</td>\n",
       "      <td>...</td>\n",
       "      <td>15360</td>\n",
       "      <td>500</td>\n",
       "      <td>550</td>\n",
       "      <td>200</td>\n",
       "      <td>3</td>\n",
       "      <td>3</td>\n",
       "      <td>smart</td>\n",
       "      <td>15</td>\n",
       "      <td>0</td>\n",
       "      <td>0</td>\n",
       "    </tr>\n",
       "    <tr>\n",
       "      <th>3205</th>\n",
       "      <td>1499</td>\n",
       "      <td>9</td>\n",
       "      <td>9</td>\n",
       "      <td>70</td>\n",
       "      <td>11</td>\n",
       "      <td>1845.75</td>\n",
       "      <td>1.802490</td>\n",
       "      <td>2</td>\n",
       "      <td>35</td>\n",
       "      <td>NaT</td>\n",
       "      <td>...</td>\n",
       "      <td>15360</td>\n",
       "      <td>500</td>\n",
       "      <td>550</td>\n",
       "      <td>200</td>\n",
       "      <td>3</td>\n",
       "      <td>3</td>\n",
       "      <td>smart</td>\n",
       "      <td>15</td>\n",
       "      <td>0</td>\n",
       "      <td>0</td>\n",
       "    </tr>\n",
       "    <tr>\n",
       "      <th>3206</th>\n",
       "      <td>1499</td>\n",
       "      <td>10</td>\n",
       "      <td>68</td>\n",
       "      <td>449</td>\n",
       "      <td>48</td>\n",
       "      <td>17788.51</td>\n",
       "      <td>17.371592</td>\n",
       "      <td>18</td>\n",
       "      <td>35</td>\n",
       "      <td>NaT</td>\n",
       "      <td>...</td>\n",
       "      <td>15360</td>\n",
       "      <td>500</td>\n",
       "      <td>550</td>\n",
       "      <td>200</td>\n",
       "      <td>3</td>\n",
       "      <td>3</td>\n",
       "      <td>smart</td>\n",
       "      <td>15</td>\n",
       "      <td>0</td>\n",
       "      <td>0</td>\n",
       "    </tr>\n",
       "    <tr>\n",
       "      <th>3207</th>\n",
       "      <td>1499</td>\n",
       "      <td>11</td>\n",
       "      <td>74</td>\n",
       "      <td>612</td>\n",
       "      <td>59</td>\n",
       "      <td>17963.31</td>\n",
       "      <td>17.542295</td>\n",
       "      <td>18</td>\n",
       "      <td>35</td>\n",
       "      <td>NaT</td>\n",
       "      <td>...</td>\n",
       "      <td>15360</td>\n",
       "      <td>500</td>\n",
       "      <td>550</td>\n",
       "      <td>200</td>\n",
       "      <td>3</td>\n",
       "      <td>3</td>\n",
       "      <td>smart</td>\n",
       "      <td>15</td>\n",
       "      <td>336</td>\n",
       "      <td>27</td>\n",
       "    </tr>\n",
       "    <tr>\n",
       "      <th>3208</th>\n",
       "      <td>1499</td>\n",
       "      <td>12</td>\n",
       "      <td>69</td>\n",
       "      <td>492</td>\n",
       "      <td>66</td>\n",
       "      <td>13055.58</td>\n",
       "      <td>12.749590</td>\n",
       "      <td>13</td>\n",
       "      <td>35</td>\n",
       "      <td>NaT</td>\n",
       "      <td>...</td>\n",
       "      <td>15360</td>\n",
       "      <td>500</td>\n",
       "      <td>550</td>\n",
       "      <td>200</td>\n",
       "      <td>3</td>\n",
       "      <td>3</td>\n",
       "      <td>smart</td>\n",
       "      <td>15</td>\n",
       "      <td>0</td>\n",
       "      <td>48</td>\n",
       "    </tr>\n",
       "    <tr>\n",
       "      <th>3209</th>\n",
       "      <td>1489</td>\n",
       "      <td>8</td>\n",
       "      <td>0</td>\n",
       "      <td>0</td>\n",
       "      <td>17</td>\n",
       "      <td>11050.56</td>\n",
       "      <td>10.791562</td>\n",
       "      <td>11</td>\n",
       "      <td>35</td>\n",
       "      <td>NaT</td>\n",
       "      <td>...</td>\n",
       "      <td>15360</td>\n",
       "      <td>500</td>\n",
       "      <td>550</td>\n",
       "      <td>200</td>\n",
       "      <td>3</td>\n",
       "      <td>3</td>\n",
       "      <td>smart</td>\n",
       "      <td>15</td>\n",
       "      <td>0</td>\n",
       "      <td>0</td>\n",
       "    </tr>\n",
       "    <tr>\n",
       "      <th>3210</th>\n",
       "      <td>1489</td>\n",
       "      <td>9</td>\n",
       "      <td>0</td>\n",
       "      <td>0</td>\n",
       "      <td>32</td>\n",
       "      <td>17206.30</td>\n",
       "      <td>16.803027</td>\n",
       "      <td>17</td>\n",
       "      <td>35</td>\n",
       "      <td>NaT</td>\n",
       "      <td>...</td>\n",
       "      <td>15360</td>\n",
       "      <td>500</td>\n",
       "      <td>550</td>\n",
       "      <td>200</td>\n",
       "      <td>3</td>\n",
       "      <td>3</td>\n",
       "      <td>smart</td>\n",
       "      <td>15</td>\n",
       "      <td>0</td>\n",
       "      <td>0</td>\n",
       "    </tr>\n",
       "    <tr>\n",
       "      <th>3211</th>\n",
       "      <td>1489</td>\n",
       "      <td>10</td>\n",
       "      <td>0</td>\n",
       "      <td>0</td>\n",
       "      <td>21</td>\n",
       "      <td>19559.44</td>\n",
       "      <td>19.101016</td>\n",
       "      <td>20</td>\n",
       "      <td>35</td>\n",
       "      <td>NaT</td>\n",
       "      <td>...</td>\n",
       "      <td>15360</td>\n",
       "      <td>500</td>\n",
       "      <td>550</td>\n",
       "      <td>200</td>\n",
       "      <td>3</td>\n",
       "      <td>3</td>\n",
       "      <td>smart</td>\n",
       "      <td>15</td>\n",
       "      <td>0</td>\n",
       "      <td>0</td>\n",
       "    </tr>\n",
       "    <tr>\n",
       "      <th>3212</th>\n",
       "      <td>1489</td>\n",
       "      <td>11</td>\n",
       "      <td>0</td>\n",
       "      <td>0</td>\n",
       "      <td>20</td>\n",
       "      <td>17491.56</td>\n",
       "      <td>17.081602</td>\n",
       "      <td>18</td>\n",
       "      <td>35</td>\n",
       "      <td>NaT</td>\n",
       "      <td>...</td>\n",
       "      <td>15360</td>\n",
       "      <td>500</td>\n",
       "      <td>550</td>\n",
       "      <td>200</td>\n",
       "      <td>3</td>\n",
       "      <td>3</td>\n",
       "      <td>smart</td>\n",
       "      <td>15</td>\n",
       "      <td>0</td>\n",
       "      <td>0</td>\n",
       "    </tr>\n",
       "    <tr>\n",
       "      <th>3213</th>\n",
       "      <td>1489</td>\n",
       "      <td>12</td>\n",
       "      <td>0</td>\n",
       "      <td>0</td>\n",
       "      <td>35</td>\n",
       "      <td>17322.51</td>\n",
       "      <td>16.916514</td>\n",
       "      <td>17</td>\n",
       "      <td>35</td>\n",
       "      <td>NaT</td>\n",
       "      <td>...</td>\n",
       "      <td>15360</td>\n",
       "      <td>500</td>\n",
       "      <td>550</td>\n",
       "      <td>200</td>\n",
       "      <td>3</td>\n",
       "      <td>3</td>\n",
       "      <td>smart</td>\n",
       "      <td>15</td>\n",
       "      <td>0</td>\n",
       "      <td>0</td>\n",
       "    </tr>\n",
       "  </tbody>\n",
       "</table>\n",
       "<p>10 rows × 26 columns</p>\n",
       "</div>"
      ],
      "text/plain": [
       "      user_id  month  calls_count  minutes_used  messages_used   mb_used  \\\n",
       "3204     1498     10           41           247             42  20579.36   \n",
       "3205     1499      9            9            70             11   1845.75   \n",
       "3206     1499     10           68           449             48  17788.51   \n",
       "3207     1499     11           74           612             59  17963.31   \n",
       "3208     1499     12           69           492             66  13055.58   \n",
       "3209     1489      8            0             0             17  11050.56   \n",
       "3210     1489      9            0             0             32  17206.30   \n",
       "3211     1489     10            0             0             21  19559.44   \n",
       "3212     1489     11            0             0             20  17491.56   \n",
       "3213     1489     12            0             0             35  17322.51   \n",
       "\n",
       "        gb_used  gb_used_rounded  age churn_date  ... mb_per_month_included  \\\n",
       "3204  20.097031               21   68 2018-10-25  ...                 15360   \n",
       "3205   1.802490                2   35        NaT  ...                 15360   \n",
       "3206  17.371592               18   35        NaT  ...                 15360   \n",
       "3207  17.542295               18   35        NaT  ...                 15360   \n",
       "3208  12.749590               13   35        NaT  ...                 15360   \n",
       "3209  10.791562               11   35        NaT  ...                 15360   \n",
       "3210  16.803027               17   35        NaT  ...                 15360   \n",
       "3211  19.101016               20   35        NaT  ...                 15360   \n",
       "3212  17.081602               18   35        NaT  ...                 15360   \n",
       "3213  16.916514               17   35        NaT  ...                 15360   \n",
       "\n",
       "     minutes_included rub_monthly_fee rub_per_gb rub_per_message  \\\n",
       "3204              500             550        200               3   \n",
       "3205              500             550        200               3   \n",
       "3206              500             550        200               3   \n",
       "3207              500             550        200               3   \n",
       "3208              500             550        200               3   \n",
       "3209              500             550        200               3   \n",
       "3210              500             550        200               3   \n",
       "3211              500             550        200               3   \n",
       "3212              500             550        200               3   \n",
       "3213              500             550        200               3   \n",
       "\n",
       "      rub_per_minute  tariff_name  gb_per_month_included  calls_revenue  \\\n",
       "3204               3        smart                     15              0   \n",
       "3205               3        smart                     15              0   \n",
       "3206               3        smart                     15              0   \n",
       "3207               3        smart                     15            336   \n",
       "3208               3        smart                     15              0   \n",
       "3209               3        smart                     15              0   \n",
       "3210               3        smart                     15              0   \n",
       "3211               3        smart                     15              0   \n",
       "3212               3        smart                     15              0   \n",
       "3213               3        smart                     15              0   \n",
       "\n",
       "      messages_revenue  \n",
       "3204                 0  \n",
       "3205                 0  \n",
       "3206                 0  \n",
       "3207                27  \n",
       "3208                48  \n",
       "3209                 0  \n",
       "3210                 0  \n",
       "3211                 0  \n",
       "3212                 0  \n",
       "3213                 0  \n",
       "\n",
       "[10 rows x 26 columns]"
      ]
     },
     "metadata": {},
     "output_type": "display_data"
    }
   ],
   "source": [
    "# рассчитаем выручку по каждому пользователю в разрезе месяцов:\n",
    "# вычтем бесплатный лимит из суммарного количества звонков / сообщений / интернет-трафика\n",
    "# остаток умножим на значение из тарифного плана\n",
    "\n",
    "# создадим колонку для расчета дополнительной выручки по каждому виду услуг, без учета абонентской платы за тариф\n",
    "agg_data['messages_revenue'] = 0\n",
    "\n",
    "for i in range(len(agg_data['user_id'])): # создадим цикл для обработки каждой строки датасета по индексу\n",
    "    if (agg_data.loc[i,'messages_used'] - agg_data.loc[i,'messages_included']) > 0: # если абонент превысил бесплатный лимит по минутам\n",
    "        agg_data.loc[i,'messages_revenue'] = (\n",
    "            (agg_data.loc[i,'messages_used'] - \n",
    "             agg_data.loc[i,'messages_included']) * \n",
    "            agg_data.loc[i,'rub_per_message']\n",
    "        ) # сумму услуг, превышающую лимит, умножим на ставку из тарифа\n",
    "    else:\n",
    "        agg_data.loc[i,'messages_revenue'] = 0 # если превышения нет, то дополнительной платы не будет\n",
    "\n",
    "# проверим результат\n",
    "display(agg_data.tail(10))"
   ]
  },
  {
   "cell_type": "code",
   "execution_count": 22,
   "metadata": {},
   "outputs": [
    {
     "data": {
      "text/html": [
       "<div>\n",
       "<style scoped>\n",
       "    .dataframe tbody tr th:only-of-type {\n",
       "        vertical-align: middle;\n",
       "    }\n",
       "\n",
       "    .dataframe tbody tr th {\n",
       "        vertical-align: top;\n",
       "    }\n",
       "\n",
       "    .dataframe thead th {\n",
       "        text-align: right;\n",
       "    }\n",
       "</style>\n",
       "<table border=\"1\" class=\"dataframe\">\n",
       "  <thead>\n",
       "    <tr style=\"text-align: right;\">\n",
       "      <th></th>\n",
       "      <th>user_id</th>\n",
       "      <th>month</th>\n",
       "      <th>calls_count</th>\n",
       "      <th>minutes_used</th>\n",
       "      <th>messages_used</th>\n",
       "      <th>mb_used</th>\n",
       "      <th>gb_used</th>\n",
       "      <th>gb_used_rounded</th>\n",
       "      <th>age</th>\n",
       "      <th>churn_date</th>\n",
       "      <th>...</th>\n",
       "      <th>minutes_included</th>\n",
       "      <th>rub_monthly_fee</th>\n",
       "      <th>rub_per_gb</th>\n",
       "      <th>rub_per_message</th>\n",
       "      <th>rub_per_minute</th>\n",
       "      <th>tariff_name</th>\n",
       "      <th>gb_per_month_included</th>\n",
       "      <th>calls_revenue</th>\n",
       "      <th>messages_revenue</th>\n",
       "      <th>traffic_revenue</th>\n",
       "    </tr>\n",
       "  </thead>\n",
       "  <tbody>\n",
       "    <tr>\n",
       "      <th>3204</th>\n",
       "      <td>1498</td>\n",
       "      <td>10</td>\n",
       "      <td>41</td>\n",
       "      <td>247</td>\n",
       "      <td>42</td>\n",
       "      <td>20579.36</td>\n",
       "      <td>20.097031</td>\n",
       "      <td>21</td>\n",
       "      <td>68</td>\n",
       "      <td>2018-10-25</td>\n",
       "      <td>...</td>\n",
       "      <td>500</td>\n",
       "      <td>550</td>\n",
       "      <td>200</td>\n",
       "      <td>3</td>\n",
       "      <td>3</td>\n",
       "      <td>smart</td>\n",
       "      <td>15</td>\n",
       "      <td>0</td>\n",
       "      <td>0</td>\n",
       "      <td>1200</td>\n",
       "    </tr>\n",
       "    <tr>\n",
       "      <th>3205</th>\n",
       "      <td>1499</td>\n",
       "      <td>9</td>\n",
       "      <td>9</td>\n",
       "      <td>70</td>\n",
       "      <td>11</td>\n",
       "      <td>1845.75</td>\n",
       "      <td>1.802490</td>\n",
       "      <td>2</td>\n",
       "      <td>35</td>\n",
       "      <td>NaT</td>\n",
       "      <td>...</td>\n",
       "      <td>500</td>\n",
       "      <td>550</td>\n",
       "      <td>200</td>\n",
       "      <td>3</td>\n",
       "      <td>3</td>\n",
       "      <td>smart</td>\n",
       "      <td>15</td>\n",
       "      <td>0</td>\n",
       "      <td>0</td>\n",
       "      <td>0</td>\n",
       "    </tr>\n",
       "    <tr>\n",
       "      <th>3206</th>\n",
       "      <td>1499</td>\n",
       "      <td>10</td>\n",
       "      <td>68</td>\n",
       "      <td>449</td>\n",
       "      <td>48</td>\n",
       "      <td>17788.51</td>\n",
       "      <td>17.371592</td>\n",
       "      <td>18</td>\n",
       "      <td>35</td>\n",
       "      <td>NaT</td>\n",
       "      <td>...</td>\n",
       "      <td>500</td>\n",
       "      <td>550</td>\n",
       "      <td>200</td>\n",
       "      <td>3</td>\n",
       "      <td>3</td>\n",
       "      <td>smart</td>\n",
       "      <td>15</td>\n",
       "      <td>0</td>\n",
       "      <td>0</td>\n",
       "      <td>600</td>\n",
       "    </tr>\n",
       "    <tr>\n",
       "      <th>3207</th>\n",
       "      <td>1499</td>\n",
       "      <td>11</td>\n",
       "      <td>74</td>\n",
       "      <td>612</td>\n",
       "      <td>59</td>\n",
       "      <td>17963.31</td>\n",
       "      <td>17.542295</td>\n",
       "      <td>18</td>\n",
       "      <td>35</td>\n",
       "      <td>NaT</td>\n",
       "      <td>...</td>\n",
       "      <td>500</td>\n",
       "      <td>550</td>\n",
       "      <td>200</td>\n",
       "      <td>3</td>\n",
       "      <td>3</td>\n",
       "      <td>smart</td>\n",
       "      <td>15</td>\n",
       "      <td>336</td>\n",
       "      <td>27</td>\n",
       "      <td>600</td>\n",
       "    </tr>\n",
       "    <tr>\n",
       "      <th>3208</th>\n",
       "      <td>1499</td>\n",
       "      <td>12</td>\n",
       "      <td>69</td>\n",
       "      <td>492</td>\n",
       "      <td>66</td>\n",
       "      <td>13055.58</td>\n",
       "      <td>12.749590</td>\n",
       "      <td>13</td>\n",
       "      <td>35</td>\n",
       "      <td>NaT</td>\n",
       "      <td>...</td>\n",
       "      <td>500</td>\n",
       "      <td>550</td>\n",
       "      <td>200</td>\n",
       "      <td>3</td>\n",
       "      <td>3</td>\n",
       "      <td>smart</td>\n",
       "      <td>15</td>\n",
       "      <td>0</td>\n",
       "      <td>48</td>\n",
       "      <td>0</td>\n",
       "    </tr>\n",
       "    <tr>\n",
       "      <th>3209</th>\n",
       "      <td>1489</td>\n",
       "      <td>8</td>\n",
       "      <td>0</td>\n",
       "      <td>0</td>\n",
       "      <td>17</td>\n",
       "      <td>11050.56</td>\n",
       "      <td>10.791562</td>\n",
       "      <td>11</td>\n",
       "      <td>35</td>\n",
       "      <td>NaT</td>\n",
       "      <td>...</td>\n",
       "      <td>500</td>\n",
       "      <td>550</td>\n",
       "      <td>200</td>\n",
       "      <td>3</td>\n",
       "      <td>3</td>\n",
       "      <td>smart</td>\n",
       "      <td>15</td>\n",
       "      <td>0</td>\n",
       "      <td>0</td>\n",
       "      <td>0</td>\n",
       "    </tr>\n",
       "    <tr>\n",
       "      <th>3210</th>\n",
       "      <td>1489</td>\n",
       "      <td>9</td>\n",
       "      <td>0</td>\n",
       "      <td>0</td>\n",
       "      <td>32</td>\n",
       "      <td>17206.30</td>\n",
       "      <td>16.803027</td>\n",
       "      <td>17</td>\n",
       "      <td>35</td>\n",
       "      <td>NaT</td>\n",
       "      <td>...</td>\n",
       "      <td>500</td>\n",
       "      <td>550</td>\n",
       "      <td>200</td>\n",
       "      <td>3</td>\n",
       "      <td>3</td>\n",
       "      <td>smart</td>\n",
       "      <td>15</td>\n",
       "      <td>0</td>\n",
       "      <td>0</td>\n",
       "      <td>400</td>\n",
       "    </tr>\n",
       "    <tr>\n",
       "      <th>3211</th>\n",
       "      <td>1489</td>\n",
       "      <td>10</td>\n",
       "      <td>0</td>\n",
       "      <td>0</td>\n",
       "      <td>21</td>\n",
       "      <td>19559.44</td>\n",
       "      <td>19.101016</td>\n",
       "      <td>20</td>\n",
       "      <td>35</td>\n",
       "      <td>NaT</td>\n",
       "      <td>...</td>\n",
       "      <td>500</td>\n",
       "      <td>550</td>\n",
       "      <td>200</td>\n",
       "      <td>3</td>\n",
       "      <td>3</td>\n",
       "      <td>smart</td>\n",
       "      <td>15</td>\n",
       "      <td>0</td>\n",
       "      <td>0</td>\n",
       "      <td>1000</td>\n",
       "    </tr>\n",
       "    <tr>\n",
       "      <th>3212</th>\n",
       "      <td>1489</td>\n",
       "      <td>11</td>\n",
       "      <td>0</td>\n",
       "      <td>0</td>\n",
       "      <td>20</td>\n",
       "      <td>17491.56</td>\n",
       "      <td>17.081602</td>\n",
       "      <td>18</td>\n",
       "      <td>35</td>\n",
       "      <td>NaT</td>\n",
       "      <td>...</td>\n",
       "      <td>500</td>\n",
       "      <td>550</td>\n",
       "      <td>200</td>\n",
       "      <td>3</td>\n",
       "      <td>3</td>\n",
       "      <td>smart</td>\n",
       "      <td>15</td>\n",
       "      <td>0</td>\n",
       "      <td>0</td>\n",
       "      <td>600</td>\n",
       "    </tr>\n",
       "    <tr>\n",
       "      <th>3213</th>\n",
       "      <td>1489</td>\n",
       "      <td>12</td>\n",
       "      <td>0</td>\n",
       "      <td>0</td>\n",
       "      <td>35</td>\n",
       "      <td>17322.51</td>\n",
       "      <td>16.916514</td>\n",
       "      <td>17</td>\n",
       "      <td>35</td>\n",
       "      <td>NaT</td>\n",
       "      <td>...</td>\n",
       "      <td>500</td>\n",
       "      <td>550</td>\n",
       "      <td>200</td>\n",
       "      <td>3</td>\n",
       "      <td>3</td>\n",
       "      <td>smart</td>\n",
       "      <td>15</td>\n",
       "      <td>0</td>\n",
       "      <td>0</td>\n",
       "      <td>400</td>\n",
       "    </tr>\n",
       "  </tbody>\n",
       "</table>\n",
       "<p>10 rows × 27 columns</p>\n",
       "</div>"
      ],
      "text/plain": [
       "      user_id  month  calls_count  minutes_used  messages_used   mb_used  \\\n",
       "3204     1498     10           41           247             42  20579.36   \n",
       "3205     1499      9            9            70             11   1845.75   \n",
       "3206     1499     10           68           449             48  17788.51   \n",
       "3207     1499     11           74           612             59  17963.31   \n",
       "3208     1499     12           69           492             66  13055.58   \n",
       "3209     1489      8            0             0             17  11050.56   \n",
       "3210     1489      9            0             0             32  17206.30   \n",
       "3211     1489     10            0             0             21  19559.44   \n",
       "3212     1489     11            0             0             20  17491.56   \n",
       "3213     1489     12            0             0             35  17322.51   \n",
       "\n",
       "        gb_used  gb_used_rounded  age churn_date  ... minutes_included  \\\n",
       "3204  20.097031               21   68 2018-10-25  ...              500   \n",
       "3205   1.802490                2   35        NaT  ...              500   \n",
       "3206  17.371592               18   35        NaT  ...              500   \n",
       "3207  17.542295               18   35        NaT  ...              500   \n",
       "3208  12.749590               13   35        NaT  ...              500   \n",
       "3209  10.791562               11   35        NaT  ...              500   \n",
       "3210  16.803027               17   35        NaT  ...              500   \n",
       "3211  19.101016               20   35        NaT  ...              500   \n",
       "3212  17.081602               18   35        NaT  ...              500   \n",
       "3213  16.916514               17   35        NaT  ...              500   \n",
       "\n",
       "     rub_monthly_fee rub_per_gb rub_per_message rub_per_minute  tariff_name  \\\n",
       "3204             550        200               3              3        smart   \n",
       "3205             550        200               3              3        smart   \n",
       "3206             550        200               3              3        smart   \n",
       "3207             550        200               3              3        smart   \n",
       "3208             550        200               3              3        smart   \n",
       "3209             550        200               3              3        smart   \n",
       "3210             550        200               3              3        smart   \n",
       "3211             550        200               3              3        smart   \n",
       "3212             550        200               3              3        smart   \n",
       "3213             550        200               3              3        smart   \n",
       "\n",
       "      gb_per_month_included  calls_revenue  messages_revenue  traffic_revenue  \n",
       "3204                     15              0                 0             1200  \n",
       "3205                     15              0                 0                0  \n",
       "3206                     15              0                 0              600  \n",
       "3207                     15            336                27              600  \n",
       "3208                     15              0                48                0  \n",
       "3209                     15              0                 0                0  \n",
       "3210                     15              0                 0              400  \n",
       "3211                     15              0                 0             1000  \n",
       "3212                     15              0                 0              600  \n",
       "3213                     15              0                 0              400  \n",
       "\n",
       "[10 rows x 27 columns]"
      ]
     },
     "metadata": {},
     "output_type": "display_data"
    }
   ],
   "source": [
    "# рассчитаем выручку по каждому пользователю в разрезе месяцов:\n",
    "# вычтем бесплатный лимит из суммарного количества звонков / сообщений / интернет-трафика\n",
    "# остаток умножим на значение из тарифного плана\n",
    "\n",
    "# создадим колонку для расчета дополнительной выручки по каждому виду услуг, без учета абонентской платы за тариф\n",
    "agg_data['traffic_revenue'] = 0\n",
    "\n",
    "for i in range(len(agg_data['user_id'])): # создадим цикл для обработки каждой строки датасета по индексу\n",
    "    if (agg_data.loc[i,'gb_used_rounded'] - agg_data.loc[i,'gb_per_month_included']) > 0: # если абонент превысил бесплатный лимит по минутам\n",
    "        agg_data.loc[i,'traffic_revenue'] = (\n",
    "            (agg_data.loc[i,'gb_used_rounded'] - \n",
    "             agg_data.loc[i,'gb_per_month_included']) * \n",
    "            agg_data.loc[i,'rub_per_gb']\n",
    "        ) # сумму услуг, превышающую лимит, умножим на ставку из тарифа\n",
    "    else:\n",
    "        agg_data.loc[i,'traffic_revenue'] = 0 # если превышения нет, то дополнительной платы не будет\n",
    "\n",
    "# проверим результат\n",
    "display(agg_data.tail(10))"
   ]
  },
  {
   "cell_type": "code",
   "execution_count": 23,
   "metadata": {},
   "outputs": [
    {
     "data": {
      "text/html": [
       "<div>\n",
       "<style scoped>\n",
       "    .dataframe tbody tr th:only-of-type {\n",
       "        vertical-align: middle;\n",
       "    }\n",
       "\n",
       "    .dataframe tbody tr th {\n",
       "        vertical-align: top;\n",
       "    }\n",
       "\n",
       "    .dataframe thead th {\n",
       "        text-align: right;\n",
       "    }\n",
       "</style>\n",
       "<table border=\"1\" class=\"dataframe\">\n",
       "  <thead>\n",
       "    <tr style=\"text-align: right;\">\n",
       "      <th></th>\n",
       "      <th>user_id</th>\n",
       "      <th>month</th>\n",
       "      <th>calls_count</th>\n",
       "      <th>minutes_used</th>\n",
       "      <th>messages_used</th>\n",
       "      <th>mb_used</th>\n",
       "      <th>gb_used</th>\n",
       "      <th>gb_used_rounded</th>\n",
       "      <th>age</th>\n",
       "      <th>churn_date</th>\n",
       "      <th>...</th>\n",
       "      <th>rub_monthly_fee</th>\n",
       "      <th>rub_per_gb</th>\n",
       "      <th>rub_per_message</th>\n",
       "      <th>rub_per_minute</th>\n",
       "      <th>tariff_name</th>\n",
       "      <th>gb_per_month_included</th>\n",
       "      <th>calls_revenue</th>\n",
       "      <th>messages_revenue</th>\n",
       "      <th>traffic_revenue</th>\n",
       "      <th>total_revenue</th>\n",
       "    </tr>\n",
       "  </thead>\n",
       "  <tbody>\n",
       "    <tr>\n",
       "      <th>3204</th>\n",
       "      <td>1498</td>\n",
       "      <td>10</td>\n",
       "      <td>41</td>\n",
       "      <td>247</td>\n",
       "      <td>42</td>\n",
       "      <td>20579.36</td>\n",
       "      <td>20.097031</td>\n",
       "      <td>21</td>\n",
       "      <td>68</td>\n",
       "      <td>2018-10-25</td>\n",
       "      <td>...</td>\n",
       "      <td>550</td>\n",
       "      <td>200</td>\n",
       "      <td>3</td>\n",
       "      <td>3</td>\n",
       "      <td>smart</td>\n",
       "      <td>15</td>\n",
       "      <td>0</td>\n",
       "      <td>0</td>\n",
       "      <td>1200</td>\n",
       "      <td>1750</td>\n",
       "    </tr>\n",
       "    <tr>\n",
       "      <th>3205</th>\n",
       "      <td>1499</td>\n",
       "      <td>9</td>\n",
       "      <td>9</td>\n",
       "      <td>70</td>\n",
       "      <td>11</td>\n",
       "      <td>1845.75</td>\n",
       "      <td>1.802490</td>\n",
       "      <td>2</td>\n",
       "      <td>35</td>\n",
       "      <td>NaT</td>\n",
       "      <td>...</td>\n",
       "      <td>550</td>\n",
       "      <td>200</td>\n",
       "      <td>3</td>\n",
       "      <td>3</td>\n",
       "      <td>smart</td>\n",
       "      <td>15</td>\n",
       "      <td>0</td>\n",
       "      <td>0</td>\n",
       "      <td>0</td>\n",
       "      <td>550</td>\n",
       "    </tr>\n",
       "    <tr>\n",
       "      <th>3206</th>\n",
       "      <td>1499</td>\n",
       "      <td>10</td>\n",
       "      <td>68</td>\n",
       "      <td>449</td>\n",
       "      <td>48</td>\n",
       "      <td>17788.51</td>\n",
       "      <td>17.371592</td>\n",
       "      <td>18</td>\n",
       "      <td>35</td>\n",
       "      <td>NaT</td>\n",
       "      <td>...</td>\n",
       "      <td>550</td>\n",
       "      <td>200</td>\n",
       "      <td>3</td>\n",
       "      <td>3</td>\n",
       "      <td>smart</td>\n",
       "      <td>15</td>\n",
       "      <td>0</td>\n",
       "      <td>0</td>\n",
       "      <td>600</td>\n",
       "      <td>1150</td>\n",
       "    </tr>\n",
       "    <tr>\n",
       "      <th>3207</th>\n",
       "      <td>1499</td>\n",
       "      <td>11</td>\n",
       "      <td>74</td>\n",
       "      <td>612</td>\n",
       "      <td>59</td>\n",
       "      <td>17963.31</td>\n",
       "      <td>17.542295</td>\n",
       "      <td>18</td>\n",
       "      <td>35</td>\n",
       "      <td>NaT</td>\n",
       "      <td>...</td>\n",
       "      <td>550</td>\n",
       "      <td>200</td>\n",
       "      <td>3</td>\n",
       "      <td>3</td>\n",
       "      <td>smart</td>\n",
       "      <td>15</td>\n",
       "      <td>336</td>\n",
       "      <td>27</td>\n",
       "      <td>600</td>\n",
       "      <td>1513</td>\n",
       "    </tr>\n",
       "    <tr>\n",
       "      <th>3208</th>\n",
       "      <td>1499</td>\n",
       "      <td>12</td>\n",
       "      <td>69</td>\n",
       "      <td>492</td>\n",
       "      <td>66</td>\n",
       "      <td>13055.58</td>\n",
       "      <td>12.749590</td>\n",
       "      <td>13</td>\n",
       "      <td>35</td>\n",
       "      <td>NaT</td>\n",
       "      <td>...</td>\n",
       "      <td>550</td>\n",
       "      <td>200</td>\n",
       "      <td>3</td>\n",
       "      <td>3</td>\n",
       "      <td>smart</td>\n",
       "      <td>15</td>\n",
       "      <td>0</td>\n",
       "      <td>48</td>\n",
       "      <td>0</td>\n",
       "      <td>598</td>\n",
       "    </tr>\n",
       "    <tr>\n",
       "      <th>3209</th>\n",
       "      <td>1489</td>\n",
       "      <td>8</td>\n",
       "      <td>0</td>\n",
       "      <td>0</td>\n",
       "      <td>17</td>\n",
       "      <td>11050.56</td>\n",
       "      <td>10.791562</td>\n",
       "      <td>11</td>\n",
       "      <td>35</td>\n",
       "      <td>NaT</td>\n",
       "      <td>...</td>\n",
       "      <td>550</td>\n",
       "      <td>200</td>\n",
       "      <td>3</td>\n",
       "      <td>3</td>\n",
       "      <td>smart</td>\n",
       "      <td>15</td>\n",
       "      <td>0</td>\n",
       "      <td>0</td>\n",
       "      <td>0</td>\n",
       "      <td>550</td>\n",
       "    </tr>\n",
       "    <tr>\n",
       "      <th>3210</th>\n",
       "      <td>1489</td>\n",
       "      <td>9</td>\n",
       "      <td>0</td>\n",
       "      <td>0</td>\n",
       "      <td>32</td>\n",
       "      <td>17206.30</td>\n",
       "      <td>16.803027</td>\n",
       "      <td>17</td>\n",
       "      <td>35</td>\n",
       "      <td>NaT</td>\n",
       "      <td>...</td>\n",
       "      <td>550</td>\n",
       "      <td>200</td>\n",
       "      <td>3</td>\n",
       "      <td>3</td>\n",
       "      <td>smart</td>\n",
       "      <td>15</td>\n",
       "      <td>0</td>\n",
       "      <td>0</td>\n",
       "      <td>400</td>\n",
       "      <td>950</td>\n",
       "    </tr>\n",
       "    <tr>\n",
       "      <th>3211</th>\n",
       "      <td>1489</td>\n",
       "      <td>10</td>\n",
       "      <td>0</td>\n",
       "      <td>0</td>\n",
       "      <td>21</td>\n",
       "      <td>19559.44</td>\n",
       "      <td>19.101016</td>\n",
       "      <td>20</td>\n",
       "      <td>35</td>\n",
       "      <td>NaT</td>\n",
       "      <td>...</td>\n",
       "      <td>550</td>\n",
       "      <td>200</td>\n",
       "      <td>3</td>\n",
       "      <td>3</td>\n",
       "      <td>smart</td>\n",
       "      <td>15</td>\n",
       "      <td>0</td>\n",
       "      <td>0</td>\n",
       "      <td>1000</td>\n",
       "      <td>1550</td>\n",
       "    </tr>\n",
       "    <tr>\n",
       "      <th>3212</th>\n",
       "      <td>1489</td>\n",
       "      <td>11</td>\n",
       "      <td>0</td>\n",
       "      <td>0</td>\n",
       "      <td>20</td>\n",
       "      <td>17491.56</td>\n",
       "      <td>17.081602</td>\n",
       "      <td>18</td>\n",
       "      <td>35</td>\n",
       "      <td>NaT</td>\n",
       "      <td>...</td>\n",
       "      <td>550</td>\n",
       "      <td>200</td>\n",
       "      <td>3</td>\n",
       "      <td>3</td>\n",
       "      <td>smart</td>\n",
       "      <td>15</td>\n",
       "      <td>0</td>\n",
       "      <td>0</td>\n",
       "      <td>600</td>\n",
       "      <td>1150</td>\n",
       "    </tr>\n",
       "    <tr>\n",
       "      <th>3213</th>\n",
       "      <td>1489</td>\n",
       "      <td>12</td>\n",
       "      <td>0</td>\n",
       "      <td>0</td>\n",
       "      <td>35</td>\n",
       "      <td>17322.51</td>\n",
       "      <td>16.916514</td>\n",
       "      <td>17</td>\n",
       "      <td>35</td>\n",
       "      <td>NaT</td>\n",
       "      <td>...</td>\n",
       "      <td>550</td>\n",
       "      <td>200</td>\n",
       "      <td>3</td>\n",
       "      <td>3</td>\n",
       "      <td>smart</td>\n",
       "      <td>15</td>\n",
       "      <td>0</td>\n",
       "      <td>0</td>\n",
       "      <td>400</td>\n",
       "      <td>950</td>\n",
       "    </tr>\n",
       "  </tbody>\n",
       "</table>\n",
       "<p>10 rows × 28 columns</p>\n",
       "</div>"
      ],
      "text/plain": [
       "      user_id  month  calls_count  minutes_used  messages_used   mb_used  \\\n",
       "3204     1498     10           41           247             42  20579.36   \n",
       "3205     1499      9            9            70             11   1845.75   \n",
       "3206     1499     10           68           449             48  17788.51   \n",
       "3207     1499     11           74           612             59  17963.31   \n",
       "3208     1499     12           69           492             66  13055.58   \n",
       "3209     1489      8            0             0             17  11050.56   \n",
       "3210     1489      9            0             0             32  17206.30   \n",
       "3211     1489     10            0             0             21  19559.44   \n",
       "3212     1489     11            0             0             20  17491.56   \n",
       "3213     1489     12            0             0             35  17322.51   \n",
       "\n",
       "        gb_used  gb_used_rounded  age churn_date  ... rub_monthly_fee  \\\n",
       "3204  20.097031               21   68 2018-10-25  ...             550   \n",
       "3205   1.802490                2   35        NaT  ...             550   \n",
       "3206  17.371592               18   35        NaT  ...             550   \n",
       "3207  17.542295               18   35        NaT  ...             550   \n",
       "3208  12.749590               13   35        NaT  ...             550   \n",
       "3209  10.791562               11   35        NaT  ...             550   \n",
       "3210  16.803027               17   35        NaT  ...             550   \n",
       "3211  19.101016               20   35        NaT  ...             550   \n",
       "3212  17.081602               18   35        NaT  ...             550   \n",
       "3213  16.916514               17   35        NaT  ...             550   \n",
       "\n",
       "     rub_per_gb rub_per_message rub_per_minute tariff_name  \\\n",
       "3204        200               3              3       smart   \n",
       "3205        200               3              3       smart   \n",
       "3206        200               3              3       smart   \n",
       "3207        200               3              3       smart   \n",
       "3208        200               3              3       smart   \n",
       "3209        200               3              3       smart   \n",
       "3210        200               3              3       smart   \n",
       "3211        200               3              3       smart   \n",
       "3212        200               3              3       smart   \n",
       "3213        200               3              3       smart   \n",
       "\n",
       "      gb_per_month_included  calls_revenue  messages_revenue  traffic_revenue  \\\n",
       "3204                     15              0                 0             1200   \n",
       "3205                     15              0                 0                0   \n",
       "3206                     15              0                 0              600   \n",
       "3207                     15            336                27              600   \n",
       "3208                     15              0                48                0   \n",
       "3209                     15              0                 0                0   \n",
       "3210                     15              0                 0              400   \n",
       "3211                     15              0                 0             1000   \n",
       "3212                     15              0                 0              600   \n",
       "3213                     15              0                 0              400   \n",
       "\n",
       "      total_revenue  \n",
       "3204           1750  \n",
       "3205            550  \n",
       "3206           1150  \n",
       "3207           1513  \n",
       "3208            598  \n",
       "3209            550  \n",
       "3210            950  \n",
       "3211           1550  \n",
       "3212           1150  \n",
       "3213            950  \n",
       "\n",
       "[10 rows x 28 columns]"
      ]
     },
     "metadata": {},
     "output_type": "display_data"
    }
   ],
   "source": [
    "# сложим абонентскую плату и плату за превышение тарифа по услугам\n",
    "agg_data['total_revenue'] = (\n",
    "    agg_data['calls_revenue'] +\n",
    "    agg_data['messages_revenue'] +\n",
    "    agg_data['traffic_revenue'] +\n",
    "    agg_data['rub_monthly_fee']\n",
    ")\n",
    "\n",
    "# проверим результат\n",
    "display(agg_data.tail(10))"
   ]
  },
  {
   "cell_type": "markdown",
   "metadata": {},
   "source": [
    "## [Анализ данных](#start2)\n",
    "<a id=\"analisys\"></a>"
   ]
  },
  {
   "cell_type": "markdown",
   "metadata": {},
   "source": [
    "В рамках данного шага мы опишем поведение клиентов оператора, исходя из выборки. Определим, сколько минут разговора, сколько сообщений и какой объём интернет-трафика требуется пользователям каждого тарифа в месяц? Посчитаем среднее количество, дисперсию и стандартное отклонение. Построим гистограммы. Опишем распределения."
   ]
  },
  {
   "cell_type": "code",
   "execution_count": 24,
   "metadata": {},
   "outputs": [
    {
     "name": "stdout",
     "output_type": "stream",
     "text": [
      "<class 'pandas.core.frame.DataFrame'>\n",
      "RangeIndex: 3214 entries, 0 to 3213\n",
      "Data columns (total 28 columns):\n",
      " #   Column                 Non-Null Count  Dtype         \n",
      "---  ------                 --------------  -----         \n",
      " 0   user_id                3214 non-null   int64         \n",
      " 1   month                  3214 non-null   int64         \n",
      " 2   calls_count            3214 non-null   int64         \n",
      " 3   minutes_used           3214 non-null   int64         \n",
      " 4   messages_used          3214 non-null   int64         \n",
      " 5   mb_used                3203 non-null   float64       \n",
      " 6   gb_used                3203 non-null   float64       \n",
      " 7   gb_used_rounded        3214 non-null   int64         \n",
      " 8   age                    3214 non-null   int64         \n",
      " 9   churn_date             187 non-null    datetime64[ns]\n",
      " 10  city                   3214 non-null   object        \n",
      " 11  first_name             3214 non-null   object        \n",
      " 12  last_name              3214 non-null   object        \n",
      " 13  reg_date               3214 non-null   datetime64[ns]\n",
      " 14  tariff                 3214 non-null   object        \n",
      " 15  messages_included      3214 non-null   int64         \n",
      " 16  mb_per_month_included  3214 non-null   int64         \n",
      " 17  minutes_included       3214 non-null   int64         \n",
      " 18  rub_monthly_fee        3214 non-null   int64         \n",
      " 19  rub_per_gb             3214 non-null   int64         \n",
      " 20  rub_per_message        3214 non-null   int64         \n",
      " 21  rub_per_minute         3214 non-null   int64         \n",
      " 22  tariff_name            3214 non-null   object        \n",
      " 23  gb_per_month_included  3214 non-null   int64         \n",
      " 24  calls_revenue          3214 non-null   int64         \n",
      " 25  messages_revenue       3214 non-null   int64         \n",
      " 26  traffic_revenue        3214 non-null   int64         \n",
      " 27  total_revenue          3214 non-null   int64         \n",
      "dtypes: datetime64[ns](2), float64(2), int64(19), object(5)\n",
      "memory usage: 703.2+ KB\n"
     ]
    },
    {
     "data": {
      "text/plain": [
       "None"
      ]
     },
     "metadata": {},
     "output_type": "display_data"
    },
    {
     "name": "stdout",
     "output_type": "stream",
     "text": [
      "<class 'pandas.core.frame.DataFrame'>\n",
      "RangeIndex: 3214 entries, 0 to 3213\n",
      "Data columns (total 16 columns):\n",
      " #   Column            Non-Null Count  Dtype         \n",
      "---  ------            --------------  -----         \n",
      " 0   user_id           3214 non-null   int64         \n",
      " 1   month             3214 non-null   int64         \n",
      " 2   calls_count       3214 non-null   int64         \n",
      " 3   minutes_used      3214 non-null   int64         \n",
      " 4   messages_used     3214 non-null   int64         \n",
      " 5   gb_used_rounded   3214 non-null   int64         \n",
      " 6   age               3214 non-null   int64         \n",
      " 7   churn_date        187 non-null    datetime64[ns]\n",
      " 8   city              3214 non-null   object        \n",
      " 9   reg_date          3214 non-null   datetime64[ns]\n",
      " 10  tariff            3214 non-null   object        \n",
      " 11  tariff_name       3214 non-null   object        \n",
      " 12  calls_revenue     3214 non-null   int64         \n",
      " 13  messages_revenue  3214 non-null   int64         \n",
      " 14  traffic_revenue   3214 non-null   int64         \n",
      " 15  total_revenue     3214 non-null   int64         \n",
      "dtypes: datetime64[ns](2), int64(11), object(3)\n",
      "memory usage: 401.9+ KB\n"
     ]
    },
    {
     "data": {
      "text/plain": [
       "None"
      ]
     },
     "metadata": {},
     "output_type": "display_data"
    }
   ],
   "source": [
    "# чтобы упростить работу с таблицей, вынесем полезные колонки в отдельный датасет\n",
    "display(agg_data.info())\n",
    "clean_agg_data = agg_data.drop(\n",
    "    ['mb_used', \n",
    "     'gb_used', \n",
    "     'messages_included', \n",
    "     'mb_per_month_included', \n",
    "     'minutes_included', \n",
    "     'rub_monthly_fee', \n",
    "     'rub_per_gb', \n",
    "     'rub_per_message', \n",
    "     'rub_per_minute', \n",
    "     'gb_per_month_included', \n",
    "     'first_name', \n",
    "     'last_name'\n",
    "    ], axis=1\n",
    ")\n",
    "\n",
    "display(clean_agg_data.info())"
   ]
  },
  {
   "cell_type": "markdown",
   "metadata": {},
   "source": [
    "### [Анализ звонков](#start2)\n",
    "<a id=\"calls_analisys\"></a>"
   ]
  },
  {
   "cell_type": "code",
   "execution_count": 25,
   "metadata": {},
   "outputs": [
    {
     "data": {
      "image/png": "[encoded data removed]",
      "text/plain": [
       "<Figure size 432x288 with 1 Axes>"
      ]
     },
     "metadata": {
      "needs_background": "light"
     },
     "output_type": "display_data"
    },
    {
     "data": {
      "image/png": "[encoded data removed]",
      "text/plain": [
       "<Figure size 432x288 with 1 Axes>"
      ]
     },
     "metadata": {
      "needs_background": "light"
     },
     "output_type": "display_data"
    },
    {
     "data": {
      "image/png": "[encoded data removed]",
      "text/plain": [
       "<Figure size 432x288 with 1 Axes>"
      ]
     },
     "metadata": {
      "needs_background": "light"
     },
     "output_type": "display_data"
    }
   ],
   "source": [
    "# построим гистограмму для всего множества значений объема потребления услуги\n",
    "clean_agg_data['minutes_used'].hist(bins=50)\n",
    "plt.show()\n",
    "\n",
    "# построим гистограмму отдельно для тарифа smart\n",
    "clean_agg_data.query('tariff == \"smart\"')['minutes_used'].hist(bins=50, label='smart')\n",
    "plt.show()\n",
    "\n",
    "# построим гистограмму отдельно для тарифа ultra\n",
    "clean_agg_data.query('tariff == \"ultra\"')['minutes_used'].hist(bins=50)\n",
    "plt.show()"
   ]
  },
  {
   "cell_type": "code",
   "execution_count": 26,
   "metadata": {},
   "outputs": [
    {
     "name": "stdout",
     "output_type": "stream",
     "text": [
      "Вся выборка\n",
      "Среднее 451.2448662103298\n",
      "Дисперсия 58520.43768761049\n",
      "Стандартное отклонение 241.90997847879382\n",
      "\n",
      "smart\n",
      "Среднее 417.9349484073576\n",
      "Дисперсия 36219.31578434428\n",
      "Стандартное отклонение 190.31372988921288\n",
      "\n",
      "ultra\n",
      "Среднее 526.6233502538071\n",
      "Дисперсия 100873.63339730098\n",
      "Стандартное отклонение 317.6060978591264\n"
     ]
    }
   ],
   "source": [
    "# рассчитаем среднее, дисперсию и стандартное отклонение для всей выборки и кажого тарифа в отдельности\n",
    "print(f'Вся выборка')\n",
    "print(f'Среднее {clean_agg_data[\"minutes_used\"].mean()}')\n",
    "print(f'Дисперсия {np.var(clean_agg_data[\"minutes_used\"], ddof=1)}')\n",
    "print(f'Стандартное отклонение {np.std(clean_agg_data[\"minutes_used\"], ddof=1)}')\n",
    "print()\n",
    "\n",
    "print(f'smart')\n",
    "smart_mean_minutes = clean_agg_data.query('tariff == \"smart\"')['minutes_used'].mean()\n",
    "print(f'Среднее {smart_mean_minutes}')\n",
    "smart_var_minutes = np.var(clean_agg_data.query('tariff == \"smart\"')['minutes_used'], ddof=1)\n",
    "print(f'Дисперсия {smart_var_minutes}')\n",
    "smart_std_minutes = np.std(clean_agg_data.query('tariff == \"smart\"')['minutes_used'], ddof=1)\n",
    "print(f'Стандартное отклонение {smart_std_minutes}')\n",
    "print()\n",
    "\n",
    "print(f'ultra')\n",
    "ultra_mean_minutes = clean_agg_data.query('tariff == \"ultra\"')['minutes_used'].mean()\n",
    "print(f'Среднее {ultra_mean_minutes}')\n",
    "ultra_var_minutes = np.var(clean_agg_data.query('tariff == \"ultra\"')['minutes_used'], ddof=1)\n",
    "print(f'Дисперсия {ultra_var_minutes}')\n",
    "ultra_std_minutes = np.std(clean_agg_data.query('tariff == \"ultra\"')['minutes_used'], ddof=1)\n",
    "print(f'Стандартное отклонение {ultra_std_minutes}')"
   ]
  },
  {
   "cell_type": "code",
   "execution_count": 27,
   "metadata": {},
   "outputs": [
    {
     "data": {
      "image/png": "[encoded data removed]",
      "text/plain": [
       "<Figure size 432x288 with 1 Axes>"
      ]
     },
     "metadata": {
      "needs_background": "light"
     },
     "output_type": "display_data"
    }
   ],
   "source": [
    "# посмотрим на динамику среднего значения по месяцам по каждому тарифу\n",
    "clean_agg_data.pivot_table(\n",
    "    index = 'month', \n",
    "    columns = 'tariff',\n",
    "    values = 'minutes_used',\n",
    "    aggfunc = 'mean'\n",
    ").plot(title='mean minutes used', style='o-')\n",
    "plt.show()"
   ]
  },
  {
   "cell_type": "markdown",
   "metadata": {},
   "source": [
    "**Вывод**\n",
    "\n",
    "1. Потраченные минуты имеют нормальное распределение как по общей выборке, так и по каждому тарифу в отдельности. По всем выборкам присутсвует скошенность вправо.\n",
    "2. Среднее ежемесячное потребление на тарифе ultra стабильно больше, чем на тарифе smart.\n",
    "3. Дисперсия и стандартное отклонение значений на тарифе ultra значительно выше. Ежемесячное использование более волатильное, чем на тарифе smart.\n",
    "4. По обоим тарифам наблюдается рост среднемесячного использования минут от начала года к концу."
   ]
  },
  {
   "cell_type": "markdown",
   "metadata": {},
   "source": [
    "### [Анализ сообщений](#start2)\n",
    "<a id=\"messages_analisys\"></a>"
   ]
  },
  {
   "cell_type": "code",
   "execution_count": 28,
   "metadata": {},
   "outputs": [
    {
     "data": {
      "image/png": "[encoded data removed]",
      "text/plain": [
       "<Figure size 432x288 with 1 Axes>"
      ]
     },
     "metadata": {
      "needs_background": "light"
     },
     "output_type": "display_data"
    },
    {
     "data": {
      "image/png": "[encoded data removed]",
      "text/plain": [
       "<Figure size 432x288 with 1 Axes>"
      ]
     },
     "metadata": {
      "needs_background": "light"
     },
     "output_type": "display_data"
    },
    {
     "data": {
      "image/png": "[encoded data removed]",
      "text/plain": [
       "<Figure size 432x288 with 1 Axes>"
      ]
     },
     "metadata": {
      "needs_background": "light"
     },
     "output_type": "display_data"
    }
   ],
   "source": [
    "# построим гистограмму для всего множества значений объема потребления услуги\n",
    "clean_agg_data['messages_used'].hist(bins=50)\n",
    "plt.ylim(0, 200)\n",
    "plt.show()\n",
    "\n",
    "# построим гистограмму отдельно для тарифа smart\n",
    "clean_agg_data.query('tariff == \"smart\"')['messages_used'].hist(bins=50, label='smart')\n",
    "plt.ylim(0, 100)\n",
    "plt.show()\n",
    "\n",
    "# построим гистограмму отдельно для тарифа ultra\n",
    "clean_agg_data.query('tariff == \"ultra\"')['messages_used'].hist(bins=50)\n",
    "plt.ylim(0, 60)\n",
    "plt.show()"
   ]
  },
  {
   "cell_type": "code",
   "execution_count": 29,
   "metadata": {},
   "outputs": [
    {
     "name": "stdout",
     "output_type": "stream",
     "text": [
      "Вся выборка\n",
      "Среднее 38.28126944617299\n",
      "Дисперсия 1306.7014417742482\n",
      "Стандартное отклонение 36.14832557358982\n",
      "\n",
      "smart\n",
      "Среднее 33.384028712427096\n",
      "Дисперсия 796.8129584480083\n",
      "Стандартное отклонение 28.22787555676141\n",
      "\n",
      "ultra\n",
      "Среднее 49.36345177664975\n",
      "Дисперсия 2285.2661425446736\n",
      "Стандартное отклонение 47.804457350174715\n"
     ]
    }
   ],
   "source": [
    "# рассчитаем среднее, дисперсию и стандартное отклонение для всей выборки и кажого тарифа в отдельности\n",
    "print(f'Вся выборка')\n",
    "print(f'Среднее {clean_agg_data[\"messages_used\"].mean()}')\n",
    "print(f'Дисперсия {np.var(clean_agg_data[\"messages_used\"], ddof=1)}')\n",
    "print(f'Стандартное отклонение {np.std(clean_agg_data[\"messages_used\"], ddof=1)}')\n",
    "print()\n",
    "\n",
    "print(f'smart')\n",
    "smart_mean_messages = clean_agg_data.query('tariff == \"smart\"')['messages_used'].mean()\n",
    "print(f'Среднее {smart_mean_messages}')\n",
    "smart_var_messages = np.var(clean_agg_data.query('tariff == \"smart\"')['messages_used'], ddof=1)\n",
    "print(f'Дисперсия {smart_var_messages}')\n",
    "smart_std_messages = np.std(clean_agg_data.query('tariff == \"smart\"')['messages_used'], ddof=1)\n",
    "print(f'Стандартное отклонение {smart_std_messages}')\n",
    "print()\n",
    "\n",
    "print(f'ultra')\n",
    "ultra_mean_messages = clean_agg_data.query('tariff == \"ultra\"')['messages_used'].mean()\n",
    "print(f'Среднее {ultra_mean_messages}')\n",
    "ultra_var_messages = np.var(clean_agg_data.query('tariff == \"ultra\"')['messages_used'], ddof=1)\n",
    "print(f'Дисперсия {ultra_var_messages}')\n",
    "ultra_std_messages = np.std(clean_agg_data.query('tariff == \"ultra\"')['messages_used'], ddof=1)\n",
    "print(f'Стандартное отклонение {ultra_std_messages}')"
   ]
  },
  {
   "cell_type": "code",
   "execution_count": 30,
   "metadata": {},
   "outputs": [
    {
     "data": {
      "image/png": "[encoded data removed]",
      "text/plain": [
       "<Figure size 432x288 with 1 Axes>"
      ]
     },
     "metadata": {
      "needs_background": "light"
     },
     "output_type": "display_data"
    }
   ],
   "source": [
    "# посмотрим на динамику среднего значения по месяцам по каждому тарифу\n",
    "clean_agg_data.pivot_table(\n",
    "    index = 'month', \n",
    "    columns = 'tariff',\n",
    "    values = 'messages_used',\n",
    "    aggfunc = 'mean'\n",
    ").plot(title='mean messages used', style='o-')\n",
    "plt.show()"
   ]
  },
  {
   "cell_type": "markdown",
   "metadata": {},
   "source": [
    "**Вывод**\n",
    "\n",
    "1. Потраченные сообщения имеют нормальное распределение как по общей выборке, так и по каждому тарифу в отдельности. По всем выборкам присутсвует сильная скошенность вправо.\n",
    "2. Среднее ежемесячное потребление на тарифе ultra больше, чем на тарифе smart. Существенный отрыв начинается с апреля и увеличивается вплоть до декабря.\n",
    "3. Дисперсия и стандартное отклонение значений на тарифе ultra значительно выше. Ежемесячное использование более волатильное, чем на тарифе smart.\n",
    "4. По тарифу ultra наблюдается рост среднемесячного использования сообщений. На тарифе smart количество сообщений почти не меняется."
   ]
  },
  {
   "cell_type": "markdown",
   "metadata": {},
   "source": [
    "### [Анализ трафика](#start2)\n",
    "<a id=\"traffic_analisys\"></a>"
   ]
  },
  {
   "cell_type": "code",
   "execution_count": 31,
   "metadata": {},
   "outputs": [
    {
     "data": {
      "image/png": "[encoded data removed]",
      "text/plain": [
       "<Figure size 432x288 with 1 Axes>"
      ]
     },
     "metadata": {
      "needs_background": "light"
     },
     "output_type": "display_data"
    },
    {
     "data": {
      "image/png": "[encoded data removed]",
      "text/plain": [
       "<Figure size 432x288 with 1 Axes>"
      ]
     },
     "metadata": {
      "needs_background": "light"
     },
     "output_type": "display_data"
    },
    {
     "data": {
      "image/png": "[encoded data removed]",
      "text/plain": [
       "<Figure size 432x288 with 1 Axes>"
      ]
     },
     "metadata": {
      "needs_background": "light"
     },
     "output_type": "display_data"
    }
   ],
   "source": [
    "# построим гистограмму для всего множества значений объема потребления услуги\n",
    "clean_agg_data['gb_used_rounded'].hist(bins=50)\n",
    "# plt.ylim(0, 200)\n",
    "plt.show()\n",
    "\n",
    "# построим гистограмму отдельно для тарифа smart\n",
    "clean_agg_data.query('tariff == \"smart\"')['gb_used_rounded'].hist(bins=50, label='smart')\n",
    "# plt.ylim(0, 100)\n",
    "plt.show()\n",
    "\n",
    "# построим гистограмму отдельно для тарифа ultra\n",
    "clean_agg_data.query('tariff == \"ultra\"')['gb_used_rounded'].hist(bins=50)\n",
    "# plt.ylim(0, 60)\n",
    "plt.show()"
   ]
  },
  {
   "cell_type": "code",
   "execution_count": 32,
   "metadata": {},
   "outputs": [
    {
     "name": "stdout",
     "output_type": "stream",
     "text": [
      "Вся выборка\n",
      "Среднее 17.29900435594275\n",
      "Дисперсия 54.76864513350108\n",
      "Стандартное отклонение 7.400584107589149\n",
      "\n",
      "smart\n",
      "Среднее 16.328847016599372\n",
      "Дисперсия 33.02870517811161\n",
      "Стандартное отклонение 5.7470605685090534\n",
      "\n",
      "ultra\n",
      "Среднее 19.494416243654822\n",
      "Дисперсия 97.09168626965459\n",
      "Стандартное отклонение 9.853511367510293\n"
     ]
    }
   ],
   "source": [
    "# рассчитаем среднее, дисперсию и стандартное отклонение для всей выборки и кажого тарифа в отдельности\n",
    "print(f'Вся выборка')\n",
    "print(f'Среднее {clean_agg_data[\"gb_used_rounded\"].mean()}')\n",
    "print(f'Дисперсия {np.var(clean_agg_data[\"gb_used_rounded\"], ddof=1)}')\n",
    "print(f'Стандартное отклонение {np.std(clean_agg_data[\"gb_used_rounded\"], ddof=1)}')\n",
    "print()\n",
    "\n",
    "print(f'smart')\n",
    "smart_mean_traffic = clean_agg_data.query('tariff == \"smart\"')['gb_used_rounded'].mean()\n",
    "print(f'Среднее {smart_mean_traffic}')\n",
    "smart_var_traffic = np.var(clean_agg_data.query('tariff == \"smart\"')['gb_used_rounded'], ddof=1)\n",
    "print(f'Дисперсия {smart_var_traffic}')\n",
    "smart_std_traffic = np.std(clean_agg_data.query('tariff == \"smart\"')['gb_used_rounded'], ddof=1)\n",
    "print(f'Стандартное отклонение {smart_std_traffic}')\n",
    "print()\n",
    "\n",
    "print(f'ultra')\n",
    "ultra_mean_traffic = clean_agg_data.query('tariff == \"ultra\"')['gb_used_rounded'].mean()\n",
    "print(f'Среднее {ultra_mean_traffic}')\n",
    "ultra_var_traffic = np.var(clean_agg_data.query('tariff == \"ultra\"')['gb_used_rounded'], ddof=1)\n",
    "print(f'Дисперсия {ultra_var_traffic}')\n",
    "ultra_std_traffic = np.std(clean_agg_data.query('tariff == \"ultra\"')['gb_used_rounded'], ddof=1)\n",
    "print(f'Стандартное отклонение {ultra_std_traffic}')"
   ]
  },
  {
   "cell_type": "code",
   "execution_count": 33,
   "metadata": {},
   "outputs": [
    {
     "data": {
      "image/png": "[encoded data removed]",
      "text/plain": [
       "<Figure size 432x288 with 1 Axes>"
      ]
     },
     "metadata": {
      "needs_background": "light"
     },
     "output_type": "display_data"
    }
   ],
   "source": [
    "# посмотрим на динамику среднего значения по месяцам по каждому тарифу\n",
    "clean_agg_data.pivot_table(\n",
    "    index = 'month', \n",
    "    columns = 'tariff',\n",
    "    values = 'gb_used_rounded',\n",
    "    aggfunc = 'mean'\n",
    ").plot(title='mean traffic used', style='o-')\n",
    "plt.show()"
   ]
  },
  {
   "cell_type": "markdown",
   "metadata": {},
   "source": [
    "**Вывод**\n",
    "\n",
    "1. Использованный траффик имеет нормальное распределение как по общей выборке, так и по каждому тарифу в отдельности. Скошенность прослеживается с трудом.\n",
    "2. Среднее ежемесячное потребление на тарифе ultra больше, чем на тарифе smart. Дельта относительно стабильная, разрыв не растет.\n",
    "3. Дисперсия и стандартное отклонение значений на тарифе ultra значительно выше. Ежемесячное использование более волатильное, чем на тарифе smart.\n",
    "4. По обоим тарифам наблюдается рост использования траффика к концу года."
   ]
  },
  {
   "cell_type": "markdown",
   "metadata": {},
   "source": [
    "## [Проверка гипотез](#start2)\n",
    "<a id=\"hypothesys\"></a>"
   ]
  },
  {
   "cell_type": "markdown",
   "metadata": {},
   "source": [
    "На данном шаге проверим две гипотезы:\n",
    "1. средняя выручка пользователей тарифов «Ультра» и «Смарт» различаются;\n",
    "2. средняя выручка пользователей из Москвы отличается от выручки пользователей из других регионов.\n",
    "\n",
    "Поясним:\n",
    "- как мы формулировали нулевую и альтернативную гипотезы;\n",
    "- какой критерий мы использовали для проверки гипотез и почему."
   ]
  },
  {
   "cell_type": "markdown",
   "metadata": {},
   "source": [
    "### [Проверка гипотезы 1](#start2)\n",
    "<a id=\"hypothesys1\"></a>"
   ]
  },
  {
   "cell_type": "markdown",
   "metadata": {},
   "source": [
    "На данном этапе нам необходимо проверить гипотезу о том, различается ли средняя выручка пользователей тарифов Ультра и Смарт. При формулировке нулевой и альтернативной гипотезы учтем, что нулевая должна содержать равенство, а альтернативная, напротив, неравенство.\n",
    "\n",
    "H0 - средняя выручка пользователей тарифов Ультра РАВНО средняя выручка пользователей тарифов Смарт\n",
    "H1 - средняя выручка пользователей тарифов Ультра НЕ РАВНО средняя выручка пользователей тарифов Смарт\n",
    "\n",
    "Для проверки гипотезы мы должны задать уровень значимости и выбрать метод.\n",
    "Уровень значимости alpha зададим на уровне общепринятого значения 5%.\n",
    "В качестве метода проверки выберем `scipy.stats.ttest_ind()`, так как нам необходимо сравнить между собой средние двух генеральных совокупностей на основании выборок из них. Одна совокупность - это пользователи тарифа Ультра, другая - пользователи тарифа Смарт."
   ]
  },
  {
   "cell_type": "code",
   "execution_count": 34,
   "metadata": {},
   "outputs": [
    {
     "name": "stdout",
     "output_type": "stream",
     "text": [
      "p-значение:  4.2606313931076085e-250\n"
     ]
    }
   ],
   "source": [
    "smart_revenue = clean_agg_data.query('tariff == \"smart\"')['total_revenue']\n",
    "ultra_revenue = clean_agg_data.query('tariff == \"ultra\"')['total_revenue']\n",
    "\n",
    "alpha = .05\n",
    "\n",
    "results = st.ttest_ind(\n",
    "    smart_revenue,\n",
    "    ultra_revenue,\n",
    "    equal_var = False\n",
    ")\n",
    "\n",
    "print('p-значение: ', results.pvalue)"
   ]
  },
  {
   "cell_type": "markdown",
   "metadata": {},
   "source": [
    "**Вывод**\n",
    "\n",
    "Полученное значение p-value находится в пределах уровня значимости. Более того, оно ничтожно мало. Это значит, что мы можем отвергнуть нулевую гипотезу. Иными словами, вероятность того, что средняя выручка пользователей тарифа Ультра равна средней выручке пользователей тарифа Смарт крайне мала. А значит средние значения выручки двух тарифов различаются."
   ]
  },
  {
   "cell_type": "markdown",
   "metadata": {},
   "source": [
    "### [Проверка гипотезы 2](#start2)\n",
    "<a id=\"hypothesys2\"></a>"
   ]
  },
  {
   "cell_type": "markdown",
   "metadata": {},
   "source": [
    "На данном этапе нам необходимо проверить гипотезу о том, различается ли средняя выручка пользователей из Москвы и из других регионов. При формулировке нулевой и альтернативной гипотезы учтем, что нулевая должна содержать равенство, а альтернативная, напротив, неравенство.\n",
    "\n",
    "H0 - средняя выручка пользователей из Москвы РАВНО средняя выручка пользователей из регионов\n",
    "H1 - средняя выручка пользователей из Москвы НЕ РАВНО средняя выручка пользователей из регионов\n",
    "\n",
    "Для проверки гипотезы мы должны задать уровень значимости и выбрать метод.\n",
    "Уровень значимости alpha зададим на уровне общепринятого значения 5%.\n",
    "В качестве метода проверки выберем `scipy.stats.ttest_ind()`, так как нам необходимо сравнить между собой средние двух генеральных совокупностей на основании выборок из них. Одна совокупность - это пользователи из Москвы, другая - пользователи из регионов."
   ]
  },
  {
   "cell_type": "code",
   "execution_count": 35,
   "metadata": {},
   "outputs": [
    {
     "name": "stdout",
     "output_type": "stream",
     "text": [
      "p-значение:  0.5257376663729298\n"
     ]
    }
   ],
   "source": [
    "capital_revenue = clean_agg_data.query('city == \"Москва\"')['total_revenue']\n",
    "regions_revenue = clean_agg_data.query('city != \"Москва\"')['total_revenue']\n",
    "\n",
    "alpha = .05\n",
    "\n",
    "results = st.ttest_ind(\n",
    "    capital_revenue,\n",
    "    regions_revenue, \n",
    "    equal_var = False\n",
    ")\n",
    "\n",
    "print('p-значение: ', results.pvalue)"
   ]
  },
  {
   "cell_type": "markdown",
   "metadata": {},
   "source": [
    "**Вывод**\n",
    "\n",
    "Полученное значение p-value превышает уровень значимости. Это значит, что мы не можем отвергнуть нулевую гипотезу. Иными словами, есть достоточно высокая вероятность того, что средняя выручка пользователей из Москвы равна средней выручке пользователей из регионов."
   ]
  },
  {
   "cell_type": "markdown",
   "metadata": {},
   "source": [
    "## [Общий вывод](#start2)\n",
    "<a id=\"conclusion\"></a>"
   ]
  },
  {
   "cell_type": "markdown",
   "metadata": {},
   "source": [
    "В рамках проекта перед нами стояла задача определить, какой из двух тарифов компании Мегалайн наиболее выгодный. Для анализа нам была предоставлена статистика использования тарифов пятиста клинетами компании.\n",
    "\n",
    "В процессе работы с предоставленными данными мы проверили их предмет ошибок и неверных типов данных, объединили несколько исходных таблиц, провели расчеты дополнительных показателей, включая выручку.\n",
    "\n",
    "В рамках анализа данных мы оценили информацию по каждой отдельной услуге в рамках тарифов, определили сходства и различия между тарифами, выявили соотношение величины и динамики выручки.\n",
    "\n",
    "В заключении мы сформулировали и проверили две гипотезы - о равенстве средней выручки между тарифами и о равенстве средней выручки между пользователями из Москвы и из других регионов.\n",
    "\n",
    "По итогу проекта мы можем сказать следующее:\n",
    "- объем пользования услугами в рамках тарифа Ультра больше, чем тарифа Смарт.\n",
    "- динамика пользования услугами между тарифами примерно одинаковая, за исключением сообщений. Пользователи тарифа Ультра активно увеличивают объем использования сообщений.\n",
    "- средняя выручка между тарифами отличается.\n",
    "- на среднюю выручку не влияет то, из какого города пользователь.\n",
    "\n",
    "Для окончательного заключения, какой тариф лучше, нам не хватет данных о средней выручке в разрезе тарифов."
   ]
  },
  {
   "cell_type": "code",
   "execution_count": 36,
   "metadata": {},
   "outputs": [
    {
     "data": {
      "text/html": [
       "<div>\n",
       "<style scoped>\n",
       "    .dataframe tbody tr th:only-of-type {\n",
       "        vertical-align: middle;\n",
       "    }\n",
       "\n",
       "    .dataframe tbody tr th {\n",
       "        vertical-align: top;\n",
       "    }\n",
       "\n",
       "    .dataframe thead th {\n",
       "        text-align: right;\n",
       "    }\n",
       "</style>\n",
       "<table border=\"1\" class=\"dataframe\">\n",
       "  <thead>\n",
       "    <tr style=\"text-align: right;\">\n",
       "      <th></th>\n",
       "      <th>total_revenue</th>\n",
       "    </tr>\n",
       "    <tr>\n",
       "      <th>tariff</th>\n",
       "      <th></th>\n",
       "    </tr>\n",
       "  </thead>\n",
       "  <tbody>\n",
       "    <tr>\n",
       "      <th>smart</th>\n",
       "      <td>1289.973531</td>\n",
       "    </tr>\n",
       "    <tr>\n",
       "      <th>ultra</th>\n",
       "      <td>2070.152284</td>\n",
       "    </tr>\n",
       "  </tbody>\n",
       "</table>\n",
       "</div>"
      ],
      "text/plain": [
       "        total_revenue\n",
       "tariff               \n",
       "smart     1289.973531\n",
       "ultra     2070.152284"
      ]
     },
     "execution_count": 36,
     "metadata": {},
     "output_type": "execute_result"
    }
   ],
   "source": [
    "# найдем среднюю выручку в разрезе тарифов\n",
    "clean_agg_data.pivot_table(index = 'tariff', values = 'total_revenue', aggfunc = 'mean')"
   ]
  },
  {
   "cell_type": "markdown",
   "metadata": {},
   "source": [
    "С учетом вышесказанного, а также принимая во внимание, что средняя выручка по тарифу Ультра в полтора раза больше, чем по тарифу Смарт, делаем вывод, что тариф Ультра более перспективный и прибыльный."
   ]
  }
 ],
 "metadata": {
  "ExecuteTimeLog": [
   {
    "duration": 32,
    "start_time": "2022-05-24T07:12:26.493Z"
   },
   {
    "duration": 1067,
    "start_time": "2022-05-24T08:22:57.702Z"
   },
   {
    "duration": 877,
    "start_time": "2022-05-24T08:38:39.050Z"
   },
   {
    "duration": 469,
    "start_time": "2022-05-24T08:38:46.873Z"
   },
   {
    "duration": 98,
    "start_time": "2022-05-24T08:53:01.551Z"
   },
   {
    "duration": 410,
    "start_time": "2022-05-24T08:56:13.426Z"
   },
   {
    "duration": 437,
    "start_time": "2022-05-24T08:57:52.576Z"
   },
   {
    "duration": 427,
    "start_time": "2022-05-24T08:58:02.897Z"
   },
   {
    "duration": 13,
    "start_time": "2022-05-24T08:59:50.132Z"
   },
   {
    "duration": 9,
    "start_time": "2022-05-24T09:01:36.812Z"
   },
   {
    "duration": 30,
    "start_time": "2022-05-24T09:04:43.453Z"
   },
   {
    "duration": 424,
    "start_time": "2022-05-24T10:02:36.115Z"
   },
   {
    "duration": 11,
    "start_time": "2022-05-24T10:57:23.390Z"
   },
   {
    "duration": 50,
    "start_time": "2022-05-24T10:57:53.178Z"
   },
   {
    "duration": 31,
    "start_time": "2022-05-24T10:58:02.632Z"
   },
   {
    "duration": 11,
    "start_time": "2022-05-24T10:58:45.949Z"
   },
   {
    "duration": 25,
    "start_time": "2022-05-24T11:10:17.951Z"
   },
   {
    "duration": 19,
    "start_time": "2022-05-24T11:26:03.183Z"
   },
   {
    "duration": 21,
    "start_time": "2022-05-24T11:48:58.247Z"
   },
   {
    "duration": 11,
    "start_time": "2022-05-24T11:52:10.408Z"
   },
   {
    "duration": 9,
    "start_time": "2022-05-24T11:52:46.802Z"
   },
   {
    "duration": 13,
    "start_time": "2022-05-24T12:18:34.872Z"
   },
   {
    "duration": 15,
    "start_time": "2022-05-24T12:19:00.716Z"
   },
   {
    "duration": 14,
    "start_time": "2022-05-24T12:19:17.568Z"
   },
   {
    "duration": 3,
    "start_time": "2022-05-24T12:28:29.373Z"
   },
   {
    "duration": 3,
    "start_time": "2022-05-24T12:28:33.637Z"
   },
   {
    "duration": 503,
    "start_time": "2022-05-24T12:28:37.342Z"
   },
   {
    "duration": 37,
    "start_time": "2022-05-24T12:30:44.601Z"
   },
   {
    "duration": 21,
    "start_time": "2022-05-24T12:33:58.442Z"
   },
   {
    "duration": 3,
    "start_time": "2022-05-24T12:34:10.112Z"
   },
   {
    "duration": 427,
    "start_time": "2022-05-24T12:34:10.119Z"
   },
   {
    "duration": 10,
    "start_time": "2022-05-24T12:34:10.548Z"
   },
   {
    "duration": 21,
    "start_time": "2022-05-24T12:34:10.564Z"
   },
   {
    "duration": 18,
    "start_time": "2022-05-24T12:34:10.587Z"
   },
   {
    "duration": 23,
    "start_time": "2022-05-24T12:34:10.607Z"
   },
   {
    "duration": 35,
    "start_time": "2022-05-24T12:34:10.632Z"
   },
   {
    "duration": 20,
    "start_time": "2022-05-24T12:34:10.669Z"
   },
   {
    "duration": 86,
    "start_time": "2022-05-24T12:34:10.691Z"
   },
   {
    "duration": 19,
    "start_time": "2022-05-24T12:39:26.178Z"
   },
   {
    "duration": 20,
    "start_time": "2022-05-24T12:39:37.846Z"
   },
   {
    "duration": 30,
    "start_time": "2022-05-24T12:43:14.198Z"
   },
   {
    "duration": 23,
    "start_time": "2022-05-24T12:44:27.191Z"
   },
   {
    "duration": 21,
    "start_time": "2022-05-24T12:52:03.217Z"
   },
   {
    "duration": 35,
    "start_time": "2022-05-24T13:03:49.051Z"
   },
   {
    "duration": 47,
    "start_time": "2022-05-24T13:04:30.586Z"
   },
   {
    "duration": 43,
    "start_time": "2022-05-24T13:04:53.214Z"
   },
   {
    "duration": 30,
    "start_time": "2022-05-24T13:07:14.440Z"
   },
   {
    "duration": 28,
    "start_time": "2022-05-24T13:07:28.308Z"
   },
   {
    "duration": 85,
    "start_time": "2022-05-24T13:07:37.778Z"
   },
   {
    "duration": 50,
    "start_time": "2022-05-24T13:09:03.156Z"
   },
   {
    "duration": 39,
    "start_time": "2022-05-24T13:13:42.279Z"
   },
   {
    "duration": 54,
    "start_time": "2022-05-24T13:14:05.263Z"
   },
   {
    "duration": 26,
    "start_time": "2022-05-24T13:21:02.913Z"
   },
   {
    "duration": 17,
    "start_time": "2022-05-24T13:21:32.395Z"
   },
   {
    "duration": 17,
    "start_time": "2022-05-24T13:21:57.303Z"
   },
   {
    "duration": 14,
    "start_time": "2022-05-24T13:22:22.601Z"
   },
   {
    "duration": 21,
    "start_time": "2022-05-24T13:22:50.940Z"
   },
   {
    "duration": 16,
    "start_time": "2022-05-24T13:23:05.011Z"
   },
   {
    "duration": 37,
    "start_time": "2022-05-24T13:31:22.924Z"
   },
   {
    "duration": 441,
    "start_time": "2022-05-24T13:40:45.226Z"
   },
   {
    "duration": 52,
    "start_time": "2022-05-24T13:45:13.403Z"
   },
   {
    "duration": 54,
    "start_time": "2022-05-24T13:51:11.798Z"
   },
   {
    "duration": 56,
    "start_time": "2022-05-24T13:52:59.606Z"
   },
   {
    "duration": 42,
    "start_time": "2022-05-24T13:57:50.179Z"
   },
   {
    "duration": 41,
    "start_time": "2022-05-24T13:58:04.077Z"
   },
   {
    "duration": 634,
    "start_time": "2022-05-24T14:04:58.781Z"
   },
   {
    "duration": 608,
    "start_time": "2022-05-24T14:06:08.221Z"
   },
   {
    "duration": 43,
    "start_time": "2022-05-24T14:06:19.330Z"
   },
   {
    "duration": 39,
    "start_time": "2022-05-24T14:06:51.224Z"
   },
   {
    "duration": 57,
    "start_time": "2022-05-24T14:07:14.778Z"
   },
   {
    "duration": 56,
    "start_time": "2022-05-24T14:07:31.595Z"
   },
   {
    "duration": 41,
    "start_time": "2022-05-24T14:07:43.279Z"
   },
   {
    "duration": 52,
    "start_time": "2022-05-24T14:14:54.557Z"
   },
   {
    "duration": 43,
    "start_time": "2022-05-24T14:15:40.442Z"
   },
   {
    "duration": 48,
    "start_time": "2022-05-24T14:19:38.511Z"
   },
   {
    "duration": 37,
    "start_time": "2022-05-24T14:20:15.201Z"
   },
   {
    "duration": 55,
    "start_time": "2022-05-25T04:04:04.972Z"
   },
   {
    "duration": 929,
    "start_time": "2022-05-25T04:04:23.304Z"
   },
   {
    "duration": 1028,
    "start_time": "2022-05-25T04:04:24.235Z"
   },
   {
    "duration": 52,
    "start_time": "2022-05-25T04:04:25.265Z"
   },
   {
    "duration": 0,
    "start_time": "2022-05-25T04:04:25.319Z"
   },
   {
    "duration": 0,
    "start_time": "2022-05-25T04:04:25.321Z"
   },
   {
    "duration": 0,
    "start_time": "2022-05-25T04:04:25.322Z"
   },
   {
    "duration": 0,
    "start_time": "2022-05-25T04:04:25.324Z"
   },
   {
    "duration": 0,
    "start_time": "2022-05-25T04:04:25.325Z"
   },
   {
    "duration": 0,
    "start_time": "2022-05-25T04:04:25.327Z"
   },
   {
    "duration": 0,
    "start_time": "2022-05-25T04:04:25.328Z"
   },
   {
    "duration": 0,
    "start_time": "2022-05-25T04:04:25.329Z"
   },
   {
    "duration": 0,
    "start_time": "2022-05-25T04:04:25.331Z"
   },
   {
    "duration": 0,
    "start_time": "2022-05-25T04:04:25.332Z"
   },
   {
    "duration": 1,
    "start_time": "2022-05-25T04:04:25.333Z"
   },
   {
    "duration": 0,
    "start_time": "2022-05-25T04:04:25.335Z"
   },
   {
    "duration": 10,
    "start_time": "2022-05-25T04:04:38.067Z"
   },
   {
    "duration": 8,
    "start_time": "2022-05-25T04:05:04.829Z"
   },
   {
    "duration": 3,
    "start_time": "2022-05-25T04:05:28.042Z"
   },
   {
    "duration": 447,
    "start_time": "2022-05-25T04:05:29.096Z"
   },
   {
    "duration": 10,
    "start_time": "2022-05-25T04:06:37.762Z"
   },
   {
    "duration": 429,
    "start_time": "2022-05-25T04:08:55.990Z"
   },
   {
    "duration": 3,
    "start_time": "2022-05-25T04:09:01.154Z"
   },
   {
    "duration": 480,
    "start_time": "2022-05-25T04:09:01.159Z"
   },
   {
    "duration": 7,
    "start_time": "2022-05-25T04:09:01.641Z"
   },
   {
    "duration": 0,
    "start_time": "2022-05-25T04:09:01.650Z"
   },
   {
    "duration": 0,
    "start_time": "2022-05-25T04:09:01.651Z"
   },
   {
    "duration": 0,
    "start_time": "2022-05-25T04:09:01.652Z"
   },
   {
    "duration": 0,
    "start_time": "2022-05-25T04:09:01.653Z"
   },
   {
    "duration": 0,
    "start_time": "2022-05-25T04:09:01.654Z"
   },
   {
    "duration": 0,
    "start_time": "2022-05-25T04:09:01.655Z"
   },
   {
    "duration": 0,
    "start_time": "2022-05-25T04:09:01.656Z"
   },
   {
    "duration": 0,
    "start_time": "2022-05-25T04:09:01.657Z"
   },
   {
    "duration": 0,
    "start_time": "2022-05-25T04:09:01.659Z"
   },
   {
    "duration": 0,
    "start_time": "2022-05-25T04:09:01.660Z"
   },
   {
    "duration": 0,
    "start_time": "2022-05-25T04:09:01.661Z"
   },
   {
    "duration": 0,
    "start_time": "2022-05-25T04:09:01.662Z"
   },
   {
    "duration": 3,
    "start_time": "2022-05-25T04:09:56.399Z"
   },
   {
    "duration": 444,
    "start_time": "2022-05-25T04:09:56.406Z"
   },
   {
    "duration": 9,
    "start_time": "2022-05-25T04:09:56.853Z"
   },
   {
    "duration": 0,
    "start_time": "2022-05-25T04:09:56.864Z"
   },
   {
    "duration": 0,
    "start_time": "2022-05-25T04:09:56.865Z"
   },
   {
    "duration": 0,
    "start_time": "2022-05-25T04:09:56.867Z"
   },
   {
    "duration": 0,
    "start_time": "2022-05-25T04:09:56.868Z"
   },
   {
    "duration": 0,
    "start_time": "2022-05-25T04:09:56.870Z"
   },
   {
    "duration": 0,
    "start_time": "2022-05-25T04:09:56.871Z"
   },
   {
    "duration": 0,
    "start_time": "2022-05-25T04:09:56.873Z"
   },
   {
    "duration": 0,
    "start_time": "2022-05-25T04:09:56.874Z"
   },
   {
    "duration": 0,
    "start_time": "2022-05-25T04:09:56.875Z"
   },
   {
    "duration": 0,
    "start_time": "2022-05-25T04:09:56.877Z"
   },
   {
    "duration": 0,
    "start_time": "2022-05-25T04:09:56.878Z"
   },
   {
    "duration": 0,
    "start_time": "2022-05-25T04:09:56.880Z"
   },
   {
    "duration": 3,
    "start_time": "2022-05-25T04:10:54.978Z"
   },
   {
    "duration": 448,
    "start_time": "2022-05-25T04:10:54.983Z"
   },
   {
    "duration": 8,
    "start_time": "2022-05-25T04:10:55.433Z"
   },
   {
    "duration": 0,
    "start_time": "2022-05-25T04:10:55.443Z"
   },
   {
    "duration": 0,
    "start_time": "2022-05-25T04:10:55.444Z"
   },
   {
    "duration": 0,
    "start_time": "2022-05-25T04:10:55.445Z"
   },
   {
    "duration": 0,
    "start_time": "2022-05-25T04:10:55.447Z"
   },
   {
    "duration": 0,
    "start_time": "2022-05-25T04:10:55.447Z"
   },
   {
    "duration": 0,
    "start_time": "2022-05-25T04:10:55.448Z"
   },
   {
    "duration": 0,
    "start_time": "2022-05-25T04:10:55.449Z"
   },
   {
    "duration": 0,
    "start_time": "2022-05-25T04:10:55.450Z"
   },
   {
    "duration": 0,
    "start_time": "2022-05-25T04:10:55.451Z"
   },
   {
    "duration": 0,
    "start_time": "2022-05-25T04:10:55.453Z"
   },
   {
    "duration": 0,
    "start_time": "2022-05-25T04:10:55.454Z"
   },
   {
    "duration": 0,
    "start_time": "2022-05-25T04:10:55.456Z"
   },
   {
    "duration": 8,
    "start_time": "2022-05-25T04:12:25.648Z"
   },
   {
    "duration": 446,
    "start_time": "2022-05-25T04:14:52.466Z"
   },
   {
    "duration": 3,
    "start_time": "2022-05-25T04:15:03.757Z"
   },
   {
    "duration": 414,
    "start_time": "2022-05-25T04:15:03.762Z"
   },
   {
    "duration": 7,
    "start_time": "2022-05-25T04:15:04.178Z"
   },
   {
    "duration": 0,
    "start_time": "2022-05-25T04:15:04.187Z"
   },
   {
    "duration": 0,
    "start_time": "2022-05-25T04:15:04.188Z"
   },
   {
    "duration": 0,
    "start_time": "2022-05-25T04:15:04.189Z"
   },
   {
    "duration": 0,
    "start_time": "2022-05-25T04:15:04.190Z"
   },
   {
    "duration": 0,
    "start_time": "2022-05-25T04:15:04.191Z"
   },
   {
    "duration": 0,
    "start_time": "2022-05-25T04:15:04.192Z"
   },
   {
    "duration": 0,
    "start_time": "2022-05-25T04:15:04.194Z"
   },
   {
    "duration": 0,
    "start_time": "2022-05-25T04:15:04.195Z"
   },
   {
    "duration": 0,
    "start_time": "2022-05-25T04:15:04.196Z"
   },
   {
    "duration": 0,
    "start_time": "2022-05-25T04:15:04.197Z"
   },
   {
    "duration": 0,
    "start_time": "2022-05-25T04:15:04.198Z"
   },
   {
    "duration": 0,
    "start_time": "2022-05-25T04:15:04.199Z"
   },
   {
    "duration": 430,
    "start_time": "2022-05-25T04:16:00.792Z"
   },
   {
    "duration": 2,
    "start_time": "2022-05-25T05:53:13.577Z"
   },
   {
    "duration": 458,
    "start_time": "2022-05-25T05:53:13.581Z"
   },
   {
    "duration": 8,
    "start_time": "2022-05-25T05:53:14.040Z"
   },
   {
    "duration": 0,
    "start_time": "2022-05-25T05:53:14.050Z"
   },
   {
    "duration": 0,
    "start_time": "2022-05-25T05:53:14.051Z"
   },
   {
    "duration": 0,
    "start_time": "2022-05-25T05:53:14.052Z"
   },
   {
    "duration": 0,
    "start_time": "2022-05-25T05:53:14.053Z"
   },
   {
    "duration": 0,
    "start_time": "2022-05-25T05:53:14.054Z"
   },
   {
    "duration": 0,
    "start_time": "2022-05-25T05:53:14.055Z"
   },
   {
    "duration": 0,
    "start_time": "2022-05-25T05:53:14.057Z"
   },
   {
    "duration": 0,
    "start_time": "2022-05-25T05:53:14.058Z"
   },
   {
    "duration": 0,
    "start_time": "2022-05-25T05:53:14.059Z"
   },
   {
    "duration": 0,
    "start_time": "2022-05-25T05:53:14.060Z"
   },
   {
    "duration": 0,
    "start_time": "2022-05-25T05:53:14.061Z"
   },
   {
    "duration": 0,
    "start_time": "2022-05-25T05:53:14.062Z"
   },
   {
    "duration": 1115,
    "start_time": "2022-05-25T12:25:50.005Z"
   },
   {
    "duration": 7,
    "start_time": "2022-05-25T12:25:51.122Z"
   },
   {
    "duration": 0,
    "start_time": "2022-05-25T12:25:51.131Z"
   },
   {
    "duration": 0,
    "start_time": "2022-05-25T12:25:51.132Z"
   },
   {
    "duration": 0,
    "start_time": "2022-05-25T12:25:51.133Z"
   },
   {
    "duration": 0,
    "start_time": "2022-05-25T12:25:51.134Z"
   },
   {
    "duration": 0,
    "start_time": "2022-05-25T12:25:51.135Z"
   },
   {
    "duration": 0,
    "start_time": "2022-05-25T12:25:51.136Z"
   },
   {
    "duration": 0,
    "start_time": "2022-05-25T12:25:51.137Z"
   },
   {
    "duration": 0,
    "start_time": "2022-05-25T12:25:51.138Z"
   },
   {
    "duration": 0,
    "start_time": "2022-05-25T12:25:51.140Z"
   },
   {
    "duration": 0,
    "start_time": "2022-05-25T12:25:51.141Z"
   },
   {
    "duration": 0,
    "start_time": "2022-05-25T12:25:51.142Z"
   },
   {
    "duration": 0,
    "start_time": "2022-05-25T12:25:51.143Z"
   },
   {
    "duration": 0,
    "start_time": "2022-05-25T12:25:51.144Z"
   },
   {
    "duration": 0,
    "start_time": "2022-05-25T12:25:51.145Z"
   },
   {
    "duration": 997,
    "start_time": "2022-05-25T12:27:03.254Z"
   },
   {
    "duration": 4,
    "start_time": "2022-05-25T12:27:10.415Z"
   },
   {
    "duration": 487,
    "start_time": "2022-05-25T12:27:10.421Z"
   },
   {
    "duration": 3,
    "start_time": "2022-05-25T12:27:10.909Z"
   },
   {
    "duration": 16,
    "start_time": "2022-05-25T12:27:10.915Z"
   },
   {
    "duration": 35,
    "start_time": "2022-05-25T12:27:10.932Z"
   },
   {
    "duration": 28,
    "start_time": "2022-05-25T12:27:10.969Z"
   },
   {
    "duration": 47,
    "start_time": "2022-05-25T12:27:10.999Z"
   },
   {
    "duration": 11,
    "start_time": "2022-05-25T12:27:11.047Z"
   },
   {
    "duration": 27,
    "start_time": "2022-05-25T12:27:11.060Z"
   },
   {
    "duration": 79,
    "start_time": "2022-05-25T12:27:11.090Z"
   },
   {
    "duration": 37,
    "start_time": "2022-05-25T12:27:11.171Z"
   },
   {
    "duration": 63,
    "start_time": "2022-05-25T12:27:11.210Z"
   },
   {
    "duration": 108,
    "start_time": "2022-05-25T12:27:11.275Z"
   },
   {
    "duration": 65,
    "start_time": "2022-05-25T12:27:11.385Z"
   },
   {
    "duration": 59,
    "start_time": "2022-05-25T12:27:11.453Z"
   },
   {
    "duration": 34,
    "start_time": "2022-05-25T12:27:11.527Z"
   },
   {
    "duration": 34,
    "start_time": "2022-05-25T12:36:20.216Z"
   },
   {
    "duration": 97,
    "start_time": "2022-05-25T12:36:57.518Z"
   },
   {
    "duration": 29,
    "start_time": "2022-05-25T12:37:08.834Z"
   },
   {
    "duration": 11,
    "start_time": "2022-05-25T12:38:10.999Z"
   },
   {
    "duration": 13,
    "start_time": "2022-05-25T12:39:11.982Z"
   },
   {
    "duration": 26,
    "start_time": "2022-05-25T12:47:01.603Z"
   },
   {
    "duration": 31,
    "start_time": "2022-05-25T12:56:21.684Z"
   },
   {
    "duration": 35,
    "start_time": "2022-05-25T12:57:11.035Z"
   },
   {
    "duration": 3,
    "start_time": "2022-05-25T12:57:40.260Z"
   },
   {
    "duration": 466,
    "start_time": "2022-05-25T12:57:40.264Z"
   },
   {
    "duration": 2,
    "start_time": "2022-05-25T12:57:40.732Z"
   },
   {
    "duration": 22,
    "start_time": "2022-05-25T12:57:40.736Z"
   },
   {
    "duration": 36,
    "start_time": "2022-05-25T12:57:40.760Z"
   },
   {
    "duration": 18,
    "start_time": "2022-05-25T12:57:40.798Z"
   },
   {
    "duration": 21,
    "start_time": "2022-05-25T12:57:40.825Z"
   },
   {
    "duration": 10,
    "start_time": "2022-05-25T12:57:40.848Z"
   },
   {
    "duration": 39,
    "start_time": "2022-05-25T12:57:40.860Z"
   },
   {
    "duration": 57,
    "start_time": "2022-05-25T12:57:40.900Z"
   },
   {
    "duration": 32,
    "start_time": "2022-05-25T12:57:40.960Z"
   },
   {
    "duration": 60,
    "start_time": "2022-05-25T12:57:40.993Z"
   },
   {
    "duration": 12,
    "start_time": "2022-05-25T12:57:41.055Z"
   },
   {
    "duration": 0,
    "start_time": "2022-05-25T12:57:41.069Z"
   },
   {
    "duration": 0,
    "start_time": "2022-05-25T12:57:41.070Z"
   },
   {
    "duration": 0,
    "start_time": "2022-05-25T12:57:41.071Z"
   },
   {
    "duration": 53,
    "start_time": "2022-05-25T12:58:31.684Z"
   },
   {
    "duration": 46,
    "start_time": "2022-05-25T12:58:48.955Z"
   },
   {
    "duration": 48,
    "start_time": "2022-05-25T12:59:07.771Z"
   },
   {
    "duration": 35,
    "start_time": "2022-05-25T13:01:17.127Z"
   },
   {
    "duration": 39,
    "start_time": "2022-05-25T13:05:24.068Z"
   },
   {
    "duration": 51,
    "start_time": "2022-05-25T13:06:35.602Z"
   },
   {
    "duration": 41,
    "start_time": "2022-05-25T13:07:06.534Z"
   },
   {
    "duration": 41,
    "start_time": "2022-05-25T13:07:27.713Z"
   },
   {
    "duration": 33,
    "start_time": "2022-05-25T13:09:16.319Z"
   },
   {
    "duration": 32,
    "start_time": "2022-05-25T13:09:42.586Z"
   },
   {
    "duration": 36,
    "start_time": "2022-05-25T13:09:54.745Z"
   },
   {
    "duration": 35,
    "start_time": "2022-05-25T13:09:59.202Z"
   },
   {
    "duration": 28,
    "start_time": "2022-05-25T13:10:17.833Z"
   },
   {
    "duration": 271,
    "start_time": "2022-05-25T13:10:34.136Z"
   },
   {
    "duration": 31,
    "start_time": "2022-05-25T13:10:42.107Z"
   },
   {
    "duration": 31,
    "start_time": "2022-05-25T13:19:14.597Z"
   },
   {
    "duration": 28,
    "start_time": "2022-05-25T13:20:14.888Z"
   },
   {
    "duration": 28,
    "start_time": "2022-05-25T13:20:48.297Z"
   },
   {
    "duration": 34,
    "start_time": "2022-05-25T13:24:18.341Z"
   },
   {
    "duration": 172,
    "start_time": "2022-05-25T13:24:23.117Z"
   },
   {
    "duration": 33,
    "start_time": "2022-05-25T13:24:42.640Z"
   },
   {
    "duration": 539,
    "start_time": "2022-05-25T13:26:34.461Z"
   },
   {
    "duration": 621,
    "start_time": "2022-05-25T13:27:15.790Z"
   },
   {
    "duration": 36,
    "start_time": "2022-05-25T13:28:04.977Z"
   },
   {
    "duration": 34,
    "start_time": "2022-05-25T13:29:03.642Z"
   },
   {
    "duration": 3,
    "start_time": "2022-05-25T13:30:18.290Z"
   },
   {
    "duration": 450,
    "start_time": "2022-05-25T13:30:18.303Z"
   },
   {
    "duration": 3,
    "start_time": "2022-05-25T13:30:18.754Z"
   },
   {
    "duration": 30,
    "start_time": "2022-05-25T13:30:18.758Z"
   },
   {
    "duration": 30,
    "start_time": "2022-05-25T13:30:18.790Z"
   },
   {
    "duration": 25,
    "start_time": "2022-05-25T13:30:18.821Z"
   },
   {
    "duration": 20,
    "start_time": "2022-05-25T13:30:18.847Z"
   },
   {
    "duration": 10,
    "start_time": "2022-05-25T13:30:18.868Z"
   },
   {
    "duration": 16,
    "start_time": "2022-05-25T13:30:18.879Z"
   },
   {
    "duration": 79,
    "start_time": "2022-05-25T13:30:18.896Z"
   },
   {
    "duration": 30,
    "start_time": "2022-05-25T13:30:18.977Z"
   },
   {
    "duration": 55,
    "start_time": "2022-05-25T13:30:19.008Z"
   },
   {
    "duration": 45,
    "start_time": "2022-05-25T13:30:19.064Z"
   },
   {
    "duration": 45,
    "start_time": "2022-05-25T13:30:19.111Z"
   },
   {
    "duration": 35,
    "start_time": "2022-05-25T13:30:19.158Z"
   },
   {
    "duration": 80,
    "start_time": "2022-05-25T13:30:19.194Z"
   },
   {
    "duration": 66,
    "start_time": "2022-05-25T13:49:02.720Z"
   },
   {
    "duration": 55,
    "start_time": "2022-05-25T13:53:11.878Z"
   },
   {
    "duration": 51,
    "start_time": "2022-05-25T13:53:33.366Z"
   },
   {
    "duration": 64,
    "start_time": "2022-05-25T13:54:08.707Z"
   },
   {
    "duration": 66,
    "start_time": "2022-05-25T13:54:58.500Z"
   },
   {
    "duration": 36,
    "start_time": "2022-05-25T13:57:20.609Z"
   },
   {
    "duration": 51,
    "start_time": "2022-05-25T13:58:04.486Z"
   },
   {
    "duration": 802,
    "start_time": "2022-05-26T03:44:26.011Z"
   },
   {
    "duration": 927,
    "start_time": "2022-05-26T03:44:26.815Z"
   },
   {
    "duration": 2,
    "start_time": "2022-05-26T03:44:27.744Z"
   },
   {
    "duration": 14,
    "start_time": "2022-05-26T03:44:27.748Z"
   },
   {
    "duration": 25,
    "start_time": "2022-05-26T03:44:27.763Z"
   },
   {
    "duration": 16,
    "start_time": "2022-05-26T03:44:27.789Z"
   },
   {
    "duration": 28,
    "start_time": "2022-05-26T03:44:27.806Z"
   },
   {
    "duration": 13,
    "start_time": "2022-05-26T03:44:27.836Z"
   },
   {
    "duration": 15,
    "start_time": "2022-05-26T03:44:27.850Z"
   },
   {
    "duration": 65,
    "start_time": "2022-05-26T03:44:27.867Z"
   },
   {
    "duration": 28,
    "start_time": "2022-05-26T03:44:27.933Z"
   },
   {
    "duration": 40,
    "start_time": "2022-05-26T03:44:27.963Z"
   },
   {
    "duration": 65,
    "start_time": "2022-05-26T03:44:28.004Z"
   },
   {
    "duration": 29,
    "start_time": "2022-05-26T03:44:28.071Z"
   },
   {
    "duration": 46,
    "start_time": "2022-05-26T03:44:28.102Z"
   },
   {
    "duration": 28,
    "start_time": "2022-05-26T03:44:28.149Z"
   },
   {
    "duration": 63,
    "start_time": "2022-05-26T03:44:28.179Z"
   },
   {
    "duration": 4,
    "start_time": "2022-05-26T03:44:28.243Z"
   },
   {
    "duration": 102,
    "start_time": "2022-05-26T04:18:19.726Z"
   },
   {
    "duration": 13,
    "start_time": "2022-05-26T04:20:05.238Z"
   },
   {
    "duration": 27,
    "start_time": "2022-05-26T04:24:20.545Z"
   },
   {
    "duration": 28,
    "start_time": "2022-05-26T04:24:30.393Z"
   },
   {
    "duration": 32,
    "start_time": "2022-05-26T04:24:55.802Z"
   },
   {
    "duration": 30,
    "start_time": "2022-05-26T04:25:56.226Z"
   },
   {
    "duration": 3,
    "start_time": "2022-05-26T04:26:45.728Z"
   },
   {
    "duration": 424,
    "start_time": "2022-05-26T04:26:45.735Z"
   },
   {
    "duration": 2,
    "start_time": "2022-05-26T04:26:46.161Z"
   },
   {
    "duration": 21,
    "start_time": "2022-05-26T04:26:46.164Z"
   },
   {
    "duration": 31,
    "start_time": "2022-05-26T04:26:46.188Z"
   },
   {
    "duration": 21,
    "start_time": "2022-05-26T04:26:46.221Z"
   },
   {
    "duration": 32,
    "start_time": "2022-05-26T04:26:46.244Z"
   },
   {
    "duration": 13,
    "start_time": "2022-05-26T04:26:46.278Z"
   },
   {
    "duration": 21,
    "start_time": "2022-05-26T04:26:46.295Z"
   },
   {
    "duration": 84,
    "start_time": "2022-05-26T04:26:46.317Z"
   },
   {
    "duration": 45,
    "start_time": "2022-05-26T04:26:46.404Z"
   },
   {
    "duration": 51,
    "start_time": "2022-05-26T04:26:46.451Z"
   },
   {
    "duration": 57,
    "start_time": "2022-05-26T04:26:46.504Z"
   },
   {
    "duration": 32,
    "start_time": "2022-05-26T04:26:46.563Z"
   },
   {
    "duration": 61,
    "start_time": "2022-05-26T04:26:46.597Z"
   },
   {
    "duration": 25,
    "start_time": "2022-05-26T04:26:46.660Z"
   },
   {
    "duration": 0,
    "start_time": "2022-05-26T04:26:46.687Z"
   },
   {
    "duration": 0,
    "start_time": "2022-05-26T04:26:46.689Z"
   },
   {
    "duration": 0,
    "start_time": "2022-05-26T04:26:46.691Z"
   },
   {
    "duration": 44,
    "start_time": "2022-05-26T04:32:05.251Z"
   },
   {
    "duration": 43,
    "start_time": "2022-05-26T04:32:41.106Z"
   },
   {
    "duration": 39,
    "start_time": "2022-05-26T04:52:07.658Z"
   },
   {
    "duration": 53,
    "start_time": "2022-05-26T04:52:21.973Z"
   },
   {
    "duration": 127,
    "start_time": "2022-05-26T04:53:37.995Z"
   },
   {
    "duration": 29,
    "start_time": "2022-05-26T04:54:07.543Z"
   },
   {
    "duration": 41,
    "start_time": "2022-05-26T04:54:54.766Z"
   },
   {
    "duration": 559,
    "start_time": "2022-05-26T04:56:56.755Z"
   },
   {
    "duration": 36,
    "start_time": "2022-05-26T04:58:44.013Z"
   },
   {
    "duration": 32,
    "start_time": "2022-05-26T04:58:53.787Z"
   },
   {
    "duration": 34,
    "start_time": "2022-05-26T05:00:12.793Z"
   },
   {
    "duration": 39,
    "start_time": "2022-05-26T05:02:41.299Z"
   },
   {
    "duration": 41,
    "start_time": "2022-05-26T05:03:21.734Z"
   },
   {
    "duration": 57,
    "start_time": "2022-05-26T05:03:55.127Z"
   },
   {
    "duration": 55,
    "start_time": "2022-05-26T05:07:04.178Z"
   },
   {
    "duration": 28,
    "start_time": "2022-05-26T05:11:04.733Z"
   },
   {
    "duration": 12,
    "start_time": "2022-05-26T05:13:45.462Z"
   },
   {
    "duration": 12,
    "start_time": "2022-05-26T05:14:40.657Z"
   },
   {
    "duration": 11,
    "start_time": "2022-05-26T05:25:39.516Z"
   },
   {
    "duration": 10,
    "start_time": "2022-05-26T05:27:39.100Z"
   },
   {
    "duration": 11,
    "start_time": "2022-05-26T05:27:48.937Z"
   },
   {
    "duration": 892,
    "start_time": "2022-05-26T05:30:25.705Z"
   },
   {
    "duration": 882,
    "start_time": "2022-05-26T05:30:35.848Z"
   },
   {
    "duration": 916,
    "start_time": "2022-05-26T05:30:44.296Z"
   },
   {
    "duration": 25,
    "start_time": "2022-05-26T05:31:23.085Z"
   },
   {
    "duration": 807,
    "start_time": "2022-05-26T05:31:28.981Z"
   },
   {
    "duration": 842,
    "start_time": "2022-05-26T05:33:24.572Z"
   },
   {
    "duration": 881,
    "start_time": "2022-05-26T05:40:36.159Z"
   },
   {
    "duration": 867,
    "start_time": "2022-05-26T05:41:49.436Z"
   },
   {
    "duration": 11,
    "start_time": "2022-05-26T05:51:31.208Z"
   },
   {
    "duration": 21,
    "start_time": "2022-05-26T05:51:53.228Z"
   },
   {
    "duration": 21,
    "start_time": "2022-05-26T05:52:14.274Z"
   },
   {
    "duration": 13,
    "start_time": "2022-05-26T05:54:01.877Z"
   },
   {
    "duration": 11,
    "start_time": "2022-05-26T05:54:11.883Z"
   },
   {
    "duration": 11,
    "start_time": "2022-05-26T05:54:20.860Z"
   },
   {
    "duration": 7,
    "start_time": "2022-05-26T05:55:00.308Z"
   },
   {
    "duration": 7,
    "start_time": "2022-05-26T05:55:09.546Z"
   },
   {
    "duration": 14,
    "start_time": "2022-05-26T05:57:13.346Z"
   },
   {
    "duration": 26,
    "start_time": "2022-05-26T06:00:44.000Z"
   },
   {
    "duration": 25,
    "start_time": "2022-05-26T06:02:32.557Z"
   },
   {
    "duration": 436,
    "start_time": "2022-05-26T06:08:48.488Z"
   },
   {
    "duration": 28,
    "start_time": "2022-05-26T06:09:57.558Z"
   },
   {
    "duration": 890,
    "start_time": "2022-05-26T06:24:38.138Z"
   },
   {
    "duration": 4,
    "start_time": "2022-05-26T06:24:45.502Z"
   },
   {
    "duration": 451,
    "start_time": "2022-05-26T06:24:45.508Z"
   },
   {
    "duration": 3,
    "start_time": "2022-05-26T06:24:45.961Z"
   },
   {
    "duration": 15,
    "start_time": "2022-05-26T06:24:45.966Z"
   },
   {
    "duration": 27,
    "start_time": "2022-05-26T06:24:45.983Z"
   },
   {
    "duration": 23,
    "start_time": "2022-05-26T06:24:46.011Z"
   },
   {
    "duration": 20,
    "start_time": "2022-05-26T06:24:46.037Z"
   },
   {
    "duration": 9,
    "start_time": "2022-05-26T06:24:46.059Z"
   },
   {
    "duration": 17,
    "start_time": "2022-05-26T06:24:46.070Z"
   },
   {
    "duration": 83,
    "start_time": "2022-05-26T06:24:46.089Z"
   },
   {
    "duration": 63,
    "start_time": "2022-05-26T06:24:46.173Z"
   },
   {
    "duration": 52,
    "start_time": "2022-05-26T06:24:46.238Z"
   },
   {
    "duration": 69,
    "start_time": "2022-05-26T06:24:46.292Z"
   },
   {
    "duration": 38,
    "start_time": "2022-05-26T06:24:46.364Z"
   },
   {
    "duration": 59,
    "start_time": "2022-05-26T06:24:46.404Z"
   },
   {
    "duration": 74,
    "start_time": "2022-05-26T06:24:46.465Z"
   },
   {
    "duration": 61,
    "start_time": "2022-05-26T06:24:46.541Z"
   },
   {
    "duration": 8,
    "start_time": "2022-05-26T06:24:46.627Z"
   },
   {
    "duration": 31,
    "start_time": "2022-05-26T06:24:46.637Z"
   },
   {
    "duration": 862,
    "start_time": "2022-05-26T06:24:46.671Z"
   },
   {
    "duration": 844,
    "start_time": "2022-05-26T06:24:47.535Z"
   },
   {
    "duration": 880,
    "start_time": "2022-05-26T06:27:32.644Z"
   },
   {
    "duration": 63,
    "start_time": "2022-05-26T10:38:14.457Z"
   },
   {
    "duration": 21,
    "start_time": "2022-05-26T10:38:36.928Z"
   },
   {
    "duration": 3,
    "start_time": "2022-05-26T10:47:32.452Z"
   },
   {
    "duration": 444,
    "start_time": "2022-05-26T10:47:32.457Z"
   },
   {
    "duration": 2,
    "start_time": "2022-05-26T10:47:32.903Z"
   },
   {
    "duration": 17,
    "start_time": "2022-05-26T10:47:32.907Z"
   },
   {
    "duration": 28,
    "start_time": "2022-05-26T10:47:32.926Z"
   },
   {
    "duration": 20,
    "start_time": "2022-05-26T10:47:32.957Z"
   },
   {
    "duration": 20,
    "start_time": "2022-05-26T10:47:32.978Z"
   },
   {
    "duration": 29,
    "start_time": "2022-05-26T10:47:32.999Z"
   },
   {
    "duration": 17,
    "start_time": "2022-05-26T10:47:33.031Z"
   },
   {
    "duration": 63,
    "start_time": "2022-05-26T10:47:33.049Z"
   },
   {
    "duration": 40,
    "start_time": "2022-05-26T10:47:33.114Z"
   },
   {
    "duration": 37,
    "start_time": "2022-05-26T10:47:33.155Z"
   },
   {
    "duration": 62,
    "start_time": "2022-05-26T10:47:33.194Z"
   },
   {
    "duration": 31,
    "start_time": "2022-05-26T10:47:33.258Z"
   },
   {
    "duration": 47,
    "start_time": "2022-05-26T10:47:33.291Z"
   },
   {
    "duration": 39,
    "start_time": "2022-05-26T10:47:33.340Z"
   },
   {
    "duration": 79,
    "start_time": "2022-05-26T10:47:33.381Z"
   },
   {
    "duration": 6,
    "start_time": "2022-05-26T10:47:33.462Z"
   },
   {
    "duration": 31,
    "start_time": "2022-05-26T10:47:33.470Z"
   },
   {
    "duration": 873,
    "start_time": "2022-05-26T10:47:33.502Z"
   },
   {
    "duration": 869,
    "start_time": "2022-05-26T10:47:34.377Z"
   },
   {
    "duration": 844,
    "start_time": "2022-05-26T10:47:35.248Z"
   },
   {
    "duration": 21,
    "start_time": "2022-05-26T10:47:36.093Z"
   },
   {
    "duration": 24,
    "start_time": "2022-05-26T11:18:02.410Z"
   },
   {
    "duration": 26,
    "start_time": "2022-05-26T11:22:52.375Z"
   },
   {
    "duration": 24,
    "start_time": "2022-05-26T11:23:38.154Z"
   },
   {
    "duration": 25,
    "start_time": "2022-05-26T11:34:06.829Z"
   },
   {
    "duration": 10,
    "start_time": "2022-05-26T11:36:35.176Z"
   },
   {
    "duration": 20,
    "start_time": "2022-05-26T11:36:43.650Z"
   },
   {
    "duration": 32,
    "start_time": "2022-05-26T11:38:12.620Z"
   },
   {
    "duration": 34,
    "start_time": "2022-05-26T11:38:18.623Z"
   },
   {
    "duration": 20,
    "start_time": "2022-05-26T11:40:00.145Z"
   },
   {
    "duration": 582,
    "start_time": "2022-05-26T12:04:09.108Z"
   },
   {
    "duration": 446,
    "start_time": "2022-05-26T12:04:09.692Z"
   },
   {
    "duration": 2,
    "start_time": "2022-05-26T12:04:10.140Z"
   },
   {
    "duration": 16,
    "start_time": "2022-05-26T12:04:10.144Z"
   },
   {
    "duration": 28,
    "start_time": "2022-05-26T12:04:10.162Z"
   },
   {
    "duration": 18,
    "start_time": "2022-05-26T12:04:10.192Z"
   },
   {
    "duration": 21,
    "start_time": "2022-05-26T12:04:10.226Z"
   },
   {
    "duration": 11,
    "start_time": "2022-05-26T12:04:10.249Z"
   },
   {
    "duration": 17,
    "start_time": "2022-05-26T12:04:10.262Z"
   },
   {
    "duration": 75,
    "start_time": "2022-05-26T12:04:10.281Z"
   },
   {
    "duration": 31,
    "start_time": "2022-05-26T12:04:10.358Z"
   },
   {
    "duration": 55,
    "start_time": "2022-05-26T12:04:10.391Z"
   },
   {
    "duration": 48,
    "start_time": "2022-05-26T12:04:10.447Z"
   },
   {
    "duration": 58,
    "start_time": "2022-05-26T12:04:10.497Z"
   },
   {
    "duration": 36,
    "start_time": "2022-05-26T12:04:10.557Z"
   },
   {
    "duration": 47,
    "start_time": "2022-05-26T12:04:10.595Z"
   },
   {
    "duration": 52,
    "start_time": "2022-05-26T12:04:10.644Z"
   },
   {
    "duration": 30,
    "start_time": "2022-05-26T12:04:10.698Z"
   },
   {
    "duration": 26,
    "start_time": "2022-05-26T12:04:10.730Z"
   },
   {
    "duration": 827,
    "start_time": "2022-05-26T12:04:10.758Z"
   },
   {
    "duration": 817,
    "start_time": "2022-05-26T12:04:11.587Z"
   },
   {
    "duration": 858,
    "start_time": "2022-05-26T12:04:12.406Z"
   },
   {
    "duration": 22,
    "start_time": "2022-05-26T12:04:13.266Z"
   },
   {
    "duration": 4,
    "start_time": "2022-05-26T12:04:13.289Z"
   },
   {
    "duration": 0,
    "start_time": "2022-05-26T12:04:13.295Z"
   },
   {
    "duration": 0,
    "start_time": "2022-05-26T12:04:13.297Z"
   },
   {
    "duration": 426,
    "start_time": "2022-05-26T12:19:35.488Z"
   },
   {
    "duration": 176,
    "start_time": "2022-05-26T12:20:55.825Z"
   },
   {
    "duration": 168,
    "start_time": "2022-05-26T12:22:53.148Z"
   },
   {
    "duration": 199,
    "start_time": "2022-05-26T12:24:16.151Z"
   },
   {
    "duration": 200,
    "start_time": "2022-05-26T12:36:12.056Z"
   },
   {
    "duration": 175,
    "start_time": "2022-05-26T12:36:58.544Z"
   },
   {
    "duration": 219,
    "start_time": "2022-05-26T12:38:29.120Z"
   },
   {
    "duration": 188,
    "start_time": "2022-05-26T12:40:52.713Z"
   },
   {
    "duration": 322,
    "start_time": "2022-05-26T12:41:09.679Z"
   },
   {
    "duration": 536,
    "start_time": "2022-05-26T12:41:33.704Z"
   },
   {
    "duration": 6,
    "start_time": "2022-05-26T12:48:28.925Z"
   },
   {
    "duration": 449,
    "start_time": "2022-05-26T12:50:47.766Z"
   },
   {
    "duration": 600,
    "start_time": "2022-05-26T12:53:11.122Z"
   },
   {
    "duration": 3,
    "start_time": "2022-05-26T12:54:20.569Z"
   },
   {
    "duration": 474,
    "start_time": "2022-05-26T12:54:20.573Z"
   },
   {
    "duration": 3,
    "start_time": "2022-05-26T12:54:21.048Z"
   },
   {
    "duration": 20,
    "start_time": "2022-05-26T12:54:21.053Z"
   },
   {
    "duration": 39,
    "start_time": "2022-05-26T12:54:21.075Z"
   },
   {
    "duration": 19,
    "start_time": "2022-05-26T12:54:21.116Z"
   },
   {
    "duration": 43,
    "start_time": "2022-05-26T12:54:21.137Z"
   },
   {
    "duration": 11,
    "start_time": "2022-05-26T12:54:21.182Z"
   },
   {
    "duration": 15,
    "start_time": "2022-05-26T12:54:21.195Z"
   },
   {
    "duration": 63,
    "start_time": "2022-05-26T12:54:21.212Z"
   },
   {
    "duration": 32,
    "start_time": "2022-05-26T12:54:21.278Z"
   },
   {
    "duration": 42,
    "start_time": "2022-05-26T12:54:21.326Z"
   },
   {
    "duration": 58,
    "start_time": "2022-05-26T12:54:21.370Z"
   },
   {
    "duration": 36,
    "start_time": "2022-05-26T12:54:21.430Z"
   },
   {
    "duration": 40,
    "start_time": "2022-05-26T12:54:21.468Z"
   },
   {
    "duration": 37,
    "start_time": "2022-05-26T12:54:21.526Z"
   },
   {
    "duration": 79,
    "start_time": "2022-05-26T12:54:21.565Z"
   },
   {
    "duration": 7,
    "start_time": "2022-05-26T12:54:21.647Z"
   },
   {
    "duration": 30,
    "start_time": "2022-05-26T12:54:21.655Z"
   },
   {
    "duration": 1017,
    "start_time": "2022-05-26T12:54:21.687Z"
   },
   {
    "duration": 833,
    "start_time": "2022-05-26T12:54:22.706Z"
   },
   {
    "duration": 886,
    "start_time": "2022-05-26T12:54:23.541Z"
   },
   {
    "duration": 20,
    "start_time": "2022-05-26T12:54:24.429Z"
   },
   {
    "duration": 20,
    "start_time": "2022-05-26T12:54:24.451Z"
   },
   {
    "duration": 0,
    "start_time": "2022-05-26T12:54:24.473Z"
   },
   {
    "duration": 0,
    "start_time": "2022-05-26T12:54:24.474Z"
   },
   {
    "duration": 25,
    "start_time": "2022-05-26T12:54:50.018Z"
   },
   {
    "duration": 679,
    "start_time": "2022-05-26T12:54:51.632Z"
   },
   {
    "duration": 18,
    "start_time": "2022-05-26T12:57:08.715Z"
   },
   {
    "duration": 578,
    "start_time": "2022-05-26T12:57:18.462Z"
   },
   {
    "duration": 576,
    "start_time": "2022-05-26T13:01:11.824Z"
   },
   {
    "duration": 1329,
    "start_time": "2022-05-26T13:02:08.687Z"
   },
   {
    "duration": 600,
    "start_time": "2022-05-26T13:05:48.983Z"
   },
   {
    "duration": 1271,
    "start_time": "2022-05-26T13:05:57.720Z"
   },
   {
    "duration": 592,
    "start_time": "2022-05-26T13:06:13.756Z"
   },
   {
    "duration": 1369,
    "start_time": "2022-05-26T13:06:32.822Z"
   },
   {
    "duration": 657,
    "start_time": "2022-05-26T13:07:23.040Z"
   },
   {
    "duration": 829,
    "start_time": "2022-05-26T13:11:43.923Z"
   },
   {
    "duration": 695,
    "start_time": "2022-05-26T13:12:46.920Z"
   },
   {
    "duration": 936,
    "start_time": "2022-05-26T13:13:29.692Z"
   },
   {
    "duration": 759,
    "start_time": "2022-05-26T13:13:45.558Z"
   },
   {
    "duration": 710,
    "start_time": "2022-05-26T13:15:48.211Z"
   },
   {
    "duration": 26,
    "start_time": "2022-05-26T13:32:42.841Z"
   },
   {
    "duration": 867,
    "start_time": "2022-05-26T13:34:36.333Z"
   },
   {
    "duration": 680,
    "start_time": "2022-05-26T13:38:28.180Z"
   },
   {
    "duration": 38,
    "start_time": "2022-05-26T13:41:37.095Z"
   },
   {
    "duration": 7,
    "start_time": "2022-05-26T13:42:44.431Z"
   },
   {
    "duration": 805,
    "start_time": "2022-05-26T13:51:57.686Z"
   },
   {
    "duration": 717,
    "start_time": "2022-05-26T13:52:48.778Z"
   },
   {
    "duration": 840,
    "start_time": "2022-05-26T13:58:02.650Z"
   },
   {
    "duration": 788,
    "start_time": "2022-05-26T13:58:47.439Z"
   },
   {
    "duration": 552,
    "start_time": "2022-05-26T14:01:27.019Z"
   },
   {
    "duration": 789,
    "start_time": "2022-05-26T14:02:06.229Z"
   },
   {
    "duration": 6,
    "start_time": "2022-05-26T14:02:23.679Z"
   },
   {
    "duration": 6,
    "start_time": "2022-05-26T14:04:28.954Z"
   },
   {
    "duration": 686,
    "start_time": "2022-05-26T14:04:52.677Z"
   },
   {
    "duration": 853,
    "start_time": "2022-05-26T14:12:36.504Z"
   },
   {
    "duration": 714,
    "start_time": "2022-05-26T14:13:31.695Z"
   },
   {
    "duration": 687,
    "start_time": "2022-05-26T14:15:39.734Z"
   },
   {
    "duration": 920,
    "start_time": "2022-05-26T14:16:46.707Z"
   },
   {
    "duration": 25,
    "start_time": "2022-05-26T14:17:14.634Z"
   },
   {
    "duration": 163,
    "start_time": "2022-05-26T14:17:37.905Z"
   },
   {
    "duration": 513,
    "start_time": "2022-05-26T14:23:28.831Z"
   },
   {
    "duration": 24,
    "start_time": "2022-05-26T14:23:31.218Z"
   },
   {
    "duration": 158,
    "start_time": "2022-05-26T14:23:33.050Z"
   },
   {
    "duration": 828,
    "start_time": "2022-05-26T14:27:56.173Z"
   },
   {
    "duration": 25,
    "start_time": "2022-05-26T14:28:06.762Z"
   },
   {
    "duration": 144,
    "start_time": "2022-05-26T14:28:14.401Z"
   },
   {
    "duration": 557,
    "start_time": "2022-05-26T14:30:45.370Z"
   },
   {
    "duration": 35,
    "start_time": "2022-05-26T14:30:58.360Z"
   },
   {
    "duration": 577,
    "start_time": "2022-05-26T14:31:03.738Z"
   },
   {
    "duration": 669,
    "start_time": "2022-05-26T14:31:12.645Z"
   },
   {
    "duration": 538,
    "start_time": "2022-05-26T14:31:53.962Z"
   },
   {
    "duration": 535,
    "start_time": "2022-05-26T14:38:22.717Z"
   },
   {
    "duration": 26,
    "start_time": "2022-05-26T14:38:30.846Z"
   },
   {
    "duration": 155,
    "start_time": "2022-05-26T14:38:38.757Z"
   },
   {
    "duration": 11,
    "start_time": "2022-05-26T17:22:24.045Z"
   },
   {
    "duration": 21,
    "start_time": "2022-05-26T17:33:53.620Z"
   },
   {
    "duration": 17,
    "start_time": "2022-05-26T18:00:03.883Z"
   },
   {
    "duration": 13,
    "start_time": "2022-05-26T18:01:07.387Z"
   },
   {
    "duration": 12,
    "start_time": "2022-05-26T18:01:41.274Z"
   },
   {
    "duration": 3,
    "start_time": "2022-05-26T18:05:11.454Z"
   },
   {
    "duration": 489,
    "start_time": "2022-05-26T18:05:11.459Z"
   },
   {
    "duration": 4,
    "start_time": "2022-05-26T18:05:11.950Z"
   },
   {
    "duration": 23,
    "start_time": "2022-05-26T18:05:11.956Z"
   },
   {
    "duration": 27,
    "start_time": "2022-05-26T18:05:11.982Z"
   },
   {
    "duration": 22,
    "start_time": "2022-05-26T18:05:12.012Z"
   },
   {
    "duration": 40,
    "start_time": "2022-05-26T18:05:12.036Z"
   },
   {
    "duration": 11,
    "start_time": "2022-05-26T18:05:12.078Z"
   },
   {
    "duration": 18,
    "start_time": "2022-05-26T18:05:12.090Z"
   },
   {
    "duration": 78,
    "start_time": "2022-05-26T18:05:12.110Z"
   },
   {
    "duration": 57,
    "start_time": "2022-05-26T18:05:12.191Z"
   },
   {
    "duration": 39,
    "start_time": "2022-05-26T18:05:12.250Z"
   },
   {
    "duration": 66,
    "start_time": "2022-05-26T18:05:12.291Z"
   },
   {
    "duration": 32,
    "start_time": "2022-05-26T18:05:12.359Z"
   },
   {
    "duration": 58,
    "start_time": "2022-05-26T18:05:12.393Z"
   },
   {
    "duration": 34,
    "start_time": "2022-05-26T18:05:12.453Z"
   },
   {
    "duration": 86,
    "start_time": "2022-05-26T18:05:12.489Z"
   },
   {
    "duration": 7,
    "start_time": "2022-05-26T18:05:12.577Z"
   },
   {
    "duration": 42,
    "start_time": "2022-05-26T18:05:12.586Z"
   },
   {
    "duration": 916,
    "start_time": "2022-05-26T18:05:12.638Z"
   },
   {
    "duration": 952,
    "start_time": "2022-05-26T18:05:13.559Z"
   },
   {
    "duration": 1002,
    "start_time": "2022-05-26T18:05:14.512Z"
   },
   {
    "duration": 33,
    "start_time": "2022-05-26T18:05:15.516Z"
   },
   {
    "duration": 28,
    "start_time": "2022-05-26T18:05:15.553Z"
   },
   {
    "duration": 771,
    "start_time": "2022-05-26T18:05:15.583Z"
   },
   {
    "duration": 31,
    "start_time": "2022-05-26T18:05:16.356Z"
   },
   {
    "duration": 237,
    "start_time": "2022-05-26T18:05:16.389Z"
   },
   {
    "duration": 579,
    "start_time": "2022-05-26T18:05:16.631Z"
   },
   {
    "duration": 40,
    "start_time": "2022-05-26T18:05:17.214Z"
   },
   {
    "duration": 165,
    "start_time": "2022-05-26T18:05:17.256Z"
   },
   {
    "duration": 545,
    "start_time": "2022-05-26T18:05:17.428Z"
   },
   {
    "duration": 34,
    "start_time": "2022-05-26T18:05:17.979Z"
   },
   {
    "duration": 182,
    "start_time": "2022-05-26T18:05:18.016Z"
   },
   {
    "duration": 10,
    "start_time": "2022-05-26T18:05:18.200Z"
   },
   {
    "duration": 32,
    "start_time": "2022-05-26T18:05:18.213Z"
   },
   {
    "duration": 19,
    "start_time": "2022-05-26T18:05:18.247Z"
   },
   {
    "duration": 43,
    "start_time": "2022-05-27T02:23:47.811Z"
   },
   {
    "duration": 98,
    "start_time": "2022-05-27T02:24:02.649Z"
   },
   {
    "duration": 1211,
    "start_time": "2022-05-27T02:25:20.449Z"
   },
   {
    "duration": 981,
    "start_time": "2022-05-27T02:25:21.662Z"
   },
   {
    "duration": 3,
    "start_time": "2022-05-27T02:25:22.644Z"
   },
   {
    "duration": 18,
    "start_time": "2022-05-27T02:25:22.649Z"
   },
   {
    "duration": 29,
    "start_time": "2022-05-27T02:25:22.668Z"
   },
   {
    "duration": 19,
    "start_time": "2022-05-27T02:25:22.699Z"
   },
   {
    "duration": 21,
    "start_time": "2022-05-27T02:25:22.727Z"
   },
   {
    "duration": 10,
    "start_time": "2022-05-27T02:25:22.751Z"
   },
   {
    "duration": 21,
    "start_time": "2022-05-27T02:25:22.763Z"
   },
   {
    "duration": 75,
    "start_time": "2022-05-27T02:25:22.786Z"
   },
   {
    "duration": 30,
    "start_time": "2022-05-27T02:25:22.863Z"
   },
   {
    "duration": 61,
    "start_time": "2022-05-27T02:25:22.896Z"
   },
   {
    "duration": 48,
    "start_time": "2022-05-27T02:25:22.959Z"
   },
   {
    "duration": 56,
    "start_time": "2022-05-27T02:25:23.008Z"
   },
   {
    "duration": 39,
    "start_time": "2022-05-27T02:25:23.066Z"
   },
   {
    "duration": 122,
    "start_time": "2022-05-27T02:25:23.106Z"
   },
   {
    "duration": 0,
    "start_time": "2022-05-27T02:25:23.230Z"
   },
   {
    "duration": 0,
    "start_time": "2022-05-27T02:25:23.232Z"
   },
   {
    "duration": 0,
    "start_time": "2022-05-27T02:25:23.233Z"
   },
   {
    "duration": 0,
    "start_time": "2022-05-27T02:25:23.235Z"
   },
   {
    "duration": 0,
    "start_time": "2022-05-27T02:25:23.236Z"
   },
   {
    "duration": 0,
    "start_time": "2022-05-27T02:25:23.237Z"
   },
   {
    "duration": 0,
    "start_time": "2022-05-27T02:25:23.238Z"
   },
   {
    "duration": 0,
    "start_time": "2022-05-27T02:25:23.239Z"
   },
   {
    "duration": 0,
    "start_time": "2022-05-27T02:25:23.241Z"
   },
   {
    "duration": 0,
    "start_time": "2022-05-27T02:25:23.242Z"
   },
   {
    "duration": 0,
    "start_time": "2022-05-27T02:25:23.243Z"
   },
   {
    "duration": 0,
    "start_time": "2022-05-27T02:25:23.246Z"
   },
   {
    "duration": 0,
    "start_time": "2022-05-27T02:25:23.247Z"
   },
   {
    "duration": 0,
    "start_time": "2022-05-27T02:25:23.248Z"
   },
   {
    "duration": 0,
    "start_time": "2022-05-27T02:25:23.249Z"
   },
   {
    "duration": 0,
    "start_time": "2022-05-27T02:25:23.251Z"
   },
   {
    "duration": 0,
    "start_time": "2022-05-27T02:25:23.252Z"
   },
   {
    "duration": 0,
    "start_time": "2022-05-27T02:25:23.253Z"
   },
   {
    "duration": 0,
    "start_time": "2022-05-27T02:25:23.255Z"
   },
   {
    "duration": 0,
    "start_time": "2022-05-27T02:25:23.256Z"
   },
   {
    "duration": 3,
    "start_time": "2022-05-27T02:25:46.609Z"
   },
   {
    "duration": 468,
    "start_time": "2022-05-27T02:25:46.614Z"
   },
   {
    "duration": 3,
    "start_time": "2022-05-27T02:25:47.083Z"
   },
   {
    "duration": 37,
    "start_time": "2022-05-27T02:25:47.087Z"
   },
   {
    "duration": 37,
    "start_time": "2022-05-27T02:25:47.126Z"
   },
   {
    "duration": 24,
    "start_time": "2022-05-27T02:25:47.165Z"
   },
   {
    "duration": 41,
    "start_time": "2022-05-27T02:25:47.191Z"
   },
   {
    "duration": 15,
    "start_time": "2022-05-27T02:25:47.234Z"
   },
   {
    "duration": 46,
    "start_time": "2022-05-27T02:25:47.251Z"
   },
   {
    "duration": 95,
    "start_time": "2022-05-27T02:25:47.300Z"
   },
   {
    "duration": 29,
    "start_time": "2022-05-27T02:25:47.397Z"
   },
   {
    "duration": 60,
    "start_time": "2022-05-27T02:25:47.428Z"
   },
   {
    "duration": 41,
    "start_time": "2022-05-27T02:25:47.489Z"
   },
   {
    "duration": 29,
    "start_time": "2022-05-27T02:25:47.531Z"
   },
   {
    "duration": 35,
    "start_time": "2022-05-27T02:25:47.562Z"
   },
   {
    "duration": 32,
    "start_time": "2022-05-27T02:25:47.598Z"
   },
   {
    "duration": 0,
    "start_time": "2022-05-27T02:25:47.631Z"
   },
   {
    "duration": 1,
    "start_time": "2022-05-27T02:25:47.632Z"
   },
   {
    "duration": 0,
    "start_time": "2022-05-27T02:25:47.634Z"
   },
   {
    "duration": 0,
    "start_time": "2022-05-27T02:25:47.635Z"
   },
   {
    "duration": 0,
    "start_time": "2022-05-27T02:25:47.637Z"
   },
   {
    "duration": 0,
    "start_time": "2022-05-27T02:25:47.638Z"
   },
   {
    "duration": 0,
    "start_time": "2022-05-27T02:25:47.639Z"
   },
   {
    "duration": 0,
    "start_time": "2022-05-27T02:25:47.641Z"
   },
   {
    "duration": 0,
    "start_time": "2022-05-27T02:25:47.642Z"
   },
   {
    "duration": 0,
    "start_time": "2022-05-27T02:25:47.644Z"
   },
   {
    "duration": 0,
    "start_time": "2022-05-27T02:25:47.646Z"
   },
   {
    "duration": 0,
    "start_time": "2022-05-27T02:25:47.647Z"
   },
   {
    "duration": 0,
    "start_time": "2022-05-27T02:25:47.649Z"
   },
   {
    "duration": 0,
    "start_time": "2022-05-27T02:25:47.651Z"
   },
   {
    "duration": 0,
    "start_time": "2022-05-27T02:25:47.652Z"
   },
   {
    "duration": 0,
    "start_time": "2022-05-27T02:25:47.653Z"
   },
   {
    "duration": 0,
    "start_time": "2022-05-27T02:25:47.654Z"
   },
   {
    "duration": 0,
    "start_time": "2022-05-27T02:25:47.655Z"
   },
   {
    "duration": 0,
    "start_time": "2022-05-27T02:25:47.658Z"
   },
   {
    "duration": 0,
    "start_time": "2022-05-27T02:25:47.659Z"
   },
   {
    "duration": 3,
    "start_time": "2022-05-27T02:26:41.039Z"
   },
   {
    "duration": 456,
    "start_time": "2022-05-27T02:26:41.044Z"
   },
   {
    "duration": 3,
    "start_time": "2022-05-27T02:26:41.502Z"
   },
   {
    "duration": 19,
    "start_time": "2022-05-27T02:26:41.506Z"
   },
   {
    "duration": 28,
    "start_time": "2022-05-27T02:26:41.527Z"
   },
   {
    "duration": 17,
    "start_time": "2022-05-27T02:26:41.557Z"
   },
   {
    "duration": 20,
    "start_time": "2022-05-27T02:26:41.576Z"
   },
   {
    "duration": 10,
    "start_time": "2022-05-27T02:26:41.597Z"
   },
   {
    "duration": 12,
    "start_time": "2022-05-27T02:26:41.628Z"
   },
   {
    "duration": 56,
    "start_time": "2022-05-27T02:26:41.642Z"
   },
   {
    "duration": 47,
    "start_time": "2022-05-27T02:26:41.699Z"
   },
   {
    "duration": 40,
    "start_time": "2022-05-27T02:26:41.748Z"
   },
   {
    "duration": 67,
    "start_time": "2022-05-27T02:26:41.790Z"
   },
   {
    "duration": 30,
    "start_time": "2022-05-27T02:26:41.859Z"
   },
   {
    "duration": 65,
    "start_time": "2022-05-27T02:26:41.891Z"
   },
   {
    "duration": 47,
    "start_time": "2022-05-27T02:26:41.958Z"
   },
   {
    "duration": 73,
    "start_time": "2022-05-27T02:26:42.006Z"
   },
   {
    "duration": 6,
    "start_time": "2022-05-27T02:26:42.081Z"
   },
   {
    "duration": 52,
    "start_time": "2022-05-27T02:26:42.089Z"
   },
   {
    "duration": 809,
    "start_time": "2022-05-27T02:26:42.144Z"
   },
   {
    "duration": 807,
    "start_time": "2022-05-27T02:26:42.954Z"
   },
   {
    "duration": 827,
    "start_time": "2022-05-27T02:26:43.762Z"
   },
   {
    "duration": 20,
    "start_time": "2022-05-27T02:26:44.591Z"
   },
   {
    "duration": 39,
    "start_time": "2022-05-27T02:26:44.614Z"
   },
   {
    "duration": 644,
    "start_time": "2022-05-27T02:26:44.655Z"
   },
   {
    "duration": 34,
    "start_time": "2022-05-27T02:26:45.301Z"
   },
   {
    "duration": 180,
    "start_time": "2022-05-27T02:26:45.337Z"
   },
   {
    "duration": 518,
    "start_time": "2022-05-27T02:26:45.519Z"
   },
   {
    "duration": 24,
    "start_time": "2022-05-27T02:26:46.039Z"
   },
   {
    "duration": 186,
    "start_time": "2022-05-27T02:26:46.065Z"
   },
   {
    "duration": 584,
    "start_time": "2022-05-27T02:26:46.252Z"
   },
   {
    "duration": 25,
    "start_time": "2022-05-27T02:26:46.837Z"
   },
   {
    "duration": 173,
    "start_time": "2022-05-27T02:26:46.864Z"
   },
   {
    "duration": 12,
    "start_time": "2022-05-27T02:26:47.038Z"
   },
   {
    "duration": 48,
    "start_time": "2022-05-27T02:26:47.051Z"
   },
   {
    "duration": 24,
    "start_time": "2022-05-27T02:26:47.101Z"
   },
   {
    "duration": 1283,
    "start_time": "2022-12-18T13:29:18.755Z"
   },
   {
    "duration": 1076,
    "start_time": "2022-12-18T13:29:20.041Z"
   },
   {
    "duration": 6,
    "start_time": "2022-12-18T13:29:21.119Z"
   },
   {
    "duration": 71,
    "start_time": "2022-12-18T13:29:21.127Z"
   },
   {
    "duration": 62,
    "start_time": "2022-12-18T13:29:21.200Z"
   },
   {
    "duration": 35,
    "start_time": "2022-12-18T13:29:21.263Z"
   },
   {
    "duration": 67,
    "start_time": "2022-12-18T13:29:21.299Z"
   },
   {
    "duration": 48,
    "start_time": "2022-12-18T13:29:21.368Z"
   },
   {
    "duration": 62,
    "start_time": "2022-12-18T13:29:21.418Z"
   },
   {
    "duration": 125,
    "start_time": "2022-12-18T13:29:21.486Z"
   },
   {
    "duration": 56,
    "start_time": "2022-12-18T13:29:21.614Z"
   },
   {
    "duration": 89,
    "start_time": "2022-12-18T13:29:21.672Z"
   },
   {
    "duration": 45,
    "start_time": "2022-12-18T13:29:21.763Z"
   },
   {
    "duration": 45,
    "start_time": "2022-12-18T13:29:21.820Z"
   },
   {
    "duration": 59,
    "start_time": "2022-12-18T13:29:21.867Z"
   },
   {
    "duration": 54,
    "start_time": "2022-12-18T13:29:21.929Z"
   },
   {
    "duration": 75,
    "start_time": "2022-12-18T13:29:21.985Z"
   },
   {
    "duration": 6,
    "start_time": "2022-12-18T13:29:22.062Z"
   },
   {
    "duration": 68,
    "start_time": "2022-12-18T13:29:22.070Z"
   },
   {
    "duration": 903,
    "start_time": "2022-12-18T13:29:22.140Z"
   },
   {
    "duration": 829,
    "start_time": "2022-12-18T13:29:23.045Z"
   },
   {
    "duration": 901,
    "start_time": "2022-12-18T13:29:23.876Z"
   },
   {
    "duration": 21,
    "start_time": "2022-12-18T13:29:24.778Z"
   },
   {
    "duration": 60,
    "start_time": "2022-12-18T13:29:24.800Z"
   },
   {
    "duration": 687,
    "start_time": "2022-12-18T13:29:24.861Z"
   },
   {
    "duration": 31,
    "start_time": "2022-12-18T13:29:25.550Z"
   },
   {
    "duration": 261,
    "start_time": "2022-12-18T13:29:25.583Z"
   },
   {
    "duration": 544,
    "start_time": "2022-12-18T13:29:25.849Z"
   },
   {
    "duration": 44,
    "start_time": "2022-12-18T13:29:26.395Z"
   },
   {
    "duration": 161,
    "start_time": "2022-12-18T13:29:26.442Z"
   },
   {
    "duration": 607,
    "start_time": "2022-12-18T13:29:26.605Z"
   },
   {
    "duration": 38,
    "start_time": "2022-12-18T13:29:27.213Z"
   },
   {
    "duration": 176,
    "start_time": "2022-12-18T13:29:27.252Z"
   },
   {
    "duration": 16,
    "start_time": "2022-12-18T13:29:27.431Z"
   },
   {
    "duration": 11,
    "start_time": "2022-12-18T13:29:27.449Z"
   },
   {
    "duration": 20,
    "start_time": "2022-12-18T13:29:27.461Z"
   },
   {
    "duration": 967,
    "start_time": "2022-12-18T13:34:41.772Z"
   },
   {
    "duration": 523,
    "start_time": "2022-12-18T13:34:42.740Z"
   },
   {
    "duration": 3,
    "start_time": "2022-12-18T13:34:43.265Z"
   },
   {
    "duration": 37,
    "start_time": "2022-12-18T13:34:43.270Z"
   },
   {
    "duration": 37,
    "start_time": "2022-12-18T13:34:43.309Z"
   },
   {
    "duration": 18,
    "start_time": "2022-12-18T13:34:43.348Z"
   },
   {
    "duration": 20,
    "start_time": "2022-12-18T13:34:43.368Z"
   },
   {
    "duration": 32,
    "start_time": "2022-12-18T13:34:43.390Z"
   },
   {
    "duration": 22,
    "start_time": "2022-12-18T13:34:43.427Z"
   },
   {
    "duration": 82,
    "start_time": "2022-12-18T13:34:43.451Z"
   },
   {
    "duration": 31,
    "start_time": "2022-12-18T13:34:43.536Z"
   },
   {
    "duration": 59,
    "start_time": "2022-12-18T13:34:43.569Z"
   },
   {
    "duration": 47,
    "start_time": "2022-12-18T13:34:43.630Z"
   },
   {
    "duration": 57,
    "start_time": "2022-12-18T13:34:43.679Z"
   },
   {
    "duration": 37,
    "start_time": "2022-12-18T13:34:43.738Z"
   },
   {
    "duration": 59,
    "start_time": "2022-12-18T13:34:43.777Z"
   },
   {
    "duration": 60,
    "start_time": "2022-12-18T13:34:43.838Z"
   },
   {
    "duration": 35,
    "start_time": "2022-12-18T13:34:43.899Z"
   },
   {
    "duration": 30,
    "start_time": "2022-12-18T13:34:43.939Z"
   },
   {
    "duration": 827,
    "start_time": "2022-12-18T13:34:43.970Z"
   },
   {
    "duration": 866,
    "start_time": "2022-12-18T13:34:44.798Z"
   },
   {
    "duration": 907,
    "start_time": "2022-12-18T13:34:45.665Z"
   },
   {
    "duration": 22,
    "start_time": "2022-12-18T13:34:46.573Z"
   },
   {
    "duration": 56,
    "start_time": "2022-12-18T13:34:46.597Z"
   },
   {
    "duration": 587,
    "start_time": "2022-12-18T13:34:46.656Z"
   },
   {
    "duration": 23,
    "start_time": "2022-12-18T13:34:47.245Z"
   },
   {
    "duration": 190,
    "start_time": "2022-12-18T13:34:47.270Z"
   },
   {
    "duration": 530,
    "start_time": "2022-12-18T13:34:47.463Z"
   },
   {
    "duration": 37,
    "start_time": "2022-12-18T13:34:47.994Z"
   },
   {
    "duration": 195,
    "start_time": "2022-12-18T13:34:48.032Z"
   },
   {
    "duration": 610,
    "start_time": "2022-12-18T13:34:48.229Z"
   },
   {
    "duration": 24,
    "start_time": "2022-12-18T13:34:48.841Z"
   },
   {
    "duration": 183,
    "start_time": "2022-12-18T13:34:48.867Z"
   },
   {
    "duration": 11,
    "start_time": "2022-12-18T13:34:49.052Z"
   },
   {
    "duration": 12,
    "start_time": "2022-12-18T13:34:49.064Z"
   },
   {
    "duration": 30,
    "start_time": "2022-12-18T13:34:49.077Z"
   }
  ],
  "kernelspec": {
   "display_name": "Python 3 (ipykernel)",
   "language": "python",
   "name": "python3"
  },
  "language_info": {
   "codemirror_mode": {
    "name": "ipython",
    "version": 3
   },
   "file_extension": ".py",
   "mimetype": "text/x-python",
   "name": "python",
   "nbconvert_exporter": "python",
   "pygments_lexer": "ipython3",
   "version": "3.9.13"
  },
  "toc": {
   "base_numbering": 1,
   "nav_menu": {
    "height": "212px",
    "width": "270px"
   },
   "number_sections": true,
   "sideBar": true,
   "skip_h1_title": true,
   "title_cell": "Table of Contents",
   "title_sidebar": "Contents",
   "toc_cell": false,
   "toc_position": {
    "height": "calc(100% - 180px)",
    "left": "10px",
    "top": "150px",
    "width": "167.391px"
   },
   "toc_section_display": true,
   "toc_window_display": true
  }
 },
 "nbformat": 4,
 "nbformat_minor": 2
}
