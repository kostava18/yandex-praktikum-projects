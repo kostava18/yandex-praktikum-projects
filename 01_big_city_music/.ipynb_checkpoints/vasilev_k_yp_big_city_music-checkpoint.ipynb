{
 "cells": [
  {
   "cell_type": "markdown",
   "metadata": {
    "id": "E0vqbgi9ay0H"
   },
   "source": [
    "# Яндекс.Музыка"
   ]
  },
  {
   "cell_type": "markdown",
   "metadata": {
    "id": "VUC88oWjTJw2"
   },
   "source": [
    "Сравнение Москвы и Петербурга окружено мифами. Например:\n",
    " * Москва — мегаполис, подчинённый жёсткому ритму рабочей недели;\n",
    " * Петербург — культурная столица, со своими вкусами.\n",
    "\n",
    "На данных Яндекс.Музыки вы сравните поведение пользователей двух столиц.\n",
    "\n",
    "**Цель исследования** — проверьте три гипотезы:\n",
    "1. Активность пользователей зависит от дня недели. Причём в Москве и Петербурге это проявляется по-разному.\n",
    "2. В понедельник утром в Москве преобладают одни жанры, а в Петербурге — другие. Так же и вечером пятницы преобладают разные жанры — в зависимости от города. \n",
    "3. Москва и Петербург предпочитают разные жанры музыки. В Москве чаще слушают поп-музыку, в Петербурге — русский рэп.\n",
    "\n",
    "**Ход исследования**\n",
    "\n",
    "Данные о поведении пользователей вы получите из файла `yandex_music_project.csv`. О качестве данных ничего не известно. Поэтому перед проверкой гипотез понадобится обзор данных. \n",
    "\n",
    "Вы проверите данные на ошибки и оцените их влияние на исследование. Затем, на этапе предобработки вы поищете возможность исправить самые критичные ошибки данных.\n",
    " \n",
    "Таким образом, исследование пройдёт в три этапа:\n",
    " 1. Обзор данных.\n",
    " 2. Предобработка данных.\n",
    " 3. Проверка гипотез.\n",
    "\n"
   ]
  },
  {
   "cell_type": "markdown",
   "metadata": {
    "id": "Ml1hmfXC_Zcs"
   },
   "source": [
    "## Обзор данных\n",
    "\n",
    "Составьте первое представление о данных Яндекс.Музыки.\n",
    "\n",
    "\n"
   ]
  },
  {
   "cell_type": "markdown",
   "metadata": {
    "id": "57eAOGIz_Zcs"
   },
   "source": [
    "Основной инструмент аналитика — `pandas`. Импортируйте эту библиотеку."
   ]
  },
  {
   "cell_type": "code",
   "execution_count": 1,
   "metadata": {
    "id": "AXN7PHPN_Zcs"
   },
   "outputs": [],
   "source": [
    "import pandas as pd # импорт библиотеки pandas"
   ]
  },
  {
   "cell_type": "markdown",
   "metadata": {
    "id": "rDoOMd3uTqnZ"
   },
   "source": [
    "Выведите на экран первые десять строк таблицы:"
   ]
  },
  {
   "cell_type": "code",
   "execution_count": 3,
   "metadata": {
    "id": "oWTVX3gW_Zct"
   },
   "outputs": [
    {
     "data": {
      "text/html": [
       "<div>\n",
       "<style scoped>\n",
       "    .dataframe tbody tr th:only-of-type {\n",
       "        vertical-align: middle;\n",
       "    }\n",
       "\n",
       "    .dataframe tbody tr th {\n",
       "        vertical-align: top;\n",
       "    }\n",
       "\n",
       "    .dataframe thead th {\n",
       "        text-align: right;\n",
       "    }\n",
       "</style>\n",
       "<table border=\"1\" class=\"dataframe\">\n",
       "  <thead>\n",
       "    <tr style=\"text-align: right;\">\n",
       "      <th></th>\n",
       "      <th>userID</th>\n",
       "      <th>Track</th>\n",
       "      <th>artist</th>\n",
       "      <th>genre</th>\n",
       "      <th>City</th>\n",
       "      <th>time</th>\n",
       "      <th>Day</th>\n",
       "    </tr>\n",
       "  </thead>\n",
       "  <tbody>\n",
       "    <tr>\n",
       "      <th>0</th>\n",
       "      <td>FFB692EC</td>\n",
       "      <td>Kamigata To Boots</td>\n",
       "      <td>The Mass Missile</td>\n",
       "      <td>rock</td>\n",
       "      <td>Saint-Petersburg</td>\n",
       "      <td>20:28:33</td>\n",
       "      <td>Wednesday</td>\n",
       "    </tr>\n",
       "    <tr>\n",
       "      <th>1</th>\n",
       "      <td>55204538</td>\n",
       "      <td>Delayed Because of Accident</td>\n",
       "      <td>Andreas Rönnberg</td>\n",
       "      <td>rock</td>\n",
       "      <td>Moscow</td>\n",
       "      <td>14:07:09</td>\n",
       "      <td>Friday</td>\n",
       "    </tr>\n",
       "    <tr>\n",
       "      <th>2</th>\n",
       "      <td>20EC38</td>\n",
       "      <td>Funiculì funiculà</td>\n",
       "      <td>Mario Lanza</td>\n",
       "      <td>pop</td>\n",
       "      <td>Saint-Petersburg</td>\n",
       "      <td>20:58:07</td>\n",
       "      <td>Wednesday</td>\n",
       "    </tr>\n",
       "    <tr>\n",
       "      <th>3</th>\n",
       "      <td>A3DD03C9</td>\n",
       "      <td>Dragons in the Sunset</td>\n",
       "      <td>Fire + Ice</td>\n",
       "      <td>folk</td>\n",
       "      <td>Saint-Petersburg</td>\n",
       "      <td>08:37:09</td>\n",
       "      <td>Monday</td>\n",
       "    </tr>\n",
       "    <tr>\n",
       "      <th>4</th>\n",
       "      <td>E2DC1FAE</td>\n",
       "      <td>Soul People</td>\n",
       "      <td>Space Echo</td>\n",
       "      <td>dance</td>\n",
       "      <td>Moscow</td>\n",
       "      <td>08:34:34</td>\n",
       "      <td>Monday</td>\n",
       "    </tr>\n",
       "    <tr>\n",
       "      <th>5</th>\n",
       "      <td>842029A1</td>\n",
       "      <td>Преданная</td>\n",
       "      <td>IMPERVTOR</td>\n",
       "      <td>rusrap</td>\n",
       "      <td>Saint-Petersburg</td>\n",
       "      <td>13:09:41</td>\n",
       "      <td>Friday</td>\n",
       "    </tr>\n",
       "    <tr>\n",
       "      <th>6</th>\n",
       "      <td>4CB90AA5</td>\n",
       "      <td>True</td>\n",
       "      <td>Roman Messer</td>\n",
       "      <td>dance</td>\n",
       "      <td>Moscow</td>\n",
       "      <td>13:00:07</td>\n",
       "      <td>Wednesday</td>\n",
       "    </tr>\n",
       "    <tr>\n",
       "      <th>7</th>\n",
       "      <td>F03E1C1F</td>\n",
       "      <td>Feeling This Way</td>\n",
       "      <td>Polina Griffith</td>\n",
       "      <td>dance</td>\n",
       "      <td>Moscow</td>\n",
       "      <td>20:47:49</td>\n",
       "      <td>Wednesday</td>\n",
       "    </tr>\n",
       "    <tr>\n",
       "      <th>8</th>\n",
       "      <td>8FA1D3BE</td>\n",
       "      <td>И вновь продолжается бой</td>\n",
       "      <td>NaN</td>\n",
       "      <td>ruspop</td>\n",
       "      <td>Moscow</td>\n",
       "      <td>09:17:40</td>\n",
       "      <td>Friday</td>\n",
       "    </tr>\n",
       "    <tr>\n",
       "      <th>9</th>\n",
       "      <td>E772D5C0</td>\n",
       "      <td>Pessimist</td>\n",
       "      <td>NaN</td>\n",
       "      <td>dance</td>\n",
       "      <td>Saint-Petersburg</td>\n",
       "      <td>21:20:49</td>\n",
       "      <td>Wednesday</td>\n",
       "    </tr>\n",
       "  </tbody>\n",
       "</table>\n",
       "</div>"
      ],
      "text/plain": [
       "     userID                        Track            artist   genre  \\\n",
       "0  FFB692EC            Kamigata To Boots  The Mass Missile    rock   \n",
       "1  55204538  Delayed Because of Accident  Andreas Rönnberg    rock   \n",
       "2    20EC38            Funiculì funiculà       Mario Lanza     pop   \n",
       "3  A3DD03C9        Dragons in the Sunset        Fire + Ice    folk   \n",
       "4  E2DC1FAE                  Soul People        Space Echo   dance   \n",
       "5  842029A1                    Преданная         IMPERVTOR  rusrap   \n",
       "6  4CB90AA5                         True      Roman Messer   dance   \n",
       "7  F03E1C1F             Feeling This Way   Polina Griffith   dance   \n",
       "8  8FA1D3BE     И вновь продолжается бой               NaN  ruspop   \n",
       "9  E772D5C0                    Pessimist               NaN   dance   \n",
       "\n",
       "             City        time        Day  \n",
       "0  Saint-Petersburg  20:28:33  Wednesday  \n",
       "1            Moscow  14:07:09     Friday  \n",
       "2  Saint-Petersburg  20:58:07  Wednesday  \n",
       "3  Saint-Petersburg  08:37:09     Monday  \n",
       "4            Moscow  08:34:34     Monday  \n",
       "5  Saint-Petersburg  13:09:41     Friday  \n",
       "6            Moscow  13:00:07  Wednesday  \n",
       "7            Moscow  20:47:49  Wednesday  \n",
       "8            Moscow  09:17:40     Friday  \n",
       "9  Saint-Petersburg  21:20:49  Wednesday  "
      ]
     },
     "execution_count": 3,
     "metadata": {},
     "output_type": "execute_result"
    }
   ],
   "source": [
    "df.head(10) # получение первых 10 строк таблицы df"
   ]
  },
  {
   "cell_type": "markdown",
   "metadata": {
    "id": "EO73Kwic_Zct"
   },
   "source": [
    "Одной командой получить общую информацию о таблице:"
   ]
  },
  {
   "cell_type": "code",
   "execution_count": 4,
   "metadata": {
    "id": "DSf2kIb-_Zct"
   },
   "outputs": [
    {
     "name": "stdout",
     "output_type": "stream",
     "text": [
      "<class 'pandas.core.frame.DataFrame'>\n",
      "RangeIndex: 65079 entries, 0 to 65078\n",
      "Data columns (total 7 columns):\n",
      " #   Column    Non-Null Count  Dtype \n",
      "---  ------    --------------  ----- \n",
      " 0     userID  65079 non-null  object\n",
      " 1   Track     63848 non-null  object\n",
      " 2   artist    57876 non-null  object\n",
      " 3   genre     63881 non-null  object\n",
      " 4     City    65079 non-null  object\n",
      " 5   time      65079 non-null  object\n",
      " 6   Day       65079 non-null  object\n",
      "dtypes: object(7)\n",
      "memory usage: 3.5+ MB\n"
     ]
    }
   ],
   "source": [
    "df.info() # получение общей информации о данных в таблице df"
   ]
  },
  {
   "cell_type": "markdown",
   "metadata": {
    "id": "TaQ2Iwbr_Zct"
   },
   "source": [
    "# Итак, в таблице семь столбцов. Тип данных во всех столбцах — `object`.\n",
    "\n",
    "Согласно документации к данным:\n",
    "* `userID` — идентификатор пользователя;\n",
    "* `Track` — название трека;  \n",
    "* `artist` — имя исполнителя;\n",
    "* `genre` — название жанра;\n",
    "* `City` — город пользователя;\n",
    "* `time` — время начала прослушивания;\n",
    "* `Day` — день недели.\n",
    "\n",
    "В названиях колонок видны три нарушения стиля:\n",
    "1. Строчные буквы сочетаются с прописными.\n",
    "2. Встречаются пробелы.\n",
    "3. Найдите ещё одну проблему в названии колонок и опишите её в этом пункте. \n",
    "   `Ответ:` если в названии несколько слов, то они должны быть записаны в змеином регистре - user_id.\n",
    "\n",
    "Количество значений в столбцах различается. Значит, в данных есть пропущенные значения.\n"
   ]
  },
  {
   "cell_type": "markdown",
   "metadata": {
    "id": "MCB6-dXG_Zct"
   },
   "source": [
    "**Выводы**\n",
    "\n",
    "В каждой строке таблицы — данные о прослушанном треке. Часть колонок описывает саму композицию: название, исполнителя и жанр. Остальные данные рассказывают о пользователе: из какого он города, когда он слушал музыку. \n",
    "\n",
    "Предварительно можно утверждать, что, данных достаточно для проверки гипотез. Но встречаются пропуски в данных, а в названиях колонок — расхождения с хорошим стилем.\n",
    "\n",
    "Чтобы двигаться дальше, нужно устранить проблемы в данных."
   ]
  },
  {
   "cell_type": "markdown",
   "metadata": {
    "id": "SjYF6Ub9_Zct"
   },
   "source": [
    "## Предобработка данных\n",
    "Исправьте стиль в заголовках столбцов, исключите пропуски. Затем проверьте данные на дубликаты."
   ]
  },
  {
   "cell_type": "markdown",
   "metadata": {
    "id": "dIaKXr29_Zct"
   },
   "source": [
    "### Стиль заголовков\n",
    "Выведите на экран названия столбцов:"
   ]
  },
  {
   "cell_type": "code",
   "execution_count": 5,
   "metadata": {
    "id": "oKOTdF_Q_Zct"
   },
   "outputs": [
    {
     "data": {
      "text/plain": [
       "Index(['  userID', 'Track', 'artist', 'genre', '  City  ', 'time', 'Day'], dtype='object')"
      ]
     },
     "execution_count": 5,
     "metadata": {},
     "output_type": "execute_result"
    }
   ],
   "source": [
    "df.columns # перечень названий столбцов таблицы df"
   ]
  },
  {
   "cell_type": "markdown",
   "metadata": {
    "id": "FPZA3ki8xe7T"
   },
   "source": []
  },
  {
   "cell_type": "markdown",
   "metadata": {
    "id": "zj5534cv_Zct"
   },
   "source": [
    "Приведите названия в соответствие с хорошим стилем:\n",
    "* несколько слов в названии запишите в «змеином_регистре»,\n",
    "* все символы сделайте строчными,\n",
    "* устраните пробелы.\n",
    "\n",
    "Для этого переименуйте колонки так:\n",
    "* `'  userID'` → `'user_id'`;\n",
    "* `'Track'` → `'track'`;\n",
    "* `'  City  '` → `'city'`;\n",
    "* `'Day'` → `'day'`."
   ]
  },
  {
   "cell_type": "code",
   "execution_count": 6,
   "metadata": {
    "id": "ISlFqs5y_Zct"
   },
   "outputs": [],
   "source": [
    "df = df.rename(columns=\n",
    "               {'  userID':'user_id',\n",
    "                'Track':'track',\n",
    "                '  City  ':'city',\n",
    "                'Day':'day'}\n",
    "              ) # переименование столбцов"
   ]
  },
  {
   "cell_type": "markdown",
   "metadata": {
    "id": "1dqbh00J_Zct"
   },
   "source": [
    "Проверьте результат. Для этого ещё раз выведите на экран названия столбцов:"
   ]
  },
  {
   "cell_type": "code",
   "execution_count": 7,
   "metadata": {
    "id": "d4NOAmTW_Zct"
   },
   "outputs": [
    {
     "data": {
      "text/plain": [
       "Index(['user_id', 'track', 'artist', 'genre', 'city', 'time', 'day'], dtype='object')"
      ]
     },
     "execution_count": 7,
     "metadata": {},
     "output_type": "execute_result"
    }
   ],
   "source": [
    "df.columns # проверка результатов - перечень названий столбцов"
   ]
  },
  {
   "cell_type": "markdown",
   "metadata": {
    "id": "5ISfbcfY_Zct"
   },
   "source": [
    "### Пропуски значений\n",
    "Сначала посчитайте, сколько в таблице пропущенных значений. Для этого достаточно двух методов `pandas`:"
   ]
  },
  {
   "cell_type": "code",
   "execution_count": 8,
   "metadata": {
    "id": "RskX29qr_Zct"
   },
   "outputs": [
    {
     "data": {
      "text/plain": [
       "user_id       0\n",
       "track      1231\n",
       "artist     7203\n",
       "genre      1198\n",
       "city          0\n",
       "time          0\n",
       "day           0\n",
       "dtype: int64"
      ]
     },
     "execution_count": 8,
     "metadata": {},
     "output_type": "execute_result"
    }
   ],
   "source": [
    "df.isna().sum() # подсчёт пропусков"
   ]
  },
  {
   "cell_type": "markdown",
   "metadata": {
    "id": "qubhgnlO_Zct"
   },
   "source": [
    "Не все пропущенные значения влияют на исследование. Так в `track` и `artist` пропуски не важны для вашей работы. Достаточно заменить их явными обозначениями.\n",
    "\n",
    "Но пропуски в `genre` могут помешать сравнению музыкальных вкусов в Москве и Санкт-Петербурге. На практике было бы правильно установить причину пропусков и восстановить данные. Такой возможности нет в учебном проекте. Придётся:\n",
    "* заполнить и эти пропуски явными обозначениями,\n",
    "* оценить, насколько они повредят расчётам. "
   ]
  },
  {
   "cell_type": "markdown",
   "metadata": {
    "id": "fSv2laPA_Zct"
   },
   "source": [
    "Замените пропущенные значения в столбцах `track`, `artist` и `genre` на строку `'unknown'`. Для этого создайте список `columns_to_replace`, переберите его элементы циклом `for` и для каждого столбца выполните замену пропущенных значений:"
   ]
  },
  {
   "cell_type": "code",
   "execution_count": 9,
   "metadata": {
    "id": "KplB5qWs_Zct"
   },
   "outputs": [],
   "source": [
    "columns_to_replace = ['track', 'artist', 'genre'] \n",
    "for column in columns_to_replace:\n",
    "    df[column] = df[column].fillna('unknown') # перебор названий столбцов в цикле и замена пропущенных значений на 'unknown'"
   ]
  },
  {
   "cell_type": "markdown",
   "metadata": {
    "id": "Ilsm-MZo_Zct"
   },
   "source": [
    "Убедитесь, что в таблице не осталось пропусков. Для этого ещё раз посчитайте пропущенные значения."
   ]
  },
  {
   "cell_type": "code",
   "execution_count": 10,
   "metadata": {
    "id": "Tq4nYRX4_Zct"
   },
   "outputs": [
    {
     "data": {
      "text/plain": [
       "user_id    0\n",
       "track      0\n",
       "artist     0\n",
       "genre      0\n",
       "city       0\n",
       "time       0\n",
       "day        0\n",
       "dtype: int64"
      ]
     },
     "execution_count": 10,
     "metadata": {},
     "output_type": "execute_result"
    }
   ],
   "source": [
    "df.isna().sum() # подсчёт пропусков"
   ]
  },
  {
   "cell_type": "markdown",
   "metadata": {
    "id": "BWKRtBJ3_Zct"
   },
   "source": [
    "### Дубликаты\n",
    "Посчитайте явные дубликаты в таблице одной командой:"
   ]
  },
  {
   "cell_type": "code",
   "execution_count": 11,
   "metadata": {
    "id": "36eES_S0_Zct"
   },
   "outputs": [
    {
     "data": {
      "text/plain": [
       "3826"
      ]
     },
     "execution_count": 11,
     "metadata": {},
     "output_type": "execute_result"
    }
   ],
   "source": [
    "df.duplicated().sum() # подсчёт явных дубликатов"
   ]
  },
  {
   "cell_type": "markdown",
   "metadata": {
    "id": "Ot25h6XR_Zct"
   },
   "source": [
    "Вызовите специальный метод `pandas`, чтобы удалить явные дубликаты:"
   ]
  },
  {
   "cell_type": "code",
   "execution_count": 12,
   "metadata": {
    "id": "exFHq6tt_Zct"
   },
   "outputs": [],
   "source": [
    "df = df.drop_duplicates().reset_index(drop=True) # удаление явных дубликатов (с удалением старых индексов и формированием новых)"
   ]
  },
  {
   "cell_type": "markdown",
   "metadata": {
    "id": "Im2YwBEG_Zct"
   },
   "source": [
    "Ещё раз посчитайте явные дубликаты в таблице — убедитесь, что полностью от них избавились:"
   ]
  },
  {
   "cell_type": "code",
   "execution_count": 13,
   "metadata": {
    "id": "-8PuNWQ0_Zct"
   },
   "outputs": [
    {
     "data": {
      "text/plain": [
       "0"
      ]
     },
     "execution_count": 13,
     "metadata": {},
     "output_type": "execute_result"
    }
   ],
   "source": [
    "df.duplicated().sum() # проверка на отсутствие дубликатов"
   ]
  },
  {
   "cell_type": "markdown",
   "metadata": {
    "id": "QlFBsxAr_Zct"
   },
   "source": [
    "Теперь избавьтесь от неявных дубликатов в колонке `genre`. Например, название одного и того же жанра может быть записано немного по-разному. Такие ошибки тоже повлияют на результат исследования."
   ]
  },
  {
   "cell_type": "markdown",
   "metadata": {
    "id": "eSjWwsOh_Zct"
   },
   "source": [
    "Выведите на экран список уникальных названий жанров, отсортированный в алфавитном порядке. Для этого:\n",
    "* извлеките нужный столбец датафрейма, \n",
    "* примените к нему метод сортировки,\n",
    "* для отсортированного столбца вызовите метод, который вернёт уникальные значения из столбца."
   ]
  },
  {
   "cell_type": "code",
   "execution_count": 14,
   "metadata": {
    "id": "JIUcqzZN_Zct"
   },
   "outputs": [
    {
     "data": {
      "text/plain": [
       "array(['acid', 'acoustic', 'action', 'adult', 'africa', 'afrikaans',\n",
       "       'alternative', 'alternativepunk', 'ambient', 'americana',\n",
       "       'animated', 'anime', 'arabesk', 'arabic', 'arena',\n",
       "       'argentinetango', 'art', 'audiobook', 'author', 'avantgarde',\n",
       "       'axé', 'baile', 'balkan', 'beats', 'bigroom', 'black', 'bluegrass',\n",
       "       'blues', 'bollywood', 'bossa', 'brazilian', 'breakbeat', 'breaks',\n",
       "       'broadway', 'cantautori', 'cantopop', 'canzone', 'caribbean',\n",
       "       'caucasian', 'celtic', 'chamber', 'chanson', 'children', 'chill',\n",
       "       'chinese', 'choral', 'christian', 'christmas', 'classical',\n",
       "       'classicmetal', 'club', 'colombian', 'comedy', 'conjazz',\n",
       "       'contemporary', 'country', 'cuban', 'dance', 'dancehall',\n",
       "       'dancepop', 'dark', 'death', 'deep', 'deutschrock', 'deutschspr',\n",
       "       'dirty', 'disco', 'dnb', 'documentary', 'downbeat', 'downtempo',\n",
       "       'drum', 'dub', 'dubstep', 'eastern', 'easy', 'electronic',\n",
       "       'electropop', 'emo', 'entehno', 'epicmetal', 'estrada', 'ethnic',\n",
       "       'eurofolk', 'european', 'experimental', 'extrememetal', 'fado',\n",
       "       'fairytail', 'film', 'fitness', 'flamenco', 'folk', 'folklore',\n",
       "       'folkmetal', 'folkrock', 'folktronica', 'forró', 'frankreich',\n",
       "       'französisch', 'french', 'funk', 'future', 'gangsta', 'garage',\n",
       "       'german', 'ghazal', 'gitarre', 'glitch', 'gospel', 'gothic',\n",
       "       'grime', 'grunge', 'gypsy', 'handsup', \"hard'n'heavy\", 'hardcore',\n",
       "       'hardstyle', 'hardtechno', 'hip', 'hip-hop', 'hiphop',\n",
       "       'historisch', 'holiday', 'hop', 'horror', 'house', 'hymn', 'idm',\n",
       "       'independent', 'indian', 'indie', 'indipop', 'industrial',\n",
       "       'inspirational', 'instrumental', 'international', 'irish', 'jam',\n",
       "       'japanese', 'jazz', 'jewish', 'jpop', 'jungle', 'k-pop',\n",
       "       'karadeniz', 'karaoke', 'kayokyoku', 'korean', 'laiko', 'latin',\n",
       "       'latino', 'leftfield', 'local', 'lounge', 'loungeelectronic',\n",
       "       'lovers', 'malaysian', 'mandopop', 'marschmusik', 'meditative',\n",
       "       'mediterranean', 'melodic', 'metal', 'metalcore', 'mexican',\n",
       "       'middle', 'minimal', 'miscellaneous', 'modern', 'mood', 'mpb',\n",
       "       'muslim', 'native', 'neoklassik', 'neue', 'new', 'newage',\n",
       "       'newwave', 'nu', 'nujazz', 'numetal', 'oceania', 'old', 'opera',\n",
       "       'orchestral', 'other', 'piano', 'podcasts', 'pop', 'popdance',\n",
       "       'popelectronic', 'popeurodance', 'poprussian', 'post',\n",
       "       'posthardcore', 'postrock', 'power', 'progmetal', 'progressive',\n",
       "       'psychedelic', 'punjabi', 'punk', 'quebecois', 'ragga', 'ram',\n",
       "       'rancheras', 'rap', 'rave', 'reggae', 'reggaeton', 'regional',\n",
       "       'relax', 'religious', 'retro', 'rhythm', 'rnb', 'rnr', 'rock',\n",
       "       'rockabilly', 'rockalternative', 'rockindie', 'rockother',\n",
       "       'romance', 'roots', 'ruspop', 'rusrap', 'rusrock', 'russian',\n",
       "       'salsa', 'samba', 'scenic', 'schlager', 'self', 'sertanejo',\n",
       "       'shanson', 'shoegazing', 'showtunes', 'singer', 'ska', 'skarock',\n",
       "       'slow', 'smooth', 'soft', 'soul', 'soulful', 'sound', 'soundtrack',\n",
       "       'southern', 'specialty', 'speech', 'spiritual', 'sport',\n",
       "       'stonerrock', 'surf', 'swing', 'synthpop', 'synthrock',\n",
       "       'sängerportrait', 'tango', 'tanzorchester', 'taraftar', 'tatar',\n",
       "       'tech', 'techno', 'teen', 'thrash', 'top', 'traditional',\n",
       "       'tradjazz', 'trance', 'tribal', 'trip', 'triphop', 'tropical',\n",
       "       'türk', 'türkçe', 'ukrrock', 'unknown', 'urban', 'uzbek',\n",
       "       'variété', 'vi', 'videogame', 'vocal', 'western', 'world',\n",
       "       'worldbeat', 'ïîï', 'электроника'], dtype=object)"
      ]
     },
     "execution_count": 14,
     "metadata": {},
     "output_type": "execute_result"
    }
   ],
   "source": [
    "df['genre'].sort_values().unique()\n",
    "# Просмотр уникальных названий жанров"
   ]
  },
  {
   "cell_type": "markdown",
   "metadata": {
    "id": "qej-Qmuo_Zct"
   },
   "source": [
    "Просмотрите список и найдите неявные дубликаты названия `hiphop`. Это могут быть названия с ошибками или альтернативные названия того же жанра.\n",
    "\n",
    "Вы увидите следующие неявные дубликаты:\n",
    "* *hip*,\n",
    "* *hop*,\n",
    "* *hip-hop*.\n",
    "\n",
    "Чтобы очистить от них таблицу, напишите функцию `replace_wrong_genres()` с двумя параметрами: \n",
    "* `wrong_genres` — список дубликатов,\n",
    "* `correct_genre` — строка с правильным значением.\n",
    "\n",
    "Функция должна исправить колонку `genre` в таблице `df`: заменить каждое значение из списка `wrong_genres` на значение из `correct_genre`."
   ]
  },
  {
   "cell_type": "code",
   "execution_count": 15,
   "metadata": {
    "id": "ErNDkmns_Zct"
   },
   "outputs": [],
   "source": [
    "def replace_wrong_genres(wrong_genres, correct_genre):\n",
    "    for wrong_genre in wrong_genres:\n",
    "        df['genre'] = df['genre'].replace(wrong_genres, correct_genre)\n",
    "# Функция для замены неявных дубликатов"
   ]
  },
  {
   "cell_type": "markdown",
   "metadata": {
    "id": "aDoBJxbA_Zct"
   },
   "source": [
    "Вызовите `replace_wrong_genres()` и передайте ей такие аргументы, чтобы она устранила неявные дубликаты: вместо `hip`, `hop` и `hip-hop` в таблице должно быть значение `hiphop`:"
   ]
  },
  {
   "cell_type": "code",
   "execution_count": 16,
   "metadata": {
    "id": "YN5i2hpmSo09"
   },
   "outputs": [],
   "source": [
    "replace_wrong_genres(['hip', 'hop', 'hip-hop'], 'hiphop')\n",
    "# Устранение неявных дубликатов"
   ]
  },
  {
   "cell_type": "markdown",
   "metadata": {},
   "source": [
    "<div class=\"alert alert-warning\">\n",
    "<b>⚠️ Комментарий ревьюера v1:</b> \n",
    "<br>Здесь можно заменить дубликаты не создавая дополнительные переменные:\n",
    "    \n",
    "    replace_wrong_genres(['hip', 'hop', 'hip-hop'], 'hiphop')\n",
    "</div>"
   ]
  },
  {
   "cell_type": "markdown",
   "metadata": {
    "id": "zQKF16_RG15m"
   },
   "source": [
    "Проверьте, что заменили неправильные названия:\n",
    "\n",
    "*   hip\n",
    "*   hop\n",
    "*   hip-hop\n",
    "\n",
    "Выведите отсортированный список уникальных значений столбца `genre`:"
   ]
  },
  {
   "cell_type": "code",
   "execution_count": 17,
   "metadata": {
    "id": "wvixALnFG15m"
   },
   "outputs": [
    {
     "data": {
      "text/plain": [
       "array(['acid', 'acoustic', 'action', 'adult', 'africa', 'afrikaans',\n",
       "       'alternative', 'alternativepunk', 'ambient', 'americana',\n",
       "       'animated', 'anime', 'arabesk', 'arabic', 'arena',\n",
       "       'argentinetango', 'art', 'audiobook', 'author', 'avantgarde',\n",
       "       'axé', 'baile', 'balkan', 'beats', 'bigroom', 'black', 'bluegrass',\n",
       "       'blues', 'bollywood', 'bossa', 'brazilian', 'breakbeat', 'breaks',\n",
       "       'broadway', 'cantautori', 'cantopop', 'canzone', 'caribbean',\n",
       "       'caucasian', 'celtic', 'chamber', 'chanson', 'children', 'chill',\n",
       "       'chinese', 'choral', 'christian', 'christmas', 'classical',\n",
       "       'classicmetal', 'club', 'colombian', 'comedy', 'conjazz',\n",
       "       'contemporary', 'country', 'cuban', 'dance', 'dancehall',\n",
       "       'dancepop', 'dark', 'death', 'deep', 'deutschrock', 'deutschspr',\n",
       "       'dirty', 'disco', 'dnb', 'documentary', 'downbeat', 'downtempo',\n",
       "       'drum', 'dub', 'dubstep', 'eastern', 'easy', 'electronic',\n",
       "       'electropop', 'emo', 'entehno', 'epicmetal', 'estrada', 'ethnic',\n",
       "       'eurofolk', 'european', 'experimental', 'extrememetal', 'fado',\n",
       "       'fairytail', 'film', 'fitness', 'flamenco', 'folk', 'folklore',\n",
       "       'folkmetal', 'folkrock', 'folktronica', 'forró', 'frankreich',\n",
       "       'französisch', 'french', 'funk', 'future', 'gangsta', 'garage',\n",
       "       'german', 'ghazal', 'gitarre', 'glitch', 'gospel', 'gothic',\n",
       "       'grime', 'grunge', 'gypsy', 'handsup', \"hard'n'heavy\", 'hardcore',\n",
       "       'hardstyle', 'hardtechno', 'hiphop', 'historisch', 'holiday',\n",
       "       'horror', 'house', 'hymn', 'idm', 'independent', 'indian', 'indie',\n",
       "       'indipop', 'industrial', 'inspirational', 'instrumental',\n",
       "       'international', 'irish', 'jam', 'japanese', 'jazz', 'jewish',\n",
       "       'jpop', 'jungle', 'k-pop', 'karadeniz', 'karaoke', 'kayokyoku',\n",
       "       'korean', 'laiko', 'latin', 'latino', 'leftfield', 'local',\n",
       "       'lounge', 'loungeelectronic', 'lovers', 'malaysian', 'mandopop',\n",
       "       'marschmusik', 'meditative', 'mediterranean', 'melodic', 'metal',\n",
       "       'metalcore', 'mexican', 'middle', 'minimal', 'miscellaneous',\n",
       "       'modern', 'mood', 'mpb', 'muslim', 'native', 'neoklassik', 'neue',\n",
       "       'new', 'newage', 'newwave', 'nu', 'nujazz', 'numetal', 'oceania',\n",
       "       'old', 'opera', 'orchestral', 'other', 'piano', 'podcasts', 'pop',\n",
       "       'popdance', 'popelectronic', 'popeurodance', 'poprussian', 'post',\n",
       "       'posthardcore', 'postrock', 'power', 'progmetal', 'progressive',\n",
       "       'psychedelic', 'punjabi', 'punk', 'quebecois', 'ragga', 'ram',\n",
       "       'rancheras', 'rap', 'rave', 'reggae', 'reggaeton', 'regional',\n",
       "       'relax', 'religious', 'retro', 'rhythm', 'rnb', 'rnr', 'rock',\n",
       "       'rockabilly', 'rockalternative', 'rockindie', 'rockother',\n",
       "       'romance', 'roots', 'ruspop', 'rusrap', 'rusrock', 'russian',\n",
       "       'salsa', 'samba', 'scenic', 'schlager', 'self', 'sertanejo',\n",
       "       'shanson', 'shoegazing', 'showtunes', 'singer', 'ska', 'skarock',\n",
       "       'slow', 'smooth', 'soft', 'soul', 'soulful', 'sound', 'soundtrack',\n",
       "       'southern', 'specialty', 'speech', 'spiritual', 'sport',\n",
       "       'stonerrock', 'surf', 'swing', 'synthpop', 'synthrock',\n",
       "       'sängerportrait', 'tango', 'tanzorchester', 'taraftar', 'tatar',\n",
       "       'tech', 'techno', 'teen', 'thrash', 'top', 'traditional',\n",
       "       'tradjazz', 'trance', 'tribal', 'trip', 'triphop', 'tropical',\n",
       "       'türk', 'türkçe', 'ukrrock', 'unknown', 'urban', 'uzbek',\n",
       "       'variété', 'vi', 'videogame', 'vocal', 'western', 'world',\n",
       "       'worldbeat', 'ïîï', 'электроника'], dtype=object)"
      ]
     },
     "execution_count": 17,
     "metadata": {},
     "output_type": "execute_result"
    }
   ],
   "source": [
    "df['genre'].sort_values().unique() # Проверка на неявные дубликаты"
   ]
  },
  {
   "cell_type": "markdown",
   "metadata": {
    "id": "jz6a9-7HQUDd"
   },
   "source": [
    "**Выводы**\n",
    "\n",
    "Предобработка обнаружила три проблемы в данных:\n",
    "\n",
    "- нарушения в стиле заголовков,\n",
    "- пропущенные значения,\n",
    "- дубликаты — явные и неявные.\n",
    "\n",
    "Вы исправили заголовки, чтобы упростить работу с таблицей. Без дубликатов исследование станет более точным.\n",
    "\n",
    "Пропущенные значения вы заменили на `'unknown'`. Ещё предстоит увидеть, не повредят ли исследованию пропуски в колонке `genre`.\n",
    "\n",
    "Теперь можно перейти к проверке гипотез. "
   ]
  },
  {
   "cell_type": "markdown",
   "metadata": {
    "id": "WttZHXH0SqKk"
   },
   "source": [
    "## Проверка гипотез"
   ]
  },
  {
   "cell_type": "markdown",
   "metadata": {
    "id": "Im936VVi_Zcu"
   },
   "source": [
    "### Сравнение поведения пользователей двух столиц"
   ]
  },
  {
   "cell_type": "markdown",
   "metadata": {
    "id": "nwt_MuaL_Zcu"
   },
   "source": [
    "Первая гипотеза утверждает, что пользователи по-разному слушают музыку в Москве и Санкт-Петербурге. Проверьте это предположение по данным о трёх днях недели — понедельнике, среде и пятнице. Для этого:\n",
    "\n",
    "* Разделите пользователей Москвы и Санкт-Петербурга\n",
    "* Сравните, сколько треков послушала каждая группа пользователей в понедельник, среду и пятницу.\n"
   ]
  },
  {
   "cell_type": "markdown",
   "metadata": {
    "id": "8Dw_YMmT_Zcu"
   },
   "source": [
    "Для тренировки сначала выполните каждый из расчётов по отдельности. \n",
    "\n",
    "Оцените активность пользователей в каждом городе. Сгруппируйте данные по городу и посчитайте прослушивания в каждой группе.\n",
    "\n"
   ]
  },
  {
   "cell_type": "code",
   "execution_count": 18,
   "metadata": {
    "id": "0_Qs96oh_Zcu"
   },
   "outputs": [
    {
     "data": {
      "text/plain": [
       "city\n",
       "Moscow              42741\n",
       "Saint-Petersburg    18512\n",
       "Name: track, dtype: int64"
      ]
     },
     "execution_count": 18,
     "metadata": {},
     "output_type": "execute_result"
    }
   ],
   "source": [
    "df.groupby('city')['track'].count() # Подсчёт прослушиваний в каждом городе"
   ]
  },
  {
   "cell_type": "markdown",
   "metadata": {
    "id": "dzli3w8o_Zcu"
   },
   "source": [
    "В Москве прослушиваний больше, чем в Петербурге. Из этого не следует, что московские пользователи чаще слушают музыку. Просто самих пользователей в Москве больше.\n",
    "\n",
    "Теперь сгруппируйте данные по дню недели и подсчитайте прослушивания в понедельник, среду и пятницу. Учтите, что в данных есть информация о прослушиваниях только за эти дни.\n"
   ]
  },
  {
   "cell_type": "code",
   "execution_count": 19,
   "metadata": {
    "id": "uZMKjiJz_Zcu"
   },
   "outputs": [
    {
     "data": {
      "text/plain": [
       "day\n",
       "Friday       21840\n",
       "Monday       21354\n",
       "Wednesday    18059\n",
       "Name: track, dtype: int64"
      ]
     },
     "execution_count": 19,
     "metadata": {},
     "output_type": "execute_result"
    }
   ],
   "source": [
    "df.groupby('day')['track'].count() # Подсчёт прослушиваний в каждый из трёх дней"
   ]
  },
  {
   "cell_type": "markdown",
   "metadata": {
    "id": "cC2tNrlL_Zcu"
   },
   "source": [
    "В среднем пользователи из двух городов менее активны по средам. Но картина может измениться, если рассмотреть каждый город в отдельности."
   ]
  },
  {
   "cell_type": "markdown",
   "metadata": {
    "id": "POzs8bGa_Zcu"
   },
   "source": [
    "Вы видели, как работает группировка по городу и по дням недели. Теперь напишите функцию, которая объединит два эти расчёта.\n",
    "\n",
    "Создайте функцию `number_tracks()`, которая посчитает прослушивания для заданного дня и города. Ей понадобятся два параметра:\n",
    "* день недели,\n",
    "* название города.\n",
    "\n",
    "В функции сохраните в переменную строки исходной таблицы, у которых значение:\n",
    "  * в колонке `day` равно параметру `day`,\n",
    "  * в колонке `city` равно параметру `city`.\n",
    "\n",
    "Для этого примените последовательную фильтрацию с логической индексацией.\n",
    "\n",
    "Затем посчитайте значения в столбце `user_id` получившейся таблицы. Результат сохраните в новую переменную. Верните эту переменную из функции."
   ]
  },
  {
   "cell_type": "code",
   "execution_count": 20,
   "metadata": {
    "id": "Nz3GdQB1_Zcu"
   },
   "outputs": [],
   "source": [
    "# <создание функции number_tracks()>\n",
    "# В переменной track_list сохраняются те строки таблицы df, для которых \n",
    "# значение в столбце 'day' равно параметру day и одновременно значение\n",
    "# в столбце 'city' равно параметру city (используйте последовательную фильтрацию\n",
    "# с помощью логической индексации).\n",
    "# В переменной track_list_count сохраняется число значений столбца 'user_id',\n",
    "# рассчитанное методом count() для таблицы track_list.\n",
    "# Функция возвращает число - значение track_list_count.\n",
    "\n",
    "# Функция для подсчёта прослушиваний для конкретного города и дня.\n",
    "# С помощью последовательной фильтрации с логической индексацией она \n",
    "# сначала получит из исходной таблицы строки с нужным днём,\n",
    "# затем из результата отфильтрует строки с нужным городом,\n",
    "# методом count() посчитает количество значений в колонке user_id. \n",
    "# Это количество функция вернёт в качестве результата\n",
    "def number_tracks(day, city): # Объявляется функция с двумя параметрами: day, city.\n",
    "    track_list = df[df['day'] == day]\n",
    "    track_list = track_list[track_list['city'] == city]\n",
    "    track_list_count = track_list['user_id'].count()\n",
    "    return track_list_count"
   ]
  },
  {
   "cell_type": "markdown",
   "metadata": {
    "id": "ytf7xFrFJQ2r"
   },
   "source": [
    "Вызовите `number_tracks()` шесть раз, меняя значение параметров — так, чтобы получить данные для каждого города в каждый из трёх дней."
   ]
  },
  {
   "cell_type": "code",
   "execution_count": 21,
   "metadata": {
    "id": "rJcRATNQ_Zcu"
   },
   "outputs": [
    {
     "data": {
      "text/plain": [
       "15740"
      ]
     },
     "execution_count": 21,
     "metadata": {},
     "output_type": "execute_result"
    }
   ],
   "source": [
    "number_tracks('Monday', 'Moscow') # количество прослушиваний в Москве по понедельникам"
   ]
  },
  {
   "cell_type": "code",
   "execution_count": 22,
   "metadata": {
    "id": "hq_ncZ5T_Zcu"
   },
   "outputs": [
    {
     "data": {
      "text/plain": [
       "5614"
      ]
     },
     "execution_count": 22,
     "metadata": {},
     "output_type": "execute_result"
    }
   ],
   "source": [
    "number_tracks('Monday', 'Saint-Petersburg') # количество прослушиваний в Санкт-Петербурге по понедельникам"
   ]
  },
  {
   "cell_type": "code",
   "execution_count": 23,
   "metadata": {
    "id": "_NTy2VPU_Zcu"
   },
   "outputs": [
    {
     "data": {
      "text/plain": [
       "11056"
      ]
     },
     "execution_count": 23,
     "metadata": {},
     "output_type": "execute_result"
    }
   ],
   "source": [
    "number_tracks('Wednesday', 'Moscow') # количество прослушиваний в Москве по средам"
   ]
  },
  {
   "cell_type": "code",
   "execution_count": 24,
   "metadata": {
    "id": "j2y3TAwo_Zcu"
   },
   "outputs": [
    {
     "data": {
      "text/plain": [
       "7003"
      ]
     },
     "execution_count": 24,
     "metadata": {},
     "output_type": "execute_result"
    }
   ],
   "source": [
    "number_tracks('Wednesday', 'Saint-Petersburg') # количество прослушиваний в Санкт-Петербурге по средам"
   ]
  },
  {
   "cell_type": "code",
   "execution_count": 25,
   "metadata": {
    "id": "vYDw5u_K_Zcu"
   },
   "outputs": [
    {
     "data": {
      "text/plain": [
       "15945"
      ]
     },
     "execution_count": 25,
     "metadata": {},
     "output_type": "execute_result"
    }
   ],
   "source": [
    "number_tracks('Friday', 'Moscow') # количество прослушиваний в Москве по пятницам"
   ]
  },
  {
   "cell_type": "code",
   "execution_count": 26,
   "metadata": {
    "id": "8_yzFtW3_Zcu"
   },
   "outputs": [
    {
     "data": {
      "text/plain": [
       "5895"
      ]
     },
     "execution_count": 26,
     "metadata": {},
     "output_type": "execute_result"
    }
   ],
   "source": [
    "number_tracks('Friday', 'Saint-Petersburg') # количество прослушиваний в Санкт-Петербурге по пятницам"
   ]
  },
  {
   "cell_type": "markdown",
   "metadata": {
    "id": "7QXffbO-_Zcu"
   },
   "source": [
    "Создайте c помощью конструктора `pd.DataFrame` таблицу, где\n",
    "* названия колонок — `['city', 'monday', 'wednesday', 'friday']`;\n",
    "* данные — результаты, которые вы получили с помощью `number_tracks`."
   ]
  },
  {
   "cell_type": "code",
   "execution_count": 27,
   "metadata": {
    "id": "APAcLpOr_Zcu"
   },
   "outputs": [
    {
     "data": {
      "text/html": [
       "<div>\n",
       "<style scoped>\n",
       "    .dataframe tbody tr th:only-of-type {\n",
       "        vertical-align: middle;\n",
       "    }\n",
       "\n",
       "    .dataframe tbody tr th {\n",
       "        vertical-align: top;\n",
       "    }\n",
       "\n",
       "    .dataframe thead th {\n",
       "        text-align: right;\n",
       "    }\n",
       "</style>\n",
       "<table border=\"1\" class=\"dataframe\">\n",
       "  <thead>\n",
       "    <tr style=\"text-align: right;\">\n",
       "      <th></th>\n",
       "      <th>city</th>\n",
       "      <th>monday</th>\n",
       "      <th>wednesday</th>\n",
       "      <th>friday</th>\n",
       "    </tr>\n",
       "  </thead>\n",
       "  <tbody>\n",
       "    <tr>\n",
       "      <th>0</th>\n",
       "      <td>Moscow</td>\n",
       "      <td>15740</td>\n",
       "      <td>11056</td>\n",
       "      <td>15945</td>\n",
       "    </tr>\n",
       "    <tr>\n",
       "      <th>1</th>\n",
       "      <td>Saint-Petersburg</td>\n",
       "      <td>5614</td>\n",
       "      <td>7003</td>\n",
       "      <td>5895</td>\n",
       "    </tr>\n",
       "  </tbody>\n",
       "</table>\n",
       "</div>"
      ],
      "text/plain": [
       "               city  monday  wednesday  friday\n",
       "0            Moscow   15740      11056   15945\n",
       "1  Saint-Petersburg    5614       7003    5895"
      ]
     },
     "execution_count": 27,
     "metadata": {},
     "output_type": "execute_result"
    }
   ],
   "source": [
    "columns = ['city', 'monday', 'wednesday', 'friday']\n",
    "data = [['Moscow', 15740, 11056, 15945], ['Saint-Petersburg', 5614, 7003, 5895]]\n",
    "\n",
    "pd.DataFrame(data=data, columns=columns) # Таблица с результатами"
   ]
  },
  {
   "cell_type": "markdown",
   "metadata": {
    "id": "-EgPIHYu_Zcu"
   },
   "source": [
    "**Выводы**\n",
    "\n",
    "Данные показывают разницу поведения пользователей:\n",
    "\n",
    "- В Москве пик прослушиваний приходится на понедельник и пятницу, а в среду заметен спад.\n",
    "- В Петербурге, наоборот, больше слушают музыку по средам. Активность в понедельник и пятницу здесь почти в равной мере уступает среде.\n",
    "\n",
    "Значит, данные говорят в пользу первой гипотезы."
   ]
  },
  {
   "cell_type": "markdown",
   "metadata": {
    "id": "atZAxtq4_Zcu"
   },
   "source": [
    "### Музыка в начале и в конце недели"
   ]
  },
  {
   "cell_type": "markdown",
   "metadata": {
    "id": "eXrQqXFH_Zcu"
   },
   "source": [
    "Согласно второй гипотезе, утром в понедельник в Москве преобладают одни жанры, а в Петербурге — другие. Так же и вечером пятницы преобладают разные жанры — в зависимости от города."
   ]
  },
  {
   "cell_type": "markdown",
   "metadata": {
    "id": "S8UcW6Hw_Zcu"
   },
   "source": [
    "Сохраните таблицы с данными в две переменные:\n",
    "* по Москве — в `moscow_general`;\n",
    "* по Санкт-Петербургу — в `spb_general`."
   ]
  },
  {
   "cell_type": "code",
   "execution_count": 28,
   "metadata": {
    "id": "qeaFfM_P_Zcu"
   },
   "outputs": [],
   "source": [
    "moscow_general = df[df['city'] == 'Moscow'] # получение таблицы moscow_general из тех строк таблицы df, \n",
    "# для которых значение в столбце 'city' равно 'Moscow'\n"
   ]
  },
  {
   "cell_type": "code",
   "execution_count": 29,
   "metadata": {
    "id": "ORaVRKto_Zcu"
   },
   "outputs": [],
   "source": [
    "spb_general = df[df['city'] == 'Saint-Petersburg'] # получение таблицы spb_general из тех строк таблицы df,\n",
    "# для которых значение в столбце 'city' равно 'Saint-Petersburg'\n"
   ]
  },
  {
   "cell_type": "markdown",
   "metadata": {
    "id": "MEJV-CX2_Zcu"
   },
   "source": [
    "Создайте функцию `genre_weekday()` с четырьмя параметрами:\n",
    "* таблица (датафрейм) с данными,\n",
    "* день недели,\n",
    "* начальная временная метка в формате 'hh:mm', \n",
    "* последняя временная метка в формате 'hh:mm'.\n",
    "\n",
    "Функция должна вернуть информацию о топ-10 жанров тех треков, которые прослушивали в указанный день, в промежутке между двумя отметками времени."
   ]
  },
  {
   "cell_type": "code",
   "execution_count": 30,
   "metadata": {
    "id": "laJT9BYl_Zcu"
   },
   "outputs": [],
   "source": [
    "def genre_weekday(table, day, time1, time2): # 0\n",
    "    genre_df = table[table['day'] == day]\n",
    "    genre_df = genre_df[genre_df['time'] > time1]\n",
    "    genre_df = genre_df[genre_df['time'] < time2] # 1\n",
    "    genre_df_count = genre_df.groupby('genre')['track'].count() # 2\n",
    "    genre_df_sorted = genre_df_count.sort_values(ascending=False) # 3\n",
    "    return genre_df_sorted.head(10) # 4"
   ]
  },
  {
   "cell_type": "markdown",
   "metadata": {
    "id": "la2s2_PF_Zcu"
   },
   "source": [
    "Cравните результаты функции `genre_weekday()` для Москвы и Санкт-Петербурга в понедельник утром (с 7:00 до 11:00) и в пятницу вечером (с 17:00 до 23:00):"
   ]
  },
  {
   "cell_type": "code",
   "execution_count": 31,
   "metadata": {
    "id": "yz7itPUQ_Zcu"
   },
   "outputs": [
    {
     "data": {
      "text/plain": [
       "genre\n",
       "pop            781\n",
       "dance          549\n",
       "electronic     480\n",
       "rock           474\n",
       "hiphop         286\n",
       "ruspop         186\n",
       "world          181\n",
       "rusrap         175\n",
       "alternative    164\n",
       "unknown        161\n",
       "Name: track, dtype: int64"
      ]
     },
     "execution_count": 31,
     "metadata": {},
     "output_type": "execute_result"
    }
   ],
   "source": [
    "# вызов функции для утра понедельника в Москве (вместо df — таблица moscow_general)\n",
    "# объекты, хранящие время, являются строками и сравниваются как строки\n",
    "# пример вызова: genre_weekday(moscow_general, 'Monday', '07:00', '11:00')\n",
    "genre_weekday(moscow_general, 'Monday', '07:00', '11:00')"
   ]
  },
  {
   "cell_type": "code",
   "execution_count": 32,
   "metadata": {
    "id": "kwUcHPdy_Zcu"
   },
   "outputs": [
    {
     "data": {
      "text/plain": [
       "genre\n",
       "pop            218\n",
       "dance          182\n",
       "rock           162\n",
       "electronic     147\n",
       "hiphop          80\n",
       "ruspop          64\n",
       "alternative     58\n",
       "rusrap          55\n",
       "jazz            44\n",
       "classical       40\n",
       "Name: track, dtype: int64"
      ]
     },
     "execution_count": 32,
     "metadata": {},
     "output_type": "execute_result"
    }
   ],
   "source": [
    "genre_weekday(spb_general, 'Monday', '07:00', '11:00') # вызов функции для утра понедельника в Петербурге (вместо df — таблица spb_general)"
   ]
  },
  {
   "cell_type": "code",
   "execution_count": 33,
   "metadata": {
    "id": "EzXVRE1o_Zcu"
   },
   "outputs": [
    {
     "data": {
      "text/plain": [
       "genre\n",
       "pop            713\n",
       "rock           517\n",
       "dance          495\n",
       "electronic     482\n",
       "hiphop         273\n",
       "world          208\n",
       "ruspop         170\n",
       "alternative    163\n",
       "classical      163\n",
       "rusrap         142\n",
       "Name: track, dtype: int64"
      ]
     },
     "execution_count": 33,
     "metadata": {},
     "output_type": "execute_result"
    }
   ],
   "source": [
    "genre_weekday(moscow_general, 'Friday', '17:00', '23:00') # вызов функции для вечера пятницы в Москве"
   ]
  },
  {
   "cell_type": "code",
   "execution_count": 34,
   "metadata": {
    "id": "JZaEKu5v_Zcu"
   },
   "outputs": [
    {
     "data": {
      "text/plain": [
       "genre\n",
       "pop            256\n",
       "electronic     216\n",
       "rock           216\n",
       "dance          210\n",
       "hiphop          97\n",
       "alternative     63\n",
       "jazz            61\n",
       "classical       60\n",
       "rusrap          59\n",
       "world           54\n",
       "Name: track, dtype: int64"
      ]
     },
     "execution_count": 34,
     "metadata": {},
     "output_type": "execute_result"
    }
   ],
   "source": [
    " genre_weekday(spb_general, 'Friday', '17:00', '23:00') # вызов функции для вечера пятницы в Петербурге"
   ]
  },
  {
   "cell_type": "markdown",
   "metadata": {
    "id": "wrCe4MNX_Zcu"
   },
   "source": [
    "**Выводы**\n",
    "\n",
    "Если сравнить топ-10 жанров в понедельник утром, можно сделать такие выводы:\n",
    "\n",
    "1. В Москве и Петербурге слушают похожую музыку. Единственное отличие — в московский рейтинг вошёл жанр “world”, а в петербургский — джаз и классика.\n",
    "\n",
    "2. В Москве пропущенных значений оказалось так много, что значение `'unknown'` заняло десятое место среди самых популярных жанров. Значит, пропущенные значения занимают существенную долю в данных и угрожают достоверности исследования.\n",
    "\n",
    "Вечер пятницы не меняет эту картину. Некоторые жанры поднимаются немного выше, другие спускаются, но в целом топ-10 остаётся тем же самым.\n",
    "\n",
    "Таким образом, вторая гипотеза подтвердилась лишь частично:\n",
    "* Пользователи слушают похожую музыку в начале недели и в конце.\n",
    "* Разница между Москвой и Петербургом не слишком выражена. В Москве чаще слушают русскую популярную музыку, в Петербурге — джаз.\n",
    "\n",
    "Однако пропуски в данных ставят под сомнение этот результат. В Москве их так много, что рейтинг топ-10 мог бы выглядеть иначе, если бы не утерянные  данные о жанрах."
   ]
  },
  {
   "cell_type": "markdown",
   "metadata": {
    "id": "JolODAqr_Zcu"
   },
   "source": [
    "### Жанровые предпочтения в Москве и Петербурге\n",
    "\n",
    "Гипотеза: Петербург — столица рэпа, музыку этого жанра там слушают чаще, чем в Москве.  А Москва — город контрастов, в котором, тем не менее, преобладает поп-музыка."
   ]
  },
  {
   "cell_type": "markdown",
   "metadata": {
    "id": "DlegSvaT_Zcu"
   },
   "source": [
    "Сгруппируйте таблицу `moscow_general` по жанру и посчитайте прослушивания треков каждого жанра методом `count()`. Затем отсортируйте результат в порядке убывания и сохраните его в таблице `moscow_genres`."
   ]
  },
  {
   "cell_type": "code",
   "execution_count": 35,
   "metadata": {
    "id": "r19lIPke_Zcu"
   },
   "outputs": [],
   "source": [
    "# одной строкой: группировка таблицы moscow_general по столбцу 'genre', \n",
    "# подсчёт числа значений 'genre' в этой группировке методом count(), \n",
    "# сортировка получившегося Series в порядке убывания и сохранение в moscow_genres\n",
    "moscow_genres = moscow_general.groupby('genre')['track'].count().sort_values(ascending=False)"
   ]
  },
  {
   "cell_type": "markdown",
   "metadata": {
    "id": "6kMuomxTiIr8"
   },
   "source": [
    "Выведите на экран первые десять строк `moscow_genres`:"
   ]
  },
  {
   "cell_type": "code",
   "execution_count": 36,
   "metadata": {
    "id": "WhCSooF8_Zcv"
   },
   "outputs": [
    {
     "data": {
      "text/plain": [
       "genre\n",
       "pop            5892\n",
       "dance          4435\n",
       "rock           3965\n",
       "electronic     3786\n",
       "hiphop         2096\n",
       "classical      1616\n",
       "world          1432\n",
       "alternative    1379\n",
       "ruspop         1372\n",
       "rusrap         1161\n",
       "Name: track, dtype: int64"
      ]
     },
     "execution_count": 36,
     "metadata": {},
     "output_type": "execute_result"
    }
   ],
   "source": [
    "moscow_genres.head(10) # просмотр первых 10 строк moscow_genres"
   ]
  },
  {
   "cell_type": "markdown",
   "metadata": {
    "id": "cnPG2vnN_Zcv"
   },
   "source": [
    "Теперь повторите то же и для Петербурга.\n",
    "\n",
    "Сгруппируйте таблицу `spb_general` по жанру. Посчитайте прослушивания треков каждого жанра. Результат отсортируйте в порядке убывания и сохраните в таблице `spb_genres`:\n"
   ]
  },
  {
   "cell_type": "code",
   "execution_count": 37,
   "metadata": {
    "id": "gluLIpE7_Zcv"
   },
   "outputs": [],
   "source": [
    "# одной строкой: группировка таблицы spb_general по столбцу 'genre', \n",
    "# подсчёт числа значений 'genre' в этой группировке методом count(), \n",
    "# сортировка получившегося Series в порядке убывания и сохранение в spb_genres\n",
    "spb_genres = spb_general.groupby('genre')['track'].count().sort_values(ascending=False)"
   ]
  },
  {
   "cell_type": "markdown",
   "metadata": {
    "id": "5Doha_ODgyQ8"
   },
   "source": [
    "Выведите на экран первые десять строк `spb_genres`:"
   ]
  },
  {
   "cell_type": "code",
   "execution_count": 38,
   "metadata": {
    "id": "uaGJHjVU_Zcv"
   },
   "outputs": [
    {
     "data": {
      "text/plain": [
       "genre\n",
       "pop            2431\n",
       "dance          1932\n",
       "rock           1879\n",
       "electronic     1736\n",
       "hiphop          960\n",
       "alternative     649\n",
       "classical       646\n",
       "rusrap          564\n",
       "ruspop          538\n",
       "world           515\n",
       "Name: track, dtype: int64"
      ]
     },
     "execution_count": 38,
     "metadata": {},
     "output_type": "execute_result"
    }
   ],
   "source": [
    "spb_genres.head(10) # просмотр первых 10 строк spb_genres"
   ]
  },
  {
   "cell_type": "markdown",
   "metadata": {
    "id": "RY51YJYu_Zcv"
   },
   "source": [
    "**Выводы**"
   ]
  },
  {
   "cell_type": "markdown",
   "metadata": {
    "id": "nVhnJEm__Zcv"
   },
   "source": [
    "Гипотеза частично подтвердилась:\n",
    "* Поп-музыка — самый популярный жанр в Москве, как и предполагала гипотеза. Более того, в топ-10 жанров встречается близкий жанр — русская популярная музыка.\n",
    "* Вопреки ожиданиям, рэп одинаково популярен в Москве и Петербурге. \n"
   ]
  },
  {
   "cell_type": "markdown",
   "metadata": {
    "id": "ykKQ0N65_Zcv"
   },
   "source": [
    "## Итоги исследования"
   ]
  },
  {
   "cell_type": "markdown",
   "metadata": {
    "id": "tjUwbHb3_Zcv"
   },
   "source": [
    "Вы проверили три гипотезы и установили:\n",
    "\n",
    "1. День недели по-разному влияет на активность пользователей в Москве и Петербурге. \n",
    "\n",
    "Первая гипотеза полностью подтвердилась.\n",
    "\n",
    "2. Музыкальные предпочтения не сильно меняются в течение недели — будь то Москва или Петербург. Небольшие различия заметны в начале недели, по понедельникам:\n",
    "* в Москве слушают музыку жанра “world”,\n",
    "* в Петербурге — джаз и классику.\n",
    "\n",
    "Таким образом, вторая гипотеза подтвердилась лишь отчасти. Этот результат мог оказаться иным, если бы не пропуски в данных.\n",
    "\n",
    "3. Во вкусах пользователей Москвы и Петербурга больше общего чем различий. Вопреки ожиданиям, предпочтения жанров в Петербурге напоминают московские.\n",
    "\n",
    "Третья гипотеза не подтвердилась. Если различия в предпочтениях и существуют, на основной массе пользователей они незаметны.\n",
    "\n",
    "**На практике исследования содержат проверки статистических гипотез.**\n",
    "Из данных одного сервиса не всегда можно сделать вывод о всех жителях города.\n",
    "Проверки статистических гипотез покажут, насколько они достоверны, исходя из имеющихся данных. \n",
    "С методами проверок гипотез вы ещё познакомитесь в следующих темах."
   ]
  }
 ],
 "metadata": {
  "ExecuteTimeLog": [
   {
    "duration": 503,
    "start_time": "2022-04-13T17:08:02.433Z"
   },
   {
    "duration": 420,
    "start_time": "2022-04-13T17:10:12.492Z"
   },
   {
    "duration": 28,
    "start_time": "2022-04-13T17:10:58.598Z"
   },
   {
    "duration": 41,
    "start_time": "2022-04-13T17:12:05.400Z"
   },
   {
    "duration": 2342,
    "start_time": "2022-04-13T17:44:01.743Z"
   },
   {
    "duration": 2140,
    "start_time": "2022-04-13T17:44:49.099Z"
   },
   {
    "duration": 14,
    "start_time": "2022-04-13T17:45:50.736Z"
   },
   {
    "duration": 161,
    "start_time": "2022-04-13T17:46:13.744Z"
   },
   {
    "duration": 9,
    "start_time": "2022-04-13T17:46:23.294Z"
   },
   {
    "duration": 10,
    "start_time": "2022-04-13T17:46:34.423Z"
   },
   {
    "duration": 9,
    "start_time": "2022-04-13T17:46:51.351Z"
   },
   {
    "duration": 9,
    "start_time": "2022-04-13T17:46:59.866Z"
   },
   {
    "duration": 5,
    "start_time": "2022-04-13T17:49:25.214Z"
   },
   {
    "duration": 6,
    "start_time": "2022-04-13T17:56:21.405Z"
   },
   {
    "duration": 16,
    "start_time": "2022-04-13T18:05:15.136Z"
   },
   {
    "duration": 6,
    "start_time": "2022-04-13T18:06:28.079Z"
   },
   {
    "duration": 32,
    "start_time": "2022-04-13T18:07:43.274Z"
   },
   {
    "duration": 10,
    "start_time": "2022-04-13T18:17:00.234Z"
   },
   {
    "duration": 21,
    "start_time": "2022-04-13T18:17:25.739Z"
   },
   {
    "duration": 33,
    "start_time": "2022-04-13T18:17:32.015Z"
   },
   {
    "duration": 26,
    "start_time": "2022-04-13T18:18:30.498Z"
   },
   {
    "duration": 13,
    "start_time": "2022-04-13T18:19:23.837Z"
   },
   {
    "duration": 16,
    "start_time": "2022-04-13T18:19:49.509Z"
   },
   {
    "duration": 15,
    "start_time": "2022-04-13T18:20:03.215Z"
   },
   {
    "duration": 14,
    "start_time": "2022-04-13T18:27:10.756Z"
   },
   {
    "duration": 10,
    "start_time": "2022-04-13T18:29:33.046Z"
   },
   {
    "duration": 13,
    "start_time": "2022-04-13T18:30:13.372Z"
   },
   {
    "duration": 13,
    "start_time": "2022-04-13T18:30:26.896Z"
   },
   {
    "duration": 9,
    "start_time": "2022-04-13T18:32:04.192Z"
   },
   {
    "duration": 14,
    "start_time": "2022-04-13T18:32:15.815Z"
   },
   {
    "duration": 14,
    "start_time": "2022-04-13T18:43:15.169Z"
   },
   {
    "duration": 11,
    "start_time": "2022-04-13T18:46:04.992Z"
   },
   {
    "duration": 15,
    "start_time": "2022-04-13T18:46:22.804Z"
   },
   {
    "duration": 14,
    "start_time": "2022-04-13T18:47:39.160Z"
   },
   {
    "duration": 14,
    "start_time": "2022-04-13T18:47:58.269Z"
   },
   {
    "duration": 4,
    "start_time": "2022-04-15T03:31:28.870Z"
   },
   {
    "duration": 186,
    "start_time": "2022-04-15T03:31:28.878Z"
   },
   {
    "duration": 27,
    "start_time": "2022-04-15T03:31:29.066Z"
   },
   {
    "duration": 42,
    "start_time": "2022-04-15T03:31:29.096Z"
   },
   {
    "duration": 6,
    "start_time": "2022-04-15T03:31:29.140Z"
   },
   {
    "duration": 39,
    "start_time": "2022-04-15T03:31:29.148Z"
   },
   {
    "duration": 6,
    "start_time": "2022-04-15T03:31:29.190Z"
   },
   {
    "duration": 33,
    "start_time": "2022-04-15T03:31:29.198Z"
   },
   {
    "duration": 10,
    "start_time": "2022-04-15T03:47:05.900Z"
   },
   {
    "duration": 56,
    "start_time": "2022-04-15T03:49:35.410Z"
   },
   {
    "duration": 57,
    "start_time": "2022-04-15T03:50:24.272Z"
   },
   {
    "duration": 5,
    "start_time": "2022-04-15T04:00:39.907Z"
   },
   {
    "duration": 54,
    "start_time": "2022-04-15T04:00:43.220Z"
   },
   {
    "duration": 11,
    "start_time": "2022-04-15T04:15:39.643Z"
   },
   {
    "duration": 18,
    "start_time": "2022-04-15T04:15:47.854Z"
   },
   {
    "duration": 17,
    "start_time": "2022-04-15T04:18:13.031Z"
   },
   {
    "duration": 17,
    "start_time": "2022-04-15T04:23:30.499Z"
   },
   {
    "duration": 16,
    "start_time": "2022-04-15T04:26:29.252Z"
   },
   {
    "duration": 16,
    "start_time": "2022-04-15T04:34:11.836Z"
   },
   {
    "duration": 53,
    "start_time": "2022-04-15T04:36:29.378Z"
   },
   {
    "duration": 17,
    "start_time": "2022-04-15T04:40:18.210Z"
   },
   {
    "duration": 50,
    "start_time": "2022-04-15T04:46:45.800Z"
   },
   {
    "duration": 96,
    "start_time": "2022-04-15T04:46:53.159Z"
   },
   {
    "duration": 33,
    "start_time": "2022-04-15T04:48:39.350Z"
   },
   {
    "duration": 35,
    "start_time": "2022-04-15T04:49:23.273Z"
   },
   {
    "duration": 34,
    "start_time": "2022-04-15T04:50:28.401Z"
   },
   {
    "duration": 62,
    "start_time": "2022-04-15T04:50:33.243Z"
   },
   {
    "duration": 5,
    "start_time": "2022-04-15T04:50:38.951Z"
   },
   {
    "duration": 35,
    "start_time": "2022-04-15T04:50:41.495Z"
   },
   {
    "duration": 34,
    "start_time": "2022-04-15T04:50:46.808Z"
   },
   {
    "duration": 63,
    "start_time": "2022-04-15T04:50:46.845Z"
   },
   {
    "duration": 3,
    "start_time": "2022-04-15T04:50:46.911Z"
   },
   {
    "duration": 5,
    "start_time": "2022-04-15T04:50:46.917Z"
   },
   {
    "duration": 6,
    "start_time": "2022-04-15T04:50:46.924Z"
   },
   {
    "duration": 6,
    "start_time": "2022-04-15T04:50:46.932Z"
   },
   {
    "duration": 9,
    "start_time": "2022-04-15T04:50:46.940Z"
   },
   {
    "duration": 38,
    "start_time": "2022-04-15T04:50:46.951Z"
   },
   {
    "duration": 7,
    "start_time": "2022-04-15T04:50:46.993Z"
   },
   {
    "duration": 2,
    "start_time": "2022-04-15T04:50:47.005Z"
   },
   {
    "duration": 6,
    "start_time": "2022-04-15T04:50:47.009Z"
   },
   {
    "duration": 5,
    "start_time": "2022-04-15T04:50:47.017Z"
   },
   {
    "duration": 5,
    "start_time": "2022-04-15T04:50:47.024Z"
   },
   {
    "duration": 5,
    "start_time": "2022-04-15T04:50:47.031Z"
   },
   {
    "duration": 6,
    "start_time": "2022-04-15T04:50:47.038Z"
   },
   {
    "duration": 44,
    "start_time": "2022-04-15T04:50:47.047Z"
   },
   {
    "duration": 7,
    "start_time": "2022-04-15T04:50:47.094Z"
   },
   {
    "duration": 9,
    "start_time": "2022-04-15T04:50:47.103Z"
   },
   {
    "duration": 5,
    "start_time": "2022-04-15T04:50:47.114Z"
   },
   {
    "duration": 7,
    "start_time": "2022-04-15T04:50:47.121Z"
   },
   {
    "duration": 6,
    "start_time": "2022-04-15T04:50:47.130Z"
   },
   {
    "duration": 6,
    "start_time": "2022-04-15T04:50:47.138Z"
   },
   {
    "duration": 6,
    "start_time": "2022-04-15T04:50:47.146Z"
   },
   {
    "duration": 6,
    "start_time": "2022-04-15T04:53:42.050Z"
   },
   {
    "duration": 5,
    "start_time": "2022-04-15T04:53:57.064Z"
   },
   {
    "duration": 55,
    "start_time": "2022-04-15T04:54:28.314Z"
   },
   {
    "duration": 10,
    "start_time": "2022-04-15T04:58:50.395Z"
   },
   {
    "duration": 9,
    "start_time": "2022-04-15T04:59:03.305Z"
   },
   {
    "duration": 48,
    "start_time": "2022-04-15T04:59:08.759Z"
   },
   {
    "duration": 18,
    "start_time": "2022-04-15T04:59:52.721Z"
   },
   {
    "duration": 16,
    "start_time": "2022-04-15T05:01:21.238Z"
   },
   {
    "duration": 18,
    "start_time": "2022-04-15T05:01:37.407Z"
   },
   {
    "duration": 135,
    "start_time": "2022-04-15T05:22:58.595Z"
   },
   {
    "duration": 5,
    "start_time": "2022-04-15T05:23:22.774Z"
   },
   {
    "duration": 124,
    "start_time": "2022-04-15T05:24:28.441Z"
   },
   {
    "duration": 24,
    "start_time": "2022-04-15T05:25:09.146Z"
   },
   {
    "duration": 9,
    "start_time": "2022-04-15T05:25:29.645Z"
   },
   {
    "duration": 5,
    "start_time": "2022-04-15T05:26:25.867Z"
   },
   {
    "duration": 10,
    "start_time": "2022-04-15T05:26:29.097Z"
   },
   {
    "duration": 5,
    "start_time": "2022-04-15T05:33:37.017Z"
   },
   {
    "duration": 14,
    "start_time": "2022-04-15T05:33:40.582Z"
   },
   {
    "duration": 5,
    "start_time": "2022-04-15T05:37:22.552Z"
   },
   {
    "duration": 10,
    "start_time": "2022-04-15T05:38:31.965Z"
   },
   {
    "duration": 13,
    "start_time": "2022-04-15T05:41:43.690Z"
   },
   {
    "duration": 30,
    "start_time": "2022-04-15T05:42:58.013Z"
   },
   {
    "duration": 24,
    "start_time": "2022-04-15T05:43:09.598Z"
   },
   {
    "duration": 23,
    "start_time": "2022-04-15T05:44:40.152Z"
   },
   {
    "duration": 25,
    "start_time": "2022-04-15T05:44:40.178Z"
   },
   {
    "duration": 20,
    "start_time": "2022-04-15T05:44:40.206Z"
   },
   {
    "duration": 20,
    "start_time": "2022-04-15T05:44:40.230Z"
   },
   {
    "duration": 52,
    "start_time": "2022-04-15T05:44:40.252Z"
   },
   {
    "duration": 20,
    "start_time": "2022-04-15T05:44:40.306Z"
   },
   {
    "duration": 3,
    "start_time": "2022-04-15T05:44:40.328Z"
   },
   {
    "duration": 6,
    "start_time": "2022-04-15T05:44:40.334Z"
   },
   {
    "duration": 40,
    "start_time": "2022-04-15T05:44:40.342Z"
   },
   {
    "duration": 12,
    "start_time": "2022-04-15T05:44:40.386Z"
   },
   {
    "duration": 10,
    "start_time": "2022-04-15T05:44:40.400Z"
   },
   {
    "duration": 7,
    "start_time": "2022-04-15T05:44:40.412Z"
   },
   {
    "duration": 10,
    "start_time": "2022-04-15T05:44:40.421Z"
   },
   {
    "duration": 8,
    "start_time": "2022-04-15T05:44:40.433Z"
   },
   {
    "duration": 7,
    "start_time": "2022-04-15T05:44:40.444Z"
   },
   {
    "duration": 6,
    "start_time": "2022-04-15T05:44:40.453Z"
   },
   {
    "duration": 29,
    "start_time": "2022-04-15T05:44:40.461Z"
   },
   {
    "duration": 10,
    "start_time": "2022-04-15T05:44:40.493Z"
   },
   {
    "duration": 11,
    "start_time": "2022-04-15T05:46:26.456Z"
   },
   {
    "duration": 10,
    "start_time": "2022-04-15T05:53:47.520Z"
   },
   {
    "duration": 12,
    "start_time": "2022-04-15T06:04:53.139Z"
   },
   {
    "duration": 38,
    "start_time": "2022-04-15T06:17:42.829Z"
   },
   {
    "duration": 43,
    "start_time": "2022-04-15T06:17:59.941Z"
   },
   {
    "duration": 42,
    "start_time": "2022-04-15T06:18:23.609Z"
   },
   {
    "duration": 55,
    "start_time": "2022-04-15T08:25:38.880Z"
   },
   {
    "duration": 40,
    "start_time": "2022-04-15T08:26:11.866Z"
   },
   {
    "duration": 23,
    "start_time": "2022-04-15T08:26:25.111Z"
   },
   {
    "duration": 23,
    "start_time": "2022-04-15T08:26:32.344Z"
   },
   {
    "duration": 23,
    "start_time": "2022-04-15T08:26:35.383Z"
   },
   {
    "duration": 43,
    "start_time": "2022-04-15T08:26:52.304Z"
   },
   {
    "duration": 22,
    "start_time": "2022-04-15T08:30:14.582Z"
   },
   {
    "duration": 22,
    "start_time": "2022-04-15T08:30:28.487Z"
   },
   {
    "duration": 30,
    "start_time": "2022-04-15T08:30:28.512Z"
   },
   {
    "duration": 124,
    "start_time": "2022-04-15T08:30:28.544Z"
   },
   {
    "duration": 100,
    "start_time": "2022-04-15T08:30:28.672Z"
   },
   {
    "duration": 88,
    "start_time": "2022-04-15T08:30:28.782Z"
   },
   {
    "duration": 50,
    "start_time": "2022-04-15T08:30:28.882Z"
   },
   {
    "duration": 5,
    "start_time": "2022-04-15T08:30:28.934Z"
   },
   {
    "duration": 54,
    "start_time": "2022-04-15T08:30:28.941Z"
   },
   {
    "duration": 51,
    "start_time": "2022-04-15T08:30:28.997Z"
   },
   {
    "duration": 35,
    "start_time": "2022-04-15T08:30:29.051Z"
   },
   {
    "duration": 17,
    "start_time": "2022-04-15T08:30:29.088Z"
   },
   {
    "duration": 6,
    "start_time": "2022-04-15T08:30:29.107Z"
   },
   {
    "duration": 67,
    "start_time": "2022-04-15T08:30:29.115Z"
   },
   {
    "duration": 21,
    "start_time": "2022-04-15T08:30:29.184Z"
   },
   {
    "duration": 21,
    "start_time": "2022-04-15T08:30:29.207Z"
   },
   {
    "duration": 56,
    "start_time": "2022-04-15T08:30:29.230Z"
   },
   {
    "duration": 23,
    "start_time": "2022-04-15T08:30:29.289Z"
   },
   {
    "duration": 19,
    "start_time": "2022-04-15T08:30:29.315Z"
   },
   {
    "duration": 143,
    "start_time": "2022-04-15T08:30:29.337Z"
   },
   {
    "duration": 0,
    "start_time": "2022-04-15T08:30:29.483Z"
   },
   {
    "duration": 0,
    "start_time": "2022-04-15T08:30:29.485Z"
   },
   {
    "duration": 0,
    "start_time": "2022-04-15T08:30:29.488Z"
   },
   {
    "duration": 0,
    "start_time": "2022-04-15T08:30:29.490Z"
   },
   {
    "duration": 0,
    "start_time": "2022-04-15T08:30:29.493Z"
   },
   {
    "duration": 0,
    "start_time": "2022-04-15T08:30:29.495Z"
   },
   {
    "duration": 0,
    "start_time": "2022-04-15T08:30:29.497Z"
   },
   {
    "duration": 0,
    "start_time": "2022-04-15T08:30:29.499Z"
   },
   {
    "duration": 0,
    "start_time": "2022-04-15T08:30:29.501Z"
   },
   {
    "duration": 0,
    "start_time": "2022-04-15T08:30:29.503Z"
   },
   {
    "duration": 0,
    "start_time": "2022-04-15T08:30:29.505Z"
   },
   {
    "duration": 38,
    "start_time": "2022-04-15T08:33:34.598Z"
   },
   {
    "duration": 10,
    "start_time": "2022-04-15T08:34:45.461Z"
   },
   {
    "duration": 39,
    "start_time": "2022-04-15T08:34:55.483Z"
   },
   {
    "duration": 37,
    "start_time": "2022-04-16T03:28:26.030Z"
   },
   {
    "duration": 13,
    "start_time": "2022-04-16T03:31:38.022Z"
   },
   {
    "duration": 16,
    "start_time": "2022-04-16T03:49:48.483Z"
   },
   {
    "duration": 13,
    "start_time": "2022-04-16T03:49:50.811Z"
   },
   {
    "duration": 129,
    "start_time": "2022-04-16T04:02:48.400Z"
   },
   {
    "duration": 6,
    "start_time": "2022-04-16T04:02:54.501Z"
   },
   {
    "duration": 30,
    "start_time": "2022-04-16T04:03:49.696Z"
   },
   {
    "duration": 6,
    "start_time": "2022-04-16T04:05:42.332Z"
   },
   {
    "duration": 30,
    "start_time": "2022-04-16T04:05:44.861Z"
   },
   {
    "duration": 7,
    "start_time": "2022-04-16T04:06:12.697Z"
   },
   {
    "duration": 25,
    "start_time": "2022-04-16T04:06:15.005Z"
   },
   {
    "duration": 18,
    "start_time": "2022-04-16T04:06:58.790Z"
   },
   {
    "duration": 24,
    "start_time": "2022-04-16T04:08:09.250Z"
   },
   {
    "duration": 18,
    "start_time": "2022-04-16T04:08:12.335Z"
   },
   {
    "duration": 14,
    "start_time": "2022-04-16T04:13:56.631Z"
   },
   {
    "duration": 7,
    "start_time": "2022-04-16T04:14:13.183Z"
   },
   {
    "duration": 11,
    "start_time": "2022-04-16T04:14:48.903Z"
   },
   {
    "duration": 7,
    "start_time": "2022-04-16T04:15:06.166Z"
   },
   {
    "duration": 6,
    "start_time": "2022-04-16T04:16:05.916Z"
   },
   {
    "duration": 13,
    "start_time": "2022-04-25T09:30:08.004Z"
   },
   {
    "duration": 235,
    "start_time": "2022-04-25T09:30:08.019Z"
   },
   {
    "duration": 24,
    "start_time": "2022-04-25T09:30:08.262Z"
   },
   {
    "duration": 44,
    "start_time": "2022-04-25T09:30:08.289Z"
   },
   {
    "duration": 8,
    "start_time": "2022-04-25T09:30:08.352Z"
   },
   {
    "duration": 42,
    "start_time": "2022-04-25T09:30:08.362Z"
   },
   {
    "duration": 6,
    "start_time": "2022-04-25T09:30:08.407Z"
   },
   {
    "duration": 50,
    "start_time": "2022-04-25T09:30:08.415Z"
   },
   {
    "duration": 34,
    "start_time": "2022-04-25T09:30:08.468Z"
   },
   {
    "duration": 48,
    "start_time": "2022-04-25T09:30:08.504Z"
   },
   {
    "duration": 115,
    "start_time": "2022-04-25T09:30:08.554Z"
   },
   {
    "duration": 131,
    "start_time": "2022-04-25T09:30:08.672Z"
   },
   {
    "duration": 109,
    "start_time": "2022-04-25T09:30:08.805Z"
   },
   {
    "duration": 86,
    "start_time": "2022-04-25T09:30:08.917Z"
   },
   {
    "duration": 5,
    "start_time": "2022-04-25T09:30:09.006Z"
   },
   {
    "duration": 70,
    "start_time": "2022-04-25T09:30:09.014Z"
   },
   {
    "duration": 54,
    "start_time": "2022-04-25T09:30:09.086Z"
   },
   {
    "duration": 34,
    "start_time": "2022-04-25T09:30:09.143Z"
   },
   {
    "duration": 28,
    "start_time": "2022-04-25T09:30:09.179Z"
   },
   {
    "duration": 5,
    "start_time": "2022-04-25T09:30:09.209Z"
   },
   {
    "duration": 51,
    "start_time": "2022-04-25T09:30:09.216Z"
   },
   {
    "duration": 31,
    "start_time": "2022-04-25T09:30:09.272Z"
   },
   {
    "duration": 50,
    "start_time": "2022-04-25T09:30:09.306Z"
   },
   {
    "duration": 26,
    "start_time": "2022-04-25T09:30:09.365Z"
   },
   {
    "duration": 22,
    "start_time": "2022-04-25T09:30:09.394Z"
   },
   {
    "duration": 48,
    "start_time": "2022-04-25T09:30:09.418Z"
   },
   {
    "duration": 20,
    "start_time": "2022-04-25T09:30:09.471Z"
   },
   {
    "duration": 23,
    "start_time": "2022-04-25T09:30:09.494Z"
   },
   {
    "duration": 37,
    "start_time": "2022-04-25T09:30:09.519Z"
   },
   {
    "duration": 7,
    "start_time": "2022-04-25T09:30:09.562Z"
   },
   {
    "duration": 39,
    "start_time": "2022-04-25T09:30:09.572Z"
   },
   {
    "duration": 17,
    "start_time": "2022-04-25T09:30:09.613Z"
   },
   {
    "duration": 39,
    "start_time": "2022-04-25T09:30:09.633Z"
   },
   {
    "duration": 31,
    "start_time": "2022-04-25T09:30:09.674Z"
   },
   {
    "duration": 15,
    "start_time": "2022-04-25T09:30:09.707Z"
   },
   {
    "duration": 26,
    "start_time": "2022-04-25T09:30:09.725Z"
   },
   {
    "duration": 17,
    "start_time": "2022-04-25T09:30:09.757Z"
   },
   {
    "duration": 21,
    "start_time": "2022-04-25T09:30:09.777Z"
   },
   {
    "duration": 414,
    "start_time": "2022-04-28T03:23:33.136Z"
   },
   {
    "duration": 162,
    "start_time": "2022-04-28T03:23:33.552Z"
   },
   {
    "duration": 19,
    "start_time": "2022-04-28T03:23:33.715Z"
   },
   {
    "duration": 30,
    "start_time": "2022-04-28T03:23:33.736Z"
   },
   {
    "duration": 4,
    "start_time": "2022-04-28T03:23:33.768Z"
   },
   {
    "duration": 18,
    "start_time": "2022-04-28T03:23:33.773Z"
   },
   {
    "duration": 9,
    "start_time": "2022-04-28T03:23:33.793Z"
   },
   {
    "duration": 45,
    "start_time": "2022-04-28T03:23:33.803Z"
   },
   {
    "duration": 22,
    "start_time": "2022-04-28T03:23:33.850Z"
   },
   {
    "duration": 25,
    "start_time": "2022-04-28T03:23:33.875Z"
   },
   {
    "duration": 83,
    "start_time": "2022-04-28T03:23:33.901Z"
   },
   {
    "duration": 86,
    "start_time": "2022-04-28T03:23:33.986Z"
   },
   {
    "duration": 67,
    "start_time": "2022-04-28T03:23:34.074Z"
   },
   {
    "duration": 40,
    "start_time": "2022-04-28T03:23:34.143Z"
   },
   {
    "duration": 3,
    "start_time": "2022-04-28T03:23:34.185Z"
   },
   {
    "duration": 45,
    "start_time": "2022-04-28T03:23:34.189Z"
   },
   {
    "duration": 48,
    "start_time": "2022-04-28T03:23:34.236Z"
   },
   {
    "duration": 13,
    "start_time": "2022-04-28T03:23:34.285Z"
   },
   {
    "duration": 19,
    "start_time": "2022-04-28T03:23:34.300Z"
   },
   {
    "duration": 25,
    "start_time": "2022-04-28T03:23:34.320Z"
   },
   {
    "duration": 45,
    "start_time": "2022-04-28T03:23:34.346Z"
   },
   {
    "duration": 20,
    "start_time": "2022-04-28T03:23:34.393Z"
   },
   {
    "duration": 40,
    "start_time": "2022-04-28T03:23:34.415Z"
   },
   {
    "duration": 18,
    "start_time": "2022-04-28T03:23:34.456Z"
   },
   {
    "duration": 17,
    "start_time": "2022-04-28T03:23:34.476Z"
   },
   {
    "duration": 16,
    "start_time": "2022-04-28T03:23:34.494Z"
   },
   {
    "duration": 22,
    "start_time": "2022-04-28T03:23:34.512Z"
   },
   {
    "duration": 11,
    "start_time": "2022-04-28T03:23:34.537Z"
   },
   {
    "duration": 10,
    "start_time": "2022-04-28T03:23:34.549Z"
   },
   {
    "duration": 4,
    "start_time": "2022-04-28T03:23:34.561Z"
   },
   {
    "duration": 25,
    "start_time": "2022-04-28T03:23:34.566Z"
   },
   {
    "duration": 13,
    "start_time": "2022-04-28T03:23:34.592Z"
   },
   {
    "duration": 17,
    "start_time": "2022-04-28T03:23:34.634Z"
   },
   {
    "duration": 12,
    "start_time": "2022-04-28T03:23:34.653Z"
   },
   {
    "duration": 10,
    "start_time": "2022-04-28T03:23:34.666Z"
   },
   {
    "duration": 5,
    "start_time": "2022-04-28T03:23:34.677Z"
   },
   {
    "duration": 9,
    "start_time": "2022-04-28T03:23:34.683Z"
   },
   {
    "duration": 5,
    "start_time": "2022-04-28T03:23:34.693Z"
   },
   {
    "duration": 186,
    "start_time": "2022-04-28T03:23:34.699Z"
   },
   {
    "duration": 152,
    "start_time": "2022-04-28T03:25:00.753Z"
   },
   {
    "duration": 348,
    "start_time": "2022-12-18T07:08:15.281Z"
   },
   {
    "duration": 504,
    "start_time": "2022-12-18T07:08:15.631Z"
   },
   {
    "duration": 17,
    "start_time": "2022-12-18T07:08:16.137Z"
   },
   {
    "duration": 26,
    "start_time": "2022-12-18T07:08:16.156Z"
   },
   {
    "duration": 4,
    "start_time": "2022-12-18T07:08:16.183Z"
   },
   {
    "duration": 10,
    "start_time": "2022-12-18T07:08:16.189Z"
   },
   {
    "duration": 6,
    "start_time": "2022-12-18T07:08:16.201Z"
   },
   {
    "duration": 31,
    "start_time": "2022-12-18T07:08:16.208Z"
   },
   {
    "duration": 17,
    "start_time": "2022-12-18T07:08:16.241Z"
   },
   {
    "duration": 22,
    "start_time": "2022-12-18T07:08:16.260Z"
   },
   {
    "duration": 87,
    "start_time": "2022-12-18T07:08:16.284Z"
   },
   {
    "duration": 87,
    "start_time": "2022-12-18T07:08:16.373Z"
   },
   {
    "duration": 61,
    "start_time": "2022-12-18T07:08:16.462Z"
   },
   {
    "duration": 36,
    "start_time": "2022-12-18T07:08:16.524Z"
   },
   {
    "duration": 4,
    "start_time": "2022-12-18T07:08:16.561Z"
   },
   {
    "duration": 23,
    "start_time": "2022-12-18T07:08:16.567Z"
   },
   {
    "duration": 58,
    "start_time": "2022-12-18T07:08:16.591Z"
   },
   {
    "duration": 13,
    "start_time": "2022-12-18T07:08:16.651Z"
   },
   {
    "duration": 12,
    "start_time": "2022-12-18T07:08:16.666Z"
   },
   {
    "duration": 4,
    "start_time": "2022-12-18T07:08:16.680Z"
   },
   {
    "duration": 46,
    "start_time": "2022-12-18T07:08:16.685Z"
   },
   {
    "duration": 14,
    "start_time": "2022-12-18T07:08:16.733Z"
   },
   {
    "duration": 14,
    "start_time": "2022-12-18T07:08:16.749Z"
   },
   {
    "duration": 14,
    "start_time": "2022-12-18T07:08:16.765Z"
   },
   {
    "duration": 49,
    "start_time": "2022-12-18T07:08:16.780Z"
   },
   {
    "duration": 14,
    "start_time": "2022-12-18T07:08:16.832Z"
   },
   {
    "duration": 10,
    "start_time": "2022-12-18T07:08:16.848Z"
   },
   {
    "duration": 21,
    "start_time": "2022-12-18T07:08:16.863Z"
   },
   {
    "duration": 9,
    "start_time": "2022-12-18T07:08:16.886Z"
   },
   {
    "duration": 25,
    "start_time": "2022-12-18T07:08:16.897Z"
   },
   {
    "duration": 19,
    "start_time": "2022-12-18T07:08:16.924Z"
   },
   {
    "duration": 11,
    "start_time": "2022-12-18T07:08:16.945Z"
   },
   {
    "duration": 16,
    "start_time": "2022-12-18T07:08:16.958Z"
   },
   {
    "duration": 11,
    "start_time": "2022-12-18T07:08:16.975Z"
   },
   {
    "duration": 40,
    "start_time": "2022-12-18T07:08:16.988Z"
   },
   {
    "duration": 5,
    "start_time": "2022-12-18T07:08:17.030Z"
   },
   {
    "duration": 8,
    "start_time": "2022-12-18T07:08:17.036Z"
   },
   {
    "duration": 5,
    "start_time": "2022-12-18T07:08:17.045Z"
   }
  ],
  "colab": {
   "collapsed_sections": [
    "E0vqbgi9ay0H",
    "VUC88oWjTJw2"
   ],
   "name": "yandex_music_project.ipynb",
   "provenance": []
  },
  "kernelspec": {
   "display_name": "Python 3 (ipykernel)",
   "language": "python",
   "name": "python3"
  },
  "language_info": {
   "codemirror_mode": {
    "name": "ipython",
    "version": 3
   },
   "file_extension": ".py",
   "mimetype": "text/x-python",
   "name": "python",
   "nbconvert_exporter": "python",
   "pygments_lexer": "ipython3",
   "version": "3.9.13"
  },
  "toc": {
   "base_numbering": 1,
   "nav_menu": {},
   "number_sections": true,
   "sideBar": true,
   "skip_h1_title": true,
   "title_cell": "Table of Contents",
   "title_sidebar": "Contents",
   "toc_cell": false,
   "toc_position": {},
   "toc_section_display": true,
   "toc_window_display": true
  }
 },
 "nbformat": 4,
 "nbformat_minor": 1
}
