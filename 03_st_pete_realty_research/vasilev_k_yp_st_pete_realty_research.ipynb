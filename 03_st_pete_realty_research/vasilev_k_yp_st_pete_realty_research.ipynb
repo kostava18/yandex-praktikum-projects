{
 "cells": [
  {
   "cell_type": "markdown",
   "metadata": {},
   "source": [
    "# Исследование объявлений о продаже квартир\n",
    "\n",
    "В вашем распоряжении данные сервиса Яндекc Недвижимость — архив объявлений о продаже квартир в Санкт-Петербурге и соседних населённых пунктах за несколько лет. Нужно научиться определять рыночную стоимость объектов недвижимости. Ваша задача — установить параметры. Это позволит построить автоматизированную систему: она отследит аномалии и мошенническую деятельность. \n",
    "\n",
    "По каждой квартире на продажу доступны два вида данных. Первые вписаны пользователем, вторые получены автоматически на основе картографических данных. Например, расстояние до центра, аэропорта, ближайшего парка и водоёма. \n",
    "\n",
    "**Цели и задачи проекта**\n",
    "\n",
    "Цель проекта - разработать алгоритм определения рыночной стоимости объектов недвижимости на основе заданных параметров.\n",
    "\n",
    "В рамках проекта мы установим параметры, по которым будет определяться рыночная стоимость.\n",
    "\n",
    "Для выполнения поставленной задачи мы выполним следующие действия:\n",
    "- изучим имеющиеся данные и проведем их предобработку. Оценим способы написания данных. Обработаем пропуски и дубликаты, если они найдутся и если на то будет пратическая необходимость. Проверим типы данных и установим корретные, там где потребуется.\n",
    "- проведем расчеты и добавим к данным новые вспомагательные показатели.\n",
    "- проведем исследовательский анализ данных. Изучим данные с помощью графиков и очистим их от редких и выбивающихся значений. Оценим факторы скорости продажи расстояния до центра.\n",
    "- сделаем общий вывод и оформим его.\n",
    "\n",
    "В завершении проверим аккуратность оформления проекта, включая код и комментарии."
   ]
  },
  {
   "cell_type": "markdown",
   "metadata": {
    "toc": true
   },
   "source": [
    "<h1>Содержание<span class=\"tocSkip\"></span></h1>\n",
    "<div class=\"toc\"><ul class=\"toc-item\"><li><span><a href=\"#Изучение-данных-из-файла\" data-toc-modified-id=\"Изучение-данных-из-файла-1\"><span class=\"toc-item-num\">1&nbsp;&nbsp;</span>Изучение данных из файла</a></span><ul class=\"toc-item\"><li><span><a href=\"#Вывод\" data-toc-modified-id=\"Вывод-1.1\"><span class=\"toc-item-num\">1.1&nbsp;&nbsp;</span>Вывод</a></span></li></ul></li><li><span><a href=\"#Предобработка-данных\" data-toc-modified-id=\"Предобработка-данных-2\"><span class=\"toc-item-num\">2&nbsp;&nbsp;</span>Предобработка данных</a></span><ul class=\"toc-item\"><li><span><a href=\"#Изменение-наименований-колонок\" data-toc-modified-id=\"Изменение-наименований-колонок-2.1\"><span class=\"toc-item-num\">2.1&nbsp;&nbsp;</span>Изменение наименований колонок</a></span></li><li><span><a href=\"#Анализ-пропусков\" data-toc-modified-id=\"Анализ-пропусков-2.2\"><span class=\"toc-item-num\">2.2&nbsp;&nbsp;</span>Анализ пропусков</a></span></li><li><span><a href=\"#Замена-типа-данных\" data-toc-modified-id=\"Замена-типа-данных-2.3\"><span class=\"toc-item-num\">2.3&nbsp;&nbsp;</span>Замена типа данных</a></span></li></ul></li><li><span><a href=\"#Расчёты-и-добавление-результатов-в-таблицу\" data-toc-modified-id=\"Расчёты-и-добавление-результатов-в-таблицу-3\"><span class=\"toc-item-num\">3&nbsp;&nbsp;</span>Расчёты и добавление результатов в таблицу</a></span></li><li><span><a href=\"#Исследовательский-анализ-данных\" data-toc-modified-id=\"Исследовательский-анализ-данных-4\"><span class=\"toc-item-num\">4&nbsp;&nbsp;</span>Исследовательский анализ данных</a></span><ul class=\"toc-item\"><li><span><a href=\"#Изучение-отдельных-параметров\" data-toc-modified-id=\"Изучение-отдельных-параметров-4.1\"><span class=\"toc-item-num\">4.1&nbsp;&nbsp;</span>Изучение отдельных параметров</a></span></li><li><span><a href=\"#Изучение-времени-продажи-квартиры\" data-toc-modified-id=\"Изучение-времени-продажи-квартиры-4.2\"><span class=\"toc-item-num\">4.2&nbsp;&nbsp;</span>Изучение времени продажи квартиры</a></span></li><li><span><a href=\"#Обработка-редких-и-выбивающихся-значений\" data-toc-modified-id=\"Обработка-редких-и-выбивающихся-значений-4.3\"><span class=\"toc-item-num\">4.3&nbsp;&nbsp;</span>Обработка редких и выбивающихся значений</a></span></li><li><span><a href=\"#Определение-факторов,-влияющих-на-цену-квартиры\" data-toc-modified-id=\"Определение-факторов,-влияющих-на-цену-квартиры-4.4\"><span class=\"toc-item-num\">4.4&nbsp;&nbsp;</span>Определение факторов, влияющих на цену квартиры</a></span><ul class=\"toc-item\"><li><span><a href=\"#Зависимость-цены-от-площади\" data-toc-modified-id=\"Зависимость-цены-от-площади-4.4.1\"><span class=\"toc-item-num\">4.4.1&nbsp;&nbsp;</span>Зависимость цены от площади</a></span></li><li><span><a href=\"#Зависимость-цены-от-количества-комнат\" data-toc-modified-id=\"Зависимость-цены-от-количества-комнат-4.4.2\"><span class=\"toc-item-num\">4.4.2&nbsp;&nbsp;</span>Зависимость цены от количества комнат</a></span></li><li><span><a href=\"#Зависимость-цены-от-расстояния-до-центра\" data-toc-modified-id=\"Зависимость-цены-от-расстояния-до-центра-4.4.3\"><span class=\"toc-item-num\">4.4.3&nbsp;&nbsp;</span>Зависимость цены от расстояния до центра</a></span></li><li><span><a href=\"#Зависимость-цены-от-категории-этажа\" data-toc-modified-id=\"Зависимость-цены-от-категории-этажа-4.4.4\"><span class=\"toc-item-num\">4.4.4&nbsp;&nbsp;</span>Зависимость цены от категории этажа</a></span></li><li><span><a href=\"#Зависимость-цены-от-времени-размещения-объявления\" data-toc-modified-id=\"Зависимость-цены-от-времени-размещения-объявления-4.4.5\"><span class=\"toc-item-num\">4.4.5&nbsp;&nbsp;</span>Зависимость цены от времени размещения объявления</a></span></li></ul></li><li><span><a href=\"#Анализ-по-населенным-пунктам\" data-toc-modified-id=\"Анализ-по-населенным-пунктам-4.5\"><span class=\"toc-item-num\">4.5&nbsp;&nbsp;</span>Анализ по населенным пунктам</a></span></li><li><span><a href=\"#Определение-центрального-района-Санкт-Петербурга\" data-toc-modified-id=\"Определение-центрального-района-Санкт-Петербурга-4.6\"><span class=\"toc-item-num\">4.6&nbsp;&nbsp;</span>Определение центрального района Санкт-Петербурга</a></span></li><li><span><a href=\"#Анализ-квартир-в-центре-Санкт-Петербурга\" data-toc-modified-id=\"Анализ-квартир-в-центре-Санкт-Петербурга-4.7\"><span class=\"toc-item-num\">4.7&nbsp;&nbsp;</span>Анализ квартир в центре Санкт-Петербурга</a></span><ul class=\"toc-item\"><li><span><a href=\"#Изучение-отдельных-параметров-(центр-Санкт-Петербурга)\" data-toc-modified-id=\"Изучение-отдельных-параметров-(центр-Санкт-Петербурга)-4.7.1\"><span class=\"toc-item-num\">4.7.1&nbsp;&nbsp;</span>Изучение отдельных параметров (центр Санкт-Петербурга)</a></span></li><li><span><a href=\"#Выделение-отдельных-факторов-(центр-Санкт-Петербурга)\" data-toc-modified-id=\"Выделение-отдельных-факторов-(центр-Санкт-Петербурга)-4.7.2\"><span class=\"toc-item-num\">4.7.2&nbsp;&nbsp;</span>Выделение отдельных факторов (центр Санкт-Петербурга)</a></span></li></ul></li></ul></li><li><span><a href=\"#Общий-вывод\" data-toc-modified-id=\"Общий-вывод-5\"><span class=\"toc-item-num\">5&nbsp;&nbsp;</span>Общий вывод</a></span></li><li><span><a href=\"#Чек-лист-готовности-проекта\" data-toc-modified-id=\"Чек-лист-готовности-проекта-6\"><span class=\"toc-item-num\">6&nbsp;&nbsp;</span>Чек-лист готовности проекта</a></span></li></ul></div>"
   ]
  },
  {
   "cell_type": "markdown",
   "metadata": {},
   "source": [
    "## Изучение данных из файла"
   ]
  },
  {
   "cell_type": "code",
   "execution_count": 1,
   "metadata": {},
   "outputs": [],
   "source": [
    "# импортируем библиотеку Pandas, сохраним исходные данные в переменную и изучим их несколькими методами\n",
    "import pandas as pd\n",
    "\n",
    "# импортируем библиотеку matplotlib для изучения значений в колонках\n",
    "import matplotlib.pyplot as plt"
   ]
  },
  {
   "cell_type": "code",
   "execution_count": 2,
   "metadata": {},
   "outputs": [
    {
     "name": "stdout",
     "output_type": "stream",
     "text": [
      "<class 'pandas.core.frame.DataFrame'>\n",
      "RangeIndex: 23699 entries, 0 to 23698\n",
      "Data columns (total 22 columns):\n",
      " #   Column                Non-Null Count  Dtype  \n",
      "---  ------                --------------  -----  \n",
      " 0   total_images          23699 non-null  int64  \n",
      " 1   last_price            23699 non-null  float64\n",
      " 2   total_area            23699 non-null  float64\n",
      " 3   first_day_exposition  23699 non-null  object \n",
      " 4   rooms                 23699 non-null  int64  \n",
      " 5   ceiling_height        14504 non-null  float64\n",
      " 6   floors_total          23613 non-null  float64\n",
      " 7   living_area           21796 non-null  float64\n",
      " 8   floor                 23699 non-null  int64  \n",
      " 9   is_apartment          2775 non-null   object \n",
      " 10  studio                23699 non-null  bool   \n",
      " 11  open_plan             23699 non-null  bool   \n",
      " 12  kitchen_area          21421 non-null  float64\n",
      " 13  balcony               12180 non-null  float64\n",
      " 14  locality_name         23650 non-null  object \n",
      " 15  airports_nearest      18157 non-null  float64\n",
      " 16  cityCenters_nearest   18180 non-null  float64\n",
      " 17  parks_around3000      18181 non-null  float64\n",
      " 18  parks_nearest         8079 non-null   float64\n",
      " 19  ponds_around3000      18181 non-null  float64\n",
      " 20  ponds_nearest         9110 non-null   float64\n",
      " 21  days_exposition       20518 non-null  float64\n",
      "dtypes: bool(2), float64(14), int64(3), object(3)\n",
      "memory usage: 3.7+ MB\n"
     ]
    },
    {
     "data": {
      "text/plain": [
       "None"
      ]
     },
     "metadata": {},
     "output_type": "display_data"
    },
    {
     "data": {
      "text/html": [
       "<div>\n",
       "<style scoped>\n",
       "    .dataframe tbody tr th:only-of-type {\n",
       "        vertical-align: middle;\n",
       "    }\n",
       "\n",
       "    .dataframe tbody tr th {\n",
       "        vertical-align: top;\n",
       "    }\n",
       "\n",
       "    .dataframe thead th {\n",
       "        text-align: right;\n",
       "    }\n",
       "</style>\n",
       "<table border=\"1\" class=\"dataframe\">\n",
       "  <thead>\n",
       "    <tr style=\"text-align: right;\">\n",
       "      <th></th>\n",
       "      <th>total_images</th>\n",
       "      <th>last_price</th>\n",
       "      <th>total_area</th>\n",
       "      <th>first_day_exposition</th>\n",
       "      <th>rooms</th>\n",
       "      <th>ceiling_height</th>\n",
       "      <th>floors_total</th>\n",
       "      <th>living_area</th>\n",
       "      <th>floor</th>\n",
       "      <th>is_apartment</th>\n",
       "      <th>...</th>\n",
       "      <th>kitchen_area</th>\n",
       "      <th>balcony</th>\n",
       "      <th>locality_name</th>\n",
       "      <th>airports_nearest</th>\n",
       "      <th>cityCenters_nearest</th>\n",
       "      <th>parks_around3000</th>\n",
       "      <th>parks_nearest</th>\n",
       "      <th>ponds_around3000</th>\n",
       "      <th>ponds_nearest</th>\n",
       "      <th>days_exposition</th>\n",
       "    </tr>\n",
       "  </thead>\n",
       "  <tbody>\n",
       "    <tr>\n",
       "      <th>0</th>\n",
       "      <td>20</td>\n",
       "      <td>13000000.0</td>\n",
       "      <td>108.00</td>\n",
       "      <td>2019-03-07T00:00:00</td>\n",
       "      <td>3</td>\n",
       "      <td>2.70</td>\n",
       "      <td>16.0</td>\n",
       "      <td>51.00</td>\n",
       "      <td>8</td>\n",
       "      <td>NaN</td>\n",
       "      <td>...</td>\n",
       "      <td>25.00</td>\n",
       "      <td>NaN</td>\n",
       "      <td>Санкт-Петербург</td>\n",
       "      <td>18863.0</td>\n",
       "      <td>16028.0</td>\n",
       "      <td>1.0</td>\n",
       "      <td>482.0</td>\n",
       "      <td>2.0</td>\n",
       "      <td>755.0</td>\n",
       "      <td>NaN</td>\n",
       "    </tr>\n",
       "    <tr>\n",
       "      <th>1</th>\n",
       "      <td>7</td>\n",
       "      <td>3350000.0</td>\n",
       "      <td>40.40</td>\n",
       "      <td>2018-12-04T00:00:00</td>\n",
       "      <td>1</td>\n",
       "      <td>NaN</td>\n",
       "      <td>11.0</td>\n",
       "      <td>18.60</td>\n",
       "      <td>1</td>\n",
       "      <td>NaN</td>\n",
       "      <td>...</td>\n",
       "      <td>11.00</td>\n",
       "      <td>2.0</td>\n",
       "      <td>посёлок Шушары</td>\n",
       "      <td>12817.0</td>\n",
       "      <td>18603.0</td>\n",
       "      <td>0.0</td>\n",
       "      <td>NaN</td>\n",
       "      <td>0.0</td>\n",
       "      <td>NaN</td>\n",
       "      <td>81.0</td>\n",
       "    </tr>\n",
       "    <tr>\n",
       "      <th>2</th>\n",
       "      <td>10</td>\n",
       "      <td>5196000.0</td>\n",
       "      <td>56.00</td>\n",
       "      <td>2015-08-20T00:00:00</td>\n",
       "      <td>2</td>\n",
       "      <td>NaN</td>\n",
       "      <td>5.0</td>\n",
       "      <td>34.30</td>\n",
       "      <td>4</td>\n",
       "      <td>NaN</td>\n",
       "      <td>...</td>\n",
       "      <td>8.30</td>\n",
       "      <td>0.0</td>\n",
       "      <td>Санкт-Петербург</td>\n",
       "      <td>21741.0</td>\n",
       "      <td>13933.0</td>\n",
       "      <td>1.0</td>\n",
       "      <td>90.0</td>\n",
       "      <td>2.0</td>\n",
       "      <td>574.0</td>\n",
       "      <td>558.0</td>\n",
       "    </tr>\n",
       "    <tr>\n",
       "      <th>3</th>\n",
       "      <td>0</td>\n",
       "      <td>64900000.0</td>\n",
       "      <td>159.00</td>\n",
       "      <td>2015-07-24T00:00:00</td>\n",
       "      <td>3</td>\n",
       "      <td>NaN</td>\n",
       "      <td>14.0</td>\n",
       "      <td>NaN</td>\n",
       "      <td>9</td>\n",
       "      <td>NaN</td>\n",
       "      <td>...</td>\n",
       "      <td>NaN</td>\n",
       "      <td>0.0</td>\n",
       "      <td>Санкт-Петербург</td>\n",
       "      <td>28098.0</td>\n",
       "      <td>6800.0</td>\n",
       "      <td>2.0</td>\n",
       "      <td>84.0</td>\n",
       "      <td>3.0</td>\n",
       "      <td>234.0</td>\n",
       "      <td>424.0</td>\n",
       "    </tr>\n",
       "    <tr>\n",
       "      <th>4</th>\n",
       "      <td>2</td>\n",
       "      <td>10000000.0</td>\n",
       "      <td>100.00</td>\n",
       "      <td>2018-06-19T00:00:00</td>\n",
       "      <td>2</td>\n",
       "      <td>3.03</td>\n",
       "      <td>14.0</td>\n",
       "      <td>32.00</td>\n",
       "      <td>13</td>\n",
       "      <td>NaN</td>\n",
       "      <td>...</td>\n",
       "      <td>41.00</td>\n",
       "      <td>NaN</td>\n",
       "      <td>Санкт-Петербург</td>\n",
       "      <td>31856.0</td>\n",
       "      <td>8098.0</td>\n",
       "      <td>2.0</td>\n",
       "      <td>112.0</td>\n",
       "      <td>1.0</td>\n",
       "      <td>48.0</td>\n",
       "      <td>121.0</td>\n",
       "    </tr>\n",
       "    <tr>\n",
       "      <th>5</th>\n",
       "      <td>10</td>\n",
       "      <td>2890000.0</td>\n",
       "      <td>30.40</td>\n",
       "      <td>2018-09-10T00:00:00</td>\n",
       "      <td>1</td>\n",
       "      <td>NaN</td>\n",
       "      <td>12.0</td>\n",
       "      <td>14.40</td>\n",
       "      <td>5</td>\n",
       "      <td>NaN</td>\n",
       "      <td>...</td>\n",
       "      <td>9.10</td>\n",
       "      <td>NaN</td>\n",
       "      <td>городской посёлок Янино-1</td>\n",
       "      <td>NaN</td>\n",
       "      <td>NaN</td>\n",
       "      <td>NaN</td>\n",
       "      <td>NaN</td>\n",
       "      <td>NaN</td>\n",
       "      <td>NaN</td>\n",
       "      <td>55.0</td>\n",
       "    </tr>\n",
       "    <tr>\n",
       "      <th>6</th>\n",
       "      <td>6</td>\n",
       "      <td>3700000.0</td>\n",
       "      <td>37.30</td>\n",
       "      <td>2017-11-02T00:00:00</td>\n",
       "      <td>1</td>\n",
       "      <td>NaN</td>\n",
       "      <td>26.0</td>\n",
       "      <td>10.60</td>\n",
       "      <td>6</td>\n",
       "      <td>NaN</td>\n",
       "      <td>...</td>\n",
       "      <td>14.40</td>\n",
       "      <td>1.0</td>\n",
       "      <td>посёлок Парголово</td>\n",
       "      <td>52996.0</td>\n",
       "      <td>19143.0</td>\n",
       "      <td>0.0</td>\n",
       "      <td>NaN</td>\n",
       "      <td>0.0</td>\n",
       "      <td>NaN</td>\n",
       "      <td>155.0</td>\n",
       "    </tr>\n",
       "    <tr>\n",
       "      <th>7</th>\n",
       "      <td>5</td>\n",
       "      <td>7915000.0</td>\n",
       "      <td>71.60</td>\n",
       "      <td>2019-04-18T00:00:00</td>\n",
       "      <td>2</td>\n",
       "      <td>NaN</td>\n",
       "      <td>24.0</td>\n",
       "      <td>NaN</td>\n",
       "      <td>22</td>\n",
       "      <td>NaN</td>\n",
       "      <td>...</td>\n",
       "      <td>18.90</td>\n",
       "      <td>2.0</td>\n",
       "      <td>Санкт-Петербург</td>\n",
       "      <td>23982.0</td>\n",
       "      <td>11634.0</td>\n",
       "      <td>0.0</td>\n",
       "      <td>NaN</td>\n",
       "      <td>0.0</td>\n",
       "      <td>NaN</td>\n",
       "      <td>NaN</td>\n",
       "    </tr>\n",
       "    <tr>\n",
       "      <th>8</th>\n",
       "      <td>20</td>\n",
       "      <td>2900000.0</td>\n",
       "      <td>33.16</td>\n",
       "      <td>2018-05-23T00:00:00</td>\n",
       "      <td>1</td>\n",
       "      <td>NaN</td>\n",
       "      <td>27.0</td>\n",
       "      <td>15.43</td>\n",
       "      <td>26</td>\n",
       "      <td>NaN</td>\n",
       "      <td>...</td>\n",
       "      <td>8.81</td>\n",
       "      <td>NaN</td>\n",
       "      <td>посёлок Мурино</td>\n",
       "      <td>NaN</td>\n",
       "      <td>NaN</td>\n",
       "      <td>NaN</td>\n",
       "      <td>NaN</td>\n",
       "      <td>NaN</td>\n",
       "      <td>NaN</td>\n",
       "      <td>189.0</td>\n",
       "    </tr>\n",
       "    <tr>\n",
       "      <th>9</th>\n",
       "      <td>18</td>\n",
       "      <td>5400000.0</td>\n",
       "      <td>61.00</td>\n",
       "      <td>2017-02-26T00:00:00</td>\n",
       "      <td>3</td>\n",
       "      <td>2.50</td>\n",
       "      <td>9.0</td>\n",
       "      <td>43.60</td>\n",
       "      <td>7</td>\n",
       "      <td>NaN</td>\n",
       "      <td>...</td>\n",
       "      <td>6.50</td>\n",
       "      <td>2.0</td>\n",
       "      <td>Санкт-Петербург</td>\n",
       "      <td>50898.0</td>\n",
       "      <td>15008.0</td>\n",
       "      <td>0.0</td>\n",
       "      <td>NaN</td>\n",
       "      <td>0.0</td>\n",
       "      <td>NaN</td>\n",
       "      <td>289.0</td>\n",
       "    </tr>\n",
       "  </tbody>\n",
       "</table>\n",
       "<p>10 rows × 22 columns</p>\n",
       "</div>"
      ],
      "text/plain": [
       "   total_images  last_price  total_area first_day_exposition  rooms  \\\n",
       "0            20  13000000.0      108.00  2019-03-07T00:00:00      3   \n",
       "1             7   3350000.0       40.40  2018-12-04T00:00:00      1   \n",
       "2            10   5196000.0       56.00  2015-08-20T00:00:00      2   \n",
       "3             0  64900000.0      159.00  2015-07-24T00:00:00      3   \n",
       "4             2  10000000.0      100.00  2018-06-19T00:00:00      2   \n",
       "5            10   2890000.0       30.40  2018-09-10T00:00:00      1   \n",
       "6             6   3700000.0       37.30  2017-11-02T00:00:00      1   \n",
       "7             5   7915000.0       71.60  2019-04-18T00:00:00      2   \n",
       "8            20   2900000.0       33.16  2018-05-23T00:00:00      1   \n",
       "9            18   5400000.0       61.00  2017-02-26T00:00:00      3   \n",
       "\n",
       "   ceiling_height  floors_total  living_area  floor is_apartment  ...  \\\n",
       "0            2.70          16.0        51.00      8          NaN  ...   \n",
       "1             NaN          11.0        18.60      1          NaN  ...   \n",
       "2             NaN           5.0        34.30      4          NaN  ...   \n",
       "3             NaN          14.0          NaN      9          NaN  ...   \n",
       "4            3.03          14.0        32.00     13          NaN  ...   \n",
       "5             NaN          12.0        14.40      5          NaN  ...   \n",
       "6             NaN          26.0        10.60      6          NaN  ...   \n",
       "7             NaN          24.0          NaN     22          NaN  ...   \n",
       "8             NaN          27.0        15.43     26          NaN  ...   \n",
       "9            2.50           9.0        43.60      7          NaN  ...   \n",
       "\n",
       "   kitchen_area  balcony              locality_name  airports_nearest  \\\n",
       "0         25.00      NaN            Санкт-Петербург           18863.0   \n",
       "1         11.00      2.0             посёлок Шушары           12817.0   \n",
       "2          8.30      0.0            Санкт-Петербург           21741.0   \n",
       "3           NaN      0.0            Санкт-Петербург           28098.0   \n",
       "4         41.00      NaN            Санкт-Петербург           31856.0   \n",
       "5          9.10      NaN  городской посёлок Янино-1               NaN   \n",
       "6         14.40      1.0          посёлок Парголово           52996.0   \n",
       "7         18.90      2.0            Санкт-Петербург           23982.0   \n",
       "8          8.81      NaN             посёлок Мурино               NaN   \n",
       "9          6.50      2.0            Санкт-Петербург           50898.0   \n",
       "\n",
       "  cityCenters_nearest  parks_around3000  parks_nearest  ponds_around3000  \\\n",
       "0             16028.0               1.0          482.0               2.0   \n",
       "1             18603.0               0.0            NaN               0.0   \n",
       "2             13933.0               1.0           90.0               2.0   \n",
       "3              6800.0               2.0           84.0               3.0   \n",
       "4              8098.0               2.0          112.0               1.0   \n",
       "5                 NaN               NaN            NaN               NaN   \n",
       "6             19143.0               0.0            NaN               0.0   \n",
       "7             11634.0               0.0            NaN               0.0   \n",
       "8                 NaN               NaN            NaN               NaN   \n",
       "9             15008.0               0.0            NaN               0.0   \n",
       "\n",
       "   ponds_nearest  days_exposition  \n",
       "0          755.0              NaN  \n",
       "1            NaN             81.0  \n",
       "2          574.0            558.0  \n",
       "3          234.0            424.0  \n",
       "4           48.0            121.0  \n",
       "5            NaN             55.0  \n",
       "6            NaN            155.0  \n",
       "7            NaN              NaN  \n",
       "8            NaN            189.0  \n",
       "9            NaN            289.0  \n",
       "\n",
       "[10 rows x 22 columns]"
      ]
     },
     "execution_count": 2,
     "metadata": {},
     "output_type": "execute_result"
    }
   ],
   "source": [
    "# прочитаем файл конструкцией try-except, чтобы обнаружить ошибки в случае их появления\n",
    "try:\n",
    "    data = pd.read_csv(, sep='\\t')\n",
    "except: \n",
    "    display('Что-то не так с чтением файла.')\n",
    "\n",
    "display(data.info())\n",
    "data.head(10)"
   ]
  },
  {
   "cell_type": "markdown",
   "metadata": {},
   "source": [
    "### Вывод"
   ]
  },
  {
   "cell_type": "markdown",
   "metadata": {},
   "source": [
    "1. Файл имеет нестандартный для формата .csv разделитель - \\t. Сразу учтем это при его чтении с помощью аргумента `sep()` функции `read_csv()`.\n",
    "2. В целом, наименования колонок записаны правильно - в змеином регистре, без заглавных букв, на одном языке. Корректировка требуется только для наименования столбца `cityCenters_nearest`.\n",
    "3. Количество значений в разных колонках не совпадает. Значит есть пропуски. Необходимо изучить их природу и принять решение, что с ними делать.\n",
    "4. Типы данных в нескольких колонках не кажутся оптимальными. Например, колонке `is_apartment` больше подойдет тип данных `bool`. В процессе предобработки данных мы скорретируем тип данных во всех колонках, где будет необходимо. "
   ]
  },
  {
   "cell_type": "markdown",
   "metadata": {},
   "source": [
    "## Предобработка данных"
   ]
  },
  {
   "cell_type": "markdown",
   "metadata": {},
   "source": [
    "### Изменение наименований колонок"
   ]
  },
  {
   "cell_type": "code",
   "execution_count": 3,
   "metadata": {},
   "outputs": [
    {
     "data": {
      "text/html": [
       "<div>\n",
       "<style scoped>\n",
       "    .dataframe tbody tr th:only-of-type {\n",
       "        vertical-align: middle;\n",
       "    }\n",
       "\n",
       "    .dataframe tbody tr th {\n",
       "        vertical-align: top;\n",
       "    }\n",
       "\n",
       "    .dataframe thead th {\n",
       "        text-align: right;\n",
       "    }\n",
       "</style>\n",
       "<table border=\"1\" class=\"dataframe\">\n",
       "  <thead>\n",
       "    <tr style=\"text-align: right;\">\n",
       "      <th></th>\n",
       "      <th>total_images</th>\n",
       "      <th>last_price</th>\n",
       "      <th>total_area</th>\n",
       "      <th>first_day_exposition</th>\n",
       "      <th>rooms</th>\n",
       "      <th>ceiling_height</th>\n",
       "      <th>floors_total</th>\n",
       "      <th>living_area</th>\n",
       "      <th>floor</th>\n",
       "      <th>is_apartment</th>\n",
       "      <th>...</th>\n",
       "      <th>kitchen_area</th>\n",
       "      <th>balcony</th>\n",
       "      <th>locality_name</th>\n",
       "      <th>airports_nearest</th>\n",
       "      <th>city_centers_nearest</th>\n",
       "      <th>parks_around3000</th>\n",
       "      <th>parks_nearest</th>\n",
       "      <th>ponds_around3000</th>\n",
       "      <th>ponds_nearest</th>\n",
       "      <th>days_exposition</th>\n",
       "    </tr>\n",
       "  </thead>\n",
       "  <tbody>\n",
       "    <tr>\n",
       "      <th>0</th>\n",
       "      <td>20</td>\n",
       "      <td>13000000.0</td>\n",
       "      <td>108.0</td>\n",
       "      <td>2019-03-07T00:00:00</td>\n",
       "      <td>3</td>\n",
       "      <td>2.70</td>\n",
       "      <td>16.0</td>\n",
       "      <td>51.0</td>\n",
       "      <td>8</td>\n",
       "      <td>NaN</td>\n",
       "      <td>...</td>\n",
       "      <td>25.0</td>\n",
       "      <td>NaN</td>\n",
       "      <td>Санкт-Петербург</td>\n",
       "      <td>18863.0</td>\n",
       "      <td>16028.0</td>\n",
       "      <td>1.0</td>\n",
       "      <td>482.0</td>\n",
       "      <td>2.0</td>\n",
       "      <td>755.0</td>\n",
       "      <td>NaN</td>\n",
       "    </tr>\n",
       "    <tr>\n",
       "      <th>1</th>\n",
       "      <td>7</td>\n",
       "      <td>3350000.0</td>\n",
       "      <td>40.4</td>\n",
       "      <td>2018-12-04T00:00:00</td>\n",
       "      <td>1</td>\n",
       "      <td>NaN</td>\n",
       "      <td>11.0</td>\n",
       "      <td>18.6</td>\n",
       "      <td>1</td>\n",
       "      <td>NaN</td>\n",
       "      <td>...</td>\n",
       "      <td>11.0</td>\n",
       "      <td>2.0</td>\n",
       "      <td>посёлок Шушары</td>\n",
       "      <td>12817.0</td>\n",
       "      <td>18603.0</td>\n",
       "      <td>0.0</td>\n",
       "      <td>NaN</td>\n",
       "      <td>0.0</td>\n",
       "      <td>NaN</td>\n",
       "      <td>81.0</td>\n",
       "    </tr>\n",
       "    <tr>\n",
       "      <th>2</th>\n",
       "      <td>10</td>\n",
       "      <td>5196000.0</td>\n",
       "      <td>56.0</td>\n",
       "      <td>2015-08-20T00:00:00</td>\n",
       "      <td>2</td>\n",
       "      <td>NaN</td>\n",
       "      <td>5.0</td>\n",
       "      <td>34.3</td>\n",
       "      <td>4</td>\n",
       "      <td>NaN</td>\n",
       "      <td>...</td>\n",
       "      <td>8.3</td>\n",
       "      <td>0.0</td>\n",
       "      <td>Санкт-Петербург</td>\n",
       "      <td>21741.0</td>\n",
       "      <td>13933.0</td>\n",
       "      <td>1.0</td>\n",
       "      <td>90.0</td>\n",
       "      <td>2.0</td>\n",
       "      <td>574.0</td>\n",
       "      <td>558.0</td>\n",
       "    </tr>\n",
       "    <tr>\n",
       "      <th>3</th>\n",
       "      <td>0</td>\n",
       "      <td>64900000.0</td>\n",
       "      <td>159.0</td>\n",
       "      <td>2015-07-24T00:00:00</td>\n",
       "      <td>3</td>\n",
       "      <td>NaN</td>\n",
       "      <td>14.0</td>\n",
       "      <td>NaN</td>\n",
       "      <td>9</td>\n",
       "      <td>NaN</td>\n",
       "      <td>...</td>\n",
       "      <td>NaN</td>\n",
       "      <td>0.0</td>\n",
       "      <td>Санкт-Петербург</td>\n",
       "      <td>28098.0</td>\n",
       "      <td>6800.0</td>\n",
       "      <td>2.0</td>\n",
       "      <td>84.0</td>\n",
       "      <td>3.0</td>\n",
       "      <td>234.0</td>\n",
       "      <td>424.0</td>\n",
       "    </tr>\n",
       "    <tr>\n",
       "      <th>4</th>\n",
       "      <td>2</td>\n",
       "      <td>10000000.0</td>\n",
       "      <td>100.0</td>\n",
       "      <td>2018-06-19T00:00:00</td>\n",
       "      <td>2</td>\n",
       "      <td>3.03</td>\n",
       "      <td>14.0</td>\n",
       "      <td>32.0</td>\n",
       "      <td>13</td>\n",
       "      <td>NaN</td>\n",
       "      <td>...</td>\n",
       "      <td>41.0</td>\n",
       "      <td>NaN</td>\n",
       "      <td>Санкт-Петербург</td>\n",
       "      <td>31856.0</td>\n",
       "      <td>8098.0</td>\n",
       "      <td>2.0</td>\n",
       "      <td>112.0</td>\n",
       "      <td>1.0</td>\n",
       "      <td>48.0</td>\n",
       "      <td>121.0</td>\n",
       "    </tr>\n",
       "  </tbody>\n",
       "</table>\n",
       "<p>5 rows × 22 columns</p>\n",
       "</div>"
      ],
      "text/plain": [
       "   total_images  last_price  total_area first_day_exposition  rooms  \\\n",
       "0            20  13000000.0       108.0  2019-03-07T00:00:00      3   \n",
       "1             7   3350000.0        40.4  2018-12-04T00:00:00      1   \n",
       "2            10   5196000.0        56.0  2015-08-20T00:00:00      2   \n",
       "3             0  64900000.0       159.0  2015-07-24T00:00:00      3   \n",
       "4             2  10000000.0       100.0  2018-06-19T00:00:00      2   \n",
       "\n",
       "   ceiling_height  floors_total  living_area  floor is_apartment  ...  \\\n",
       "0            2.70          16.0         51.0      8          NaN  ...   \n",
       "1             NaN          11.0         18.6      1          NaN  ...   \n",
       "2             NaN           5.0         34.3      4          NaN  ...   \n",
       "3             NaN          14.0          NaN      9          NaN  ...   \n",
       "4            3.03          14.0         32.0     13          NaN  ...   \n",
       "\n",
       "   kitchen_area  balcony    locality_name  airports_nearest  \\\n",
       "0          25.0      NaN  Санкт-Петербург           18863.0   \n",
       "1          11.0      2.0   посёлок Шушары           12817.0   \n",
       "2           8.3      0.0  Санкт-Петербург           21741.0   \n",
       "3           NaN      0.0  Санкт-Петербург           28098.0   \n",
       "4          41.0      NaN  Санкт-Петербург           31856.0   \n",
       "\n",
       "  city_centers_nearest  parks_around3000  parks_nearest  ponds_around3000  \\\n",
       "0              16028.0               1.0          482.0               2.0   \n",
       "1              18603.0               0.0            NaN               0.0   \n",
       "2              13933.0               1.0           90.0               2.0   \n",
       "3               6800.0               2.0           84.0               3.0   \n",
       "4               8098.0               2.0          112.0               1.0   \n",
       "\n",
       "   ponds_nearest  days_exposition  \n",
       "0          755.0              NaN  \n",
       "1            NaN             81.0  \n",
       "2          574.0            558.0  \n",
       "3          234.0            424.0  \n",
       "4           48.0            121.0  \n",
       "\n",
       "[5 rows x 22 columns]"
      ]
     },
     "execution_count": 3,
     "metadata": {},
     "output_type": "execute_result"
    }
   ],
   "source": [
    "# запишем название колонки cityCenters_nearest в змеином регистре и проверим результат\n",
    "data = data.rename(columns={'cityCenters_nearest': 'city_centers_nearest'})\n",
    "data.head()"
   ]
  },
  {
   "cell_type": "markdown",
   "metadata": {},
   "source": [
    "### Анализ пропусков"
   ]
  },
  {
   "cell_type": "markdown",
   "metadata": {},
   "source": [
    "###### Пропуски встречаются в следующих колонках:\n",
    "- `ceiling_height` Скорее всего, авторы объявлений не знают высоту потолка, поэтому пропускают заполнение этой информации. Пропусков много, более трети всех значений, значит удалять строки с пропусками нельзя, т.к. это значительно ухудшит выборку. Заполним пропуски медианным значением. Высота потолка может отличаться в зависимости от высоты здания и типовых проектов, используемых в разных населенных пунктах. Посчитаем медиану для каждой группы, собранной по признаку локации и количества этажей в здании, и применим ее для замены соответствующих пропусков.\n",
    "- `floors_total` Авторы этих объявлений или не знали этажность здания или забыли его указать. Заполним пропуски медианным значением, расчитанной для каждой отдельной локации.\n",
    "- `living_area` Пропуски составляют около 10%. Можно рассчитать среднюю долю жилой площади от общей площади ОН. Затем рассчитать жилую площадь для ОН, где это значение пропущено и заменить им пропуск.\n",
    "- `is_apartment` Пропуски в этой колонке скорее всего означают, что ОН не является апартаментами. Авторы объявления просто не заполняли поле, чтобы сэкономить время. Можно заменить все пропуски на 0 или False (когда изменим тип данных).\n",
    "- `kitchen_area` Доля пропусков невелика - около 10%. Возможно, часть пропусков связана с тем, что ОН не имеет выделенной кухни. Например, если это студия. В этом случае можно заменить пропуски на 0. В остальных случаях следует расчитать медиану доли площади кухни и заменить ей пропуски.\n",
    "- `balcony` Пропуски в этой колонке скорее всего означают, что ОН не иммет балконов. Авторы объявления просто не заполняли поле, чтобы сэкономить время. Можно заменить все пропуски на 0.\n",
    "- `locality_name` Причины появления этих пропусков установить сложно. Доля пропусков очень мала. Удалим строки с пропусками в этой колонке.\n",
    "- `airports_nearest` Автоматическая система по каким-то причинам не смогла определить расстояние. Доля пропусков достаточно большая - 20-25%. Причины пропусков определить сложно, а поэтому и подобрать корректную замену. Оставим пропуски без изменений.\n",
    "- `city_centers_nearest` Ситуция с пропусками в этой колонке очень похожа на ситуацию с `airports_nearest` с одним но. Мы не знаем до центра какого города указано расстояние в локациях не Санкт-Петербург. То ли до центра Санкт-Петербурга, то ли до центра тех пригородов, в которых находится ОН. Оставим пропуски в этой колонке без изменений.\n",
    "- `parks_around3000` и `ponds_around3000` Пропуски в этой колонке скорее всего означают, что в радиусе 3 км от ОН нет парков и прудов. Заменим пропуски в этих колонках на 0.\n",
    "- `parks_nearest` и `ponds_nearest` Автоматическая система по каким-то причинам не смогла определить расстояние. Доля пропусков очень большая - более половины всех записей. Подобрать замену эти пропускам очень сложно, поэтому мы оставим их как есть.\n",
    "- `days_exposition` Нам не известно, по каким причинам в этой колонке отсутствуют пропуски, но это точно не вина авторов объявлений. Доля пропусков невелика - менее 10%. Можно было бы заменить эти пропуски на среднее значение, но это не оптимальный вариант. Оставим пропуски без изменения."
   ]
  },
  {
   "cell_type": "code",
   "execution_count": 4,
   "metadata": {},
   "outputs": [
    {
     "data": {
      "text/plain": [
       "9195"
      ]
     },
     "metadata": {},
     "output_type": "display_data"
    },
    {
     "data": {
      "text/plain": [
       "503"
      ]
     },
     "metadata": {},
     "output_type": "display_data"
    },
    {
     "data": {
      "text/plain": [
       "78"
      ]
     },
     "metadata": {},
     "output_type": "display_data"
    },
    {
     "data": {
      "text/plain": [
       "0"
      ]
     },
     "metadata": {},
     "output_type": "display_data"
    }
   ],
   "source": [
    "# определим количество пропусков в колонке ceiling_height\n",
    "display(data['ceiling_height'].isna().sum())\n",
    "\n",
    "# для каждой группировки локация/этажи заменим пропуски соответствующей медианой\n",
    "data['ceiling_height'] = data['ceiling_height'].fillna(data.groupby(['locality_name', 'floors_total'])['ceiling_height'].transform('median'))\n",
    "\n",
    "# проверим количество оставшихся пропусков\n",
    "display(data['ceiling_height'].isna().sum())\n",
    "# пропуски остались, скорее всего потому что по некторым группам из-за пропусков в ceiling_height медиана получилась 0\n",
    "\n",
    "# заменим оставшиеся пропуски медианами для групп по кол-ву этажей в здании\n",
    "data['ceiling_height'] = data['ceiling_height'].fillna(data.groupby('floors_total')['ceiling_height'].transform('median'))\n",
    "\n",
    "# проверим количество оставшихся пропусков\n",
    "display(data['ceiling_height'].isna().sum())\n",
    "# пропуски снова остались, но в очень небольшой доле\n",
    "\n",
    "# заменим их медианой по всем имеющимся значениям колонки ceiling_height\n",
    "data['ceiling_height'] = data['ceiling_height'].fillna(data['ceiling_height'].median())\n",
    "\n",
    "# проверим количество оставшихся пропусков\n",
    "display(data['ceiling_height'].isna().sum())"
   ]
  },
  {
   "cell_type": "code",
   "execution_count": 5,
   "metadata": {},
   "outputs": [
    {
     "data": {
      "text/plain": [
       "86"
      ]
     },
     "metadata": {},
     "output_type": "display_data"
    },
    {
     "data": {
      "text/plain": [
       "1"
      ]
     },
     "metadata": {},
     "output_type": "display_data"
    },
    {
     "data": {
      "text/plain": [
       "0"
      ]
     },
     "metadata": {},
     "output_type": "display_data"
    }
   ],
   "source": [
    "# определим количество пропусков в колонке floors_total\n",
    "display(data['floors_total'].isna().sum())\n",
    "\n",
    "# для каждой группировки по локации заменим пропуски соответствующей медианой\n",
    "data['floors_total'] = data['floors_total'].fillna(data.groupby('locality_name')['floors_total'].transform('median'))\n",
    "\n",
    "# проверим количество оставшихся пропусков\n",
    "display(data['floors_total'].isna().sum())\n",
    "# пропуски снова остались, но в очень небольшой доле\n",
    "\n",
    "# заменим их медианой по всем имеющимся значениям колонки floors_total\n",
    "data['floors_total'] = data['floors_total'].fillna(data['floors_total'].median())\n",
    "\n",
    "# проверим количество оставшихся пропусков\n",
    "display(data['floors_total'].isna().sum())"
   ]
  },
  {
   "cell_type": "code",
   "execution_count": 6,
   "metadata": {},
   "outputs": [
    {
     "data": {
      "text/plain": [
       "1903"
      ]
     },
     "metadata": {},
     "output_type": "display_data"
    },
    {
     "data": {
      "text/plain": [
       "0"
      ]
     },
     "execution_count": 6,
     "metadata": {},
     "output_type": "execute_result"
    }
   ],
   "source": [
    "# определим количество пропусков в колонке living_area\n",
    "display(data['living_area'].isna().sum())\n",
    "\n",
    "# сгруппируем данные по количеству комнат и для каждой группы посчитаем медианы жилой и общей площадей\n",
    "# перед этим удалим пропуски, а итог сохраним в отдельную переменную\n",
    "# сбросим индексы, чтобы можно было исползовать эту таблицу для объединения\n",
    "nona_living_area = (\n",
    "    data.dropna(subset = ['living_area'])\n",
    "    .pivot_table(index = 'rooms', \n",
    "                 values = ('living_area', 'total_area'), \n",
    "                 aggfunc = 'median')\n",
    "    .reset_index()\n",
    ")\n",
    "\n",
    "# добавим в таблицу колонку с расчетом отношения жилой площади к общей для каждой группы по количеству комнат\n",
    "nona_living_area['living_area_ratio'] = nona_living_area['living_area'] / nona_living_area['total_area']\n",
    "\n",
    "# добавим в исходную таблицу колонку с отношением жилой площади к общей\n",
    "data['living_area_ratio'] = data.merge(nona_living_area, on = 'rooms', how = 'left')['living_area_ratio']\n",
    "\n",
    "# заполним пропуски в колонке living_area произведением отношения и общей площади\n",
    "data['living_area'] = data['living_area'].fillna(data['living_area_ratio'] * data['total_area'])\n",
    "\n",
    "# проверим количество оставшихся пропусков\n",
    "data['living_area'].isna().sum()"
   ]
  },
  {
   "cell_type": "code",
   "execution_count": 8,
   "metadata": {},
   "outputs": [
    {
     "data": {
      "text/plain": [
       "False    2725\n",
       "True       50\n",
       "Name: is_apartment, dtype: int64"
      ]
     },
     "metadata": {},
     "output_type": "display_data"
    },
    {
     "data": {
      "text/plain": [
       "False    23649\n",
       "True        50\n",
       "Name: is_apartment, dtype: int64"
      ]
     },
     "execution_count": 8,
     "metadata": {},
     "output_type": "execute_result"
    }
   ],
   "source": [
    "# заменим пропуски в колонке is_apartment на False и проверим что получилось\n",
    "display(data['is_apartment'].value_counts())\n",
    "data['is_apartment'] = data['is_apartment'].fillna(False)\n",
    "data['is_apartment'].value_counts()"
   ]
  },
  {
   "cell_type": "code",
   "execution_count": 9,
   "metadata": {},
   "outputs": [
    {
     "data": {
      "text/plain": [
       "2278"
      ]
     },
     "metadata": {},
     "output_type": "display_data"
    },
    {
     "data": {
      "text/plain": [
       "197"
      ]
     },
     "metadata": {},
     "output_type": "display_data"
    },
    {
     "data": {
      "text/plain": [
       "0"
      ]
     },
     "metadata": {},
     "output_type": "display_data"
    }
   ],
   "source": [
    "# определим количество пропусков в колонке kithchen_area\n",
    "display(data['kitchen_area'].isna().sum())\n",
    "\n",
    "# сгруппируем данные по количеству комнат и для каждой группы посчитаем медианы жилой и общей площадей\n",
    "# перед этим удалим пропуски, а итог сохраним в отдельную переменную\n",
    "# сбросим индексы, чтобы можно было исползовать эту таблицу для объединения\n",
    "nona_kitchen_area = (\n",
    "    data.dropna(subset = ['kitchen_area'])\n",
    "    .pivot_table(index = 'rooms', \n",
    "                 values = ('kitchen_area', 'total_area'), \n",
    "                 aggfunc = 'median')\n",
    "    .reset_index()\n",
    ")\n",
    "\n",
    "# добавим в таблицу колонку с расчетом отношения жилой площади к общей для каждой группы по количеству комнат\n",
    "nona_kitchen_area['kitchen_area_ratio'] = nona_kitchen_area['kitchen_area'] / nona_kitchen_area['total_area']\n",
    "\n",
    "# добавим в исходную таблицу колонку с отношением жилой площади к общей\n",
    "data['kitchen_area_ratio'] = data.merge(nona_kitchen_area, on = 'rooms', how = 'left')['kitchen_area_ratio']\n",
    "\n",
    "# заполним пропуски в колонке living_area произведением отношения и общей площади\n",
    "data['kitchen_area'] = data['kitchen_area'].fillna(data['kitchen_area_ratio'] * data['total_area'])\n",
    "\n",
    "# проверим количество оставшихся пропусков\n",
    "display(data['kitchen_area'].isna().sum())\n",
    "\n",
    "# хотел проверить этим кодом где именно остались пропуски, но так и не сработал\n",
    "# display(data[data['kitchen_area'].isna()].groupby('rooms'))\n",
    "# выдал вот такую ошибку\n",
    "# <pandas.core.groupby.generic.DataFrameGroupBy object at 0x7f0fd42b2520>\n",
    "\n",
    "# заменим оставшиеся пропуски на 0\n",
    "data['kitchen_area'] = data['kitchen_area'].fillna(0)\n",
    "\n",
    "# проверим количество оставшихся пропусков\n",
    "display(data['kitchen_area'].isna().sum())"
   ]
  },
  {
   "cell_type": "code",
   "execution_count": 10,
   "metadata": {},
   "outputs": [
    {
     "data": {
      "text/plain": [
       "1.0    4195\n",
       "0.0    3758\n",
       "2.0    3659\n",
       "5.0     304\n",
       "4.0     183\n",
       "3.0      81\n",
       "Name: balcony, dtype: int64"
      ]
     },
     "metadata": {},
     "output_type": "display_data"
    },
    {
     "data": {
      "text/plain": [
       "0.0    15277\n",
       "1.0     4195\n",
       "2.0     3659\n",
       "5.0      304\n",
       "4.0      183\n",
       "3.0       81\n",
       "Name: balcony, dtype: int64"
      ]
     },
     "execution_count": 10,
     "metadata": {},
     "output_type": "execute_result"
    }
   ],
   "source": [
    "# заменим пропуски в колонке balcony на 0 и проверим что получилось\n",
    "display(data['balcony'].value_counts())\n",
    "data['balcony'] = data['balcony'].fillna(0)\n",
    "data['balcony'].value_counts()"
   ]
  },
  {
   "cell_type": "code",
   "execution_count": 11,
   "metadata": {},
   "outputs": [
    {
     "data": {
      "text/plain": [
       "0"
      ]
     },
     "execution_count": 11,
     "metadata": {},
     "output_type": "execute_result"
    }
   ],
   "source": [
    "# удалим строки с пропусками в колонке locality_name и проверим результат\n",
    "data = data.dropna(subset = ['locality_name'])\n",
    "data['locality_name'].isna().sum()"
   ]
  },
  {
   "cell_type": "code",
   "execution_count": 13,
   "metadata": {},
   "outputs": [
    {
     "data": {
      "text/plain": [
       "5510"
      ]
     },
     "metadata": {},
     "output_type": "display_data"
    },
    {
     "data": {
      "text/plain": [
       "0"
      ]
     },
     "execution_count": 13,
     "metadata": {},
     "output_type": "execute_result"
    }
   ],
   "source": [
    "# определим количество пропусков в колонке parks_around3000\n",
    "display(data['parks_around3000'].isna().sum())\n",
    "\n",
    "# заменим пропуски на 0\n",
    "data['parks_around3000'] = data['parks_around3000'].fillna(0)\n",
    "\n",
    "# проверим оставшееся количество пропусков\n",
    "data['parks_around3000'].isna().sum()"
   ]
  },
  {
   "cell_type": "code",
   "execution_count": 14,
   "metadata": {},
   "outputs": [
    {
     "data": {
      "text/plain": [
       "5510"
      ]
     },
     "metadata": {},
     "output_type": "display_data"
    },
    {
     "data": {
      "text/plain": [
       "0"
      ]
     },
     "execution_count": 14,
     "metadata": {},
     "output_type": "execute_result"
    }
   ],
   "source": [
    "# определим количество пропусков в колонке ponds_around3000\n",
    "display(data['ponds_around3000'].isna().sum())\n",
    "\n",
    "# заменим пропуски на 0\n",
    "data['ponds_around3000'] = data['ponds_around3000'].fillna(0)\n",
    "\n",
    "# проверим оставшееся количество пропусков\n",
    "data['ponds_around3000'].isna().sum()"
   ]
  },
  {
   "cell_type": "code",
   "execution_count": 16,
   "metadata": {},
   "outputs": [
    {
     "data": {
      "text/plain": [
       "5534"
      ]
     },
     "metadata": {},
     "output_type": "display_data"
    },
    {
     "data": {
      "text/plain": [
       "5386"
      ]
     },
     "execution_count": 16,
     "metadata": {},
     "output_type": "execute_result"
    }
   ],
   "source": [
    "# определим количество пропусков в колонке airports_nearest\n",
    "display(data['airports_nearest'].isna().sum())\n",
    "\n",
    "# для каждой группировки локация заменим пропуски соответствующей медианой\n",
    "data['airports_nearest'] = data['airports_nearest'].fillna(data.groupby('locality_name')['airports_nearest'].transform('median'))\n",
    "\n",
    "# проверим количество оставшихся пропусков\n",
    "data['airports_nearest'].isna().sum()"
   ]
  },
  {
   "cell_type": "code",
   "execution_count": 17,
   "metadata": {},
   "outputs": [
    {
     "name": "stdout",
     "output_type": "stream",
     "text": [
      "<class 'pandas.core.frame.DataFrame'>\n",
      "Int64Index: 23650 entries, 0 to 23698\n",
      "Data columns (total 24 columns):\n",
      " #   Column                Non-Null Count  Dtype  \n",
      "---  ------                --------------  -----  \n",
      " 0   total_images          23650 non-null  int64  \n",
      " 1   last_price            23650 non-null  float64\n",
      " 2   total_area            23650 non-null  float64\n",
      " 3   first_day_exposition  23650 non-null  object \n",
      " 4   rooms                 23650 non-null  int64  \n",
      " 5   ceiling_height        23650 non-null  float64\n",
      " 6   floors_total          23650 non-null  float64\n",
      " 7   living_area           23650 non-null  float64\n",
      " 8   floor                 23650 non-null  int64  \n",
      " 9   is_apartment          23650 non-null  bool   \n",
      " 10  studio                23650 non-null  bool   \n",
      " 11  open_plan             23650 non-null  bool   \n",
      " 12  kitchen_area          23650 non-null  float64\n",
      " 13  balcony               23650 non-null  float64\n",
      " 14  locality_name         23650 non-null  object \n",
      " 15  airports_nearest      18264 non-null  float64\n",
      " 16  city_centers_nearest  18139 non-null  float64\n",
      " 17  parks_around3000      23650 non-null  float64\n",
      " 18  parks_nearest         8064 non-null   float64\n",
      " 19  ponds_around3000      23650 non-null  float64\n",
      " 20  ponds_nearest         9085 non-null   float64\n",
      " 21  days_exposition       20470 non-null  float64\n",
      " 22  living_area_ratio     23650 non-null  float64\n",
      " 23  kitchen_area_ratio    23453 non-null  float64\n",
      "dtypes: bool(3), float64(16), int64(3), object(2)\n",
      "memory usage: 4.0+ MB\n"
     ]
    }
   ],
   "source": [
    "# оценим результаты работы с пропусками\n",
    "data.info()"
   ]
  },
  {
   "cell_type": "markdown",
   "metadata": {},
   "source": [
    "### Замена типа данных"
   ]
  },
  {
   "cell_type": "markdown",
   "metadata": {},
   "source": [
    "**Замену типа данных следует произвести по следующим принципам:**\n",
    "- замена типа с дробного на целочисленный там, где значение не может быть дробным. Под этот критерий попадают колонки `floors_total`, `balcony`, `parks_around3000`, `ponds_around3000` и `days_exposition`.\n",
    "- замена типа на дату для соответствующих значений. Под этот критерий попадает колонка `first_day_exposition`"
   ]
  },
  {
   "cell_type": "code",
   "execution_count": 18,
   "metadata": {},
   "outputs": [
    {
     "name": "stdout",
     "output_type": "stream",
     "text": [
      "<class 'pandas.core.frame.DataFrame'>\n",
      "Int64Index: 23650 entries, 0 to 23698\n",
      "Data columns (total 24 columns):\n",
      " #   Column                Non-Null Count  Dtype         \n",
      "---  ------                --------------  -----         \n",
      " 0   total_images          23650 non-null  int64         \n",
      " 1   last_price            23650 non-null  float64       \n",
      " 2   total_area            23650 non-null  float64       \n",
      " 3   first_day_exposition  23650 non-null  datetime64[ns]\n",
      " 4   rooms                 23650 non-null  int64         \n",
      " 5   ceiling_height        23650 non-null  float64       \n",
      " 6   floors_total          23650 non-null  int64         \n",
      " 7   living_area           23650 non-null  float64       \n",
      " 8   floor                 23650 non-null  int64         \n",
      " 9   is_apartment          23650 non-null  bool          \n",
      " 10  studio                23650 non-null  bool          \n",
      " 11  open_plan             23650 non-null  bool          \n",
      " 12  kitchen_area          23650 non-null  float64       \n",
      " 13  balcony               23650 non-null  int64         \n",
      " 14  locality_name         23650 non-null  object        \n",
      " 15  airports_nearest      18264 non-null  float64       \n",
      " 16  city_centers_nearest  18139 non-null  float64       \n",
      " 17  parks_around3000      23650 non-null  int64         \n",
      " 18  parks_nearest         8064 non-null   float64       \n",
      " 19  ponds_around3000      23650 non-null  int64         \n",
      " 20  ponds_nearest         9085 non-null   float64       \n",
      " 21  days_exposition       20470 non-null  float64       \n",
      " 22  living_area_ratio     23650 non-null  float64       \n",
      " 23  kitchen_area_ratio    23453 non-null  float64       \n",
      "dtypes: bool(3), datetime64[ns](1), float64(12), int64(7), object(1)\n",
      "memory usage: 4.0+ MB\n"
     ]
    }
   ],
   "source": [
    "# заменим дробные значения на целочисленные в выбранных колонках\n",
    "data_columns_wrong_type = ['floors_total', 'balcony', 'parks_around3000', 'ponds_around3000']\n",
    "for column in data_columns_wrong_type:\n",
    "    data[column] = data[column].astype('int64')\n",
    "\n",
    "# заменим тип данных для колонки с датой\n",
    "data['first_day_exposition'] = pd.to_datetime(data['first_day_exposition'], format='%Y-%m-%dT%H:%M:%S')\n",
    "\n",
    "# проверим результат\n",
    "data.info()"
   ]
  },
  {
   "cell_type": "markdown",
   "metadata": {},
   "source": [
    "## Расчёты и добавление результатов в таблицу"
   ]
  },
  {
   "cell_type": "markdown",
   "metadata": {},
   "source": [
    "Добавим в таблицу дополнительные расчетные данные:\n",
    "- цену за квадратный метр\n",
    "- день недели, месяц и год публикации объявления\n",
    "- этаж квартиры: варианты — первый, последний, другой\n",
    "- соотношение жилой и общей площади, а также отношение площади кухни к общей"
   ]
  },
  {
   "cell_type": "code",
   "execution_count": 19,
   "metadata": {},
   "outputs": [],
   "source": [
    "# добавим цену за квадратный метр\n",
    "data['last_price_per_sqm'] = data['last_price'] / data['total_area']"
   ]
  },
  {
   "cell_type": "code",
   "execution_count": 20,
   "metadata": {},
   "outputs": [
    {
     "data": {
      "text/html": [
       "<div>\n",
       "<style scoped>\n",
       "    .dataframe tbody tr th:only-of-type {\n",
       "        vertical-align: middle;\n",
       "    }\n",
       "\n",
       "    .dataframe tbody tr th {\n",
       "        vertical-align: top;\n",
       "    }\n",
       "\n",
       "    .dataframe thead th {\n",
       "        text-align: right;\n",
       "    }\n",
       "</style>\n",
       "<table border=\"1\" class=\"dataframe\">\n",
       "  <thead>\n",
       "    <tr style=\"text-align: right;\">\n",
       "      <th></th>\n",
       "      <th>total_images</th>\n",
       "      <th>last_price</th>\n",
       "      <th>total_area</th>\n",
       "      <th>first_day_exposition</th>\n",
       "      <th>rooms</th>\n",
       "      <th>ceiling_height</th>\n",
       "      <th>floors_total</th>\n",
       "      <th>living_area</th>\n",
       "      <th>floor</th>\n",
       "      <th>is_apartment</th>\n",
       "      <th>...</th>\n",
       "      <th>parks_nearest</th>\n",
       "      <th>ponds_around3000</th>\n",
       "      <th>ponds_nearest</th>\n",
       "      <th>days_exposition</th>\n",
       "      <th>living_area_ratio</th>\n",
       "      <th>kitchen_area_ratio</th>\n",
       "      <th>last_price_per_sqm</th>\n",
       "      <th>weekday_exposition</th>\n",
       "      <th>month_exposition</th>\n",
       "      <th>year_exposition</th>\n",
       "    </tr>\n",
       "  </thead>\n",
       "  <tbody>\n",
       "    <tr>\n",
       "      <th>0</th>\n",
       "      <td>20</td>\n",
       "      <td>13000000.0</td>\n",
       "      <td>108.0</td>\n",
       "      <td>2019-03-07</td>\n",
       "      <td>3</td>\n",
       "      <td>2.70</td>\n",
       "      <td>16</td>\n",
       "      <td>51.000000</td>\n",
       "      <td>8</td>\n",
       "      <td>False</td>\n",
       "      <td>...</td>\n",
       "      <td>482.0</td>\n",
       "      <td>2</td>\n",
       "      <td>755.0</td>\n",
       "      <td>NaN</td>\n",
       "      <td>0.619835</td>\n",
       "      <td>0.130316</td>\n",
       "      <td>120370.370370</td>\n",
       "      <td>3</td>\n",
       "      <td>3</td>\n",
       "      <td>2019</td>\n",
       "    </tr>\n",
       "    <tr>\n",
       "      <th>1</th>\n",
       "      <td>7</td>\n",
       "      <td>3350000.0</td>\n",
       "      <td>40.4</td>\n",
       "      <td>2018-12-04</td>\n",
       "      <td>1</td>\n",
       "      <td>2.77</td>\n",
       "      <td>11</td>\n",
       "      <td>18.600000</td>\n",
       "      <td>1</td>\n",
       "      <td>False</td>\n",
       "      <td>...</td>\n",
       "      <td>NaN</td>\n",
       "      <td>0</td>\n",
       "      <td>NaN</td>\n",
       "      <td>81.0</td>\n",
       "      <td>0.482192</td>\n",
       "      <td>0.245652</td>\n",
       "      <td>82920.792079</td>\n",
       "      <td>1</td>\n",
       "      <td>12</td>\n",
       "      <td>2018</td>\n",
       "    </tr>\n",
       "    <tr>\n",
       "      <th>2</th>\n",
       "      <td>10</td>\n",
       "      <td>5196000.0</td>\n",
       "      <td>56.0</td>\n",
       "      <td>2015-08-20</td>\n",
       "      <td>2</td>\n",
       "      <td>2.60</td>\n",
       "      <td>5</td>\n",
       "      <td>34.300000</td>\n",
       "      <td>4</td>\n",
       "      <td>False</td>\n",
       "      <td>...</td>\n",
       "      <td>90.0</td>\n",
       "      <td>2</td>\n",
       "      <td>574.0</td>\n",
       "      <td>558.0</td>\n",
       "      <td>0.575472</td>\n",
       "      <td>0.166038</td>\n",
       "      <td>92785.714286</td>\n",
       "      <td>3</td>\n",
       "      <td>8</td>\n",
       "      <td>2015</td>\n",
       "    </tr>\n",
       "    <tr>\n",
       "      <th>3</th>\n",
       "      <td>0</td>\n",
       "      <td>64900000.0</td>\n",
       "      <td>159.0</td>\n",
       "      <td>2015-07-24</td>\n",
       "      <td>3</td>\n",
       "      <td>2.60</td>\n",
       "      <td>14</td>\n",
       "      <td>98.553719</td>\n",
       "      <td>9</td>\n",
       "      <td>False</td>\n",
       "      <td>...</td>\n",
       "      <td>84.0</td>\n",
       "      <td>3</td>\n",
       "      <td>234.0</td>\n",
       "      <td>424.0</td>\n",
       "      <td>0.619835</td>\n",
       "      <td>0.130316</td>\n",
       "      <td>408176.100629</td>\n",
       "      <td>4</td>\n",
       "      <td>7</td>\n",
       "      <td>2015</td>\n",
       "    </tr>\n",
       "    <tr>\n",
       "      <th>4</th>\n",
       "      <td>2</td>\n",
       "      <td>10000000.0</td>\n",
       "      <td>100.0</td>\n",
       "      <td>2018-06-19</td>\n",
       "      <td>2</td>\n",
       "      <td>3.03</td>\n",
       "      <td>14</td>\n",
       "      <td>32.000000</td>\n",
       "      <td>13</td>\n",
       "      <td>False</td>\n",
       "      <td>...</td>\n",
       "      <td>112.0</td>\n",
       "      <td>1</td>\n",
       "      <td>48.0</td>\n",
       "      <td>121.0</td>\n",
       "      <td>0.575472</td>\n",
       "      <td>0.166038</td>\n",
       "      <td>100000.000000</td>\n",
       "      <td>1</td>\n",
       "      <td>6</td>\n",
       "      <td>2018</td>\n",
       "    </tr>\n",
       "  </tbody>\n",
       "</table>\n",
       "<p>5 rows × 28 columns</p>\n",
       "</div>"
      ],
      "text/plain": [
       "   total_images  last_price  total_area first_day_exposition  rooms  \\\n",
       "0            20  13000000.0       108.0           2019-03-07      3   \n",
       "1             7   3350000.0        40.4           2018-12-04      1   \n",
       "2            10   5196000.0        56.0           2015-08-20      2   \n",
       "3             0  64900000.0       159.0           2015-07-24      3   \n",
       "4             2  10000000.0       100.0           2018-06-19      2   \n",
       "\n",
       "   ceiling_height  floors_total  living_area  floor  is_apartment  ...  \\\n",
       "0            2.70            16    51.000000      8         False  ...   \n",
       "1            2.77            11    18.600000      1         False  ...   \n",
       "2            2.60             5    34.300000      4         False  ...   \n",
       "3            2.60            14    98.553719      9         False  ...   \n",
       "4            3.03            14    32.000000     13         False  ...   \n",
       "\n",
       "   parks_nearest  ponds_around3000  ponds_nearest  days_exposition  \\\n",
       "0          482.0                 2          755.0              NaN   \n",
       "1            NaN                 0            NaN             81.0   \n",
       "2           90.0                 2          574.0            558.0   \n",
       "3           84.0                 3          234.0            424.0   \n",
       "4          112.0                 1           48.0            121.0   \n",
       "\n",
       "  living_area_ratio  kitchen_area_ratio  last_price_per_sqm  \\\n",
       "0          0.619835            0.130316       120370.370370   \n",
       "1          0.482192            0.245652        82920.792079   \n",
       "2          0.575472            0.166038        92785.714286   \n",
       "3          0.619835            0.130316       408176.100629   \n",
       "4          0.575472            0.166038       100000.000000   \n",
       "\n",
       "   weekday_exposition  month_exposition  year_exposition  \n",
       "0                   3                 3             2019  \n",
       "1                   1                12             2018  \n",
       "2                   3                 8             2015  \n",
       "3                   4                 7             2015  \n",
       "4                   1                 6             2018  \n",
       "\n",
       "[5 rows x 28 columns]"
      ]
     },
     "execution_count": 20,
     "metadata": {},
     "output_type": "execute_result"
    }
   ],
   "source": [
    "# добавим день недели, месяц и год публикации объявления и проверим результат\n",
    "data['weekday_exposition'] = data['first_day_exposition'].dt.weekday\n",
    "data['month_exposition'] = data['first_day_exposition'].dt.month\n",
    "data['year_exposition'] = data['first_day_exposition'].dt.year\n",
    "data.head()"
   ]
  },
  {
   "cell_type": "code",
   "execution_count": 21,
   "metadata": {},
   "outputs": [
    {
     "data": {
      "text/html": [
       "<div>\n",
       "<style scoped>\n",
       "    .dataframe tbody tr th:only-of-type {\n",
       "        vertical-align: middle;\n",
       "    }\n",
       "\n",
       "    .dataframe tbody tr th {\n",
       "        vertical-align: top;\n",
       "    }\n",
       "\n",
       "    .dataframe thead th {\n",
       "        text-align: right;\n",
       "    }\n",
       "</style>\n",
       "<table border=\"1\" class=\"dataframe\">\n",
       "  <thead>\n",
       "    <tr style=\"text-align: right;\">\n",
       "      <th></th>\n",
       "      <th>total_images</th>\n",
       "      <th>last_price</th>\n",
       "      <th>total_area</th>\n",
       "      <th>first_day_exposition</th>\n",
       "      <th>rooms</th>\n",
       "      <th>ceiling_height</th>\n",
       "      <th>floors_total</th>\n",
       "      <th>living_area</th>\n",
       "      <th>floor</th>\n",
       "      <th>is_apartment</th>\n",
       "      <th>...</th>\n",
       "      <th>ponds_around3000</th>\n",
       "      <th>ponds_nearest</th>\n",
       "      <th>days_exposition</th>\n",
       "      <th>living_area_ratio</th>\n",
       "      <th>kitchen_area_ratio</th>\n",
       "      <th>last_price_per_sqm</th>\n",
       "      <th>weekday_exposition</th>\n",
       "      <th>month_exposition</th>\n",
       "      <th>year_exposition</th>\n",
       "      <th>floor_category</th>\n",
       "    </tr>\n",
       "  </thead>\n",
       "  <tbody>\n",
       "    <tr>\n",
       "      <th>0</th>\n",
       "      <td>20</td>\n",
       "      <td>13000000.0</td>\n",
       "      <td>108.0</td>\n",
       "      <td>2019-03-07</td>\n",
       "      <td>3</td>\n",
       "      <td>2.70</td>\n",
       "      <td>16</td>\n",
       "      <td>51.000000</td>\n",
       "      <td>8</td>\n",
       "      <td>False</td>\n",
       "      <td>...</td>\n",
       "      <td>2</td>\n",
       "      <td>755.0</td>\n",
       "      <td>NaN</td>\n",
       "      <td>0.619835</td>\n",
       "      <td>0.130316</td>\n",
       "      <td>120370.370370</td>\n",
       "      <td>3</td>\n",
       "      <td>3</td>\n",
       "      <td>2019</td>\n",
       "      <td>others</td>\n",
       "    </tr>\n",
       "    <tr>\n",
       "      <th>1</th>\n",
       "      <td>7</td>\n",
       "      <td>3350000.0</td>\n",
       "      <td>40.4</td>\n",
       "      <td>2018-12-04</td>\n",
       "      <td>1</td>\n",
       "      <td>2.77</td>\n",
       "      <td>11</td>\n",
       "      <td>18.600000</td>\n",
       "      <td>1</td>\n",
       "      <td>False</td>\n",
       "      <td>...</td>\n",
       "      <td>0</td>\n",
       "      <td>NaN</td>\n",
       "      <td>81.0</td>\n",
       "      <td>0.482192</td>\n",
       "      <td>0.245652</td>\n",
       "      <td>82920.792079</td>\n",
       "      <td>1</td>\n",
       "      <td>12</td>\n",
       "      <td>2018</td>\n",
       "      <td>first</td>\n",
       "    </tr>\n",
       "    <tr>\n",
       "      <th>2</th>\n",
       "      <td>10</td>\n",
       "      <td>5196000.0</td>\n",
       "      <td>56.0</td>\n",
       "      <td>2015-08-20</td>\n",
       "      <td>2</td>\n",
       "      <td>2.60</td>\n",
       "      <td>5</td>\n",
       "      <td>34.300000</td>\n",
       "      <td>4</td>\n",
       "      <td>False</td>\n",
       "      <td>...</td>\n",
       "      <td>2</td>\n",
       "      <td>574.0</td>\n",
       "      <td>558.0</td>\n",
       "      <td>0.575472</td>\n",
       "      <td>0.166038</td>\n",
       "      <td>92785.714286</td>\n",
       "      <td>3</td>\n",
       "      <td>8</td>\n",
       "      <td>2015</td>\n",
       "      <td>others</td>\n",
       "    </tr>\n",
       "    <tr>\n",
       "      <th>3</th>\n",
       "      <td>0</td>\n",
       "      <td>64900000.0</td>\n",
       "      <td>159.0</td>\n",
       "      <td>2015-07-24</td>\n",
       "      <td>3</td>\n",
       "      <td>2.60</td>\n",
       "      <td>14</td>\n",
       "      <td>98.553719</td>\n",
       "      <td>9</td>\n",
       "      <td>False</td>\n",
       "      <td>...</td>\n",
       "      <td>3</td>\n",
       "      <td>234.0</td>\n",
       "      <td>424.0</td>\n",
       "      <td>0.619835</td>\n",
       "      <td>0.130316</td>\n",
       "      <td>408176.100629</td>\n",
       "      <td>4</td>\n",
       "      <td>7</td>\n",
       "      <td>2015</td>\n",
       "      <td>others</td>\n",
       "    </tr>\n",
       "    <tr>\n",
       "      <th>4</th>\n",
       "      <td>2</td>\n",
       "      <td>10000000.0</td>\n",
       "      <td>100.0</td>\n",
       "      <td>2018-06-19</td>\n",
       "      <td>2</td>\n",
       "      <td>3.03</td>\n",
       "      <td>14</td>\n",
       "      <td>32.000000</td>\n",
       "      <td>13</td>\n",
       "      <td>False</td>\n",
       "      <td>...</td>\n",
       "      <td>1</td>\n",
       "      <td>48.0</td>\n",
       "      <td>121.0</td>\n",
       "      <td>0.575472</td>\n",
       "      <td>0.166038</td>\n",
       "      <td>100000.000000</td>\n",
       "      <td>1</td>\n",
       "      <td>6</td>\n",
       "      <td>2018</td>\n",
       "      <td>others</td>\n",
       "    </tr>\n",
       "  </tbody>\n",
       "</table>\n",
       "<p>5 rows × 29 columns</p>\n",
       "</div>"
      ],
      "text/plain": [
       "   total_images  last_price  total_area first_day_exposition  rooms  \\\n",
       "0            20  13000000.0       108.0           2019-03-07      3   \n",
       "1             7   3350000.0        40.4           2018-12-04      1   \n",
       "2            10   5196000.0        56.0           2015-08-20      2   \n",
       "3             0  64900000.0       159.0           2015-07-24      3   \n",
       "4             2  10000000.0       100.0           2018-06-19      2   \n",
       "\n",
       "   ceiling_height  floors_total  living_area  floor  is_apartment  ...  \\\n",
       "0            2.70            16    51.000000      8         False  ...   \n",
       "1            2.77            11    18.600000      1         False  ...   \n",
       "2            2.60             5    34.300000      4         False  ...   \n",
       "3            2.60            14    98.553719      9         False  ...   \n",
       "4            3.03            14    32.000000     13         False  ...   \n",
       "\n",
       "   ponds_around3000  ponds_nearest  days_exposition  living_area_ratio  \\\n",
       "0                 2          755.0              NaN           0.619835   \n",
       "1                 0            NaN             81.0           0.482192   \n",
       "2                 2          574.0            558.0           0.575472   \n",
       "3                 3          234.0            424.0           0.619835   \n",
       "4                 1           48.0            121.0           0.575472   \n",
       "\n",
       "  kitchen_area_ratio  last_price_per_sqm  weekday_exposition  \\\n",
       "0           0.130316       120370.370370                   3   \n",
       "1           0.245652        82920.792079                   1   \n",
       "2           0.166038        92785.714286                   3   \n",
       "3           0.130316       408176.100629                   4   \n",
       "4           0.166038       100000.000000                   1   \n",
       "\n",
       "   month_exposition  year_exposition  floor_category  \n",
       "0                 3             2019          others  \n",
       "1                12             2018           first  \n",
       "2                 8             2015          others  \n",
       "3                 7             2015          others  \n",
       "4                 6             2018          others  \n",
       "\n",
       "[5 rows x 29 columns]"
      ]
     },
     "execution_count": 21,
     "metadata": {},
     "output_type": "execute_result"
    }
   ],
   "source": [
    "# добавим этаж квартиры: варианты — первый, последний, другой и проверим результат\n",
    "# сначала напишем функцию, которая работает со всей строкой датафрейма\n",
    "def floor_category(row):\n",
    "    floor = row['floor']\n",
    "    floors_total = row['floors_total']\n",
    "    if floor == 1:\n",
    "        return 'first'\n",
    "    elif floor == floors_total:\n",
    "        return 'last'\n",
    "    return 'others'\n",
    "\n",
    "# затем применим функцию к датафрейму и проверим результат\n",
    "data['floor_category'] = data.apply(floor_category, axis=1)\n",
    "data.head()"
   ]
  },
  {
   "cell_type": "code",
   "execution_count": 22,
   "metadata": {},
   "outputs": [
    {
     "data": {
      "text/plain": [
       "0"
      ]
     },
     "execution_count": 22,
     "metadata": {},
     "output_type": "execute_result"
    }
   ],
   "source": [
    "# соотношение жилой и общей площади и отношение площади кухни к общей мы считали ранее,\n",
    "# но несколько иным способом - через группировки и медианы\n",
    "# на текущем этапе текущие значения в этих колонках нам не нужны,\n",
    "# поэтому заменим значения в них на новые, в соответствии с требованиями задачи\n",
    "data['living_area_ratio'] = data['living_area'] / data['total_area']\n",
    "data['kitchen_area_ratio'] = data['kitchen_area'] / data['total_area']\n",
    "\n",
    "# проверим, что в этих колонке kitchen_area_ratio не осталось пропусков\n",
    "data['kitchen_area_ratio'].isna().sum()"
   ]
  },
  {
   "cell_type": "markdown",
   "metadata": {},
   "source": [
    "## Исследовательский анализ данных"
   ]
  },
  {
   "cell_type": "markdown",
   "metadata": {},
   "source": [
    "### Изучение отдельных параметров"
   ]
  },
  {
   "cell_type": "markdown",
   "metadata": {},
   "source": [
    "Изучим некоторые параметры исходных данных: площадь, цену, число комнат, высоту потолков. Построим гистограммы для каждого параметра."
   ]
  },
  {
   "cell_type": "code",
   "execution_count": 23,
   "metadata": {},
   "outputs": [
    {
     "data": {
      "text/plain": [
       "count    23650.000000\n",
       "mean        60.329069\n",
       "std         35.661808\n",
       "min         12.000000\n",
       "25%         40.000000\n",
       "50%         52.000000\n",
       "75%         69.700000\n",
       "max        900.000000\n",
       "Name: total_area, dtype: float64"
      ]
     },
     "metadata": {},
     "output_type": "display_data"
    },
    {
     "data": {
      "text/plain": [
       "<AxesSubplot:ylabel='Frequency'>"
      ]
     },
     "execution_count": 23,
     "metadata": {},
     "output_type": "execute_result"
    },
    {
     "data": {
      "image/png": "[encoded data removed]",
      "text/plain": [
       "<Figure size 432x288 with 1 Axes>"
      ]
     },
     "metadata": {
      "needs_background": "light"
     },
     "output_type": "display_data"
    }
   ],
   "source": [
    "# изучим параметр total_area методом describe и с помощью гистограммы\n",
    "display(data['total_area'].describe())\n",
    "data.plot(kind='hist', y='total_area', bins=50, legend=True, grid=True)"
   ]
  },
  {
   "cell_type": "markdown",
   "metadata": {},
   "source": [
    "**Вывод: общая площадь**\n",
    "\n",
    "Данные по общей площади имеют близкое к нормальному распределение. 75% квартир имеют площадь в пределах 70 м2, что похоже на правду. Минимальное и максимальное значения хоть и имеют экстремальные значения, но все же могут встречаться в жизни."
   ]
  },
  {
   "cell_type": "code",
   "execution_count": 24,
   "metadata": {},
   "outputs": [
    {
     "data": {
      "text/plain": [
       "0    120370.370370\n",
       "1     82920.792079\n",
       "2     92785.714286\n",
       "3    408176.100629\n",
       "4    100000.000000\n",
       "Name: last_price_per_sqm, dtype: float64"
      ]
     },
     "metadata": {},
     "output_type": "display_data"
    },
    {
     "data": {
      "text/plain": [
       "count    2.365000e+04\n",
       "mean     9.943180e+04\n",
       "std      5.033794e+04\n",
       "min      1.110000e+02\n",
       "25%      7.661425e+04\n",
       "50%      9.500000e+04\n",
       "75%      1.142740e+05\n",
       "max      1.907500e+06\n",
       "Name: last_price_per_sqm, dtype: float64"
      ]
     },
     "metadata": {},
     "output_type": "display_data"
    },
    {
     "data": {
      "text/plain": [
       "<AxesSubplot:ylabel='Frequency'>"
      ]
     },
     "execution_count": 24,
     "metadata": {},
     "output_type": "execute_result"
    },
    {
     "data": {
      "image/png": "[encoded data removed]",
      "text/plain": [
       "<Figure size 432x288 with 1 Axes>"
      ]
     },
     "metadata": {
      "needs_background": "light"
     },
     "output_type": "display_data"
    }
   ],
   "source": [
    "# изучим параметр last_price_per_sqm методом describe и с помощью гистограммы\n",
    "display(data['last_price_per_sqm'].head())\n",
    "display(data['last_price_per_sqm'].astype('int64').describe())\n",
    "data.plot(kind='hist', y='last_price_per_sqm', bins=50, range=(50000, 150000), legend=True, grid=True)"
   ]
  },
  {
   "cell_type": "markdown",
   "metadata": {},
   "source": [
    "**Вывод: цена**\n",
    "\n",
    "Данные по ценам имеют нормальное распределение. Средняя цена около 100 т.р. за м2 выглядит правдоподобно. В то же время есть много аномальных значений."
   ]
  },
  {
   "cell_type": "code",
   "execution_count": 25,
   "metadata": {},
   "outputs": [
    {
     "data": {
      "text/plain": [
       "count    23650.000000\n",
       "mean         2.070106\n",
       "std          1.078620\n",
       "min          0.000000\n",
       "25%          1.000000\n",
       "50%          2.000000\n",
       "75%          3.000000\n",
       "max         19.000000\n",
       "Name: rooms, dtype: float64"
      ]
     },
     "metadata": {},
     "output_type": "display_data"
    },
    {
     "data": {
      "text/html": [
       "<div>\n",
       "<style scoped>\n",
       "    .dataframe tbody tr th:only-of-type {\n",
       "        vertical-align: middle;\n",
       "    }\n",
       "\n",
       "    .dataframe tbody tr th {\n",
       "        vertical-align: top;\n",
       "    }\n",
       "\n",
       "    .dataframe thead th {\n",
       "        text-align: right;\n",
       "    }\n",
       "</style>\n",
       "<table border=\"1\" class=\"dataframe\">\n",
       "  <thead>\n",
       "    <tr style=\"text-align: right;\">\n",
       "      <th></th>\n",
       "      <th></th>\n",
       "      <th></th>\n",
       "      <th>total_area</th>\n",
       "    </tr>\n",
       "    <tr>\n",
       "      <th>rooms</th>\n",
       "      <th>open_plan</th>\n",
       "      <th>studio</th>\n",
       "      <th></th>\n",
       "    </tr>\n",
       "  </thead>\n",
       "  <tbody>\n",
       "    <tr>\n",
       "      <th rowspan=\"2\" valign=\"top\">0</th>\n",
       "      <th>False</th>\n",
       "      <th>True</th>\n",
       "      <td>138</td>\n",
       "    </tr>\n",
       "    <tr>\n",
       "      <th>True</th>\n",
       "      <th>False</th>\n",
       "      <td>59</td>\n",
       "    </tr>\n",
       "  </tbody>\n",
       "</table>\n",
       "</div>"
      ],
      "text/plain": [
       "                        total_area\n",
       "rooms open_plan studio            \n",
       "0     False     True           138\n",
       "      True      False           59"
      ]
     },
     "execution_count": 25,
     "metadata": {},
     "output_type": "execute_result"
    },
    {
     "data": {
      "image/png": "[encoded data removed]",
      "text/plain": [
       "<Figure size 432x288 with 1 Axes>"
      ]
     },
     "metadata": {
      "needs_background": "light"
     },
     "output_type": "display_data"
    }
   ],
   "source": [
    "# изучим параметр rooms методом describe и с помощью гистограммы\n",
    "display(data['rooms'].describe())\n",
    "data.plot(kind='hist', y='rooms', bins=50, range=(0, 20), legend=True, grid=True)\n",
    "\n",
    "# проверим взаимосвязь квартир с нулевым количеством комнат с двнными в колонках open_plan и studio \n",
    "data.query('rooms == 0').pivot_table(index=('rooms', 'open_plan', 'studio'), values='total_area', aggfunc='count')"
   ]
  },
  {
   "cell_type": "markdown",
   "metadata": {},
   "source": [
    "**Вывод: комнаты**\n",
    "\n",
    "Данные по количеству комнат имеют близкое к нормальному распределение. 75% квартир имеют до 3-х комнат, что выглядит правдоподобно. Квартиры без комнат - это либо студии, либо квартиры с открытой планировкой. Квартиры более чем пятью комнатами могут относиться к уникальным предложениям."
   ]
  },
  {
   "cell_type": "code",
   "execution_count": 26,
   "metadata": {},
   "outputs": [
    {
     "data": {
      "text/plain": [
       "count    23650.000000\n",
       "mean         2.739147\n",
       "std          1.007506\n",
       "min          1.000000\n",
       "25%          2.550000\n",
       "50%          2.650000\n",
       "75%          2.750000\n",
       "max        100.000000\n",
       "Name: ceiling_height, dtype: float64"
      ]
     },
     "metadata": {},
     "output_type": "display_data"
    },
    {
     "data": {
      "text/plain": [
       "<AxesSubplot:ylabel='Frequency'>"
      ]
     },
     "execution_count": 26,
     "metadata": {},
     "output_type": "execute_result"
    },
    {
     "data": {
      "image/png": "[encoded data removed]",
      "text/plain": [
       "<Figure size 432x288 with 1 Axes>"
      ]
     },
     "metadata": {
      "needs_background": "light"
     },
     "output_type": "display_data"
    }
   ],
   "source": [
    "# изучим параметр ceiling_height методом describe и с помощью гистограммы\n",
    "display(data['ceiling_height'].describe())\n",
    "data.plot(kind='hist', y='ceiling_height', bins=50, range=(2, 4), legend=True, grid=True)"
   ]
  },
  {
   "cell_type": "markdown",
   "metadata": {},
   "source": [
    "**Вывод: высота потолка**\n",
    "\n",
    "Большинство квартир имееют высоту потолка, близкую к стандартным 2,7 метра. Скорее всего это квартиры в домах типовой застройки. Также есть немало квартир с более высокими потолками. Вероятно, большинство из них расположены в Санкт-Петербурге, в старом фонде. Экстремумы типа 1м и 100м выглядят аномально. Скорее всего это ошибки и от них будет логично избавится."
   ]
  },
  {
   "cell_type": "markdown",
   "metadata": {},
   "source": [
    "### Изучение времени продажи квартиры"
   ]
  },
  {
   "cell_type": "markdown",
   "metadata": {},
   "source": [
    "Изучим время продажи квартиры. Построим гистограмму. Посчитаем среднее и медиану. Опишем, сколько обычно занимает продажа. Определим, когда можно считать, что продажи прошли очень быстро, а когда необычно долго?"
   ]
  },
  {
   "cell_type": "code",
   "execution_count": 27,
   "metadata": {},
   "outputs": [
    {
     "data": {
      "text/plain": [
       "count    20470.000000\n",
       "mean       180.753200\n",
       "std        219.777916\n",
       "min          1.000000\n",
       "25%         45.000000\n",
       "50%         95.000000\n",
       "75%        231.000000\n",
       "max       1580.000000\n",
       "Name: days_exposition, dtype: float64"
      ]
     },
     "metadata": {},
     "output_type": "display_data"
    },
    {
     "data": {
      "image/png": "[encoded data removed]",
      "text/plain": [
       "<Figure size 432x288 with 1 Axes>"
      ]
     },
     "metadata": {
      "needs_background": "light"
     },
     "output_type": "display_data"
    },
    {
     "data": {
      "image/png": "[encoded data removed]",
      "text/plain": [
       "<Figure size 432x288 with 1 Axes>"
      ]
     },
     "metadata": {
      "needs_background": "light"
     },
     "output_type": "display_data"
    },
    {
     "data": {
      "text/plain": [
       "180.7531998045921"
      ]
     },
     "metadata": {},
     "output_type": "display_data"
    },
    {
     "data": {
      "text/plain": [
       "95.0"
      ]
     },
     "metadata": {},
     "output_type": "display_data"
    }
   ],
   "source": [
    "# изучим параметр days_exposition методом describe\n",
    "display(data['days_exposition'].describe())\n",
    "\n",
    "# постоим гистограмму\n",
    "data.plot(kind='hist', y='days_exposition', bins=50, legend=True, grid=True)\n",
    "plt.show()\n",
    "data.plot(kind='hist', y='days_exposition', bins=50, range=(30, 200), legend=True, grid=True)\n",
    "plt.show()\n",
    "\n",
    "# среднее и медиану мы можем взять из предыдущих результатов\n",
    "# среднее рассчитано методом describe - 168\n",
    "# медиана равна значению второго персентиля - 90\n",
    "# посчитаем эти показатели еще раз для самопроверки\n",
    "display(data['days_exposition'].mean())\n",
    "display(data['days_exposition'].median())"
   ]
  },
  {
   "cell_type": "markdown",
   "metadata": {},
   "source": [
    "**Вывод: время продажи квартиры**\n",
    "\n",
    "Большинство квартир продаются в диапазоне от 1,5 до 6 месяцев. Среднее время продажи - 3 месяца. \n",
    "\n",
    "Также, было бы правильно определить нормативные сроки продаж для разных категорий квартир - маленьких и больших, дорогих и дешевых. Потому что например, однушки всегда будут продаваться быстрее трешек и тем более пятикомнатных. Пол года продавать однушку - это долго, а для пятикомнатной это нормально.\n",
    "\n",
    "Если пренебречь прочими факторами, то скорость продажи квартиры можно категоризировать следующим образом:\n",
    "- ОЧЕНЬ БЫСТРО - до 30 дней\n",
    "- БЫСТРО - от 30 до 60 дней\n",
    "- НОРМАЛЬНО - от 60 до 120 дней\n",
    "- ДОЛГО - от 120 до 180 дней\n",
    "- ОЧЕНЬ ДОЛГО - более 180 дней"
   ]
  },
  {
   "cell_type": "markdown",
   "metadata": {},
   "source": [
    "### Обработка редких и выбивающихся значений"
   ]
  },
  {
   "cell_type": "markdown",
   "metadata": {},
   "source": [
    "Проанализируем все столбцы с помощью графика \"ящик с усами\". Опишем обнаруженные особенности. Уберем редкие и выбивающиеся значения."
   ]
  },
  {
   "cell_type": "code",
   "execution_count": 28,
   "metadata": {},
   "outputs": [
    {
     "name": "stdout",
     "output_type": "stream",
     "text": [
      "<class 'pandas.core.frame.DataFrame'>\n",
      "Int64Index: 23650 entries, 0 to 23698\n",
      "Data columns (total 29 columns):\n",
      " #   Column                Non-Null Count  Dtype         \n",
      "---  ------                --------------  -----         \n",
      " 0   total_images          23650 non-null  int64         \n",
      " 1   last_price            23650 non-null  float64       \n",
      " 2   total_area            23650 non-null  float64       \n",
      " 3   first_day_exposition  23650 non-null  datetime64[ns]\n",
      " 4   rooms                 23650 non-null  int64         \n",
      " 5   ceiling_height        23650 non-null  float64       \n",
      " 6   floors_total          23650 non-null  int64         \n",
      " 7   living_area           23650 non-null  float64       \n",
      " 8   floor                 23650 non-null  int64         \n",
      " 9   is_apartment          23650 non-null  bool          \n",
      " 10  studio                23650 non-null  bool          \n",
      " 11  open_plan             23650 non-null  bool          \n",
      " 12  kitchen_area          23650 non-null  float64       \n",
      " 13  balcony               23650 non-null  int64         \n",
      " 14  locality_name         23650 non-null  object        \n",
      " 15  airports_nearest      18264 non-null  float64       \n",
      " 16  city_centers_nearest  18139 non-null  float64       \n",
      " 17  parks_around3000      23650 non-null  int64         \n",
      " 18  parks_nearest         8064 non-null   float64       \n",
      " 19  ponds_around3000      23650 non-null  int64         \n",
      " 20  ponds_nearest         9085 non-null   float64       \n",
      " 21  days_exposition       20470 non-null  float64       \n",
      " 22  living_area_ratio     23650 non-null  float64       \n",
      " 23  kitchen_area_ratio    23650 non-null  float64       \n",
      " 24  last_price_per_sqm    23650 non-null  float64       \n",
      " 25  weekday_exposition    23650 non-null  int64         \n",
      " 26  month_exposition      23650 non-null  int64         \n",
      " 27  year_exposition       23650 non-null  int64         \n",
      " 28  floor_category        23650 non-null  object        \n",
      "dtypes: bool(3), datetime64[ns](1), float64(13), int64(10), object(2)\n",
      "memory usage: 4.9+ MB\n"
     ]
    }
   ],
   "source": [
    "data.info()"
   ]
  },
  {
   "cell_type": "code",
   "execution_count": 29,
   "metadata": {},
   "outputs": [
    {
     "data": {
      "text/plain": [
       "<AxesSubplot:>"
      ]
     },
     "execution_count": 29,
     "metadata": {},
     "output_type": "execute_result"
    },
    {
     "data": {
      "image/png": "[encoded data removed]",
      "text/plain": [
       "<Figure size 432x288 with 1 Axes>"
      ]
     },
     "metadata": {
      "needs_background": "light"
     },
     "output_type": "display_data"
    }
   ],
   "source": [
    "# простроим диаграмму размаха для колонки total_images\n",
    "data.boxplot(column='total_images')"
   ]
  },
  {
   "cell_type": "markdown",
   "metadata": {},
   "source": [
    "В некоторых объявлениях встречается от 25 до 50 фотографий. Это нетипично много, но никак не искажает статистику. Много фотографий - это хорошо, если они качественные и помогают изучить объект. Оставим эту колонку без изменений."
   ]
  },
  {
   "cell_type": "markdown",
   "metadata": {},
   "source": [
    "Пропустим колонку last_price, вместе нее позднее проверим колонку last_price_per_sqm"
   ]
  },
  {
   "cell_type": "code",
   "execution_count": 30,
   "metadata": {},
   "outputs": [
    {
     "data": {
      "text/plain": [
       "(1.0, 150.0)"
      ]
     },
     "execution_count": 30,
     "metadata": {},
     "output_type": "execute_result"
    },
    {
     "data": {
      "image/png": "[encoded data removed]",
      "text/plain": [
       "<Figure size 432x288 with 1 Axes>"
      ]
     },
     "metadata": {
      "needs_background": "light"
     },
     "output_type": "display_data"
    }
   ],
   "source": [
    "# простроим диаграмму размаха для колонки total_area\n",
    "data.boxplot(column='total_area')\n",
    "plt.ylim(1, 150)"
   ]
  },
  {
   "cell_type": "markdown",
   "metadata": {},
   "source": [
    "Выборка содержит много больших выбивающихся значений, т.к. точки сливаются в линию. Все квартиры площадью более 115 м2 оказываются за пределами графика. Возможно, такие большое квартиры действительно продаются, но цена на них будет определяться уникальным способом. Данные по ним не подойдут для создания механизма автоматического определения цены.\n",
    "\n",
    "Маленькие квартиры тоже есть. Например, квартиры менее 18-20 м2 выглядят странно, возможно это продаются комнаты. Но также возможно, что это очень маленькие студии в новостройках. Маленькие значения оставим без изменений."
   ]
  },
  {
   "cell_type": "code",
   "execution_count": 31,
   "metadata": {},
   "outputs": [],
   "source": [
    "# ограничим выборку макисмальным значением 120 м2 и запишем срез в новую переменную\n",
    "clean_data = data.query('total_area <= 120')"
   ]
  },
  {
   "cell_type": "code",
   "execution_count": 32,
   "metadata": {},
   "outputs": [
    {
     "data": {
      "image/png": "[encoded data removed]",
      "text/plain": [
       "<Figure size 432x288 with 1 Axes>"
      ]
     },
     "metadata": {
      "needs_background": "light"
     },
     "output_type": "display_data"
    },
    {
     "data": {
      "text/plain": [
       "<AxesSubplot:>"
      ]
     },
     "execution_count": 32,
     "metadata": {},
     "output_type": "execute_result"
    },
    {
     "data": {
      "image/png": "[encoded data removed]",
      "text/plain": [
       "<Figure size 432x288 with 1 Axes>"
      ]
     },
     "metadata": {
      "needs_background": "light"
     },
     "output_type": "display_data"
    }
   ],
   "source": [
    "# простроим диаграмму размаха для колонки rooms по общим данным\n",
    "data.boxplot(column='rooms')\n",
    "plt.show()\n",
    "\n",
    "# и по чистым данным\n",
    "clean_data.boxplot(column='rooms')"
   ]
  },
  {
   "cell_type": "markdown",
   "metadata": {},
   "source": [
    "На диаграмме, построенной по общим данным видны квартиры с большим количеством комнат. Это редкие экземпляры, которые являются выбросами. На диаграмме, построенной по чистым данным, их почти нет. Значит логичная взаимосвязь между квартирами с большой площадью и квартирами с большим количеством комнат имеется."
   ]
  },
  {
   "cell_type": "code",
   "execution_count": 33,
   "metadata": {
    "scrolled": true
   },
   "outputs": [
    {
     "data": {
      "image/png": "[encoded data removed]",
      "text/plain": [
       "<Figure size 432x288 with 1 Axes>"
      ]
     },
     "metadata": {
      "needs_background": "light"
     },
     "output_type": "display_data"
    },
    {
     "data": {
      "text/plain": [
       "<AxesSubplot:>"
      ]
     },
     "execution_count": 33,
     "metadata": {},
     "output_type": "execute_result"
    },
    {
     "data": {
      "image/png": "[encoded data removed]",
      "text/plain": [
       "<Figure size 432x288 with 1 Axes>"
      ]
     },
     "metadata": {
      "needs_background": "light"
     },
     "output_type": "display_data"
    }
   ],
   "source": [
    "# простроим диаграмму размаха для колонки ceiling_height по общим данным\n",
    "data.boxplot(column='ceiling_height')\n",
    "plt.show()\n",
    "\n",
    "# и по чистым данным\n",
    "clean_data.boxplot(column='ceiling_height')"
   ]
  },
  {
   "cell_type": "markdown",
   "metadata": {},
   "source": [
    "В данных по высоте потолков очень много выбросов. Выбросы скорее всего свидетельствуют об ошибках или неправильных данных, потому что у квартир вряд ли может быть такая большая или маленькая высота потолка. Странно, что в чистых данных выбросы остались без изменения. "
   ]
  },
  {
   "cell_type": "code",
   "execution_count": 34,
   "metadata": {},
   "outputs": [],
   "source": [
    "# ограничим выборку макисмальным и минимальным значениями и запишем срез в переменную с чистыми данными\n",
    "clean_data = clean_data.query('2.2 <= ceiling_height <= 3.1')"
   ]
  },
  {
   "cell_type": "code",
   "execution_count": 35,
   "metadata": {},
   "outputs": [
    {
     "data": {
      "image/png": "[encoded data removed]",
      "text/plain": [
       "<Figure size 432x288 with 1 Axes>"
      ]
     },
     "metadata": {
      "needs_background": "light"
     },
     "output_type": "display_data"
    },
    {
     "data": {
      "text/plain": [
       "<AxesSubplot:>"
      ]
     },
     "execution_count": 35,
     "metadata": {},
     "output_type": "execute_result"
    },
    {
     "data": {
      "image/png": "[encoded data removed]",
      "text/plain": [
       "<Figure size 432x288 with 1 Axes>"
      ]
     },
     "metadata": {
      "needs_background": "light"
     },
     "output_type": "display_data"
    }
   ],
   "source": [
    "# простроим диаграмму размаха для колонки floors_total по общим данным\n",
    "data.boxplot(column='floors_total')\n",
    "plt.show()\n",
    "\n",
    "# и по чистым данным\n",
    "clean_data.boxplot(column='floors_total')"
   ]
  },
  {
   "cell_type": "markdown",
   "metadata": {},
   "source": [
    "В данных по количеству этажей также присутствуют выбросы. Но они не кажутся аномальными, потому что здания с 60-ю этажами вполне могут существовать. Оставить все значения без изменений."
   ]
  },
  {
   "cell_type": "markdown",
   "metadata": {},
   "source": [
    "В данных по высоте потолка присутствуют незначительные выбросы. Но они не кажутся аномальными, потому оставим их без изменений."
   ]
  },
  {
   "cell_type": "code",
   "execution_count": 36,
   "metadata": {},
   "outputs": [
    {
     "data": {
      "image/png": "[encoded data removed]",
      "text/plain": [
       "<Figure size 432x288 with 1 Axes>"
      ]
     },
     "metadata": {
      "needs_background": "light"
     },
     "output_type": "display_data"
    },
    {
     "data": {
      "text/plain": [
       "<AxesSubplot:>"
      ]
     },
     "execution_count": 36,
     "metadata": {},
     "output_type": "execute_result"
    },
    {
     "data": {
      "image/png": "[encoded data removed]",
      "text/plain": [
       "<Figure size 432x288 with 1 Axes>"
      ]
     },
     "metadata": {
      "needs_background": "light"
     },
     "output_type": "display_data"
    }
   ],
   "source": [
    "# простроим диаграмму размаха для колонки living_area по общим данным\n",
    "data.boxplot(column='living_area')\n",
    "plt.show()\n",
    "\n",
    "# и по чистым данным\n",
    "clean_data.boxplot(column='living_area')"
   ]
  },
  {
   "cell_type": "markdown",
   "metadata": {},
   "source": [
    "В жилой площади присутсвует много выбросов. В очищенных данных их ожидаемо меньше и они укладываются в то ограчние, которое мы задачи для чистых данных по общей площади. Оставим эти данные без изменения."
   ]
  },
  {
   "cell_type": "code",
   "execution_count": 37,
   "metadata": {},
   "outputs": [
    {
     "data": {
      "image/png": "[encoded data removed]",
      "text/plain": [
       "<Figure size 432x288 with 1 Axes>"
      ]
     },
     "metadata": {
      "needs_background": "light"
     },
     "output_type": "display_data"
    },
    {
     "data": {
      "text/plain": [
       "<AxesSubplot:>"
      ]
     },
     "execution_count": 37,
     "metadata": {},
     "output_type": "execute_result"
    },
    {
     "data": {
      "image/png": "[encoded data removed]",
      "text/plain": [
       "<Figure size 432x288 with 1 Axes>"
      ]
     },
     "metadata": {
      "needs_background": "light"
     },
     "output_type": "display_data"
    }
   ],
   "source": [
    "# простроим диаграмму размаха для колонки floor по общим данным\n",
    "data.boxplot(column='floor')\n",
    "plt.show()\n",
    "\n",
    "# и по чистым данным\n",
    "clean_data.boxplot(column='floor')"
   ]
  },
  {
   "cell_type": "markdown",
   "metadata": {},
   "source": [
    "В данных по этажу есть выбросы, но они не являются аномальными. Оставим данные без изменения."
   ]
  },
  {
   "cell_type": "code",
   "execution_count": 38,
   "metadata": {},
   "outputs": [
    {
     "data": {
      "image/png": "[encoded data removed]",
      "text/plain": [
       "<Figure size 432x288 with 1 Axes>"
      ]
     },
     "metadata": {
      "needs_background": "light"
     },
     "output_type": "display_data"
    },
    {
     "data": {
      "text/plain": [
       "<AxesSubplot:>"
      ]
     },
     "execution_count": 38,
     "metadata": {},
     "output_type": "execute_result"
    },
    {
     "data": {
      "image/png": "[encoded data removed]",
      "text/plain": [
       "<Figure size 432x288 with 1 Axes>"
      ]
     },
     "metadata": {
      "needs_background": "light"
     },
     "output_type": "display_data"
    }
   ],
   "source": [
    "# простроим диаграмму размаха для колонки kitchen_area по общим данным\n",
    "data.boxplot(column='kitchen_area')\n",
    "plt.show()\n",
    "\n",
    "# и по чистым данным\n",
    "clean_data.boxplot(column='kitchen_area')"
   ]
  },
  {
   "cell_type": "markdown",
   "metadata": {},
   "source": [
    "Выбросы по площади кухни выглядят аномально. Даже в очищенных данных, где общая площадь не превышает 120 м2, есть кухни площадью 60 м2. Это подозрительно, но не настролько, чтобы сокращать выборку. Оставим данные без изменения."
   ]
  },
  {
   "cell_type": "code",
   "execution_count": 39,
   "metadata": {},
   "outputs": [
    {
     "data": {
      "image/png": "[encoded data removed]",
      "text/plain": [
       "<Figure size 432x288 with 1 Axes>"
      ]
     },
     "metadata": {
      "needs_background": "light"
     },
     "output_type": "display_data"
    },
    {
     "data": {
      "text/plain": [
       "<AxesSubplot:>"
      ]
     },
     "execution_count": 39,
     "metadata": {},
     "output_type": "execute_result"
    },
    {
     "data": {
      "image/png": "[encoded data removed]",
      "text/plain": [
       "<Figure size 432x288 with 1 Axes>"
      ]
     },
     "metadata": {
      "needs_background": "light"
     },
     "output_type": "display_data"
    }
   ],
   "source": [
    "# простроим диаграмму размаха для колонки balcony по общим данным\n",
    "data.boxplot(column='balcony')\n",
    "plt.show()\n",
    "\n",
    "# и по чистым данным\n",
    "clean_data.boxplot(column='balcony')"
   ]
  },
  {
   "cell_type": "markdown",
   "metadata": {},
   "source": [
    "Выбросы в количестве балконов не выглядят аномально. Оставим данные без изменений."
   ]
  },
  {
   "cell_type": "code",
   "execution_count": 40,
   "metadata": {},
   "outputs": [
    {
     "data": {
      "image/png": "[encoded data removed]",
      "text/plain": [
       "<Figure size 432x288 with 1 Axes>"
      ]
     },
     "metadata": {
      "needs_background": "light"
     },
     "output_type": "display_data"
    },
    {
     "data": {
      "text/plain": [
       "<AxesSubplot:>"
      ]
     },
     "execution_count": 40,
     "metadata": {},
     "output_type": "execute_result"
    },
    {
     "data": {
      "image/png": "[encoded data removed]",
      "text/plain": [
       "<Figure size 432x288 with 1 Axes>"
      ]
     },
     "metadata": {
      "needs_background": "light"
     },
     "output_type": "display_data"
    }
   ],
   "source": [
    "# простроим диаграмму размаха для колонки airports_nearest по общим данным\n",
    "data.boxplot(column='airports_nearest')\n",
    "plt.show()\n",
    "\n",
    "# и по чистым данным\n",
    "clean_data.boxplot(column='airports_nearest')"
   ]
  },
  {
   "cell_type": "markdown",
   "metadata": {},
   "source": [
    "Выбросы в расстоянии до аэропорта имеются, но не обязательно будут аномальными. Некоторые населенные пункты могут быть удалены от аэропорта значительно дальше других. Оставляем выбросы без изменения."
   ]
  },
  {
   "cell_type": "code",
   "execution_count": 41,
   "metadata": {},
   "outputs": [
    {
     "data": {
      "image/png": "[encoded data removed]",
      "text/plain": [
       "<Figure size 432x288 with 1 Axes>"
      ]
     },
     "metadata": {
      "needs_background": "light"
     },
     "output_type": "display_data"
    },
    {
     "data": {
      "text/plain": [
       "<AxesSubplot:>"
      ]
     },
     "execution_count": 41,
     "metadata": {},
     "output_type": "execute_result"
    },
    {
     "data": {
      "image/png": "[encoded data removed]",
      "text/plain": [
       "<Figure size 432x288 with 1 Axes>"
      ]
     },
     "metadata": {
      "needs_background": "light"
     },
     "output_type": "display_data"
    }
   ],
   "source": [
    "# простроим диаграмму размаха для колонки city_centers_nearest по общим данным\n",
    "data.boxplot(column='city_centers_nearest')\n",
    "plt.show()\n",
    "\n",
    "# и по чистым данным\n",
    "clean_data.boxplot(column='city_centers_nearest')"
   ]
  },
  {
   "cell_type": "markdown",
   "metadata": {},
   "source": [
    "У колонки с расстоянием до центра города очень много выбросов. Причем они есть в обе стороны. Об аномальности выбросов в этой колонке судить сложно. Мы не знаем до центра какого города посчитано это расстояние. Кроме того, квартиры действительно могут быть очень удалены или очень приближены к центру. Оставим эти выбросы без изменения."
   ]
  },
  {
   "cell_type": "code",
   "execution_count": 42,
   "metadata": {},
   "outputs": [
    {
     "data": {
      "image/png": "[encoded data removed]",
      "text/plain": [
       "<Figure size 432x288 with 1 Axes>"
      ]
     },
     "metadata": {
      "needs_background": "light"
     },
     "output_type": "display_data"
    },
    {
     "data": {
      "text/plain": [
       "<AxesSubplot:>"
      ]
     },
     "execution_count": 42,
     "metadata": {},
     "output_type": "execute_result"
    },
    {
     "data": {
      "image/png": "[encoded data removed]",
      "text/plain": [
       "<Figure size 432x288 with 1 Axes>"
      ]
     },
     "metadata": {
      "needs_background": "light"
     },
     "output_type": "display_data"
    }
   ],
   "source": [
    "# простроим диаграмму размаха для колонки parks_around3000 по общим данным\n",
    "data.boxplot(column='parks_around3000')\n",
    "plt.show()\n",
    "\n",
    "# и по чистым данным\n",
    "clean_data.boxplot(column='parks_around3000')"
   ]
  },
  {
   "cell_type": "markdown",
   "metadata": {},
   "source": [
    "Выбросы в количестве парков в радиусе 3 км не выглядят аномально. Оставим данные без изменений."
   ]
  },
  {
   "cell_type": "code",
   "execution_count": 43,
   "metadata": {},
   "outputs": [
    {
     "data": {
      "image/png": "[encoded data removed]",
      "text/plain": [
       "<Figure size 432x288 with 1 Axes>"
      ]
     },
     "metadata": {
      "needs_background": "light"
     },
     "output_type": "display_data"
    },
    {
     "data": {
      "text/plain": [
       "<AxesSubplot:>"
      ]
     },
     "execution_count": 43,
     "metadata": {},
     "output_type": "execute_result"
    },
    {
     "data": {
      "image/png": "[encoded data removed]",
      "text/plain": [
       "<Figure size 432x288 with 1 Axes>"
      ]
     },
     "metadata": {
      "needs_background": "light"
     },
     "output_type": "display_data"
    }
   ],
   "source": [
    "# простроим диаграмму размаха для колонки parks_nearest по общим данным\n",
    "data.boxplot(column='parks_nearest')\n",
    "plt.show()\n",
    "\n",
    "# и по чистым данным\n",
    "clean_data.boxplot(column='parks_nearest')"
   ]
  },
  {
   "cell_type": "markdown",
   "metadata": {},
   "source": [
    "График говорит нам о том, что у всех объявлений, где есть данные о расстоянии до парка, ближайший парк находится на расстоянии в пределах 3 км. Выбросы на этом графике не являются аномальными. Оставим данные без изменений."
   ]
  },
  {
   "cell_type": "code",
   "execution_count": 44,
   "metadata": {},
   "outputs": [
    {
     "data": {
      "image/png": "[encoded data removed]",
      "text/plain": [
       "<Figure size 432x288 with 1 Axes>"
      ]
     },
     "metadata": {
      "needs_background": "light"
     },
     "output_type": "display_data"
    },
    {
     "data": {
      "text/plain": [
       "<AxesSubplot:>"
      ]
     },
     "execution_count": 44,
     "metadata": {},
     "output_type": "execute_result"
    },
    {
     "data": {
      "image/png": "[encoded data removed]",
      "text/plain": [
       "<Figure size 432x288 with 1 Axes>"
      ]
     },
     "metadata": {
      "needs_background": "light"
     },
     "output_type": "display_data"
    }
   ],
   "source": [
    "# простроим диаграмму размаха для колонки ponds_around3000 по общим данным\n",
    "data.boxplot(column='ponds_around3000')\n",
    "plt.show()\n",
    "\n",
    "# и по чистым данным\n",
    "clean_data.boxplot(column='ponds_around3000')"
   ]
  },
  {
   "cell_type": "markdown",
   "metadata": {},
   "source": [
    "Результаты диаграммы очень похожи на график с количеством парков в радиусе 3 км. Логично, потому что пруды часто распологаются в парках. Выбросы в количестве прудов в радиусе 3 км не выглядят аномально. Оставим данные без изменений."
   ]
  },
  {
   "cell_type": "code",
   "execution_count": 45,
   "metadata": {},
   "outputs": [
    {
     "data": {
      "image/png": "[encoded data removed]",
      "text/plain": [
       "<Figure size 432x288 with 1 Axes>"
      ]
     },
     "metadata": {
      "needs_background": "light"
     },
     "output_type": "display_data"
    },
    {
     "data": {
      "text/plain": [
       "<AxesSubplot:>"
      ]
     },
     "execution_count": 45,
     "metadata": {},
     "output_type": "execute_result"
    },
    {
     "data": {
      "image/png": "[encoded data removed]",
      "text/plain": [
       "<Figure size 432x288 with 1 Axes>"
      ]
     },
     "metadata": {
      "needs_background": "light"
     },
     "output_type": "display_data"
    }
   ],
   "source": [
    "# простроим диаграмму размаха для колонки ponds_nearest по общим данным\n",
    "data.boxplot(column='ponds_nearest')\n",
    "plt.show()\n",
    "\n",
    "# и по чистым данным\n",
    "clean_data.boxplot(column='ponds_nearest')"
   ]
  },
  {
   "cell_type": "markdown",
   "metadata": {},
   "source": [
    "Интересно, что на графике нет выбросов. Расстояние до пруда у всех объявлений, где есть этот параметр, находится в рамках межквартильного размаха."
   ]
  },
  {
   "cell_type": "code",
   "execution_count": 46,
   "metadata": {},
   "outputs": [
    {
     "data": {
      "image/png": "[encoded data removed]",
      "text/plain": [
       "<Figure size 432x288 with 1 Axes>"
      ]
     },
     "metadata": {
      "needs_background": "light"
     },
     "output_type": "display_data"
    },
    {
     "data": {
      "text/plain": [
       "<AxesSubplot:>"
      ]
     },
     "execution_count": 46,
     "metadata": {},
     "output_type": "execute_result"
    },
    {
     "data": {
      "image/png": "[encoded data removed]",
      "text/plain": [
       "<Figure size 432x288 with 1 Axes>"
      ]
     },
     "metadata": {
      "needs_background": "light"
     },
     "output_type": "display_data"
    }
   ],
   "source": [
    "# простроим диаграмму размаха для колонки days_exposition по общим данным\n",
    "data.boxplot(column='days_exposition')\n",
    "plt.show()\n",
    "\n",
    "# и по чистым данным\n",
    "clean_data.boxplot(column='days_exposition')"
   ]
  },
  {
   "cell_type": "markdown",
   "metadata": {},
   "source": [
    "В данных по количеству дней экспозиции очень много выбросов. Некоторые обявлении находятся в размещении годами. Скорее всего это ошибки или аномалии. Например, квартира уже продана, но автор не снял объявление с публикации. Такие данные в некоторых случаях могут быть полезны. А если например квартира действительно долго не продается, то это может быть связано с неадекватными условиями продажи. Или с фиктивными объявлениями, которые выкладывают риэлторы и агентства недвижимости для привлечения клиентов.\n",
    "\n",
    "Второй вариант более вероятен, потому что после совершения сделки автор заинтересован снять объявление с публикации, чтобы не получать лишних звоноков. Очистим данные от выбросов по значению межквартильного размаха."
   ]
  },
  {
   "cell_type": "code",
   "execution_count": 48,
   "metadata": {},
   "outputs": [
    {
     "data": {
      "image/png": "[encoded data removed]",
      "text/plain": [
       "<Figure size 432x288 with 1 Axes>"
      ]
     },
     "metadata": {
      "needs_background": "light"
     },
     "output_type": "display_data"
    },
    {
     "data": {
      "text/plain": [
       "<AxesSubplot:>"
      ]
     },
     "execution_count": 48,
     "metadata": {},
     "output_type": "execute_result"
    },
    {
     "data": {
      "image/png": "[encoded data removed]",
      "text/plain": [
       "<Figure size 432x288 with 1 Axes>"
      ]
     },
     "metadata": {
      "needs_background": "light"
     },
     "output_type": "display_data"
    }
   ],
   "source": [
    "# простроим диаграмму размаха для колонки living_area_ratio по общим данным\n",
    "data.boxplot(column='living_area_ratio')\n",
    "plt.show()\n",
    "\n",
    "# и по чистым данным\n",
    "clean_data.boxplot(column='living_area_ratio')"
   ]
  },
  {
   "cell_type": "markdown",
   "metadata": {},
   "source": [
    "По диаграмме размаха параметра доли жилой площади мы можем сделать следующие выводы. Все значения находятся в пределах диапазона 0 и 1, значит ошибок нет. Выбросы есть и их много. Максимальные выбросы имеют право на существование, например, в квартирах с открытой планировкой. Минимальные выбросы выглядят аномально и похожи на ошибки. Мы не знаем природу этих ошибок, поэтому удалять данные не будем."
   ]
  },
  {
   "cell_type": "code",
   "execution_count": 49,
   "metadata": {},
   "outputs": [
    {
     "data": {
      "image/png": "[encoded data removed]",
      "text/plain": [
       "<Figure size 432x288 with 1 Axes>"
      ]
     },
     "metadata": {
      "needs_background": "light"
     },
     "output_type": "display_data"
    },
    {
     "data": {
      "text/plain": [
       "<AxesSubplot:>"
      ]
     },
     "execution_count": 49,
     "metadata": {},
     "output_type": "execute_result"
    },
    {
     "data": {
      "image/png": "[encoded data removed]",
      "text/plain": [
       "<Figure size 432x288 with 1 Axes>"
      ]
     },
     "metadata": {
      "needs_background": "light"
     },
     "output_type": "display_data"
    }
   ],
   "source": [
    "# простроим диаграмму размаха для колонки kitchen_area_ratio по общим данным\n",
    "data.boxplot(column='kitchen_area_ratio')\n",
    "plt.show()\n",
    "\n",
    "# и по чистым данным\n",
    "clean_data.boxplot(column='kitchen_area_ratio')"
   ]
  },
  {
   "cell_type": "markdown",
   "metadata": {},
   "source": [
    "По диаграмме размаха параметра доли площади кухни мы можем сделать следующие выводы. Все значения находятся в пределах диапазона 0 и 1, значит ошибок нет. Выбросы есть и их относительно много. Не все, но самые максимальные выбросы похожи на ошибки. Мы не знаем природу этих ошибок, поэтому удалять данные не будем."
   ]
  },
  {
   "cell_type": "code",
   "execution_count": 50,
   "metadata": {},
   "outputs": [
    {
     "data": {
      "image/png": "[encoded data removed]",
      "text/plain": [
       "<Figure size 432x288 with 1 Axes>"
      ]
     },
     "metadata": {
      "needs_background": "light"
     },
     "output_type": "display_data"
    },
    {
     "data": {
      "text/plain": [
       "(0.0, 200000.0)"
      ]
     },
     "execution_count": 50,
     "metadata": {},
     "output_type": "execute_result"
    },
    {
     "data": {
      "image/png": "[encoded data removed]",
      "text/plain": [
       "<Figure size 432x288 with 1 Axes>"
      ]
     },
     "metadata": {
      "needs_background": "light"
     },
     "output_type": "display_data"
    }
   ],
   "source": [
    "# простроим диаграмму размаха для колонки last_price_per_sqm по общим данным\n",
    "data.boxplot(column='last_price_per_sqm')\n",
    "plt.show()\n",
    "\n",
    "# и по чистым данным\n",
    "clean_data.boxplot(column='last_price_per_sqm')\n",
    "\n",
    "# очистим диаграмму от сиьлных выбросов ограничив ее по оси y\n",
    "clean_data.boxplot(column='last_price_per_sqm')\n",
    "plt.ylim(0, 200000)"
   ]
  },
  {
   "cell_type": "markdown",
   "metadata": {},
   "source": [
    "На обоих графиках есть значительное количество выбросов. В чистых данных их заметно меньше, но все же немало. Максимальные выбросы мы не можем считать ошибками, тк цены на недвижимость могут достигать самых смелых величин. Гораздо интереснее минимальные выбросы. Это может быт как дешевое жилье, так и мошенничество или способ привлечь внимание."
   ]
  },
  {
   "cell_type": "code",
   "execution_count": 51,
   "metadata": {},
   "outputs": [],
   "source": [
    "# ограничим ранее очищенную выборку минимальным значением по цене в 25 000 за м2\n",
    "clean_data = clean_data.query('last_price_per_sqm >= 25000')"
   ]
  },
  {
   "cell_type": "markdown",
   "metadata": {},
   "source": [
    "**Вывод по обработке редких и выбивающихся значений**\n",
    "\n",
    "Мы обработали большинство колонок на предмет наличия редких и выбивающихся значений с помощью диаграммы рассеивания. Некоторые колонки не требовали обработки, потому что имели соответствующий тип данных или просто в этом не было практической ценности. По итогу обработки мы создали новый массив данных, очищенных от аномальных значений по парамтерам `total_area`, `ceiling_height`, `last_price_per_sqm`. Также мы обнаружили, что в колонках `days_exposition` и `last_price_per_sqm` могут содержаться аномальные значения, которые указывают на наличие мошенников или недобросовестных авторов объявлений."
   ]
  },
  {
   "cell_type": "markdown",
   "metadata": {},
   "source": [
    "### Определение факторов, влияющих на цену квартиры"
   ]
  },
  {
   "cell_type": "markdown",
   "metadata": {},
   "source": [
    "В текущем разделе мы ответим на вопрос, какие факторы больше всего влияют на стоимость квартиры. Изучим, зависит ли цена от площади, числа комнат, удалённости от центра. Изучим зависимость цены от того, на каком этаже расположена квартира: первом, последнем или другом. Также изучим зависимость от даты размещения: дня недели, месяца и года."
   ]
  },
  {
   "cell_type": "markdown",
   "metadata": {},
   "source": [
    "#### Зависимость цены от площади"
   ]
  },
  {
   "cell_type": "code",
   "execution_count": 52,
   "metadata": {},
   "outputs": [
    {
     "data": {
      "text/plain": [
       "0.11525465335223804"
      ]
     },
     "metadata": {},
     "output_type": "display_data"
    },
    {
     "data": {
      "text/plain": [
       "<AxesSubplot:xlabel='total_area', ylabel='last_price_per_sqm'>"
      ]
     },
     "execution_count": 52,
     "metadata": {},
     "output_type": "execute_result"
    },
    {
     "data": {
      "image/png": "[encoded data removed]",
      "text/plain": [
       "<Figure size 432x288 with 1 Axes>"
      ]
     },
     "metadata": {
      "needs_background": "light"
     },
     "output_type": "display_data"
    }
   ],
   "source": [
    "# оценим корреляцию между ценой и площадью\n",
    "display(clean_data['last_price_per_sqm'].corr(clean_data['total_area'])) \n",
    "\n",
    "# построим диаграмму рассеивания по переменным цены и площади\n",
    "clean_data.plot(x='total_area', y='last_price_per_sqm', kind='scatter')"
   ]
  },
  {
   "cell_type": "markdown",
   "metadata": {},
   "source": [
    "**Вывод**\n",
    "\n",
    "Коэффициент корреляции близок к нулю, значит два параметра имеют очень низку взаимосвязь. Диаграмма рассеивания подтверждает этот вывод. На самом деле это странно, потому что большие квартиры чаще всего имеют меньшую стоимость за м2, чем маленькие. Проще говоря, маленькие квартиры более ликвидные и от того имеют большую стоимость на м2."
   ]
  },
  {
   "cell_type": "markdown",
   "metadata": {},
   "source": [
    "#### Зависимость цены от количества комнат"
   ]
  },
  {
   "cell_type": "code",
   "execution_count": 53,
   "metadata": {},
   "outputs": [
    {
     "data": {
      "text/plain": [
       "-0.11801185235307385"
      ]
     },
     "metadata": {},
     "output_type": "display_data"
    },
    {
     "data": {
      "text/plain": [
       "<AxesSubplot:xlabel='rooms', ylabel='last_price_per_sqm'>"
      ]
     },
     "execution_count": 53,
     "metadata": {},
     "output_type": "execute_result"
    },
    {
     "data": {
      "image/png": "[encoded data removed]",
      "text/plain": [
       "<Figure size 432x288 with 1 Axes>"
      ]
     },
     "metadata": {
      "needs_background": "light"
     },
     "output_type": "display_data"
    }
   ],
   "source": [
    "# оценим корреляцию между ценой и количеством комнат\n",
    "display(clean_data['last_price_per_sqm'].corr(clean_data['rooms'])) \n",
    "\n",
    "# построим диаграмму рассеивания по переменным цены и комнат\n",
    "clean_data.plot(x='rooms', y='last_price_per_sqm', kind='scatter')"
   ]
  },
  {
   "cell_type": "markdown",
   "metadata": {},
   "source": [
    "**Вывод**\n",
    "\n",
    "Коэффициент корреляции близок к нулю, значит два параметра имеют очень низкую взаимосвязь. Диаграмма рассеивания подтверждает этот вывод."
   ]
  },
  {
   "cell_type": "markdown",
   "metadata": {},
   "source": [
    "#### Зависимость цены от расстояния до центра"
   ]
  },
  {
   "cell_type": "code",
   "execution_count": 54,
   "metadata": {},
   "outputs": [
    {
     "data": {
      "text/plain": [
       "-0.38798425130472225"
      ]
     },
     "metadata": {},
     "output_type": "display_data"
    },
    {
     "data": {
      "text/plain": [
       "<AxesSubplot:xlabel='city_centers_nearest', ylabel='last_price_per_sqm'>"
      ]
     },
     "execution_count": 54,
     "metadata": {},
     "output_type": "execute_result"
    },
    {
     "data": {
      "image/png": "[encoded data removed]",
      "text/plain": [
       "<Figure size 432x288 with 1 Axes>"
      ]
     },
     "metadata": {
      "needs_background": "light"
     },
     "output_type": "display_data"
    }
   ],
   "source": [
    "# оценим корреляцию между ценой и расстоянием до центра\n",
    "display(clean_data['last_price_per_sqm'].corr(clean_data['city_centers_nearest'])) \n",
    "\n",
    "# построим диаграмму рассеивания по переменным цены и расстояния до центра\n",
    "clean_data.plot(x='city_centers_nearest', y='last_price_per_sqm', kind='scatter')"
   ]
  },
  {
   "cell_type": "markdown",
   "metadata": {},
   "source": [
    "**Вывод**\n",
    "\n",
    "Отрицательный коэффициент корреляции подтверждает логичный вывод, что цена имеет обратную зависимость от расстояния до центра. Однако, интересно то, что зависимость относительно невысокая. Это значит, что не все квартиры дорожают по мере приближения к центру города. Скорее всего, в центре есть отдельные лоты с высокой стоимостью."
   ]
  },
  {
   "cell_type": "code",
   "execution_count": 55,
   "metadata": {},
   "outputs": [
    {
     "data": {
      "text/html": [
       "<div>\n",
       "<style scoped>\n",
       "    .dataframe tbody tr th:only-of-type {\n",
       "        vertical-align: middle;\n",
       "    }\n",
       "\n",
       "    .dataframe tbody tr th {\n",
       "        vertical-align: top;\n",
       "    }\n",
       "\n",
       "    .dataframe thead th {\n",
       "        text-align: right;\n",
       "    }\n",
       "</style>\n",
       "<table border=\"1\" class=\"dataframe\">\n",
       "  <thead>\n",
       "    <tr style=\"text-align: right;\">\n",
       "      <th></th>\n",
       "      <th>last_price</th>\n",
       "      <th>total_area</th>\n",
       "      <th>city_centers_nearest</th>\n",
       "    </tr>\n",
       "  </thead>\n",
       "  <tbody>\n",
       "    <tr>\n",
       "      <th>last_price</th>\n",
       "      <td>1.000000</td>\n",
       "      <td>0.702879</td>\n",
       "      <td>-0.315415</td>\n",
       "    </tr>\n",
       "    <tr>\n",
       "      <th>total_area</th>\n",
       "      <td>0.702879</td>\n",
       "      <td>1.000000</td>\n",
       "      <td>-0.153089</td>\n",
       "    </tr>\n",
       "    <tr>\n",
       "      <th>city_centers_nearest</th>\n",
       "      <td>-0.315415</td>\n",
       "      <td>-0.153089</td>\n",
       "      <td>1.000000</td>\n",
       "    </tr>\n",
       "  </tbody>\n",
       "</table>\n",
       "</div>"
      ],
      "text/plain": [
       "                      last_price  total_area  city_centers_nearest\n",
       "last_price              1.000000    0.702879             -0.315415\n",
       "total_area              0.702879    1.000000             -0.153089\n",
       "city_centers_nearest   -0.315415   -0.153089              1.000000"
      ]
     },
     "execution_count": 55,
     "metadata": {},
     "output_type": "execute_result"
    }
   ],
   "source": [
    "# выведем корреляционную матрицу для количественных переменных\n",
    "clean_data[['last_price', 'total_area', 'city_centers_nearest']].corr()"
   ]
  },
  {
   "cell_type": "markdown",
   "metadata": {},
   "source": [
    "**Вывод**\n",
    "\n",
    "На корреляционной матрице мы видим довольно сильную прямую зависимость площади и цены. А также менее сильную обратную зависимость цены и удаленности от центра. Обе взаимосвязи очевидны, логичны, хотя мы ожидали, что эти связи будут сильнее.\n",
    "\n",
    "Взаимосвязь площади и удаленности от центра относительно невелика."
   ]
  },
  {
   "cell_type": "markdown",
   "metadata": {},
   "source": [
    "#### Зависимость цены от категории этажа"
   ]
  },
  {
   "cell_type": "code",
   "execution_count": 56,
   "metadata": {},
   "outputs": [
    {
     "data": {
      "text/plain": [
       "count      2592.000000\n",
       "mean      81180.719880\n",
       "std       30249.077097\n",
       "min       25000.000000\n",
       "25%       62148.351181\n",
       "50%       80849.016034\n",
       "75%       96928.599695\n",
       "max      387096.774194\n",
       "Name: last_price_per_sqm, dtype: float64"
      ]
     },
     "metadata": {},
     "output_type": "display_data"
    },
    {
     "data": {
      "text/plain": [
       "count      2814.000000\n",
       "mean      87322.219753\n",
       "std       35710.289456\n",
       "min       25000.000000\n",
       "25%       64623.510293\n",
       "50%       86051.308241\n",
       "75%      104436.274510\n",
       "max      370497.017893\n",
       "Name: last_price_per_sqm, dtype: float64"
      ]
     },
     "metadata": {},
     "output_type": "display_data"
    },
    {
     "data": {
      "text/plain": [
       "count     15809.000000\n",
       "mean      99987.068669\n",
       "std       34675.349124\n",
       "min       25000.000000\n",
       "25%       80555.555556\n",
       "50%       97368.421053\n",
       "75%      115264.797508\n",
       "max      721518.987342\n",
       "Name: last_price_per_sqm, dtype: float64"
      ]
     },
     "metadata": {},
     "output_type": "display_data"
    }
   ],
   "source": [
    "# поскольку категория этажа - это категориальная переменная,\n",
    "# оценим зависимость цены от этой переменной через анализ средней и медианы по каждой категории\n",
    "display(clean_data.query('floor_category == \"first\"')['last_price_per_sqm'].describe())\n",
    "display(clean_data.query('floor_category == \"last\"')['last_price_per_sqm'].describe())\n",
    "display(clean_data.query('floor_category == \"others\"')['last_price_per_sqm'].describe())\n",
    "# price_floor_barplot = [['first', 'last', 'others'], [81180, 87322, 99987]]\n",
    "# price_floor_barplot.plot(kind='bar')"
   ]
  },
  {
   "cell_type": "markdown",
   "metadata": {},
   "source": [
    "**Вывод**\n",
    "\n",
    "Значения средней и медианы цены подтверждают наличие зависимости от категории этажа. Первый этаж имеет самые низкие значения. Последний - чуть выше, но ненамного. Категория `others` имеет самые высокие значений. Значит квартиры на крайних этажах чаще всего продаются с дисконтом."
   ]
  },
  {
   "cell_type": "markdown",
   "metadata": {},
   "source": [
    "#### Зависимость цены от времени размещения объявления"
   ]
  },
  {
   "cell_type": "code",
   "execution_count": 57,
   "metadata": {},
   "outputs": [
    {
     "data": {
      "text/html": [
       "<div>\n",
       "<style scoped>\n",
       "    .dataframe tbody tr th:only-of-type {\n",
       "        vertical-align: middle;\n",
       "    }\n",
       "\n",
       "    .dataframe tbody tr th {\n",
       "        vertical-align: top;\n",
       "    }\n",
       "\n",
       "    .dataframe thead th {\n",
       "        text-align: right;\n",
       "    }\n",
       "</style>\n",
       "<table border=\"1\" class=\"dataframe\">\n",
       "  <thead>\n",
       "    <tr style=\"text-align: right;\">\n",
       "      <th></th>\n",
       "      <th>count</th>\n",
       "      <th>mean</th>\n",
       "      <th>median</th>\n",
       "    </tr>\n",
       "    <tr>\n",
       "      <th>weekday_exposition</th>\n",
       "      <th></th>\n",
       "      <th></th>\n",
       "      <th></th>\n",
       "    </tr>\n",
       "  </thead>\n",
       "  <tbody>\n",
       "    <tr>\n",
       "      <th>0</th>\n",
       "      <td>3245</td>\n",
       "      <td>95446.206829</td>\n",
       "      <td>93548.387097</td>\n",
       "    </tr>\n",
       "    <tr>\n",
       "      <th>1</th>\n",
       "      <td>3770</td>\n",
       "      <td>96311.368994</td>\n",
       "      <td>94854.123321</td>\n",
       "    </tr>\n",
       "    <tr>\n",
       "      <th>2</th>\n",
       "      <td>3539</td>\n",
       "      <td>96490.085557</td>\n",
       "      <td>94444.444444</td>\n",
       "    </tr>\n",
       "    <tr>\n",
       "      <th>3</th>\n",
       "      <td>3773</td>\n",
       "      <td>96428.812817</td>\n",
       "      <td>93949.579832</td>\n",
       "    </tr>\n",
       "    <tr>\n",
       "      <th>4</th>\n",
       "      <td>3616</td>\n",
       "      <td>96089.454927</td>\n",
       "      <td>93885.413488</td>\n",
       "    </tr>\n",
       "    <tr>\n",
       "      <th>5</th>\n",
       "      <td>1734</td>\n",
       "      <td>94986.393735</td>\n",
       "      <td>92721.252258</td>\n",
       "    </tr>\n",
       "    <tr>\n",
       "      <th>6</th>\n",
       "      <td>1538</td>\n",
       "      <td>95288.504121</td>\n",
       "      <td>93868.778281</td>\n",
       "    </tr>\n",
       "  </tbody>\n",
       "</table>\n",
       "</div>"
      ],
      "text/plain": [
       "                    count          mean        median\n",
       "weekday_exposition                                   \n",
       "0                    3245  95446.206829  93548.387097\n",
       "1                    3770  96311.368994  94854.123321\n",
       "2                    3539  96490.085557  94444.444444\n",
       "3                    3773  96428.812817  93949.579832\n",
       "4                    3616  96089.454927  93885.413488\n",
       "5                    1734  94986.393735  92721.252258\n",
       "6                    1538  95288.504121  93868.778281"
      ]
     },
     "metadata": {},
     "output_type": "display_data"
    },
    {
     "data": {
      "text/html": [
       "<div>\n",
       "<style scoped>\n",
       "    .dataframe tbody tr th:only-of-type {\n",
       "        vertical-align: middle;\n",
       "    }\n",
       "\n",
       "    .dataframe tbody tr th {\n",
       "        vertical-align: top;\n",
       "    }\n",
       "\n",
       "    .dataframe thead th {\n",
       "        text-align: right;\n",
       "    }\n",
       "</style>\n",
       "<table border=\"1\" class=\"dataframe\">\n",
       "  <thead>\n",
       "    <tr style=\"text-align: right;\">\n",
       "      <th></th>\n",
       "      <th>count</th>\n",
       "      <th>mean</th>\n",
       "      <th>median</th>\n",
       "    </tr>\n",
       "    <tr>\n",
       "      <th>month_exposition</th>\n",
       "      <th></th>\n",
       "      <th></th>\n",
       "      <th></th>\n",
       "    </tr>\n",
       "  </thead>\n",
       "  <tbody>\n",
       "    <tr>\n",
       "      <th>1</th>\n",
       "      <td>1342</td>\n",
       "      <td>95722.085513</td>\n",
       "      <td>94437.718590</td>\n",
       "    </tr>\n",
       "    <tr>\n",
       "      <th>2</th>\n",
       "      <td>2369</td>\n",
       "      <td>95626.083125</td>\n",
       "      <td>94170.403587</td>\n",
       "    </tr>\n",
       "    <tr>\n",
       "      <th>3</th>\n",
       "      <td>2313</td>\n",
       "      <td>96059.262703</td>\n",
       "      <td>94387.755102</td>\n",
       "    </tr>\n",
       "    <tr>\n",
       "      <th>4</th>\n",
       "      <td>2145</td>\n",
       "      <td>97404.088264</td>\n",
       "      <td>95555.555556</td>\n",
       "    </tr>\n",
       "    <tr>\n",
       "      <th>5</th>\n",
       "      <td>1127</td>\n",
       "      <td>94714.013163</td>\n",
       "      <td>91891.891892</td>\n",
       "    </tr>\n",
       "    <tr>\n",
       "      <th>6</th>\n",
       "      <td>1579</td>\n",
       "      <td>94885.295722</td>\n",
       "      <td>92000.000000</td>\n",
       "    </tr>\n",
       "    <tr>\n",
       "      <th>7</th>\n",
       "      <td>1496</td>\n",
       "      <td>95719.253340</td>\n",
       "      <td>93952.455590</td>\n",
       "    </tr>\n",
       "    <tr>\n",
       "      <th>8</th>\n",
       "      <td>1570</td>\n",
       "      <td>97777.583250</td>\n",
       "      <td>95216.912388</td>\n",
       "    </tr>\n",
       "    <tr>\n",
       "      <th>9</th>\n",
       "      <td>1782</td>\n",
       "      <td>97270.548015</td>\n",
       "      <td>94805.025671</td>\n",
       "    </tr>\n",
       "    <tr>\n",
       "      <th>10</th>\n",
       "      <td>1918</td>\n",
       "      <td>95373.252982</td>\n",
       "      <td>93306.010929</td>\n",
       "    </tr>\n",
       "    <tr>\n",
       "      <th>11</th>\n",
       "      <td>2125</td>\n",
       "      <td>96053.739040</td>\n",
       "      <td>94444.444444</td>\n",
       "    </tr>\n",
       "    <tr>\n",
       "      <th>12</th>\n",
       "      <td>1449</td>\n",
       "      <td>94601.140474</td>\n",
       "      <td>92666.666667</td>\n",
       "    </tr>\n",
       "  </tbody>\n",
       "</table>\n",
       "</div>"
      ],
      "text/plain": [
       "                  count          mean        median\n",
       "month_exposition                                   \n",
       "1                  1342  95722.085513  94437.718590\n",
       "2                  2369  95626.083125  94170.403587\n",
       "3                  2313  96059.262703  94387.755102\n",
       "4                  2145  97404.088264  95555.555556\n",
       "5                  1127  94714.013163  91891.891892\n",
       "6                  1579  94885.295722  92000.000000\n",
       "7                  1496  95719.253340  93952.455590\n",
       "8                  1570  97777.583250  95216.912388\n",
       "9                  1782  97270.548015  94805.025671\n",
       "10                 1918  95373.252982  93306.010929\n",
       "11                 2125  96053.739040  94444.444444\n",
       "12                 1449  94601.140474  92666.666667"
      ]
     },
     "metadata": {},
     "output_type": "display_data"
    },
    {
     "data": {
      "text/html": [
       "<div>\n",
       "<style scoped>\n",
       "    .dataframe tbody tr th:only-of-type {\n",
       "        vertical-align: middle;\n",
       "    }\n",
       "\n",
       "    .dataframe tbody tr th {\n",
       "        vertical-align: top;\n",
       "    }\n",
       "\n",
       "    .dataframe thead th {\n",
       "        text-align: right;\n",
       "    }\n",
       "</style>\n",
       "<table border=\"1\" class=\"dataframe\">\n",
       "  <thead>\n",
       "    <tr style=\"text-align: right;\">\n",
       "      <th></th>\n",
       "      <th>count</th>\n",
       "      <th>mean</th>\n",
       "      <th>median</th>\n",
       "    </tr>\n",
       "    <tr>\n",
       "      <th>year_exposition</th>\n",
       "      <th></th>\n",
       "      <th></th>\n",
       "      <th></th>\n",
       "    </tr>\n",
       "  </thead>\n",
       "  <tbody>\n",
       "    <tr>\n",
       "      <th>2014</th>\n",
       "      <td>98</td>\n",
       "      <td>110135.584085</td>\n",
       "      <td>104851.674641</td>\n",
       "    </tr>\n",
       "    <tr>\n",
       "      <th>2015</th>\n",
       "      <td>979</td>\n",
       "      <td>96157.631906</td>\n",
       "      <td>91106.290672</td>\n",
       "    </tr>\n",
       "    <tr>\n",
       "      <th>2016</th>\n",
       "      <td>2436</td>\n",
       "      <td>93747.965643</td>\n",
       "      <td>90786.914235</td>\n",
       "    </tr>\n",
       "    <tr>\n",
       "      <th>2017</th>\n",
       "      <td>7388</td>\n",
       "      <td>93700.800534</td>\n",
       "      <td>91379.310345</td>\n",
       "    </tr>\n",
       "    <tr>\n",
       "      <th>2018</th>\n",
       "      <td>7731</td>\n",
       "      <td>96161.865757</td>\n",
       "      <td>95161.290323</td>\n",
       "    </tr>\n",
       "    <tr>\n",
       "      <th>2019</th>\n",
       "      <td>2583</td>\n",
       "      <td>103697.316767</td>\n",
       "      <td>102759.295499</td>\n",
       "    </tr>\n",
       "  </tbody>\n",
       "</table>\n",
       "</div>"
      ],
      "text/plain": [
       "                 count           mean         median\n",
       "year_exposition                                     \n",
       "2014                98  110135.584085  104851.674641\n",
       "2015               979   96157.631906   91106.290672\n",
       "2016              2436   93747.965643   90786.914235\n",
       "2017              7388   93700.800534   91379.310345\n",
       "2018              7731   96161.865757   95161.290323\n",
       "2019              2583  103697.316767  102759.295499"
      ]
     },
     "metadata": {},
     "output_type": "display_data"
    },
    {
     "data": {
      "text/html": [
       "<div>\n",
       "<style scoped>\n",
       "    .dataframe tbody tr th:only-of-type {\n",
       "        vertical-align: middle;\n",
       "    }\n",
       "\n",
       "    .dataframe tbody tr th {\n",
       "        vertical-align: top;\n",
       "    }\n",
       "\n",
       "    .dataframe thead th {\n",
       "        text-align: right;\n",
       "    }\n",
       "</style>\n",
       "<table border=\"1\" class=\"dataframe\">\n",
       "  <thead>\n",
       "    <tr style=\"text-align: right;\">\n",
       "      <th></th>\n",
       "      <th>count</th>\n",
       "      <th>mean</th>\n",
       "      <th>median</th>\n",
       "    </tr>\n",
       "    <tr>\n",
       "      <th>year_exposition</th>\n",
       "      <th></th>\n",
       "      <th></th>\n",
       "      <th></th>\n",
       "    </tr>\n",
       "  </thead>\n",
       "  <tbody>\n",
       "    <tr>\n",
       "      <th>2014</th>\n",
       "      <td>98</td>\n",
       "      <td>7.790584e+06</td>\n",
       "      <td>6200000.0</td>\n",
       "    </tr>\n",
       "    <tr>\n",
       "      <th>2015</th>\n",
       "      <td>979</td>\n",
       "      <td>5.811967e+06</td>\n",
       "      <td>4900000.0</td>\n",
       "    </tr>\n",
       "    <tr>\n",
       "      <th>2016</th>\n",
       "      <td>2436</td>\n",
       "      <td>5.215737e+06</td>\n",
       "      <td>4300000.0</td>\n",
       "    </tr>\n",
       "    <tr>\n",
       "      <th>2017</th>\n",
       "      <td>7388</td>\n",
       "      <td>5.148489e+06</td>\n",
       "      <td>4300000.0</td>\n",
       "    </tr>\n",
       "    <tr>\n",
       "      <th>2018</th>\n",
       "      <td>7731</td>\n",
       "      <td>5.168527e+06</td>\n",
       "      <td>4450000.0</td>\n",
       "    </tr>\n",
       "    <tr>\n",
       "      <th>2019</th>\n",
       "      <td>2583</td>\n",
       "      <td>5.591383e+06</td>\n",
       "      <td>4900000.0</td>\n",
       "    </tr>\n",
       "  </tbody>\n",
       "</table>\n",
       "</div>"
      ],
      "text/plain": [
       "                 count          mean     median\n",
       "year_exposition                                \n",
       "2014                98  7.790584e+06  6200000.0\n",
       "2015               979  5.811967e+06  4900000.0\n",
       "2016              2436  5.215737e+06  4300000.0\n",
       "2017              7388  5.148489e+06  4300000.0\n",
       "2018              7731  5.168527e+06  4450000.0\n",
       "2019              2583  5.591383e+06  4900000.0"
      ]
     },
     "metadata": {},
     "output_type": "display_data"
    }
   ],
   "source": [
    "# поскольку время размещения - это категориальная переменная,\n",
    "# оценим зависимость цены от этой переменной через анализ средней и медианы по каждой категории\n",
    "display(clean_data.pivot_table(\n",
    "    index='weekday_exposition',\n",
    "    values='last_price_per_sqm', \n",
    "    aggfunc=('count', 'mean','median')\n",
    "))\n",
    "display(clean_data.pivot_table(\n",
    "    index='month_exposition',\n",
    "    values='last_price_per_sqm', \n",
    "    aggfunc=('count', 'mean','median')\n",
    "))\n",
    "display(clean_data.pivot_table(\n",
    "    index='year_exposition',\n",
    "    values='last_price_per_sqm', \n",
    "    aggfunc=('count', 'mean','median')\n",
    "))\n",
    "\n",
    "# дополнительно оценим зависимость общей цены от года размещения\n",
    "display(clean_data.pivot_table(\n",
    "    index='year_exposition',\n",
    "    values='last_price', \n",
    "    aggfunc=('count', 'mean','median')\n",
    "))"
   ]
  },
  {
   "cell_type": "markdown",
   "metadata": {},
   "source": [
    "**Вывод**\n",
    "\n",
    "Зависимость цены от дня недели, когда было размещено объявление, не обнаружено. В разрезе месяцов наблюдается сезонность - в начале весны и начале осени цены поднимаются. Медиана по годам говорит о росте стоимости. Среднее косвенно подтверждает динамику медианы."
   ]
  },
  {
   "cell_type": "markdown",
   "metadata": {},
   "source": [
    "**Общий вывод по факторам**\n",
    "\n",
    "В рамках анализа нам удалось обнаружить обратную зависимость цены квартиры от расстояния до центра города и зависимость от категории этажа. Кроме того, мы обнаружили незначительную сезонную зависимость от месяца размещения объявления.\n",
    "\n",
    "В рамках анализа мы не обнаружили существенную зависимость от площади и колиечества комнат, а также от дня недели размещения."
   ]
  },
  {
   "cell_type": "markdown",
   "metadata": {},
   "source": [
    "### Анализ по населенным пунктам"
   ]
  },
  {
   "cell_type": "markdown",
   "metadata": {},
   "source": [
    "Проведем анализ объявлений по населенным пунктам. Выберем 10 населённых пунктов с наибольшим числом объявлений. Посчитаем среднюю цену квадратного метра в этих населённых пунктах. Выделим населённые пункты с самой высокой и низкой стоимостью жилья."
   ]
  },
  {
   "cell_type": "code",
   "execution_count": 58,
   "metadata": {},
   "outputs": [
    {
     "data": {
      "text/html": [
       "<div>\n",
       "<style scoped>\n",
       "    .dataframe tbody tr th:only-of-type {\n",
       "        vertical-align: middle;\n",
       "    }\n",
       "\n",
       "    .dataframe tbody tr th {\n",
       "        vertical-align: top;\n",
       "    }\n",
       "\n",
       "    .dataframe thead th {\n",
       "        text-align: right;\n",
       "    }\n",
       "</style>\n",
       "<table border=\"1\" class=\"dataframe\">\n",
       "  <thead>\n",
       "    <tr style=\"text-align: right;\">\n",
       "      <th></th>\n",
       "      <th>count</th>\n",
       "      <th>mean</th>\n",
       "    </tr>\n",
       "    <tr>\n",
       "      <th>locality_name</th>\n",
       "      <th></th>\n",
       "      <th></th>\n",
       "    </tr>\n",
       "  </thead>\n",
       "  <tbody>\n",
       "    <tr>\n",
       "      <th>Санкт-Петербург</th>\n",
       "      <td>13783</td>\n",
       "      <td>109792.501645</td>\n",
       "    </tr>\n",
       "    <tr>\n",
       "      <th>посёлок Мурино</th>\n",
       "      <td>520</td>\n",
       "      <td>85725.241381</td>\n",
       "    </tr>\n",
       "    <tr>\n",
       "      <th>посёлок Шушары</th>\n",
       "      <td>438</td>\n",
       "      <td>78643.827638</td>\n",
       "    </tr>\n",
       "    <tr>\n",
       "      <th>Всеволожск</th>\n",
       "      <td>391</td>\n",
       "      <td>68627.823164</td>\n",
       "    </tr>\n",
       "    <tr>\n",
       "      <th>Пушкин</th>\n",
       "      <td>334</td>\n",
       "      <td>102145.234234</td>\n",
       "    </tr>\n",
       "    <tr>\n",
       "      <th>Колпино</th>\n",
       "      <td>328</td>\n",
       "      <td>75458.930169</td>\n",
       "    </tr>\n",
       "    <tr>\n",
       "      <th>посёлок Парголово</th>\n",
       "      <td>326</td>\n",
       "      <td>90332.263023</td>\n",
       "    </tr>\n",
       "    <tr>\n",
       "      <th>деревня Кудрово</th>\n",
       "      <td>299</td>\n",
       "      <td>92473.547576</td>\n",
       "    </tr>\n",
       "    <tr>\n",
       "      <th>Гатчина</th>\n",
       "      <td>298</td>\n",
       "      <td>69216.950865</td>\n",
       "    </tr>\n",
       "    <tr>\n",
       "      <th>Выборг</th>\n",
       "      <td>200</td>\n",
       "      <td>58020.397303</td>\n",
       "    </tr>\n",
       "  </tbody>\n",
       "</table>\n",
       "</div>"
      ],
      "text/plain": [
       "                   count           mean\n",
       "locality_name                          \n",
       "Санкт-Петербург    13783  109792.501645\n",
       "посёлок Мурино       520   85725.241381\n",
       "посёлок Шушары       438   78643.827638\n",
       "Всеволожск           391   68627.823164\n",
       "Пушкин               334  102145.234234\n",
       "Колпино              328   75458.930169\n",
       "посёлок Парголово    326   90332.263023\n",
       "деревня Кудрово      299   92473.547576\n",
       "Гатчина              298   69216.950865\n",
       "Выборг               200   58020.397303"
      ]
     },
     "metadata": {},
     "output_type": "display_data"
    },
    {
     "data": {
      "text/html": [
       "<div>\n",
       "<style scoped>\n",
       "    .dataframe tbody tr th:only-of-type {\n",
       "        vertical-align: middle;\n",
       "    }\n",
       "\n",
       "    .dataframe tbody tr th {\n",
       "        vertical-align: top;\n",
       "    }\n",
       "\n",
       "    .dataframe thead th {\n",
       "        text-align: right;\n",
       "    }\n",
       "</style>\n",
       "<table border=\"1\" class=\"dataframe\">\n",
       "  <thead>\n",
       "    <tr style=\"text-align: right;\">\n",
       "      <th></th>\n",
       "      <th>count</th>\n",
       "      <th>mean</th>\n",
       "    </tr>\n",
       "    <tr>\n",
       "      <th>locality_name</th>\n",
       "      <th></th>\n",
       "      <th></th>\n",
       "    </tr>\n",
       "  </thead>\n",
       "  <tbody>\n",
       "    <tr>\n",
       "      <th>Санкт-Петербург</th>\n",
       "      <td>13783</td>\n",
       "      <td>109792.501645</td>\n",
       "    </tr>\n",
       "  </tbody>\n",
       "</table>\n",
       "</div>"
      ],
      "text/plain": [
       "                 count           mean\n",
       "locality_name                        \n",
       "Санкт-Петербург  13783  109792.501645"
      ]
     },
     "metadata": {},
     "output_type": "display_data"
    },
    {
     "data": {
      "text/html": [
       "<div>\n",
       "<style scoped>\n",
       "    .dataframe tbody tr th:only-of-type {\n",
       "        vertical-align: middle;\n",
       "    }\n",
       "\n",
       "    .dataframe tbody tr th {\n",
       "        vertical-align: top;\n",
       "    }\n",
       "\n",
       "    .dataframe thead th {\n",
       "        text-align: right;\n",
       "    }\n",
       "</style>\n",
       "<table border=\"1\" class=\"dataframe\">\n",
       "  <thead>\n",
       "    <tr style=\"text-align: right;\">\n",
       "      <th></th>\n",
       "      <th>count</th>\n",
       "      <th>mean</th>\n",
       "    </tr>\n",
       "    <tr>\n",
       "      <th>locality_name</th>\n",
       "      <th></th>\n",
       "      <th></th>\n",
       "    </tr>\n",
       "  </thead>\n",
       "  <tbody>\n",
       "    <tr>\n",
       "      <th>Выборг</th>\n",
       "      <td>200</td>\n",
       "      <td>58020.397303</td>\n",
       "    </tr>\n",
       "  </tbody>\n",
       "</table>\n",
       "</div>"
      ],
      "text/plain": [
       "               count          mean\n",
       "locality_name                     \n",
       "Выборг           200  58020.397303"
      ]
     },
     "metadata": {},
     "output_type": "display_data"
    },
    {
     "data": {
      "text/plain": [
       "<AxesSubplot:xlabel='locality_name'>"
      ]
     },
     "execution_count": 58,
     "metadata": {},
     "output_type": "execute_result"
    },
    {
     "data": {
      "image/png": "[encoded data removed]",
      "text/plain": [
       "<Figure size 432x288 with 1 Axes>"
      ]
     },
     "metadata": {
      "needs_background": "light"
     },
     "output_type": "display_data"
    }
   ],
   "source": [
    "# выберем 10 населённых пунктов с наибольшим числом объявлений, отсортируем, посчитаем среднее значение цены\n",
    "top10_locations = clean_data.pivot_table(\n",
    "    index='locality_name', \n",
    "    values='last_price_per_sqm', \n",
    "    aggfunc=('count','mean')\n",
    ").sort_values(by='count', ascending=False).head(10)\n",
    "\n",
    "display(top10_locations)\n",
    "\n",
    "# выведем населенный пункт с самой высокой\n",
    "display(top10_locations.sort_values(by='mean', ascending=False).head(1))\n",
    "\n",
    "# и самой низкой стоимостью жилья\n",
    "display(top10_locations.sort_values(by='mean', ascending=False).tail(1))\n",
    "\n",
    "top10_locations.plot(kind='bar', y='mean')"
   ]
  },
  {
   "cell_type": "markdown",
   "metadata": {},
   "source": [
    "**Вывод анализа по населенным пунктам**\n",
    "\n",
    "Анализ объявлений по населенным пунктам позволил нам выявить где больше всего размещается объявлений и какая там средняя цена. Кроме того, мы определили населенные пункты с самой высокой и самой низкой ценой. Ожидаемо, самая высокая цена получилась в СПб, а вот прекрасный Выборг занял последнее место неожиданно."
   ]
  },
  {
   "cell_type": "markdown",
   "metadata": {},
   "source": [
    "### Определение центрального района Санкт-Петербурга"
   ]
  },
  {
   "cell_type": "markdown",
   "metadata": {},
   "source": [
    "Для определения границ центра Санкт-Петербурга мы изучим и обработаем данные. Изучим предложения квартир: для каждой квартиры есть информация о расстоянии до центра. Выделим квартиры в Санкт-Петербурге. Создадим столбец с расстоянием до центра в километрах: округлим до целых значений. После этого посчитаем среднюю цену для каждого километра. Построим график: он должен показывать, как цена зависит от удалённости от центра. Определим границу, где график сильно меняется, — это и будет центральная зона."
   ]
  },
  {
   "cell_type": "code",
   "execution_count": 59,
   "metadata": {},
   "outputs": [
    {
     "data": {
      "text/plain": [
       "<AxesSubplot:xlabel='city_centers_nearest_km'>"
      ]
     },
     "execution_count": 59,
     "metadata": {},
     "output_type": "execute_result"
    },
    {
     "data": {
      "image/png": "[encoded data removed]",
      "text/plain": [
       "<Figure size 432x288 with 1 Axes>"
      ]
     },
     "metadata": {
      "needs_background": "light"
     },
     "output_type": "display_data"
    }
   ],
   "source": [
    "# выделим квартиры в Санкт-Петербурге, \n",
    "clean_data_stpete = (\n",
    "    clean_data.dropna(subset = ['city_centers_nearest'])\n",
    "    .query('locality_name == \"Санкт-Петербург\"')\n",
    "    .reset_index()\n",
    ")\n",
    "\n",
    "# создадим столбец с расстоянием до центра в километрах\n",
    "clean_data_stpete['city_centers_nearest_km'] = clean_data_stpete['city_centers_nearest'] / 1000\n",
    "\n",
    "# округлим до целых значений\n",
    "clean_data_stpete['city_centers_nearest_km'] = clean_data_stpete['city_centers_nearest_km'].astype('int64')\n",
    "\n",
    "# посчитаем среднюю цену для каждого километра и построим график\n",
    "clean_data_stpete.pivot_table(\n",
    "    index='city_centers_nearest_km', \n",
    "    values='last_price_per_sqm', \n",
    "    aggfunc = 'mean'\n",
    ").plot(y='last_price_per_sqm', kind='bar')"
   ]
  },
  {
   "cell_type": "markdown",
   "metadata": {},
   "source": [
    "**Вывод**\n",
    "\n",
    "Результаты анализа показывают, что резкое снижение стоимости происходит на 7-9 км. Будем считать, что границей центра является 8-й км."
   ]
  },
  {
   "cell_type": "markdown",
   "metadata": {},
   "source": [
    "### Анализ квартир в центре Санкт-Петербурга"
   ]
  },
  {
   "cell_type": "markdown",
   "metadata": {},
   "source": [
    "Для анализа стоимости квартир в центре Санкт-Петербурга мы проведем ряд операций. Выделим сегмент квартир в центре. Проанализируем эту территорию и изучим следующие параметры: площадь, цена, число комнат, высота потолков. Также выделим факторы, которые влияют на стоимость квартиры (число комнат, этаж, удалённость от центра, дата размещения объявления). Ответим на вопрос, отличаются ли выводы по этим данным от общих выводов по всей базе?"
   ]
  },
  {
   "cell_type": "code",
   "execution_count": 60,
   "metadata": {},
   "outputs": [],
   "source": [
    "# выделим квартиры в центре Санкт-Петербурга, \n",
    "clean_data_stpete_center = clean_data_stpete.query('city_centers_nearest_km <= 8').reset_index()"
   ]
  },
  {
   "cell_type": "markdown",
   "metadata": {},
   "source": [
    "#### Изучение отдельных параметров (центр Санкт-Петербурга)"
   ]
  },
  {
   "cell_type": "code",
   "execution_count": 61,
   "metadata": {},
   "outputs": [
    {
     "data": {
      "text/plain": [
       "count    2789.000000\n",
       "mean       66.528412\n",
       "std        23.422111\n",
       "min        12.000000\n",
       "25%        46.300000\n",
       "50%        64.800000\n",
       "75%        83.800000\n",
       "max       120.000000\n",
       "Name: total_area, dtype: float64"
      ]
     },
     "metadata": {},
     "output_type": "display_data"
    },
    {
     "data": {
      "text/plain": [
       "<AxesSubplot:ylabel='Frequency'>"
      ]
     },
     "execution_count": 61,
     "metadata": {},
     "output_type": "execute_result"
    },
    {
     "data": {
      "image/png": "[encoded data removed]",
      "text/plain": [
       "<Figure size 432x288 with 1 Axes>"
      ]
     },
     "metadata": {
      "needs_background": "light"
     },
     "output_type": "display_data"
    }
   ],
   "source": [
    "# изучим параметр total_area методом describe и с помощью гистограммы\n",
    "display(clean_data_stpete_center['total_area'].describe())\n",
    "clean_data_stpete_center.plot(kind='hist', y='total_area', bins=50, legend=True, grid=True)"
   ]
  },
  {
   "cell_type": "markdown",
   "metadata": {},
   "source": [
    "**Вывод: общая площадь**\n",
    "\n",
    "Данные по общей площади имеют близкое к нормальному распределение. 75% квартир имеют площадь в пределах 83 м2, что похоже на правду. В целом, площадь квартир в центре немного больше, чем в общей выборке."
   ]
  },
  {
   "cell_type": "code",
   "execution_count": 62,
   "metadata": {},
   "outputs": [
    {
     "data": {
      "text/plain": [
       "count      2789.000000\n",
       "mean     131213.847167\n",
       "std       49103.140742\n",
       "min       37234.042553\n",
       "25%      100804.597701\n",
       "50%      122341.513292\n",
       "75%      146799.765120\n",
       "max      721518.987342\n",
       "Name: last_price_per_sqm, dtype: float64"
      ]
     },
     "metadata": {},
     "output_type": "display_data"
    },
    {
     "data": {
      "text/plain": [
       "<AxesSubplot:ylabel='Frequency'>"
      ]
     },
     "execution_count": 62,
     "metadata": {},
     "output_type": "execute_result"
    },
    {
     "data": {
      "image/png": "[encoded data removed]",
      "text/plain": [
       "<Figure size 432x288 with 1 Axes>"
      ]
     },
     "metadata": {
      "needs_background": "light"
     },
     "output_type": "display_data"
    }
   ],
   "source": [
    "# изучим параметр last_price_per_sqm методом describe и с помощью гистограммы\n",
    "display(clean_data_stpete_center['last_price_per_sqm'].describe())\n",
    "clean_data_stpete_center.plot(kind='hist', y='last_price_per_sqm', bins=50, range=(50000, 150000), legend=True, grid=True)"
   ]
  },
  {
   "cell_type": "markdown",
   "metadata": {},
   "source": [
    "**Вывод: цена**\n",
    "\n",
    "Средняя цена составляет 131 000 за м2. Также много значений выше средней. Эти параметры значительно выше, чем в общей выборке и это логично."
   ]
  },
  {
   "cell_type": "code",
   "execution_count": 63,
   "metadata": {},
   "outputs": [
    {
     "data": {
      "text/plain": [
       "count    2789.000000\n",
       "mean        2.243456\n",
       "std         0.948777\n",
       "min         0.000000\n",
       "25%         2.000000\n",
       "50%         2.000000\n",
       "75%         3.000000\n",
       "max         7.000000\n",
       "Name: rooms, dtype: float64"
      ]
     },
     "metadata": {},
     "output_type": "display_data"
    },
    {
     "data": {
      "text/html": [
       "<div>\n",
       "<style scoped>\n",
       "    .dataframe tbody tr th:only-of-type {\n",
       "        vertical-align: middle;\n",
       "    }\n",
       "\n",
       "    .dataframe tbody tr th {\n",
       "        vertical-align: top;\n",
       "    }\n",
       "\n",
       "    .dataframe thead th {\n",
       "        text-align: right;\n",
       "    }\n",
       "</style>\n",
       "<table border=\"1\" class=\"dataframe\">\n",
       "  <thead>\n",
       "    <tr style=\"text-align: right;\">\n",
       "      <th></th>\n",
       "      <th></th>\n",
       "      <th></th>\n",
       "      <th>total_area</th>\n",
       "    </tr>\n",
       "    <tr>\n",
       "      <th>rooms</th>\n",
       "      <th>open_plan</th>\n",
       "      <th>studio</th>\n",
       "      <th></th>\n",
       "    </tr>\n",
       "  </thead>\n",
       "  <tbody>\n",
       "    <tr>\n",
       "      <th rowspan=\"2\" valign=\"top\">0</th>\n",
       "      <th>False</th>\n",
       "      <th>True</th>\n",
       "      <td>13</td>\n",
       "    </tr>\n",
       "    <tr>\n",
       "      <th>True</th>\n",
       "      <th>False</th>\n",
       "      <td>4</td>\n",
       "    </tr>\n",
       "  </tbody>\n",
       "</table>\n",
       "</div>"
      ],
      "text/plain": [
       "                        total_area\n",
       "rooms open_plan studio            \n",
       "0     False     True            13\n",
       "      True      False            4"
      ]
     },
     "execution_count": 63,
     "metadata": {},
     "output_type": "execute_result"
    },
    {
     "data": {
      "image/png": "[encoded data removed]",
      "text/plain": [
       "<Figure size 432x288 with 1 Axes>"
      ]
     },
     "metadata": {
      "needs_background": "light"
     },
     "output_type": "display_data"
    }
   ],
   "source": [
    "#изучим параметр rooms методом describe и с помощью гистограммы\n",
    "display(clean_data_stpete_center['rooms'].describe())\n",
    "clean_data_stpete_center.plot(kind='hist', y='rooms', bins=50, range=(0, 7), legend=True, grid=True)\n",
    "\n",
    "# проверим взаимосвязь квартир с нулевым количеством комнат с двнными в колонках open_plan и studio \n",
    "clean_data_stpete_center.query('rooms == 0').pivot_table(index=('rooms', 'open_plan', 'studio'), values='total_area', aggfunc='count')"
   ]
  },
  {
   "cell_type": "markdown",
   "metadata": {},
   "source": [
    "**Вывод: комнаты**\n",
    "\n",
    "Данные по количеству комнат имеют близкое к нормальному распределение. 75% квартир имеют до 3-х комнат, что выглядит правдоподобно. Квартиры без комнат - это либо студии, либо квартиры с открытой планировкой. Квартиры более чем пятью комнатами могут относиться к уникальным предложениям. Данные по центру города совпадают с общими данными."
   ]
  },
  {
   "cell_type": "code",
   "execution_count": 64,
   "metadata": {},
   "outputs": [
    {
     "data": {
      "text/plain": [
       "count    2789.000000\n",
       "mean        2.787626\n",
       "std         0.190232\n",
       "min         2.400000\n",
       "25%         2.600000\n",
       "50%         2.750000\n",
       "75%         3.000000\n",
       "max         3.100000\n",
       "Name: ceiling_height, dtype: float64"
      ]
     },
     "metadata": {},
     "output_type": "display_data"
    },
    {
     "data": {
      "text/plain": [
       "<AxesSubplot:ylabel='Frequency'>"
      ]
     },
     "execution_count": 64,
     "metadata": {},
     "output_type": "execute_result"
    },
    {
     "data": {
      "image/png": "[encoded data removed]",
      "text/plain": [
       "<Figure size 432x288 with 1 Axes>"
      ]
     },
     "metadata": {
      "needs_background": "light"
     },
     "output_type": "display_data"
    }
   ],
   "source": [
    "# изучим параметр ceiling_height методом describe и с помощью гистограммы\n",
    "display(clean_data_stpete_center['ceiling_height'].describe())\n",
    "clean_data_stpete_center.plot(kind='hist', y='ceiling_height', bins=50, range=(2.25, 3.25), legend=True, grid=True)"
   ]
  },
  {
   "cell_type": "markdown",
   "metadata": {},
   "source": [
    "**Вывод: высота потолка**\n",
    "\n",
    "Большинство квартир имееют высоту потолка, близкую к стандартным 2,7 метра. Но больше всего квартир с потолками 3 м, что соответствует старому фонду центра города."
   ]
  },
  {
   "cell_type": "markdown",
   "metadata": {},
   "source": [
    "**Общий вывод по изучению отдельных параметров**\n",
    "\n",
    "Большинство параметров по центру Санкт-Петербурга совпадает с общими данными. При этом в центре города преобладают квартиры с высокими потолками. Цены в центре заметно выше, а также больше дорогих квартир, что в целом логично."
   ]
  },
  {
   "cell_type": "markdown",
   "metadata": {},
   "source": [
    "#### Выделение отдельных факторов (центр Санкт-Петербурга)"
   ]
  },
  {
   "cell_type": "code",
   "execution_count": 65,
   "metadata": {},
   "outputs": [
    {
     "data": {
      "text/plain": [
       "-0.16781573752192197"
      ]
     },
     "metadata": {},
     "output_type": "display_data"
    },
    {
     "data": {
      "text/plain": [
       "<AxesSubplot:xlabel='rooms', ylabel='last_price_per_sqm'>"
      ]
     },
     "execution_count": 65,
     "metadata": {},
     "output_type": "execute_result"
    },
    {
     "data": {
      "image/png": "[encoded data removed]",
      "text/plain": [
       "<Figure size 432x288 with 1 Axes>"
      ]
     },
     "metadata": {
      "needs_background": "light"
     },
     "output_type": "display_data"
    }
   ],
   "source": [
    "# оценим корреляцию между ценой и количеством комнат\n",
    "display(clean_data_stpete_center['last_price_per_sqm'].corr(clean_data_stpete_center['rooms'])) \n",
    "\n",
    "# построим диаграмму рассеивания по переменным цены и комнат\n",
    "clean_data_stpete_center.plot(x='rooms', y='last_price_per_sqm', kind='scatter')"
   ]
  },
  {
   "cell_type": "markdown",
   "metadata": {},
   "source": [
    "**Вывод**\n",
    "\n",
    "Взаимосвязь цены и количества комнат не сильно отличается от результатов по общим данным."
   ]
  },
  {
   "cell_type": "code",
   "execution_count": 66,
   "metadata": {},
   "outputs": [
    {
     "data": {
      "text/plain": [
       "count       320.000000\n",
       "mean     115059.952346\n",
       "std       40167.581725\n",
       "min       59649.122807\n",
       "25%       92012.241484\n",
       "50%      103649.455048\n",
       "75%      126953.873529\n",
       "max      387096.774194\n",
       "Name: last_price_per_sqm, dtype: float64"
      ]
     },
     "metadata": {},
     "output_type": "display_data"
    },
    {
     "data": {
      "text/plain": [
       "count       443.000000\n",
       "mean     122800.227073\n",
       "std       42550.379354\n",
       "min       54000.000000\n",
       "25%       95207.052834\n",
       "50%      112375.000000\n",
       "75%      140873.519459\n",
       "max      370497.017893\n",
       "Name: last_price_per_sqm, dtype: float64"
      ]
     },
     "metadata": {},
     "output_type": "display_data"
    },
    {
     "data": {
      "text/plain": [
       "count      2026.000000\n",
       "mean     135605.002174\n",
       "std       50933.640456\n",
       "min       37234.042553\n",
       "25%      103921.568627\n",
       "50%      127184.078824\n",
       "75%      151064.137134\n",
       "max      721518.987342\n",
       "Name: last_price_per_sqm, dtype: float64"
      ]
     },
     "metadata": {},
     "output_type": "display_data"
    }
   ],
   "source": [
    "# поскольку категория этажа - это категориальная переменная,\n",
    "# оценим зависимость цена от этой переменной через анализ средней и медианы по каждой категории\n",
    "display(clean_data_stpete_center.query('floor_category == \"first\"')['last_price_per_sqm'].describe())\n",
    "display(clean_data_stpete_center.query('floor_category == \"last\"')['last_price_per_sqm'].describe())\n",
    "display(clean_data_stpete_center.query('floor_category == \"others\"')['last_price_per_sqm'].describe())"
   ]
  },
  {
   "cell_type": "markdown",
   "metadata": {},
   "source": [
    "**Вывод**\n",
    "\n",
    "Взаимосвязь цены и категории этажа не сильно отличается от результатов по общим данным."
   ]
  },
  {
   "cell_type": "code",
   "execution_count": 67,
   "metadata": {},
   "outputs": [
    {
     "data": {
      "text/plain": [
       "-0.08342696370767816"
      ]
     },
     "metadata": {},
     "output_type": "display_data"
    },
    {
     "data": {
      "text/plain": [
       "<AxesSubplot:xlabel='city_centers_nearest', ylabel='last_price_per_sqm'>"
      ]
     },
     "execution_count": 67,
     "metadata": {},
     "output_type": "execute_result"
    },
    {
     "data": {
      "image/png": "[encoded data removed]",
      "text/plain": [
       "<Figure size 432x288 with 1 Axes>"
      ]
     },
     "metadata": {
      "needs_background": "light"
     },
     "output_type": "display_data"
    }
   ],
   "source": [
    "# оценим корреляцию между ценой и расстоянием до центра\n",
    "display(clean_data_stpete_center['last_price_per_sqm'].corr(clean_data_stpete_center['city_centers_nearest'])) \n",
    "\n",
    "# построим диаграмму рассеивания по переменным цены и расстояния до центра\n",
    "clean_data_stpete_center.plot(x='city_centers_nearest', y='last_price_per_sqm', kind='scatter')"
   ]
  },
  {
   "cell_type": "markdown",
   "metadata": {},
   "source": [
    "**Вывод**\n",
    "\n",
    "Взаимосвязь цены и удаленности от центра не сильно отличается от результатов по общим данным."
   ]
  },
  {
   "cell_type": "code",
   "execution_count": 68,
   "metadata": {},
   "outputs": [
    {
     "data": {
      "text/html": [
       "<div>\n",
       "<style scoped>\n",
       "    .dataframe tbody tr th:only-of-type {\n",
       "        vertical-align: middle;\n",
       "    }\n",
       "\n",
       "    .dataframe tbody tr th {\n",
       "        vertical-align: top;\n",
       "    }\n",
       "\n",
       "    .dataframe thead th {\n",
       "        text-align: right;\n",
       "    }\n",
       "</style>\n",
       "<table border=\"1\" class=\"dataframe\">\n",
       "  <thead>\n",
       "    <tr style=\"text-align: right;\">\n",
       "      <th></th>\n",
       "      <th>count</th>\n",
       "      <th>mean</th>\n",
       "      <th>median</th>\n",
       "    </tr>\n",
       "    <tr>\n",
       "      <th>weekday_exposition</th>\n",
       "      <th></th>\n",
       "      <th></th>\n",
       "      <th></th>\n",
       "    </tr>\n",
       "  </thead>\n",
       "  <tbody>\n",
       "    <tr>\n",
       "      <th>0</th>\n",
       "      <td>413</td>\n",
       "      <td>131189.078071</td>\n",
       "      <td>122222.222222</td>\n",
       "    </tr>\n",
       "    <tr>\n",
       "      <th>1</th>\n",
       "      <td>486</td>\n",
       "      <td>129555.955237</td>\n",
       "      <td>120705.187947</td>\n",
       "    </tr>\n",
       "    <tr>\n",
       "      <th>2</th>\n",
       "      <td>481</td>\n",
       "      <td>132126.666520</td>\n",
       "      <td>123529.411765</td>\n",
       "    </tr>\n",
       "    <tr>\n",
       "      <th>3</th>\n",
       "      <td>550</td>\n",
       "      <td>132638.350559</td>\n",
       "      <td>122482.767942</td>\n",
       "    </tr>\n",
       "    <tr>\n",
       "      <th>4</th>\n",
       "      <td>481</td>\n",
       "      <td>130228.361935</td>\n",
       "      <td>121052.631579</td>\n",
       "    </tr>\n",
       "    <tr>\n",
       "      <th>5</th>\n",
       "      <td>214</td>\n",
       "      <td>131298.818881</td>\n",
       "      <td>124884.473198</td>\n",
       "    </tr>\n",
       "    <tr>\n",
       "      <th>6</th>\n",
       "      <td>164</td>\n",
       "      <td>131514.192227</td>\n",
       "      <td>125116.822430</td>\n",
       "    </tr>\n",
       "  </tbody>\n",
       "</table>\n",
       "</div>"
      ],
      "text/plain": [
       "                    count           mean         median\n",
       "weekday_exposition                                     \n",
       "0                     413  131189.078071  122222.222222\n",
       "1                     486  129555.955237  120705.187947\n",
       "2                     481  132126.666520  123529.411765\n",
       "3                     550  132638.350559  122482.767942\n",
       "4                     481  130228.361935  121052.631579\n",
       "5                     214  131298.818881  124884.473198\n",
       "6                     164  131514.192227  125116.822430"
      ]
     },
     "metadata": {},
     "output_type": "display_data"
    },
    {
     "data": {
      "text/html": [
       "<div>\n",
       "<style scoped>\n",
       "    .dataframe tbody tr th:only-of-type {\n",
       "        vertical-align: middle;\n",
       "    }\n",
       "\n",
       "    .dataframe tbody tr th {\n",
       "        vertical-align: top;\n",
       "    }\n",
       "\n",
       "    .dataframe thead th {\n",
       "        text-align: right;\n",
       "    }\n",
       "</style>\n",
       "<table border=\"1\" class=\"dataframe\">\n",
       "  <thead>\n",
       "    <tr style=\"text-align: right;\">\n",
       "      <th></th>\n",
       "      <th>count</th>\n",
       "      <th>mean</th>\n",
       "      <th>median</th>\n",
       "    </tr>\n",
       "    <tr>\n",
       "      <th>month_exposition</th>\n",
       "      <th></th>\n",
       "      <th></th>\n",
       "      <th></th>\n",
       "    </tr>\n",
       "  </thead>\n",
       "  <tbody>\n",
       "    <tr>\n",
       "      <th>1</th>\n",
       "      <td>173</td>\n",
       "      <td>126819.339957</td>\n",
       "      <td>120967.741935</td>\n",
       "    </tr>\n",
       "    <tr>\n",
       "      <th>2</th>\n",
       "      <td>285</td>\n",
       "      <td>131303.549717</td>\n",
       "      <td>120767.494357</td>\n",
       "    </tr>\n",
       "    <tr>\n",
       "      <th>3</th>\n",
       "      <td>300</td>\n",
       "      <td>136047.744671</td>\n",
       "      <td>131785.133050</td>\n",
       "    </tr>\n",
       "    <tr>\n",
       "      <th>4</th>\n",
       "      <td>274</td>\n",
       "      <td>130599.672276</td>\n",
       "      <td>118653.831133</td>\n",
       "    </tr>\n",
       "    <tr>\n",
       "      <th>5</th>\n",
       "      <td>156</td>\n",
       "      <td>128061.177899</td>\n",
       "      <td>124608.011797</td>\n",
       "    </tr>\n",
       "    <tr>\n",
       "      <th>6</th>\n",
       "      <td>216</td>\n",
       "      <td>134744.808400</td>\n",
       "      <td>117634.375000</td>\n",
       "    </tr>\n",
       "    <tr>\n",
       "      <th>7</th>\n",
       "      <td>212</td>\n",
       "      <td>129912.777128</td>\n",
       "      <td>119380.183795</td>\n",
       "    </tr>\n",
       "    <tr>\n",
       "      <th>8</th>\n",
       "      <td>219</td>\n",
       "      <td>134413.766654</td>\n",
       "      <td>125000.000000</td>\n",
       "    </tr>\n",
       "    <tr>\n",
       "      <th>9</th>\n",
       "      <td>258</td>\n",
       "      <td>131201.743139</td>\n",
       "      <td>123883.127244</td>\n",
       "    </tr>\n",
       "    <tr>\n",
       "      <th>10</th>\n",
       "      <td>246</td>\n",
       "      <td>129393.098442</td>\n",
       "      <td>119691.289222</td>\n",
       "    </tr>\n",
       "    <tr>\n",
       "      <th>11</th>\n",
       "      <td>271</td>\n",
       "      <td>131173.286445</td>\n",
       "      <td>122222.222222</td>\n",
       "    </tr>\n",
       "    <tr>\n",
       "      <th>12</th>\n",
       "      <td>179</td>\n",
       "      <td>126850.670806</td>\n",
       "      <td>115957.446809</td>\n",
       "    </tr>\n",
       "  </tbody>\n",
       "</table>\n",
       "</div>"
      ],
      "text/plain": [
       "                  count           mean         median\n",
       "month_exposition                                     \n",
       "1                   173  126819.339957  120967.741935\n",
       "2                   285  131303.549717  120767.494357\n",
       "3                   300  136047.744671  131785.133050\n",
       "4                   274  130599.672276  118653.831133\n",
       "5                   156  128061.177899  124608.011797\n",
       "6                   216  134744.808400  117634.375000\n",
       "7                   212  129912.777128  119380.183795\n",
       "8                   219  134413.766654  125000.000000\n",
       "9                   258  131201.743139  123883.127244\n",
       "10                  246  129393.098442  119691.289222\n",
       "11                  271  131173.286445  122222.222222\n",
       "12                  179  126850.670806  115957.446809"
      ]
     },
     "metadata": {},
     "output_type": "display_data"
    },
    {
     "data": {
      "text/html": [
       "<div>\n",
       "<style scoped>\n",
       "    .dataframe tbody tr th:only-of-type {\n",
       "        vertical-align: middle;\n",
       "    }\n",
       "\n",
       "    .dataframe tbody tr th {\n",
       "        vertical-align: top;\n",
       "    }\n",
       "\n",
       "    .dataframe thead th {\n",
       "        text-align: right;\n",
       "    }\n",
       "</style>\n",
       "<table border=\"1\" class=\"dataframe\">\n",
       "  <thead>\n",
       "    <tr style=\"text-align: right;\">\n",
       "      <th></th>\n",
       "      <th>count</th>\n",
       "      <th>mean</th>\n",
       "      <th>median</th>\n",
       "    </tr>\n",
       "    <tr>\n",
       "      <th>year_exposition</th>\n",
       "      <th></th>\n",
       "      <th></th>\n",
       "      <th></th>\n",
       "    </tr>\n",
       "  </thead>\n",
       "  <tbody>\n",
       "    <tr>\n",
       "      <th>2014</th>\n",
       "      <td>17</td>\n",
       "      <td>134886.157988</td>\n",
       "      <td>128750.000000</td>\n",
       "    </tr>\n",
       "    <tr>\n",
       "      <th>2015</th>\n",
       "      <td>212</td>\n",
       "      <td>127724.731611</td>\n",
       "      <td>120909.421918</td>\n",
       "    </tr>\n",
       "    <tr>\n",
       "      <th>2016</th>\n",
       "      <td>363</td>\n",
       "      <td>131400.283122</td>\n",
       "      <td>119047.619048</td>\n",
       "    </tr>\n",
       "    <tr>\n",
       "      <th>2017</th>\n",
       "      <td>1008</td>\n",
       "      <td>127980.654320</td>\n",
       "      <td>119387.871332</td>\n",
       "    </tr>\n",
       "    <tr>\n",
       "      <th>2018</th>\n",
       "      <td>889</td>\n",
       "      <td>131962.017931</td>\n",
       "      <td>123203.285421</td>\n",
       "    </tr>\n",
       "    <tr>\n",
       "      <th>2019</th>\n",
       "      <td>300</td>\n",
       "      <td>141892.252311</td>\n",
       "      <td>132535.014006</td>\n",
       "    </tr>\n",
       "  </tbody>\n",
       "</table>\n",
       "</div>"
      ],
      "text/plain": [
       "                 count           mean         median\n",
       "year_exposition                                     \n",
       "2014                17  134886.157988  128750.000000\n",
       "2015               212  127724.731611  120909.421918\n",
       "2016               363  131400.283122  119047.619048\n",
       "2017              1008  127980.654320  119387.871332\n",
       "2018               889  131962.017931  123203.285421\n",
       "2019               300  141892.252311  132535.014006"
      ]
     },
     "metadata": {},
     "output_type": "display_data"
    }
   ],
   "source": [
    "# поскольку время размещения - это категориальная переменная,\n",
    "# оценим зависимость цена от этой переменной через анализ средней и медианы по каждой категории\n",
    "display(clean_data_stpete_center.pivot_table(\n",
    "    index='weekday_exposition',\n",
    "    values='last_price_per_sqm', \n",
    "    aggfunc=('count', 'mean','median')\n",
    "))\n",
    "display(clean_data_stpete_center.pivot_table(\n",
    "    index='month_exposition',\n",
    "    values='last_price_per_sqm', \n",
    "    aggfunc=('count', 'mean','median')\n",
    "))\n",
    "display(clean_data_stpete_center.pivot_table(\n",
    "    index='year_exposition',\n",
    "    values='last_price_per_sqm', \n",
    "    aggfunc=('count', 'mean','median')\n",
    "))"
   ]
  },
  {
   "cell_type": "markdown",
   "metadata": {},
   "source": [
    "**Вывод**\n",
    "\n",
    "Взаимосвязь цены и времени размещения не сильно отличается от результатов по общим данным."
   ]
  },
  {
   "cell_type": "markdown",
   "metadata": {},
   "source": [
    "**Общий вывод по факторам**\n",
    "\n",
    "Степень зависимости цены квартир в центре Санкт-Петербурга от рассмотренных факторов очень схожа с результатами, полученными по данным в целом. Эти выводы могут быть использованы для дальнейшей работы."
   ]
  },
  {
   "cell_type": "markdown",
   "metadata": {},
   "source": [
    "## Общий вывод"
   ]
  },
  {
   "cell_type": "markdown",
   "metadata": {},
   "source": [
    "В рамках проекта мы изучили имеющиеся данные и провели их предобработку. В частности, оценили пропуски, попытались определить их причину и устранить их там, где это было возможно. Также мы изменили типы некоторых данных.\n",
    "Далее мы рассчитали несколько дополнительных показателей, самый важный из которых - это цена на квадратный метр.\n",
    "Затем мы провели исследование и проанализировали имеющиеся данные. Определили, что на цену квартиры боле всего влияют факторы локации, удаленности от центра и этаж расположения квартиры.\n",
    "Также мы определили какой срок продажи квартиры является быстрым, а какой медленным.\n",
    "\n",
    "В итоге, для механизма автоматической оценки стоимости квартиры мы бы предложили учитывать факторы локации, этаж и удаленность от центра. Остальные факторы не показали высокой степени влияния на цену,  поэтому их следует использовать ограниченно."
   ]
  },
  {
   "cell_type": "markdown",
   "metadata": {},
   "source": [
    "## Чек-лист готовности проекта\n",
    "\n",
    "Поставьте 'x' в выполненных пунктах. Далее нажмите Shift+Enter."
   ]
  },
  {
   "cell_type": "markdown",
   "metadata": {},
   "source": [
    "###### - [x]  открыт файл\n",
    "- [x]  файлы изучены (выведены первые строки, метод `info()`)\n",
    "- [x]  определены пропущенные значения\n",
    "- [x]  заполнены пропущенные значения\n",
    "- [x]  есть пояснение, какие пропущенные значения обнаружены\n",
    "- [x]  изменены типы данных\n",
    "- [x]  есть пояснение, в каких столбцах изменены типы и почему\n",
    "- [x]  посчитано и добавлено в таблицу: цена квадратного метра\n",
    "- [x]  посчитано и добавлено в таблицу: день недели, месяц и год публикации объявления\n",
    "- [x]  посчитано и добавлено в таблицу: этаж квартиры; варианты — первый, последний, другой\n",
    "- [x]  посчитано и добавлено в таблицу: соотношение жилой и общей площади, а также отношение площади кухни к общей\n",
    "- [x]  изучены следующие параметры: площадь, цена, число комнат, высота потолков\n",
    "- [x]  построены гистограммы для каждого параметра\n",
    "- [x]  выполнено задание: «Изучите время продажи квартиры. Постройте гистограмму. Посчитайте среднее и медиану. Опишите, сколько обычно занимает продажа. Когда можно считать, что продажи прошли очень быстро, а когда необычно долго?»\n",
    "- [x]  выполнено задание: «Уберите редкие и выбивающиеся значения. Опишите, какие особенности обнаружили».\n",
    "- [x]  выполнено задание: «Какие факторы больше всего влияют на стоимость квартиры? Изучите, зависит ли цена от квадратного метра, числа комнат, этажа (первого или последнего), удалённости от центра. Также изучите зависимость от даты размещения: дня недели, месяца и года». \n",
    "- [x]  выполнено задание: «Выберите 10 населённых пунктов с наибольшим числом объявлений. Посчитайте среднюю цену квадратного метра в этих населённых пунктах. Выделите населённые пункты с самой высокой и низкой стоимостью жилья. Эти данные можно найти по имени в столбце `locality_name`».\n",
    "- [x]  выполнено задание: «Изучите предложения квартир: для каждой квартиры есть информация о расстоянии до центра. Выделите квартиры в Санкт-Петербурге (`locality_name`). Ваша задача — выяснить, какая область входит в центр. Создайте столбец с расстоянием до центра в километрах: округлите до целых значений. После этого посчитайте среднюю цену для каждого километра. Постройте график: он должен показывать, как цена зависит от удалённости от центра. Определите границу, где график сильно меняется — это и будет центральная зона».\n",
    "- [x]  выполнено задание: «Выделите сегмент квартир в центре. Проанализируйте эту территорию и изучите следующие параметры: площадь, цена, число комнат, высота потолков. Также выделите факторы, которые влияют на стоимость квартиры (число комнат, этаж, удалённость от центра, дата размещения объявления). Сделайте выводы. Отличаются ли они от общих выводов по всей базе?»\n",
    "- [x]  в каждом этапе есть выводы\n",
    "- [x]  есть общий вывод"
   ]
  },
  {
   "cell_type": "markdown",
   "metadata": {
    "toc": true
   },
   "source": [
    "<h1>Содержание<span class=\"tocSkip\"></span></h1>\n",
    "<div class=\"toc\"><ul class=\"toc-item\"><li><span><a href=\"#Изучение-данных-из-файла\" data-toc-modified-id=\"Изучение-данных-из-файла-1\"><span class=\"toc-item-num\">1&nbsp;&nbsp;</span>Изучение данных из файла</a></span><ul class=\"toc-item\"><li><span><a href=\"#Вывод\" data-toc-modified-id=\"Вывод-1.1\"><span class=\"toc-item-num\">1.1&nbsp;&nbsp;</span>Вывод</a></span></li></ul></li><li><span><a href=\"#Предобработка-данных\" data-toc-modified-id=\"Предобработка-данных-2\"><span class=\"toc-item-num\">2&nbsp;&nbsp;</span>Предобработка данных</a></span><ul class=\"toc-item\"><li><span><a href=\"#Изменение-наименований-колонок\" data-toc-modified-id=\"Изменение-наименований-колонок-2.1\"><span class=\"toc-item-num\">2.1&nbsp;&nbsp;</span>Изменение наименований колонок</a></span></li><li><span><a href=\"#Анализ-пропусков\" data-toc-modified-id=\"Анализ-пропусков-2.2\"><span class=\"toc-item-num\">2.2&nbsp;&nbsp;</span>Анализ пропусков</a></span></li><li><span><a href=\"#Замена-типа-данных\" data-toc-modified-id=\"Замена-типа-данных-2.3\"><span class=\"toc-item-num\">2.3&nbsp;&nbsp;</span>Замена типа данных</a></span></li></ul></li><li><span><a href=\"#Расчёты-и-добавление-результатов-в-таблицу\" data-toc-modified-id=\"Расчёты-и-добавление-результатов-в-таблицу-3\"><span class=\"toc-item-num\">3&nbsp;&nbsp;</span>Расчёты и добавление результатов в таблицу</a></span></li><li><span><a href=\"#Исследовательский-анализ-данных\" data-toc-modified-id=\"Исследовательский-анализ-данных-4\"><span class=\"toc-item-num\">4&nbsp;&nbsp;</span>Исследовательский анализ данных</a></span><ul class=\"toc-item\"><li><span><a href=\"#Изучение-отдельных-параметров\" data-toc-modified-id=\"Изучение-отдельных-параметров-4.1\"><span class=\"toc-item-num\">4.1&nbsp;&nbsp;</span>Изучение отдельных параметров</a></span></li><li><span><a href=\"#Изучение-времени-продажи-квартиры\" data-toc-modified-id=\"Изучение-времени-продажи-квартиры-4.2\"><span class=\"toc-item-num\">4.2&nbsp;&nbsp;</span>Изучение времени продажи квартиры</a></span></li><li><span><a href=\"#Обработка-редких-и-выбивающихся-значений\" data-toc-modified-id=\"Обработка-редких-и-выбивающихся-значений-4.3\"><span class=\"toc-item-num\">4.3&nbsp;&nbsp;</span>Обработка редких и выбивающихся значений</a></span></li><li><span><a href=\"#Определение-факторов,-влияющих-на-цену-квартиры\" data-toc-modified-id=\"Определение-факторов,-влияющих-на-цену-квартиры-4.4\"><span class=\"toc-item-num\">4.4&nbsp;&nbsp;</span>Определение факторов, влияющих на цену квартиры</a></span><ul class=\"toc-item\"><li><span><a href=\"#Зависимость-цены-от-площади\" data-toc-modified-id=\"Зависимость-цены-от-площади-4.4.1\"><span class=\"toc-item-num\">4.4.1&nbsp;&nbsp;</span>Зависимость цены от площади</a></span></li><li><span><a href=\"#Зависимость-цены-от-количества-комнат\" data-toc-modified-id=\"Зависимость-цены-от-количества-комнат-4.4.2\"><span class=\"toc-item-num\">4.4.2&nbsp;&nbsp;</span>Зависимость цены от количества комнат</a></span></li><li><span><a href=\"#Зависимость-цены-от-расстояния-до-центра\" data-toc-modified-id=\"Зависимость-цены-от-расстояния-до-центра-4.4.3\"><span class=\"toc-item-num\">4.4.3&nbsp;&nbsp;</span>Зависимость цены от расстояния до центра</a></span></li><li><span><a href=\"#Зависимость-цены-от-категории-этажа\" data-toc-modified-id=\"Зависимость-цены-от-категории-этажа-4.4.4\"><span class=\"toc-item-num\">4.4.4&nbsp;&nbsp;</span>Зависимость цены от категории этажа</a></span></li><li><span><a href=\"#Зависимость-цены-от-времени-размещения-объявления\" data-toc-modified-id=\"Зависимость-цены-от-времени-размещения-объявления-4.4.5\"><span class=\"toc-item-num\">4.4.5&nbsp;&nbsp;</span>Зависимость цены от времени размещения объявления</a></span></li></ul></li><li><span><a href=\"#Анализ-по-населенным-пунктам\" data-toc-modified-id=\"Анализ-по-населенным-пунктам-4.5\"><span class=\"toc-item-num\">4.5&nbsp;&nbsp;</span>Анализ по населенным пунктам</a></span></li><li><span><a href=\"#Определение-центрального-района-Санкт-Петербурга\" data-toc-modified-id=\"Определение-центрального-района-Санкт-Петербурга-4.6\"><span class=\"toc-item-num\">4.6&nbsp;&nbsp;</span>Определение центрального района Санкт-Петербурга</a></span></li><li><span><a href=\"#Анализ-квартир-в-центре-Санкт-Петербурга\" data-toc-modified-id=\"Анализ-квартир-в-центре-Санкт-Петербурга-4.7\"><span class=\"toc-item-num\">4.7&nbsp;&nbsp;</span>Анализ квартир в центре Санкт-Петербурга</a></span><ul class=\"toc-item\"><li><span><a href=\"#Изучение-отдельных-параметров-(центр-Санкт-Петербурга)\" data-toc-modified-id=\"Изучение-отдельных-параметров-(центр-Санкт-Петербурга)-4.7.1\"><span class=\"toc-item-num\">4.7.1&nbsp;&nbsp;</span>Изучение отдельных параметров (центр Санкт-Петербурга)</a></span></li><li><span><a href=\"#Выделение-отдельных-факторов-(центр-Санкт-Петербурга)\" data-toc-modified-id=\"Выделение-отдельных-факторов-(центр-Санкт-Петербурга)-4.7.2\"><span class=\"toc-item-num\">4.7.2&nbsp;&nbsp;</span>Выделение отдельных факторов (центр Санкт-Петербурга)</a></span></li></ul></li></ul></li><li><span><a href=\"#Общий-вывод\" data-toc-modified-id=\"Общий-вывод-5\"><span class=\"toc-item-num\">5&nbsp;&nbsp;</span>Общий вывод</a></span></li><li><span><a href=\"#Чек-лист-готовности-проекта\" data-toc-modified-id=\"Чек-лист-готовности-проекта-6\"><span class=\"toc-item-num\">6&nbsp;&nbsp;</span>Чек-лист готовности проекта</a></span></li></ul></div>"
   ]
  }
 ],
 "metadata": {
  "ExecuteTimeLog": [
   {
    "duration": 688,
    "start_time": "2022-05-12T03:54:34.626Z"
   },
   {
    "duration": 170,
    "start_time": "2022-05-12T03:57:38.700Z"
   },
   {
    "duration": 195,
    "start_time": "2022-05-12T03:58:11.625Z"
   },
   {
    "duration": 168,
    "start_time": "2022-05-12T04:01:28.451Z"
   },
   {
    "duration": 151,
    "start_time": "2022-05-12T04:02:19.702Z"
   },
   {
    "duration": 188,
    "start_time": "2022-05-12T04:03:28.208Z"
   },
   {
    "duration": 206,
    "start_time": "2022-05-12T04:04:43.885Z"
   },
   {
    "duration": 163,
    "start_time": "2022-05-12T04:05:23.507Z"
   },
   {
    "duration": 837,
    "start_time": "2022-05-12T04:05:47.893Z"
   },
   {
    "duration": 106,
    "start_time": "2022-05-12T04:06:20.532Z"
   },
   {
    "duration": 166,
    "start_time": "2022-05-12T04:06:43.017Z"
   },
   {
    "duration": 178,
    "start_time": "2022-05-12T04:22:53.562Z"
   },
   {
    "duration": 173,
    "start_time": "2022-05-12T04:32:10.628Z"
   },
   {
    "duration": 196,
    "start_time": "2022-05-12T04:32:55.458Z"
   },
   {
    "duration": 7,
    "start_time": "2022-05-12T04:39:45.448Z"
   },
   {
    "duration": 65,
    "start_time": "2022-05-12T04:40:24.045Z"
   },
   {
    "duration": 47,
    "start_time": "2022-05-14T06:24:02.254Z"
   },
   {
    "duration": 555,
    "start_time": "2022-05-14T06:24:26.599Z"
   },
   {
    "duration": 24,
    "start_time": "2022-05-14T06:24:27.157Z"
   },
   {
    "duration": 4,
    "start_time": "2022-05-14T06:24:31.858Z"
   },
   {
    "duration": 40,
    "start_time": "2022-05-14T06:25:01.403Z"
   },
   {
    "duration": 10,
    "start_time": "2022-05-14T06:28:08.574Z"
   },
   {
    "duration": 15,
    "start_time": "2022-05-14T06:28:26.323Z"
   },
   {
    "duration": 129,
    "start_time": "2022-05-14T06:28:33.031Z"
   },
   {
    "duration": 26,
    "start_time": "2022-05-14T06:28:33.162Z"
   },
   {
    "duration": 39,
    "start_time": "2022-05-14T06:28:33.189Z"
   },
   {
    "duration": 25,
    "start_time": "2022-05-14T06:30:24.238Z"
   },
   {
    "duration": 34,
    "start_time": "2022-05-14T06:31:00.903Z"
   },
   {
    "duration": 10,
    "start_time": "2022-05-14T06:31:36.793Z"
   },
   {
    "duration": 28,
    "start_time": "2022-05-14T06:31:43.387Z"
   },
   {
    "duration": 41,
    "start_time": "2022-05-14T06:33:14.924Z"
   },
   {
    "duration": 36,
    "start_time": "2022-05-14T06:34:34.633Z"
   },
   {
    "duration": 144,
    "start_time": "2022-05-14T06:34:44.693Z"
   },
   {
    "duration": 25,
    "start_time": "2022-05-14T06:34:44.839Z"
   },
   {
    "duration": 31,
    "start_time": "2022-05-14T06:34:44.866Z"
   },
   {
    "duration": 656,
    "start_time": "2022-05-14T08:02:40.676Z"
   },
   {
    "duration": 410,
    "start_time": "2022-05-14T08:03:00.202Z"
   },
   {
    "duration": 330,
    "start_time": "2022-05-14T08:03:13.402Z"
   },
   {
    "duration": 161,
    "start_time": "2022-05-14T08:03:59.846Z"
   },
   {
    "duration": 149,
    "start_time": "2022-05-14T08:04:25.073Z"
   },
   {
    "duration": 147,
    "start_time": "2022-05-14T08:05:11.241Z"
   },
   {
    "duration": 170,
    "start_time": "2022-05-14T08:05:24.887Z"
   },
   {
    "duration": 173,
    "start_time": "2022-05-14T08:06:12.508Z"
   },
   {
    "duration": 265,
    "start_time": "2022-05-14T08:06:16.903Z"
   },
   {
    "duration": 187,
    "start_time": "2022-05-14T08:06:52.594Z"
   },
   {
    "duration": 205,
    "start_time": "2022-05-14T08:07:06.213Z"
   },
   {
    "duration": 9,
    "start_time": "2022-05-14T08:12:50.632Z"
   },
   {
    "duration": 8,
    "start_time": "2022-05-14T08:12:55.161Z"
   },
   {
    "duration": 219,
    "start_time": "2022-05-14T08:13:11.618Z"
   },
   {
    "duration": 226,
    "start_time": "2022-05-14T08:13:27.363Z"
   },
   {
    "duration": 218,
    "start_time": "2022-05-14T08:18:54.147Z"
   },
   {
    "duration": 202,
    "start_time": "2022-05-14T08:19:12.420Z"
   },
   {
    "duration": 268,
    "start_time": "2022-05-14T08:20:45.315Z"
   },
   {
    "duration": 8,
    "start_time": "2022-05-14T09:00:38.925Z"
   },
   {
    "duration": 8,
    "start_time": "2022-05-14T09:00:58.221Z"
   },
   {
    "duration": 158,
    "start_time": "2022-05-14T09:31:48.618Z"
   },
   {
    "duration": 22,
    "start_time": "2022-05-14T09:32:14.145Z"
   },
   {
    "duration": 8,
    "start_time": "2022-05-14T09:32:47.827Z"
   },
   {
    "duration": 22,
    "start_time": "2022-05-14T09:32:55.748Z"
   },
   {
    "duration": 148,
    "start_time": "2022-05-14T09:34:47.207Z"
   },
   {
    "duration": 25,
    "start_time": "2022-05-14T09:35:20.268Z"
   },
   {
    "duration": 35,
    "start_time": "2022-05-14T09:41:39.645Z"
   },
   {
    "duration": 6,
    "start_time": "2022-05-14T09:47:17.698Z"
   },
   {
    "duration": 199,
    "start_time": "2022-05-14T09:47:55.069Z"
   },
   {
    "duration": 225,
    "start_time": "2022-05-14T09:52:04.643Z"
   },
   {
    "duration": 201,
    "start_time": "2022-05-14T09:53:12.511Z"
   },
   {
    "duration": 200,
    "start_time": "2022-05-14T09:54:51.971Z"
   },
   {
    "duration": 182,
    "start_time": "2022-05-14T09:59:09.832Z"
   },
   {
    "duration": 188,
    "start_time": "2022-05-14T09:59:39.495Z"
   },
   {
    "duration": 126,
    "start_time": "2022-05-14T09:59:53.302Z"
   },
   {
    "duration": 28,
    "start_time": "2022-05-14T09:59:53.430Z"
   },
   {
    "duration": 232,
    "start_time": "2022-05-14T09:59:53.460Z"
   },
   {
    "duration": 173,
    "start_time": "2022-05-14T09:59:53.695Z"
   },
   {
    "duration": 191,
    "start_time": "2022-05-14T10:01:09.458Z"
   },
   {
    "duration": 176,
    "start_time": "2022-05-14T10:01:56.073Z"
   },
   {
    "duration": 171,
    "start_time": "2022-05-14T10:02:29.845Z"
   },
   {
    "duration": 170,
    "start_time": "2022-05-14T10:02:45.454Z"
   },
   {
    "duration": 49,
    "start_time": "2022-05-14T10:03:01.555Z"
   },
   {
    "duration": 45,
    "start_time": "2022-05-14T10:03:40.192Z"
   },
   {
    "duration": 54,
    "start_time": "2022-05-14T10:04:12.554Z"
   },
   {
    "duration": 44,
    "start_time": "2022-05-14T10:05:01.784Z"
   },
   {
    "duration": 49,
    "start_time": "2022-05-14T10:05:32.594Z"
   },
   {
    "duration": 49,
    "start_time": "2022-05-14T10:05:56.284Z"
   },
   {
    "duration": 3,
    "start_time": "2022-05-14T10:24:47.500Z"
   },
   {
    "duration": 24,
    "start_time": "2022-05-14T10:28:49.829Z"
   },
   {
    "duration": 18,
    "start_time": "2022-05-14T10:29:19.856Z"
   },
   {
    "duration": 23,
    "start_time": "2022-05-14T10:30:06.077Z"
   },
   {
    "duration": 757,
    "start_time": "2022-05-14T10:30:13.649Z"
   },
   {
    "duration": 36,
    "start_time": "2022-05-14T10:30:14.408Z"
   },
   {
    "duration": 249,
    "start_time": "2022-05-14T10:30:14.446Z"
   },
   {
    "duration": 3,
    "start_time": "2022-05-14T10:30:14.697Z"
   },
   {
    "duration": 36,
    "start_time": "2022-05-14T10:30:14.702Z"
   },
   {
    "duration": 23,
    "start_time": "2022-05-14T10:31:32.823Z"
   },
   {
    "duration": 22,
    "start_time": "2022-05-14T10:33:29.684Z"
   },
   {
    "duration": 12,
    "start_time": "2022-05-14T10:35:34.093Z"
   },
   {
    "duration": 16,
    "start_time": "2022-05-14T10:36:10.637Z"
   },
   {
    "duration": 11,
    "start_time": "2022-05-14T10:36:29.167Z"
   },
   {
    "duration": 12,
    "start_time": "2022-05-14T10:36:40.144Z"
   },
   {
    "duration": 11,
    "start_time": "2022-05-14T10:37:03.656Z"
   },
   {
    "duration": 137,
    "start_time": "2022-05-14T10:37:14.614Z"
   },
   {
    "duration": 27,
    "start_time": "2022-05-14T10:37:14.753Z"
   },
   {
    "duration": 251,
    "start_time": "2022-05-14T10:37:14.782Z"
   },
   {
    "duration": 3,
    "start_time": "2022-05-14T10:37:15.035Z"
   },
   {
    "duration": 29,
    "start_time": "2022-05-14T10:37:15.039Z"
   },
   {
    "duration": 11,
    "start_time": "2022-05-14T10:37:56.805Z"
   },
   {
    "duration": 13,
    "start_time": "2022-05-14T10:38:02.050Z"
   },
   {
    "duration": 212,
    "start_time": "2022-05-14T10:45:07.884Z"
   },
   {
    "duration": 38,
    "start_time": "2022-05-14T10:45:55.868Z"
   },
   {
    "duration": 14,
    "start_time": "2022-05-14T10:46:55.678Z"
   },
   {
    "duration": 15,
    "start_time": "2022-05-14T10:48:45.114Z"
   },
   {
    "duration": 14,
    "start_time": "2022-05-14T10:48:53.880Z"
   },
   {
    "duration": 17,
    "start_time": "2022-05-14T10:49:14.920Z"
   },
   {
    "duration": 135,
    "start_time": "2022-05-14T10:49:23.780Z"
   },
   {
    "duration": 25,
    "start_time": "2022-05-14T10:49:23.921Z"
   },
   {
    "duration": 239,
    "start_time": "2022-05-14T10:49:23.948Z"
   },
   {
    "duration": 3,
    "start_time": "2022-05-14T10:49:24.190Z"
   },
   {
    "duration": 29,
    "start_time": "2022-05-14T10:49:24.194Z"
   },
   {
    "duration": 18,
    "start_time": "2022-05-14T10:52:56.525Z"
   },
   {
    "duration": 24,
    "start_time": "2022-05-14T10:53:04.863Z"
   },
   {
    "duration": 157,
    "start_time": "2022-05-14T10:56:51.993Z"
   },
   {
    "duration": 31,
    "start_time": "2022-05-14T10:57:12.921Z"
   },
   {
    "duration": 16,
    "start_time": "2022-05-14T10:57:44.549Z"
   },
   {
    "duration": 23,
    "start_time": "2022-05-14T10:57:57.567Z"
   },
   {
    "duration": 124,
    "start_time": "2022-05-14T10:58:23.038Z"
   },
   {
    "duration": 26,
    "start_time": "2022-05-14T10:58:23.164Z"
   },
   {
    "duration": 259,
    "start_time": "2022-05-14T10:58:23.192Z"
   },
   {
    "duration": 26,
    "start_time": "2022-05-14T10:58:23.454Z"
   },
   {
    "duration": 14,
    "start_time": "2022-05-14T10:58:23.482Z"
   },
   {
    "duration": 3,
    "start_time": "2022-05-14T10:58:39.487Z"
   },
   {
    "duration": 216,
    "start_time": "2022-05-14T10:59:45.828Z"
   },
   {
    "duration": 10,
    "start_time": "2022-05-14T11:00:56.720Z"
   },
   {
    "duration": 5,
    "start_time": "2022-05-14T11:01:34.630Z"
   },
   {
    "duration": 6,
    "start_time": "2022-05-14T11:01:41.228Z"
   },
   {
    "duration": 135,
    "start_time": "2022-05-14T11:02:32.521Z"
   },
   {
    "duration": 24,
    "start_time": "2022-05-14T11:02:32.659Z"
   },
   {
    "duration": 333,
    "start_time": "2022-05-14T11:02:32.685Z"
   },
   {
    "duration": 7,
    "start_time": "2022-05-14T11:02:33.025Z"
   },
   {
    "duration": 105,
    "start_time": "2022-05-14T11:02:33.036Z"
   },
   {
    "duration": 5,
    "start_time": "2022-05-14T11:02:33.143Z"
   },
   {
    "duration": 9,
    "start_time": "2022-05-14T11:04:43.400Z"
   },
   {
    "duration": 5,
    "start_time": "2022-05-14T11:04:45.651Z"
   },
   {
    "duration": 4,
    "start_time": "2022-05-14T11:04:52.359Z"
   },
   {
    "duration": 5,
    "start_time": "2022-05-14T11:05:05.245Z"
   },
   {
    "duration": 52,
    "start_time": "2022-05-14T11:05:42.414Z"
   },
   {
    "duration": 40,
    "start_time": "2022-05-14T11:06:37.095Z"
   },
   {
    "duration": 36,
    "start_time": "2022-05-14T11:08:36.214Z"
   },
   {
    "duration": 18,
    "start_time": "2022-05-14T11:08:48.996Z"
   },
   {
    "duration": 25,
    "start_time": "2022-05-14T11:09:19.309Z"
   },
   {
    "duration": 18,
    "start_time": "2022-05-14T11:16:58.197Z"
   },
   {
    "duration": 142,
    "start_time": "2022-05-14T11:17:14.506Z"
   },
   {
    "duration": 27,
    "start_time": "2022-05-14T11:17:14.651Z"
   },
   {
    "duration": 258,
    "start_time": "2022-05-14T11:17:14.680Z"
   },
   {
    "duration": 3,
    "start_time": "2022-05-14T11:17:14.941Z"
   },
   {
    "duration": 15,
    "start_time": "2022-05-14T11:17:14.946Z"
   },
   {
    "duration": 25,
    "start_time": "2022-05-14T11:17:14.963Z"
   },
   {
    "duration": 14,
    "start_time": "2022-05-14T11:18:31.219Z"
   },
   {
    "duration": 31,
    "start_time": "2022-05-14T11:18:38.561Z"
   },
   {
    "duration": 233,
    "start_time": "2022-05-14T11:20:23.596Z"
   },
   {
    "duration": 21,
    "start_time": "2022-05-14T11:20:33.596Z"
   },
   {
    "duration": 19,
    "start_time": "2022-05-14T11:21:39.283Z"
   },
   {
    "duration": 51,
    "start_time": "2022-05-14T11:21:56.301Z"
   },
   {
    "duration": 38,
    "start_time": "2022-05-14T11:22:17.991Z"
   },
   {
    "duration": 18,
    "start_time": "2022-05-14T11:22:43.762Z"
   },
   {
    "duration": 14,
    "start_time": "2022-05-14T11:23:36.352Z"
   },
   {
    "duration": 15,
    "start_time": "2022-05-14T11:24:07.292Z"
   },
   {
    "duration": 43,
    "start_time": "2022-05-14T11:24:18.573Z"
   },
   {
    "duration": 29,
    "start_time": "2022-05-14T11:26:12.803Z"
   },
   {
    "duration": 37,
    "start_time": "2022-05-14T11:27:53.206Z"
   },
   {
    "duration": 54,
    "start_time": "2022-05-14T11:29:42.315Z"
   },
   {
    "duration": 48,
    "start_time": "2022-05-14T11:29:50.596Z"
   },
   {
    "duration": 45,
    "start_time": "2022-05-14T11:30:10.484Z"
   },
   {
    "duration": 135,
    "start_time": "2022-05-14T11:30:14.348Z"
   },
   {
    "duration": 27,
    "start_time": "2022-05-14T11:30:14.486Z"
   },
   {
    "duration": 281,
    "start_time": "2022-05-14T11:30:14.515Z"
   },
   {
    "duration": 4,
    "start_time": "2022-05-14T11:30:14.799Z"
   },
   {
    "duration": 38,
    "start_time": "2022-05-14T11:30:14.805Z"
   },
   {
    "duration": 43,
    "start_time": "2022-05-14T11:30:14.846Z"
   },
   {
    "duration": 50,
    "start_time": "2022-05-14T11:30:51.965Z"
   },
   {
    "duration": 188,
    "start_time": "2022-05-14T11:33:56.617Z"
   },
   {
    "duration": 148,
    "start_time": "2022-05-14T11:37:51.898Z"
   },
   {
    "duration": 46,
    "start_time": "2022-05-14T11:37:58.715Z"
   },
   {
    "duration": 2737,
    "start_time": "2022-05-14T11:38:07.382Z"
   },
   {
    "duration": 174,
    "start_time": "2022-05-14T11:38:31.464Z"
   },
   {
    "duration": 5035,
    "start_time": "2022-05-14T11:39:06.865Z"
   },
   {
    "duration": 190,
    "start_time": "2022-05-14T11:39:49.490Z"
   },
   {
    "duration": 51,
    "start_time": "2022-05-14T11:40:24.053Z"
   },
   {
    "duration": 64,
    "start_time": "2022-05-14T11:43:13.727Z"
   },
   {
    "duration": 10,
    "start_time": "2022-05-14T11:50:26.167Z"
   },
   {
    "duration": 19,
    "start_time": "2022-05-14T12:12:22.262Z"
   },
   {
    "duration": 189,
    "start_time": "2022-05-14T12:27:49.804Z"
   },
   {
    "duration": 28,
    "start_time": "2022-05-14T12:28:16.510Z"
   },
   {
    "duration": 165,
    "start_time": "2022-05-14T12:29:04.388Z"
   },
   {
    "duration": 29,
    "start_time": "2022-05-14T12:29:21.916Z"
   },
   {
    "duration": 222,
    "start_time": "2022-05-14T12:29:38.031Z"
   },
   {
    "duration": 27,
    "start_time": "2022-05-14T12:30:04.656Z"
   },
   {
    "duration": 21,
    "start_time": "2022-05-14T12:31:55.334Z"
   },
   {
    "duration": 19,
    "start_time": "2022-05-14T12:38:27.060Z"
   },
   {
    "duration": 215,
    "start_time": "2022-05-14T12:43:05.204Z"
   },
   {
    "duration": 36,
    "start_time": "2022-05-14T12:43:23.467Z"
   },
   {
    "duration": 31,
    "start_time": "2022-05-14T12:49:54.513Z"
   },
   {
    "duration": 20,
    "start_time": "2022-05-14T12:51:54.113Z"
   },
   {
    "duration": 20,
    "start_time": "2022-05-14T12:52:21.115Z"
   },
   {
    "duration": 233,
    "start_time": "2022-05-14T13:28:14.416Z"
   },
   {
    "duration": 167,
    "start_time": "2022-05-14T13:28:21.247Z"
   },
   {
    "duration": 20,
    "start_time": "2022-05-14T13:28:30.606Z"
   },
   {
    "duration": 213,
    "start_time": "2022-05-14T15:43:57.274Z"
   },
   {
    "duration": 10,
    "start_time": "2022-05-14T15:46:02.951Z"
   },
   {
    "duration": 13,
    "start_time": "2022-05-14T15:46:49.727Z"
   },
   {
    "duration": 14,
    "start_time": "2022-05-14T15:48:39.595Z"
   },
   {
    "duration": 16,
    "start_time": "2022-05-14T15:51:50.386Z"
   },
   {
    "duration": 21,
    "start_time": "2022-05-14T15:52:19.697Z"
   },
   {
    "duration": 118,
    "start_time": "2022-05-14T15:53:57.716Z"
   },
   {
    "duration": 26,
    "start_time": "2022-05-14T15:53:57.837Z"
   },
   {
    "duration": 20,
    "start_time": "2022-05-14T15:53:57.865Z"
   },
   {
    "duration": 245,
    "start_time": "2022-05-14T15:53:57.887Z"
   },
   {
    "duration": 3,
    "start_time": "2022-05-14T15:53:58.134Z"
   },
   {
    "duration": 18,
    "start_time": "2022-05-14T15:53:58.139Z"
   },
   {
    "duration": 80,
    "start_time": "2022-05-14T15:53:58.159Z"
   },
   {
    "duration": 10,
    "start_time": "2022-05-14T15:53:58.241Z"
   },
   {
    "duration": 21,
    "start_time": "2022-05-14T15:53:58.253Z"
   },
   {
    "duration": 62,
    "start_time": "2022-05-14T15:55:31.514Z"
   },
   {
    "duration": 198,
    "start_time": "2022-05-14T15:55:43.094Z"
   },
   {
    "duration": 39,
    "start_time": "2022-05-14T15:55:43.294Z"
   },
   {
    "duration": 78,
    "start_time": "2022-05-14T15:55:49.103Z"
   },
   {
    "duration": 55,
    "start_time": "2022-05-14T16:03:15.801Z"
   },
   {
    "duration": 75,
    "start_time": "2022-05-14T16:05:12.342Z"
   },
   {
    "duration": 61,
    "start_time": "2022-05-14T16:09:23.572Z"
   },
   {
    "duration": 113,
    "start_time": "2022-05-14T16:09:36.904Z"
   },
   {
    "duration": 25,
    "start_time": "2022-05-14T16:09:37.022Z"
   },
   {
    "duration": 63,
    "start_time": "2022-05-14T16:09:50.132Z"
   },
   {
    "duration": 62,
    "start_time": "2022-05-14T16:12:54.367Z"
   },
   {
    "duration": 64,
    "start_time": "2022-05-14T16:13:14.563Z"
   },
   {
    "duration": 139,
    "start_time": "2022-05-14T16:19:36.047Z"
   },
   {
    "duration": 44,
    "start_time": "2022-05-14T16:19:36.189Z"
   },
   {
    "duration": 62,
    "start_time": "2022-05-14T16:19:38.968Z"
   },
   {
    "duration": 67,
    "start_time": "2022-05-14T16:23:21.004Z"
   },
   {
    "duration": 116,
    "start_time": "2022-05-14T16:23:46.927Z"
   },
   {
    "duration": 27,
    "start_time": "2022-05-14T16:23:47.045Z"
   },
   {
    "duration": 87,
    "start_time": "2022-05-14T16:23:47.074Z"
   },
   {
    "duration": 249,
    "start_time": "2022-05-14T16:23:47.163Z"
   },
   {
    "duration": 3,
    "start_time": "2022-05-14T16:23:47.414Z"
   },
   {
    "duration": 22,
    "start_time": "2022-05-14T16:23:47.418Z"
   },
   {
    "duration": 52,
    "start_time": "2022-05-14T16:23:47.442Z"
   },
   {
    "duration": 38,
    "start_time": "2022-05-14T16:23:47.496Z"
   },
   {
    "duration": 30,
    "start_time": "2022-05-14T16:23:47.536Z"
   },
   {
    "duration": 19,
    "start_time": "2022-05-14T16:24:58.692Z"
   },
   {
    "duration": 82,
    "start_time": "2022-05-14T16:29:11.390Z"
   },
   {
    "duration": 72,
    "start_time": "2022-05-14T16:31:43.923Z"
   },
   {
    "duration": 1043,
    "start_time": "2022-05-14T16:34:37.459Z"
   },
   {
    "duration": 85,
    "start_time": "2022-05-14T16:34:49.042Z"
   },
   {
    "duration": 159,
    "start_time": "2022-05-14T16:39:58.365Z"
   },
   {
    "duration": 568,
    "start_time": "2022-05-14T16:40:18.321Z"
   },
   {
    "duration": 126,
    "start_time": "2022-05-14T16:40:36.221Z"
   },
   {
    "duration": 28,
    "start_time": "2022-05-14T16:40:36.350Z"
   },
   {
    "duration": 374,
    "start_time": "2022-05-14T16:40:36.379Z"
   },
   {
    "duration": 0,
    "start_time": "2022-05-14T16:40:36.755Z"
   },
   {
    "duration": 0,
    "start_time": "2022-05-14T16:40:36.757Z"
   },
   {
    "duration": 0,
    "start_time": "2022-05-14T16:40:36.758Z"
   },
   {
    "duration": 0,
    "start_time": "2022-05-14T16:40:36.760Z"
   },
   {
    "duration": 0,
    "start_time": "2022-05-14T16:40:36.761Z"
   },
   {
    "duration": 0,
    "start_time": "2022-05-14T16:40:36.762Z"
   },
   {
    "duration": 196,
    "start_time": "2022-05-14T16:41:09.579Z"
   },
   {
    "duration": 160,
    "start_time": "2022-05-14T16:42:40.165Z"
   },
   {
    "duration": 179,
    "start_time": "2022-05-14T16:42:43.657Z"
   },
   {
    "duration": 155,
    "start_time": "2022-05-14T16:42:55.417Z"
   },
   {
    "duration": 209,
    "start_time": "2022-05-14T16:43:29.955Z"
   },
   {
    "duration": 129,
    "start_time": "2022-05-14T16:43:41.228Z"
   },
   {
    "duration": 28,
    "start_time": "2022-05-14T16:43:41.359Z"
   },
   {
    "duration": 158,
    "start_time": "2022-05-14T16:43:41.389Z"
   },
   {
    "duration": 0,
    "start_time": "2022-05-14T16:43:41.549Z"
   },
   {
    "duration": 0,
    "start_time": "2022-05-14T16:43:41.550Z"
   },
   {
    "duration": 0,
    "start_time": "2022-05-14T16:43:41.551Z"
   },
   {
    "duration": 0,
    "start_time": "2022-05-14T16:43:41.552Z"
   },
   {
    "duration": 0,
    "start_time": "2022-05-14T16:43:41.553Z"
   },
   {
    "duration": 0,
    "start_time": "2022-05-14T16:43:41.554Z"
   },
   {
    "duration": 127,
    "start_time": "2022-05-14T16:44:12.939Z"
   },
   {
    "duration": 27,
    "start_time": "2022-05-14T16:44:13.069Z"
   },
   {
    "duration": 188,
    "start_time": "2022-05-14T16:44:13.098Z"
   },
   {
    "duration": 0,
    "start_time": "2022-05-14T16:44:13.288Z"
   },
   {
    "duration": 0,
    "start_time": "2022-05-14T16:44:13.289Z"
   },
   {
    "duration": 0,
    "start_time": "2022-05-14T16:44:13.290Z"
   },
   {
    "duration": 0,
    "start_time": "2022-05-14T16:44:13.292Z"
   },
   {
    "duration": 0,
    "start_time": "2022-05-14T16:44:13.292Z"
   },
   {
    "duration": 0,
    "start_time": "2022-05-14T16:44:13.293Z"
   },
   {
    "duration": 120,
    "start_time": "2022-05-14T16:45:39.285Z"
   },
   {
    "duration": 37,
    "start_time": "2022-05-14T16:45:39.407Z"
   },
   {
    "duration": 164,
    "start_time": "2022-05-14T16:45:39.446Z"
   },
   {
    "duration": 0,
    "start_time": "2022-05-14T16:45:39.612Z"
   },
   {
    "duration": 0,
    "start_time": "2022-05-14T16:45:39.613Z"
   },
   {
    "duration": 0,
    "start_time": "2022-05-14T16:45:39.614Z"
   },
   {
    "duration": 0,
    "start_time": "2022-05-14T16:45:39.616Z"
   },
   {
    "duration": 0,
    "start_time": "2022-05-14T16:45:39.616Z"
   },
   {
    "duration": 0,
    "start_time": "2022-05-14T16:45:39.618Z"
   },
   {
    "duration": 162,
    "start_time": "2022-05-14T16:45:55.867Z"
   },
   {
    "duration": 162,
    "start_time": "2022-05-14T16:46:20.741Z"
   },
   {
    "duration": 136,
    "start_time": "2022-05-14T16:47:03.251Z"
   },
   {
    "duration": 54,
    "start_time": "2022-05-14T16:47:03.389Z"
   },
   {
    "duration": 169,
    "start_time": "2022-05-14T16:47:03.445Z"
   },
   {
    "duration": 0,
    "start_time": "2022-05-14T16:47:03.617Z"
   },
   {
    "duration": 0,
    "start_time": "2022-05-14T16:47:03.619Z"
   },
   {
    "duration": 0,
    "start_time": "2022-05-14T16:47:03.620Z"
   },
   {
    "duration": 0,
    "start_time": "2022-05-14T16:47:03.622Z"
   },
   {
    "duration": 0,
    "start_time": "2022-05-14T16:47:03.623Z"
   },
   {
    "duration": 0,
    "start_time": "2022-05-14T16:47:03.624Z"
   },
   {
    "duration": 174,
    "start_time": "2022-05-14T16:47:38.252Z"
   },
   {
    "duration": 157,
    "start_time": "2022-05-14T16:48:02.983Z"
   },
   {
    "duration": 41,
    "start_time": "2022-05-14T16:48:17.129Z"
   },
   {
    "duration": 11,
    "start_time": "2022-05-14T16:52:34.805Z"
   },
   {
    "duration": 11,
    "start_time": "2022-05-14T16:53:27.324Z"
   },
   {
    "duration": 18,
    "start_time": "2022-05-14T16:54:34.391Z"
   },
   {
    "duration": 20,
    "start_time": "2022-05-14T16:55:01.259Z"
   },
   {
    "duration": 20,
    "start_time": "2022-05-14T16:56:10.803Z"
   },
   {
    "duration": 25,
    "start_time": "2022-05-14T17:17:06.733Z"
   },
   {
    "duration": 20,
    "start_time": "2022-05-14T17:20:15.505Z"
   },
   {
    "duration": 129,
    "start_time": "2022-05-14T17:21:09.296Z"
   },
   {
    "duration": 30,
    "start_time": "2022-05-14T17:21:09.428Z"
   },
   {
    "duration": 22,
    "start_time": "2022-05-14T17:21:09.460Z"
   },
   {
    "duration": 244,
    "start_time": "2022-05-14T17:21:09.484Z"
   },
   {
    "duration": 3,
    "start_time": "2022-05-14T17:21:09.731Z"
   },
   {
    "duration": 18,
    "start_time": "2022-05-14T17:21:09.736Z"
   },
   {
    "duration": 105,
    "start_time": "2022-05-14T17:21:09.756Z"
   },
   {
    "duration": 14,
    "start_time": "2022-05-14T17:21:09.863Z"
   },
   {
    "duration": 47,
    "start_time": "2022-05-14T17:21:09.879Z"
   },
   {
    "duration": 15,
    "start_time": "2022-05-14T17:28:29.244Z"
   },
   {
    "duration": 20,
    "start_time": "2022-05-14T17:30:13.982Z"
   },
   {
    "duration": 121,
    "start_time": "2022-05-14T17:30:33.346Z"
   },
   {
    "duration": 26,
    "start_time": "2022-05-14T17:30:33.469Z"
   },
   {
    "duration": 34,
    "start_time": "2022-05-14T17:30:33.496Z"
   },
   {
    "duration": 19,
    "start_time": "2022-05-14T17:30:33.532Z"
   },
   {
    "duration": 3,
    "start_time": "2022-05-14T17:30:33.552Z"
   },
   {
    "duration": 16,
    "start_time": "2022-05-14T17:30:33.556Z"
   },
   {
    "duration": 79,
    "start_time": "2022-05-14T17:30:33.574Z"
   },
   {
    "duration": 9,
    "start_time": "2022-05-14T17:30:33.655Z"
   },
   {
    "duration": 21,
    "start_time": "2022-05-14T17:30:33.666Z"
   },
   {
    "duration": 179,
    "start_time": "2022-05-14T17:31:15.274Z"
   },
   {
    "duration": 40,
    "start_time": "2022-05-14T17:31:15.456Z"
   },
   {
    "duration": 37,
    "start_time": "2022-05-14T17:31:15.498Z"
   },
   {
    "duration": 15,
    "start_time": "2022-05-14T17:31:15.538Z"
   },
   {
    "duration": 2,
    "start_time": "2022-05-14T17:31:15.555Z"
   },
   {
    "duration": 16,
    "start_time": "2022-05-14T17:31:15.559Z"
   },
   {
    "duration": 96,
    "start_time": "2022-05-14T17:31:15.577Z"
   },
   {
    "duration": 12,
    "start_time": "2022-05-14T17:31:15.674Z"
   },
   {
    "duration": 42,
    "start_time": "2022-05-14T17:31:15.688Z"
   },
   {
    "duration": 565,
    "start_time": "2022-05-15T10:13:00.371Z"
   },
   {
    "duration": 34,
    "start_time": "2022-05-15T10:13:00.937Z"
   },
   {
    "duration": 21,
    "start_time": "2022-05-15T10:13:00.973Z"
   },
   {
    "duration": 13,
    "start_time": "2022-05-15T10:13:00.996Z"
   },
   {
    "duration": 11,
    "start_time": "2022-05-15T10:13:01.010Z"
   },
   {
    "duration": 41,
    "start_time": "2022-05-15T10:13:01.022Z"
   },
   {
    "duration": 49,
    "start_time": "2022-05-15T10:13:01.064Z"
   },
   {
    "duration": 9,
    "start_time": "2022-05-15T10:13:01.115Z"
   },
   {
    "duration": 40,
    "start_time": "2022-05-15T10:13:01.125Z"
   },
   {
    "duration": 58,
    "start_time": "2022-05-15T10:30:23.806Z"
   },
   {
    "duration": 13,
    "start_time": "2022-05-15T10:30:43.284Z"
   },
   {
    "duration": 13,
    "start_time": "2022-05-15T10:31:55.566Z"
   },
   {
    "duration": 16,
    "start_time": "2022-05-15T10:32:36.776Z"
   },
   {
    "duration": 27,
    "start_time": "2022-05-15T10:33:01.808Z"
   },
   {
    "duration": 113,
    "start_time": "2022-05-15T10:34:15.497Z"
   },
   {
    "duration": 111,
    "start_time": "2022-05-15T10:37:58.622Z"
   },
   {
    "duration": 27,
    "start_time": "2022-05-15T10:41:58.177Z"
   },
   {
    "duration": 30,
    "start_time": "2022-05-15T10:43:31.217Z"
   },
   {
    "duration": 30,
    "start_time": "2022-05-15T10:55:41.254Z"
   },
   {
    "duration": 29,
    "start_time": "2022-05-15T10:56:18.560Z"
   },
   {
    "duration": 28,
    "start_time": "2022-05-15T10:59:47.521Z"
   },
   {
    "duration": 110,
    "start_time": "2022-05-15T11:12:02.003Z"
   },
   {
    "duration": 1633,
    "start_time": "2022-05-15T11:14:34.515Z"
   },
   {
    "duration": 1639,
    "start_time": "2022-05-15T11:14:56.645Z"
   },
   {
    "duration": 1766,
    "start_time": "2022-05-15T11:16:48.128Z"
   },
   {
    "duration": 105,
    "start_time": "2022-05-15T11:16:59.249Z"
   },
   {
    "duration": 24,
    "start_time": "2022-05-15T11:16:59.363Z"
   },
   {
    "duration": 19,
    "start_time": "2022-05-15T11:16:59.389Z"
   },
   {
    "duration": 13,
    "start_time": "2022-05-15T11:16:59.410Z"
   },
   {
    "duration": 70,
    "start_time": "2022-05-15T11:17:02.129Z"
   },
   {
    "duration": 1616,
    "start_time": "2022-05-15T11:17:08.426Z"
   },
   {
    "duration": 102,
    "start_time": "2022-05-15T11:17:14.649Z"
   },
   {
    "duration": 23,
    "start_time": "2022-05-15T11:17:14.761Z"
   },
   {
    "duration": 21,
    "start_time": "2022-05-15T11:17:14.786Z"
   },
   {
    "duration": 14,
    "start_time": "2022-05-15T11:17:14.810Z"
   },
   {
    "duration": 50,
    "start_time": "2022-05-15T11:17:17.128Z"
   },
   {
    "duration": 1668,
    "start_time": "2022-05-15T11:17:49.952Z"
   },
   {
    "duration": 105,
    "start_time": "2022-05-15T11:17:54.733Z"
   },
   {
    "duration": 35,
    "start_time": "2022-05-15T11:17:54.841Z"
   },
   {
    "duration": 21,
    "start_time": "2022-05-15T11:17:54.878Z"
   },
   {
    "duration": 17,
    "start_time": "2022-05-15T11:17:54.901Z"
   },
   {
    "duration": 14,
    "start_time": "2022-05-15T11:17:57.753Z"
   },
   {
    "duration": 53,
    "start_time": "2022-05-15T11:18:00.482Z"
   },
   {
    "duration": 1867,
    "start_time": "2022-05-15T11:18:43.852Z"
   },
   {
    "duration": 154,
    "start_time": "2022-05-15T11:18:49.136Z"
   },
   {
    "duration": 32,
    "start_time": "2022-05-15T11:18:49.292Z"
   },
   {
    "duration": 42,
    "start_time": "2022-05-15T11:18:49.326Z"
   },
   {
    "duration": 16,
    "start_time": "2022-05-15T11:18:49.370Z"
   },
   {
    "duration": 66,
    "start_time": "2022-05-15T11:18:52.737Z"
   },
   {
    "duration": 108,
    "start_time": "2022-05-15T11:22:03.087Z"
   },
   {
    "duration": 21,
    "start_time": "2022-05-15T11:22:03.197Z"
   },
   {
    "duration": 44,
    "start_time": "2022-05-15T11:22:03.219Z"
   },
   {
    "duration": 14,
    "start_time": "2022-05-15T11:22:03.265Z"
   },
   {
    "duration": 43,
    "start_time": "2022-05-15T11:22:03.281Z"
   },
   {
    "duration": 0,
    "start_time": "2022-05-15T11:22:03.326Z"
   },
   {
    "duration": 0,
    "start_time": "2022-05-15T11:22:03.328Z"
   },
   {
    "duration": 0,
    "start_time": "2022-05-15T11:22:03.329Z"
   },
   {
    "duration": 0,
    "start_time": "2022-05-15T11:22:03.330Z"
   },
   {
    "duration": 0,
    "start_time": "2022-05-15T11:22:03.332Z"
   },
   {
    "duration": 109,
    "start_time": "2022-05-15T11:22:50.386Z"
   },
   {
    "duration": 22,
    "start_time": "2022-05-15T11:22:50.498Z"
   },
   {
    "duration": 51,
    "start_time": "2022-05-15T11:22:50.522Z"
   },
   {
    "duration": 14,
    "start_time": "2022-05-15T11:22:50.576Z"
   },
   {
    "duration": 88,
    "start_time": "2022-05-15T11:22:50.591Z"
   },
   {
    "duration": 3,
    "start_time": "2022-05-15T11:22:50.680Z"
   },
   {
    "duration": 22,
    "start_time": "2022-05-15T11:22:50.684Z"
   },
   {
    "duration": 68,
    "start_time": "2022-05-15T11:22:50.707Z"
   },
   {
    "duration": 9,
    "start_time": "2022-05-15T11:22:50.777Z"
   },
   {
    "duration": 18,
    "start_time": "2022-05-15T11:22:50.788Z"
   },
   {
    "duration": 1601,
    "start_time": "2022-05-15T11:32:24.410Z"
   },
   {
    "duration": 1705,
    "start_time": "2022-05-15T11:32:35.630Z"
   },
   {
    "duration": 99,
    "start_time": "2022-05-15T11:32:40.083Z"
   },
   {
    "duration": 22,
    "start_time": "2022-05-15T11:32:40.184Z"
   },
   {
    "duration": 17,
    "start_time": "2022-05-15T11:32:40.208Z"
   },
   {
    "duration": 36,
    "start_time": "2022-05-15T11:32:40.227Z"
   },
   {
    "duration": 51,
    "start_time": "2022-05-15T11:32:40.265Z"
   },
   {
    "duration": 3,
    "start_time": "2022-05-15T11:32:40.317Z"
   },
   {
    "duration": 20,
    "start_time": "2022-05-15T11:32:40.321Z"
   },
   {
    "duration": 65,
    "start_time": "2022-05-15T11:32:40.342Z"
   },
   {
    "duration": 8,
    "start_time": "2022-05-15T11:32:40.409Z"
   },
   {
    "duration": 27,
    "start_time": "2022-05-15T11:32:40.418Z"
   },
   {
    "duration": 1830,
    "start_time": "2022-05-15T11:34:21.780Z"
   },
   {
    "duration": 134,
    "start_time": "2022-05-15T11:34:29.499Z"
   },
   {
    "duration": 43,
    "start_time": "2022-05-15T11:34:29.635Z"
   },
   {
    "duration": 22,
    "start_time": "2022-05-15T11:34:29.679Z"
   },
   {
    "duration": 14,
    "start_time": "2022-05-15T11:34:29.703Z"
   },
   {
    "duration": 89,
    "start_time": "2022-05-15T11:34:29.718Z"
   },
   {
    "duration": 3,
    "start_time": "2022-05-15T11:34:29.808Z"
   },
   {
    "duration": 19,
    "start_time": "2022-05-15T11:34:29.812Z"
   },
   {
    "duration": 69,
    "start_time": "2022-05-15T11:34:29.832Z"
   },
   {
    "duration": 7,
    "start_time": "2022-05-15T11:34:29.903Z"
   },
   {
    "duration": 37,
    "start_time": "2022-05-15T11:34:29.913Z"
   },
   {
    "duration": 1682,
    "start_time": "2022-05-15T11:37:41.200Z"
   },
   {
    "duration": 113,
    "start_time": "2022-05-15T11:37:46.816Z"
   },
   {
    "duration": 36,
    "start_time": "2022-05-15T11:37:46.931Z"
   },
   {
    "duration": 21,
    "start_time": "2022-05-15T11:37:46.970Z"
   },
   {
    "duration": 13,
    "start_time": "2022-05-15T11:37:46.992Z"
   },
   {
    "duration": 124,
    "start_time": "2022-05-15T11:37:47.006Z"
   },
   {
    "duration": 3,
    "start_time": "2022-05-15T11:37:47.132Z"
   },
   {
    "duration": 33,
    "start_time": "2022-05-15T11:37:47.137Z"
   },
   {
    "duration": 48,
    "start_time": "2022-05-15T11:37:47.172Z"
   },
   {
    "duration": 8,
    "start_time": "2022-05-15T11:37:47.222Z"
   },
   {
    "duration": 48,
    "start_time": "2022-05-15T11:37:47.233Z"
   },
   {
    "duration": 1898,
    "start_time": "2022-05-15T11:38:37.429Z"
   },
   {
    "duration": 116,
    "start_time": "2022-05-15T11:38:42.485Z"
   },
   {
    "duration": 22,
    "start_time": "2022-05-15T11:38:42.603Z"
   },
   {
    "duration": 44,
    "start_time": "2022-05-15T11:38:42.627Z"
   },
   {
    "duration": 30,
    "start_time": "2022-05-15T11:38:42.673Z"
   },
   {
    "duration": 101,
    "start_time": "2022-05-15T11:38:42.705Z"
   },
   {
    "duration": 2,
    "start_time": "2022-05-15T11:38:42.807Z"
   },
   {
    "duration": 74,
    "start_time": "2022-05-15T11:38:42.811Z"
   },
   {
    "duration": 72,
    "start_time": "2022-05-15T11:38:42.886Z"
   },
   {
    "duration": 19,
    "start_time": "2022-05-15T11:38:42.959Z"
   },
   {
    "duration": 25,
    "start_time": "2022-05-15T11:38:42.980Z"
   },
   {
    "duration": 114,
    "start_time": "2022-05-15T11:40:01.581Z"
   },
   {
    "duration": 23,
    "start_time": "2022-05-15T11:40:01.698Z"
   },
   {
    "duration": 44,
    "start_time": "2022-05-15T11:40:01.722Z"
   },
   {
    "duration": 18,
    "start_time": "2022-05-15T11:40:01.769Z"
   },
   {
    "duration": 57,
    "start_time": "2022-05-15T11:40:01.789Z"
   },
   {
    "duration": 4,
    "start_time": "2022-05-15T11:40:01.866Z"
   },
   {
    "duration": 36,
    "start_time": "2022-05-15T11:40:01.872Z"
   },
   {
    "duration": 56,
    "start_time": "2022-05-15T11:40:01.910Z"
   },
   {
    "duration": 14,
    "start_time": "2022-05-15T11:40:01.968Z"
   },
   {
    "duration": 38,
    "start_time": "2022-05-15T11:40:01.984Z"
   },
   {
    "duration": 23,
    "start_time": "2022-05-15T11:50:50.576Z"
   },
   {
    "duration": 101,
    "start_time": "2022-05-15T11:50:55.003Z"
   },
   {
    "duration": 22,
    "start_time": "2022-05-15T11:50:55.106Z"
   },
   {
    "duration": 39,
    "start_time": "2022-05-15T11:50:55.129Z"
   },
   {
    "duration": 12,
    "start_time": "2022-05-15T11:50:55.170Z"
   },
   {
    "duration": 24,
    "start_time": "2022-05-15T11:50:55.184Z"
   },
   {
    "duration": 0,
    "start_time": "2022-05-15T11:50:55.210Z"
   },
   {
    "duration": 0,
    "start_time": "2022-05-15T11:50:55.211Z"
   },
   {
    "duration": 0,
    "start_time": "2022-05-15T11:50:55.212Z"
   },
   {
    "duration": 0,
    "start_time": "2022-05-15T11:50:55.213Z"
   },
   {
    "duration": 0,
    "start_time": "2022-05-15T11:50:55.214Z"
   },
   {
    "duration": 50,
    "start_time": "2022-05-15T11:51:39.820Z"
   },
   {
    "duration": 118,
    "start_time": "2022-05-15T12:10:47.516Z"
   },
   {
    "duration": 1827,
    "start_time": "2022-05-15T12:11:11.436Z"
   },
   {
    "duration": 110,
    "start_time": "2022-05-15T12:11:23.482Z"
   },
   {
    "duration": 23,
    "start_time": "2022-05-15T12:11:23.593Z"
   },
   {
    "duration": 17,
    "start_time": "2022-05-15T12:11:23.618Z"
   },
   {
    "duration": 35,
    "start_time": "2022-05-15T12:11:23.637Z"
   },
   {
    "duration": 31,
    "start_time": "2022-05-15T12:11:23.673Z"
   },
   {
    "duration": 2,
    "start_time": "2022-05-15T12:11:23.706Z"
   },
   {
    "duration": 18,
    "start_time": "2022-05-15T12:11:23.709Z"
   },
   {
    "duration": 72,
    "start_time": "2022-05-15T12:11:23.728Z"
   },
   {
    "duration": 9,
    "start_time": "2022-05-15T12:11:23.801Z"
   },
   {
    "duration": 17,
    "start_time": "2022-05-15T12:11:23.812Z"
   },
   {
    "duration": 34,
    "start_time": "2022-05-15T12:15:26.083Z"
   },
   {
    "duration": 42,
    "start_time": "2022-05-15T12:15:45.052Z"
   },
   {
    "duration": 55,
    "start_time": "2022-05-15T12:18:50.387Z"
   },
   {
    "duration": 52,
    "start_time": "2022-05-15T12:20:48.691Z"
   },
   {
    "duration": 37,
    "start_time": "2022-05-15T12:22:11.084Z"
   },
   {
    "duration": 50,
    "start_time": "2022-05-15T12:22:24.715Z"
   },
   {
    "duration": 49,
    "start_time": "2022-05-15T12:22:48.706Z"
   },
   {
    "duration": 66,
    "start_time": "2022-05-15T12:23:12.197Z"
   },
   {
    "duration": 43,
    "start_time": "2022-05-15T12:24:13.193Z"
   },
   {
    "duration": 36,
    "start_time": "2022-05-15T12:25:13.037Z"
   },
   {
    "duration": 34,
    "start_time": "2022-05-15T12:25:49.769Z"
   },
   {
    "duration": 34,
    "start_time": "2022-05-15T12:26:40.379Z"
   },
   {
    "duration": 114,
    "start_time": "2022-05-15T12:28:19.309Z"
   },
   {
    "duration": 84,
    "start_time": "2022-05-15T12:29:03.634Z"
   },
   {
    "duration": 38,
    "start_time": "2022-05-15T12:29:18.206Z"
   },
   {
    "duration": 40,
    "start_time": "2022-05-15T12:32:54.583Z"
   },
   {
    "duration": 41,
    "start_time": "2022-05-15T12:34:18.408Z"
   },
   {
    "duration": 68,
    "start_time": "2022-05-15T12:45:49.978Z"
   },
   {
    "duration": 5,
    "start_time": "2022-05-15T12:46:37.455Z"
   },
   {
    "duration": 79,
    "start_time": "2022-05-15T12:46:51.452Z"
   },
   {
    "duration": 83,
    "start_time": "2022-05-15T12:47:32.211Z"
   },
   {
    "duration": 46,
    "start_time": "2022-05-15T13:26:09.487Z"
   },
   {
    "duration": 1733,
    "start_time": "2022-05-15T13:27:56.223Z"
   },
   {
    "duration": 102,
    "start_time": "2022-05-15T13:28:16.424Z"
   },
   {
    "duration": 23,
    "start_time": "2022-05-15T13:28:16.528Z"
   },
   {
    "duration": 20,
    "start_time": "2022-05-15T13:28:16.562Z"
   },
   {
    "duration": 12,
    "start_time": "2022-05-15T13:28:16.584Z"
   },
   {
    "duration": 31,
    "start_time": "2022-05-15T13:28:16.598Z"
   },
   {
    "duration": 3,
    "start_time": "2022-05-15T13:28:16.662Z"
   },
   {
    "duration": 17,
    "start_time": "2022-05-15T13:28:16.667Z"
   },
   {
    "duration": 58,
    "start_time": "2022-05-15T13:28:16.685Z"
   },
   {
    "duration": 9,
    "start_time": "2022-05-15T13:28:16.763Z"
   },
   {
    "duration": 17,
    "start_time": "2022-05-15T13:28:16.775Z"
   },
   {
    "duration": 1771,
    "start_time": "2022-05-15T13:30:18.315Z"
   },
   {
    "duration": 163,
    "start_time": "2022-05-15T13:30:23.841Z"
   },
   {
    "duration": 38,
    "start_time": "2022-05-15T13:30:24.007Z"
   },
   {
    "duration": 38,
    "start_time": "2022-05-15T13:30:24.047Z"
   },
   {
    "duration": 18,
    "start_time": "2022-05-15T13:30:24.087Z"
   },
   {
    "duration": 76,
    "start_time": "2022-05-15T13:30:24.108Z"
   },
   {
    "duration": 3,
    "start_time": "2022-05-15T13:30:24.186Z"
   },
   {
    "duration": 35,
    "start_time": "2022-05-15T13:30:24.191Z"
   },
   {
    "duration": 82,
    "start_time": "2022-05-15T13:30:24.228Z"
   },
   {
    "duration": 9,
    "start_time": "2022-05-15T13:30:24.312Z"
   },
   {
    "duration": 27,
    "start_time": "2022-05-15T13:30:24.322Z"
   },
   {
    "duration": 1813,
    "start_time": "2022-05-15T13:31:14.732Z"
   },
   {
    "duration": 107,
    "start_time": "2022-05-15T13:31:23.408Z"
   },
   {
    "duration": 23,
    "start_time": "2022-05-15T13:31:23.517Z"
   },
   {
    "duration": 37,
    "start_time": "2022-05-15T13:31:23.542Z"
   },
   {
    "duration": 29,
    "start_time": "2022-05-15T13:31:23.581Z"
   },
   {
    "duration": 40,
    "start_time": "2022-05-15T13:31:23.612Z"
   },
   {
    "duration": 8,
    "start_time": "2022-05-15T13:31:23.654Z"
   },
   {
    "duration": 34,
    "start_time": "2022-05-15T13:31:23.664Z"
   },
   {
    "duration": 82,
    "start_time": "2022-05-15T13:31:23.700Z"
   },
   {
    "duration": 9,
    "start_time": "2022-05-15T13:31:23.784Z"
   },
   {
    "duration": 19,
    "start_time": "2022-05-15T13:31:23.796Z"
   },
   {
    "duration": 103,
    "start_time": "2022-05-15T13:36:43.943Z"
   },
   {
    "duration": 1735,
    "start_time": "2022-05-15T13:36:52.739Z"
   },
   {
    "duration": 107,
    "start_time": "2022-05-15T13:36:57.311Z"
   },
   {
    "duration": 24,
    "start_time": "2022-05-15T13:36:57.419Z"
   },
   {
    "duration": 33,
    "start_time": "2022-05-15T13:36:57.445Z"
   },
   {
    "duration": 14,
    "start_time": "2022-05-15T13:36:57.480Z"
   },
   {
    "duration": 35,
    "start_time": "2022-05-15T13:36:57.496Z"
   },
   {
    "duration": 31,
    "start_time": "2022-05-15T13:36:57.532Z"
   },
   {
    "duration": 28,
    "start_time": "2022-05-15T13:36:57.565Z"
   },
   {
    "duration": 69,
    "start_time": "2022-05-15T13:36:57.594Z"
   },
   {
    "duration": 0,
    "start_time": "2022-05-15T13:36:57.664Z"
   },
   {
    "duration": 0,
    "start_time": "2022-05-15T13:36:57.666Z"
   },
   {
    "duration": 1747,
    "start_time": "2022-05-15T13:38:12.468Z"
   },
   {
    "duration": 197,
    "start_time": "2022-05-15T13:38:17.688Z"
   },
   {
    "duration": 55,
    "start_time": "2022-05-15T13:38:17.888Z"
   },
   {
    "duration": 38,
    "start_time": "2022-05-15T13:38:17.962Z"
   },
   {
    "duration": 14,
    "start_time": "2022-05-15T13:38:18.002Z"
   },
   {
    "duration": 79,
    "start_time": "2022-05-15T13:38:18.018Z"
   },
   {
    "duration": 3,
    "start_time": "2022-05-15T13:38:18.099Z"
   },
   {
    "duration": 25,
    "start_time": "2022-05-15T13:38:18.105Z"
   },
   {
    "duration": 88,
    "start_time": "2022-05-15T13:38:18.132Z"
   },
   {
    "duration": 0,
    "start_time": "2022-05-15T13:38:18.221Z"
   },
   {
    "duration": 0,
    "start_time": "2022-05-15T13:38:18.223Z"
   },
   {
    "duration": 116,
    "start_time": "2022-05-15T13:40:07.847Z"
   },
   {
    "duration": 1780,
    "start_time": "2022-05-15T13:40:28.418Z"
   },
   {
    "duration": 112,
    "start_time": "2022-05-15T13:40:33.044Z"
   },
   {
    "duration": 39,
    "start_time": "2022-05-15T13:40:33.163Z"
   },
   {
    "duration": 26,
    "start_time": "2022-05-15T13:40:33.205Z"
   },
   {
    "duration": 44,
    "start_time": "2022-05-15T13:40:33.234Z"
   },
   {
    "duration": 56,
    "start_time": "2022-05-15T13:40:33.280Z"
   },
   {
    "duration": 24,
    "start_time": "2022-05-15T13:40:33.339Z"
   },
   {
    "duration": 18,
    "start_time": "2022-05-15T13:40:33.365Z"
   },
   {
    "duration": 91,
    "start_time": "2022-05-15T13:40:33.385Z"
   },
   {
    "duration": 0,
    "start_time": "2022-05-15T13:40:33.478Z"
   },
   {
    "duration": 0,
    "start_time": "2022-05-15T13:40:33.479Z"
   },
   {
    "duration": 1715,
    "start_time": "2022-05-15T13:41:21.019Z"
   },
   {
    "duration": 110,
    "start_time": "2022-05-15T13:41:25.165Z"
   },
   {
    "duration": 41,
    "start_time": "2022-05-15T13:41:25.278Z"
   },
   {
    "duration": 47,
    "start_time": "2022-05-15T13:41:25.321Z"
   },
   {
    "duration": 14,
    "start_time": "2022-05-15T13:41:25.370Z"
   },
   {
    "duration": 77,
    "start_time": "2022-05-15T13:41:25.387Z"
   },
   {
    "duration": 3,
    "start_time": "2022-05-15T13:41:25.467Z"
   },
   {
    "duration": 19,
    "start_time": "2022-05-15T13:41:25.472Z"
   },
   {
    "duration": 100,
    "start_time": "2022-05-15T13:41:25.493Z"
   },
   {
    "duration": 0,
    "start_time": "2022-05-15T13:41:25.595Z"
   },
   {
    "duration": 0,
    "start_time": "2022-05-15T13:41:25.596Z"
   },
   {
    "duration": 1735,
    "start_time": "2022-05-15T13:42:18.256Z"
   },
   {
    "duration": 116,
    "start_time": "2022-05-15T13:46:08.030Z"
   },
   {
    "duration": 35,
    "start_time": "2022-05-15T13:46:08.147Z"
   },
   {
    "duration": 19,
    "start_time": "2022-05-15T13:46:08.184Z"
   },
   {
    "duration": 13,
    "start_time": "2022-05-15T13:46:08.205Z"
   },
   {
    "duration": 70,
    "start_time": "2022-05-15T13:46:08.219Z"
   },
   {
    "duration": 2,
    "start_time": "2022-05-15T13:46:08.291Z"
   },
   {
    "duration": 18,
    "start_time": "2022-05-15T13:46:08.294Z"
   },
   {
    "duration": 92,
    "start_time": "2022-05-15T13:46:08.313Z"
   },
   {
    "duration": 0,
    "start_time": "2022-05-15T13:46:08.407Z"
   },
   {
    "duration": 0,
    "start_time": "2022-05-15T13:46:08.408Z"
   },
   {
    "duration": 191,
    "start_time": "2022-05-15T14:01:29.385Z"
   },
   {
    "duration": 40,
    "start_time": "2022-05-15T14:01:29.579Z"
   },
   {
    "duration": 45,
    "start_time": "2022-05-15T14:01:29.622Z"
   },
   {
    "duration": 14,
    "start_time": "2022-05-15T14:01:29.669Z"
   },
   {
    "duration": 48,
    "start_time": "2022-05-15T14:01:29.685Z"
   },
   {
    "duration": 27,
    "start_time": "2022-05-15T14:01:29.736Z"
   },
   {
    "duration": 23,
    "start_time": "2022-05-15T14:01:29.765Z"
   },
   {
    "duration": 83,
    "start_time": "2022-05-15T14:01:29.790Z"
   },
   {
    "duration": 13,
    "start_time": "2022-05-15T14:01:29.875Z"
   },
   {
    "duration": 30,
    "start_time": "2022-05-15T14:01:29.891Z"
   },
   {
    "duration": 1728,
    "start_time": "2022-05-15T16:09:46.197Z"
   },
   {
    "duration": 110,
    "start_time": "2022-05-15T16:10:31.236Z"
   },
   {
    "duration": 37,
    "start_time": "2022-05-15T16:10:31.348Z"
   },
   {
    "duration": 19,
    "start_time": "2022-05-15T16:10:31.387Z"
   },
   {
    "duration": 23,
    "start_time": "2022-05-15T16:10:31.408Z"
   },
   {
    "duration": 59,
    "start_time": "2022-05-15T16:10:31.432Z"
   },
   {
    "duration": 3,
    "start_time": "2022-05-15T16:10:31.492Z"
   },
   {
    "duration": 23,
    "start_time": "2022-05-15T16:10:31.496Z"
   },
   {
    "duration": 52,
    "start_time": "2022-05-15T16:10:31.521Z"
   },
   {
    "duration": 10,
    "start_time": "2022-05-15T16:10:31.574Z"
   },
   {
    "duration": 24,
    "start_time": "2022-05-15T16:10:31.586Z"
   },
   {
    "duration": 7,
    "start_time": "2022-05-15T16:15:22.432Z"
   },
   {
    "duration": 5,
    "start_time": "2022-05-15T16:15:36.779Z"
   },
   {
    "duration": 157,
    "start_time": "2022-05-15T16:15:53.579Z"
   },
   {
    "duration": 47,
    "start_time": "2022-05-15T16:15:53.738Z"
   },
   {
    "duration": 30,
    "start_time": "2022-05-15T16:15:53.787Z"
   },
   {
    "duration": 48,
    "start_time": "2022-05-15T16:15:53.819Z"
   },
   {
    "duration": 38,
    "start_time": "2022-05-15T16:15:53.869Z"
   },
   {
    "duration": 3,
    "start_time": "2022-05-15T16:15:53.909Z"
   },
   {
    "duration": 22,
    "start_time": "2022-05-15T16:15:53.914Z"
   },
   {
    "duration": 36,
    "start_time": "2022-05-15T16:15:53.938Z"
   },
   {
    "duration": 42,
    "start_time": "2022-05-15T16:15:53.976Z"
   },
   {
    "duration": 9,
    "start_time": "2022-05-15T16:15:54.021Z"
   },
   {
    "duration": 42,
    "start_time": "2022-05-15T16:15:54.032Z"
   },
   {
    "duration": 1709,
    "start_time": "2022-05-15T16:47:02.133Z"
   },
   {
    "duration": 102,
    "start_time": "2022-05-15T16:47:06.770Z"
   },
   {
    "duration": 23,
    "start_time": "2022-05-15T16:47:06.874Z"
   },
   {
    "duration": 18,
    "start_time": "2022-05-15T16:47:06.899Z"
   },
   {
    "duration": 45,
    "start_time": "2022-05-15T16:47:06.919Z"
   },
   {
    "duration": 32,
    "start_time": "2022-05-15T16:47:06.965Z"
   },
   {
    "duration": 2,
    "start_time": "2022-05-15T16:47:06.999Z"
   },
   {
    "duration": 17,
    "start_time": "2022-05-15T16:47:07.003Z"
   },
   {
    "duration": 64,
    "start_time": "2022-05-15T16:47:07.022Z"
   },
   {
    "duration": 11,
    "start_time": "2022-05-15T16:47:07.087Z"
   },
   {
    "duration": 20,
    "start_time": "2022-05-15T16:47:07.100Z"
   },
   {
    "duration": 105,
    "start_time": "2022-05-15T16:56:55.401Z"
   },
   {
    "duration": 102,
    "start_time": "2022-05-15T16:57:05.562Z"
   },
   {
    "duration": 22,
    "start_time": "2022-05-15T16:57:05.666Z"
   },
   {
    "duration": 19,
    "start_time": "2022-05-15T16:57:05.690Z"
   },
   {
    "duration": 13,
    "start_time": "2022-05-15T16:57:05.711Z"
   },
   {
    "duration": 64,
    "start_time": "2022-05-15T16:57:05.726Z"
   },
   {
    "duration": 3,
    "start_time": "2022-05-15T16:57:05.793Z"
   },
   {
    "duration": 21,
    "start_time": "2022-05-15T16:57:05.798Z"
   },
   {
    "duration": 77,
    "start_time": "2022-05-15T16:57:05.821Z"
   },
   {
    "duration": 13,
    "start_time": "2022-05-15T16:57:05.900Z"
   },
   {
    "duration": 99,
    "start_time": "2022-05-15T16:57:05.916Z"
   },
   {
    "duration": 0,
    "start_time": "2022-05-15T16:57:06.017Z"
   },
   {
    "duration": 18,
    "start_time": "2022-05-15T16:57:19.467Z"
   },
   {
    "duration": 19,
    "start_time": "2022-05-15T16:57:36.715Z"
   },
   {
    "duration": 164,
    "start_time": "2022-05-15T16:58:24.974Z"
   },
   {
    "duration": 41,
    "start_time": "2022-05-15T16:58:25.141Z"
   },
   {
    "duration": 29,
    "start_time": "2022-05-15T16:58:25.185Z"
   },
   {
    "duration": 13,
    "start_time": "2022-05-15T16:58:25.216Z"
   },
   {
    "duration": 57,
    "start_time": "2022-05-15T16:58:25.230Z"
   },
   {
    "duration": 3,
    "start_time": "2022-05-15T16:58:25.289Z"
   },
   {
    "duration": 17,
    "start_time": "2022-05-15T16:58:25.294Z"
   },
   {
    "duration": 61,
    "start_time": "2022-05-15T16:58:25.312Z"
   },
   {
    "duration": 9,
    "start_time": "2022-05-15T16:58:25.374Z"
   },
   {
    "duration": 20,
    "start_time": "2022-05-15T16:58:25.385Z"
   },
   {
    "duration": 19,
    "start_time": "2022-05-15T16:58:25.407Z"
   },
   {
    "duration": 12,
    "start_time": "2022-05-15T16:59:22.807Z"
   },
   {
    "duration": 11,
    "start_time": "2022-05-15T17:07:29.634Z"
   },
   {
    "duration": 13,
    "start_time": "2022-05-15T17:10:00.228Z"
   },
   {
    "duration": 12,
    "start_time": "2022-05-15T17:10:09.175Z"
   },
   {
    "duration": 192,
    "start_time": "2022-05-15T17:10:13.133Z"
   },
   {
    "duration": 46,
    "start_time": "2022-05-15T17:10:13.328Z"
   },
   {
    "duration": 27,
    "start_time": "2022-05-15T17:10:13.376Z"
   },
   {
    "duration": 15,
    "start_time": "2022-05-15T17:10:13.406Z"
   },
   {
    "duration": 68,
    "start_time": "2022-05-15T17:10:13.422Z"
   },
   {
    "duration": 3,
    "start_time": "2022-05-15T17:10:13.491Z"
   },
   {
    "duration": 17,
    "start_time": "2022-05-15T17:10:13.496Z"
   },
   {
    "duration": 59,
    "start_time": "2022-05-15T17:10:13.515Z"
   },
   {
    "duration": 10,
    "start_time": "2022-05-15T17:10:13.577Z"
   },
   {
    "duration": 14,
    "start_time": "2022-05-15T17:10:13.589Z"
   },
   {
    "duration": 10,
    "start_time": "2022-05-15T17:10:13.604Z"
   },
   {
    "duration": 503,
    "start_time": "2022-05-16T04:35:08.013Z"
   },
   {
    "duration": 24,
    "start_time": "2022-05-16T04:35:08.518Z"
   },
   {
    "duration": 45,
    "start_time": "2022-05-16T04:35:08.544Z"
   },
   {
    "duration": 14,
    "start_time": "2022-05-16T04:35:08.591Z"
   },
   {
    "duration": 39,
    "start_time": "2022-05-16T04:35:08.607Z"
   },
   {
    "duration": 2,
    "start_time": "2022-05-16T04:35:08.647Z"
   },
   {
    "duration": 41,
    "start_time": "2022-05-16T04:35:08.651Z"
   },
   {
    "duration": 41,
    "start_time": "2022-05-16T04:35:08.693Z"
   },
   {
    "duration": 9,
    "start_time": "2022-05-16T04:35:08.735Z"
   },
   {
    "duration": 47,
    "start_time": "2022-05-16T04:35:08.746Z"
   },
   {
    "duration": 1328,
    "start_time": "2022-05-16T04:35:11.050Z"
   },
   {
    "duration": 1319,
    "start_time": "2022-05-16T04:36:34.184Z"
   },
   {
    "duration": 1339,
    "start_time": "2022-05-16T04:36:51.563Z"
   },
   {
    "duration": 329,
    "start_time": "2022-05-16T04:39:19.769Z"
   },
   {
    "duration": 173,
    "start_time": "2022-05-16T04:40:07.437Z"
   },
   {
    "duration": 21,
    "start_time": "2022-05-16T04:40:53.991Z"
   },
   {
    "duration": 356,
    "start_time": "2022-05-16T04:41:49.050Z"
   },
   {
    "duration": 33,
    "start_time": "2022-05-16T04:42:31.702Z"
   },
   {
    "duration": 8,
    "start_time": "2022-05-16T05:00:06.524Z"
   },
   {
    "duration": 8,
    "start_time": "2022-05-16T05:00:46.690Z"
   },
   {
    "duration": 14,
    "start_time": "2022-05-16T05:11:44.486Z"
   },
   {
    "duration": 624,
    "start_time": "2022-05-16T05:13:50.693Z"
   },
   {
    "duration": 167,
    "start_time": "2022-05-16T05:14:22.971Z"
   },
   {
    "duration": 176,
    "start_time": "2022-05-16T05:15:20.129Z"
   },
   {
    "duration": 246,
    "start_time": "2022-05-16T05:15:56.465Z"
   },
   {
    "duration": 126,
    "start_time": "2022-05-16T05:16:22.571Z"
   },
   {
    "duration": 125,
    "start_time": "2022-05-16T05:17:21.855Z"
   },
   {
    "duration": 131,
    "start_time": "2022-05-16T05:17:31.535Z"
   },
   {
    "duration": 117,
    "start_time": "2022-05-16T05:19:31.123Z"
   },
   {
    "duration": 25,
    "start_time": "2022-05-16T05:19:31.242Z"
   },
   {
    "duration": 36,
    "start_time": "2022-05-16T05:19:31.268Z"
   },
   {
    "duration": 16,
    "start_time": "2022-05-16T05:19:31.305Z"
   },
   {
    "duration": 65,
    "start_time": "2022-05-16T05:19:31.324Z"
   },
   {
    "duration": 3,
    "start_time": "2022-05-16T05:19:31.391Z"
   },
   {
    "duration": 21,
    "start_time": "2022-05-16T05:19:31.397Z"
   },
   {
    "duration": 37,
    "start_time": "2022-05-16T05:19:31.421Z"
   },
   {
    "duration": 37,
    "start_time": "2022-05-16T05:19:31.460Z"
   },
   {
    "duration": 13,
    "start_time": "2022-05-16T05:19:31.499Z"
   },
   {
    "duration": 33,
    "start_time": "2022-05-16T05:19:31.515Z"
   },
   {
    "duration": 47,
    "start_time": "2022-05-16T05:19:31.550Z"
   },
   {
    "duration": 7,
    "start_time": "2022-05-16T05:19:31.599Z"
   },
   {
    "duration": 9,
    "start_time": "2022-05-16T05:19:31.609Z"
   },
   {
    "duration": 320,
    "start_time": "2022-05-16T05:19:31.620Z"
   },
   {
    "duration": 259,
    "start_time": "2022-05-16T05:19:43.705Z"
   },
   {
    "duration": 268,
    "start_time": "2022-05-16T05:21:59.783Z"
   },
   {
    "duration": 326,
    "start_time": "2022-05-16T05:26:16.322Z"
   },
   {
    "duration": 92,
    "start_time": "2022-05-16T05:32:05.274Z"
   },
   {
    "duration": 261,
    "start_time": "2022-05-16T05:34:22.552Z"
   },
   {
    "duration": 276,
    "start_time": "2022-05-16T05:34:40.659Z"
   },
   {
    "duration": 281,
    "start_time": "2022-05-16T05:35:11.996Z"
   },
   {
    "duration": 277,
    "start_time": "2022-05-16T05:35:27.484Z"
   },
   {
    "duration": 3,
    "start_time": "2022-05-16T05:36:17.709Z"
   },
   {
    "duration": 112,
    "start_time": "2022-05-16T05:37:34.533Z"
   },
   {
    "duration": 25,
    "start_time": "2022-05-16T05:37:34.701Z"
   },
   {
    "duration": 21,
    "start_time": "2022-05-16T05:37:34.728Z"
   },
   {
    "duration": 13,
    "start_time": "2022-05-16T05:37:34.751Z"
   },
   {
    "duration": 56,
    "start_time": "2022-05-16T05:37:34.766Z"
   },
   {
    "duration": 2,
    "start_time": "2022-05-16T05:37:34.824Z"
   },
   {
    "duration": 20,
    "start_time": "2022-05-16T05:37:34.828Z"
   },
   {
    "duration": 62,
    "start_time": "2022-05-16T05:37:34.849Z"
   },
   {
    "duration": 9,
    "start_time": "2022-05-16T05:37:34.913Z"
   },
   {
    "duration": 12,
    "start_time": "2022-05-16T05:37:34.924Z"
   },
   {
    "duration": 58,
    "start_time": "2022-05-16T05:37:34.938Z"
   },
   {
    "duration": 12,
    "start_time": "2022-05-16T05:37:34.998Z"
   },
   {
    "duration": 9,
    "start_time": "2022-05-16T05:37:35.012Z"
   },
   {
    "duration": 8,
    "start_time": "2022-05-16T05:37:35.022Z"
   },
   {
    "duration": 299,
    "start_time": "2022-05-16T05:37:35.031Z"
   },
   {
    "duration": 1333,
    "start_time": "2022-05-16T05:50:22.260Z"
   },
   {
    "duration": 4068,
    "start_time": "2022-05-16T05:50:44.538Z"
   },
   {
    "duration": 1312,
    "start_time": "2022-05-16T05:52:24.260Z"
   },
   {
    "duration": 119,
    "start_time": "2022-05-16T05:53:13.973Z"
   },
   {
    "duration": 27,
    "start_time": "2022-05-16T05:53:14.095Z"
   },
   {
    "duration": 21,
    "start_time": "2022-05-16T05:53:14.124Z"
   },
   {
    "duration": 49,
    "start_time": "2022-05-16T05:53:14.147Z"
   },
   {
    "duration": 32,
    "start_time": "2022-05-16T05:53:14.199Z"
   },
   {
    "duration": 3,
    "start_time": "2022-05-16T05:53:14.232Z"
   },
   {
    "duration": 25,
    "start_time": "2022-05-16T05:53:14.236Z"
   },
   {
    "duration": 57,
    "start_time": "2022-05-16T05:53:14.263Z"
   },
   {
    "duration": 9,
    "start_time": "2022-05-16T05:53:14.322Z"
   },
   {
    "duration": 21,
    "start_time": "2022-05-16T05:53:14.333Z"
   },
   {
    "duration": 67,
    "start_time": "2022-05-16T05:53:14.355Z"
   },
   {
    "duration": 11,
    "start_time": "2022-05-16T05:53:14.423Z"
   },
   {
    "duration": 7,
    "start_time": "2022-05-16T05:53:14.435Z"
   },
   {
    "duration": 6,
    "start_time": "2022-05-16T05:53:14.445Z"
   },
   {
    "duration": 302,
    "start_time": "2022-05-16T05:53:14.453Z"
   },
   {
    "duration": 15,
    "start_time": "2022-05-16T05:55:34.096Z"
   },
   {
    "duration": 73,
    "start_time": "2022-05-16T09:46:25.108Z"
   },
   {
    "duration": 10,
    "start_time": "2022-05-16T09:46:40.606Z"
   },
   {
    "duration": 10,
    "start_time": "2022-05-16T09:50:51.277Z"
   },
   {
    "duration": 1334,
    "start_time": "2022-05-16T09:50:57.983Z"
   },
   {
    "duration": 44,
    "start_time": "2022-05-16T09:50:59.324Z"
   },
   {
    "duration": 60,
    "start_time": "2022-05-16T09:50:59.370Z"
   },
   {
    "duration": 23,
    "start_time": "2022-05-16T09:50:59.434Z"
   },
   {
    "duration": 94,
    "start_time": "2022-05-16T09:50:59.459Z"
   },
   {
    "duration": 3,
    "start_time": "2022-05-16T09:50:59.556Z"
   },
   {
    "duration": 27,
    "start_time": "2022-05-16T09:50:59.562Z"
   },
   {
    "duration": 94,
    "start_time": "2022-05-16T09:50:59.592Z"
   },
   {
    "duration": 41,
    "start_time": "2022-05-16T09:50:59.688Z"
   },
   {
    "duration": 33,
    "start_time": "2022-05-16T09:50:59.734Z"
   },
   {
    "duration": 112,
    "start_time": "2022-05-16T09:50:59.769Z"
   },
   {
    "duration": 10,
    "start_time": "2022-05-16T09:50:59.884Z"
   },
   {
    "duration": 42,
    "start_time": "2022-05-16T09:50:59.896Z"
   },
   {
    "duration": 525,
    "start_time": "2022-05-16T09:50:59.941Z"
   },
   {
    "duration": 17,
    "start_time": "2022-05-16T09:51:00.469Z"
   },
   {
    "duration": 50,
    "start_time": "2022-05-16T09:51:00.488Z"
   },
   {
    "duration": 23,
    "start_time": "2022-05-16T09:51:00.540Z"
   },
   {
    "duration": 2411,
    "start_time": "2022-05-16T09:51:32.438Z"
   },
   {
    "duration": 2350,
    "start_time": "2022-05-16T09:51:42.524Z"
   },
   {
    "duration": 2199,
    "start_time": "2022-05-16T09:55:17.961Z"
   },
   {
    "duration": 28,
    "start_time": "2022-05-16T09:56:17.609Z"
   },
   {
    "duration": 143,
    "start_time": "2022-05-16T09:57:10.520Z"
   },
   {
    "duration": 173,
    "start_time": "2022-05-16T09:57:33.761Z"
   },
   {
    "duration": 39,
    "start_time": "2022-05-16T09:57:33.937Z"
   },
   {
    "duration": 57,
    "start_time": "2022-05-16T09:57:33.978Z"
   },
   {
    "duration": 20,
    "start_time": "2022-05-16T09:57:34.038Z"
   },
   {
    "duration": 90,
    "start_time": "2022-05-16T09:57:34.061Z"
   },
   {
    "duration": 4,
    "start_time": "2022-05-16T09:57:34.153Z"
   },
   {
    "duration": 23,
    "start_time": "2022-05-16T09:57:34.159Z"
   },
   {
    "duration": 88,
    "start_time": "2022-05-16T09:57:34.185Z"
   },
   {
    "duration": 13,
    "start_time": "2022-05-16T09:57:34.276Z"
   },
   {
    "duration": 41,
    "start_time": "2022-05-16T09:57:34.291Z"
   },
   {
    "duration": 68,
    "start_time": "2022-05-16T09:57:34.334Z"
   },
   {
    "duration": 37,
    "start_time": "2022-05-16T09:57:34.404Z"
   },
   {
    "duration": 59,
    "start_time": "2022-05-16T09:57:34.443Z"
   },
   {
    "duration": 598,
    "start_time": "2022-05-16T09:57:34.506Z"
   },
   {
    "duration": 36,
    "start_time": "2022-05-16T09:57:35.106Z"
   },
   {
    "duration": 26,
    "start_time": "2022-05-16T09:57:35.144Z"
   },
   {
    "duration": 141,
    "start_time": "2022-05-16T09:57:35.173Z"
   },
   {
    "duration": 157,
    "start_time": "2022-05-16T09:57:47.517Z"
   },
   {
    "duration": 25,
    "start_time": "2022-05-16T09:58:08.634Z"
   },
   {
    "duration": 12,
    "start_time": "2022-05-16T09:59:28.147Z"
   },
   {
    "duration": 29,
    "start_time": "2022-05-16T09:59:38.358Z"
   },
   {
    "duration": 30,
    "start_time": "2022-05-16T09:59:55.926Z"
   },
   {
    "duration": 1078,
    "start_time": "2022-05-18T03:55:57.285Z"
   },
   {
    "duration": 28,
    "start_time": "2022-05-18T03:55:58.366Z"
   },
   {
    "duration": 46,
    "start_time": "2022-05-18T03:55:58.396Z"
   },
   {
    "duration": 14,
    "start_time": "2022-05-18T03:55:58.444Z"
   },
   {
    "duration": 69,
    "start_time": "2022-05-18T03:55:58.459Z"
   },
   {
    "duration": 3,
    "start_time": "2022-05-18T03:55:58.530Z"
   },
   {
    "duration": 19,
    "start_time": "2022-05-18T03:55:58.534Z"
   },
   {
    "duration": 43,
    "start_time": "2022-05-18T03:55:58.555Z"
   },
   {
    "duration": 36,
    "start_time": "2022-05-18T03:55:58.599Z"
   },
   {
    "duration": 17,
    "start_time": "2022-05-18T03:55:58.638Z"
   },
   {
    "duration": 71,
    "start_time": "2022-05-18T03:55:58.657Z"
   },
   {
    "duration": 8,
    "start_time": "2022-05-18T03:55:58.730Z"
   },
   {
    "duration": 10,
    "start_time": "2022-05-18T03:55:58.740Z"
   },
   {
    "duration": 326,
    "start_time": "2022-05-18T03:55:58.752Z"
   },
   {
    "duration": 12,
    "start_time": "2022-05-18T03:55:59.079Z"
   },
   {
    "duration": 18,
    "start_time": "2022-05-18T03:55:59.092Z"
   },
   {
    "duration": 26,
    "start_time": "2022-05-18T03:55:59.127Z"
   },
   {
    "duration": 5,
    "start_time": "2022-05-18T03:55:59.155Z"
   },
   {
    "duration": 37,
    "start_time": "2022-05-18T03:55:59.161Z"
   },
   {
    "duration": 339,
    "start_time": "2022-05-18T03:55:59.200Z"
   },
   {
    "duration": 7,
    "start_time": "2022-05-18T03:55:59.541Z"
   },
   {
    "duration": 232,
    "start_time": "2022-05-18T03:55:59.550Z"
   },
   {
    "duration": 267,
    "start_time": "2022-05-18T03:55:59.783Z"
   },
   {
    "duration": 340,
    "start_time": "2022-05-18T03:56:00.054Z"
   },
   {
    "duration": 243,
    "start_time": "2022-05-18T03:56:00.396Z"
   },
   {
    "duration": 462,
    "start_time": "2022-05-18T03:56:00.640Z"
   },
   {
    "duration": 24,
    "start_time": "2022-05-18T03:56:01.104Z"
   },
   {
    "duration": 131,
    "start_time": "2022-05-18T03:56:01.131Z"
   },
   {
    "duration": 131,
    "start_time": "2022-05-18T03:56:01.263Z"
   },
   {
    "duration": 32,
    "start_time": "2022-05-18T03:56:01.397Z"
   },
   {
    "duration": 370,
    "start_time": "2022-05-18T03:56:01.432Z"
   },
   {
    "duration": 281,
    "start_time": "2022-05-18T03:56:01.804Z"
   },
   {
    "duration": 17,
    "start_time": "2022-05-18T03:56:02.087Z"
   },
   {
    "duration": 250,
    "start_time": "2022-05-18T03:56:02.107Z"
   },
   {
    "duration": 234,
    "start_time": "2022-05-18T03:56:02.359Z"
   },
   {
    "duration": 234,
    "start_time": "2022-05-18T03:56:02.595Z"
   },
   {
    "duration": 233,
    "start_time": "2022-05-18T03:56:02.830Z"
   },
   {
    "duration": 234,
    "start_time": "2022-05-18T03:56:03.065Z"
   },
   {
    "duration": 319,
    "start_time": "2022-05-18T03:56:03.301Z"
   },
   {
    "duration": 236,
    "start_time": "2022-05-18T03:58:42.448Z"
   },
   {
    "duration": 221,
    "start_time": "2022-05-18T04:02:03.370Z"
   },
   {
    "duration": 211,
    "start_time": "2022-05-18T04:03:43.354Z"
   },
   {
    "duration": 247,
    "start_time": "2022-05-18T04:13:58.929Z"
   },
   {
    "duration": 257,
    "start_time": "2022-05-18T04:16:18.692Z"
   },
   {
    "duration": 305,
    "start_time": "2022-05-18T04:18:53.646Z"
   },
   {
    "duration": 153,
    "start_time": "2022-05-18T04:19:01.678Z"
   },
   {
    "duration": 48,
    "start_time": "2022-05-18T04:19:01.834Z"
   },
   {
    "duration": 52,
    "start_time": "2022-05-18T04:19:01.884Z"
   },
   {
    "duration": 25,
    "start_time": "2022-05-18T04:19:01.940Z"
   },
   {
    "duration": 54,
    "start_time": "2022-05-18T04:19:01.967Z"
   },
   {
    "duration": 32,
    "start_time": "2022-05-18T04:19:02.031Z"
   },
   {
    "duration": 41,
    "start_time": "2022-05-18T04:19:02.066Z"
   },
   {
    "duration": 48,
    "start_time": "2022-05-18T04:19:02.110Z"
   },
   {
    "duration": 20,
    "start_time": "2022-05-18T04:19:02.160Z"
   },
   {
    "duration": 26,
    "start_time": "2022-05-18T04:19:02.182Z"
   },
   {
    "duration": 65,
    "start_time": "2022-05-18T04:19:02.210Z"
   },
   {
    "duration": 8,
    "start_time": "2022-05-18T04:19:02.276Z"
   },
   {
    "duration": 20,
    "start_time": "2022-05-18T04:19:02.286Z"
   },
   {
    "duration": 425,
    "start_time": "2022-05-18T04:19:02.310Z"
   },
   {
    "duration": 16,
    "start_time": "2022-05-18T04:19:02.744Z"
   },
   {
    "duration": 36,
    "start_time": "2022-05-18T04:19:02.762Z"
   },
   {
    "duration": 24,
    "start_time": "2022-05-18T04:19:02.800Z"
   },
   {
    "duration": 7,
    "start_time": "2022-05-18T04:19:02.829Z"
   },
   {
    "duration": 84,
    "start_time": "2022-05-18T04:19:02.839Z"
   },
   {
    "duration": 396,
    "start_time": "2022-05-18T04:19:02.925Z"
   },
   {
    "duration": 26,
    "start_time": "2022-05-18T04:19:03.323Z"
   },
   {
    "duration": 247,
    "start_time": "2022-05-18T04:19:03.351Z"
   },
   {
    "duration": 302,
    "start_time": "2022-05-18T04:19:03.600Z"
   },
   {
    "duration": 309,
    "start_time": "2022-05-18T04:19:03.904Z"
   },
   {
    "duration": 260,
    "start_time": "2022-05-18T04:19:04.216Z"
   },
   {
    "duration": 664,
    "start_time": "2022-05-18T04:19:04.478Z"
   },
   {
    "duration": 18,
    "start_time": "2022-05-18T04:19:05.143Z"
   },
   {
    "duration": 136,
    "start_time": "2022-05-18T04:19:05.163Z"
   },
   {
    "duration": 185,
    "start_time": "2022-05-18T04:19:05.301Z"
   },
   {
    "duration": 10,
    "start_time": "2022-05-18T04:19:05.488Z"
   },
   {
    "duration": 277,
    "start_time": "2022-05-18T04:19:05.500Z"
   },
   {
    "duration": 290,
    "start_time": "2022-05-18T04:19:05.779Z"
   },
   {
    "duration": 17,
    "start_time": "2022-05-18T04:19:06.071Z"
   },
   {
    "duration": 317,
    "start_time": "2022-05-18T04:19:06.090Z"
   },
   {
    "duration": 299,
    "start_time": "2022-05-18T04:19:06.409Z"
   },
   {
    "duration": 274,
    "start_time": "2022-05-18T04:19:06.710Z"
   },
   {
    "duration": 433,
    "start_time": "2022-05-18T04:19:06.987Z"
   },
   {
    "duration": 311,
    "start_time": "2022-05-18T04:19:07.422Z"
   },
   {
    "duration": 277,
    "start_time": "2022-05-18T04:19:07.735Z"
   },
   {
    "duration": 265,
    "start_time": "2022-05-18T04:19:08.014Z"
   },
   {
    "duration": 280,
    "start_time": "2022-05-18T04:19:08.283Z"
   },
   {
    "duration": 309,
    "start_time": "2022-05-18T04:19:08.565Z"
   },
   {
    "duration": 380,
    "start_time": "2022-05-18T04:19:08.877Z"
   },
   {
    "duration": 296,
    "start_time": "2022-05-18T04:19:09.264Z"
   },
   {
    "duration": 296,
    "start_time": "2022-05-18T04:19:09.562Z"
   },
   {
    "duration": 301,
    "start_time": "2022-05-18T04:21:39.243Z"
   },
   {
    "duration": 397,
    "start_time": "2022-05-18T04:28:13.011Z"
   },
   {
    "duration": 92,
    "start_time": "2022-05-18T04:36:12.660Z"
   },
   {
    "duration": 10,
    "start_time": "2022-05-18T04:37:12.255Z"
   },
   {
    "duration": 22,
    "start_time": "2022-05-18T04:37:25.812Z"
   },
   {
    "duration": 170,
    "start_time": "2022-05-18T04:38:00.499Z"
   },
   {
    "duration": 34,
    "start_time": "2022-05-18T04:38:00.671Z"
   },
   {
    "duration": 44,
    "start_time": "2022-05-18T04:38:00.707Z"
   },
   {
    "duration": 35,
    "start_time": "2022-05-18T04:38:00.754Z"
   },
   {
    "duration": 72,
    "start_time": "2022-05-18T04:38:00.792Z"
   },
   {
    "duration": 3,
    "start_time": "2022-05-18T04:38:00.866Z"
   },
   {
    "duration": 51,
    "start_time": "2022-05-18T04:38:00.871Z"
   },
   {
    "duration": 70,
    "start_time": "2022-05-18T04:38:00.924Z"
   },
   {
    "duration": 14,
    "start_time": "2022-05-18T04:38:00.996Z"
   },
   {
    "duration": 34,
    "start_time": "2022-05-18T04:38:01.013Z"
   },
   {
    "duration": 55,
    "start_time": "2022-05-18T04:38:01.049Z"
   },
   {
    "duration": 21,
    "start_time": "2022-05-18T04:38:01.106Z"
   },
   {
    "duration": 21,
    "start_time": "2022-05-18T04:38:01.130Z"
   },
   {
    "duration": 411,
    "start_time": "2022-05-18T04:38:01.152Z"
   },
   {
    "duration": 15,
    "start_time": "2022-05-18T04:38:01.566Z"
   },
   {
    "duration": 47,
    "start_time": "2022-05-18T04:38:01.583Z"
   },
   {
    "duration": 31,
    "start_time": "2022-05-18T04:38:01.633Z"
   },
   {
    "duration": 4,
    "start_time": "2022-05-18T04:38:01.666Z"
   },
   {
    "duration": 55,
    "start_time": "2022-05-18T04:38:01.672Z"
   },
   {
    "duration": 358,
    "start_time": "2022-05-18T04:38:01.730Z"
   },
   {
    "duration": 9,
    "start_time": "2022-05-18T04:38:02.091Z"
   },
   {
    "duration": 243,
    "start_time": "2022-05-18T04:38:02.102Z"
   },
   {
    "duration": 259,
    "start_time": "2022-05-18T04:38:02.347Z"
   },
   {
    "duration": 315,
    "start_time": "2022-05-18T04:38:02.607Z"
   },
   {
    "duration": 266,
    "start_time": "2022-05-18T04:38:02.924Z"
   },
   {
    "duration": 645,
    "start_time": "2022-05-18T04:38:03.192Z"
   },
   {
    "duration": 16,
    "start_time": "2022-05-18T04:38:03.839Z"
   },
   {
    "duration": 156,
    "start_time": "2022-05-18T04:38:03.858Z"
   },
   {
    "duration": 147,
    "start_time": "2022-05-18T04:38:04.016Z"
   },
   {
    "duration": 12,
    "start_time": "2022-05-18T04:38:04.165Z"
   },
   {
    "duration": 264,
    "start_time": "2022-05-18T04:38:04.179Z"
   },
   {
    "duration": 261,
    "start_time": "2022-05-18T04:38:04.446Z"
   },
   {
    "duration": 23,
    "start_time": "2022-05-18T04:38:04.708Z"
   },
   {
    "duration": 297,
    "start_time": "2022-05-18T04:38:04.733Z"
   },
   {
    "duration": 234,
    "start_time": "2022-05-18T04:38:05.032Z"
   },
   {
    "duration": 262,
    "start_time": "2022-05-18T04:38:05.268Z"
   },
   {
    "duration": 249,
    "start_time": "2022-05-18T04:38:05.532Z"
   },
   {
    "duration": 233,
    "start_time": "2022-05-18T04:38:05.783Z"
   },
   {
    "duration": 273,
    "start_time": "2022-05-18T04:38:06.026Z"
   },
   {
    "duration": 494,
    "start_time": "2022-05-18T04:38:06.301Z"
   },
   {
    "duration": 283,
    "start_time": "2022-05-18T04:38:06.797Z"
   },
   {
    "duration": 253,
    "start_time": "2022-05-18T04:38:07.082Z"
   },
   {
    "duration": 245,
    "start_time": "2022-05-18T04:38:07.337Z"
   },
   {
    "duration": 230,
    "start_time": "2022-05-18T04:38:07.584Z"
   },
   {
    "duration": 284,
    "start_time": "2022-05-18T04:38:07.816Z"
   },
   {
    "duration": 35,
    "start_time": "2022-05-18T04:38:08.102Z"
   },
   {
    "duration": 31,
    "start_time": "2022-05-18T04:42:44.213Z"
   },
   {
    "duration": 136,
    "start_time": "2022-05-18T04:46:02.267Z"
   },
   {
    "duration": 44,
    "start_time": "2022-05-18T04:46:02.405Z"
   },
   {
    "duration": 31,
    "start_time": "2022-05-18T04:46:02.451Z"
   },
   {
    "duration": 20,
    "start_time": "2022-05-18T04:46:02.485Z"
   },
   {
    "duration": 34,
    "start_time": "2022-05-18T04:46:02.528Z"
   },
   {
    "duration": 3,
    "start_time": "2022-05-18T04:46:02.563Z"
   },
   {
    "duration": 30,
    "start_time": "2022-05-18T04:46:02.567Z"
   },
   {
    "duration": 48,
    "start_time": "2022-05-18T04:46:02.599Z"
   },
   {
    "duration": 10,
    "start_time": "2022-05-18T04:46:02.649Z"
   },
   {
    "duration": 14,
    "start_time": "2022-05-18T04:46:02.662Z"
   },
   {
    "duration": 75,
    "start_time": "2022-05-18T04:46:02.678Z"
   },
   {
    "duration": 9,
    "start_time": "2022-05-18T04:46:02.755Z"
   },
   {
    "duration": 12,
    "start_time": "2022-05-18T04:46:02.766Z"
   },
   {
    "duration": 381,
    "start_time": "2022-05-18T04:46:02.780Z"
   },
   {
    "duration": 13,
    "start_time": "2022-05-18T04:46:03.164Z"
   },
   {
    "duration": 24,
    "start_time": "2022-05-18T04:46:03.179Z"
   },
   {
    "duration": 45,
    "start_time": "2022-05-18T04:46:03.205Z"
   },
   {
    "duration": 5,
    "start_time": "2022-05-18T04:46:03.251Z"
   },
   {
    "duration": 90,
    "start_time": "2022-05-18T04:46:03.258Z"
   },
   {
    "duration": 304,
    "start_time": "2022-05-18T04:46:03.350Z"
   },
   {
    "duration": 6,
    "start_time": "2022-05-18T04:46:03.656Z"
   },
   {
    "duration": 246,
    "start_time": "2022-05-18T04:46:03.664Z"
   },
   {
    "duration": 256,
    "start_time": "2022-05-18T04:46:03.912Z"
   },
   {
    "duration": 433,
    "start_time": "2022-05-18T04:46:04.170Z"
   },
   {
    "duration": 272,
    "start_time": "2022-05-18T04:46:04.605Z"
   },
   {
    "duration": 497,
    "start_time": "2022-05-18T04:46:04.879Z"
   },
   {
    "duration": 14,
    "start_time": "2022-05-18T04:46:05.379Z"
   },
   {
    "duration": 132,
    "start_time": "2022-05-18T04:46:05.397Z"
   },
   {
    "duration": 127,
    "start_time": "2022-05-18T04:46:05.531Z"
   },
   {
    "duration": 7,
    "start_time": "2022-05-18T04:46:05.660Z"
   },
   {
    "duration": 247,
    "start_time": "2022-05-18T04:46:05.669Z"
   },
   {
    "duration": 235,
    "start_time": "2022-05-18T04:46:05.927Z"
   },
   {
    "duration": 9,
    "start_time": "2022-05-18T04:46:06.164Z"
   },
   {
    "duration": 316,
    "start_time": "2022-05-18T04:46:06.175Z"
   },
   {
    "duration": 221,
    "start_time": "2022-05-18T04:46:06.493Z"
   },
   {
    "duration": 242,
    "start_time": "2022-05-18T04:46:06.715Z"
   },
   {
    "duration": 246,
    "start_time": "2022-05-18T04:46:06.958Z"
   },
   {
    "duration": 237,
    "start_time": "2022-05-18T04:46:07.206Z"
   },
   {
    "duration": 423,
    "start_time": "2022-05-18T04:46:07.445Z"
   },
   {
    "duration": 262,
    "start_time": "2022-05-18T04:46:07.870Z"
   },
   {
    "duration": 247,
    "start_time": "2022-05-18T04:46:08.134Z"
   },
   {
    "duration": 233,
    "start_time": "2022-05-18T04:46:08.383Z"
   },
   {
    "duration": 246,
    "start_time": "2022-05-18T04:46:08.626Z"
   },
   {
    "duration": 239,
    "start_time": "2022-05-18T04:46:08.874Z"
   },
   {
    "duration": 300,
    "start_time": "2022-05-18T04:46:09.114Z"
   },
   {
    "duration": 38,
    "start_time": "2022-05-18T04:46:09.416Z"
   },
   {
    "duration": 11,
    "start_time": "2022-05-18T04:47:26.411Z"
   },
   {
    "duration": 247,
    "start_time": "2022-05-18T04:48:53.200Z"
   },
   {
    "duration": 250,
    "start_time": "2022-05-18T04:55:45.321Z"
   },
   {
    "duration": 279,
    "start_time": "2022-05-18T05:00:32.025Z"
   },
   {
    "duration": 37,
    "start_time": "2022-05-18T05:08:57.253Z"
   },
   {
    "duration": 316,
    "start_time": "2022-05-18T05:09:03.145Z"
   },
   {
    "duration": 12,
    "start_time": "2022-05-18T05:10:55.392Z"
   },
   {
    "duration": 160,
    "start_time": "2022-05-18T07:46:05.638Z"
   },
   {
    "duration": 51,
    "start_time": "2022-05-18T07:46:05.800Z"
   },
   {
    "duration": 23,
    "start_time": "2022-05-18T07:46:05.853Z"
   },
   {
    "duration": 15,
    "start_time": "2022-05-18T07:46:05.877Z"
   },
   {
    "duration": 64,
    "start_time": "2022-05-18T07:46:05.894Z"
   },
   {
    "duration": 3,
    "start_time": "2022-05-18T07:46:05.959Z"
   },
   {
    "duration": 21,
    "start_time": "2022-05-18T07:46:05.963Z"
   },
   {
    "duration": 56,
    "start_time": "2022-05-18T07:46:05.986Z"
   },
   {
    "duration": 11,
    "start_time": "2022-05-18T07:46:06.044Z"
   },
   {
    "duration": 16,
    "start_time": "2022-05-18T07:46:06.057Z"
   },
   {
    "duration": 75,
    "start_time": "2022-05-18T07:46:06.075Z"
   },
   {
    "duration": 8,
    "start_time": "2022-05-18T07:46:06.152Z"
   },
   {
    "duration": 12,
    "start_time": "2022-05-18T07:46:06.162Z"
   },
   {
    "duration": 336,
    "start_time": "2022-05-18T07:46:06.177Z"
   },
   {
    "duration": 12,
    "start_time": "2022-05-18T07:46:06.514Z"
   },
   {
    "duration": 26,
    "start_time": "2022-05-18T07:46:06.528Z"
   },
   {
    "duration": 27,
    "start_time": "2022-05-18T07:46:06.556Z"
   },
   {
    "duration": 5,
    "start_time": "2022-05-18T07:46:06.584Z"
   },
   {
    "duration": 57,
    "start_time": "2022-05-18T07:46:06.591Z"
   },
   {
    "duration": 347,
    "start_time": "2022-05-18T07:46:06.650Z"
   },
   {
    "duration": 7,
    "start_time": "2022-05-18T07:46:06.999Z"
   },
   {
    "duration": 248,
    "start_time": "2022-05-18T07:46:07.007Z"
   },
   {
    "duration": 262,
    "start_time": "2022-05-18T07:46:07.257Z"
   },
   {
    "duration": 384,
    "start_time": "2022-05-18T07:46:07.520Z"
   },
   {
    "duration": 245,
    "start_time": "2022-05-18T07:46:07.906Z"
   },
   {
    "duration": 489,
    "start_time": "2022-05-18T07:46:08.153Z"
   },
   {
    "duration": 15,
    "start_time": "2022-05-18T07:46:08.644Z"
   },
   {
    "duration": 127,
    "start_time": "2022-05-18T07:46:08.661Z"
   },
   {
    "duration": 132,
    "start_time": "2022-05-18T07:46:08.790Z"
   },
   {
    "duration": 22,
    "start_time": "2022-05-18T07:46:08.924Z"
   },
   {
    "duration": 255,
    "start_time": "2022-05-18T07:46:08.948Z"
   },
   {
    "duration": 254,
    "start_time": "2022-05-18T07:46:09.205Z"
   },
   {
    "duration": 10,
    "start_time": "2022-05-18T07:46:09.461Z"
   },
   {
    "duration": 381,
    "start_time": "2022-05-18T07:46:09.473Z"
   },
   {
    "duration": 253,
    "start_time": "2022-05-18T07:46:09.856Z"
   },
   {
    "duration": 242,
    "start_time": "2022-05-18T07:46:10.110Z"
   },
   {
    "duration": 250,
    "start_time": "2022-05-18T07:46:10.353Z"
   },
   {
    "duration": 228,
    "start_time": "2022-05-18T07:46:10.605Z"
   },
   {
    "duration": 241,
    "start_time": "2022-05-18T07:46:10.835Z"
   },
   {
    "duration": 252,
    "start_time": "2022-05-18T07:46:11.078Z"
   },
   {
    "duration": 254,
    "start_time": "2022-05-18T07:46:11.340Z"
   },
   {
    "duration": 239,
    "start_time": "2022-05-18T07:46:11.595Z"
   },
   {
    "duration": 247,
    "start_time": "2022-05-18T07:46:11.841Z"
   },
   {
    "duration": 373,
    "start_time": "2022-05-18T07:46:12.090Z"
   },
   {
    "duration": 276,
    "start_time": "2022-05-18T07:46:12.465Z"
   },
   {
    "duration": 11,
    "start_time": "2022-05-18T07:46:12.743Z"
   },
   {
    "duration": 240,
    "start_time": "2022-05-18T07:46:12.756Z"
   },
   {
    "duration": 272,
    "start_time": "2022-05-18T07:46:12.998Z"
   },
   {
    "duration": 296,
    "start_time": "2022-05-18T07:46:13.271Z"
   },
   {
    "duration": 11,
    "start_time": "2022-05-18T07:46:13.569Z"
   },
   {
    "duration": 6,
    "start_time": "2022-05-18T07:51:17.228Z"
   },
   {
    "duration": 7,
    "start_time": "2022-05-18T07:51:38.560Z"
   },
   {
    "duration": 7,
    "start_time": "2022-05-18T07:52:26.889Z"
   },
   {
    "duration": 1621,
    "start_time": "2022-05-18T08:23:44.012Z"
   },
   {
    "duration": 21,
    "start_time": "2022-05-18T08:25:44.986Z"
   },
   {
    "duration": 24,
    "start_time": "2022-05-18T08:27:15.274Z"
   },
   {
    "duration": 23,
    "start_time": "2022-05-18T08:27:56.693Z"
   },
   {
    "duration": 209,
    "start_time": "2022-05-18T08:46:32.801Z"
   },
   {
    "duration": 199,
    "start_time": "2022-05-18T08:46:41.377Z"
   },
   {
    "duration": 207,
    "start_time": "2022-05-18T08:53:26.332Z"
   },
   {
    "duration": 170,
    "start_time": "2022-05-18T10:02:47.568Z"
   },
   {
    "duration": 217,
    "start_time": "2022-05-18T10:19:29.245Z"
   },
   {
    "duration": 324,
    "start_time": "2022-05-18T10:19:58.987Z"
   },
   {
    "duration": 208,
    "start_time": "2022-05-18T10:22:56.784Z"
   },
   {
    "duration": 8,
    "start_time": "2022-05-18T10:28:27.350Z"
   },
   {
    "duration": 206,
    "start_time": "2022-05-18T10:28:47.245Z"
   },
   {
    "duration": 136,
    "start_time": "2022-05-18T10:29:22.463Z"
   },
   {
    "duration": 28,
    "start_time": "2022-05-18T10:29:41.798Z"
   },
   {
    "duration": 36,
    "start_time": "2022-05-18T10:30:54.712Z"
   },
   {
    "duration": 34,
    "start_time": "2022-05-18T10:46:20.020Z"
   },
   {
    "duration": 152,
    "start_time": "2022-05-18T10:46:24.900Z"
   },
   {
    "duration": 460,
    "start_time": "2022-05-18T10:46:46.232Z"
   },
   {
    "duration": 456,
    "start_time": "2022-05-18T10:51:39.579Z"
   },
   {
    "duration": 124,
    "start_time": "2022-05-18T10:59:23.004Z"
   },
   {
    "duration": 26,
    "start_time": "2022-05-18T10:59:23.168Z"
   },
   {
    "duration": 46,
    "start_time": "2022-05-18T10:59:23.211Z"
   },
   {
    "duration": 13,
    "start_time": "2022-05-18T10:59:23.292Z"
   },
   {
    "duration": 923,
    "start_time": "2022-05-18T10:59:23.310Z"
   },
   {
    "duration": 0,
    "start_time": "2022-05-18T10:59:24.239Z"
   },
   {
    "duration": 0,
    "start_time": "2022-05-18T10:59:24.241Z"
   },
   {
    "duration": 0,
    "start_time": "2022-05-18T10:59:24.244Z"
   },
   {
    "duration": 0,
    "start_time": "2022-05-18T10:59:24.246Z"
   },
   {
    "duration": 0,
    "start_time": "2022-05-18T10:59:24.248Z"
   },
   {
    "duration": 0,
    "start_time": "2022-05-18T10:59:24.249Z"
   },
   {
    "duration": 0,
    "start_time": "2022-05-18T10:59:24.251Z"
   },
   {
    "duration": 0,
    "start_time": "2022-05-18T10:59:24.254Z"
   },
   {
    "duration": 0,
    "start_time": "2022-05-18T10:59:24.256Z"
   },
   {
    "duration": 0,
    "start_time": "2022-05-18T10:59:24.258Z"
   },
   {
    "duration": 0,
    "start_time": "2022-05-18T10:59:24.259Z"
   },
   {
    "duration": 0,
    "start_time": "2022-05-18T10:59:24.261Z"
   },
   {
    "duration": 0,
    "start_time": "2022-05-18T10:59:24.264Z"
   },
   {
    "duration": 0,
    "start_time": "2022-05-18T10:59:24.266Z"
   },
   {
    "duration": 0,
    "start_time": "2022-05-18T10:59:24.267Z"
   },
   {
    "duration": 0,
    "start_time": "2022-05-18T10:59:24.269Z"
   },
   {
    "duration": 0,
    "start_time": "2022-05-18T10:59:24.271Z"
   },
   {
    "duration": 0,
    "start_time": "2022-05-18T10:59:24.272Z"
   },
   {
    "duration": 0,
    "start_time": "2022-05-18T10:59:24.274Z"
   },
   {
    "duration": 0,
    "start_time": "2022-05-18T10:59:24.276Z"
   },
   {
    "duration": 0,
    "start_time": "2022-05-18T10:59:24.278Z"
   },
   {
    "duration": 0,
    "start_time": "2022-05-18T10:59:24.279Z"
   },
   {
    "duration": 0,
    "start_time": "2022-05-18T10:59:24.342Z"
   },
   {
    "duration": 0,
    "start_time": "2022-05-18T10:59:24.344Z"
   },
   {
    "duration": 0,
    "start_time": "2022-05-18T10:59:24.346Z"
   },
   {
    "duration": 0,
    "start_time": "2022-05-18T10:59:24.348Z"
   },
   {
    "duration": 0,
    "start_time": "2022-05-18T10:59:24.350Z"
   },
   {
    "duration": 0,
    "start_time": "2022-05-18T10:59:24.351Z"
   },
   {
    "duration": 0,
    "start_time": "2022-05-18T10:59:24.353Z"
   },
   {
    "duration": 0,
    "start_time": "2022-05-18T10:59:24.355Z"
   },
   {
    "duration": 0,
    "start_time": "2022-05-18T10:59:24.357Z"
   },
   {
    "duration": 0,
    "start_time": "2022-05-18T10:59:24.359Z"
   },
   {
    "duration": 0,
    "start_time": "2022-05-18T10:59:24.361Z"
   },
   {
    "duration": 0,
    "start_time": "2022-05-18T10:59:24.364Z"
   },
   {
    "duration": 0,
    "start_time": "2022-05-18T10:59:24.366Z"
   },
   {
    "duration": 0,
    "start_time": "2022-05-18T10:59:24.368Z"
   },
   {
    "duration": 0,
    "start_time": "2022-05-18T10:59:24.370Z"
   },
   {
    "duration": 0,
    "start_time": "2022-05-18T10:59:24.372Z"
   },
   {
    "duration": 0,
    "start_time": "2022-05-18T10:59:24.374Z"
   },
   {
    "duration": 0,
    "start_time": "2022-05-18T10:59:24.375Z"
   },
   {
    "duration": 0,
    "start_time": "2022-05-18T10:59:24.441Z"
   },
   {
    "duration": 0,
    "start_time": "2022-05-18T10:59:24.444Z"
   },
   {
    "duration": 0,
    "start_time": "2022-05-18T10:59:24.446Z"
   },
   {
    "duration": 0,
    "start_time": "2022-05-18T10:59:24.448Z"
   },
   {
    "duration": 0,
    "start_time": "2022-05-18T10:59:24.450Z"
   },
   {
    "duration": 0,
    "start_time": "2022-05-18T10:59:24.452Z"
   },
   {
    "duration": 0,
    "start_time": "2022-05-18T10:59:24.454Z"
   },
   {
    "duration": 0,
    "start_time": "2022-05-18T10:59:24.455Z"
   },
   {
    "duration": 0,
    "start_time": "2022-05-18T10:59:24.457Z"
   },
   {
    "duration": 0,
    "start_time": "2022-05-18T10:59:24.459Z"
   },
   {
    "duration": 0,
    "start_time": "2022-05-18T10:59:24.464Z"
   },
   {
    "duration": 1,
    "start_time": "2022-05-18T11:03:13.284Z"
   },
   {
    "duration": 0,
    "start_time": "2022-05-18T11:03:13.286Z"
   },
   {
    "duration": 0,
    "start_time": "2022-05-18T11:03:13.287Z"
   },
   {
    "duration": 0,
    "start_time": "2022-05-18T11:03:13.288Z"
   },
   {
    "duration": 0,
    "start_time": "2022-05-18T11:03:13.289Z"
   },
   {
    "duration": 0,
    "start_time": "2022-05-18T11:03:13.289Z"
   },
   {
    "duration": 0,
    "start_time": "2022-05-18T11:03:13.291Z"
   },
   {
    "duration": 0,
    "start_time": "2022-05-18T11:03:13.291Z"
   },
   {
    "duration": 0,
    "start_time": "2022-05-18T11:03:13.292Z"
   },
   {
    "duration": 0,
    "start_time": "2022-05-18T11:03:13.293Z"
   },
   {
    "duration": 0,
    "start_time": "2022-05-18T11:03:13.294Z"
   },
   {
    "duration": 0,
    "start_time": "2022-05-18T11:03:13.296Z"
   },
   {
    "duration": 0,
    "start_time": "2022-05-18T11:03:13.297Z"
   },
   {
    "duration": 0,
    "start_time": "2022-05-18T11:03:13.298Z"
   },
   {
    "duration": 0,
    "start_time": "2022-05-18T11:03:13.299Z"
   },
   {
    "duration": 0,
    "start_time": "2022-05-18T11:03:13.300Z"
   },
   {
    "duration": 0,
    "start_time": "2022-05-18T11:03:13.301Z"
   },
   {
    "duration": 0,
    "start_time": "2022-05-18T11:03:13.301Z"
   },
   {
    "duration": 0,
    "start_time": "2022-05-18T11:03:13.302Z"
   },
   {
    "duration": 0,
    "start_time": "2022-05-18T11:03:13.304Z"
   },
   {
    "duration": 0,
    "start_time": "2022-05-18T11:03:13.304Z"
   },
   {
    "duration": 0,
    "start_time": "2022-05-18T11:03:13.341Z"
   },
   {
    "duration": 0,
    "start_time": "2022-05-18T11:03:13.343Z"
   },
   {
    "duration": 0,
    "start_time": "2022-05-18T11:03:13.344Z"
   },
   {
    "duration": 0,
    "start_time": "2022-05-18T11:03:13.345Z"
   },
   {
    "duration": 0,
    "start_time": "2022-05-18T11:03:13.346Z"
   },
   {
    "duration": 0,
    "start_time": "2022-05-18T11:03:13.346Z"
   },
   {
    "duration": 0,
    "start_time": "2022-05-18T11:03:13.347Z"
   },
   {
    "duration": 0,
    "start_time": "2022-05-18T11:03:13.348Z"
   },
   {
    "duration": 0,
    "start_time": "2022-05-18T11:03:13.349Z"
   },
   {
    "duration": 0,
    "start_time": "2022-05-18T11:03:13.350Z"
   },
   {
    "duration": 0,
    "start_time": "2022-05-18T11:03:13.351Z"
   },
   {
    "duration": 0,
    "start_time": "2022-05-18T11:03:13.352Z"
   },
   {
    "duration": 0,
    "start_time": "2022-05-18T11:03:13.354Z"
   },
   {
    "duration": 0,
    "start_time": "2022-05-18T11:03:13.355Z"
   },
   {
    "duration": 0,
    "start_time": "2022-05-18T11:03:13.356Z"
   },
   {
    "duration": 0,
    "start_time": "2022-05-18T11:03:13.357Z"
   },
   {
    "duration": 0,
    "start_time": "2022-05-18T11:03:13.358Z"
   },
   {
    "duration": 0,
    "start_time": "2022-05-18T11:03:13.359Z"
   },
   {
    "duration": 0,
    "start_time": "2022-05-18T11:03:13.360Z"
   },
   {
    "duration": 0,
    "start_time": "2022-05-18T11:03:13.361Z"
   },
   {
    "duration": 0,
    "start_time": "2022-05-18T11:03:13.362Z"
   },
   {
    "duration": 0,
    "start_time": "2022-05-18T11:03:13.363Z"
   },
   {
    "duration": 0,
    "start_time": "2022-05-18T11:03:13.364Z"
   },
   {
    "duration": 0,
    "start_time": "2022-05-18T11:03:13.365Z"
   },
   {
    "duration": 0,
    "start_time": "2022-05-18T11:03:13.366Z"
   },
   {
    "duration": 0,
    "start_time": "2022-05-18T11:03:13.367Z"
   },
   {
    "duration": 0,
    "start_time": "2022-05-18T11:03:13.368Z"
   },
   {
    "duration": 0,
    "start_time": "2022-05-18T11:03:13.369Z"
   },
   {
    "duration": 0,
    "start_time": "2022-05-18T11:03:13.370Z"
   },
   {
    "duration": 0,
    "start_time": "2022-05-18T11:03:13.371Z"
   },
   {
    "duration": 0,
    "start_time": "2022-05-18T11:03:13.372Z"
   },
   {
    "duration": 0,
    "start_time": "2022-05-18T11:03:13.373Z"
   },
   {
    "duration": 0,
    "start_time": "2022-05-18T11:03:13.374Z"
   },
   {
    "duration": 0,
    "start_time": "2022-05-18T11:03:13.375Z"
   },
   {
    "duration": 0,
    "start_time": "2022-05-18T11:03:13.377Z"
   },
   {
    "duration": 134,
    "start_time": "2022-05-18T11:03:26.656Z"
   },
   {
    "duration": 66,
    "start_time": "2022-05-18T11:03:26.792Z"
   },
   {
    "duration": 26,
    "start_time": "2022-05-18T11:03:26.862Z"
   },
   {
    "duration": 19,
    "start_time": "2022-05-18T11:03:26.890Z"
   },
   {
    "duration": 42,
    "start_time": "2022-05-18T11:03:26.942Z"
   },
   {
    "duration": 10,
    "start_time": "2022-05-18T11:03:26.986Z"
   },
   {
    "duration": 30,
    "start_time": "2022-05-18T11:03:27.002Z"
   },
   {
    "duration": 54,
    "start_time": "2022-05-18T11:03:27.034Z"
   },
   {
    "duration": 12,
    "start_time": "2022-05-18T11:03:27.090Z"
   },
   {
    "duration": 38,
    "start_time": "2022-05-18T11:03:27.104Z"
   },
   {
    "duration": 45,
    "start_time": "2022-05-18T11:03:27.145Z"
   },
   {
    "duration": 8,
    "start_time": "2022-05-18T11:03:27.192Z"
   },
   {
    "duration": 40,
    "start_time": "2022-05-18T11:03:27.202Z"
   },
   {
    "duration": 317,
    "start_time": "2022-05-18T11:03:27.245Z"
   },
   {
    "duration": 11,
    "start_time": "2022-05-18T11:03:27.564Z"
   },
   {
    "duration": 14,
    "start_time": "2022-05-18T11:03:27.576Z"
   },
   {
    "duration": 23,
    "start_time": "2022-05-18T11:03:27.592Z"
   },
   {
    "duration": 26,
    "start_time": "2022-05-18T11:03:27.617Z"
   },
   {
    "duration": 33,
    "start_time": "2022-05-18T11:03:27.645Z"
   },
   {
    "duration": 306,
    "start_time": "2022-05-18T11:03:27.680Z"
   },
   {
    "duration": 8,
    "start_time": "2022-05-18T11:03:27.988Z"
   },
   {
    "duration": 223,
    "start_time": "2022-05-18T11:03:27.998Z"
   },
   {
    "duration": 243,
    "start_time": "2022-05-18T11:03:28.223Z"
   },
   {
    "duration": 269,
    "start_time": "2022-05-18T11:03:28.467Z"
   },
   {
    "duration": 230,
    "start_time": "2022-05-18T11:03:28.739Z"
   },
   {
    "duration": 472,
    "start_time": "2022-05-18T11:03:28.971Z"
   },
   {
    "duration": 18,
    "start_time": "2022-05-18T11:03:29.445Z"
   },
   {
    "duration": 125,
    "start_time": "2022-05-18T11:03:29.465Z"
   },
   {
    "duration": 119,
    "start_time": "2022-05-18T11:03:29.591Z"
   },
   {
    "duration": 7,
    "start_time": "2022-05-18T11:03:29.711Z"
   },
   {
    "duration": 290,
    "start_time": "2022-05-18T11:03:29.720Z"
   },
   {
    "duration": 235,
    "start_time": "2022-05-18T11:03:30.012Z"
   },
   {
    "duration": 12,
    "start_time": "2022-05-18T11:03:30.249Z"
   },
   {
    "duration": 246,
    "start_time": "2022-05-18T11:03:30.263Z"
   },
   {
    "duration": 222,
    "start_time": "2022-05-18T11:03:30.511Z"
   },
   {
    "duration": 234,
    "start_time": "2022-05-18T11:03:30.741Z"
   },
   {
    "duration": 241,
    "start_time": "2022-05-18T11:03:30.976Z"
   },
   {
    "duration": 240,
    "start_time": "2022-05-18T11:03:31.219Z"
   },
   {
    "duration": 234,
    "start_time": "2022-05-18T11:03:31.461Z"
   },
   {
    "duration": 270,
    "start_time": "2022-05-18T11:03:31.697Z"
   },
   {
    "duration": 252,
    "start_time": "2022-05-18T11:03:31.972Z"
   },
   {
    "duration": 217,
    "start_time": "2022-05-18T11:03:32.226Z"
   },
   {
    "duration": 253,
    "start_time": "2022-05-18T11:03:32.445Z"
   },
   {
    "duration": 218,
    "start_time": "2022-05-18T11:03:32.700Z"
   },
   {
    "duration": 269,
    "start_time": "2022-05-18T11:03:32.920Z"
   },
   {
    "duration": 11,
    "start_time": "2022-05-18T11:03:33.190Z"
   },
   {
    "duration": 255,
    "start_time": "2022-05-18T11:03:33.203Z"
   },
   {
    "duration": 247,
    "start_time": "2022-05-18T11:03:33.460Z"
   },
   {
    "duration": 298,
    "start_time": "2022-05-18T11:03:33.709Z"
   },
   {
    "duration": 10,
    "start_time": "2022-05-18T11:03:34.009Z"
   },
   {
    "duration": 5,
    "start_time": "2022-05-18T11:03:34.020Z"
   },
   {
    "duration": 207,
    "start_time": "2022-05-18T11:03:34.026Z"
   },
   {
    "duration": 202,
    "start_time": "2022-05-18T11:03:34.234Z"
   },
   {
    "duration": 188,
    "start_time": "2022-05-18T11:03:34.440Z"
   },
   {
    "duration": 42,
    "start_time": "2022-05-18T11:03:34.630Z"
   },
   {
    "duration": 0,
    "start_time": "2022-05-18T11:07:12.891Z"
   },
   {
    "duration": 164,
    "start_time": "2022-05-18T11:09:16.490Z"
   },
   {
    "duration": 0,
    "start_time": "2022-05-18T11:13:14.920Z"
   },
   {
    "duration": 60,
    "start_time": "2022-05-18T11:14:18.169Z"
   },
   {
    "duration": 28,
    "start_time": "2022-05-18T11:14:38.945Z"
   },
   {
    "duration": 26,
    "start_time": "2022-05-18T11:14:45.719Z"
   },
   {
    "duration": 29,
    "start_time": "2022-05-18T11:14:47.955Z"
   },
   {
    "duration": 21,
    "start_time": "2022-05-18T11:15:00.667Z"
   },
   {
    "duration": 19,
    "start_time": "2022-05-18T11:15:56.563Z"
   },
   {
    "duration": 18,
    "start_time": "2022-05-18T11:16:14.403Z"
   },
   {
    "duration": 31,
    "start_time": "2022-05-18T11:16:55.055Z"
   },
   {
    "duration": 23,
    "start_time": "2022-05-18T11:17:18.703Z"
   },
   {
    "duration": 23,
    "start_time": "2022-05-18T11:29:22.790Z"
   },
   {
    "duration": 49,
    "start_time": "2022-05-18T11:33:08.693Z"
   },
   {
    "duration": 48,
    "start_time": "2022-05-18T11:48:43.998Z"
   },
   {
    "duration": 11,
    "start_time": "2022-05-18T11:49:43.485Z"
   },
   {
    "duration": 8,
    "start_time": "2022-05-18T11:49:57.201Z"
   },
   {
    "duration": 9,
    "start_time": "2022-05-18T11:50:39.678Z"
   },
   {
    "duration": 15,
    "start_time": "2022-05-18T11:53:54.242Z"
   },
   {
    "duration": 49,
    "start_time": "2022-05-18T11:55:42.858Z"
   },
   {
    "duration": 51,
    "start_time": "2022-05-18T11:55:58.064Z"
   },
   {
    "duration": 29,
    "start_time": "2022-05-18T11:58:53.940Z"
   },
   {
    "duration": 38,
    "start_time": "2022-05-18T11:59:11.698Z"
   },
   {
    "duration": 37,
    "start_time": "2022-05-18T11:59:46.492Z"
   },
   {
    "duration": 38,
    "start_time": "2022-05-18T12:08:00.468Z"
   },
   {
    "duration": 46,
    "start_time": "2022-05-18T12:10:11.639Z"
   },
   {
    "duration": 51,
    "start_time": "2022-05-18T12:10:38.184Z"
   },
   {
    "duration": 340,
    "start_time": "2022-05-18T12:41:35.605Z"
   },
   {
    "duration": 641,
    "start_time": "2022-05-18T12:48:22.015Z"
   },
   {
    "duration": 14,
    "start_time": "2022-05-18T13:29:05.517Z"
   },
   {
    "duration": 50,
    "start_time": "2022-05-18T13:31:26.160Z"
   },
   {
    "duration": 49,
    "start_time": "2022-05-18T13:31:42.256Z"
   },
   {
    "duration": 68,
    "start_time": "2022-05-18T13:34:54.626Z"
   },
   {
    "duration": 18,
    "start_time": "2022-05-18T13:35:29.838Z"
   },
   {
    "duration": 18,
    "start_time": "2022-05-18T13:35:51.633Z"
   },
   {
    "duration": 168,
    "start_time": "2022-05-18T13:39:33.068Z"
   },
   {
    "duration": 177,
    "start_time": "2022-05-18T13:40:13.538Z"
   },
   {
    "duration": 160,
    "start_time": "2022-05-18T13:41:34.649Z"
   },
   {
    "duration": 356,
    "start_time": "2022-05-18T13:42:46.706Z"
   },
   {
    "duration": 327,
    "start_time": "2022-05-18T14:12:47.574Z"
   },
   {
    "duration": 40,
    "start_time": "2022-05-18T14:13:08.102Z"
   },
   {
    "duration": 9,
    "start_time": "2022-05-18T14:13:30.217Z"
   },
   {
    "duration": 208,
    "start_time": "2022-05-18T14:43:37.250Z"
   },
   {
    "duration": 232,
    "start_time": "2022-05-18T14:47:20.709Z"
   },
   {
    "duration": 221,
    "start_time": "2022-05-18T14:47:45.777Z"
   },
   {
    "duration": 239,
    "start_time": "2022-05-18T14:49:01.620Z"
   },
   {
    "duration": 235,
    "start_time": "2022-05-18T14:51:51.853Z"
   },
   {
    "duration": 255,
    "start_time": "2022-05-18T15:16:32.162Z"
   },
   {
    "duration": 234,
    "start_time": "2022-05-18T15:16:49.553Z"
   },
   {
    "duration": 245,
    "start_time": "2022-05-18T15:21:13.384Z"
   },
   {
    "duration": 241,
    "start_time": "2022-05-18T15:21:44.040Z"
   },
   {
    "duration": 205,
    "start_time": "2022-05-18T15:44:46.961Z"
   },
   {
    "duration": 25,
    "start_time": "2022-05-18T15:57:23.163Z"
   },
   {
    "duration": 152,
    "start_time": "2022-05-18T15:59:05.133Z"
   },
   {
    "duration": 52,
    "start_time": "2022-05-18T16:20:21.715Z"
   },
   {
    "duration": 152,
    "start_time": "2022-05-20T03:20:53.672Z"
   },
   {
    "duration": 111,
    "start_time": "2022-05-20T03:21:01.923Z"
   },
   {
    "duration": 47,
    "start_time": "2022-05-20T04:05:15.367Z"
   },
   {
    "duration": 103,
    "start_time": "2022-05-20T04:05:24.470Z"
   },
   {
    "duration": 3,
    "start_time": "2022-05-20T04:05:30.475Z"
   },
   {
    "duration": 171,
    "start_time": "2022-05-20T04:05:30.480Z"
   },
   {
    "duration": 28,
    "start_time": "2022-05-20T04:05:30.654Z"
   },
   {
    "duration": 51,
    "start_time": "2022-05-20T04:05:30.684Z"
   },
   {
    "duration": 18,
    "start_time": "2022-05-20T04:05:30.737Z"
   },
   {
    "duration": 323,
    "start_time": "2022-05-20T04:05:30.757Z"
   },
   {
    "duration": 3,
    "start_time": "2022-05-20T04:05:31.082Z"
   },
   {
    "duration": 88,
    "start_time": "2022-05-20T04:05:31.086Z"
   },
   {
    "duration": 73,
    "start_time": "2022-05-20T04:05:31.175Z"
   },
   {
    "duration": 10,
    "start_time": "2022-05-20T04:05:31.250Z"
   },
   {
    "duration": 22,
    "start_time": "2022-05-20T04:05:31.263Z"
   },
   {
    "duration": 11,
    "start_time": "2022-05-20T04:05:31.286Z"
   },
   {
    "duration": 28,
    "start_time": "2022-05-20T04:05:31.299Z"
   },
   {
    "duration": 25,
    "start_time": "2022-05-20T04:05:31.328Z"
   },
   {
    "duration": 41,
    "start_time": "2022-05-20T04:05:31.355Z"
   },
   {
    "duration": 49,
    "start_time": "2022-05-20T04:05:31.398Z"
   },
   {
    "duration": 23,
    "start_time": "2022-05-20T04:05:31.449Z"
   },
   {
    "duration": 30,
    "start_time": "2022-05-20T04:05:31.474Z"
   },
   {
    "duration": 0,
    "start_time": "2022-05-20T04:05:31.509Z"
   },
   {
    "duration": 0,
    "start_time": "2022-05-20T04:05:31.510Z"
   },
   {
    "duration": 0,
    "start_time": "2022-05-20T04:05:31.512Z"
   },
   {
    "duration": 0,
    "start_time": "2022-05-20T04:05:31.513Z"
   },
   {
    "duration": 0,
    "start_time": "2022-05-20T04:05:31.526Z"
   },
   {
    "duration": 0,
    "start_time": "2022-05-20T04:05:31.528Z"
   },
   {
    "duration": 0,
    "start_time": "2022-05-20T04:05:31.529Z"
   },
   {
    "duration": 0,
    "start_time": "2022-05-20T04:05:31.530Z"
   },
   {
    "duration": 0,
    "start_time": "2022-05-20T04:05:31.532Z"
   },
   {
    "duration": 0,
    "start_time": "2022-05-20T04:05:31.533Z"
   },
   {
    "duration": 0,
    "start_time": "2022-05-20T04:05:31.534Z"
   },
   {
    "duration": 0,
    "start_time": "2022-05-20T04:05:31.536Z"
   },
   {
    "duration": 0,
    "start_time": "2022-05-20T04:05:31.538Z"
   },
   {
    "duration": 0,
    "start_time": "2022-05-20T04:05:31.539Z"
   },
   {
    "duration": 0,
    "start_time": "2022-05-20T04:05:31.540Z"
   },
   {
    "duration": 0,
    "start_time": "2022-05-20T04:05:31.543Z"
   },
   {
    "duration": 0,
    "start_time": "2022-05-20T04:05:31.544Z"
   },
   {
    "duration": 0,
    "start_time": "2022-05-20T04:05:31.545Z"
   },
   {
    "duration": 0,
    "start_time": "2022-05-20T04:05:31.547Z"
   },
   {
    "duration": 0,
    "start_time": "2022-05-20T04:05:31.548Z"
   },
   {
    "duration": 0,
    "start_time": "2022-05-20T04:05:31.549Z"
   },
   {
    "duration": 0,
    "start_time": "2022-05-20T04:05:31.551Z"
   },
   {
    "duration": 0,
    "start_time": "2022-05-20T04:05:31.552Z"
   },
   {
    "duration": 0,
    "start_time": "2022-05-20T04:05:31.553Z"
   },
   {
    "duration": 0,
    "start_time": "2022-05-20T04:05:31.555Z"
   },
   {
    "duration": 0,
    "start_time": "2022-05-20T04:05:31.556Z"
   },
   {
    "duration": 0,
    "start_time": "2022-05-20T04:05:31.558Z"
   },
   {
    "duration": 0,
    "start_time": "2022-05-20T04:05:31.559Z"
   },
   {
    "duration": 0,
    "start_time": "2022-05-20T04:05:31.560Z"
   },
   {
    "duration": 0,
    "start_time": "2022-05-20T04:05:31.562Z"
   },
   {
    "duration": 0,
    "start_time": "2022-05-20T04:05:31.563Z"
   },
   {
    "duration": 0,
    "start_time": "2022-05-20T04:05:31.565Z"
   },
   {
    "duration": 0,
    "start_time": "2022-05-20T04:05:31.627Z"
   },
   {
    "duration": 0,
    "start_time": "2022-05-20T04:05:31.629Z"
   },
   {
    "duration": 0,
    "start_time": "2022-05-20T04:05:31.631Z"
   },
   {
    "duration": 0,
    "start_time": "2022-05-20T04:05:31.633Z"
   },
   {
    "duration": 0,
    "start_time": "2022-05-20T04:05:31.634Z"
   },
   {
    "duration": 0,
    "start_time": "2022-05-20T04:05:31.635Z"
   },
   {
    "duration": 0,
    "start_time": "2022-05-20T04:05:31.636Z"
   },
   {
    "duration": 0,
    "start_time": "2022-05-20T04:05:31.637Z"
   },
   {
    "duration": 0,
    "start_time": "2022-05-20T04:05:31.638Z"
   },
   {
    "duration": 0,
    "start_time": "2022-05-20T04:05:31.639Z"
   },
   {
    "duration": 0,
    "start_time": "2022-05-20T04:05:31.641Z"
   },
   {
    "duration": 0,
    "start_time": "2022-05-20T04:05:31.642Z"
   },
   {
    "duration": 0,
    "start_time": "2022-05-20T04:05:31.643Z"
   },
   {
    "duration": 0,
    "start_time": "2022-05-20T04:05:31.644Z"
   },
   {
    "duration": 0,
    "start_time": "2022-05-20T04:05:31.645Z"
   },
   {
    "duration": 0,
    "start_time": "2022-05-20T04:05:31.647Z"
   },
   {
    "duration": 0,
    "start_time": "2022-05-20T04:05:31.648Z"
   },
   {
    "duration": 0,
    "start_time": "2022-05-20T04:05:31.649Z"
   },
   {
    "duration": 0,
    "start_time": "2022-05-20T04:05:31.649Z"
   },
   {
    "duration": 11,
    "start_time": "2022-05-20T04:06:08.686Z"
   },
   {
    "duration": 3,
    "start_time": "2022-05-20T04:06:12.503Z"
   },
   {
    "duration": 151,
    "start_time": "2022-05-20T04:06:12.508Z"
   },
   {
    "duration": 28,
    "start_time": "2022-05-20T04:06:12.661Z"
   },
   {
    "duration": 53,
    "start_time": "2022-05-20T04:06:12.691Z"
   },
   {
    "duration": 19,
    "start_time": "2022-05-20T04:06:12.746Z"
   },
   {
    "duration": 89,
    "start_time": "2022-05-20T04:06:12.767Z"
   },
   {
    "duration": 3,
    "start_time": "2022-05-20T04:06:12.857Z"
   },
   {
    "duration": 33,
    "start_time": "2022-05-20T04:06:12.861Z"
   },
   {
    "duration": 55,
    "start_time": "2022-05-20T04:06:12.896Z"
   },
   {
    "duration": 10,
    "start_time": "2022-05-20T04:06:12.953Z"
   },
   {
    "duration": 12,
    "start_time": "2022-05-20T04:06:12.966Z"
   },
   {
    "duration": 3,
    "start_time": "2022-05-20T04:06:12.980Z"
   },
   {
    "duration": 45,
    "start_time": "2022-05-20T04:06:12.985Z"
   },
   {
    "duration": 9,
    "start_time": "2022-05-20T04:06:13.032Z"
   },
   {
    "duration": 3,
    "start_time": "2022-05-20T04:06:13.044Z"
   },
   {
    "duration": 20,
    "start_time": "2022-05-20T04:06:13.049Z"
   },
   {
    "duration": 28,
    "start_time": "2022-05-20T04:06:13.071Z"
   },
   {
    "duration": 36,
    "start_time": "2022-05-20T04:06:13.101Z"
   },
   {
    "duration": 0,
    "start_time": "2022-05-20T04:06:13.140Z"
   },
   {
    "duration": 0,
    "start_time": "2022-05-20T04:06:13.141Z"
   },
   {
    "duration": 0,
    "start_time": "2022-05-20T04:06:13.142Z"
   },
   {
    "duration": 0,
    "start_time": "2022-05-20T04:06:13.143Z"
   },
   {
    "duration": 0,
    "start_time": "2022-05-20T04:06:13.144Z"
   },
   {
    "duration": 0,
    "start_time": "2022-05-20T04:06:13.145Z"
   },
   {
    "duration": 0,
    "start_time": "2022-05-20T04:06:13.146Z"
   },
   {
    "duration": 0,
    "start_time": "2022-05-20T04:06:13.147Z"
   },
   {
    "duration": 0,
    "start_time": "2022-05-20T04:06:13.148Z"
   },
   {
    "duration": 0,
    "start_time": "2022-05-20T04:06:13.149Z"
   },
   {
    "duration": 0,
    "start_time": "2022-05-20T04:06:13.150Z"
   },
   {
    "duration": 0,
    "start_time": "2022-05-20T04:06:13.151Z"
   },
   {
    "duration": 0,
    "start_time": "2022-05-20T04:06:13.152Z"
   },
   {
    "duration": 0,
    "start_time": "2022-05-20T04:06:13.153Z"
   },
   {
    "duration": 0,
    "start_time": "2022-05-20T04:06:13.154Z"
   },
   {
    "duration": 0,
    "start_time": "2022-05-20T04:06:13.156Z"
   },
   {
    "duration": 0,
    "start_time": "2022-05-20T04:06:13.158Z"
   },
   {
    "duration": 0,
    "start_time": "2022-05-20T04:06:13.159Z"
   },
   {
    "duration": 0,
    "start_time": "2022-05-20T04:06:13.160Z"
   },
   {
    "duration": 0,
    "start_time": "2022-05-20T04:06:13.161Z"
   },
   {
    "duration": 0,
    "start_time": "2022-05-20T04:06:13.162Z"
   },
   {
    "duration": 0,
    "start_time": "2022-05-20T04:06:13.163Z"
   },
   {
    "duration": 0,
    "start_time": "2022-05-20T04:06:13.163Z"
   },
   {
    "duration": 0,
    "start_time": "2022-05-20T04:06:13.164Z"
   },
   {
    "duration": 0,
    "start_time": "2022-05-20T04:06:13.165Z"
   },
   {
    "duration": 0,
    "start_time": "2022-05-20T04:06:13.166Z"
   },
   {
    "duration": 0,
    "start_time": "2022-05-20T04:06:13.167Z"
   },
   {
    "duration": 0,
    "start_time": "2022-05-20T04:06:13.167Z"
   },
   {
    "duration": 0,
    "start_time": "2022-05-20T04:06:13.168Z"
   },
   {
    "duration": 0,
    "start_time": "2022-05-20T04:06:13.169Z"
   },
   {
    "duration": 0,
    "start_time": "2022-05-20T04:06:13.170Z"
   },
   {
    "duration": 0,
    "start_time": "2022-05-20T04:06:13.226Z"
   },
   {
    "duration": 0,
    "start_time": "2022-05-20T04:06:13.228Z"
   },
   {
    "duration": 0,
    "start_time": "2022-05-20T04:06:13.229Z"
   },
   {
    "duration": 0,
    "start_time": "2022-05-20T04:06:13.230Z"
   },
   {
    "duration": 0,
    "start_time": "2022-05-20T04:06:13.231Z"
   },
   {
    "duration": 0,
    "start_time": "2022-05-20T04:06:13.232Z"
   },
   {
    "duration": 0,
    "start_time": "2022-05-20T04:06:13.234Z"
   },
   {
    "duration": 0,
    "start_time": "2022-05-20T04:06:13.235Z"
   },
   {
    "duration": 0,
    "start_time": "2022-05-20T04:06:13.237Z"
   },
   {
    "duration": 0,
    "start_time": "2022-05-20T04:06:13.238Z"
   },
   {
    "duration": 0,
    "start_time": "2022-05-20T04:06:13.239Z"
   },
   {
    "duration": 0,
    "start_time": "2022-05-20T04:06:13.240Z"
   },
   {
    "duration": 0,
    "start_time": "2022-05-20T04:06:13.241Z"
   },
   {
    "duration": 0,
    "start_time": "2022-05-20T04:06:13.242Z"
   },
   {
    "duration": 0,
    "start_time": "2022-05-20T04:06:13.243Z"
   },
   {
    "duration": 0,
    "start_time": "2022-05-20T04:06:13.244Z"
   },
   {
    "duration": 0,
    "start_time": "2022-05-20T04:06:13.245Z"
   },
   {
    "duration": 0,
    "start_time": "2022-05-20T04:06:13.246Z"
   },
   {
    "duration": 0,
    "start_time": "2022-05-20T04:06:13.247Z"
   },
   {
    "duration": 0,
    "start_time": "2022-05-20T04:06:13.248Z"
   },
   {
    "duration": 9,
    "start_time": "2022-05-20T04:06:52.860Z"
   },
   {
    "duration": 3,
    "start_time": "2022-05-20T04:07:15.081Z"
   },
   {
    "duration": 137,
    "start_time": "2022-05-20T04:07:17.282Z"
   },
   {
    "duration": 36,
    "start_time": "2022-05-20T04:07:29.985Z"
   },
   {
    "duration": 22,
    "start_time": "2022-05-20T04:07:39.761Z"
   },
   {
    "duration": 16,
    "start_time": "2022-05-20T04:07:43.088Z"
   },
   {
    "duration": 45,
    "start_time": "2022-05-20T04:07:46.241Z"
   },
   {
    "duration": 18,
    "start_time": "2022-05-20T04:07:50.401Z"
   },
   {
    "duration": 53,
    "start_time": "2022-05-20T04:07:52.989Z"
   },
   {
    "duration": 13,
    "start_time": "2022-05-20T04:07:56.977Z"
   },
   {
    "duration": 14,
    "start_time": "2022-05-20T04:07:59.906Z"
   },
   {
    "duration": 11,
    "start_time": "2022-05-20T04:08:05.627Z"
   },
   {
    "duration": 9,
    "start_time": "2022-05-20T04:08:07.706Z"
   },
   {
    "duration": 13,
    "start_time": "2022-05-20T04:08:11.440Z"
   },
   {
    "duration": 15,
    "start_time": "2022-05-20T04:08:14.258Z"
   },
   {
    "duration": 22,
    "start_time": "2022-05-20T04:08:21.218Z"
   },
   {
    "duration": 30,
    "start_time": "2022-05-20T04:09:08.606Z"
   },
   {
    "duration": 5,
    "start_time": "2022-05-20T04:09:21.362Z"
   },
   {
    "duration": 34,
    "start_time": "2022-05-20T04:09:24.252Z"
   },
   {
    "duration": 311,
    "start_time": "2022-05-20T04:09:33.255Z"
   },
   {
    "duration": 9,
    "start_time": "2022-05-20T04:09:37.166Z"
   },
   {
    "duration": 382,
    "start_time": "2022-05-20T04:09:43.567Z"
   },
   {
    "duration": 223,
    "start_time": "2022-05-20T04:09:50.015Z"
   },
   {
    "duration": 338,
    "start_time": "2022-05-20T04:09:54.774Z"
   },
   {
    "duration": 215,
    "start_time": "2022-05-20T04:09:58.658Z"
   },
   {
    "duration": 448,
    "start_time": "2022-05-20T04:10:02.903Z"
   },
   {
    "duration": 16,
    "start_time": "2022-05-20T04:10:15.080Z"
   },
   {
    "duration": 124,
    "start_time": "2022-05-20T04:10:19.343Z"
   },
   {
    "duration": 143,
    "start_time": "2022-05-20T04:10:22.320Z"
   },
   {
    "duration": 9,
    "start_time": "2022-05-20T04:10:25.057Z"
   },
   {
    "duration": 227,
    "start_time": "2022-05-20T04:10:27.430Z"
   },
   {
    "duration": 311,
    "start_time": "2022-05-20T04:10:33.328Z"
   },
   {
    "duration": 10,
    "start_time": "2022-05-20T04:10:37.611Z"
   },
   {
    "duration": 215,
    "start_time": "2022-05-20T04:10:39.793Z"
   },
   {
    "duration": 224,
    "start_time": "2022-05-20T04:10:43.202Z"
   },
   {
    "duration": 208,
    "start_time": "2022-05-20T04:10:46.297Z"
   },
   {
    "duration": 227,
    "start_time": "2022-05-20T04:10:49.003Z"
   },
   {
    "duration": 214,
    "start_time": "2022-05-20T04:10:53.368Z"
   },
   {
    "duration": 211,
    "start_time": "2022-05-20T04:10:56.957Z"
   },
   {
    "duration": 327,
    "start_time": "2022-05-20T04:11:00.138Z"
   },
   {
    "duration": 226,
    "start_time": "2022-05-20T04:11:03.385Z"
   },
   {
    "duration": 201,
    "start_time": "2022-05-20T04:11:06.384Z"
   },
   {
    "duration": 214,
    "start_time": "2022-05-20T04:11:08.954Z"
   },
   {
    "duration": 217,
    "start_time": "2022-05-20T04:11:11.955Z"
   },
   {
    "duration": 234,
    "start_time": "2022-05-20T04:11:14.577Z"
   },
   {
    "duration": 228,
    "start_time": "2022-05-20T04:11:25.360Z"
   },
   {
    "duration": 349,
    "start_time": "2022-05-20T04:11:28.843Z"
   },
   {
    "duration": 293,
    "start_time": "2022-05-20T04:11:32.076Z"
   },
   {
    "duration": 10,
    "start_time": "2022-05-20T04:11:35.466Z"
   },
   {
    "duration": 6,
    "start_time": "2022-05-20T04:11:57.349Z"
   },
   {
    "duration": 185,
    "start_time": "2022-05-20T04:12:11.618Z"
   },
   {
    "duration": 188,
    "start_time": "2022-05-20T04:12:52.253Z"
   },
   {
    "duration": 190,
    "start_time": "2022-05-20T04:12:55.427Z"
   },
   {
    "duration": 15,
    "start_time": "2022-05-20T04:12:58.548Z"
   },
   {
    "duration": 11,
    "start_time": "2022-05-20T04:14:02.342Z"
   },
   {
    "duration": 11,
    "start_time": "2022-05-20T04:14:37.457Z"
   },
   {
    "duration": 11,
    "start_time": "2022-05-20T04:14:54.223Z"
   },
   {
    "duration": 46,
    "start_time": "2022-05-20T04:20:12.109Z"
   },
   {
    "duration": 57,
    "start_time": "2022-05-20T04:20:14.881Z"
   },
   {
    "duration": 705,
    "start_time": "2022-05-20T04:30:44.272Z"
   },
   {
    "duration": 126,
    "start_time": "2022-05-20T04:30:46.841Z"
   },
   {
    "duration": 26,
    "start_time": "2022-05-20T04:30:58.720Z"
   },
   {
    "duration": 22,
    "start_time": "2022-05-20T04:30:59.742Z"
   },
   {
    "duration": 18,
    "start_time": "2022-05-20T04:31:00.029Z"
   },
   {
    "duration": 49,
    "start_time": "2022-05-20T04:31:00.164Z"
   },
   {
    "duration": 3,
    "start_time": "2022-05-20T04:31:00.381Z"
   },
   {
    "duration": 15,
    "start_time": "2022-05-20T04:31:00.554Z"
   },
   {
    "duration": 46,
    "start_time": "2022-05-20T04:31:00.814Z"
   },
   {
    "duration": 11,
    "start_time": "2022-05-20T04:31:00.993Z"
   },
   {
    "duration": 18,
    "start_time": "2022-05-20T04:31:01.175Z"
   },
   {
    "duration": 3,
    "start_time": "2022-05-20T04:31:01.386Z"
   },
   {
    "duration": 10,
    "start_time": "2022-05-20T04:31:01.577Z"
   },
   {
    "duration": 9,
    "start_time": "2022-05-20T04:31:01.784Z"
   },
   {
    "duration": 4,
    "start_time": "2022-05-20T04:31:02.018Z"
   },
   {
    "duration": 12,
    "start_time": "2022-05-20T04:31:02.173Z"
   },
   {
    "duration": 13,
    "start_time": "2022-05-20T04:31:02.391Z"
   },
   {
    "duration": 25,
    "start_time": "2022-05-20T04:31:02.956Z"
   },
   {
    "duration": 6,
    "start_time": "2022-05-20T04:31:03.938Z"
   },
   {
    "duration": 36,
    "start_time": "2022-05-20T04:31:04.196Z"
   },
   {
    "duration": 366,
    "start_time": "2022-05-20T04:31:04.344Z"
   },
   {
    "duration": 6,
    "start_time": "2022-05-20T04:31:04.712Z"
   },
   {
    "duration": 222,
    "start_time": "2022-05-20T04:31:05.558Z"
   },
   {
    "duration": 234,
    "start_time": "2022-05-20T04:31:07.113Z"
   },
   {
    "duration": 301,
    "start_time": "2022-05-20T04:31:09.071Z"
   },
   {
    "duration": 294,
    "start_time": "2022-05-20T04:31:10.497Z"
   },
   {
    "duration": 488,
    "start_time": "2022-05-20T04:31:12.906Z"
   },
   {
    "duration": 17,
    "start_time": "2022-05-20T04:31:16.546Z"
   },
   {
    "duration": 111,
    "start_time": "2022-05-20T04:31:17.289Z"
   },
   {
    "duration": 132,
    "start_time": "2022-05-20T04:31:19.109Z"
   },
   {
    "duration": 9,
    "start_time": "2022-05-20T04:31:21.075Z"
   },
   {
    "duration": 247,
    "start_time": "2022-05-20T04:31:21.590Z"
   },
   {
    "duration": 234,
    "start_time": "2022-05-20T04:31:22.673Z"
   },
   {
    "duration": 11,
    "start_time": "2022-05-20T04:31:23.058Z"
   },
   {
    "duration": 337,
    "start_time": "2022-05-20T04:31:23.244Z"
   },
   {
    "duration": 245,
    "start_time": "2022-05-20T04:31:23.830Z"
   },
   {
    "duration": 239,
    "start_time": "2022-05-20T04:31:25.049Z"
   },
   {
    "duration": 260,
    "start_time": "2022-05-20T04:31:25.944Z"
   },
   {
    "duration": 226,
    "start_time": "2022-05-20T04:31:27.104Z"
   },
   {
    "duration": 225,
    "start_time": "2022-05-20T04:31:28.412Z"
   },
   {
    "duration": 220,
    "start_time": "2022-05-20T04:31:29.751Z"
   },
   {
    "duration": 314,
    "start_time": "2022-05-20T04:31:30.852Z"
   },
   {
    "duration": 206,
    "start_time": "2022-05-20T04:31:32.182Z"
   },
   {
    "duration": 258,
    "start_time": "2022-05-20T04:31:32.582Z"
   },
   {
    "duration": 253,
    "start_time": "2022-05-20T04:31:32.926Z"
   },
   {
    "duration": 275,
    "start_time": "2022-05-20T04:31:33.290Z"
   },
   {
    "duration": 3,
    "start_time": "2022-05-20T04:31:52.447Z"
   },
   {
    "duration": 266,
    "start_time": "2022-05-20T04:31:54.321Z"
   },
   {
    "duration": 279,
    "start_time": "2022-05-20T04:31:55.636Z"
   },
   {
    "duration": 429,
    "start_time": "2022-05-20T04:31:56.912Z"
   },
   {
    "duration": 11,
    "start_time": "2022-05-20T04:31:57.797Z"
   },
   {
    "duration": 184,
    "start_time": "2022-05-20T04:32:00.468Z"
   },
   {
    "duration": 186,
    "start_time": "2022-05-20T04:32:02.938Z"
   },
   {
    "duration": 209,
    "start_time": "2022-05-20T04:32:04.310Z"
   },
   {
    "duration": 12,
    "start_time": "2022-05-20T04:32:04.832Z"
   },
   {
    "duration": 0,
    "start_time": "2022-05-20T04:37:01.019Z"
   },
   {
    "duration": 0,
    "start_time": "2022-05-20T04:37:01.026Z"
   },
   {
    "duration": 0,
    "start_time": "2022-05-20T04:37:01.027Z"
   },
   {
    "duration": 22,
    "start_time": "2022-05-20T04:37:35.482Z"
   },
   {
    "duration": 74,
    "start_time": "2022-05-20T04:37:40.908Z"
   },
   {
    "duration": 40,
    "start_time": "2022-05-20T04:38:39.621Z"
   },
   {
    "duration": 59,
    "start_time": "2022-05-20T05:03:04.830Z"
   },
   {
    "duration": 48,
    "start_time": "2022-05-20T05:06:49.431Z"
   },
   {
    "duration": 25,
    "start_time": "2022-05-20T05:07:33.957Z"
   },
   {
    "duration": 355,
    "start_time": "2022-05-20T05:07:48.230Z"
   },
   {
    "duration": 25,
    "start_time": "2022-05-20T05:10:09.844Z"
   },
   {
    "duration": 42,
    "start_time": "2022-05-20T05:10:13.799Z"
   },
   {
    "duration": 33,
    "start_time": "2022-05-20T05:10:43.352Z"
   },
   {
    "duration": 202,
    "start_time": "2022-05-20T05:13:41.357Z"
   },
   {
    "duration": 345,
    "start_time": "2022-05-20T05:14:44.206Z"
   },
   {
    "duration": 9,
    "start_time": "2022-05-20T05:14:53.412Z"
   },
   {
    "duration": 222,
    "start_time": "2022-05-20T05:14:55.142Z"
   },
   {
    "duration": 219,
    "start_time": "2022-05-20T05:14:56.822Z"
   },
   {
    "duration": 248,
    "start_time": "2022-05-20T05:15:02.636Z"
   },
   {
    "duration": 235,
    "start_time": "2022-05-20T05:15:04.009Z"
   },
   {
    "duration": 155,
    "start_time": "2022-05-20T05:15:06.382Z"
   },
   {
    "duration": 846,
    "start_time": "2022-05-20T14:20:42.770Z"
   },
   {
    "duration": 342,
    "start_time": "2022-05-20T14:20:43.618Z"
   },
   {
    "duration": 24,
    "start_time": "2022-05-20T14:20:43.962Z"
   },
   {
    "duration": 26,
    "start_time": "2022-05-20T14:20:43.988Z"
   },
   {
    "duration": 19,
    "start_time": "2022-05-20T14:20:44.015Z"
   },
   {
    "duration": 57,
    "start_time": "2022-05-20T14:20:44.035Z"
   },
   {
    "duration": 19,
    "start_time": "2022-05-20T14:20:44.093Z"
   },
   {
    "duration": 46,
    "start_time": "2022-05-20T14:20:44.114Z"
   },
   {
    "duration": 47,
    "start_time": "2022-05-20T14:20:44.162Z"
   },
   {
    "duration": 9,
    "start_time": "2022-05-20T14:20:44.212Z"
   },
   {
    "duration": 24,
    "start_time": "2022-05-20T14:20:44.222Z"
   },
   {
    "duration": 16,
    "start_time": "2022-05-20T14:20:44.247Z"
   },
   {
    "duration": 28,
    "start_time": "2022-05-20T14:20:44.265Z"
   },
   {
    "duration": 27,
    "start_time": "2022-05-20T14:20:44.294Z"
   },
   {
    "duration": 29,
    "start_time": "2022-05-20T14:20:44.322Z"
   },
   {
    "duration": 33,
    "start_time": "2022-05-20T14:20:44.353Z"
   },
   {
    "duration": 35,
    "start_time": "2022-05-20T14:20:44.388Z"
   },
   {
    "duration": 26,
    "start_time": "2022-05-20T14:20:44.425Z"
   },
   {
    "duration": 3,
    "start_time": "2022-05-20T14:20:44.453Z"
   },
   {
    "duration": 59,
    "start_time": "2022-05-20T14:20:44.457Z"
   },
   {
    "duration": 276,
    "start_time": "2022-05-20T14:20:44.517Z"
   },
   {
    "duration": 7,
    "start_time": "2022-05-20T14:20:44.794Z"
   },
   {
    "duration": 224,
    "start_time": "2022-05-20T14:20:44.802Z"
   },
   {
    "duration": 226,
    "start_time": "2022-05-20T14:20:45.028Z"
   },
   {
    "duration": 245,
    "start_time": "2022-05-20T14:20:45.259Z"
   },
   {
    "duration": 269,
    "start_time": "2022-05-20T14:20:45.506Z"
   },
   {
    "duration": 397,
    "start_time": "2022-05-20T14:20:45.776Z"
   },
   {
    "duration": 13,
    "start_time": "2022-05-20T14:20:46.178Z"
   },
   {
    "duration": 116,
    "start_time": "2022-05-20T14:20:46.192Z"
   },
   {
    "duration": 129,
    "start_time": "2022-05-20T14:20:46.310Z"
   },
   {
    "duration": 19,
    "start_time": "2022-05-20T14:20:46.440Z"
   },
   {
    "duration": 219,
    "start_time": "2022-05-20T14:20:46.461Z"
   },
   {
    "duration": 208,
    "start_time": "2022-05-20T14:20:46.682Z"
   },
   {
    "duration": 10,
    "start_time": "2022-05-20T14:20:46.892Z"
   },
   {
    "duration": 315,
    "start_time": "2022-05-20T14:20:46.903Z"
   },
   {
    "duration": 210,
    "start_time": "2022-05-20T14:20:47.220Z"
   },
   {
    "duration": 216,
    "start_time": "2022-05-20T14:20:47.432Z"
   },
   {
    "duration": 257,
    "start_time": "2022-05-20T14:20:47.649Z"
   },
   {
    "duration": 255,
    "start_time": "2022-05-20T14:20:47.908Z"
   },
   {
    "duration": 199,
    "start_time": "2022-05-20T14:20:48.165Z"
   },
   {
    "duration": 255,
    "start_time": "2022-05-20T14:20:48.366Z"
   },
   {
    "duration": 315,
    "start_time": "2022-05-20T14:20:48.623Z"
   },
   {
    "duration": 234,
    "start_time": "2022-05-20T14:20:48.940Z"
   },
   {
    "duration": 220,
    "start_time": "2022-05-20T14:20:49.177Z"
   },
   {
    "duration": 206,
    "start_time": "2022-05-20T14:20:49.398Z"
   },
   {
    "duration": 213,
    "start_time": "2022-05-20T14:20:49.606Z"
   },
   {
    "duration": 2,
    "start_time": "2022-05-20T14:20:49.821Z"
   },
   {
    "duration": 249,
    "start_time": "2022-05-20T14:20:49.824Z"
   },
   {
    "duration": 269,
    "start_time": "2022-05-20T14:20:50.075Z"
   },
   {
    "duration": 389,
    "start_time": "2022-05-20T14:20:50.346Z"
   },
   {
    "duration": 10,
    "start_time": "2022-05-20T14:20:50.739Z"
   },
   {
    "duration": 188,
    "start_time": "2022-05-20T14:20:50.760Z"
   },
   {
    "duration": 218,
    "start_time": "2022-05-20T14:20:50.951Z"
   },
   {
    "duration": 175,
    "start_time": "2022-05-20T14:20:51.171Z"
   },
   {
    "duration": 14,
    "start_time": "2022-05-20T14:20:51.348Z"
   },
   {
    "duration": 28,
    "start_time": "2022-05-20T14:20:51.363Z"
   },
   {
    "duration": 84,
    "start_time": "2022-05-20T14:20:51.392Z"
   },
   {
    "duration": 248,
    "start_time": "2022-05-20T14:20:51.478Z"
   },
   {
    "duration": 310,
    "start_time": "2022-05-20T14:20:51.727Z"
   },
   {
    "duration": 9,
    "start_time": "2022-05-20T14:20:52.039Z"
   },
   {
    "duration": 235,
    "start_time": "2022-05-20T14:20:52.060Z"
   },
   {
    "duration": 230,
    "start_time": "2022-05-20T14:20:52.297Z"
   },
   {
    "duration": 256,
    "start_time": "2022-05-20T14:20:52.529Z"
   },
   {
    "duration": 229,
    "start_time": "2022-05-20T14:20:52.786Z"
   },
   {
    "duration": 269,
    "start_time": "2022-05-20T14:20:53.017Z"
   },
   {
    "duration": 31,
    "start_time": "2022-05-20T14:20:53.287Z"
   },
   {
    "duration": 152,
    "start_time": "2022-05-20T14:20:53.321Z"
   },
   {
    "duration": 42,
    "start_time": "2022-05-20T14:20:53.474Z"
   },
   {
    "duration": 41,
    "start_time": "2022-05-20T14:22:56.012Z"
   },
   {
    "duration": 21,
    "start_time": "2022-05-20T14:23:13.219Z"
   },
   {
    "duration": 152,
    "start_time": "2022-05-20T14:23:27.243Z"
   },
   {
    "duration": 165,
    "start_time": "2022-05-20T14:23:46.108Z"
   },
   {
    "duration": 148,
    "start_time": "2022-05-20T14:23:57.074Z"
   },
   {
    "duration": 6,
    "start_time": "2022-05-20T14:26:27.809Z"
   },
   {
    "duration": 8,
    "start_time": "2022-05-20T14:26:33.048Z"
   },
   {
    "duration": 13,
    "start_time": "2022-05-20T14:27:10.369Z"
   },
   {
    "duration": 132,
    "start_time": "2022-05-20T14:27:18.649Z"
   },
   {
    "duration": 110,
    "start_time": "2022-05-20T14:28:22.216Z"
   },
   {
    "duration": 112,
    "start_time": "2022-05-20T14:30:28.478Z"
   },
   {
    "duration": 236,
    "start_time": "2022-05-20T14:33:29.689Z"
   },
   {
    "duration": 157,
    "start_time": "2022-05-20T14:34:02.021Z"
   }
  ],
  "kernelspec": {
   "display_name": "Python 3 (ipykernel)",
   "language": "python",
   "name": "python3"
  },
  "language_info": {
   "codemirror_mode": {
    "name": "ipython",
    "version": 3
   },
   "file_extension": ".py",
   "mimetype": "text/x-python",
   "name": "python",
   "nbconvert_exporter": "python",
   "pygments_lexer": "ipython3",
   "version": "3.9.13"
  },
  "toc": {
   "base_numbering": 1,
   "nav_menu": {},
   "number_sections": true,
   "sideBar": true,
   "skip_h1_title": true,
   "title_cell": "Содержание",
   "title_sidebar": "Contents",
   "toc_cell": true,
   "toc_position": {},
   "toc_section_display": true,
   "toc_window_display": true
  }
 },
 "nbformat": 4,
 "nbformat_minor": 4
}
